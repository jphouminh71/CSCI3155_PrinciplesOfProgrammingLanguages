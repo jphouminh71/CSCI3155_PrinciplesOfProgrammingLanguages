{
 "cells": [
  {
   "cell_type": "code",
   "execution_count": 7,
   "metadata": {},
   "outputs": [
    {
     "name": "stdout",
     "output_type": "stream",
     "text": [
      "a , a\n",
      "b , b\n",
      "c\n"
     ]
    },
    {
     "data": {
      "text/plain": [
       "\u001b[36ms\u001b[39m: \u001b[32mString\u001b[39m = \u001b[32m\"abcba\"\u001b[39m\n",
       "defined \u001b[32mfunction\u001b[39m \u001b[36mprinti\u001b[39m"
      ]
     },
     "execution_count": 7,
     "metadata": {},
     "output_type": "execute_result"
    }
   ],
   "source": [
    "val s = \"abcba\";\n",
    "\n",
    "def printi(s:String): Unit = {\n",
    "    if (s.size == 1){\n",
    "        println(s(0));\n",
    "    }\n",
    "    \n",
    "    else{\n",
    "        println(\"%s , %s\" format(s(0),s(s.size-1)));\n",
    "        printi(s.slice(1,s.size-1));\n",
    "    }\n",
    "}\n",
    "\n",
    "printi(s);"
   ]
  },
  {
   "cell_type": "code",
   "execution_count": 11,
   "metadata": {},
   "outputs": [
    {
     "name": "stdout",
     "output_type": "stream",
     "text": [
      "5\n"
     ]
    },
    {
     "data": {
      "text/plain": [
       "\u001b[36ms\u001b[39m: \u001b[32mString\u001b[39m = \u001b[32m\"abcba\"\u001b[39m"
      ]
     },
     "execution_count": 11,
     "metadata": {},
     "output_type": "execute_result"
    }
   ],
   "source": [
    "val s = \"abcba\";\n",
    "println(s.size);"
   ]
  },
  {
   "cell_type": "code",
   "execution_count": 12,
   "metadata": {},
   "outputs": [
    {
     "name": "stdout",
     "output_type": "stream",
     "text": [
      "100.0\n"
     ]
    }
   ],
   "source": [
    "\n",
    "println(scala.math.pow(10,2));"
   ]
  },
  {
   "cell_type": "code",
   "execution_count": 0,
   "metadata": {},
   "outputs": [
    {
     "name": "stderr",
     "output_type": "stream",
     "text": [
      "cmd0.sc:2: reassignment to val\n",
      "val res0_1 = x = \"World\"\n",
      "               ^Compilation Failed"
     ]
    },
    {
     "ename": "",
     "evalue": "",
     "output_type": "error",
     "traceback": [
      "Compilation Failed"
     ]
    }
   ],
   "source": [
    "val x  = \"Hello\"\n",
    "x = \"World\"\n",
    "print(x)"
   ]
  },
  {
   "cell_type": "code",
   "execution_count": 6,
   "metadata": {},
   "outputs": [
    {
     "name": "stdout",
     "output_type": "stream",
     "text": [
      "5\n",
      "12\n"
     ]
    },
    {
     "data": {
      "text/plain": [
       "defined \u001b[32mfunction\u001b[39m \u001b[36mfoo\u001b[39m\n",
       "defined \u001b[32mfunction\u001b[39m \u001b[36mbar\u001b[39m\n",
       "defined \u001b[32mfunction\u001b[39m \u001b[36mbaz\u001b[39m\n",
       "\u001b[36mstringy\u001b[39m: \u001b[32mString\u001b[39m = \u001b[32m\"hello\"\u001b[39m\n",
       "\u001b[36mnewStringy\u001b[39m: \u001b[32mInt\u001b[39m = \u001b[32m12\u001b[39m"
      ]
     },
     "execution_count": 6,
     "metadata": {},
     "output_type": "execute_result"
    }
   ],
   "source": [
    "def foo(x: Int): Int = x + 2\n",
    "\n",
    "def bar(y: String): String = \"Hello\" + y\n",
    "\n",
    "def baz(z: String): Int = {\n",
    "\n",
    "      val str1 = bar(z)\n",
    "\n",
    "      val siz1 = str1.size\n",
    "      foo(siz1); \n",
    "\n",
    "}\n",
    "\n",
    "val stringy = \"hello\";\n",
    "\n",
    "println(stringy.length)\n",
    "val newStringy = baz(stringy)\n",
    "println(newStringy);\n"
   ]
  },
  {
   "cell_type": "code",
   "execution_count": 21,
   "metadata": {},
   "outputs": [
    {
     "name": "stdout",
     "output_type": "stream",
     "text": [
      "(CURRENT VALUE: ,11)\n",
      "(RECURSION DEPTH: ,6)\n"
     ]
    },
    {
     "data": {
      "text/html": [
       "<div class=\"jp-RenderedText\">\n",
       "<pre><code><span style=\"color: rgb(0, 187, 0)\"><span class=\"ansi-green-fg\">import </span></span><span style=\"color: rgb(0, 187, 187)\"><span class=\"ansi-cyan-fg\">scala.math\n",
       "</span></span>\n",
       "<span style=\"color: rgb(0, 187, 187)\"><span class=\"ansi-cyan-fg\">counter</span></span>: <span style=\"color: rgb(0, 187, 0)\"><span class=\"ansi-green-fg\">Int</span></span> = <span style=\"color: rgb(0, 187, 0)\"><span class=\"ansi-green-fg\">6</span></span>\n",
       "defined <span style=\"color: rgb(0, 187, 0)\"><span class=\"ansi-green-fg\">function</span></span> <span style=\"color: rgb(0, 187, 187)\"><span class=\"ansi-cyan-fg\">power</span></span>\n",
       "defined <span style=\"color: rgb(0, 187, 0)\"><span class=\"ansi-green-fg\">function</span></span> <span style=\"color: rgb(0, 187, 187)\"><span class=\"ansi-cyan-fg\">foo</span></span>\n",
       "<span style=\"color: rgb(0, 187, 187)\"><span class=\"ansi-cyan-fg\">value</span></span>: <span style=\"color: rgb(0, 187, 0)\"><span class=\"ansi-green-fg\">Int</span></span> = <span style=\"color: rgb(0, 187, 0)\"><span class=\"ansi-green-fg\">11</span></span>\n",
       "<span style=\"color: rgb(0, 187, 187)\"><span class=\"ansi-cyan-fg\">res20_5</span></span>: <span style=\"color: rgb(0, 187, 0)\"><span class=\"ansi-green-fg\">Int</span></span> = <span style=\"color: rgb(0, 187, 0)\"><span class=\"ansi-green-fg\">16</span></span></code></pre>\n",
       "</div>"
      ],
      "text/plain": [
       "\u001b[32mimport \u001b[39m\u001b[36mscala.math\n",
       "\u001b[39m\n",
       "\u001b[36mcounter\u001b[39m: \u001b[32mInt\u001b[39m = \u001b[32m6\u001b[39m\n",
       "defined \u001b[32mfunction\u001b[39m \u001b[36mpower\u001b[39m\n",
       "defined \u001b[32mfunction\u001b[39m \u001b[36mfoo\u001b[39m\n",
       "\u001b[36mvalue\u001b[39m: \u001b[32mInt\u001b[39m = \u001b[32m11\u001b[39m\n",
       "\u001b[36mres20_5\u001b[39m: \u001b[32mInt\u001b[39m = \u001b[32m16\u001b[39m"
      ]
     },
     "metadata": {},
     "output_type": "display_data"
    }
   ],
   "source": [
    "import scala.math\n",
    "var counter = 1\n",
    "def power(x: Int): Boolean = {\n",
    "    if (x == 0){\n",
    "        return false\n",
    "    }\n",
    "    else if (x == 1){\n",
    "        return true\n",
    "    }\n",
    "    else if ( x % 2 == 1){\n",
    "        return false\n",
    "    }\n",
    "    else{\n",
    "        \n",
    "        return power(x/2);\n",
    "    }\n",
    "}\n",
    "\n",
    "def foo(x:Int): Int = {\n",
    "    if (power(x) == true){\n",
    "        return x\n",
    "    }\n",
    "    else{\n",
    "        counter = counter + 1\n",
    "        foo(x+1)\n",
    "    }\n",
    "}\n",
    "\n",
    "val value = 11; \n",
    "foo(value)\n",
    "println(\"CURRENT VALUE: \", value)\n",
    "println(\"RECURSION DEPTH: \", counter)"
   ]
  },
  {
   "cell_type": "code",
   "execution_count": 22,
   "metadata": {},
   "outputs": [
    {
     "name": "stdout",
     "output_type": "stream",
     "text": [
      "2048.0\n"
     ]
    }
   ],
   "source": [
    "println(math.pow(2,11))"
   ]
  },
  {
   "cell_type": "code",
   "execution_count": 6,
   "metadata": {},
   "outputs": [
    {
     "name": "stdout",
     "output_type": "stream",
     "text": [
      "h\n",
      "llo\n"
     ]
    },
    {
     "data": {
      "text/html": [
       "<div class=\"jp-RenderedText\">\n",
       "<pre><code><span style=\"color: rgb(0, 187, 187)\"><span class=\"ansi-cyan-fg\">myString</span></span>: <span style=\"color: rgb(0, 187, 0)\"><span class=\"ansi-green-fg\">String</span></span> = <span style=\"color: rgb(0, 187, 0)\"><span class=\"ansi-green-fg\">&quot;hello&quot;</span></span></code></pre>\n",
       "</div>"
      ],
      "text/plain": [
       "\u001b[36mmyString\u001b[39m: \u001b[32mString\u001b[39m = \u001b[32m\"hello\"\u001b[39m"
      ]
     },
     "metadata": {},
     "output_type": "display_data"
    }
   ],
   "source": [
    "var myString = \"hello\"\n",
    "\n",
    "println(myString(0))\n",
    "println(myString.substring(2))  // cut off all indecies up to the specified "
   ]
  },
  {
   "cell_type": "code",
   "execution_count": 2,
   "metadata": {},
   "outputs": [
    {
     "name": "stdout",
     "output_type": "stream",
     "text": [
      "10hello\n",
      "hello10\n"
     ]
    },
    {
     "data": {
      "text/plain": [
       "\u001b[36mten\u001b[39m: \u001b[32mInt\u001b[39m = \u001b[32m10\u001b[39m\n",
       "\u001b[36mstring\u001b[39m: \u001b[32mString\u001b[39m = \u001b[32m\"hello\"\u001b[39m"
      ]
     },
     "execution_count": 2,
     "metadata": {},
     "output_type": "execute_result"
    }
   ],
   "source": [
    "val ten = 10 \n",
    "val string = \"hello\"\n",
    "\n",
    "println(ten+string)\n",
    "println(string+ten)"
   ]
  },
  {
   "cell_type": "markdown",
   "metadata": {
    "collapsed": true
   },
   "source": [
    "# Trying to understand currying"
   ]
  },
  {
   "cell_type": "code",
   "execution_count": 8,
   "metadata": {},
   "outputs": [
    {
     "name": "stderr",
     "output_type": "stream",
     "text": [
      "(console):16:24 expected \")\"\n",
      "def addCurry2(x: Int)( (y) => x + y)\n",
      "                       ^"
     ]
    },
    {
     "ename": "",
     "evalue": "",
     "output_type": "error",
     "traceback": [
      "(console):16:24 expected \")\"\ndef addCurry2(x: Int)( (y) => x + y)\n                       ^"
     ]
    }
   ],
   "source": [
    "def addFunction(x: Int, y: Int): Int = {\n",
    "    x + y\n",
    "}\n",
    "\n",
    "\n",
    "/* \n",
    "    The idea is that you still need to pass all the parameters but, the first parameter \n",
    "    is a function that returns another function \n",
    "*/\n",
    "def addCurry(x:Int)(y: Int) = {\n",
    "    x + y\n",
    "}\n",
    "\n",
    "// trying to make the above code resemble how a foldLeft function works \n",
    "\n",
    "def addCurry2(x: Int)( (y) => x + y)\n",
    "\n",
    "val addy = addFunction( 10, 10)\n",
    "val xCall = addCurry(10)_\n",
    "print(xCall)"
   ]
  },
  {
   "cell_type": "markdown",
   "metadata": {},
   "source": [
    "# Now lets try to understand how the foldleft works"
   ]
  },
  {
   "cell_type": "code",
   "execution_count": 8,
   "metadata": {},
   "outputs": [
    {
     "data": {
      "text/plain": [
       "\u001b[36mmyList\u001b[39m: \u001b[32mList\u001b[39m[\u001b[32mInt\u001b[39m] = \u001b[33mList\u001b[39m(\u001b[32m1\u001b[39m, \u001b[32m2\u001b[39m, \u001b[32m3\u001b[39m, \u001b[32m4\u001b[39m)\n",
       "\u001b[36msummy\u001b[39m: \u001b[32mInt\u001b[39m = \u001b[32m10\u001b[39m"
      ]
     },
     "execution_count": 8,
     "metadata": {},
     "output_type": "execute_result"
    }
   ],
   "source": [
    "val myList = List(1,2,3,4)\n",
    "val summy = myList.foldLeft(0)((acc,currentItem) => currentItem + acc)\n",
    "\n"
   ]
  },
  {
   "cell_type": "code",
   "execution_count": null,
   "metadata": {
    "collapsed": true
   },
   "outputs": [],
   "source": []
  }
 ],
 "metadata": {
  "kernelspec": {
   "display_name": "Scala",
   "language": "scala",
   "name": "scala"
  },
  "language_info": {
   "codemirror_mode": "text/x-scala",
   "file_extension": ".scala",
   "mimetype": "text/x-scala",
   "name": "scala",
   "nbconvert_exporter": "script",
   "version": "2.12.10"
  }
 },
 "nbformat": 4,
 "nbformat_minor": 2
}
