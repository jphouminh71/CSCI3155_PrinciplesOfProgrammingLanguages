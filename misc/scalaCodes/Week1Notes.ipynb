{
 "cells": [
  {
   "cell_type": "code",
   "execution_count": 4,
   "metadata": {},
   "outputs": [
    {
     "name": "stdout",
     "output_type": "stream",
     "text": [
      "HelloHello\n"
     ]
    },
    {
     "data": {
      "text/plain": [
       "defined \u001b[32mfunction\u001b[39m \u001b[36mdoubleString\u001b[39m\n",
       "\u001b[36mpracticeString\u001b[39m: \u001b[32mString\u001b[39m = \u001b[32m\"Hello\"\u001b[39m\n",
       "\u001b[36mretString\u001b[39m: \u001b[32mString\u001b[39m = \u001b[32m\"HelloHello\"\u001b[39m"
      ]
     },
     "execution_count": 4,
     "metadata": {},
     "output_type": "execute_result"
    }
   ],
   "source": [
    "/* function takes a string and doubles up the string */ \n",
    "def doubleString(givenString: String): String = {\n",
    "    return givenString + givenString; \n",
    "}\n",
    "\n",
    "val practiceString = \"Hello\"; \n",
    "val retString = doubleString(practiceString); \n",
    "println(retString);"
   ]
  },
  {
   "cell_type": "code",
   "execution_count": 6,
   "metadata": {},
   "outputs": [
    {
     "name": "stdout",
     "output_type": "stream",
     "text": [
      "40320\n"
     ]
    },
    {
     "data": {
      "text/plain": [
       "defined \u001b[32mfunction\u001b[39m \u001b[36mloopFactorial\u001b[39m"
      ]
     },
     "execution_count": 6,
     "metadata": {},
     "output_type": "execute_result"
    }
   ],
   "source": [
    "/* computing a factorial with a for loop ,  we will try not to use all kinds of for loops in this class */ \n",
    "def loopFactorial(x:Int): Int = {\n",
    "    // edge case to make sure the value is greater than zero  \n",
    "    if (x <= 0){\n",
    "        return 1;\n",
    "    }\n",
    "    else{\n",
    "        var prod = 1; \n",
    "        // for ( i <- 1 to(x)) , this makes it execute until after x, otherwise x - 1 \n",
    "        for ( i <- 1 to x){   // this loop is inclusive \n",
    "            prod = prod * i; \n",
    "        }\n",
    "        return prod \n",
    "    }\n",
    "} \n",
    "println(loopFactorial(8)); "
   ]
  },
  {
   "cell_type": "code",
   "execution_count": 10,
   "metadata": {},
   "outputs": [
    {
     "name": "stdout",
     "output_type": "stream",
     "text": [
      "40320\n"
     ]
    },
    {
     "data": {
      "text/plain": [
       "defined \u001b[32mfunction\u001b[39m \u001b[36mrecursiveForLoop\u001b[39m"
      ]
     },
     "execution_count": 10,
     "metadata": {},
     "output_type": "execute_result"
    }
   ],
   "source": [
    "/* compute factorial recursively */ \n",
    "def recursiveForLoop(x: Int): Int = {\n",
    "    if (x <= 0){\n",
    "        return 1;\n",
    "    }\n",
    "    else{\n",
    "        return x * recursiveForLoop(x-1); \n",
    "    }\n",
    "}\n",
    "println(recursiveForLoop(8));"
   ]
  },
  {
   "cell_type": "code",
   "execution_count": 18,
   "metadata": {},
   "outputs": [
    {
     "name": "stdout",
     "output_type": "stream",
     "text": [
      "5\n",
      "4\n",
      "3\n",
      "2\n",
      "1\n",
      "Done!\n",
      "printing the countdown recursively\n",
      "5\n",
      "4\n",
      "3\n",
      "2\n",
      "1\n",
      "Done\n"
     ]
    },
    {
     "data": {
      "text/plain": [
       "defined \u001b[32mfunction\u001b[39m \u001b[36mcountdown\u001b[39m\n",
       "defined \u001b[32mfunction\u001b[39m \u001b[36mcountdownRecursive\u001b[39m"
      ]
     },
     "execution_count": 18,
     "metadata": {},
     "output_type": "execute_result"
    }
   ],
   "source": [
    "/* while loops control structure,  again we will not use this in this class */ \n",
    "def countdown(x: Int): Unit = {   // the return type is unit which is alias to returning a void \n",
    "    var y = x \n",
    "    while ( y > 0 ){\n",
    "        println(y); \n",
    "        y = y - 1; \n",
    "    }\n",
    "    println(\"Done!\");\n",
    "}\n",
    "\n",
    "/* converting this function into recurision */ \n",
    "def countdownRecursive(x:Int): Unit = {\n",
    "    if ( x == 0 ){\n",
    "        println(\"Done\");\n",
    "    }\n",
    "    else{\n",
    "        println(x) ;\n",
    "        countdownRecursive(x-1);\n",
    "    }\n",
    "}\n",
    "\n",
    "countdown(5);\n",
    "println(\"printing the countdown recursively\"); \n",
    "countdownRecursive(5);"
   ]
  },
  {
   "cell_type": "code",
   "execution_count": 13,
   "metadata": {},
   "outputs": [
    {
     "data": {
      "text/plain": [
       "defined \u001b[32mfunction\u001b[39m \u001b[36mdoublecall\u001b[39m"
      ]
     },
     "execution_count": 13,
     "metadata": {},
     "output_type": "execute_result"
    }
   ],
   "source": [
    "/* example of passing a function as an argument */ \n",
    "def doublecall(f: Int => Unit, x: Int) = {\n",
    "    f(x); \n",
    "}  // this function doesnt do anything"
   ]
  },
  {
   "cell_type": "code",
   "execution_count": null,
   "metadata": {
    "collapsed": true
   },
   "outputs": [],
   "source": [
    "def foo (x:Int) = x + 1;   // this is an example of how scala will inference the return type of the function "
   ]
  },
  {
   "cell_type": "code",
   "execution_count": 22,
   "metadata": {},
   "outputs": [
    {
     "name": "stdout",
     "output_type": "stream",
     "text": [
      "5\n"
     ]
    },
    {
     "data": {
      "text/plain": [
       "defined \u001b[32mfunction\u001b[39m \u001b[36mdoubleNum\u001b[39m\n",
       "defined \u001b[32mfunction\u001b[39m \u001b[36mprint_five\u001b[39m"
      ]
     },
     "execution_count": 22,
     "metadata": {},
     "output_type": "execute_result"
    }
   ],
   "source": [
    "/* Using functions as part of parameters in other functions */ \n",
    "// just going to make a function that returns the value 5 , dumb example, but just gonna try to make it work \n",
    "\n",
    "def doubleNum(x:Int): Int = {\n",
    "    return x + x; \n",
    "}\n",
    "\n",
    "\n",
    "def print_five(f: Int => Int): Unit = {\n",
    "    val four = f(2); \n",
    "    println(four + 1);\n",
    "}\n",
    "\n",
    "print_five(doubleNum);"
   ]
  },
  {
   "cell_type": "code",
   "execution_count": 39,
   "metadata": {},
   "outputs": [
    {
     "name": "stdout",
     "output_type": "stream",
     "text": [
      "Charlie\n",
      "changing his name\n",
      "Jon\n",
      "(CURRENT AGE: ,25)\n",
      "(NEW AGE: ,25)\n"
     ]
    },
    {
     "data": {
      "text/plain": [
       "defined \u001b[32mclass\u001b[39m \u001b[36mPerson\u001b[39m\n",
       "\u001b[36mnewPerson\u001b[39m: \u001b[32mPerson\u001b[39m = Person named:Jon age: 25\n",
       "\u001b[36mres38_7\u001b[39m: \u001b[32mPerson\u001b[39m = Person named:Jon age: 26"
      ]
     },
     "execution_count": 39,
     "metadata": {},
     "output_type": "execute_result"
    }
   ],
   "source": [
    "/* creating a class in scala */ \n",
    "\n",
    "class Person( var name:String, val age: Int, val height: Int){\n",
    "\n",
    "    // creating a default constructor \n",
    "    def this(a: Int, n: String, h:Int) = {\n",
    "        this(n,a,h); \n",
    "    }\n",
    "    def getAge(): Int = age; // returns the age of the object\n",
    "    def changeName(newName:String) = {\n",
    "        name = newName\n",
    "    }\n",
    "    override def toString(): String = s\"Person named:\"+ name.toString() + \" age: \" + age.toString(); \n",
    "    \n",
    "    // if you have no paranthesis you can call this method with without them too , doing this does sharing \n",
    "    def birthdayImm: Person = new Person(name, age+1, height)\n",
    "}\n",
    "\n",
    "\n",
    "val newPerson = new Person(\"Charlie\",25,63); \n",
    "println(newPerson.name);\n",
    "println(\"changing his name\"); \n",
    "newPerson.changeName(\"Jon\"); \n",
    "println(newPerson.name);\n",
    "\n",
    "println(\"CURRENT AGE: \", newPerson.age);\n",
    "newPerson.birthdayImm;  // incrememnts the age \n",
    "println(\"NEW AGE: \", newPerson.age);\n",
    "\n",
    "//newPerson: Person = ammonite.$sess.cmd23$Helper$Person@4d517776 , all this shit is just the id of the object"
   ]
  },
  {
   "cell_type": "markdown",
   "metadata": {},
   "source": [
    "# Notes \n",
    "\n",
    "- Data Types\n",
    "\n",
    "    - Strings are immutable in scala.\n",
    "        you can only read into positions, but not write into positions \n",
    "            \n",
    "        there are string apis and other ways to create a manipulate strings, such as creating a new string with the minor changes\n",
    "        \n",
    "    - Unit (),  the void type \n",
    "    - Int, Double, Float \n",
    "    - Function Type, for example, look at the countdown function , it returns a Int \n",
    "            val q: Int -> Unit = countDown \n",
    "            so the value q is of the type of the function that it returns\n",
    "            \n",
    "- Using a function as a parameter \n",
    "    - def doubleNum(x:Int): Int = {\n",
    "    return x + x; \n",
    "    }\n",
    "\n",
    "\n",
    "    def print_five(f: Int => Int): Unit = {\n",
    "        val four = f(2); \n",
    "        println(four + 1);\n",
    "    }\n",
    "\n",
    "    print_five(doubleNum);\n",
    "\n",
    "- Creating a tuple \n",
    "    - there are type inference in scala if you dont define you datatypes, so its best to just define the data types on your own \n",
    "    \n",
    "    val qr: (Int, Double) = (5, 6.14); \n",
    "    \n",
    "    \n",
    "    - accessing tuple elements, never create a tuple of more than 4 elements , if you need to then use a list \n",
    "    \n",
    "    - unpacting a tuple \n",
    "    q = (1, 2, 3); \n",
    "    val (z1,z2,z3) = q ;    <--- this just unpacked all the tuple elements into those parameters\n",
    "    \n",
    "    \n",
    "  \n",
    "- Classes in Scala  ( Under the hood, everything in the class is an object ) \n",
    "    - Every type in scala is actually a class \n",
    "    - An object is an instance of a class \n",
    "    - What is a class \n",
    "        - a class is a collection of attributes of an object and a bunch of methods that can be used for that instance \n",
    "        of the object \n",
    "        \n",
    "        - everything in scala is a class \n",
    "           - example, Int are actually a class within themselves because there are built in methods\n",
    "               2.toString();   <- this method converts the integer into a string\n",
    "               \n",
    "    - constructors are automatically created in scala\n",
    "    \n",
    "    - every object has its own method .toString()\n",
    "    \n",
    "- Coding tips \n",
    "    - annotate the shit out of your code \n",
    "    - anything that is mutable , will be mad eimmutable in this course \n",
    "  "
   ]
  },
  {
   "cell_type": "code",
   "execution_count": null,
   "metadata": {
    "collapsed": true
   },
   "outputs": [],
   "source": []
  }
 ],
 "metadata": {
  "kernelspec": {
   "display_name": "Scala",
   "language": "scala",
   "name": "scala"
  },
  "language_info": {
   "codemirror_mode": "text/x-scala",
   "file_extension": ".scala",
   "mimetype": "text/x-scala",
   "name": "scala",
   "nbconvert_exporter": "script",
   "version": "2.12.10"
  }
 },
 "nbformat": 4,
 "nbformat_minor": 2
}
