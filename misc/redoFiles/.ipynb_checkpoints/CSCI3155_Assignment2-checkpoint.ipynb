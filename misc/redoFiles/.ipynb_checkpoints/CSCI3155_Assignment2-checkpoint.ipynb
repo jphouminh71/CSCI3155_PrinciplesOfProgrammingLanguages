{
 "cells": [
  {
   "cell_type": "code",
   "execution_count": null,
   "metadata": {
    "collapsed": true
   },
   "outputs": [],
   "source": []
  },
  {
   "cell_type": "markdown",
   "metadata": {
    "deletable": false,
    "editable": false,
    "nbgrader": {
     "cell_type": "markdown",
     "checksum": "5ff89b158e3ee1650ac4a16590e6aa84",
     "grade": false,
     "grade_id": "cell-e0dcd8e0c2513390",
     "locked": true,
     "schema_version": 3,
     "solution": false
    }
   },
   "source": [
    "# CSCI 3155: Assignment 2\n",
    "\n",
    "Topics covered: recursion and inductive definitions."
   ]
  },
  {
   "cell_type": "markdown",
   "metadata": {},
   "source": [
    "__YOUR NAME HERE__"
   ]
  },
  {
   "cell_type": "code",
   "execution_count": 1,
   "metadata": {
    "deletable": false,
    "editable": false,
    "nbgrader": {
     "cell_type": "code",
     "checksum": "4ffc15be3ea21b520da642991c6905e8",
     "grade": false,
     "grade_id": "cell-0ff5abf81cd57123",
     "locked": true,
     "schema_version": 3,
     "solution": false
    }
   },
   "outputs": [
    {
     "data": {
      "text/plain": [
       "defined \u001b[32mfunction\u001b[39m \u001b[36mpassed\u001b[39m"
      ]
     },
     "execution_count": 1,
     "metadata": {},
     "output_type": "execute_result"
    }
   ],
   "source": [
    "// TEST HELPER: DO NOT EDIT\n",
    "def passed(points: Int) {\n",
    "    require(points >=0)\n",
    "    if (points == 1) print(s\"\\n*** Tests Passed (1 point) ***\\n\")\n",
    "    else print(s\"\\n*** Tests Passed ($points points) ***\\n\")\n",
    "}"
   ]
  },
  {
   "cell_type": "markdown",
   "metadata": {
    "deletable": false,
    "editable": false,
    "nbgrader": {
     "cell_type": "markdown",
     "checksum": "a84c52ca69fd5f33ff4a425cd55e4369",
     "grade": false,
     "grade_id": "cell-edc3a04e8cb8306b",
     "locked": true,
     "schema_version": 3,
     "solution": false
    }
   },
   "source": [
    "## Problem 1 (15 points total)"
   ]
  },
  {
   "cell_type": "markdown",
   "metadata": {
    "deletable": false,
    "editable": false,
    "nbgrader": {
     "cell_type": "markdown",
     "checksum": "8087647d2e99bd968a60d8fa5af0cca5",
     "grade": false,
     "grade_id": "cell-b52581c289282f6d",
     "locked": true,
     "schema_version": 3,
     "solution": false
    }
   },
   "source": [
    "### A (5 points) Recursive `cubeIt`\n",
    "\n",
    "Here is a definition of a recursive function to compute $n^3$ for an integer $n$.\n",
    "\n",
    "$$\\mbox{cubeIt}(n) = \\left\\{ \\begin{array}{ll} \n",
    "0 & \\mbox{if}\\ n = 0 \\\\\n",
    "\\mbox{cubeIt}(n-1) + 3n^2 - 3n + 1,\\ & \\mbox{if}\\ n > 0 \\\\\n",
    "\\mbox{cubeIt}(n+1) - 3 n^2 - 3 n - 1 & \\mbox{if}\\ n < 0 \\\\\n",
    "\\end{array}\\right.$$\n",
    "\n",
    "Implement this recursion as a scala function `cubeIt`. Note (a) your code does not have to be tail recursive (see part B below), and (b) Be careful: `n^2` in scala is not the same as `n*n`. The `^` operator does XOR in scala."
   ]
  },
  {
   "cell_type": "code",
   "execution_count": 2,
   "metadata": {
    "deletable": false,
    "nbgrader": {
     "cell_type": "code",
     "checksum": "eae87d0c714985289ede4e846598c58c",
     "grade": false,
     "grade_id": "answer_1a",
     "locked": false,
     "schema_version": 3,
     "solution": true
    }
   },
   "outputs": [
    {
     "data": {
      "text/plain": [
       "defined \u001b[32mfunction\u001b[39m \u001b[36mcubeIt\u001b[39m"
      ]
     },
     "execution_count": 2,
     "metadata": {},
     "output_type": "execute_result"
    }
   ],
   "source": [
    "def cubeIt(n: Int): Int = { \n",
    "    if (n == 0){\n",
    "        0 \n",
    "    }\n",
    "    else if (n > 0){\n",
    "        cubeIt(n-1) + 3*(n*n) - 3*(n) + 1\n",
    "    }\n",
    "    else{\n",
    "        cubeIt(n-1) - 3*(n*n) - 3*(n) + 1\n",
    "    }\n",
    "}"
   ]
  },
  {
   "cell_type": "code",
   "execution_count": 3,
   "metadata": {
    "deletable": false,
    "editable": false,
    "nbgrader": {
     "cell_type": "code",
     "checksum": "87c9af7c999a454612cca8efb912a854",
     "grade": true,
     "grade_id": "tests_1a",
     "locked": true,
     "points": 5,
     "schema_version": 3,
     "solution": false
    }
   },
   "outputs": [
    {
     "ename": "",
     "evalue": "",
     "output_type": "error",
     "traceback": [
      "\u001b[31mjava.lang.StackOverflowError\u001b[39m\n  ammonite.$sess.cmd1$Helper.cubeIt(\u001b[32mcmd1.sc\u001b[39m:\u001b[32m9\u001b[39m)\n  ammonite.$sess.cmd1$Helper.cubeIt(\u001b[32mcmd1.sc\u001b[39m:\u001b[32m9\u001b[39m)\n  ammonite.$sess.cmd1$Helper.cubeIt(\u001b[32mcmd1.sc\u001b[39m:\u001b[32m9\u001b[39m)\n  ammonite.$sess.cmd1$Helper.cubeIt(\u001b[32mcmd1.sc\u001b[39m:\u001b[32m9\u001b[39m)\n  ammonite.$sess.cmd1$Helper.cubeIt(\u001b[32mcmd1.sc\u001b[39m:\u001b[32m9\u001b[39m)\n  ammonite.$sess.cmd1$Helper.cubeIt(\u001b[32mcmd1.sc\u001b[39m:\u001b[32m9\u001b[39m)\n  ammonite.$sess.cmd1$Helper.cubeIt(\u001b[32mcmd1.sc\u001b[39m:\u001b[32m9\u001b[39m)\n  ammonite.$sess.cmd1$Helper.cubeIt(\u001b[32mcmd1.sc\u001b[39m:\u001b[32m9\u001b[39m)\n  ammonite.$sess.cmd1$Helper.cubeIt(\u001b[32mcmd1.sc\u001b[39m:\u001b[32m9\u001b[39m)\n  ammonite.$sess.cmd1$Helper.cubeIt(\u001b[32mcmd1.sc\u001b[39m:\u001b[32m9\u001b[39m)\n  ammonite.$sess.cmd1$Helper.cubeIt(\u001b[32mcmd1.sc\u001b[39m:\u001b[32m9\u001b[39m)\n  ammonite.$sess.cmd1$Helper.cubeIt(\u001b[32mcmd1.sc\u001b[39m:\u001b[32m9\u001b[39m)\n  ammonite.$sess.cmd1$Helper.cubeIt(\u001b[32mcmd1.sc\u001b[39m:\u001b[32m9\u001b[39m)\n  ammonite.$sess.cmd1$Helper.cubeIt(\u001b[32mcmd1.sc\u001b[39m:\u001b[32m9\u001b[39m)\n  ammonite.$sess.cmd1$Helper.cubeIt(\u001b[32mcmd1.sc\u001b[39m:\u001b[32m9\u001b[39m)\n  ammonite.$sess.cmd1$Helper.cubeIt(\u001b[32mcmd1.sc\u001b[39m:\u001b[32m9\u001b[39m)\n  ammonite.$sess.cmd1$Helper.cubeIt(\u001b[32mcmd1.sc\u001b[39m:\u001b[32m9\u001b[39m)\n  ammonite.$sess.cmd1$Helper.cubeIt(\u001b[32mcmd1.sc\u001b[39m:\u001b[32m9\u001b[39m)\n  ammonite.$sess.cmd1$Helper.cubeIt(\u001b[32mcmd1.sc\u001b[39m:\u001b[32m9\u001b[39m)\n  ammonite.$sess.cmd1$Helper.cubeIt(\u001b[32mcmd1.sc\u001b[39m:\u001b[32m9\u001b[39m)\n  ammonite.$sess.cmd1$Helper.cubeIt(\u001b[32mcmd1.sc\u001b[39m:\u001b[32m9\u001b[39m)\n  ammonite.$sess.cmd1$Helper.cubeIt(\u001b[32mcmd1.sc\u001b[39m:\u001b[32m9\u001b[39m)\n  ammonite.$sess.cmd1$Helper.cubeIt(\u001b[32mcmd1.sc\u001b[39m:\u001b[32m9\u001b[39m)\n  ammonite.$sess.cmd1$Helper.cubeIt(\u001b[32mcmd1.sc\u001b[39m:\u001b[32m9\u001b[39m)\n  ammonite.$sess.cmd1$Helper.cubeIt(\u001b[32mcmd1.sc\u001b[39m:\u001b[32m9\u001b[39m)\n  ammonite.$sess.cmd1$Helper.cubeIt(\u001b[32mcmd1.sc\u001b[39m:\u001b[32m9\u001b[39m)\n  ammonite.$sess.cmd1$Helper.cubeIt(\u001b[32mcmd1.sc\u001b[39m:\u001b[32m9\u001b[39m)\n  ammonite.$sess.cmd1$Helper.cubeIt(\u001b[32mcmd1.sc\u001b[39m:\u001b[32m9\u001b[39m)\n  ammonite.$sess.cmd1$Helper.cubeIt(\u001b[32mcmd1.sc\u001b[39m:\u001b[32m9\u001b[39m)\n  ammonite.$sess.cmd1$Helper.cubeIt(\u001b[32mcmd1.sc\u001b[39m:\u001b[32m9\u001b[39m)\n  ammonite.$sess.cmd1$Helper.cubeIt(\u001b[32mcmd1.sc\u001b[39m:\u001b[32m9\u001b[39m)\n  ammonite.$sess.cmd1$Helper.cubeIt(\u001b[32mcmd1.sc\u001b[39m:\u001b[32m9\u001b[39m)\n  ammonite.$sess.cmd1$Helper.cubeIt(\u001b[32mcmd1.sc\u001b[39m:\u001b[32m9\u001b[39m)\n  ammonite.$sess.cmd1$Helper.cubeIt(\u001b[32mcmd1.sc\u001b[39m:\u001b[32m9\u001b[39m)\n  ammonite.$sess.cmd1$Helper.cubeIt(\u001b[32mcmd1.sc\u001b[39m:\u001b[32m9\u001b[39m)\n  ammonite.$sess.cmd1$Helper.cubeIt(\u001b[32mcmd1.sc\u001b[39m:\u001b[32m9\u001b[39m)\n  ammonite.$sess.cmd1$Helper.cubeIt(\u001b[32mcmd1.sc\u001b[39m:\u001b[32m9\u001b[39m)\n  ammonite.$sess.cmd1$Helper.cubeIt(\u001b[32mcmd1.sc\u001b[39m:\u001b[32m9\u001b[39m)\n  ammonite.$sess.cmd1$Helper.cubeIt(\u001b[32mcmd1.sc\u001b[39m:\u001b[32m9\u001b[39m)\n  ammonite.$sess.cmd1$Helper.cubeIt(\u001b[32mcmd1.sc\u001b[39m:\u001b[32m9\u001b[39m)\n  ammonite.$sess.cmd1$Helper.cubeIt(\u001b[32mcmd1.sc\u001b[39m:\u001b[32m9\u001b[39m)\n  ammonite.$sess.cmd1$Helper.cubeIt(\u001b[32mcmd1.sc\u001b[39m:\u001b[32m9\u001b[39m)\n  ammonite.$sess.cmd1$Helper.cubeIt(\u001b[32mcmd1.sc\u001b[39m:\u001b[32m9\u001b[39m)\n  ammonite.$sess.cmd1$Helper.cubeIt(\u001b[32mcmd1.sc\u001b[39m:\u001b[32m9\u001b[39m)\n  ammonite.$sess.cmd1$Helper.cubeIt(\u001b[32mcmd1.sc\u001b[39m:\u001b[32m9\u001b[39m)\n  ammonite.$sess.cmd1$Helper.cubeIt(\u001b[32mcmd1.sc\u001b[39m:\u001b[32m9\u001b[39m)\n  ammonite.$sess.cmd1$Helper.cubeIt(\u001b[32mcmd1.sc\u001b[39m:\u001b[32m9\u001b[39m)\n  ammonite.$sess.cmd1$Helper.cubeIt(\u001b[32mcmd1.sc\u001b[39m:\u001b[32m9\u001b[39m)\n  ammonite.$sess.cmd1$Helper.cubeIt(\u001b[32mcmd1.sc\u001b[39m:\u001b[32m9\u001b[39m)\n  ammonite.$sess.cmd1$Helper.cubeIt(\u001b[32mcmd1.sc\u001b[39m:\u001b[32m9\u001b[39m)\n  ammonite.$sess.cmd1$Helper.cubeIt(\u001b[32mcmd1.sc\u001b[39m:\u001b[32m9\u001b[39m)\n  ammonite.$sess.cmd1$Helper.cubeIt(\u001b[32mcmd1.sc\u001b[39m:\u001b[32m9\u001b[39m)\n  ammonite.$sess.cmd1$Helper.cubeIt(\u001b[32mcmd1.sc\u001b[39m:\u001b[32m9\u001b[39m)\n  ammonite.$sess.cmd1$Helper.cubeIt(\u001b[32mcmd1.sc\u001b[39m:\u001b[32m9\u001b[39m)\n  ammonite.$sess.cmd1$Helper.cubeIt(\u001b[32mcmd1.sc\u001b[39m:\u001b[32m9\u001b[39m)\n  ammonite.$sess.cmd1$Helper.cubeIt(\u001b[32mcmd1.sc\u001b[39m:\u001b[32m9\u001b[39m)\n  ammonite.$sess.cmd1$Helper.cubeIt(\u001b[32mcmd1.sc\u001b[39m:\u001b[32m9\u001b[39m)\n  ammonite.$sess.cmd1$Helper.cubeIt(\u001b[32mcmd1.sc\u001b[39m:\u001b[32m9\u001b[39m)\n  ammonite.$sess.cmd1$Helper.cubeIt(\u001b[32mcmd1.sc\u001b[39m:\u001b[32m9\u001b[39m)\n  ammonite.$sess.cmd1$Helper.cubeIt(\u001b[32mcmd1.sc\u001b[39m:\u001b[32m9\u001b[39m)\n  ammonite.$sess.cmd1$Helper.cubeIt(\u001b[32mcmd1.sc\u001b[39m:\u001b[32m9\u001b[39m)\n  ammonite.$sess.cmd1$Helper.cubeIt(\u001b[32mcmd1.sc\u001b[39m:\u001b[32m9\u001b[39m)\n  ammonite.$sess.cmd1$Helper.cubeIt(\u001b[32mcmd1.sc\u001b[39m:\u001b[32m9\u001b[39m)\n  ammonite.$sess.cmd1$Helper.cubeIt(\u001b[32mcmd1.sc\u001b[39m:\u001b[32m9\u001b[39m)\n  ammonite.$sess.cmd1$Helper.cubeIt(\u001b[32mcmd1.sc\u001b[39m:\u001b[32m9\u001b[39m)\n  ammonite.$sess.cmd1$Helper.cubeIt(\u001b[32mcmd1.sc\u001b[39m:\u001b[32m9\u001b[39m)\n  ammonite.$sess.cmd1$Helper.cubeIt(\u001b[32mcmd1.sc\u001b[39m:\u001b[32m9\u001b[39m)\n  ammonite.$sess.cmd1$Helper.cubeIt(\u001b[32mcmd1.sc\u001b[39m:\u001b[32m9\u001b[39m)\n  ammonite.$sess.cmd1$Helper.cubeIt(\u001b[32mcmd1.sc\u001b[39m:\u001b[32m9\u001b[39m)\n  ammonite.$sess.cmd1$Helper.cubeIt(\u001b[32mcmd1.sc\u001b[39m:\u001b[32m9\u001b[39m)\n  ammonite.$sess.cmd1$Helper.cubeIt(\u001b[32mcmd1.sc\u001b[39m:\u001b[32m9\u001b[39m)\n  ammonite.$sess.cmd1$Helper.cubeIt(\u001b[32mcmd1.sc\u001b[39m:\u001b[32m9\u001b[39m)\n  ammonite.$sess.cmd1$Helper.cubeIt(\u001b[32mcmd1.sc\u001b[39m:\u001b[32m9\u001b[39m)\n  ammonite.$sess.cmd1$Helper.cubeIt(\u001b[32mcmd1.sc\u001b[39m:\u001b[32m9\u001b[39m)\n  ammonite.$sess.cmd1$Helper.cubeIt(\u001b[32mcmd1.sc\u001b[39m:\u001b[32m9\u001b[39m)\n  ammonite.$sess.cmd1$Helper.cubeIt(\u001b[32mcmd1.sc\u001b[39m:\u001b[32m9\u001b[39m)\n  ammonite.$sess.cmd1$Helper.cubeIt(\u001b[32mcmd1.sc\u001b[39m:\u001b[32m9\u001b[39m)\n  ammonite.$sess.cmd1$Helper.cubeIt(\u001b[32mcmd1.sc\u001b[39m:\u001b[32m9\u001b[39m)\n  ammonite.$sess.cmd1$Helper.cubeIt(\u001b[32mcmd1.sc\u001b[39m:\u001b[32m9\u001b[39m)\n  ammonite.$sess.cmd1$Helper.cubeIt(\u001b[32mcmd1.sc\u001b[39m:\u001b[32m9\u001b[39m)\n  ammonite.$sess.cmd1$Helper.cubeIt(\u001b[32mcmd1.sc\u001b[39m:\u001b[32m9\u001b[39m)\n  ammonite.$sess.cmd1$Helper.cubeIt(\u001b[32mcmd1.sc\u001b[39m:\u001b[32m9\u001b[39m)\n  ammonite.$sess.cmd1$Helper.cubeIt(\u001b[32mcmd1.sc\u001b[39m:\u001b[32m9\u001b[39m)\n  ammonite.$sess.cmd1$Helper.cubeIt(\u001b[32mcmd1.sc\u001b[39m:\u001b[32m9\u001b[39m)\n  ammonite.$sess.cmd1$Helper.cubeIt(\u001b[32mcmd1.sc\u001b[39m:\u001b[32m9\u001b[39m)\n  ammonite.$sess.cmd1$Helper.cubeIt(\u001b[32mcmd1.sc\u001b[39m:\u001b[32m9\u001b[39m)\n  ammonite.$sess.cmd1$Helper.cubeIt(\u001b[32mcmd1.sc\u001b[39m:\u001b[32m9\u001b[39m)\n  ammonite.$sess.cmd1$Helper.cubeIt(\u001b[32mcmd1.sc\u001b[39m:\u001b[32m9\u001b[39m)\n  ammonite.$sess.cmd1$Helper.cubeIt(\u001b[32mcmd1.sc\u001b[39m:\u001b[32m9\u001b[39m)\n  ammonite.$sess.cmd1$Helper.cubeIt(\u001b[32mcmd1.sc\u001b[39m:\u001b[32m9\u001b[39m)\n  ammonite.$sess.cmd1$Helper.cubeIt(\u001b[32mcmd1.sc\u001b[39m:\u001b[32m9\u001b[39m)\n  ammonite.$sess.cmd1$Helper.cubeIt(\u001b[32mcmd1.sc\u001b[39m:\u001b[32m9\u001b[39m)\n  ammonite.$sess.cmd1$Helper.cubeIt(\u001b[32mcmd1.sc\u001b[39m:\u001b[32m9\u001b[39m)\n  ammonite.$sess.cmd1$Helper.cubeIt(\u001b[32mcmd1.sc\u001b[39m:\u001b[32m9\u001b[39m)\n  ammonite.$sess.cmd1$Helper.cubeIt(\u001b[32mcmd1.sc\u001b[39m:\u001b[32m9\u001b[39m)\n  ammonite.$sess.cmd1$Helper.cubeIt(\u001b[32mcmd1.sc\u001b[39m:\u001b[32m9\u001b[39m)\n  ammonite.$sess.cmd1$Helper.cubeIt(\u001b[32mcmd1.sc\u001b[39m:\u001b[32m9\u001b[39m)\n  ammonite.$sess.cmd1$Helper.cubeIt(\u001b[32mcmd1.sc\u001b[39m:\u001b[32m9\u001b[39m)\n  ammonite.$sess.cmd1$Helper.cubeIt(\u001b[32mcmd1.sc\u001b[39m:\u001b[32m9\u001b[39m)\n  ammonite.$sess.cmd1$Helper.cubeIt(\u001b[32mcmd1.sc\u001b[39m:\u001b[32m9\u001b[39m)\n  ammonite.$sess.cmd1$Helper.cubeIt(\u001b[32mcmd1.sc\u001b[39m:\u001b[32m9\u001b[39m)\n  ammonite.$sess.cmd1$Helper.cubeIt(\u001b[32mcmd1.sc\u001b[39m:\u001b[32m9\u001b[39m)\n  ammonite.$sess.cmd1$Helper.cubeIt(\u001b[32mcmd1.sc\u001b[39m:\u001b[32m9\u001b[39m)\n  ammonite.$sess.cmd1$Helper.cubeIt(\u001b[32mcmd1.sc\u001b[39m:\u001b[32m9\u001b[39m)\n  ammonite.$sess.cmd1$Helper.cubeIt(\u001b[32mcmd1.sc\u001b[39m:\u001b[32m9\u001b[39m)\n  ammonite.$sess.cmd1$Helper.cubeIt(\u001b[32mcmd1.sc\u001b[39m:\u001b[32m9\u001b[39m)\n  ammonite.$sess.cmd1$Helper.cubeIt(\u001b[32mcmd1.sc\u001b[39m:\u001b[32m9\u001b[39m)\n  ammonite.$sess.cmd1$Helper.cubeIt(\u001b[32mcmd1.sc\u001b[39m:\u001b[32m9\u001b[39m)\n  ammonite.$sess.cmd1$Helper.cubeIt(\u001b[32mcmd1.sc\u001b[39m:\u001b[32m9\u001b[39m)\n  ammonite.$sess.cmd1$Helper.cubeIt(\u001b[32mcmd1.sc\u001b[39m:\u001b[32m9\u001b[39m)\n  ammonite.$sess.cmd1$Helper.cubeIt(\u001b[32mcmd1.sc\u001b[39m:\u001b[32m9\u001b[39m)\n  ammonite.$sess.cmd1$Helper.cubeIt(\u001b[32mcmd1.sc\u001b[39m:\u001b[32m9\u001b[39m)\n  ammonite.$sess.cmd1$Helper.cubeIt(\u001b[32mcmd1.sc\u001b[39m:\u001b[32m9\u001b[39m)\n  ammonite.$sess.cmd1$Helper.cubeIt(\u001b[32mcmd1.sc\u001b[39m:\u001b[32m9\u001b[39m)\n  ammonite.$sess.cmd1$Helper.cubeIt(\u001b[32mcmd1.sc\u001b[39m:\u001b[32m9\u001b[39m)\n  ammonite.$sess.cmd1$Helper.cubeIt(\u001b[32mcmd1.sc\u001b[39m:\u001b[32m9\u001b[39m)\n  ammonite.$sess.cmd1$Helper.cubeIt(\u001b[32mcmd1.sc\u001b[39m:\u001b[32m9\u001b[39m)\n  ammonite.$sess.cmd1$Helper.cubeIt(\u001b[32mcmd1.sc\u001b[39m:\u001b[32m9\u001b[39m)\n  ammonite.$sess.cmd1$Helper.cubeIt(\u001b[32mcmd1.sc\u001b[39m:\u001b[32m9\u001b[39m)\n  ammonite.$sess.cmd1$Helper.cubeIt(\u001b[32mcmd1.sc\u001b[39m:\u001b[32m9\u001b[39m)\n  ammonite.$sess.cmd1$Helper.cubeIt(\u001b[32mcmd1.sc\u001b[39m:\u001b[32m9\u001b[39m)\n  ammonite.$sess.cmd1$Helper.cubeIt(\u001b[32mcmd1.sc\u001b[39m:\u001b[32m9\u001b[39m)\n  ammonite.$sess.cmd1$Helper.cubeIt(\u001b[32mcmd1.sc\u001b[39m:\u001b[32m9\u001b[39m)\n  ammonite.$sess.cmd1$Helper.cubeIt(\u001b[32mcmd1.sc\u001b[39m:\u001b[32m9\u001b[39m)\n  ammonite.$sess.cmd1$Helper.cubeIt(\u001b[32mcmd1.sc\u001b[39m:\u001b[32m9\u001b[39m)\n  ammonite.$sess.cmd1$Helper.cubeIt(\u001b[32mcmd1.sc\u001b[39m:\u001b[32m9\u001b[39m)\n  ammonite.$sess.cmd1$Helper.cubeIt(\u001b[32mcmd1.sc\u001b[39m:\u001b[32m9\u001b[39m)\n  ammonite.$sess.cmd1$Helper.cubeIt(\u001b[32mcmd1.sc\u001b[39m:\u001b[32m9\u001b[39m)\n  ammonite.$sess.cmd1$Helper.cubeIt(\u001b[32mcmd1.sc\u001b[39m:\u001b[32m9\u001b[39m)\n  ammonite.$sess.cmd1$Helper.cubeIt(\u001b[32mcmd1.sc\u001b[39m:\u001b[32m9\u001b[39m)\n  ammonite.$sess.cmd1$Helper.cubeIt(\u001b[32mcmd1.sc\u001b[39m:\u001b[32m9\u001b[39m)\n  ammonite.$sess.cmd1$Helper.cubeIt(\u001b[32mcmd1.sc\u001b[39m:\u001b[32m9\u001b[39m)\n  ammonite.$sess.cmd1$Helper.cubeIt(\u001b[32mcmd1.sc\u001b[39m:\u001b[32m9\u001b[39m)\n  ammonite.$sess.cmd1$Helper.cubeIt(\u001b[32mcmd1.sc\u001b[39m:\u001b[32m9\u001b[39m)\n  ammonite.$sess.cmd1$Helper.cubeIt(\u001b[32mcmd1.sc\u001b[39m:\u001b[32m9\u001b[39m)\n  ammonite.$sess.cmd1$Helper.cubeIt(\u001b[32mcmd1.sc\u001b[39m:\u001b[32m9\u001b[39m)\n  ammonite.$sess.cmd1$Helper.cubeIt(\u001b[32mcmd1.sc\u001b[39m:\u001b[32m9\u001b[39m)\n  ammonite.$sess.cmd1$Helper.cubeIt(\u001b[32mcmd1.sc\u001b[39m:\u001b[32m9\u001b[39m)\n  ammonite.$sess.cmd1$Helper.cubeIt(\u001b[32mcmd1.sc\u001b[39m:\u001b[32m9\u001b[39m)\n  ammonite.$sess.cmd1$Helper.cubeIt(\u001b[32mcmd1.sc\u001b[39m:\u001b[32m9\u001b[39m)\n  ammonite.$sess.cmd1$Helper.cubeIt(\u001b[32mcmd1.sc\u001b[39m:\u001b[32m9\u001b[39m)\n  ammonite.$sess.cmd1$Helper.cubeIt(\u001b[32mcmd1.sc\u001b[39m:\u001b[32m9\u001b[39m)\n  ammonite.$sess.cmd1$Helper.cubeIt(\u001b[32mcmd1.sc\u001b[39m:\u001b[32m9\u001b[39m)\n  ammonite.$sess.cmd1$Helper.cubeIt(\u001b[32mcmd1.sc\u001b[39m:\u001b[32m9\u001b[39m)\n  ammonite.$sess.cmd1$Helper.cubeIt(\u001b[32mcmd1.sc\u001b[39m:\u001b[32m9\u001b[39m)\n  ammonite.$sess.cmd1$Helper.cubeIt(\u001b[32mcmd1.sc\u001b[39m:\u001b[32m9\u001b[39m)\n  ammonite.$sess.cmd1$Helper.cubeIt(\u001b[32mcmd1.sc\u001b[39m:\u001b[32m9\u001b[39m)\n  ammonite.$sess.cmd1$Helper.cubeIt(\u001b[32mcmd1.sc\u001b[39m:\u001b[32m9\u001b[39m)\n  ammonite.$sess.cmd1$Helper.cubeIt(\u001b[32mcmd1.sc\u001b[39m:\u001b[32m9\u001b[39m)\n  ammonite.$sess.cmd1$Helper.cubeIt(\u001b[32mcmd1.sc\u001b[39m:\u001b[32m9\u001b[39m)\n  ammonite.$sess.cmd1$Helper.cubeIt(\u001b[32mcmd1.sc\u001b[39m:\u001b[32m9\u001b[39m)\n  ammonite.$sess.cmd1$Helper.cubeIt(\u001b[32mcmd1.sc\u001b[39m:\u001b[32m9\u001b[39m)\n  ammonite.$sess.cmd1$Helper.cubeIt(\u001b[32mcmd1.sc\u001b[39m:\u001b[32m9\u001b[39m)\n  ammonite.$sess.cmd1$Helper.cubeIt(\u001b[32mcmd1.sc\u001b[39m:\u001b[32m9\u001b[39m)\n  ammonite.$sess.cmd1$Helper.cubeIt(\u001b[32mcmd1.sc\u001b[39m:\u001b[32m9\u001b[39m)\n  ammonite.$sess.cmd1$Helper.cubeIt(\u001b[32mcmd1.sc\u001b[39m:\u001b[32m9\u001b[39m)\n  ammonite.$sess.cmd1$Helper.cubeIt(\u001b[32mcmd1.sc\u001b[39m:\u001b[32m9\u001b[39m)\n  ammonite.$sess.cmd1$Helper.cubeIt(\u001b[32mcmd1.sc\u001b[39m:\u001b[32m9\u001b[39m)\n  ammonite.$sess.cmd1$Helper.cubeIt(\u001b[32mcmd1.sc\u001b[39m:\u001b[32m9\u001b[39m)\n  ammonite.$sess.cmd1$Helper.cubeIt(\u001b[32mcmd1.sc\u001b[39m:\u001b[32m9\u001b[39m)\n  ammonite.$sess.cmd1$Helper.cubeIt(\u001b[32mcmd1.sc\u001b[39m:\u001b[32m9\u001b[39m)\n  ammonite.$sess.cmd1$Helper.cubeIt(\u001b[32mcmd1.sc\u001b[39m:\u001b[32m9\u001b[39m)\n  ammonite.$sess.cmd1$Helper.cubeIt(\u001b[32mcmd1.sc\u001b[39m:\u001b[32m9\u001b[39m)\n  ammonite.$sess.cmd1$Helper.cubeIt(\u001b[32mcmd1.sc\u001b[39m:\u001b[32m9\u001b[39m)\n  ammonite.$sess.cmd1$Helper.cubeIt(\u001b[32mcmd1.sc\u001b[39m:\u001b[32m9\u001b[39m)\n  ammonite.$sess.cmd1$Helper.cubeIt(\u001b[32mcmd1.sc\u001b[39m:\u001b[32m9\u001b[39m)\n  ammonite.$sess.cmd1$Helper.cubeIt(\u001b[32mcmd1.sc\u001b[39m:\u001b[32m9\u001b[39m)\n  ammonite.$sess.cmd1$Helper.cubeIt(\u001b[32mcmd1.sc\u001b[39m:\u001b[32m9\u001b[39m)\n  ammonite.$sess.cmd1$Helper.cubeIt(\u001b[32mcmd1.sc\u001b[39m:\u001b[32m9\u001b[39m)\n  ammonite.$sess.cmd1$Helper.cubeIt(\u001b[32mcmd1.sc\u001b[39m:\u001b[32m9\u001b[39m)\n  ammonite.$sess.cmd1$Helper.cubeIt(\u001b[32mcmd1.sc\u001b[39m:\u001b[32m9\u001b[39m)\n  ammonite.$sess.cmd1$Helper.cubeIt(\u001b[32mcmd1.sc\u001b[39m:\u001b[32m9\u001b[39m)\n  ammonite.$sess.cmd1$Helper.cubeIt(\u001b[32mcmd1.sc\u001b[39m:\u001b[32m9\u001b[39m)\n  ammonite.$sess.cmd1$Helper.cubeIt(\u001b[32mcmd1.sc\u001b[39m:\u001b[32m9\u001b[39m)\n  ammonite.$sess.cmd1$Helper.cubeIt(\u001b[32mcmd1.sc\u001b[39m:\u001b[32m9\u001b[39m)\n  ammonite.$sess.cmd1$Helper.cubeIt(\u001b[32mcmd1.sc\u001b[39m:\u001b[32m9\u001b[39m)\n  ammonite.$sess.cmd1$Helper.cubeIt(\u001b[32mcmd1.sc\u001b[39m:\u001b[32m9\u001b[39m)\n  ammonite.$sess.cmd1$Helper.cubeIt(\u001b[32mcmd1.sc\u001b[39m:\u001b[32m9\u001b[39m)\n  ammonite.$sess.cmd1$Helper.cubeIt(\u001b[32mcmd1.sc\u001b[39m:\u001b[32m9\u001b[39m)\n  ammonite.$sess.cmd1$Helper.cubeIt(\u001b[32mcmd1.sc\u001b[39m:\u001b[32m9\u001b[39m)\n  ammonite.$sess.cmd1$Helper.cubeIt(\u001b[32mcmd1.sc\u001b[39m:\u001b[32m9\u001b[39m)\n  ammonite.$sess.cmd1$Helper.cubeIt(\u001b[32mcmd1.sc\u001b[39m:\u001b[32m9\u001b[39m)\n  ammonite.$sess.cmd1$Helper.cubeIt(\u001b[32mcmd1.sc\u001b[39m:\u001b[32m9\u001b[39m)\n  ammonite.$sess.cmd1$Helper.cubeIt(\u001b[32mcmd1.sc\u001b[39m:\u001b[32m9\u001b[39m)\n  ammonite.$sess.cmd1$Helper.cubeIt(\u001b[32mcmd1.sc\u001b[39m:\u001b[32m9\u001b[39m)\n  ammonite.$sess.cmd1$Helper.cubeIt(\u001b[32mcmd1.sc\u001b[39m:\u001b[32m9\u001b[39m)\n  ammonite.$sess.cmd1$Helper.cubeIt(\u001b[32mcmd1.sc\u001b[39m:\u001b[32m9\u001b[39m)\n  ammonite.$sess.cmd1$Helper.cubeIt(\u001b[32mcmd1.sc\u001b[39m:\u001b[32m9\u001b[39m)\n  ammonite.$sess.cmd1$Helper.cubeIt(\u001b[32mcmd1.sc\u001b[39m:\u001b[32m9\u001b[39m)\n  ammonite.$sess.cmd1$Helper.cubeIt(\u001b[32mcmd1.sc\u001b[39m:\u001b[32m9\u001b[39m)\n  ammonite.$sess.cmd1$Helper.cubeIt(\u001b[32mcmd1.sc\u001b[39m:\u001b[32m9\u001b[39m)\n  ammonite.$sess.cmd1$Helper.cubeIt(\u001b[32mcmd1.sc\u001b[39m:\u001b[32m9\u001b[39m)\n  ammonite.$sess.cmd1$Helper.cubeIt(\u001b[32mcmd1.sc\u001b[39m:\u001b[32m9\u001b[39m)\n  ammonite.$sess.cmd1$Helper.cubeIt(\u001b[32mcmd1.sc\u001b[39m:\u001b[32m9\u001b[39m)\n  ammonite.$sess.cmd1$Helper.cubeIt(\u001b[32mcmd1.sc\u001b[39m:\u001b[32m9\u001b[39m)\n  ammonite.$sess.cmd1$Helper.cubeIt(\u001b[32mcmd1.sc\u001b[39m:\u001b[32m9\u001b[39m)\n  ammonite.$sess.cmd1$Helper.cubeIt(\u001b[32mcmd1.sc\u001b[39m:\u001b[32m9\u001b[39m)\n  ammonite.$sess.cmd1$Helper.cubeIt(\u001b[32mcmd1.sc\u001b[39m:\u001b[32m9\u001b[39m)\n  ammonite.$sess.cmd1$Helper.cubeIt(\u001b[32mcmd1.sc\u001b[39m:\u001b[32m9\u001b[39m)\n  ammonite.$sess.cmd1$Helper.cubeIt(\u001b[32mcmd1.sc\u001b[39m:\u001b[32m9\u001b[39m)\n  ammonite.$sess.cmd1$Helper.cubeIt(\u001b[32mcmd1.sc\u001b[39m:\u001b[32m9\u001b[39m)\n  ammonite.$sess.cmd1$Helper.cubeIt(\u001b[32mcmd1.sc\u001b[39m:\u001b[32m9\u001b[39m)\n  ammonite.$sess.cmd1$Helper.cubeIt(\u001b[32mcmd1.sc\u001b[39m:\u001b[32m9\u001b[39m)\n  ammonite.$sess.cmd1$Helper.cubeIt(\u001b[32mcmd1.sc\u001b[39m:\u001b[32m9\u001b[39m)\n  ammonite.$sess.cmd1$Helper.cubeIt(\u001b[32mcmd1.sc\u001b[39m:\u001b[32m9\u001b[39m)\n  ammonite.$sess.cmd1$Helper.cubeIt(\u001b[32mcmd1.sc\u001b[39m:\u001b[32m9\u001b[39m)\n  ammonite.$sess.cmd1$Helper.cubeIt(\u001b[32mcmd1.sc\u001b[39m:\u001b[32m9\u001b[39m)\n  ammonite.$sess.cmd1$Helper.cubeIt(\u001b[32mcmd1.sc\u001b[39m:\u001b[32m9\u001b[39m)\n  ammonite.$sess.cmd1$Helper.cubeIt(\u001b[32mcmd1.sc\u001b[39m:\u001b[32m9\u001b[39m)\n  ammonite.$sess.cmd1$Helper.cubeIt(\u001b[32mcmd1.sc\u001b[39m:\u001b[32m9\u001b[39m)\n  ammonite.$sess.cmd1$Helper.cubeIt(\u001b[32mcmd1.sc\u001b[39m:\u001b[32m9\u001b[39m)\n  ammonite.$sess.cmd1$Helper.cubeIt(\u001b[32mcmd1.sc\u001b[39m:\u001b[32m9\u001b[39m)\n  ammonite.$sess.cmd1$Helper.cubeIt(\u001b[32mcmd1.sc\u001b[39m:\u001b[32m9\u001b[39m)\n  ammonite.$sess.cmd1$Helper.cubeIt(\u001b[32mcmd1.sc\u001b[39m:\u001b[32m9\u001b[39m)\n  ammonite.$sess.cmd1$Helper.cubeIt(\u001b[32mcmd1.sc\u001b[39m:\u001b[32m9\u001b[39m)\n  ammonite.$sess.cmd1$Helper.cubeIt(\u001b[32mcmd1.sc\u001b[39m:\u001b[32m9\u001b[39m)\n  ammonite.$sess.cmd1$Helper.cubeIt(\u001b[32mcmd1.sc\u001b[39m:\u001b[32m9\u001b[39m)\n  ammonite.$sess.cmd1$Helper.cubeIt(\u001b[32mcmd1.sc\u001b[39m:\u001b[32m9\u001b[39m)\n  ammonite.$sess.cmd1$Helper.cubeIt(\u001b[32mcmd1.sc\u001b[39m:\u001b[32m9\u001b[39m)\n  ammonite.$sess.cmd1$Helper.cubeIt(\u001b[32mcmd1.sc\u001b[39m:\u001b[32m9\u001b[39m)\n  ammonite.$sess.cmd1$Helper.cubeIt(\u001b[32mcmd1.sc\u001b[39m:\u001b[32m9\u001b[39m)\n  ammonite.$sess.cmd1$Helper.cubeIt(\u001b[32mcmd1.sc\u001b[39m:\u001b[32m9\u001b[39m)\n  ammonite.$sess.cmd1$Helper.cubeIt(\u001b[32mcmd1.sc\u001b[39m:\u001b[32m9\u001b[39m)\n  ammonite.$sess.cmd1$Helper.cubeIt(\u001b[32mcmd1.sc\u001b[39m:\u001b[32m9\u001b[39m)\n  ammonite.$sess.cmd1$Helper.cubeIt(\u001b[32mcmd1.sc\u001b[39m:\u001b[32m9\u001b[39m)\n  ammonite.$sess.cmd1$Helper.cubeIt(\u001b[32mcmd1.sc\u001b[39m:\u001b[32m9\u001b[39m)\n  ammonite.$sess.cmd1$Helper.cubeIt(\u001b[32mcmd1.sc\u001b[39m:\u001b[32m9\u001b[39m)\n  ammonite.$sess.cmd1$Helper.cubeIt(\u001b[32mcmd1.sc\u001b[39m:\u001b[32m9\u001b[39m)\n  ammonite.$sess.cmd1$Helper.cubeIt(\u001b[32mcmd1.sc\u001b[39m:\u001b[32m9\u001b[39m)\n  ammonite.$sess.cmd1$Helper.cubeIt(\u001b[32mcmd1.sc\u001b[39m:\u001b[32m9\u001b[39m)\n  ammonite.$sess.cmd1$Helper.cubeIt(\u001b[32mcmd1.sc\u001b[39m:\u001b[32m9\u001b[39m)\n  ammonite.$sess.cmd1$Helper.cubeIt(\u001b[32mcmd1.sc\u001b[39m:\u001b[32m9\u001b[39m)\n  ammonite.$sess.cmd1$Helper.cubeIt(\u001b[32mcmd1.sc\u001b[39m:\u001b[32m9\u001b[39m)\n  ammonite.$sess.cmd1$Helper.cubeIt(\u001b[32mcmd1.sc\u001b[39m:\u001b[32m9\u001b[39m)\n  ammonite.$sess.cmd1$Helper.cubeIt(\u001b[32mcmd1.sc\u001b[39m:\u001b[32m9\u001b[39m)\n  ammonite.$sess.cmd1$Helper.cubeIt(\u001b[32mcmd1.sc\u001b[39m:\u001b[32m9\u001b[39m)\n  ammonite.$sess.cmd1$Helper.cubeIt(\u001b[32mcmd1.sc\u001b[39m:\u001b[32m9\u001b[39m)\n  ammonite.$sess.cmd1$Helper.cubeIt(\u001b[32mcmd1.sc\u001b[39m:\u001b[32m9\u001b[39m)\n  ammonite.$sess.cmd1$Helper.cubeIt(\u001b[32mcmd1.sc\u001b[39m:\u001b[32m9\u001b[39m)\n  ammonite.$sess.cmd1$Helper.cubeIt(\u001b[32mcmd1.sc\u001b[39m:\u001b[32m9\u001b[39m)\n  ammonite.$sess.cmd1$Helper.cubeIt(\u001b[32mcmd1.sc\u001b[39m:\u001b[32m9\u001b[39m)\n  ammonite.$sess.cmd1$Helper.cubeIt(\u001b[32mcmd1.sc\u001b[39m:\u001b[32m9\u001b[39m)\n  ammonite.$sess.cmd1$Helper.cubeIt(\u001b[32mcmd1.sc\u001b[39m:\u001b[32m9\u001b[39m)\n  ammonite.$sess.cmd1$Helper.cubeIt(\u001b[32mcmd1.sc\u001b[39m:\u001b[32m9\u001b[39m)\n  ammonite.$sess.cmd1$Helper.cubeIt(\u001b[32mcmd1.sc\u001b[39m:\u001b[32m9\u001b[39m)\n  ammonite.$sess.cmd1$Helper.cubeIt(\u001b[32mcmd1.sc\u001b[39m:\u001b[32m9\u001b[39m)\n  ammonite.$sess.cmd1$Helper.cubeIt(\u001b[32mcmd1.sc\u001b[39m:\u001b[32m9\u001b[39m)\n  ammonite.$sess.cmd1$Helper.cubeIt(\u001b[32mcmd1.sc\u001b[39m:\u001b[32m9\u001b[39m)\n  ammonite.$sess.cmd1$Helper.cubeIt(\u001b[32mcmd1.sc\u001b[39m:\u001b[32m9\u001b[39m)\n  ammonite.$sess.cmd1$Helper.cubeIt(\u001b[32mcmd1.sc\u001b[39m:\u001b[32m9\u001b[39m)\n  ammonite.$sess.cmd1$Helper.cubeIt(\u001b[32mcmd1.sc\u001b[39m:\u001b[32m9\u001b[39m)\n  ammonite.$sess.cmd1$Helper.cubeIt(\u001b[32mcmd1.sc\u001b[39m:\u001b[32m9\u001b[39m)\n  ammonite.$sess.cmd1$Helper.cubeIt(\u001b[32mcmd1.sc\u001b[39m:\u001b[32m9\u001b[39m)\n  ammonite.$sess.cmd1$Helper.cubeIt(\u001b[32mcmd1.sc\u001b[39m:\u001b[32m9\u001b[39m)\n  ammonite.$sess.cmd1$Helper.cubeIt(\u001b[32mcmd1.sc\u001b[39m:\u001b[32m9\u001b[39m)\n  ammonite.$sess.cmd1$Helper.cubeIt(\u001b[32mcmd1.sc\u001b[39m:\u001b[32m9\u001b[39m)\n  ammonite.$sess.cmd1$Helper.cubeIt(\u001b[32mcmd1.sc\u001b[39m:\u001b[32m9\u001b[39m)\n  ammonite.$sess.cmd1$Helper.cubeIt(\u001b[32mcmd1.sc\u001b[39m:\u001b[32m9\u001b[39m)\n  ammonite.$sess.cmd1$Helper.cubeIt(\u001b[32mcmd1.sc\u001b[39m:\u001b[32m9\u001b[39m)\n  ammonite.$sess.cmd1$Helper.cubeIt(\u001b[32mcmd1.sc\u001b[39m:\u001b[32m9\u001b[39m)\n  ammonite.$sess.cmd1$Helper.cubeIt(\u001b[32mcmd1.sc\u001b[39m:\u001b[32m9\u001b[39m)\n  ammonite.$sess.cmd1$Helper.cubeIt(\u001b[32mcmd1.sc\u001b[39m:\u001b[32m9\u001b[39m)\n  ammonite.$sess.cmd1$Helper.cubeIt(\u001b[32mcmd1.sc\u001b[39m:\u001b[32m9\u001b[39m)\n  ammonite.$sess.cmd1$Helper.cubeIt(\u001b[32mcmd1.sc\u001b[39m:\u001b[32m9\u001b[39m)\n  ammonite.$sess.cmd1$Helper.cubeIt(\u001b[32mcmd1.sc\u001b[39m:\u001b[32m9\u001b[39m)\n  ammonite.$sess.cmd1$Helper.cubeIt(\u001b[32mcmd1.sc\u001b[39m:\u001b[32m9\u001b[39m)\n  ammonite.$sess.cmd1$Helper.cubeIt(\u001b[32mcmd1.sc\u001b[39m:\u001b[32m9\u001b[39m)\n  ammonite.$sess.cmd1$Helper.cubeIt(\u001b[32mcmd1.sc\u001b[39m:\u001b[32m9\u001b[39m)\n  ammonite.$sess.cmd1$Helper.cubeIt(\u001b[32mcmd1.sc\u001b[39m:\u001b[32m9\u001b[39m)\n  ammonite.$sess.cmd1$Helper.cubeIt(\u001b[32mcmd1.sc\u001b[39m:\u001b[32m9\u001b[39m)\n  ammonite.$sess.cmd1$Helper.cubeIt(\u001b[32mcmd1.sc\u001b[39m:\u001b[32m9\u001b[39m)\n  ammonite.$sess.cmd1$Helper.cubeIt(\u001b[32mcmd1.sc\u001b[39m:\u001b[32m9\u001b[39m)\n  ammonite.$sess.cmd1$Helper.cubeIt(\u001b[32mcmd1.sc\u001b[39m:\u001b[32m9\u001b[39m)\n  ammonite.$sess.cmd1$Helper.cubeIt(\u001b[32mcmd1.sc\u001b[39m:\u001b[32m9\u001b[39m)\n  ammonite.$sess.cmd1$Helper.cubeIt(\u001b[32mcmd1.sc\u001b[39m:\u001b[32m9\u001b[39m)\n  ammonite.$sess.cmd1$Helper.cubeIt(\u001b[32mcmd1.sc\u001b[39m:\u001b[32m9\u001b[39m)\n  ammonite.$sess.cmd1$Helper.cubeIt(\u001b[32mcmd1.sc\u001b[39m:\u001b[32m9\u001b[39m)\n  ammonite.$sess.cmd1$Helper.cubeIt(\u001b[32mcmd1.sc\u001b[39m:\u001b[32m9\u001b[39m)\n  ammonite.$sess.cmd1$Helper.cubeIt(\u001b[32mcmd1.sc\u001b[39m:\u001b[32m9\u001b[39m)\n  ammonite.$sess.cmd1$Helper.cubeIt(\u001b[32mcmd1.sc\u001b[39m:\u001b[32m9\u001b[39m)\n  ammonite.$sess.cmd1$Helper.cubeIt(\u001b[32mcmd1.sc\u001b[39m:\u001b[32m9\u001b[39m)\n  ammonite.$sess.cmd1$Helper.cubeIt(\u001b[32mcmd1.sc\u001b[39m:\u001b[32m9\u001b[39m)\n  ammonite.$sess.cmd1$Helper.cubeIt(\u001b[32mcmd1.sc\u001b[39m:\u001b[32m9\u001b[39m)\n  ammonite.$sess.cmd1$Helper.cubeIt(\u001b[32mcmd1.sc\u001b[39m:\u001b[32m9\u001b[39m)\n  ammonite.$sess.cmd1$Helper.cubeIt(\u001b[32mcmd1.sc\u001b[39m:\u001b[32m9\u001b[39m)\n  ammonite.$sess.cmd1$Helper.cubeIt(\u001b[32mcmd1.sc\u001b[39m:\u001b[32m9\u001b[39m)\n  ammonite.$sess.cmd1$Helper.cubeIt(\u001b[32mcmd1.sc\u001b[39m:\u001b[32m9\u001b[39m)\n  ammonite.$sess.cmd1$Helper.cubeIt(\u001b[32mcmd1.sc\u001b[39m:\u001b[32m9\u001b[39m)\n  ammonite.$sess.cmd1$Helper.cubeIt(\u001b[32mcmd1.sc\u001b[39m:\u001b[32m9\u001b[39m)\n  ammonite.$sess.cmd1$Helper.cubeIt(\u001b[32mcmd1.sc\u001b[39m:\u001b[32m9\u001b[39m)\n  ammonite.$sess.cmd1$Helper.cubeIt(\u001b[32mcmd1.sc\u001b[39m:\u001b[32m9\u001b[39m)\n  ammonite.$sess.cmd1$Helper.cubeIt(\u001b[32mcmd1.sc\u001b[39m:\u001b[32m9\u001b[39m)\n  ammonite.$sess.cmd1$Helper.cubeIt(\u001b[32mcmd1.sc\u001b[39m:\u001b[32m9\u001b[39m)\n  ammonite.$sess.cmd1$Helper.cubeIt(\u001b[32mcmd1.sc\u001b[39m:\u001b[32m9\u001b[39m)\n  ammonite.$sess.cmd1$Helper.cubeIt(\u001b[32mcmd1.sc\u001b[39m:\u001b[32m9\u001b[39m)\n  ammonite.$sess.cmd1$Helper.cubeIt(\u001b[32mcmd1.sc\u001b[39m:\u001b[32m9\u001b[39m)\n  ammonite.$sess.cmd1$Helper.cubeIt(\u001b[32mcmd1.sc\u001b[39m:\u001b[32m9\u001b[39m)\n  ammonite.$sess.cmd1$Helper.cubeIt(\u001b[32mcmd1.sc\u001b[39m:\u001b[32m9\u001b[39m)\n  ammonite.$sess.cmd1$Helper.cubeIt(\u001b[32mcmd1.sc\u001b[39m:\u001b[32m9\u001b[39m)\n  ammonite.$sess.cmd1$Helper.cubeIt(\u001b[32mcmd1.sc\u001b[39m:\u001b[32m9\u001b[39m)\n  ammonite.$sess.cmd1$Helper.cubeIt(\u001b[32mcmd1.sc\u001b[39m:\u001b[32m9\u001b[39m)\n  ammonite.$sess.cmd1$Helper.cubeIt(\u001b[32mcmd1.sc\u001b[39m:\u001b[32m9\u001b[39m)\n  ammonite.$sess.cmd1$Helper.cubeIt(\u001b[32mcmd1.sc\u001b[39m:\u001b[32m9\u001b[39m)\n  ammonite.$sess.cmd1$Helper.cubeIt(\u001b[32mcmd1.sc\u001b[39m:\u001b[32m9\u001b[39m)\n  ammonite.$sess.cmd1$Helper.cubeIt(\u001b[32mcmd1.sc\u001b[39m:\u001b[32m9\u001b[39m)\n  ammonite.$sess.cmd1$Helper.cubeIt(\u001b[32mcmd1.sc\u001b[39m:\u001b[32m9\u001b[39m)\n  ammonite.$sess.cmd1$Helper.cubeIt(\u001b[32mcmd1.sc\u001b[39m:\u001b[32m9\u001b[39m)\n  ammonite.$sess.cmd1$Helper.cubeIt(\u001b[32mcmd1.sc\u001b[39m:\u001b[32m9\u001b[39m)\n  ammonite.$sess.cmd1$Helper.cubeIt(\u001b[32mcmd1.sc\u001b[39m:\u001b[32m9\u001b[39m)\n  ammonite.$sess.cmd1$Helper.cubeIt(\u001b[32mcmd1.sc\u001b[39m:\u001b[32m9\u001b[39m)\n  ammonite.$sess.cmd1$Helper.cubeIt(\u001b[32mcmd1.sc\u001b[39m:\u001b[32m9\u001b[39m)\n  ammonite.$sess.cmd1$Helper.cubeIt(\u001b[32mcmd1.sc\u001b[39m:\u001b[32m9\u001b[39m)\n  ammonite.$sess.cmd1$Helper.cubeIt(\u001b[32mcmd1.sc\u001b[39m:\u001b[32m9\u001b[39m)\n  ammonite.$sess.cmd1$Helper.cubeIt(\u001b[32mcmd1.sc\u001b[39m:\u001b[32m9\u001b[39m)\n  ammonite.$sess.cmd1$Helper.cubeIt(\u001b[32mcmd1.sc\u001b[39m:\u001b[32m9\u001b[39m)\n  ammonite.$sess.cmd1$Helper.cubeIt(\u001b[32mcmd1.sc\u001b[39m:\u001b[32m9\u001b[39m)\n  ammonite.$sess.cmd1$Helper.cubeIt(\u001b[32mcmd1.sc\u001b[39m:\u001b[32m9\u001b[39m)\n  ammonite.$sess.cmd1$Helper.cubeIt(\u001b[32mcmd1.sc\u001b[39m:\u001b[32m9\u001b[39m)\n  ammonite.$sess.cmd1$Helper.cubeIt(\u001b[32mcmd1.sc\u001b[39m:\u001b[32m9\u001b[39m)\n  ammonite.$sess.cmd1$Helper.cubeIt(\u001b[32mcmd1.sc\u001b[39m:\u001b[32m9\u001b[39m)\n  ammonite.$sess.cmd1$Helper.cubeIt(\u001b[32mcmd1.sc\u001b[39m:\u001b[32m9\u001b[39m)\n  ammonite.$sess.cmd1$Helper.cubeIt(\u001b[32mcmd1.sc\u001b[39m:\u001b[32m9\u001b[39m)\n  ammonite.$sess.cmd1$Helper.cubeIt(\u001b[32mcmd1.sc\u001b[39m:\u001b[32m9\u001b[39m)\n  ammonite.$sess.cmd1$Helper.cubeIt(\u001b[32mcmd1.sc\u001b[39m:\u001b[32m9\u001b[39m)\n  ammonite.$sess.cmd1$Helper.cubeIt(\u001b[32mcmd1.sc\u001b[39m:\u001b[32m9\u001b[39m)\n  ammonite.$sess.cmd1$Helper.cubeIt(\u001b[32mcmd1.sc\u001b[39m:\u001b[32m9\u001b[39m)\n  ammonite.$sess.cmd1$Helper.cubeIt(\u001b[32mcmd1.sc\u001b[39m:\u001b[32m9\u001b[39m)\n  ammonite.$sess.cmd1$Helper.cubeIt(\u001b[32mcmd1.sc\u001b[39m:\u001b[32m9\u001b[39m)\n  ammonite.$sess.cmd1$Helper.cubeIt(\u001b[32mcmd1.sc\u001b[39m:\u001b[32m9\u001b[39m)\n  ammonite.$sess.cmd1$Helper.cubeIt(\u001b[32mcmd1.sc\u001b[39m:\u001b[32m9\u001b[39m)\n  ammonite.$sess.cmd1$Helper.cubeIt(\u001b[32mcmd1.sc\u001b[39m:\u001b[32m9\u001b[39m)\n  ammonite.$sess.cmd1$Helper.cubeIt(\u001b[32mcmd1.sc\u001b[39m:\u001b[32m9\u001b[39m)\n  ammonite.$sess.cmd1$Helper.cubeIt(\u001b[32mcmd1.sc\u001b[39m:\u001b[32m9\u001b[39m)\n  ammonite.$sess.cmd1$Helper.cubeIt(\u001b[32mcmd1.sc\u001b[39m:\u001b[32m9\u001b[39m)\n  ammonite.$sess.cmd1$Helper.cubeIt(\u001b[32mcmd1.sc\u001b[39m:\u001b[32m9\u001b[39m)\n  ammonite.$sess.cmd1$Helper.cubeIt(\u001b[32mcmd1.sc\u001b[39m:\u001b[32m9\u001b[39m)\n  ammonite.$sess.cmd1$Helper.cubeIt(\u001b[32mcmd1.sc\u001b[39m:\u001b[32m9\u001b[39m)\n  ammonite.$sess.cmd1$Helper.cubeIt(\u001b[32mcmd1.sc\u001b[39m:\u001b[32m9\u001b[39m)\n  ammonite.$sess.cmd1$Helper.cubeIt(\u001b[32mcmd1.sc\u001b[39m:\u001b[32m9\u001b[39m)\n  ammonite.$sess.cmd1$Helper.cubeIt(\u001b[32mcmd1.sc\u001b[39m:\u001b[32m9\u001b[39m)\n  ammonite.$sess.cmd1$Helper.cubeIt(\u001b[32mcmd1.sc\u001b[39m:\u001b[32m9\u001b[39m)\n  ammonite.$sess.cmd1$Helper.cubeIt(\u001b[32mcmd1.sc\u001b[39m:\u001b[32m9\u001b[39m)\n  ammonite.$sess.cmd1$Helper.cubeIt(\u001b[32mcmd1.sc\u001b[39m:\u001b[32m9\u001b[39m)\n  ammonite.$sess.cmd1$Helper.cubeIt(\u001b[32mcmd1.sc\u001b[39m:\u001b[32m9\u001b[39m)\n  ammonite.$sess.cmd1$Helper.cubeIt(\u001b[32mcmd1.sc\u001b[39m:\u001b[32m9\u001b[39m)\n  ammonite.$sess.cmd1$Helper.cubeIt(\u001b[32mcmd1.sc\u001b[39m:\u001b[32m9\u001b[39m)\n  ammonite.$sess.cmd1$Helper.cubeIt(\u001b[32mcmd1.sc\u001b[39m:\u001b[32m9\u001b[39m)\n  ammonite.$sess.cmd1$Helper.cubeIt(\u001b[32mcmd1.sc\u001b[39m:\u001b[32m9\u001b[39m)\n  ammonite.$sess.cmd1$Helper.cubeIt(\u001b[32mcmd1.sc\u001b[39m:\u001b[32m9\u001b[39m)\n  ammonite.$sess.cmd1$Helper.cubeIt(\u001b[32mcmd1.sc\u001b[39m:\u001b[32m9\u001b[39m)\n  ammonite.$sess.cmd1$Helper.cubeIt(\u001b[32mcmd1.sc\u001b[39m:\u001b[32m9\u001b[39m)\n  ammonite.$sess.cmd1$Helper.cubeIt(\u001b[32mcmd1.sc\u001b[39m:\u001b[32m9\u001b[39m)\n  ammonite.$sess.cmd1$Helper.cubeIt(\u001b[32mcmd1.sc\u001b[39m:\u001b[32m9\u001b[39m)\n  ammonite.$sess.cmd1$Helper.cubeIt(\u001b[32mcmd1.sc\u001b[39m:\u001b[32m9\u001b[39m)\n  ammonite.$sess.cmd1$Helper.cubeIt(\u001b[32mcmd1.sc\u001b[39m:\u001b[32m9\u001b[39m)\n  ammonite.$sess.cmd1$Helper.cubeIt(\u001b[32mcmd1.sc\u001b[39m:\u001b[32m9\u001b[39m)\n  ammonite.$sess.cmd1$Helper.cubeIt(\u001b[32mcmd1.sc\u001b[39m:\u001b[32m9\u001b[39m)\n  ammonite.$sess.cmd1$Helper.cubeIt(\u001b[32mcmd1.sc\u001b[39m:\u001b[32m9\u001b[39m)\n  ammonite.$sess.cmd1$Helper.cubeIt(\u001b[32mcmd1.sc\u001b[39m:\u001b[32m9\u001b[39m)\n  ammonite.$sess.cmd1$Helper.cubeIt(\u001b[32mcmd1.sc\u001b[39m:\u001b[32m9\u001b[39m)\n  ammonite.$sess.cmd1$Helper.cubeIt(\u001b[32mcmd1.sc\u001b[39m:\u001b[32m9\u001b[39m)\n  ammonite.$sess.cmd1$Helper.cubeIt(\u001b[32mcmd1.sc\u001b[39m:\u001b[32m9\u001b[39m)\n  ammonite.$sess.cmd1$Helper.cubeIt(\u001b[32mcmd1.sc\u001b[39m:\u001b[32m9\u001b[39m)\n  ammonite.$sess.cmd1$Helper.cubeIt(\u001b[32mcmd1.sc\u001b[39m:\u001b[32m9\u001b[39m)\n  ammonite.$sess.cmd1$Helper.cubeIt(\u001b[32mcmd1.sc\u001b[39m:\u001b[32m9\u001b[39m)\n  ammonite.$sess.cmd1$Helper.cubeIt(\u001b[32mcmd1.sc\u001b[39m:\u001b[32m9\u001b[39m)\n  ammonite.$sess.cmd1$Helper.cubeIt(\u001b[32mcmd1.sc\u001b[39m:\u001b[32m9\u001b[39m)\n  ammonite.$sess.cmd1$Helper.cubeIt(\u001b[32mcmd1.sc\u001b[39m:\u001b[32m9\u001b[39m)\n  ammonite.$sess.cmd1$Helper.cubeIt(\u001b[32mcmd1.sc\u001b[39m:\u001b[32m9\u001b[39m)\n  ammonite.$sess.cmd1$Helper.cubeIt(\u001b[32mcmd1.sc\u001b[39m:\u001b[32m9\u001b[39m)\n  ammonite.$sess.cmd1$Helper.cubeIt(\u001b[32mcmd1.sc\u001b[39m:\u001b[32m9\u001b[39m)\n  ammonite.$sess.cmd1$Helper.cubeIt(\u001b[32mcmd1.sc\u001b[39m:\u001b[32m9\u001b[39m)\n  ammonite.$sess.cmd1$Helper.cubeIt(\u001b[32mcmd1.sc\u001b[39m:\u001b[32m9\u001b[39m)\n  ammonite.$sess.cmd1$Helper.cubeIt(\u001b[32mcmd1.sc\u001b[39m:\u001b[32m9\u001b[39m)\n  ammonite.$sess.cmd1$Helper.cubeIt(\u001b[32mcmd1.sc\u001b[39m:\u001b[32m9\u001b[39m)\n  ammonite.$sess.cmd1$Helper.cubeIt(\u001b[32mcmd1.sc\u001b[39m:\u001b[32m9\u001b[39m)\n  ammonite.$sess.cmd1$Helper.cubeIt(\u001b[32mcmd1.sc\u001b[39m:\u001b[32m9\u001b[39m)\n  ammonite.$sess.cmd1$Helper.cubeIt(\u001b[32mcmd1.sc\u001b[39m:\u001b[32m9\u001b[39m)\n  ammonite.$sess.cmd1$Helper.cubeIt(\u001b[32mcmd1.sc\u001b[39m:\u001b[32m9\u001b[39m)\n  ammonite.$sess.cmd1$Helper.cubeIt(\u001b[32mcmd1.sc\u001b[39m:\u001b[32m9\u001b[39m)\n  ammonite.$sess.cmd1$Helper.cubeIt(\u001b[32mcmd1.sc\u001b[39m:\u001b[32m9\u001b[39m)\n  ammonite.$sess.cmd1$Helper.cubeIt(\u001b[32mcmd1.sc\u001b[39m:\u001b[32m9\u001b[39m)\n  ammonite.$sess.cmd1$Helper.cubeIt(\u001b[32mcmd1.sc\u001b[39m:\u001b[32m9\u001b[39m)\n  ammonite.$sess.cmd1$Helper.cubeIt(\u001b[32mcmd1.sc\u001b[39m:\u001b[32m9\u001b[39m)\n  ammonite.$sess.cmd1$Helper.cubeIt(\u001b[32mcmd1.sc\u001b[39m:\u001b[32m9\u001b[39m)\n  ammonite.$sess.cmd1$Helper.cubeIt(\u001b[32mcmd1.sc\u001b[39m:\u001b[32m9\u001b[39m)\n  ammonite.$sess.cmd1$Helper.cubeIt(\u001b[32mcmd1.sc\u001b[39m:\u001b[32m9\u001b[39m)\n  ammonite.$sess.cmd1$Helper.cubeIt(\u001b[32mcmd1.sc\u001b[39m:\u001b[32m9\u001b[39m)\n  ammonite.$sess.cmd1$Helper.cubeIt(\u001b[32mcmd1.sc\u001b[39m:\u001b[32m9\u001b[39m)\n  ammonite.$sess.cmd1$Helper.cubeIt(\u001b[32mcmd1.sc\u001b[39m:\u001b[32m9\u001b[39m)\n  ammonite.$sess.cmd1$Helper.cubeIt(\u001b[32mcmd1.sc\u001b[39m:\u001b[32m9\u001b[39m)\n  ammonite.$sess.cmd1$Helper.cubeIt(\u001b[32mcmd1.sc\u001b[39m:\u001b[32m9\u001b[39m)\n  ammonite.$sess.cmd1$Helper.cubeIt(\u001b[32mcmd1.sc\u001b[39m:\u001b[32m9\u001b[39m)\n  ammonite.$sess.cmd1$Helper.cubeIt(\u001b[32mcmd1.sc\u001b[39m:\u001b[32m9\u001b[39m)\n  ammonite.$sess.cmd1$Helper.cubeIt(\u001b[32mcmd1.sc\u001b[39m:\u001b[32m9\u001b[39m)\n  ammonite.$sess.cmd1$Helper.cubeIt(\u001b[32mcmd1.sc\u001b[39m:\u001b[32m9\u001b[39m)\n  ammonite.$sess.cmd1$Helper.cubeIt(\u001b[32mcmd1.sc\u001b[39m:\u001b[32m9\u001b[39m)\n  ammonite.$sess.cmd1$Helper.cubeIt(\u001b[32mcmd1.sc\u001b[39m:\u001b[32m9\u001b[39m)\n  ammonite.$sess.cmd1$Helper.cubeIt(\u001b[32mcmd1.sc\u001b[39m:\u001b[32m9\u001b[39m)\n  ammonite.$sess.cmd1$Helper.cubeIt(\u001b[32mcmd1.sc\u001b[39m:\u001b[32m9\u001b[39m)\n  ammonite.$sess.cmd1$Helper.cubeIt(\u001b[32mcmd1.sc\u001b[39m:\u001b[32m9\u001b[39m)\n  ammonite.$sess.cmd1$Helper.cubeIt(\u001b[32mcmd1.sc\u001b[39m:\u001b[32m9\u001b[39m)\n  ammonite.$sess.cmd1$Helper.cubeIt(\u001b[32mcmd1.sc\u001b[39m:\u001b[32m9\u001b[39m)\n  ammonite.$sess.cmd1$Helper.cubeIt(\u001b[32mcmd1.sc\u001b[39m:\u001b[32m9\u001b[39m)\n  ammonite.$sess.cmd1$Helper.cubeIt(\u001b[32mcmd1.sc\u001b[39m:\u001b[32m9\u001b[39m)\n  ammonite.$sess.cmd1$Helper.cubeIt(\u001b[32mcmd1.sc\u001b[39m:\u001b[32m9\u001b[39m)\n  ammonite.$sess.cmd1$Helper.cubeIt(\u001b[32mcmd1.sc\u001b[39m:\u001b[32m9\u001b[39m)\n  ammonite.$sess.cmd1$Helper.cubeIt(\u001b[32mcmd1.sc\u001b[39m:\u001b[32m9\u001b[39m)\n  ammonite.$sess.cmd1$Helper.cubeIt(\u001b[32mcmd1.sc\u001b[39m:\u001b[32m9\u001b[39m)\n  ammonite.$sess.cmd1$Helper.cubeIt(\u001b[32mcmd1.sc\u001b[39m:\u001b[32m9\u001b[39m)\n  ammonite.$sess.cmd1$Helper.cubeIt(\u001b[32mcmd1.sc\u001b[39m:\u001b[32m9\u001b[39m)\n  ammonite.$sess.cmd1$Helper.cubeIt(\u001b[32mcmd1.sc\u001b[39m:\u001b[32m9\u001b[39m)\n  ammonite.$sess.cmd1$Helper.cubeIt(\u001b[32mcmd1.sc\u001b[39m:\u001b[32m9\u001b[39m)\n  ammonite.$sess.cmd1$Helper.cubeIt(\u001b[32mcmd1.sc\u001b[39m:\u001b[32m9\u001b[39m)\n  ammonite.$sess.cmd1$Helper.cubeIt(\u001b[32mcmd1.sc\u001b[39m:\u001b[32m9\u001b[39m)\n  ammonite.$sess.cmd1$Helper.cubeIt(\u001b[32mcmd1.sc\u001b[39m:\u001b[32m9\u001b[39m)\n  ammonite.$sess.cmd1$Helper.cubeIt(\u001b[32mcmd1.sc\u001b[39m:\u001b[32m9\u001b[39m)\n  ammonite.$sess.cmd1$Helper.cubeIt(\u001b[32mcmd1.sc\u001b[39m:\u001b[32m9\u001b[39m)\n  ammonite.$sess.cmd1$Helper.cubeIt(\u001b[32mcmd1.sc\u001b[39m:\u001b[32m9\u001b[39m)\n  ammonite.$sess.cmd1$Helper.cubeIt(\u001b[32mcmd1.sc\u001b[39m:\u001b[32m9\u001b[39m)\n  ammonite.$sess.cmd1$Helper.cubeIt(\u001b[32mcmd1.sc\u001b[39m:\u001b[32m9\u001b[39m)\n  ammonite.$sess.cmd1$Helper.cubeIt(\u001b[32mcmd1.sc\u001b[39m:\u001b[32m9\u001b[39m)\n  ammonite.$sess.cmd1$Helper.cubeIt(\u001b[32mcmd1.sc\u001b[39m:\u001b[32m9\u001b[39m)\n  ammonite.$sess.cmd1$Helper.cubeIt(\u001b[32mcmd1.sc\u001b[39m:\u001b[32m9\u001b[39m)\n  ammonite.$sess.cmd1$Helper.cubeIt(\u001b[32mcmd1.sc\u001b[39m:\u001b[32m9\u001b[39m)\n  ammonite.$sess.cmd1$Helper.cubeIt(\u001b[32mcmd1.sc\u001b[39m:\u001b[32m9\u001b[39m)\n  ammonite.$sess.cmd1$Helper.cubeIt(\u001b[32mcmd1.sc\u001b[39m:\u001b[32m9\u001b[39m)\n  ammonite.$sess.cmd1$Helper.cubeIt(\u001b[32mcmd1.sc\u001b[39m:\u001b[32m9\u001b[39m)\n  ammonite.$sess.cmd1$Helper.cubeIt(\u001b[32mcmd1.sc\u001b[39m:\u001b[32m9\u001b[39m)\n  ammonite.$sess.cmd1$Helper.cubeIt(\u001b[32mcmd1.sc\u001b[39m:\u001b[32m9\u001b[39m)\n  ammonite.$sess.cmd1$Helper.cubeIt(\u001b[32mcmd1.sc\u001b[39m:\u001b[32m9\u001b[39m)\n  ammonite.$sess.cmd1$Helper.cubeIt(\u001b[32mcmd1.sc\u001b[39m:\u001b[32m9\u001b[39m)\n  ammonite.$sess.cmd1$Helper.cubeIt(\u001b[32mcmd1.sc\u001b[39m:\u001b[32m9\u001b[39m)\n  ammonite.$sess.cmd1$Helper.cubeIt(\u001b[32mcmd1.sc\u001b[39m:\u001b[32m9\u001b[39m)\n  ammonite.$sess.cmd1$Helper.cubeIt(\u001b[32mcmd1.sc\u001b[39m:\u001b[32m9\u001b[39m)\n  ammonite.$sess.cmd1$Helper.cubeIt(\u001b[32mcmd1.sc\u001b[39m:\u001b[32m9\u001b[39m)\n  ammonite.$sess.cmd1$Helper.cubeIt(\u001b[32mcmd1.sc\u001b[39m:\u001b[32m9\u001b[39m)\n  ammonite.$sess.cmd1$Helper.cubeIt(\u001b[32mcmd1.sc\u001b[39m:\u001b[32m9\u001b[39m)\n  ammonite.$sess.cmd1$Helper.cubeIt(\u001b[32mcmd1.sc\u001b[39m:\u001b[32m9\u001b[39m)\n  ammonite.$sess.cmd1$Helper.cubeIt(\u001b[32mcmd1.sc\u001b[39m:\u001b[32m9\u001b[39m)\n  ammonite.$sess.cmd1$Helper.cubeIt(\u001b[32mcmd1.sc\u001b[39m:\u001b[32m9\u001b[39m)\n  ammonite.$sess.cmd1$Helper.cubeIt(\u001b[32mcmd1.sc\u001b[39m:\u001b[32m9\u001b[39m)\n  ammonite.$sess.cmd1$Helper.cubeIt(\u001b[32mcmd1.sc\u001b[39m:\u001b[32m9\u001b[39m)\n  ammonite.$sess.cmd1$Helper.cubeIt(\u001b[32mcmd1.sc\u001b[39m:\u001b[32m9\u001b[39m)\n  ammonite.$sess.cmd1$Helper.cubeIt(\u001b[32mcmd1.sc\u001b[39m:\u001b[32m9\u001b[39m)\n  ammonite.$sess.cmd1$Helper.cubeIt(\u001b[32mcmd1.sc\u001b[39m:\u001b[32m9\u001b[39m)\n  ammonite.$sess.cmd1$Helper.cubeIt(\u001b[32mcmd1.sc\u001b[39m:\u001b[32m9\u001b[39m)\n  ammonite.$sess.cmd1$Helper.cubeIt(\u001b[32mcmd1.sc\u001b[39m:\u001b[32m9\u001b[39m)\n  ammonite.$sess.cmd1$Helper.cubeIt(\u001b[32mcmd1.sc\u001b[39m:\u001b[32m9\u001b[39m)\n  ammonite.$sess.cmd1$Helper.cubeIt(\u001b[32mcmd1.sc\u001b[39m:\u001b[32m9\u001b[39m)\n  ammonite.$sess.cmd1$Helper.cubeIt(\u001b[32mcmd1.sc\u001b[39m:\u001b[32m9\u001b[39m)\n  ammonite.$sess.cmd1$Helper.cubeIt(\u001b[32mcmd1.sc\u001b[39m:\u001b[32m9\u001b[39m)\n  ammonite.$sess.cmd1$Helper.cubeIt(\u001b[32mcmd1.sc\u001b[39m:\u001b[32m9\u001b[39m)\n  ammonite.$sess.cmd1$Helper.cubeIt(\u001b[32mcmd1.sc\u001b[39m:\u001b[32m9\u001b[39m)\n  ammonite.$sess.cmd1$Helper.cubeIt(\u001b[32mcmd1.sc\u001b[39m:\u001b[32m9\u001b[39m)\n  ammonite.$sess.cmd1$Helper.cubeIt(\u001b[32mcmd1.sc\u001b[39m:\u001b[32m9\u001b[39m)\n  ammonite.$sess.cmd1$Helper.cubeIt(\u001b[32mcmd1.sc\u001b[39m:\u001b[32m9\u001b[39m)\n  ammonite.$sess.cmd1$Helper.cubeIt(\u001b[32mcmd1.sc\u001b[39m:\u001b[32m9\u001b[39m)\n  ammonite.$sess.cmd1$Helper.cubeIt(\u001b[32mcmd1.sc\u001b[39m:\u001b[32m9\u001b[39m)\n  ammonite.$sess.cmd1$Helper.cubeIt(\u001b[32mcmd1.sc\u001b[39m:\u001b[32m9\u001b[39m)\n  ammonite.$sess.cmd1$Helper.cubeIt(\u001b[32mcmd1.sc\u001b[39m:\u001b[32m9\u001b[39m)\n  ammonite.$sess.cmd1$Helper.cubeIt(\u001b[32mcmd1.sc\u001b[39m:\u001b[32m9\u001b[39m)\n  ammonite.$sess.cmd1$Helper.cubeIt(\u001b[32mcmd1.sc\u001b[39m:\u001b[32m9\u001b[39m)\n  ammonite.$sess.cmd1$Helper.cubeIt(\u001b[32mcmd1.sc\u001b[39m:\u001b[32m9\u001b[39m)\n  ammonite.$sess.cmd1$Helper.cubeIt(\u001b[32mcmd1.sc\u001b[39m:\u001b[32m9\u001b[39m)\n  ammonite.$sess.cmd1$Helper.cubeIt(\u001b[32mcmd1.sc\u001b[39m:\u001b[32m9\u001b[39m)\n  ammonite.$sess.cmd1$Helper.cubeIt(\u001b[32mcmd1.sc\u001b[39m:\u001b[32m9\u001b[39m)\n  ammonite.$sess.cmd1$Helper.cubeIt(\u001b[32mcmd1.sc\u001b[39m:\u001b[32m9\u001b[39m)\n  ammonite.$sess.cmd1$Helper.cubeIt(\u001b[32mcmd1.sc\u001b[39m:\u001b[32m9\u001b[39m)\n  ammonite.$sess.cmd1$Helper.cubeIt(\u001b[32mcmd1.sc\u001b[39m:\u001b[32m9\u001b[39m)\n  ammonite.$sess.cmd1$Helper.cubeIt(\u001b[32mcmd1.sc\u001b[39m:\u001b[32m9\u001b[39m)\n  ammonite.$sess.cmd1$Helper.cubeIt(\u001b[32mcmd1.sc\u001b[39m:\u001b[32m9\u001b[39m)\n  ammonite.$sess.cmd1$Helper.cubeIt(\u001b[32mcmd1.sc\u001b[39m:\u001b[32m9\u001b[39m)\n  ammonite.$sess.cmd1$Helper.cubeIt(\u001b[32mcmd1.sc\u001b[39m:\u001b[32m9\u001b[39m)\n  ammonite.$sess.cmd1$Helper.cubeIt(\u001b[32mcmd1.sc\u001b[39m:\u001b[32m9\u001b[39m)\n  ammonite.$sess.cmd1$Helper.cubeIt(\u001b[32mcmd1.sc\u001b[39m:\u001b[32m9\u001b[39m)\n  ammonite.$sess.cmd1$Helper.cubeIt(\u001b[32mcmd1.sc\u001b[39m:\u001b[32m9\u001b[39m)\n  ammonite.$sess.cmd1$Helper.cubeIt(\u001b[32mcmd1.sc\u001b[39m:\u001b[32m9\u001b[39m)\n  ammonite.$sess.cmd1$Helper.cubeIt(\u001b[32mcmd1.sc\u001b[39m:\u001b[32m9\u001b[39m)\n  ammonite.$sess.cmd1$Helper.cubeIt(\u001b[32mcmd1.sc\u001b[39m:\u001b[32m9\u001b[39m)\n  ammonite.$sess.cmd1$Helper.cubeIt(\u001b[32mcmd1.sc\u001b[39m:\u001b[32m9\u001b[39m)\n  ammonite.$sess.cmd1$Helper.cubeIt(\u001b[32mcmd1.sc\u001b[39m:\u001b[32m9\u001b[39m)\n  ammonite.$sess.cmd1$Helper.cubeIt(\u001b[32mcmd1.sc\u001b[39m:\u001b[32m9\u001b[39m)\n  ammonite.$sess.cmd1$Helper.cubeIt(\u001b[32mcmd1.sc\u001b[39m:\u001b[32m9\u001b[39m)\n  ammonite.$sess.cmd1$Helper.cubeIt(\u001b[32mcmd1.sc\u001b[39m:\u001b[32m9\u001b[39m)\n  ammonite.$sess.cmd1$Helper.cubeIt(\u001b[32mcmd1.sc\u001b[39m:\u001b[32m9\u001b[39m)\n  ammonite.$sess.cmd1$Helper.cubeIt(\u001b[32mcmd1.sc\u001b[39m:\u001b[32m9\u001b[39m)\n  ammonite.$sess.cmd1$Helper.cubeIt(\u001b[32mcmd1.sc\u001b[39m:\u001b[32m9\u001b[39m)\n  ammonite.$sess.cmd1$Helper.cubeIt(\u001b[32mcmd1.sc\u001b[39m:\u001b[32m9\u001b[39m)\n  ammonite.$sess.cmd1$Helper.cubeIt(\u001b[32mcmd1.sc\u001b[39m:\u001b[32m9\u001b[39m)\n  ammonite.$sess.cmd1$Helper.cubeIt(\u001b[32mcmd1.sc\u001b[39m:\u001b[32m9\u001b[39m)\n  ammonite.$sess.cmd1$Helper.cubeIt(\u001b[32mcmd1.sc\u001b[39m:\u001b[32m9\u001b[39m)\n  ammonite.$sess.cmd1$Helper.cubeIt(\u001b[32mcmd1.sc\u001b[39m:\u001b[32m9\u001b[39m)\n  ammonite.$sess.cmd1$Helper.cubeIt(\u001b[32mcmd1.sc\u001b[39m:\u001b[32m9\u001b[39m)\n  ammonite.$sess.cmd1$Helper.cubeIt(\u001b[32mcmd1.sc\u001b[39m:\u001b[32m9\u001b[39m)\n  ammonite.$sess.cmd1$Helper.cubeIt(\u001b[32mcmd1.sc\u001b[39m:\u001b[32m9\u001b[39m)\n  ammonite.$sess.cmd1$Helper.cubeIt(\u001b[32mcmd1.sc\u001b[39m:\u001b[32m9\u001b[39m)\n  ammonite.$sess.cmd1$Helper.cubeIt(\u001b[32mcmd1.sc\u001b[39m:\u001b[32m9\u001b[39m)\n  ammonite.$sess.cmd1$Helper.cubeIt(\u001b[32mcmd1.sc\u001b[39m:\u001b[32m9\u001b[39m)\n  ammonite.$sess.cmd1$Helper.cubeIt(\u001b[32mcmd1.sc\u001b[39m:\u001b[32m9\u001b[39m)\n  ammonite.$sess.cmd1$Helper.cubeIt(\u001b[32mcmd1.sc\u001b[39m:\u001b[32m9\u001b[39m)\n  ammonite.$sess.cmd1$Helper.cubeIt(\u001b[32mcmd1.sc\u001b[39m:\u001b[32m9\u001b[39m)\n  ammonite.$sess.cmd1$Helper.cubeIt(\u001b[32mcmd1.sc\u001b[39m:\u001b[32m9\u001b[39m)\n  ammonite.$sess.cmd1$Helper.cubeIt(\u001b[32mcmd1.sc\u001b[39m:\u001b[32m9\u001b[39m)\n  ammonite.$sess.cmd1$Helper.cubeIt(\u001b[32mcmd1.sc\u001b[39m:\u001b[32m9\u001b[39m)\n  ammonite.$sess.cmd1$Helper.cubeIt(\u001b[32mcmd1.sc\u001b[39m:\u001b[32m9\u001b[39m)\n  ammonite.$sess.cmd1$Helper.cubeIt(\u001b[32mcmd1.sc\u001b[39m:\u001b[32m9\u001b[39m)\n  ammonite.$sess.cmd1$Helper.cubeIt(\u001b[32mcmd1.sc\u001b[39m:\u001b[32m9\u001b[39m)\n  ammonite.$sess.cmd1$Helper.cubeIt(\u001b[32mcmd1.sc\u001b[39m:\u001b[32m9\u001b[39m)\n  ammonite.$sess.cmd1$Helper.cubeIt(\u001b[32mcmd1.sc\u001b[39m:\u001b[32m9\u001b[39m)\n  ammonite.$sess.cmd1$Helper.cubeIt(\u001b[32mcmd1.sc\u001b[39m:\u001b[32m9\u001b[39m)\n  ammonite.$sess.cmd1$Helper.cubeIt(\u001b[32mcmd1.sc\u001b[39m:\u001b[32m9\u001b[39m)\n  ammonite.$sess.cmd1$Helper.cubeIt(\u001b[32mcmd1.sc\u001b[39m:\u001b[32m9\u001b[39m)\n  ammonite.$sess.cmd1$Helper.cubeIt(\u001b[32mcmd1.sc\u001b[39m:\u001b[32m9\u001b[39m)\n  ammonite.$sess.cmd1$Helper.cubeIt(\u001b[32mcmd1.sc\u001b[39m:\u001b[32m9\u001b[39m)\n  ammonite.$sess.cmd1$Helper.cubeIt(\u001b[32mcmd1.sc\u001b[39m:\u001b[32m9\u001b[39m)\n  ammonite.$sess.cmd1$Helper.cubeIt(\u001b[32mcmd1.sc\u001b[39m:\u001b[32m9\u001b[39m)\n  ammonite.$sess.cmd1$Helper.cubeIt(\u001b[32mcmd1.sc\u001b[39m:\u001b[32m9\u001b[39m)\n  ammonite.$sess.cmd1$Helper.cubeIt(\u001b[32mcmd1.sc\u001b[39m:\u001b[32m9\u001b[39m)\n  ammonite.$sess.cmd1$Helper.cubeIt(\u001b[32mcmd1.sc\u001b[39m:\u001b[32m9\u001b[39m)\n  ammonite.$sess.cmd1$Helper.cubeIt(\u001b[32mcmd1.sc\u001b[39m:\u001b[32m9\u001b[39m)\n  ammonite.$sess.cmd1$Helper.cubeIt(\u001b[32mcmd1.sc\u001b[39m:\u001b[32m9\u001b[39m)\n  ammonite.$sess.cmd1$Helper.cubeIt(\u001b[32mcmd1.sc\u001b[39m:\u001b[32m9\u001b[39m)\n  ammonite.$sess.cmd1$Helper.cubeIt(\u001b[32mcmd1.sc\u001b[39m:\u001b[32m9\u001b[39m)\n  ammonite.$sess.cmd1$Helper.cubeIt(\u001b[32mcmd1.sc\u001b[39m:\u001b[32m9\u001b[39m)\n  ammonite.$sess.cmd1$Helper.cubeIt(\u001b[32mcmd1.sc\u001b[39m:\u001b[32m9\u001b[39m)\n  ammonite.$sess.cmd1$Helper.cubeIt(\u001b[32mcmd1.sc\u001b[39m:\u001b[32m9\u001b[39m)\n  ammonite.$sess.cmd1$Helper.cubeIt(\u001b[32mcmd1.sc\u001b[39m:\u001b[32m9\u001b[39m)\n  ammonite.$sess.cmd1$Helper.cubeIt(\u001b[32mcmd1.sc\u001b[39m:\u001b[32m9\u001b[39m)\n  ammonite.$sess.cmd1$Helper.cubeIt(\u001b[32mcmd1.sc\u001b[39m:\u001b[32m9\u001b[39m)\n  ammonite.$sess.cmd1$Helper.cubeIt(\u001b[32mcmd1.sc\u001b[39m:\u001b[32m9\u001b[39m)\n  ammonite.$sess.cmd1$Helper.cubeIt(\u001b[32mcmd1.sc\u001b[39m:\u001b[32m9\u001b[39m)\n  ammonite.$sess.cmd1$Helper.cubeIt(\u001b[32mcmd1.sc\u001b[39m:\u001b[32m9\u001b[39m)\n  ammonite.$sess.cmd1$Helper.cubeIt(\u001b[32mcmd1.sc\u001b[39m:\u001b[32m9\u001b[39m)\n  ammonite.$sess.cmd1$Helper.cubeIt(\u001b[32mcmd1.sc\u001b[39m:\u001b[32m9\u001b[39m)\n  ammonite.$sess.cmd1$Helper.cubeIt(\u001b[32mcmd1.sc\u001b[39m:\u001b[32m9\u001b[39m)\n  ammonite.$sess.cmd1$Helper.cubeIt(\u001b[32mcmd1.sc\u001b[39m:\u001b[32m9\u001b[39m)\n  ammonite.$sess.cmd1$Helper.cubeIt(\u001b[32mcmd1.sc\u001b[39m:\u001b[32m9\u001b[39m)\n  ammonite.$sess.cmd1$Helper.cubeIt(\u001b[32mcmd1.sc\u001b[39m:\u001b[32m9\u001b[39m)\n  ammonite.$sess.cmd1$Helper.cubeIt(\u001b[32mcmd1.sc\u001b[39m:\u001b[32m9\u001b[39m)\n  ammonite.$sess.cmd1$Helper.cubeIt(\u001b[32mcmd1.sc\u001b[39m:\u001b[32m9\u001b[39m)\n  ammonite.$sess.cmd1$Helper.cubeIt(\u001b[32mcmd1.sc\u001b[39m:\u001b[32m9\u001b[39m)\n  ammonite.$sess.cmd1$Helper.cubeIt(\u001b[32mcmd1.sc\u001b[39m:\u001b[32m9\u001b[39m)\n  ammonite.$sess.cmd1$Helper.cubeIt(\u001b[32mcmd1.sc\u001b[39m:\u001b[32m9\u001b[39m)\n  ammonite.$sess.cmd1$Helper.cubeIt(\u001b[32mcmd1.sc\u001b[39m:\u001b[32m9\u001b[39m)\n  ammonite.$sess.cmd1$Helper.cubeIt(\u001b[32mcmd1.sc\u001b[39m:\u001b[32m9\u001b[39m)\n  ammonite.$sess.cmd1$Helper.cubeIt(\u001b[32mcmd1.sc\u001b[39m:\u001b[32m9\u001b[39m)\n  ammonite.$sess.cmd1$Helper.cubeIt(\u001b[32mcmd1.sc\u001b[39m:\u001b[32m9\u001b[39m)\n  ammonite.$sess.cmd1$Helper.cubeIt(\u001b[32mcmd1.sc\u001b[39m:\u001b[32m9\u001b[39m)\n  ammonite.$sess.cmd1$Helper.cubeIt(\u001b[32mcmd1.sc\u001b[39m:\u001b[32m9\u001b[39m)\n  ammonite.$sess.cmd1$Helper.cubeIt(\u001b[32mcmd1.sc\u001b[39m:\u001b[32m9\u001b[39m)\n  ammonite.$sess.cmd1$Helper.cubeIt(\u001b[32mcmd1.sc\u001b[39m:\u001b[32m9\u001b[39m)\n  ammonite.$sess.cmd1$Helper.cubeIt(\u001b[32mcmd1.sc\u001b[39m:\u001b[32m9\u001b[39m)\n  ammonite.$sess.cmd1$Helper.cubeIt(\u001b[32mcmd1.sc\u001b[39m:\u001b[32m9\u001b[39m)\n  ammonite.$sess.cmd1$Helper.cubeIt(\u001b[32mcmd1.sc\u001b[39m:\u001b[32m9\u001b[39m)\n  ammonite.$sess.cmd1$Helper.cubeIt(\u001b[32mcmd1.sc\u001b[39m:\u001b[32m9\u001b[39m)\n  ammonite.$sess.cmd1$Helper.cubeIt(\u001b[32mcmd1.sc\u001b[39m:\u001b[32m9\u001b[39m)\n  ammonite.$sess.cmd1$Helper.cubeIt(\u001b[32mcmd1.sc\u001b[39m:\u001b[32m9\u001b[39m)\n  ammonite.$sess.cmd1$Helper.cubeIt(\u001b[32mcmd1.sc\u001b[39m:\u001b[32m9\u001b[39m)\n  ammonite.$sess.cmd1$Helper.cubeIt(\u001b[32mcmd1.sc\u001b[39m:\u001b[32m9\u001b[39m)\n  ammonite.$sess.cmd1$Helper.cubeIt(\u001b[32mcmd1.sc\u001b[39m:\u001b[32m9\u001b[39m)\n  ammonite.$sess.cmd1$Helper.cubeIt(\u001b[32mcmd1.sc\u001b[39m:\u001b[32m9\u001b[39m)\n  ammonite.$sess.cmd1$Helper.cubeIt(\u001b[32mcmd1.sc\u001b[39m:\u001b[32m9\u001b[39m)\n  ammonite.$sess.cmd1$Helper.cubeIt(\u001b[32mcmd1.sc\u001b[39m:\u001b[32m9\u001b[39m)\n  ammonite.$sess.cmd1$Helper.cubeIt(\u001b[32mcmd1.sc\u001b[39m:\u001b[32m9\u001b[39m)\n  ammonite.$sess.cmd1$Helper.cubeIt(\u001b[32mcmd1.sc\u001b[39m:\u001b[32m9\u001b[39m)\n  ammonite.$sess.cmd1$Helper.cubeIt(\u001b[32mcmd1.sc\u001b[39m:\u001b[32m9\u001b[39m)\n  ammonite.$sess.cmd1$Helper.cubeIt(\u001b[32mcmd1.sc\u001b[39m:\u001b[32m9\u001b[39m)\n  ammonite.$sess.cmd1$Helper.cubeIt(\u001b[32mcmd1.sc\u001b[39m:\u001b[32m9\u001b[39m)\n  ammonite.$sess.cmd1$Helper.cubeIt(\u001b[32mcmd1.sc\u001b[39m:\u001b[32m9\u001b[39m)\n  ammonite.$sess.cmd1$Helper.cubeIt(\u001b[32mcmd1.sc\u001b[39m:\u001b[32m9\u001b[39m)\n  ammonite.$sess.cmd1$Helper.cubeIt(\u001b[32mcmd1.sc\u001b[39m:\u001b[32m9\u001b[39m)\n  ammonite.$sess.cmd1$Helper.cubeIt(\u001b[32mcmd1.sc\u001b[39m:\u001b[32m9\u001b[39m)\n  ammonite.$sess.cmd1$Helper.cubeIt(\u001b[32mcmd1.sc\u001b[39m:\u001b[32m9\u001b[39m)\n  ammonite.$sess.cmd1$Helper.cubeIt(\u001b[32mcmd1.sc\u001b[39m:\u001b[32m9\u001b[39m)\n  ammonite.$sess.cmd1$Helper.cubeIt(\u001b[32mcmd1.sc\u001b[39m:\u001b[32m9\u001b[39m)\n  ammonite.$sess.cmd1$Helper.cubeIt(\u001b[32mcmd1.sc\u001b[39m:\u001b[32m9\u001b[39m)\n  ammonite.$sess.cmd1$Helper.cubeIt(\u001b[32mcmd1.sc\u001b[39m:\u001b[32m9\u001b[39m)\n  ammonite.$sess.cmd1$Helper.cubeIt(\u001b[32mcmd1.sc\u001b[39m:\u001b[32m9\u001b[39m)\n  ammonite.$sess.cmd1$Helper.cubeIt(\u001b[32mcmd1.sc\u001b[39m:\u001b[32m9\u001b[39m)\n  ammonite.$sess.cmd1$Helper.cubeIt(\u001b[32mcmd1.sc\u001b[39m:\u001b[32m9\u001b[39m)\n  ammonite.$sess.cmd1$Helper.cubeIt(\u001b[32mcmd1.sc\u001b[39m:\u001b[32m9\u001b[39m)\n  ammonite.$sess.cmd1$Helper.cubeIt(\u001b[32mcmd1.sc\u001b[39m:\u001b[32m9\u001b[39m)\n  ammonite.$sess.cmd1$Helper.cubeIt(\u001b[32mcmd1.sc\u001b[39m:\u001b[32m9\u001b[39m)\n  ammonite.$sess.cmd1$Helper.cubeIt(\u001b[32mcmd1.sc\u001b[39m:\u001b[32m9\u001b[39m)\n  ammonite.$sess.cmd1$Helper.cubeIt(\u001b[32mcmd1.sc\u001b[39m:\u001b[32m9\u001b[39m)\n  ammonite.$sess.cmd1$Helper.cubeIt(\u001b[32mcmd1.sc\u001b[39m:\u001b[32m9\u001b[39m)\n  ammonite.$sess.cmd1$Helper.cubeIt(\u001b[32mcmd1.sc\u001b[39m:\u001b[32m9\u001b[39m)\n  ammonite.$sess.cmd1$Helper.cubeIt(\u001b[32mcmd1.sc\u001b[39m:\u001b[32m9\u001b[39m)\n  ammonite.$sess.cmd1$Helper.cubeIt(\u001b[32mcmd1.sc\u001b[39m:\u001b[32m9\u001b[39m)\n  ammonite.$sess.cmd1$Helper.cubeIt(\u001b[32mcmd1.sc\u001b[39m:\u001b[32m9\u001b[39m)\n  ammonite.$sess.cmd1$Helper.cubeIt(\u001b[32mcmd1.sc\u001b[39m:\u001b[32m9\u001b[39m)\n  ammonite.$sess.cmd1$Helper.cubeIt(\u001b[32mcmd1.sc\u001b[39m:\u001b[32m9\u001b[39m)\n  ammonite.$sess.cmd1$Helper.cubeIt(\u001b[32mcmd1.sc\u001b[39m:\u001b[32m9\u001b[39m)\n  ammonite.$sess.cmd1$Helper.cubeIt(\u001b[32mcmd1.sc\u001b[39m:\u001b[32m9\u001b[39m)\n  ammonite.$sess.cmd1$Helper.cubeIt(\u001b[32mcmd1.sc\u001b[39m:\u001b[32m9\u001b[39m)\n  ammonite.$sess.cmd1$Helper.cubeIt(\u001b[32mcmd1.sc\u001b[39m:\u001b[32m9\u001b[39m)\n  ammonite.$sess.cmd1$Helper.cubeIt(\u001b[32mcmd1.sc\u001b[39m:\u001b[32m9\u001b[39m)\n  ammonite.$sess.cmd1$Helper.cubeIt(\u001b[32mcmd1.sc\u001b[39m:\u001b[32m9\u001b[39m)\n  ammonite.$sess.cmd1$Helper.cubeIt(\u001b[32mcmd1.sc\u001b[39m:\u001b[32m9\u001b[39m)\n  ammonite.$sess.cmd1$Helper.cubeIt(\u001b[32mcmd1.sc\u001b[39m:\u001b[32m9\u001b[39m)\n  ammonite.$sess.cmd1$Helper.cubeIt(\u001b[32mcmd1.sc\u001b[39m:\u001b[32m9\u001b[39m)\n  ammonite.$sess.cmd1$Helper.cubeIt(\u001b[32mcmd1.sc\u001b[39m:\u001b[32m9\u001b[39m)\n  ammonite.$sess.cmd1$Helper.cubeIt(\u001b[32mcmd1.sc\u001b[39m:\u001b[32m9\u001b[39m)\n  ammonite.$sess.cmd1$Helper.cubeIt(\u001b[32mcmd1.sc\u001b[39m:\u001b[32m9\u001b[39m)\n  ammonite.$sess.cmd1$Helper.cubeIt(\u001b[32mcmd1.sc\u001b[39m:\u001b[32m9\u001b[39m)\n  ammonite.$sess.cmd1$Helper.cubeIt(\u001b[32mcmd1.sc\u001b[39m:\u001b[32m9\u001b[39m)\n  ammonite.$sess.cmd1$Helper.cubeIt(\u001b[32mcmd1.sc\u001b[39m:\u001b[32m9\u001b[39m)\n  ammonite.$sess.cmd1$Helper.cubeIt(\u001b[32mcmd1.sc\u001b[39m:\u001b[32m9\u001b[39m)\n  ammonite.$sess.cmd1$Helper.cubeIt(\u001b[32mcmd1.sc\u001b[39m:\u001b[32m9\u001b[39m)\n  ammonite.$sess.cmd1$Helper.cubeIt(\u001b[32mcmd1.sc\u001b[39m:\u001b[32m9\u001b[39m)\n  ammonite.$sess.cmd1$Helper.cubeIt(\u001b[32mcmd1.sc\u001b[39m:\u001b[32m9\u001b[39m)\n  ammonite.$sess.cmd1$Helper.cubeIt(\u001b[32mcmd1.sc\u001b[39m:\u001b[32m9\u001b[39m)\n  ammonite.$sess.cmd1$Helper.cubeIt(\u001b[32mcmd1.sc\u001b[39m:\u001b[32m9\u001b[39m)\n  ammonite.$sess.cmd1$Helper.cubeIt(\u001b[32mcmd1.sc\u001b[39m:\u001b[32m9\u001b[39m)\n  ammonite.$sess.cmd1$Helper.cubeIt(\u001b[32mcmd1.sc\u001b[39m:\u001b[32m9\u001b[39m)\n  ammonite.$sess.cmd1$Helper.cubeIt(\u001b[32mcmd1.sc\u001b[39m:\u001b[32m9\u001b[39m)\n  ammonite.$sess.cmd1$Helper.cubeIt(\u001b[32mcmd1.sc\u001b[39m:\u001b[32m9\u001b[39m)\n  ammonite.$sess.cmd1$Helper.cubeIt(\u001b[32mcmd1.sc\u001b[39m:\u001b[32m9\u001b[39m)\n  ammonite.$sess.cmd1$Helper.cubeIt(\u001b[32mcmd1.sc\u001b[39m:\u001b[32m9\u001b[39m)\n  ammonite.$sess.cmd1$Helper.cubeIt(\u001b[32mcmd1.sc\u001b[39m:\u001b[32m9\u001b[39m)\n  ammonite.$sess.cmd1$Helper.cubeIt(\u001b[32mcmd1.sc\u001b[39m:\u001b[32m9\u001b[39m)\n  ammonite.$sess.cmd1$Helper.cubeIt(\u001b[32mcmd1.sc\u001b[39m:\u001b[32m9\u001b[39m)\n  ammonite.$sess.cmd1$Helper.cubeIt(\u001b[32mcmd1.sc\u001b[39m:\u001b[32m9\u001b[39m)\n  ammonite.$sess.cmd1$Helper.cubeIt(\u001b[32mcmd1.sc\u001b[39m:\u001b[32m9\u001b[39m)\n  ammonite.$sess.cmd1$Helper.cubeIt(\u001b[32mcmd1.sc\u001b[39m:\u001b[32m9\u001b[39m)\n  ammonite.$sess.cmd1$Helper.cubeIt(\u001b[32mcmd1.sc\u001b[39m:\u001b[32m9\u001b[39m)\n  ammonite.$sess.cmd1$Helper.cubeIt(\u001b[32mcmd1.sc\u001b[39m:\u001b[32m9\u001b[39m)\n  ammonite.$sess.cmd1$Helper.cubeIt(\u001b[32mcmd1.sc\u001b[39m:\u001b[32m9\u001b[39m)\n  ammonite.$sess.cmd1$Helper.cubeIt(\u001b[32mcmd1.sc\u001b[39m:\u001b[32m9\u001b[39m)\n  ammonite.$sess.cmd1$Helper.cubeIt(\u001b[32mcmd1.sc\u001b[39m:\u001b[32m9\u001b[39m)\n  ammonite.$sess.cmd1$Helper.cubeIt(\u001b[32mcmd1.sc\u001b[39m:\u001b[32m9\u001b[39m)\n  ammonite.$sess.cmd1$Helper.cubeIt(\u001b[32mcmd1.sc\u001b[39m:\u001b[32m9\u001b[39m)\n  ammonite.$sess.cmd1$Helper.cubeIt(\u001b[32mcmd1.sc\u001b[39m:\u001b[32m9\u001b[39m)\n  ammonite.$sess.cmd1$Helper.cubeIt(\u001b[32mcmd1.sc\u001b[39m:\u001b[32m9\u001b[39m)\n  ammonite.$sess.cmd1$Helper.cubeIt(\u001b[32mcmd1.sc\u001b[39m:\u001b[32m9\u001b[39m)\n  ammonite.$sess.cmd1$Helper.cubeIt(\u001b[32mcmd1.sc\u001b[39m:\u001b[32m9\u001b[39m)\n  ammonite.$sess.cmd1$Helper.cubeIt(\u001b[32mcmd1.sc\u001b[39m:\u001b[32m9\u001b[39m)\n  ammonite.$sess.cmd1$Helper.cubeIt(\u001b[32mcmd1.sc\u001b[39m:\u001b[32m9\u001b[39m)\n  ammonite.$sess.cmd1$Helper.cubeIt(\u001b[32mcmd1.sc\u001b[39m:\u001b[32m9\u001b[39m)\n  ammonite.$sess.cmd1$Helper.cubeIt(\u001b[32mcmd1.sc\u001b[39m:\u001b[32m9\u001b[39m)\n  ammonite.$sess.cmd1$Helper.cubeIt(\u001b[32mcmd1.sc\u001b[39m:\u001b[32m9\u001b[39m)\n  ammonite.$sess.cmd1$Helper.cubeIt(\u001b[32mcmd1.sc\u001b[39m:\u001b[32m9\u001b[39m)\n  ammonite.$sess.cmd1$Helper.cubeIt(\u001b[32mcmd1.sc\u001b[39m:\u001b[32m9\u001b[39m)\n  ammonite.$sess.cmd1$Helper.cubeIt(\u001b[32mcmd1.sc\u001b[39m:\u001b[32m9\u001b[39m)\n  ammonite.$sess.cmd1$Helper.cubeIt(\u001b[32mcmd1.sc\u001b[39m:\u001b[32m9\u001b[39m)\n  ammonite.$sess.cmd1$Helper.cubeIt(\u001b[32mcmd1.sc\u001b[39m:\u001b[32m9\u001b[39m)\n  ammonite.$sess.cmd1$Helper.cubeIt(\u001b[32mcmd1.sc\u001b[39m:\u001b[32m9\u001b[39m)\n  ammonite.$sess.cmd1$Helper.cubeIt(\u001b[32mcmd1.sc\u001b[39m:\u001b[32m9\u001b[39m)\n  ammonite.$sess.cmd1$Helper.cubeIt(\u001b[32mcmd1.sc\u001b[39m:\u001b[32m9\u001b[39m)\n  ammonite.$sess.cmd1$Helper.cubeIt(\u001b[32mcmd1.sc\u001b[39m:\u001b[32m9\u001b[39m)\n  ammonite.$sess.cmd1$Helper.cubeIt(\u001b[32mcmd1.sc\u001b[39m:\u001b[32m9\u001b[39m)\n  ammonite.$sess.cmd1$Helper.cubeIt(\u001b[32mcmd1.sc\u001b[39m:\u001b[32m9\u001b[39m)\n  ammonite.$sess.cmd1$Helper.cubeIt(\u001b[32mcmd1.sc\u001b[39m:\u001b[32m9\u001b[39m)\n  ammonite.$sess.cmd1$Helper.cubeIt(\u001b[32mcmd1.sc\u001b[39m:\u001b[32m9\u001b[39m)\n  ammonite.$sess.cmd1$Helper.cubeIt(\u001b[32mcmd1.sc\u001b[39m:\u001b[32m9\u001b[39m)\n  ammonite.$sess.cmd1$Helper.cubeIt(\u001b[32mcmd1.sc\u001b[39m:\u001b[32m9\u001b[39m)\n  ammonite.$sess.cmd1$Helper.cubeIt(\u001b[32mcmd1.sc\u001b[39m:\u001b[32m9\u001b[39m)\n  ammonite.$sess.cmd1$Helper.cubeIt(\u001b[32mcmd1.sc\u001b[39m:\u001b[32m9\u001b[39m)\n  ammonite.$sess.cmd1$Helper.cubeIt(\u001b[32mcmd1.sc\u001b[39m:\u001b[32m9\u001b[39m)\n  ammonite.$sess.cmd1$Helper.cubeIt(\u001b[32mcmd1.sc\u001b[39m:\u001b[32m9\u001b[39m)\n  ammonite.$sess.cmd1$Helper.cubeIt(\u001b[32mcmd1.sc\u001b[39m:\u001b[32m9\u001b[39m)\n  ammonite.$sess.cmd1$Helper.cubeIt(\u001b[32mcmd1.sc\u001b[39m:\u001b[32m9\u001b[39m)\n  ammonite.$sess.cmd1$Helper.cubeIt(\u001b[32mcmd1.sc\u001b[39m:\u001b[32m9\u001b[39m)\n  ammonite.$sess.cmd1$Helper.cubeIt(\u001b[32mcmd1.sc\u001b[39m:\u001b[32m9\u001b[39m)\n  ammonite.$sess.cmd1$Helper.cubeIt(\u001b[32mcmd1.sc\u001b[39m:\u001b[32m9\u001b[39m)\n  ammonite.$sess.cmd1$Helper.cubeIt(\u001b[32mcmd1.sc\u001b[39m:\u001b[32m9\u001b[39m)\n  ammonite.$sess.cmd1$Helper.cubeIt(\u001b[32mcmd1.sc\u001b[39m:\u001b[32m9\u001b[39m)\n  ammonite.$sess.cmd1$Helper.cubeIt(\u001b[32mcmd1.sc\u001b[39m:\u001b[32m9\u001b[39m)\n  ammonite.$sess.cmd1$Helper.cubeIt(\u001b[32mcmd1.sc\u001b[39m:\u001b[32m9\u001b[39m)\n  ammonite.$sess.cmd1$Helper.cubeIt(\u001b[32mcmd1.sc\u001b[39m:\u001b[32m9\u001b[39m)\n  ammonite.$sess.cmd1$Helper.cubeIt(\u001b[32mcmd1.sc\u001b[39m:\u001b[32m9\u001b[39m)\n  ammonite.$sess.cmd1$Helper.cubeIt(\u001b[32mcmd1.sc\u001b[39m:\u001b[32m9\u001b[39m)\n  ammonite.$sess.cmd1$Helper.cubeIt(\u001b[32mcmd1.sc\u001b[39m:\u001b[32m9\u001b[39m)\n  ammonite.$sess.cmd1$Helper.cubeIt(\u001b[32mcmd1.sc\u001b[39m:\u001b[32m9\u001b[39m)\n  ammonite.$sess.cmd1$Helper.cubeIt(\u001b[32mcmd1.sc\u001b[39m:\u001b[32m9\u001b[39m)\n  ammonite.$sess.cmd1$Helper.cubeIt(\u001b[32mcmd1.sc\u001b[39m:\u001b[32m9\u001b[39m)\n  ammonite.$sess.cmd1$Helper.cubeIt(\u001b[32mcmd1.sc\u001b[39m:\u001b[32m9\u001b[39m)\n  ammonite.$sess.cmd1$Helper.cubeIt(\u001b[32mcmd1.sc\u001b[39m:\u001b[32m9\u001b[39m)\n  ammonite.$sess.cmd1$Helper.cubeIt(\u001b[32mcmd1.sc\u001b[39m:\u001b[32m9\u001b[39m)\n  ammonite.$sess.cmd1$Helper.cubeIt(\u001b[32mcmd1.sc\u001b[39m:\u001b[32m9\u001b[39m)\n  ammonite.$sess.cmd1$Helper.cubeIt(\u001b[32mcmd1.sc\u001b[39m:\u001b[32m9\u001b[39m)\n  ammonite.$sess.cmd1$Helper.cubeIt(\u001b[32mcmd1.sc\u001b[39m:\u001b[32m9\u001b[39m)\n  ammonite.$sess.cmd1$Helper.cubeIt(\u001b[32mcmd1.sc\u001b[39m:\u001b[32m9\u001b[39m)\n  ammonite.$sess.cmd1$Helper.cubeIt(\u001b[32mcmd1.sc\u001b[39m:\u001b[32m9\u001b[39m)\n  ammonite.$sess.cmd1$Helper.cubeIt(\u001b[32mcmd1.sc\u001b[39m:\u001b[32m9\u001b[39m)\n  ammonite.$sess.cmd1$Helper.cubeIt(\u001b[32mcmd1.sc\u001b[39m:\u001b[32m9\u001b[39m)\n  ammonite.$sess.cmd1$Helper.cubeIt(\u001b[32mcmd1.sc\u001b[39m:\u001b[32m9\u001b[39m)\n  ammonite.$sess.cmd1$Helper.cubeIt(\u001b[32mcmd1.sc\u001b[39m:\u001b[32m9\u001b[39m)\n  ammonite.$sess.cmd1$Helper.cubeIt(\u001b[32mcmd1.sc\u001b[39m:\u001b[32m9\u001b[39m)\n  ammonite.$sess.cmd1$Helper.cubeIt(\u001b[32mcmd1.sc\u001b[39m:\u001b[32m9\u001b[39m)\n  ammonite.$sess.cmd1$Helper.cubeIt(\u001b[32mcmd1.sc\u001b[39m:\u001b[32m9\u001b[39m)\n  ammonite.$sess.cmd1$Helper.cubeIt(\u001b[32mcmd1.sc\u001b[39m:\u001b[32m9\u001b[39m)\n  ammonite.$sess.cmd1$Helper.cubeIt(\u001b[32mcmd1.sc\u001b[39m:\u001b[32m9\u001b[39m)\n  ammonite.$sess.cmd1$Helper.cubeIt(\u001b[32mcmd1.sc\u001b[39m:\u001b[32m9\u001b[39m)\n  ammonite.$sess.cmd1$Helper.cubeIt(\u001b[32mcmd1.sc\u001b[39m:\u001b[32m9\u001b[39m)\n  ammonite.$sess.cmd1$Helper.cubeIt(\u001b[32mcmd1.sc\u001b[39m:\u001b[32m9\u001b[39m)\n  ammonite.$sess.cmd1$Helper.cubeIt(\u001b[32mcmd1.sc\u001b[39m:\u001b[32m9\u001b[39m)\n  ammonite.$sess.cmd1$Helper.cubeIt(\u001b[32mcmd1.sc\u001b[39m:\u001b[32m9\u001b[39m)\n  ammonite.$sess.cmd1$Helper.cubeIt(\u001b[32mcmd1.sc\u001b[39m:\u001b[32m9\u001b[39m)\n  ammonite.$sess.cmd1$Helper.cubeIt(\u001b[32mcmd1.sc\u001b[39m:\u001b[32m9\u001b[39m)\n  ammonite.$sess.cmd1$Helper.cubeIt(\u001b[32mcmd1.sc\u001b[39m:\u001b[32m9\u001b[39m)\n  ammonite.$sess.cmd1$Helper.cubeIt(\u001b[32mcmd1.sc\u001b[39m:\u001b[32m9\u001b[39m)\n  ammonite.$sess.cmd1$Helper.cubeIt(\u001b[32mcmd1.sc\u001b[39m:\u001b[32m9\u001b[39m)\n  ammonite.$sess.cmd1$Helper.cubeIt(\u001b[32mcmd1.sc\u001b[39m:\u001b[32m9\u001b[39m)\n  ammonite.$sess.cmd1$Helper.cubeIt(\u001b[32mcmd1.sc\u001b[39m:\u001b[32m9\u001b[39m)\n  ammonite.$sess.cmd1$Helper.cubeIt(\u001b[32mcmd1.sc\u001b[39m:\u001b[32m9\u001b[39m)\n  ammonite.$sess.cmd1$Helper.cubeIt(\u001b[32mcmd1.sc\u001b[39m:\u001b[32m9\u001b[39m)\n  ammonite.$sess.cmd1$Helper.cubeIt(\u001b[32mcmd1.sc\u001b[39m:\u001b[32m9\u001b[39m)\n  ammonite.$sess.cmd1$Helper.cubeIt(\u001b[32mcmd1.sc\u001b[39m:\u001b[32m9\u001b[39m)\n  ammonite.$sess.cmd1$Helper.cubeIt(\u001b[32mcmd1.sc\u001b[39m:\u001b[32m9\u001b[39m)\n  ammonite.$sess.cmd1$Helper.cubeIt(\u001b[32mcmd1.sc\u001b[39m:\u001b[32m9\u001b[39m)\n  ammonite.$sess.cmd1$Helper.cubeIt(\u001b[32mcmd1.sc\u001b[39m:\u001b[32m9\u001b[39m)\n  ammonite.$sess.cmd1$Helper.cubeIt(\u001b[32mcmd1.sc\u001b[39m:\u001b[32m9\u001b[39m)\n  ammonite.$sess.cmd1$Helper.cubeIt(\u001b[32mcmd1.sc\u001b[39m:\u001b[32m9\u001b[39m)\n  ammonite.$sess.cmd1$Helper.cubeIt(\u001b[32mcmd1.sc\u001b[39m:\u001b[32m9\u001b[39m)\n  ammonite.$sess.cmd1$Helper.cubeIt(\u001b[32mcmd1.sc\u001b[39m:\u001b[32m9\u001b[39m)\n  ammonite.$sess.cmd1$Helper.cubeIt(\u001b[32mcmd1.sc\u001b[39m:\u001b[32m9\u001b[39m)\n  ammonite.$sess.cmd1$Helper.cubeIt(\u001b[32mcmd1.sc\u001b[39m:\u001b[32m9\u001b[39m)\n  ammonite.$sess.cmd1$Helper.cubeIt(\u001b[32mcmd1.sc\u001b[39m:\u001b[32m9\u001b[39m)\n  ammonite.$sess.cmd1$Helper.cubeIt(\u001b[32mcmd1.sc\u001b[39m:\u001b[32m9\u001b[39m)\n  ammonite.$sess.cmd1$Helper.cubeIt(\u001b[32mcmd1.sc\u001b[39m:\u001b[32m9\u001b[39m)\n  ammonite.$sess.cmd1$Helper.cubeIt(\u001b[32mcmd1.sc\u001b[39m:\u001b[32m9\u001b[39m)\n  ammonite.$sess.cmd1$Helper.cubeIt(\u001b[32mcmd1.sc\u001b[39m:\u001b[32m9\u001b[39m)\n  ammonite.$sess.cmd1$Helper.cubeIt(\u001b[32mcmd1.sc\u001b[39m:\u001b[32m9\u001b[39m)\n  ammonite.$sess.cmd1$Helper.cubeIt(\u001b[32mcmd1.sc\u001b[39m:\u001b[32m9\u001b[39m)\n  ammonite.$sess.cmd1$Helper.cubeIt(\u001b[32mcmd1.sc\u001b[39m:\u001b[32m9\u001b[39m)\n  ammonite.$sess.cmd1$Helper.cubeIt(\u001b[32mcmd1.sc\u001b[39m:\u001b[32m9\u001b[39m)\n  ammonite.$sess.cmd1$Helper.cubeIt(\u001b[32mcmd1.sc\u001b[39m:\u001b[32m9\u001b[39m)\n  ammonite.$sess.cmd1$Helper.cubeIt(\u001b[32mcmd1.sc\u001b[39m:\u001b[32m9\u001b[39m)\n  ammonite.$sess.cmd1$Helper.cubeIt(\u001b[32mcmd1.sc\u001b[39m:\u001b[32m9\u001b[39m)\n  ammonite.$sess.cmd1$Helper.cubeIt(\u001b[32mcmd1.sc\u001b[39m:\u001b[32m9\u001b[39m)\n  ammonite.$sess.cmd1$Helper.cubeIt(\u001b[32mcmd1.sc\u001b[39m:\u001b[32m9\u001b[39m)\n  ammonite.$sess.cmd1$Helper.cubeIt(\u001b[32mcmd1.sc\u001b[39m:\u001b[32m9\u001b[39m)\n  ammonite.$sess.cmd1$Helper.cubeIt(\u001b[32mcmd1.sc\u001b[39m:\u001b[32m9\u001b[39m)\n  ammonite.$sess.cmd1$Helper.cubeIt(\u001b[32mcmd1.sc\u001b[39m:\u001b[32m9\u001b[39m)\n  ammonite.$sess.cmd1$Helper.cubeIt(\u001b[32mcmd1.sc\u001b[39m:\u001b[32m9\u001b[39m)\n  ammonite.$sess.cmd1$Helper.cubeIt(\u001b[32mcmd1.sc\u001b[39m:\u001b[32m9\u001b[39m)\n  ammonite.$sess.cmd1$Helper.cubeIt(\u001b[32mcmd1.sc\u001b[39m:\u001b[32m9\u001b[39m)\n  ammonite.$sess.cmd1$Helper.cubeIt(\u001b[32mcmd1.sc\u001b[39m:\u001b[32m9\u001b[39m)\n  ammonite.$sess.cmd1$Helper.cubeIt(\u001b[32mcmd1.sc\u001b[39m:\u001b[32m9\u001b[39m)\n  ammonite.$sess.cmd1$Helper.cubeIt(\u001b[32mcmd1.sc\u001b[39m:\u001b[32m9\u001b[39m)\n  ammonite.$sess.cmd1$Helper.cubeIt(\u001b[32mcmd1.sc\u001b[39m:\u001b[32m9\u001b[39m)\n  ammonite.$sess.cmd1$Helper.cubeIt(\u001b[32mcmd1.sc\u001b[39m:\u001b[32m9\u001b[39m)\n  ammonite.$sess.cmd1$Helper.cubeIt(\u001b[32mcmd1.sc\u001b[39m:\u001b[32m9\u001b[39m)\n  ammonite.$sess.cmd1$Helper.cubeIt(\u001b[32mcmd1.sc\u001b[39m:\u001b[32m9\u001b[39m)\n  ammonite.$sess.cmd1$Helper.cubeIt(\u001b[32mcmd1.sc\u001b[39m:\u001b[32m9\u001b[39m)\n  ammonite.$sess.cmd1$Helper.cubeIt(\u001b[32mcmd1.sc\u001b[39m:\u001b[32m9\u001b[39m)\n  ammonite.$sess.cmd1$Helper.cubeIt(\u001b[32mcmd1.sc\u001b[39m:\u001b[32m9\u001b[39m)\n  ammonite.$sess.cmd1$Helper.cubeIt(\u001b[32mcmd1.sc\u001b[39m:\u001b[32m9\u001b[39m)\n  ammonite.$sess.cmd1$Helper.cubeIt(\u001b[32mcmd1.sc\u001b[39m:\u001b[32m9\u001b[39m)\n  ammonite.$sess.cmd1$Helper.cubeIt(\u001b[32mcmd1.sc\u001b[39m:\u001b[32m9\u001b[39m)\n  ammonite.$sess.cmd1$Helper.cubeIt(\u001b[32mcmd1.sc\u001b[39m:\u001b[32m9\u001b[39m)\n  ammonite.$sess.cmd1$Helper.cubeIt(\u001b[32mcmd1.sc\u001b[39m:\u001b[32m9\u001b[39m)\n  ammonite.$sess.cmd1$Helper.cubeIt(\u001b[32mcmd1.sc\u001b[39m:\u001b[32m9\u001b[39m)\n  ammonite.$sess.cmd1$Helper.cubeIt(\u001b[32mcmd1.sc\u001b[39m:\u001b[32m9\u001b[39m)\n  ammonite.$sess.cmd1$Helper.cubeIt(\u001b[32mcmd1.sc\u001b[39m:\u001b[32m9\u001b[39m)\n  ammonite.$sess.cmd1$Helper.cubeIt(\u001b[32mcmd1.sc\u001b[39m:\u001b[32m9\u001b[39m)\n  ammonite.$sess.cmd1$Helper.cubeIt(\u001b[32mcmd1.sc\u001b[39m:\u001b[32m9\u001b[39m)\n  ammonite.$sess.cmd1$Helper.cubeIt(\u001b[32mcmd1.sc\u001b[39m:\u001b[32m9\u001b[39m)\n  ammonite.$sess.cmd1$Helper.cubeIt(\u001b[32mcmd1.sc\u001b[39m:\u001b[32m9\u001b[39m)\n  ammonite.$sess.cmd1$Helper.cubeIt(\u001b[32mcmd1.sc\u001b[39m:\u001b[32m9\u001b[39m)\n  ammonite.$sess.cmd1$Helper.cubeIt(\u001b[32mcmd1.sc\u001b[39m:\u001b[32m9\u001b[39m)\n  ammonite.$sess.cmd1$Helper.cubeIt(\u001b[32mcmd1.sc\u001b[39m:\u001b[32m9\u001b[39m)\n  ammonite.$sess.cmd1$Helper.cubeIt(\u001b[32mcmd1.sc\u001b[39m:\u001b[32m9\u001b[39m)\n  ammonite.$sess.cmd1$Helper.cubeIt(\u001b[32mcmd1.sc\u001b[39m:\u001b[32m9\u001b[39m)\n  ammonite.$sess.cmd1$Helper.cubeIt(\u001b[32mcmd1.sc\u001b[39m:\u001b[32m9\u001b[39m)\n  ammonite.$sess.cmd1$Helper.cubeIt(\u001b[32mcmd1.sc\u001b[39m:\u001b[32m9\u001b[39m)\n  ammonite.$sess.cmd1$Helper.cubeIt(\u001b[32mcmd1.sc\u001b[39m:\u001b[32m9\u001b[39m)\n  ammonite.$sess.cmd1$Helper.cubeIt(\u001b[32mcmd1.sc\u001b[39m:\u001b[32m9\u001b[39m)\n  ammonite.$sess.cmd1$Helper.cubeIt(\u001b[32mcmd1.sc\u001b[39m:\u001b[32m9\u001b[39m)\n  ammonite.$sess.cmd1$Helper.cubeIt(\u001b[32mcmd1.sc\u001b[39m:\u001b[32m9\u001b[39m)\n  ammonite.$sess.cmd1$Helper.cubeIt(\u001b[32mcmd1.sc\u001b[39m:\u001b[32m9\u001b[39m)\n  ammonite.$sess.cmd1$Helper.cubeIt(\u001b[32mcmd1.sc\u001b[39m:\u001b[32m9\u001b[39m)\n  ammonite.$sess.cmd1$Helper.cubeIt(\u001b[32mcmd1.sc\u001b[39m:\u001b[32m9\u001b[39m)\n  ammonite.$sess.cmd1$Helper.cubeIt(\u001b[32mcmd1.sc\u001b[39m:\u001b[32m9\u001b[39m)\n  ammonite.$sess.cmd1$Helper.cubeIt(\u001b[32mcmd1.sc\u001b[39m:\u001b[32m9\u001b[39m)\n  ammonite.$sess.cmd1$Helper.cubeIt(\u001b[32mcmd1.sc\u001b[39m:\u001b[32m9\u001b[39m)\n  ammonite.$sess.cmd1$Helper.cubeIt(\u001b[32mcmd1.sc\u001b[39m:\u001b[32m9\u001b[39m)\n  ammonite.$sess.cmd1$Helper.cubeIt(\u001b[32mcmd1.sc\u001b[39m:\u001b[32m9\u001b[39m)\n  ammonite.$sess.cmd1$Helper.cubeIt(\u001b[32mcmd1.sc\u001b[39m:\u001b[32m9\u001b[39m)\n  ammonite.$sess.cmd1$Helper.cubeIt(\u001b[32mcmd1.sc\u001b[39m:\u001b[32m9\u001b[39m)\n  ammonite.$sess.cmd1$Helper.cubeIt(\u001b[32mcmd1.sc\u001b[39m:\u001b[32m9\u001b[39m)\n  ammonite.$sess.cmd1$Helper.cubeIt(\u001b[32mcmd1.sc\u001b[39m:\u001b[32m9\u001b[39m)\n  ammonite.$sess.cmd1$Helper.cubeIt(\u001b[32mcmd1.sc\u001b[39m:\u001b[32m9\u001b[39m)\n  ammonite.$sess.cmd1$Helper.cubeIt(\u001b[32mcmd1.sc\u001b[39m:\u001b[32m9\u001b[39m)\n  ammonite.$sess.cmd1$Helper.cubeIt(\u001b[32mcmd1.sc\u001b[39m:\u001b[32m9\u001b[39m)\n  ammonite.$sess.cmd1$Helper.cubeIt(\u001b[32mcmd1.sc\u001b[39m:\u001b[32m9\u001b[39m)\n  ammonite.$sess.cmd1$Helper.cubeIt(\u001b[32mcmd1.sc\u001b[39m:\u001b[32m9\u001b[39m)\n  ammonite.$sess.cmd1$Helper.cubeIt(\u001b[32mcmd1.sc\u001b[39m:\u001b[32m9\u001b[39m)\n  ammonite.$sess.cmd1$Helper.cubeIt(\u001b[32mcmd1.sc\u001b[39m:\u001b[32m9\u001b[39m)\n  ammonite.$sess.cmd1$Helper.cubeIt(\u001b[32mcmd1.sc\u001b[39m:\u001b[32m9\u001b[39m)\n  ammonite.$sess.cmd1$Helper.cubeIt(\u001b[32mcmd1.sc\u001b[39m:\u001b[32m9\u001b[39m)\n  ammonite.$sess.cmd1$Helper.cubeIt(\u001b[32mcmd1.sc\u001b[39m:\u001b[32m9\u001b[39m)\n  ammonite.$sess.cmd1$Helper.cubeIt(\u001b[32mcmd1.sc\u001b[39m:\u001b[32m9\u001b[39m)\n  ammonite.$sess.cmd1$Helper.cubeIt(\u001b[32mcmd1.sc\u001b[39m:\u001b[32m9\u001b[39m)\n  ammonite.$sess.cmd1$Helper.cubeIt(\u001b[32mcmd1.sc\u001b[39m:\u001b[32m9\u001b[39m)\n  ammonite.$sess.cmd1$Helper.cubeIt(\u001b[32mcmd1.sc\u001b[39m:\u001b[32m9\u001b[39m)\n  ammonite.$sess.cmd1$Helper.cubeIt(\u001b[32mcmd1.sc\u001b[39m:\u001b[32m9\u001b[39m)\n  ammonite.$sess.cmd1$Helper.cubeIt(\u001b[32mcmd1.sc\u001b[39m:\u001b[32m9\u001b[39m)\n  ammonite.$sess.cmd1$Helper.cubeIt(\u001b[32mcmd1.sc\u001b[39m:\u001b[32m9\u001b[39m)\n  ammonite.$sess.cmd1$Helper.cubeIt(\u001b[32mcmd1.sc\u001b[39m:\u001b[32m9\u001b[39m)\n  ammonite.$sess.cmd1$Helper.cubeIt(\u001b[32mcmd1.sc\u001b[39m:\u001b[32m9\u001b[39m)\n  ammonite.$sess.cmd1$Helper.cubeIt(\u001b[32mcmd1.sc\u001b[39m:\u001b[32m9\u001b[39m)\n  ammonite.$sess.cmd1$Helper.cubeIt(\u001b[32mcmd1.sc\u001b[39m:\u001b[32m9\u001b[39m)\n  ammonite.$sess.cmd1$Helper.cubeIt(\u001b[32mcmd1.sc\u001b[39m:\u001b[32m9\u001b[39m)\n  ammonite.$sess.cmd1$Helper.cubeIt(\u001b[32mcmd1.sc\u001b[39m:\u001b[32m9\u001b[39m)\n  ammonite.$sess.cmd1$Helper.cubeIt(\u001b[32mcmd1.sc\u001b[39m:\u001b[32m9\u001b[39m)\n  ammonite.$sess.cmd1$Helper.cubeIt(\u001b[32mcmd1.sc\u001b[39m:\u001b[32m9\u001b[39m)\n  ammonite.$sess.cmd1$Helper.cubeIt(\u001b[32mcmd1.sc\u001b[39m:\u001b[32m9\u001b[39m)\n  ammonite.$sess.cmd1$Helper.cubeIt(\u001b[32mcmd1.sc\u001b[39m:\u001b[32m9\u001b[39m)\n  ammonite.$sess.cmd1$Helper.cubeIt(\u001b[32mcmd1.sc\u001b[39m:\u001b[32m9\u001b[39m)\n  ammonite.$sess.cmd1$Helper.cubeIt(\u001b[32mcmd1.sc\u001b[39m:\u001b[32m9\u001b[39m)\n  ammonite.$sess.cmd1$Helper.cubeIt(\u001b[32mcmd1.sc\u001b[39m:\u001b[32m9\u001b[39m)\n  ammonite.$sess.cmd1$Helper.cubeIt(\u001b[32mcmd1.sc\u001b[39m:\u001b[32m9\u001b[39m)\n  ammonite.$sess.cmd1$Helper.cubeIt(\u001b[32mcmd1.sc\u001b[39m:\u001b[32m9\u001b[39m)\n  ammonite.$sess.cmd1$Helper.cubeIt(\u001b[32mcmd1.sc\u001b[39m:\u001b[32m9\u001b[39m)\n  ammonite.$sess.cmd1$Helper.cubeIt(\u001b[32mcmd1.sc\u001b[39m:\u001b[32m9\u001b[39m)\n  ammonite.$sess.cmd1$Helper.cubeIt(\u001b[32mcmd1.sc\u001b[39m:\u001b[32m9\u001b[39m)\n  ammonite.$sess.cmd1$Helper.cubeIt(\u001b[32mcmd1.sc\u001b[39m:\u001b[32m9\u001b[39m)\n  ammonite.$sess.cmd1$Helper.cubeIt(\u001b[32mcmd1.sc\u001b[39m:\u001b[32m9\u001b[39m)\n  ammonite.$sess.cmd1$Helper.cubeIt(\u001b[32mcmd1.sc\u001b[39m:\u001b[32m9\u001b[39m)\n  ammonite.$sess.cmd1$Helper.cubeIt(\u001b[32mcmd1.sc\u001b[39m:\u001b[32m9\u001b[39m)\n  ammonite.$sess.cmd1$Helper.cubeIt(\u001b[32mcmd1.sc\u001b[39m:\u001b[32m9\u001b[39m)\n  ammonite.$sess.cmd1$Helper.cubeIt(\u001b[32mcmd1.sc\u001b[39m:\u001b[32m9\u001b[39m)\n  ammonite.$sess.cmd1$Helper.cubeIt(\u001b[32mcmd1.sc\u001b[39m:\u001b[32m9\u001b[39m)\n  ammonite.$sess.cmd1$Helper.cubeIt(\u001b[32mcmd1.sc\u001b[39m:\u001b[32m9\u001b[39m)\n  ammonite.$sess.cmd1$Helper.cubeIt(\u001b[32mcmd1.sc\u001b[39m:\u001b[32m9\u001b[39m)\n  ammonite.$sess.cmd1$Helper.cubeIt(\u001b[32mcmd1.sc\u001b[39m:\u001b[32m9\u001b[39m)\n  ammonite.$sess.cmd1$Helper.cubeIt(\u001b[32mcmd1.sc\u001b[39m:\u001b[32m9\u001b[39m)\n  ammonite.$sess.cmd1$Helper.cubeIt(\u001b[32mcmd1.sc\u001b[39m:\u001b[32m9\u001b[39m)\n  ammonite.$sess.cmd1$Helper.cubeIt(\u001b[32mcmd1.sc\u001b[39m:\u001b[32m9\u001b[39m)\n  ammonite.$sess.cmd1$Helper.cubeIt(\u001b[32mcmd1.sc\u001b[39m:\u001b[32m9\u001b[39m)\n  ammonite.$sess.cmd1$Helper.cubeIt(\u001b[32mcmd1.sc\u001b[39m:\u001b[32m9\u001b[39m)\n  ammonite.$sess.cmd1$Helper.cubeIt(\u001b[32mcmd1.sc\u001b[39m:\u001b[32m9\u001b[39m)\n  ammonite.$sess.cmd1$Helper.cubeIt(\u001b[32mcmd1.sc\u001b[39m:\u001b[32m9\u001b[39m)\n  ammonite.$sess.cmd1$Helper.cubeIt(\u001b[32mcmd1.sc\u001b[39m:\u001b[32m9\u001b[39m)\n  ammonite.$sess.cmd1$Helper.cubeIt(\u001b[32mcmd1.sc\u001b[39m:\u001b[32m9\u001b[39m)\n  ammonite.$sess.cmd1$Helper.cubeIt(\u001b[32mcmd1.sc\u001b[39m:\u001b[32m9\u001b[39m)\n  ammonite.$sess.cmd1$Helper.cubeIt(\u001b[32mcmd1.sc\u001b[39m:\u001b[32m9\u001b[39m)\n  ammonite.$sess.cmd1$Helper.cubeIt(\u001b[32mcmd1.sc\u001b[39m:\u001b[32m9\u001b[39m)\n  ammonite.$sess.cmd1$Helper.cubeIt(\u001b[32mcmd1.sc\u001b[39m:\u001b[32m9\u001b[39m)\n  ammonite.$sess.cmd1$Helper.cubeIt(\u001b[32mcmd1.sc\u001b[39m:\u001b[32m9\u001b[39m)\n  ammonite.$sess.cmd1$Helper.cubeIt(\u001b[32mcmd1.sc\u001b[39m:\u001b[32m9\u001b[39m)\n  ammonite.$sess.cmd1$Helper.cubeIt(\u001b[32mcmd1.sc\u001b[39m:\u001b[32m9\u001b[39m)\n  ammonite.$sess.cmd1$Helper.cubeIt(\u001b[32mcmd1.sc\u001b[39m:\u001b[32m9\u001b[39m)\n  ammonite.$sess.cmd1$Helper.cubeIt(\u001b[32mcmd1.sc\u001b[39m:\u001b[32m9\u001b[39m)\n  ammonite.$sess.cmd1$Helper.cubeIt(\u001b[32mcmd1.sc\u001b[39m:\u001b[32m9\u001b[39m)\n  ammonite.$sess.cmd1$Helper.cubeIt(\u001b[32mcmd1.sc\u001b[39m:\u001b[32m9\u001b[39m)\n  ammonite.$sess.cmd1$Helper.cubeIt(\u001b[32mcmd1.sc\u001b[39m:\u001b[32m9\u001b[39m)\n  ammonite.$sess.cmd1$Helper.cubeIt(\u001b[32mcmd1.sc\u001b[39m:\u001b[32m9\u001b[39m)\n  ammonite.$sess.cmd1$Helper.cubeIt(\u001b[32mcmd1.sc\u001b[39m:\u001b[32m9\u001b[39m)\n  ammonite.$sess.cmd1$Helper.cubeIt(\u001b[32mcmd1.sc\u001b[39m:\u001b[32m9\u001b[39m)\n  ammonite.$sess.cmd1$Helper.cubeIt(\u001b[32mcmd1.sc\u001b[39m:\u001b[32m9\u001b[39m)\n  ammonite.$sess.cmd1$Helper.cubeIt(\u001b[32mcmd1.sc\u001b[39m:\u001b[32m9\u001b[39m)\n  ammonite.$sess.cmd1$Helper.cubeIt(\u001b[32mcmd1.sc\u001b[39m:\u001b[32m9\u001b[39m)\n  ammonite.$sess.cmd1$Helper.cubeIt(\u001b[32mcmd1.sc\u001b[39m:\u001b[32m9\u001b[39m)\n  ammonite.$sess.cmd1$Helper.cubeIt(\u001b[32mcmd1.sc\u001b[39m:\u001b[32m9\u001b[39m)\n  ammonite.$sess.cmd1$Helper.cubeIt(\u001b[32mcmd1.sc\u001b[39m:\u001b[32m9\u001b[39m)\n  ammonite.$sess.cmd1$Helper.cubeIt(\u001b[32mcmd1.sc\u001b[39m:\u001b[32m9\u001b[39m)\n  ammonite.$sess.cmd1$Helper.cubeIt(\u001b[32mcmd1.sc\u001b[39m:\u001b[32m9\u001b[39m)\n  ammonite.$sess.cmd1$Helper.cubeIt(\u001b[32mcmd1.sc\u001b[39m:\u001b[32m9\u001b[39m)\n  ammonite.$sess.cmd1$Helper.cubeIt(\u001b[32mcmd1.sc\u001b[39m:\u001b[32m9\u001b[39m)\n  ammonite.$sess.cmd1$Helper.cubeIt(\u001b[32mcmd1.sc\u001b[39m:\u001b[32m9\u001b[39m)\n  ammonite.$sess.cmd1$Helper.cubeIt(\u001b[32mcmd1.sc\u001b[39m:\u001b[32m9\u001b[39m)\n  ammonite.$sess.cmd1$Helper.cubeIt(\u001b[32mcmd1.sc\u001b[39m:\u001b[32m9\u001b[39m)\n  ammonite.$sess.cmd1$Helper.cubeIt(\u001b[32mcmd1.sc\u001b[39m:\u001b[32m9\u001b[39m)\n  ammonite.$sess.cmd1$Helper.cubeIt(\u001b[32mcmd1.sc\u001b[39m:\u001b[32m9\u001b[39m)\n  ammonite.$sess.cmd1$Helper.cubeIt(\u001b[32mcmd1.sc\u001b[39m:\u001b[32m9\u001b[39m)\n  ammonite.$sess.cmd1$Helper.cubeIt(\u001b[32mcmd1.sc\u001b[39m:\u001b[32m9\u001b[39m)\n  ammonite.$sess.cmd1$Helper.cubeIt(\u001b[32mcmd1.sc\u001b[39m:\u001b[32m9\u001b[39m)\n  ammonite.$sess.cmd1$Helper.cubeIt(\u001b[32mcmd1.sc\u001b[39m:\u001b[32m9\u001b[39m)\n  ammonite.$sess.cmd1$Helper.cubeIt(\u001b[32mcmd1.sc\u001b[39m:\u001b[32m9\u001b[39m)\n  ammonite.$sess.cmd1$Helper.cubeIt(\u001b[32mcmd1.sc\u001b[39m:\u001b[32m9\u001b[39m)\n  ammonite.$sess.cmd1$Helper.cubeIt(\u001b[32mcmd1.sc\u001b[39m:\u001b[32m9\u001b[39m)\n  ammonite.$sess.cmd1$Helper.cubeIt(\u001b[32mcmd1.sc\u001b[39m:\u001b[32m9\u001b[39m)\n  ammonite.$sess.cmd1$Helper.cubeIt(\u001b[32mcmd1.sc\u001b[39m:\u001b[32m9\u001b[39m)\n  ammonite.$sess.cmd1$Helper.cubeIt(\u001b[32mcmd1.sc\u001b[39m:\u001b[32m9\u001b[39m)\n  ammonite.$sess.cmd1$Helper.cubeIt(\u001b[32mcmd1.sc\u001b[39m:\u001b[32m9\u001b[39m)\n  ammonite.$sess.cmd1$Helper.cubeIt(\u001b[32mcmd1.sc\u001b[39m:\u001b[32m9\u001b[39m)\n  ammonite.$sess.cmd1$Helper.cubeIt(\u001b[32mcmd1.sc\u001b[39m:\u001b[32m9\u001b[39m)\n  ammonite.$sess.cmd1$Helper.cubeIt(\u001b[32mcmd1.sc\u001b[39m:\u001b[32m9\u001b[39m)\n  ammonite.$sess.cmd1$Helper.cubeIt(\u001b[32mcmd1.sc\u001b[39m:\u001b[32m9\u001b[39m)\n  ammonite.$sess.cmd1$Helper.cubeIt(\u001b[32mcmd1.sc\u001b[39m:\u001b[32m9\u001b[39m)\n  ammonite.$sess.cmd1$Helper.cubeIt(\u001b[32mcmd1.sc\u001b[39m:\u001b[32m9\u001b[39m)\n  ammonite.$sess.cmd1$Helper.cubeIt(\u001b[32mcmd1.sc\u001b[39m:\u001b[32m9\u001b[39m)\n  ammonite.$sess.cmd1$Helper.cubeIt(\u001b[32mcmd1.sc\u001b[39m:\u001b[32m9\u001b[39m)\n  ammonite.$sess.cmd1$Helper.cubeIt(\u001b[32mcmd1.sc\u001b[39m:\u001b[32m9\u001b[39m)\n  ammonite.$sess.cmd1$Helper.cubeIt(\u001b[32mcmd1.sc\u001b[39m:\u001b[32m9\u001b[39m)\n  ammonite.$sess.cmd1$Helper.cubeIt(\u001b[32mcmd1.sc\u001b[39m:\u001b[32m9\u001b[39m)\n  ammonite.$sess.cmd1$Helper.cubeIt(\u001b[32mcmd1.sc\u001b[39m:\u001b[32m9\u001b[39m)\n  ammonite.$sess.cmd1$Helper.cubeIt(\u001b[32mcmd1.sc\u001b[39m:\u001b[32m9\u001b[39m)\n  ammonite.$sess.cmd1$Helper.cubeIt(\u001b[32mcmd1.sc\u001b[39m:\u001b[32m9\u001b[39m)\n  ammonite.$sess.cmd1$Helper.cubeIt(\u001b[32mcmd1.sc\u001b[39m:\u001b[32m9\u001b[39m)\n  ammonite.$sess.cmd1$Helper.cubeIt(\u001b[32mcmd1.sc\u001b[39m:\u001b[32m9\u001b[39m)\n  ammonite.$sess.cmd1$Helper.cubeIt(\u001b[32mcmd1.sc\u001b[39m:\u001b[32m9\u001b[39m)\n  ammonite.$sess.cmd1$Helper.cubeIt(\u001b[32mcmd1.sc\u001b[39m:\u001b[32m9\u001b[39m)\n  ammonite.$sess.cmd1$Helper.cubeIt(\u001b[32mcmd1.sc\u001b[39m:\u001b[32m9\u001b[39m)\n  ammonite.$sess.cmd1$Helper.cubeIt(\u001b[32mcmd1.sc\u001b[39m:\u001b[32m9\u001b[39m)\n  ammonite.$sess.cmd1$Helper.cubeIt(\u001b[32mcmd1.sc\u001b[39m:\u001b[32m9\u001b[39m)\n  ammonite.$sess.cmd1$Helper.cubeIt(\u001b[32mcmd1.sc\u001b[39m:\u001b[32m9\u001b[39m)\n  ammonite.$sess.cmd1$Helper.cubeIt(\u001b[32mcmd1.sc\u001b[39m:\u001b[32m9\u001b[39m)\n  ammonite.$sess.cmd1$Helper.cubeIt(\u001b[32mcmd1.sc\u001b[39m:\u001b[32m9\u001b[39m)\n  ammonite.$sess.cmd1$Helper.cubeIt(\u001b[32mcmd1.sc\u001b[39m:\u001b[32m9\u001b[39m)\n  ammonite.$sess.cmd1$Helper.cubeIt(\u001b[32mcmd1.sc\u001b[39m:\u001b[32m9\u001b[39m)\n  ammonite.$sess.cmd1$Helper.cubeIt(\u001b[32mcmd1.sc\u001b[39m:\u001b[32m9\u001b[39m)\n  ammonite.$sess.cmd1$Helper.cubeIt(\u001b[32mcmd1.sc\u001b[39m:\u001b[32m9\u001b[39m)\n  ammonite.$sess.cmd1$Helper.cubeIt(\u001b[32mcmd1.sc\u001b[39m:\u001b[32m9\u001b[39m)\n  ammonite.$sess.cmd1$Helper.cubeIt(\u001b[32mcmd1.sc\u001b[39m:\u001b[32m9\u001b[39m)\n  ammonite.$sess.cmd1$Helper.cubeIt(\u001b[32mcmd1.sc\u001b[39m:\u001b[32m9\u001b[39m)\n  ammonite.$sess.cmd1$Helper.cubeIt(\u001b[32mcmd1.sc\u001b[39m:\u001b[32m9\u001b[39m)\n  ammonite.$sess.cmd1$Helper.cubeIt(\u001b[32mcmd1.sc\u001b[39m:\u001b[32m9\u001b[39m)\n  ammonite.$sess.cmd1$Helper.cubeIt(\u001b[32mcmd1.sc\u001b[39m:\u001b[32m9\u001b[39m)\n  ammonite.$sess.cmd1$Helper.cubeIt(\u001b[32mcmd1.sc\u001b[39m:\u001b[32m9\u001b[39m)\n  ammonite.$sess.cmd1$Helper.cubeIt(\u001b[32mcmd1.sc\u001b[39m:\u001b[32m9\u001b[39m)\n  ammonite.$sess.cmd1$Helper.cubeIt(\u001b[32mcmd1.sc\u001b[39m:\u001b[32m9\u001b[39m)\n  ammonite.$sess.cmd1$Helper.cubeIt(\u001b[32mcmd1.sc\u001b[39m:\u001b[32m9\u001b[39m)\n  ammonite.$sess.cmd1$Helper.cubeIt(\u001b[32mcmd1.sc\u001b[39m:\u001b[32m9\u001b[39m)\n  ammonite.$sess.cmd1$Helper.cubeIt(\u001b[32mcmd1.sc\u001b[39m:\u001b[32m9\u001b[39m)\n  ammonite.$sess.cmd1$Helper.cubeIt(\u001b[32mcmd1.sc\u001b[39m:\u001b[32m9\u001b[39m)\n  ammonite.$sess.cmd1$Helper.cubeIt(\u001b[32mcmd1.sc\u001b[39m:\u001b[32m9\u001b[39m)\n  ammonite.$sess.cmd1$Helper.cubeIt(\u001b[32mcmd1.sc\u001b[39m:\u001b[32m9\u001b[39m)\n  ammonite.$sess.cmd1$Helper.cubeIt(\u001b[32mcmd1.sc\u001b[39m:\u001b[32m9\u001b[39m)\n  ammonite.$sess.cmd1$Helper.cubeIt(\u001b[32mcmd1.sc\u001b[39m:\u001b[32m9\u001b[39m)\n  ammonite.$sess.cmd1$Helper.cubeIt(\u001b[32mcmd1.sc\u001b[39m:\u001b[32m9\u001b[39m)\n  ammonite.$sess.cmd1$Helper.cubeIt(\u001b[32mcmd1.sc\u001b[39m:\u001b[32m9\u001b[39m)\n  ammonite.$sess.cmd1$Helper.cubeIt(\u001b[32mcmd1.sc\u001b[39m:\u001b[32m9\u001b[39m)\n  ammonite.$sess.cmd1$Helper.cubeIt(\u001b[32mcmd1.sc\u001b[39m:\u001b[32m9\u001b[39m)\n  ammonite.$sess.cmd1$Helper.cubeIt(\u001b[32mcmd1.sc\u001b[39m:\u001b[32m9\u001b[39m)\n  ammonite.$sess.cmd1$Helper.cubeIt(\u001b[32mcmd1.sc\u001b[39m:\u001b[32m9\u001b[39m)\n  ammonite.$sess.cmd1$Helper.cubeIt(\u001b[32mcmd1.sc\u001b[39m:\u001b[32m9\u001b[39m)\n  ammonite.$sess.cmd1$Helper.cubeIt(\u001b[32mcmd1.sc\u001b[39m:\u001b[32m9\u001b[39m)\n  ammonite.$sess.cmd1$Helper.cubeIt(\u001b[32mcmd1.sc\u001b[39m:\u001b[32m9\u001b[39m)\n  ammonite.$sess.cmd1$Helper.cubeIt(\u001b[32mcmd1.sc\u001b[39m:\u001b[32m9\u001b[39m)\n  ammonite.$sess.cmd1$Helper.cubeIt(\u001b[32mcmd1.sc\u001b[39m:\u001b[32m9\u001b[39m)\n  ammonite.$sess.cmd1$Helper.cubeIt(\u001b[32mcmd1.sc\u001b[39m:\u001b[32m9\u001b[39m)\n  ammonite.$sess.cmd1$Helper.cubeIt(\u001b[32mcmd1.sc\u001b[39m:\u001b[32m9\u001b[39m)\n  ammonite.$sess.cmd1$Helper.cubeIt(\u001b[32mcmd1.sc\u001b[39m:\u001b[32m9\u001b[39m)\n  ammonite.$sess.cmd1$Helper.cubeIt(\u001b[32mcmd1.sc\u001b[39m:\u001b[32m9\u001b[39m)\n  ammonite.$sess.cmd1$Helper.cubeIt(\u001b[32mcmd1.sc\u001b[39m:\u001b[32m9\u001b[39m)\n  ammonite.$sess.cmd1$Helper.cubeIt(\u001b[32mcmd1.sc\u001b[39m:\u001b[32m9\u001b[39m)\n  ammonite.$sess.cmd1$Helper.cubeIt(\u001b[32mcmd1.sc\u001b[39m:\u001b[32m9\u001b[39m)\n  ammonite.$sess.cmd1$Helper.cubeIt(\u001b[32mcmd1.sc\u001b[39m:\u001b[32m9\u001b[39m)\n  ammonite.$sess.cmd1$Helper.cubeIt(\u001b[32mcmd1.sc\u001b[39m:\u001b[32m9\u001b[39m)\n  ammonite.$sess.cmd1$Helper.cubeIt(\u001b[32mcmd1.sc\u001b[39m:\u001b[32m9\u001b[39m)\n  ammonite.$sess.cmd1$Helper.cubeIt(\u001b[32mcmd1.sc\u001b[39m:\u001b[32m9\u001b[39m)\n  ammonite.$sess.cmd1$Helper.cubeIt(\u001b[32mcmd1.sc\u001b[39m:\u001b[32m9\u001b[39m)\n  ammonite.$sess.cmd1$Helper.cubeIt(\u001b[32mcmd1.sc\u001b[39m:\u001b[32m9\u001b[39m)\n  ammonite.$sess.cmd1$Helper.cubeIt(\u001b[32mcmd1.sc\u001b[39m:\u001b[32m9\u001b[39m)\n  ammonite.$sess.cmd1$Helper.cubeIt(\u001b[32mcmd1.sc\u001b[39m:\u001b[32m9\u001b[39m)\n  ammonite.$sess.cmd1$Helper.cubeIt(\u001b[32mcmd1.sc\u001b[39m:\u001b[32m9\u001b[39m)\n  ammonite.$sess.cmd1$Helper.cubeIt(\u001b[32mcmd1.sc\u001b[39m:\u001b[32m9\u001b[39m)\n  ammonite.$sess.cmd1$Helper.cubeIt(\u001b[32mcmd1.sc\u001b[39m:\u001b[32m9\u001b[39m)\n  ammonite.$sess.cmd1$Helper.cubeIt(\u001b[32mcmd1.sc\u001b[39m:\u001b[32m9\u001b[39m)\n  ammonite.$sess.cmd1$Helper.cubeIt(\u001b[32mcmd1.sc\u001b[39m:\u001b[32m9\u001b[39m)\n  ammonite.$sess.cmd1$Helper.cubeIt(\u001b[32mcmd1.sc\u001b[39m:\u001b[32m9\u001b[39m)\n  ammonite.$sess.cmd1$Helper.cubeIt(\u001b[32mcmd1.sc\u001b[39m:\u001b[32m9\u001b[39m)\n  ammonite.$sess.cmd1$Helper.cubeIt(\u001b[32mcmd1.sc\u001b[39m:\u001b[32m9\u001b[39m)\n  ammonite.$sess.cmd1$Helper.cubeIt(\u001b[32mcmd1.sc\u001b[39m:\u001b[32m9\u001b[39m)\n  ammonite.$sess.cmd1$Helper.cubeIt(\u001b[32mcmd1.sc\u001b[39m:\u001b[32m9\u001b[39m)\n  ammonite.$sess.cmd1$Helper.cubeIt(\u001b[32mcmd1.sc\u001b[39m:\u001b[32m9\u001b[39m)\n  ammonite.$sess.cmd1$Helper.cubeIt(\u001b[32mcmd1.sc\u001b[39m:\u001b[32m9\u001b[39m)\n  ammonite.$sess.cmd1$Helper.cubeIt(\u001b[32mcmd1.sc\u001b[39m:\u001b[32m9\u001b[39m)\n  ammonite.$sess.cmd1$Helper.cubeIt(\u001b[32mcmd1.sc\u001b[39m:\u001b[32m9\u001b[39m)\n  ammonite.$sess.cmd1$Helper.cubeIt(\u001b[32mcmd1.sc\u001b[39m:\u001b[32m9\u001b[39m)\n  ammonite.$sess.cmd1$Helper.cubeIt(\u001b[32mcmd1.sc\u001b[39m:\u001b[32m9\u001b[39m)\n  ammonite.$sess.cmd1$Helper.cubeIt(\u001b[32mcmd1.sc\u001b[39m:\u001b[32m9\u001b[39m)\n  ammonite.$sess.cmd1$Helper.cubeIt(\u001b[32mcmd1.sc\u001b[39m:\u001b[32m9\u001b[39m)\n  ammonite.$sess.cmd1$Helper.cubeIt(\u001b[32mcmd1.sc\u001b[39m:\u001b[32m9\u001b[39m)\n  ammonite.$sess.cmd1$Helper.cubeIt(\u001b[32mcmd1.sc\u001b[39m:\u001b[32m9\u001b[39m)\n  ammonite.$sess.cmd1$Helper.cubeIt(\u001b[32mcmd1.sc\u001b[39m:\u001b[32m9\u001b[39m)\n  ammonite.$sess.cmd1$Helper.cubeIt(\u001b[32mcmd1.sc\u001b[39m:\u001b[32m9\u001b[39m)\n  ammonite.$sess.cmd1$Helper.cubeIt(\u001b[32mcmd1.sc\u001b[39m:\u001b[32m9\u001b[39m)\n  ammonite.$sess.cmd1$Helper.cubeIt(\u001b[32mcmd1.sc\u001b[39m:\u001b[32m9\u001b[39m)\n  ammonite.$sess.cmd1$Helper.cubeIt(\u001b[32mcmd1.sc\u001b[39m:\u001b[32m9\u001b[39m)\n  ammonite.$sess.cmd1$Helper.cubeIt(\u001b[32mcmd1.sc\u001b[39m:\u001b[32m9\u001b[39m)\n  ammonite.$sess.cmd1$Helper.cubeIt(\u001b[32mcmd1.sc\u001b[39m:\u001b[32m9\u001b[39m)\n  ammonite.$sess.cmd1$Helper.cubeIt(\u001b[32mcmd1.sc\u001b[39m:\u001b[32m9\u001b[39m)\n  ammonite.$sess.cmd1$Helper.cubeIt(\u001b[32mcmd1.sc\u001b[39m:\u001b[32m9\u001b[39m)\n  ammonite.$sess.cmd1$Helper.cubeIt(\u001b[32mcmd1.sc\u001b[39m:\u001b[32m9\u001b[39m)\n  ammonite.$sess.cmd1$Helper.cubeIt(\u001b[32mcmd1.sc\u001b[39m:\u001b[32m9\u001b[39m)\n  ammonite.$sess.cmd1$Helper.cubeIt(\u001b[32mcmd1.sc\u001b[39m:\u001b[32m9\u001b[39m)\n  ammonite.$sess.cmd1$Helper.cubeIt(\u001b[32mcmd1.sc\u001b[39m:\u001b[32m9\u001b[39m)\n  ammonite.$sess.cmd1$Helper.cubeIt(\u001b[32mcmd1.sc\u001b[39m:\u001b[32m9\u001b[39m)\n  ammonite.$sess.cmd1$Helper.cubeIt(\u001b[32mcmd1.sc\u001b[39m:\u001b[32m9\u001b[39m)\n  ammonite.$sess.cmd1$Helper.cubeIt(\u001b[32mcmd1.sc\u001b[39m:\u001b[32m9\u001b[39m)\n  ammonite.$sess.cmd1$Helper.cubeIt(\u001b[32mcmd1.sc\u001b[39m:\u001b[32m9\u001b[39m)\n  ammonite.$sess.cmd1$Helper.cubeIt(\u001b[32mcmd1.sc\u001b[39m:\u001b[32m9\u001b[39m)\n  ammonite.$sess.cmd1$Helper.cubeIt(\u001b[32mcmd1.sc\u001b[39m:\u001b[32m9\u001b[39m)\n  ammonite.$sess.cmd1$Helper.cubeIt(\u001b[32mcmd1.sc\u001b[39m:\u001b[32m9\u001b[39m)\n  ammonite.$sess.cmd1$Helper.cubeIt(\u001b[32mcmd1.sc\u001b[39m:\u001b[32m9\u001b[39m)\n  ammonite.$sess.cmd1$Helper.cubeIt(\u001b[32mcmd1.sc\u001b[39m:\u001b[32m9\u001b[39m)\n  ammonite.$sess.cmd1$Helper.cubeIt(\u001b[32mcmd1.sc\u001b[39m:\u001b[32m9\u001b[39m)\n  ammonite.$sess.cmd1$Helper.cubeIt(\u001b[32mcmd1.sc\u001b[39m:\u001b[32m9\u001b[39m)\n  ammonite.$sess.cmd1$Helper.cubeIt(\u001b[32mcmd1.sc\u001b[39m:\u001b[32m9\u001b[39m)\n  ammonite.$sess.cmd1$Helper.cubeIt(\u001b[32mcmd1.sc\u001b[39m:\u001b[32m9\u001b[39m)\n  ammonite.$sess.cmd1$Helper.cubeIt(\u001b[32mcmd1.sc\u001b[39m:\u001b[32m9\u001b[39m)\n  ammonite.$sess.cmd1$Helper.cubeIt(\u001b[32mcmd1.sc\u001b[39m:\u001b[32m9\u001b[39m)\n  ammonite.$sess.cmd1$Helper.cubeIt(\u001b[32mcmd1.sc\u001b[39m:\u001b[32m9\u001b[39m)\n  ammonite.$sess.cmd1$Helper.cubeIt(\u001b[32mcmd1.sc\u001b[39m:\u001b[32m9\u001b[39m)\n  ammonite.$sess.cmd1$Helper.cubeIt(\u001b[32mcmd1.sc\u001b[39m:\u001b[32m9\u001b[39m)\n  ammonite.$sess.cmd1$Helper.cubeIt(\u001b[32mcmd1.sc\u001b[39m:\u001b[32m9\u001b[39m)\n  ammonite.$sess.cmd1$Helper.cubeIt(\u001b[32mcmd1.sc\u001b[39m:\u001b[32m9\u001b[39m)\n  ammonite.$sess.cmd1$Helper.cubeIt(\u001b[32mcmd1.sc\u001b[39m:\u001b[32m9\u001b[39m)\n  ammonite.$sess.cmd1$Helper.cubeIt(\u001b[32mcmd1.sc\u001b[39m:\u001b[32m9\u001b[39m)\n  ammonite.$sess.cmd1$Helper.cubeIt(\u001b[32mcmd1.sc\u001b[39m:\u001b[32m9\u001b[39m)\n  ammonite.$sess.cmd1$Helper.cubeIt(\u001b[32mcmd1.sc\u001b[39m:\u001b[32m9\u001b[39m)\n  ammonite.$sess.cmd1$Helper.cubeIt(\u001b[32mcmd1.sc\u001b[39m:\u001b[32m9\u001b[39m)\n  ammonite.$sess.cmd1$Helper.cubeIt(\u001b[32mcmd1.sc\u001b[39m:\u001b[32m9\u001b[39m)\n  ammonite.$sess.cmd1$Helper.cubeIt(\u001b[32mcmd1.sc\u001b[39m:\u001b[32m9\u001b[39m)\n  ammonite.$sess.cmd1$Helper.cubeIt(\u001b[32mcmd1.sc\u001b[39m:\u001b[32m9\u001b[39m)\n  ammonite.$sess.cmd1$Helper.cubeIt(\u001b[32mcmd1.sc\u001b[39m:\u001b[32m9\u001b[39m)\n  ammonite.$sess.cmd1$Helper.cubeIt(\u001b[32mcmd1.sc\u001b[39m:\u001b[32m9\u001b[39m)\n  ammonite.$sess.cmd1$Helper.cubeIt(\u001b[32mcmd1.sc\u001b[39m:\u001b[32m9\u001b[39m)\n  ammonite.$sess.cmd1$Helper.cubeIt(\u001b[32mcmd1.sc\u001b[39m:\u001b[32m9\u001b[39m)\n  ammonite.$sess.cmd1$Helper.cubeIt(\u001b[32mcmd1.sc\u001b[39m:\u001b[32m9\u001b[39m)\n  ammonite.$sess.cmd1$Helper.cubeIt(\u001b[32mcmd1.sc\u001b[39m:\u001b[32m9\u001b[39m)\n  ammonite.$sess.cmd1$Helper.cubeIt(\u001b[32mcmd1.sc\u001b[39m:\u001b[32m9\u001b[39m)\n  ammonite.$sess.cmd1$Helper.cubeIt(\u001b[32mcmd1.sc\u001b[39m:\u001b[32m9\u001b[39m)\n  ammonite.$sess.cmd1$Helper.cubeIt(\u001b[32mcmd1.sc\u001b[39m:\u001b[32m9\u001b[39m)\n  ammonite.$sess.cmd1$Helper.cubeIt(\u001b[32mcmd1.sc\u001b[39m:\u001b[32m9\u001b[39m)\n  ammonite.$sess.cmd1$Helper.cubeIt(\u001b[32mcmd1.sc\u001b[39m:\u001b[32m9\u001b[39m)\n  ammonite.$sess.cmd1$Helper.cubeIt(\u001b[32mcmd1.sc\u001b[39m:\u001b[32m9\u001b[39m)\n  ammonite.$sess.cmd1$Helper.cubeIt(\u001b[32mcmd1.sc\u001b[39m:\u001b[32m9\u001b[39m)"
     ]
    }
   ],
   "source": [
    "// BEGIN TESTS\n",
    "assert(cubeIt(5) == 125)\n",
    "assert(cubeIt(-5) == -125)\n",
    "assert(cubeIt(-3) == -27)\n",
    "assert(cubeIt(0) == 0)\n",
    "// JUST TEST from -100 to 100\n",
    "def checkCubeItFun(x: Int): Boolean = cubeIt(x) == x*x*x\n",
    "assert( (-100 to 100).forall(checkCubeItFun))\n",
    "passed(5)\n",
    "// END TESTS"
   ]
  },
  {
   "cell_type": "markdown",
   "metadata": {
    "deletable": false,
    "editable": false,
    "nbgrader": {
     "cell_type": "markdown",
     "checksum": "b56687aa27df418110ff708df71c7427",
     "grade": false,
     "grade_id": "cell-12d5214e2a806a43",
     "locked": true,
     "schema_version": 3,
     "solution": false
    }
   },
   "source": [
    "### B (10 points) _Tail_ Recursive `cubeIt`\n",
    "Now, write a tail recursive version of the `cubeIt` function above, called `cubeItTail`. \n",
    "We have setup a helper function with an *accumulator* argument for you, to help you out. Do not remove the @tailrec annotation. It is part of the autograder: you can learn more about it's meaning here -- https://www.scala-exercises.org/scala_tutorial/tail_recursion"
   ]
  },
  {
   "cell_type": "code",
   "execution_count": null,
   "metadata": {
    "collapsed": true,
    "deletable": false,
    "nbgrader": {
     "cell_type": "code",
     "checksum": "5e339b62c8fe0ed9231cb86f19a52142",
     "grade": false,
     "grade_id": "answer_1b",
     "locked": false,
     "schema_version": 3,
     "solution": true
    }
   },
   "outputs": [],
   "source": [
    "import scala.annotation.tailrec\n",
    "\n",
    "@tailrec\n",
    "def cubeItHelper(n: Int, acc: Int): Int = { /* Implement cubeIt as a tail recursion */\n",
    "    ??? // YOUR CODE HERE\n",
    "}\n",
    "\n",
    "/*- \n",
    "This is the main function that the users will use. \n",
    "It should call the helper with the correct initial value of acc argument. \n",
    "Just replace the ??? with the correct initial value for the acc argument.\n",
    "-*/\n",
    "\n",
    "def cubeItTail(n: Int): Int = { \n",
    "    cubeItHelper(n, \n",
    "                ??? // YOUR CODE HERE\n",
    "                )\n",
    "}\n"
   ]
  },
  {
   "cell_type": "code",
   "execution_count": null,
   "metadata": {
    "collapsed": true,
    "deletable": false,
    "editable": false,
    "nbgrader": {
     "cell_type": "code",
     "checksum": "db7e50a956e6b639cc224b23f2150c23",
     "grade": true,
     "grade_id": "tests_1b",
     "locked": true,
     "points": 10,
     "schema_version": 3,
     "solution": false
    }
   },
   "outputs": [],
   "source": [
    "//BEGIN TEST\n",
    "assert(cubeItTail(5) == 125)\n",
    "assert(cubeItTail(-5) == -125)\n",
    "assert(cubeItTail(-3) == -27)\n",
    "assert(cubeItTail(0) == 0)\n",
    "assert( (-100 to 100).forall( x => (cubeItTail(x) == x * x * x)), \"Test Passed!\")\n",
    "passed(10)\n",
    "//END TEST"
   ]
  },
  {
   "cell_type": "markdown",
   "metadata": {
    "deletable": false,
    "editable": false,
    "nbgrader": {
     "cell_type": "markdown",
     "checksum": "6d30d22a69f0d5791c70d1181ce601e9",
     "grade": false,
     "grade_id": "cell-ea75378d2e0e50c2",
     "locked": true,
     "schema_version": 3,
     "solution": false
    }
   },
   "source": [
    "## Problem 2 (10 points)"
   ]
  },
  {
   "cell_type": "markdown",
   "metadata": {
    "deletable": false,
    "editable": false,
    "nbgrader": {
     "cell_type": "markdown",
     "checksum": "40bf9630c7b403549d468a481452e4e6",
     "grade": false,
     "grade_id": "cell-a31ca50d2103983a",
     "locked": true,
     "schema_version": 3,
     "solution": false,
     "task": false
    }
   },
   "source": [
    "We have given scala code using a while loop that converts a bit string with 0s and 1s into its decimal equivalent."
   ]
  },
  {
   "cell_type": "code",
   "execution_count": null,
   "metadata": {
    "collapsed": true,
    "deletable": false,
    "editable": false,
    "nbgrader": {
     "cell_type": "code",
     "checksum": "4354601d55dacb59faa77965b17a0ee4",
     "grade": false,
     "grade_id": "cell-873c8b4f389c721f",
     "locked": true,
     "schema_version": 3,
     "solution": false,
     "task": false
    }
   },
   "outputs": [],
   "source": [
    "def convertToDecimal(bStr : String): Int = {\n",
    "    var bitStr = bStr // Make a copy of the string\n",
    "    var acc = 0 // Initialize the accumulat to 0\n",
    "    while (! bitStr.isEmpty) {\n",
    "        if (bitStr(0) == '0'){ // Is the first character a 0?\n",
    "            acc = 2 * acc // Update acc\n",
    "            bitStr = bitStr.substring(1) // Remove the very first character from the string\n",
    "        } else {\n",
    "            acc = 2 * acc + 1 // Update acc\n",
    "            bitStr = bitStr.substring(1)\n",
    "        }\n",
    "    }\n",
    "    return acc\n",
    "}"
   ]
  },
  {
   "cell_type": "code",
   "execution_count": null,
   "metadata": {
    "collapsed": true,
    "deletable": false,
    "editable": false,
    "nbgrader": {
     "cell_type": "code",
     "checksum": "908e29bfd658fa111c3f259aac13064a",
     "grade": false,
     "grade_id": "cell-19e11699b6a9fba8",
     "locked": true,
     "schema_version": 3,
     "solution": false,
     "task": false
    }
   },
   "outputs": [],
   "source": [
    "println(convertToDecimal(\"1001\"))\n",
    "println(convertToDecimal(\"101\"))\n",
    "println(convertToDecimal(\"0000\"))\n",
    "println(convertToDecimal(\"110110111010001\"))\n",
    "println(convertToDecimal(\"1000000001\"))"
   ]
  },
  {
   "cell_type": "markdown",
   "metadata": {
    "deletable": false,
    "editable": false,
    "nbgrader": {
     "cell_type": "markdown",
     "checksum": "fb09b1297fba3ce25c543a72775746c3",
     "grade": false,
     "grade_id": "cell-a586cec16d8a92e7",
     "locked": true,
     "schema_version": 3,
     "solution": false
    }
   },
   "source": [
    "Note: (a) `string.substring(j)` selects the suffix of string from $j^{th}$ position (positions start at 0) to end; (b) note `string(0)` is the first character of the string;\n",
    "and (c) `string.isEmpty` checks if a string is empty. \n",
    "\n",
    "Implement a *tail recursive* function called `dHelper` over \"bit\" strings (strings whose characters can only be 0 or 1) that converts them from binary to a decimal number using an accumulator argument. For your convenience, we have also translated the while loop into a mathematical definition that you can use.\n",
    "\n",
    "$$\\text{dHelper}(\\text{bStr}, \\text{acc}) = \\left\\{ \\begin{array}{ll} \n",
    "\\text{acc}, & \\text{if bStr is empty}\\\\\n",
    "\\text{dHelper}(\\text{bStr.substring}(1) , 2 *\\text{acc} + 1 ), & \\text{if}\\ \\text{bStr is not empty and  bStr(0) = '1'} \\\\\n",
    "\\text{dHelper}(\\text{bStr.substring}(1) , 2 *\\text{acc}  ), & \\text{if bStr is not empty and bStr(0) = '0'} \\\\\n",
    "\\end{array}\\right.$$\n",
    "\n"
   ]
  },
  {
   "cell_type": "code",
   "execution_count": null,
   "metadata": {
    "collapsed": true,
    "deletable": false,
    "nbgrader": {
     "cell_type": "code",
     "checksum": "5ddb9c7cb2e157ef011f4645a86ac2a7",
     "grade": false,
     "grade_id": "answer_2",
     "locked": false,
     "schema_version": 3,
     "solution": true,
     "task": false
    }
   },
   "outputs": [],
   "source": [
    "import scala.annotation.tailrec\n",
    "\n",
    "@tailrec\n",
    "def dHelper(bitStr: String, acc:Int): Int = {\n",
    "    ??? // YOUR CODE HERE\n",
    "}\n",
    "\n",
    "def toDecimal(bitStr: String) = dHelper(bitStr, 0)"
   ]
  },
  {
   "cell_type": "code",
   "execution_count": null,
   "metadata": {
    "collapsed": true,
    "deletable": false,
    "editable": false,
    "nbgrader": {
     "cell_type": "code",
     "checksum": "2f21e1fb3a7798e3417b18904323d01b",
     "grade": true,
     "grade_id": "test_2",
     "locked": true,
     "points": 10,
     "schema_version": 3,
     "solution": false
    }
   },
   "outputs": [],
   "source": [
    "//BEGIN TEST\n",
    "assert(toDecimal(\"0\") == 0)\n",
    "assert(toDecimal(\"10\") == 2)\n",
    "assert(toDecimal(\"1001\") == 9)\n",
    "assert((0 to 100).forall ( x => ( toDecimal(x.toBinaryString) == x)) )\n",
    "//END TEST\n",
    "passed(10)"
   ]
  },
  {
   "cell_type": "markdown",
   "metadata": {
    "deletable": false,
    "editable": false,
    "nbgrader": {
     "cell_type": "markdown",
     "checksum": "116b5a2b3b7ed579a7fae68949602521",
     "grade": false,
     "grade_id": "cell-81cdcc323818976e",
     "locked": true,
     "schema_version": 3,
     "solution": false
    }
   },
   "source": [
    "## Problem 3 (20 points)\n",
    "\n",
    "Convert the following inductive definition for regular expressions into a grammar first and then into a set of scala classes.\n",
    "\n",
    "A regular expression is defined inductively as follows:\n",
    "- Any string s is an \"atomic\" regular expression.\n",
    "- If $r_1$, $r_2$ are regular expressions then so are\n",
    "  - The concatenation $r_1 ; r_2$, \n",
    "  - The disjunction $r_1 | r_2$, and \n",
    "  - The conjunction $r_1 \\& r_2$.\n",
    "- If $r$ is a regular expression, then its Kleene star $r^*$ is also a regular expression.\n",
    "\n",
    "Use the constructor symbols $\\text{Atom}(s)$ to denote an atomic regular expression, $\\text{Concat}(r_1, r_2)$ for the \";\" operator, $\\text{Or}(r_1, r_2)$ for the \"|\" operator, $\\text{And}(r_1, r_2)$ for the \"&\" operator and $\\text{Star}(r)$ for the Kleene-star operator. You may use\n",
    "the nonterminal $\\textbf{string}$ without definition to denote a string of characters.\n",
    "\n",
    "| Operator | Constructor Symbol to Use |\n",
    "| -------- | --------------------------|\n",
    "| atomic string | Atom |\n",
    "| ; (concatenation operator) | Concat | \n",
    "| \\| (or operator) |  Or |\n",
    "| \\& (and operator) | And |\n",
    "| \\* (Kleene Star) | Star |\n",
    "\n",
    "\n"
   ]
  },
  {
   "cell_type": "markdown",
   "metadata": {
    "deletable": false,
    "editable": false,
    "nbgrader": {
     "cell_type": "markdown",
     "checksum": "dca213f018752b76f32148b81102e3c4",
     "grade": false,
     "grade_id": "cell-f1ddab147675a4e6",
     "locked": true,
     "schema_version": 3,
     "solution": false
    }
   },
   "source": [
    "### A (7 point)\n",
    "Write the grammar using constructor symbols for the inductive definition above. \n",
    "\n",
    "__Tip:__ you can examine the notes or the recitation notebooks to see how we typeset the grammar. There are no tests for this because it will be manualy graded."
   ]
  },
  {
   "cell_type": "markdown",
   "metadata": {
    "deletable": false,
    "nbgrader": {
     "cell_type": "markdown",
     "checksum": "a9d62bc05c17700e2259c1fa8b298739",
     "grade": true,
     "grade_id": "answer_3a",
     "locked": false,
     "points": 7,
     "schema_version": 3,
     "solution": true
    }
   },
   "source": [
    "YOUR ANSWER HERE"
   ]
  },
  {
   "cell_type": "markdown",
   "metadata": {
    "deletable": false,
    "editable": false,
    "nbgrader": {
     "cell_type": "markdown",
     "checksum": "14931160f289eae6c41a5428943c4cdb",
     "grade": false,
     "grade_id": "cell-e0e8da3d6108f6e2",
     "locked": true,
     "schema_version": 3,
     "solution": false
    }
   },
   "source": [
    "### B (7 points)\n",
    "Define the structure as a set of case class in scala.\n"
   ]
  },
  {
   "cell_type": "code",
   "execution_count": null,
   "metadata": {
    "collapsed": true,
    "deletable": false,
    "nbgrader": {
     "cell_type": "code",
     "checksum": "0575d7fc362b3c9cfd8520b6a7835559",
     "grade": false,
     "grade_id": "answer_3b",
     "locked": false,
     "schema_version": 3,
     "solution": true
    }
   },
   "outputs": [],
   "source": [
    "sealed trait Regex\n",
    "// Use constructors: Atom, Concat, Or, And and Star\n",
    "??? // YOUR CODE HERE"
   ]
  },
  {
   "cell_type": "code",
   "execution_count": null,
   "metadata": {
    "collapsed": true,
    "deletable": false,
    "editable": false,
    "nbgrader": {
     "cell_type": "code",
     "checksum": "ef6f34e36086836539d00c37fa436ad9",
     "grade": true,
     "grade_id": "tests_3b",
     "locked": true,
     "points": 7,
     "schema_version": 3,
     "solution": false
    }
   },
   "outputs": [],
   "source": [
    "// BEGIN TESTS\n",
    "val v1 = Atom(\"Hello\")\n",
    "val v2 = Concat(v1, v1)\n",
    "val v3 = Or(v1, v2)\n",
    "val v4 = Star(v3)\n",
    "val v5 = Or(v1, v4)\n",
    "passed(7)\n",
    "// END TESTS"
   ]
  },
  {
   "cell_type": "markdown",
   "metadata": {
    "deletable": false,
    "editable": false,
    "nbgrader": {
     "cell_type": "markdown",
     "checksum": "39bc4ab59b83c05f086234066ea4ff39",
     "grade": false,
     "grade_id": "cell-f847cff392d180bd",
     "locked": true,
     "schema_version": 3,
     "solution": false
    }
   },
   "source": [
    "### C (6 points)\n",
    "Write down the representation of the regular expression in Scala. Your cell must define a term that should be called `finalAnswerC`.\n",
    "\n",
    "$$ (\\text{\"hello\"})^* ;  ((\\text{\"scala\"}; \\text{\"best\"})^*) $$\n"
   ]
  },
  {
   "cell_type": "code",
   "execution_count": null,
   "metadata": {
    "collapsed": true,
    "deletable": false,
    "nbgrader": {
     "cell_type": "code",
     "checksum": "01f5a91e65a794f7aa59f7947ac36f37",
     "grade": false,
     "grade_id": "answer_3c",
     "locked": false,
     "schema_version": 3,
     "solution": true
    }
   },
   "outputs": [],
   "source": [
    "val finalAnswerC = {\n",
    "    ??? // YOUR CODE HERE\n",
    "}"
   ]
  },
  {
   "cell_type": "code",
   "execution_count": null,
   "metadata": {
    "collapsed": true,
    "deletable": false,
    "editable": false,
    "nbgrader": {
     "cell_type": "code",
     "checksum": "e4d96c9d11a014c514a6bc981c4cef8a",
     "grade": true,
     "grade_id": "tests_3c",
     "locked": true,
     "points": 6,
     "schema_version": 3,
     "solution": false
    }
   },
   "outputs": [],
   "source": [
    "// BEGIN TESTS\n",
    "def munge(r: Regex): String = r match {\n",
    "    case Atom(st) => \"$A$\"+st\n",
    "    case Concat(r1, r2) => munge(r1)+\"$C$\"+munge(r2)\n",
    "    case Star(r) => \"$K$\"+munge(r)+\"$S$\"\n",
    "    case Or(r1, r2) => munge(r1)+\"_O_\"+munge(r2)\n",
    "    case And(r1,r2) => munge(r1)+\"/\\\\\"+ munge(r2)\n",
    "}\n",
    "\n",
    "assert(munge(finalAnswerC) == \"$K$$A$hello$S$$C$$K$$A$scala$C$$A$best$S$\", \"Test failed: you should seek help from the course staff to help you debug this problem, please\")\n",
    "passed(6)\n",
    "// END TESTS"
   ]
  }
 ],
 "metadata": {
  "kernelspec": {
   "display_name": "Scala",
   "language": "scala",
   "name": "scala"
  },
  "language_info": {
   "codemirror_mode": "text/x-scala",
   "file_extension": ".scala",
   "mimetype": "text/x-scala",
   "name": "scala",
   "nbconvert_exporter": "script",
   "version": "2.12.10"
  }
 },
 "nbformat": 4,
 "nbformat_minor": 2
}
