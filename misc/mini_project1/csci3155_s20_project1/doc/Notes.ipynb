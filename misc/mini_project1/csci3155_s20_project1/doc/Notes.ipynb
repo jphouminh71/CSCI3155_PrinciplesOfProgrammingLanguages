{
 "cells": [
  {
   "cell_type": "markdown",
   "metadata": {},
   "source": [
    "# Instructions for main testing\n",
    "\n",
    "### Running the main program\n",
    " The main function is defined in the Main.scala. The way you run this depends on whether you are using sbt alone or intellij\n",
    " \n",
    "\n",
    "We are using intellij so choose run main configuration then press the play button\n",
    "\n",
    "\n",
    "### Running ScalaTest tests\n",
    "\n",
    "We will use a powerful unit testing package called scalatest. Just use the \"Run Scala Tests\" configuration.\n",
    "\n",
    "\n",
    "## Instructions for submission\n",
    "__Makes sure everthing is saved__ \n",
    "\n",
    "1. run all tests one last time to ensure that everything is working as expected. You will not be able to submit a code that doesn't at least compile\n",
    "\n",
    "\n",
    "3. Run the __checkAndZipSubmission__ sbt task\n",
    "    \n",
    "        - Select \"Zip Submission\" configuration from the dropdown menu then click the run button (play button) \n",
    "        \n",
    "\n",
    "4. Ensure whichever option you chosed dispays __[success]__ at the end \n",
    "5. Upload the generated \"submission.zip\" file located at the project root folder\n",
    "\n"
   ]
  },
  {
   "cell_type": "markdown",
   "metadata": {},
   "source": [
    "# The Task\n",
    "    \n",
    "    - The objective of this project is to explore compiling this intoa stack machine bytecode and writing an emulator to execute this bytecode\n",
    "    \n",
    "    # The Language\n",
    "We have encountered arithmetic expressions given by the grammar \n",
    "\n",
    "\n",
    "$$\\begin{array}{rcll}\n",
    "\\textbf{Expr} & \\rightarrow & Const(\\textbf{Double}) \\\\\n",
    "& | & Plus( \\textbf{Expr}, \\textbf{Expr})  \\\\\n",
    "& | & Minus( \\textbf{Expr}, \\textbf{Expr}) \\\\\n",
    "& | & Mult(\\textbf{Expr}, \\textbf{Expr}) \\\\\n",
    "& | & Div(\\textbf{Expr}, \\textbf{Expr}) \\\\\n",
    "& | & Log(\\textbf{Expr}) \\\\\n",
    "& | & Exp(\\textbf{Expr}) \\\\\n",
    "& | & Sine(\\textbf{Expr}) \\\\\n",
    "& | & Cosine(\\textbf{Expr}) \\\\\\\\\n",
    "\\textbf{Double} & \\rightarrow & \\text{all double precision numbers in Scala}\\\\\n",
    "\\textbf{Identifier} & \\rightarrow & [a-zA-Z][a-z\\ A-Z\\ 0-9\\ \\_]* & \\text{Note: All strings that begin with letters}\\\\\n",
    "&&& \\text{a-z or A-Z and subsequently can contain a-z, A-Z, 0-9 or _ chars}\n",
    "\\end{array}$$\n",
    "\n",
    "__Note__ No identifiers are included in this grammar. This is intentional.\n"
   ]
  },
  {
   "cell_type": "markdown",
   "metadata": {},
   "source": [
    "# Part 1\n",
    "\n",
    "Imagine a stack data structure that contains double precision numbers and the following instructions that operate on the stack. pay attention to the __SubI__ and __DivI__ instructions since the order matters. \n",
    "\n",
    "\n",
    "1.  __PushI(d):__ push the number d onto the stack\n",
    "\n",
    "\n",
    "2.  __PopI:__ pop off the top element of the stack\n",
    "            - throw an exception if the stack is empty \n",
    "            \n",
    "3.  __AddI:__ pop two numbers off of the stack, then add them, then push the result back onto the stack\n",
    "            - throw an exception if stack is empty during any of the pop operations\n",
    "            \n",
    "4.  __SubI:__ pop two numbers off of the stack \n",
    "            \n",
    "                - let the first number of the popped be v1 and the second number be equal to v2, subtract them as v2 - v1 (this order is very important) and push the result back on to the stack. Throw an exception if the stack is empty during any of the pop operations        \n",
    "                \n",
    "                \n",
    "5.  __MultI:__ pop two numbers off of the stack, multiply them, then push the result back onto the stack. Throw an exception if the stack is empty during any of these operations\n",
    "\n",
    "\n",
    "6.  __DivI:__ pop two numbers from the stack, let the first number popped be v1 and the second number be v2, subtrac tthem as v2 / v1 (this order is very important) and push the result back to the stack. Throw and exception if the stack is empty during any of the pop operations. \n",
    "\n",
    "\n",
    "7.  __Log:__ pop one number from the stack, compute its log if positive and push the result back onto the stack. Throw an exception if the stack is empty during any of the pop operations\n",
    "\n",
    "8.  __SineI/CosineI:__ pop one number from the stack, compute its sin/cos respectively, and push the result back onto the stack. Throw and exception if the stack is empty during any of the pop operations \n",
    "\n",
    "\n",
    "\n",
    "Given a sequence of instructions (eg., PushI(2.0), PushI(3.0), AddI, PushI(4.0), SubI], we execute each instruction in turn starting from the empty stack. We will impelment the stack as a list with the head of the list as the top of the stack\n",
    "\n",
    "    * Initially the stack is empty. \n",
    "    * When we execute PushI(2.0), the stack is [2.0]\n",
    "    * When we execute PushI(3.0), the stack becomes [3.0,2.0]\n",
    "    * When we execute AddI, the stack becomes [5.0]\n",
    "    * When we execute Push[4.0], the stack becomes [4.0 , 5.0]\n",
    "    * When we execute SubI, the stack becomes [1.0]\n",
    "            so that means v1 = 4.0 and v2 = 5.0\n",
    "                    __THIS IMPLIES THE TOP OF THE STACK IS THE LAST ELEMENT ADDED__\n",
    "                    \n",
    "                    \n",
    "                    \n",
    "                    \n",
    "                    \n",
    "## Instructions for Part 1 \n",
    "\n",
    "Implement the methods __emulateSingleInstruction__ and __emulateStackMachine__ in the file __StackMachineEmulator.scala__. For your convienience, the stack machine instructions have been defined as a very simple inductive defintion giving case classes for all instructions. We will use an __immutable__ List data structure to simulate the stack \n",
    "\n",
    "    * emulateSingleInstruction(stack, instruction) takes a stack which is a List of Double, the instruction which is an instruction. It returns a stack of double resulting from executing the given instructions\n",
    "    \n",
    "    * immulateStackmachine(listOfInstructions) , this function asks you to return the final value computed by the listOfinstructions. You should call emeulateSingleInstruction repeatedly. Use __foldLeft__ over lists instead of a loop\n",
    "    \n",
    "            essentially, just put the emulateSingleInstruction as the function arguemnt when you are going to use foldLeft"
   ]
  },
  {
   "cell_type": "markdown",
   "metadata": {},
   "source": [
    "## See if you can write a foldLeft function that appends to the end of a list that are also type list"
   ]
  },
  {
   "cell_type": "code",
   "execution_count": 5,
   "metadata": {},
   "outputs": [
    {
     "name": "stdout",
     "output_type": "stream",
     "text": [
      "(>>,1)\n"
     ]
    },
    {
     "data": {
      "text/plain": [
       "defined \u001b[32mfunction\u001b[39m \u001b[36mAppendOnTopOfList\u001b[39m\n",
       "\u001b[36mmyList\u001b[39m: \u001b[32mList\u001b[39m[\u001b[32mInt\u001b[39m] = \u001b[33mList\u001b[39m(\u001b[32m1\u001b[39m, \u001b[32m2\u001b[39m, \u001b[32m3\u001b[39m, \u001b[32m4\u001b[39m)\n",
       "\u001b[36mappendThese\u001b[39m: \u001b[32mList\u001b[39m[\u001b[32mInt\u001b[39m] = \u001b[33mList\u001b[39m(\u001b[32m2\u001b[39m, \u001b[32m4\u001b[39m, \u001b[32m6\u001b[39m, \u001b[32m8\u001b[39m)\n",
       "\u001b[36mlst\u001b[39m: \u001b[32mList\u001b[39m[\u001b[32mDouble\u001b[39m] = \u001b[33mList\u001b[39m()\n",
       "\u001b[36mnewList\u001b[39m: \u001b[32mList\u001b[39m[\u001b[32mInt\u001b[39m] = \u001b[33mList\u001b[39m(\u001b[32m1\u001b[39m, \u001b[32m2\u001b[39m, \u001b[32m3\u001b[39m, \u001b[32m4\u001b[39m, \u001b[32m1\u001b[39m, \u001b[32m1\u001b[39m, \u001b[32m1\u001b[39m, \u001b[32m1\u001b[39m)"
      ]
     },
     "execution_count": 5,
     "metadata": {},
     "output_type": "execute_result"
    }
   ],
   "source": [
    "def AppendOnTopOfList(currentList: List[Int], y: Int): List[Int] = {\n",
    "    val newey = currentList(0)\n",
    "    \n",
    "    currentList ::: List(newey) // merges from from this joint \n",
    "}\n",
    "\n",
    "val myList = List(1,2,3,4)\n",
    "val appendThese = List(2,4,6,8)\n",
    "val lst = List[Double]()\n",
    "val newList = appendThese.foldLeft(myList)((acc, currItem) => AppendOnTopOfList(acc, currItem))\n",
    "\n",
    "\n",
    "\n",
    "// accessing elements of a list \n",
    "println(\">>\", myList(0))"
   ]
  },
  {
   "cell_type": "markdown",
   "metadata": {
    "collapsed": true
   },
   "source": [
    "# Compiling Expressions to a List of ByteCode Instructions\n",
    "\n",
    "We will now describe the compilation of expressions into byteCode Instructions. \n",
    "\n",
    "For instance the expression 1.0 + (2.0 - 3.0) * 5.0 is represented as an AST \n",
    "    Plus(Const(1.0), Multi(Minus(Const(2.0), Const(3.0)), Const(5.0))\n",
    "    \n",
    "The overall goal of this part is to compile this down into a list of bytecode instructions that serves to evaluate this minor emulator oyu have built in part 1 \n",
    "\n",
    "__The expression above should produce the instructions__ \n",
    "\n",
    "    Push(1.0)\n",
    "    Push(2.0)\n",
    "    Push(3.0)\n",
    "    MinusI\n",
    "    PushI(5.0)\n",
    "    MultI\n",
    "    AddI\n",
    "    \n",
    "you should check that evaluating this sequence results in -4.0. Please pay particular attention to the order of operands for MinusI according to the specification provided in Part 1. \n",
    "\n",
    "The idea is to implement a function __compileExpr(e)__ that given a expression __e__ yields a lsit of instructions according to the following operational semantics definition. \n",
    "\n",
    "\n",
    "\n",
    "$$\\newcommand\\semRule[3]{\\begin{array}{c} #1 \\\\ \\hline #2 \\\\ \\end{array}\\;\\; (\\textit{#3})} $$\n",
    "$$\\newcommand\\comp{\\textbf{compileExpr}}$$\n",
    "\n",
    "### Constant Rule\n",
    "\n",
    "The rule for constants is simple. An expression `Const(f)` compiles to the instruction `PushI(f)`.\n",
    "\n",
    "$$\\semRule{}{\\comp(\\texttt{Const(f)}) = [ \\text{PushI}(f) ] }{const-rule}$$\n",
    "\n",
    "Note again that $\\comp$ maps expressions to _list_ of instructions.\n",
    "\n",
    "### Add Rule\n",
    "\n",
    "$$\\semRule{\\comp(\\texttt{e1}) = L_1,\\ \\comp(\\texttt{e2}) = L_2}{\\comp(\\texttt{Plus(e1, e2}) = ListContatenation(L_1, L_2 , [ AddI ]) }{add-rule}$$\n",
    "\n",
    "The instructions concatenate the lists $L_1, L_2$ along with the list consisting of a single instruction `[ AddI ]`. Note that the `++` operator in scala implements the list concatenation.\n",
    "\n",
    "### Subtract Rule\n",
    "\n",
    "$$\\semRule{\\comp(\\texttt{e1}) = L_1,\\ \\comp(\\texttt{e2}) = L_2}{\\comp(\\texttt{Minus(e1, e2}) = ListContatenation(L_1, L_2 , [ SubI ]) }{minus-rule}$$\n",
    "\n",
    "The instructions concatenate the lists $L_1, L_2$ along with the list consisting of a single instruction `[ SubI ]`. \n",
    "\n",
    "\n",
    "### Rules for Other expressions\n",
    "\n",
    "We hope that you will be able to fill in rules for other cases `Mult`, `Div`, `Exp`, `Log`, `Sine` and `Cosine`.\n",
    "\n",
    "\n"
   ]
  },
  {
   "cell_type": "markdown",
   "metadata": {},
   "source": [
    "## Instructions for Part 2\n",
    "\n",
    "The definition of Expression AST is given in the file Expr.scala\n",
    "\n",
    "Your goal is to implment the compilation routine __compileToStackMachineCode(e: Expr) List[StackMachineInstructions]__ in the file StackMachineCompilation.scala. The function takes in and expression e and outputs a list of stack machine instructions. "
   ]
  },
  {
   "cell_type": "code",
   "execution_count": null,
   "metadata": {
    "collapsed": true
   },
   "outputs": [],
   "source": []
  }
 ],
 "metadata": {
  "kernelspec": {
   "display_name": "Scala",
   "language": "scala",
   "name": "scala"
  },
  "language_info": {
   "codemirror_mode": "text/x-scala",
   "file_extension": ".scala",
   "mimetype": "text/x-scala",
   "name": "scala",
   "nbconvert_exporter": "script",
   "version": "2.12.10"
  }
 },
 "nbformat": 4,
 "nbformat_minor": 2
}
