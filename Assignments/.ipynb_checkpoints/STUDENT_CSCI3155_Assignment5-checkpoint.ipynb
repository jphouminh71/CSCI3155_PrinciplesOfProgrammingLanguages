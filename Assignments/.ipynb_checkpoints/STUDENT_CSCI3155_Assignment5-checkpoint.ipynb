{
 "cells": [
  {
   "cell_type": "code",
   "execution_count": null,
   "metadata": {
    "collapsed": true
   },
   "outputs": [],
   "source": []
  },
  {
   "cell_type": "markdown",
   "metadata": {
    "deletable": false,
    "editable": false,
    "nbgrader": {
     "cell_type": "markdown",
     "checksum": "ffb98b3f81b3aea47eac2544b525316d",
     "grade": false,
     "grade_id": "cell-554205c9fbf8e007",
     "locked": true,
     "schema_version": 3,
     "solution": false
    }
   },
   "source": [
    "# CSCI 3155: Assignment 5\n",
    "\n",
    "Topics Covered: Operations on inductive definitions, building an interpreter, big step operational semantics and Lettuce."
   ]
  },
  {
   "cell_type": "markdown",
   "metadata": {},
   "source": [
    "__Name__: Jonathan Phouminh"
   ]
  },
  {
   "cell_type": "code",
   "execution_count": null,
   "metadata": {
    "collapsed": true,
    "deletable": false,
    "editable": false,
    "nbgrader": {
     "cell_type": "code",
     "checksum": "75eb79a0577aaad1ab57992c3b3d9b45",
     "grade": false,
     "grade_id": "cell-523e63f33a38d446",
     "locked": true,
     "schema_version": 3,
     "solution": false
    }
   },
   "outputs": [],
   "source": [
    "// TEST HELPER\n",
    "def passed(points: Int) {\n",
    "    require(points >=0)\n",
    "    if (points == 1) print(s\"Tests Passed (1 point)\")\n",
    "    else print(s\"Tests Passed ($points points)\") \n",
    "}"
   ]
  },
  {
   "cell_type": "markdown",
   "metadata": {
    "deletable": false,
    "editable": false,
    "nbgrader": {
     "cell_type": "markdown",
     "checksum": "1fa464570fd18fc5b438d1943aa3ce0b",
     "grade": false,
     "grade_id": "cell-86df80222a5e29f3",
     "locked": true,
     "schema_version": 3,
     "solution": false
    }
   },
   "source": [
    "## Problem 1: Translating Lettuce Into Scala (25 points)"
   ]
  },
  {
   "cell_type": "markdown",
   "metadata": {
    "deletable": false,
    "editable": false,
    "nbgrader": {
     "cell_type": "markdown",
     "checksum": "67751bd7751aac5ce243bda928143727",
     "grade": false,
     "grade_id": "cell-7b3432cb0c0460ce",
     "locked": true,
     "schema_version": 3,
     "solution": false
    }
   },
   "source": [
    "In this problem, we will translate Lettuce programs into scala. We will consider the fragment of the\n",
    "language with Let bindings and if-then-else statements.\n",
    "\n",
    "$$\\newcommand\\Expr{\\mathbf{Expr}}$$\n",
    "$$ \\begin{array}{rcl}\n",
    "\\Expr &\\Rightarrow & \\text{Const}(\\mathbf{Double}) \\\\\n",
    "& | & \\text{ConstTrue}\\\\\n",
    "&|& \\text{ConstFalse}\\\\\n",
    "& | & \\text{Ident}(\\mathbf{String}) \\\\\n",
    "& | & \\text{Plus}(\\Expr, \\Expr) \\\\\n",
    "&|& \\text{Minus}(\\Expr, \\Expr) \\\\\n",
    "& |& \\text{Mult}(\\Expr, \\Expr) \\\\\n",
    "& | & \\text{Geq}(\\Expr, \\Expr) \\\\\n",
    "& | & \\text{And}(\\Expr, \\Expr) \\\\\n",
    "&|& \\text{Or}(\\Expr, \\Expr) \\\\\n",
    "& | & \\text{IfThenElse}(\\Expr, \\Expr, \\Expr) \\\\\n",
    "&|& \\text{Let}(\\mathbf{String}, \\Expr, \\Expr) \\\\\n",
    "\\end{array}$$\n",
    "\n",
    "\n",
    "$$\\newcommand\\translate{\\textsf{translateIntoScala}}$$ \n",
    "The goal is to implement the function  $\\translate(e)$ that inputs a Lettuce Expr $e$ and outputs\n",
    "a string that is supposed to be a scala program. \n",
    "\n",
    "We provide semantics as below:\n",
    "\n",
    "$$\\newcommand\\semRule[3]{\\begin{array}{c} #1 \\\\ \\hline #2 \\\\ \\end{array} (\\text{#3})}$$\n",
    "\n",
    "Note that the output of $\\translate$ is a string. \n",
    "$$\\semRule{}{\\translate(\\text{Const}(f)) = \\textsf{convertToString}(f) }{const}$$\n",
    "\n",
    "Note that to convert a number to string in scala, use the 'toString' method.\n",
    "\n",
    "$$\\semRule{}{\\translate(\\text{Ident}(x)) = x }{ident}$$\n",
    "$$\\semRule{}{\\translate(\\text{ConstTrue}) = true }{true}$$\n",
    "$$\\semRule{}{\\translate(\\text{ConstFalse}) = false }{false}$$\n",
    "\n",
    "Note that when you translate subexpressions, you have to make sure to wrap them in curly braces so that\n",
    "things defined in the scope of one subexpression do not accidently fall into another. <font color=\"red\"> Please follow the conventions below with curly braces. Otherwise you will not pass the tests </font>\n",
    "\n",
    "$$\\semRule{\\translate(e1) = s1,\\ \\translate(e2) = s2}{\\translate(\\text{Plus}(e1, e2)) = \\{ s1 \\} + \\{ s2 \\} }{plus}$$\n",
    "$$\\semRule{\\translate(e1) = s1,\\ \\translate(e2) = s2}{\\translate(\\text{Minus}(e1, e2)) = \\{ s1  \\} - \\{ s2 \\} }{minus}$$\n",
    "$$\\semRule{\\translate(e1) = s1,\\ \\translate(e2) = s2}{\\translate(\\text{Geq}(e1, e2)) = \\{ s1 \\} >= \\{ s2 \\} }{geq}$$\n",
    "$$\\semRule{\\translate(e1) = s1,\\ \\translate(e2) = s2}{\\translate(\\text{And}(e1, e2)) = \\{ s1  \\}\\ \\&\\!\\&\\ \\{ s2 \\} }{and}$$\n",
    "$$\\semRule{\\translate(e1) = s1,\\ \\translate(e2) = s2}{\\translate(\\text{Or}(e1, e2)) = \\{ s1 \\}\\ |\\!|\\ \\{ s2 \\} }{or}$$\n",
    "$$\\semRule{\\translate(e) = s, \\translate(e1) = s1,\\ \\translate(e2) = s2}{\\translate(\\text{IfThenEllse}(e,e1, e2)) = \\text{if}\\ (\\{s\\})\\ \\{ s1 \\}\\ else\\ \\{ s2 \\} }{ite}$$\n",
    "$$\\semRule{\\translate(e1) = s1,\\ \\translate(e2) = s2}{\\translate(\\text{Let}(x,e1, e2)) = \\text{val}\\ x\\ =\\ \\{ s1 \\}\\ \\{ s2 \\}  }{let}$$\n",
    "\n",
    "Whitespaces (space, tab, returns) are ignored by our test cases."
   ]
  },
  {
   "cell_type": "code",
   "execution_count": null,
   "metadata": {
    "collapsed": true,
    "deletable": false,
    "editable": false,
    "nbgrader": {
     "cell_type": "code",
     "checksum": "736a198d62e3a6ea95bdd14d3c032901",
     "grade": false,
     "grade_id": "cell-5a6ded9a6f746cee",
     "locked": true,
     "schema_version": 3,
     "solution": false
    }
   },
   "outputs": [],
   "source": [
    "sealed trait Expr\n",
    "case class Const(f: Double) extends Expr\n",
    "case object ConstTrue extends Expr\n",
    "case object ConstFalse extends Expr\n",
    "case class Ident(s: String) extends Expr\n",
    "case class Plus(e1: Expr, e2: Expr) extends Expr\n",
    "case class Minus(e1: Expr, e2: Expr) extends Expr\n",
    "case class Mult(e1: Expr, e2: Expr) extends Expr\n",
    "case class Geq(e1: Expr, e2: Expr) extends Expr\n",
    "case class And(e1: Expr, e2: Expr) extends Expr\n",
    "case class Or(e1: Expr, e2: Expr) extends Expr\n",
    "case class IfThenElse(e1: Expr, e2: Expr, e3: Expr) extends Expr\n",
    "case class Let(x:String, e1: Expr, e2: Expr) extends Expr"
   ]
  },
  {
   "cell_type": "code",
   "execution_count": null,
   "metadata": {
    "collapsed": true,
    "deletable": false,
    "nbgrader": {
     "cell_type": "code",
     "checksum": "a62aa246537f5272a13d3bc330c090e6",
     "grade": false,
     "grade_id": "cell-1b8c86a80b640a5b",
     "locked": false,
     "schema_version": 3,
     "solution": true,
     "task": false
    }
   },
   "outputs": [],
   "source": [
    "def translateIntoScala(e: Expr): String = { \n",
    "     // YOUR CODE HERE\n",
    "}"
   ]
  },
  {
   "cell_type": "code",
   "execution_count": null,
   "metadata": {
    "collapsed": true,
    "deletable": false,
    "editable": false,
    "nbgrader": {
     "cell_type": "code",
     "checksum": "e7b8ad475e98e8718ca24c9aa72e2263",
     "grade": true,
     "grade_id": "cell-33c6c7e93bdb9232",
     "locked": true,
     "points": 4,
     "schema_version": 3,
     "solution": false,
     "task": false
    }
   },
   "outputs": [],
   "source": [
    "//BEGIN TEST\n",
    "val e1 = Const(10.0)\n",
    "assert(translateIntoScala(e1) == \"10.0\")\n",
    "val e2 = Ident(\"x\")\n",
    "assert(translateIntoScala(e2) == \"x\", \"Translation of identifier failed\")\n",
    "val e3 = ConstTrue\n",
    "assert(translateIntoScala(e3) == \"true\", \"Translation of true failed\")\n",
    "val e4 = ConstFalse\n",
    "assert(translateIntoScala(e4) == \"false\", \"Translation of false failed\")\n",
    "passed(4)\n",
    "//END TEST"
   ]
  },
  {
   "cell_type": "code",
   "execution_count": null,
   "metadata": {
    "collapsed": true,
    "deletable": false,
    "editable": false,
    "nbgrader": {
     "cell_type": "code",
     "checksum": "70d2c69b23a29398801f73498ed3eb21",
     "grade": false,
     "grade_id": "cell-2dbfac7eb9776b34",
     "locked": true,
     "schema_version": 3,
     "solution": false,
     "task": false
    }
   },
   "outputs": [],
   "source": [
    "// PLEASE RUN THIS CELL BEFORE TESTING FURTHER\n",
    "def cleanUpWhiteSpacesInString(st: String): String = \n",
    "    st.filterNot( _.isWhitespace )\n",
    "\n",
    "val tst1 = \"\"\"\n",
    "val x = { { 1 } + { 3 } }\n",
    "     {\n",
    "        val y = { 2 }\n",
    "        {\n",
    "            val z = { 10 }\n",
    "                { x } + { { y } * { z } }\n",
    "        }\n",
    "     }\n",
    "\n",
    "\"\"\"\n",
    "print(cleanUpWhiteSpacesInString(tst1))\n",
    "\n",
    "def checkWhitespaceMunged(s1: String, s2: String) : Boolean = {\n",
    "    cleanUpWhiteSpacesInString(s1) == cleanUpWhiteSpacesInString(s2)\n",
    "}"
   ]
  },
  {
   "cell_type": "code",
   "execution_count": null,
   "metadata": {
    "collapsed": true,
    "deletable": false,
    "editable": false,
    "nbgrader": {
     "cell_type": "code",
     "checksum": "c9fc80b72a8ee875921cbe8eeb72f17f",
     "grade": true,
     "grade_id": "cell-5cda75ffe8ddf0f6",
     "locked": true,
     "points": 6,
     "schema_version": 3,
     "solution": false,
     "task": false
    }
   },
   "outputs": [],
   "source": [
    "//BEGIN TEST\n",
    "\n",
    "val x = Ident(\"x\")\n",
    "val y = Ident(\"y\")\n",
    "val one = Const(1.0)\n",
    "val two = Const(2.0)\n",
    "\n",
    "val e1 = Plus(x, y)\n",
    "val e1Expected = \"{ x } + { y }\"\n",
    "assert(checkWhitespaceMunged(translateIntoScala(e1), e1Expected), \"Failed test for e1\")\n",
    "\n",
    "val e2 = Plus(x, one)\n",
    "val e2Expected = \"{ x } + { 1.0 }\"\n",
    "assert(checkWhitespaceMunged(translateIntoScala(e2), e2Expected), \"Failed test for e2\")\n",
    "\n",
    "\n",
    "val e3 = Minus(x, two)\n",
    "val e3Expected = \"{ x } - { 2.0 }\"\n",
    "assert(checkWhitespaceMunged(translateIntoScala(e3), e3Expected), \"Failed test for e3\")\n",
    "\n",
    "val e4 = Plus(x, Minus(y, one))\n",
    "val e4Expected = \"{ x } + { { y } - {1.0} }\"\n",
    "val s4 = translateIntoScala(e4)\n",
    "println(\"s4= \" + s4)\n",
    "assert(checkWhitespaceMunged(s4, e4Expected), \"Failed test for e4\")\n",
    "\n",
    "val e5 = And( Geq( x, y) , Geq(y, one))\n",
    "val e5Expected = \"{{x} >= {y}} && {{y} >= {1.0}}\"\n",
    "val s5 = translateIntoScala(e5)\n",
    "println(\"s5 = \" + s5)\n",
    "assert(checkWhitespaceMunged(s5, e5Expected), \"Failed test for e5\")\n",
    "\n",
    "\n",
    "val e6 = Or( Geq( Mult(x, y), Ident(\"z\")) , Geq(y, one))\n",
    "val e6Expected = \"{{ {x} * {y}} >= {z}} || {{y} >= {1.0}}\"\n",
    "val s6 = translateIntoScala(e6)\n",
    "println(\"s6 = \" + s6)\n",
    "assert(checkWhitespaceMunged(s6, e6Expected), \"Failed test for e6\")\n",
    "\n",
    "passed(6)\n",
    "\n",
    "//END TEST"
   ]
  },
  {
   "cell_type": "code",
   "execution_count": null,
   "metadata": {
    "collapsed": true,
    "deletable": false,
    "editable": false,
    "nbgrader": {
     "cell_type": "code",
     "checksum": "4c9605212667595ef370514ea6fdb2b4",
     "grade": true,
     "grade_id": "cell-46ed1792e2756a80",
     "locked": true,
     "points": 5,
     "schema_version": 3,
     "solution": false,
     "task": false
    }
   },
   "outputs": [],
   "source": [
    "//BEGIN TEST\n",
    "val x = Ident(\"x\")\n",
    "val y = Ident(\"y\")\n",
    "val one = Const(1.0)\n",
    "val two = Const(2.0)\n",
    "val e5 = And( Geq( x, y) , Geq(y, one))\n",
    "val e5Expected = \"{{x} >= {y}} && {{y} >= {1.0}}\"\n",
    "val iteExpr = IfThenElse(e5, one, y)\n",
    "val iteExpected = s\"\"\" if ({$e5Expected}) {\n",
    "    1.0\n",
    "} else {\n",
    "    y\n",
    "}\n",
    "\"\"\"\n",
    "val iteTranslated = translateIntoScala(iteExpr)\n",
    "println(\"iteTranslated = \" + iteTranslated)\n",
    "assert(checkWhitespaceMunged(iteTranslated, iteExpected), \"Failed test for ite\")\n",
    "passed(5)\n",
    "//END TEST"
   ]
  },
  {
   "cell_type": "code",
   "execution_count": null,
   "metadata": {
    "collapsed": true,
    "deletable": false,
    "editable": false,
    "nbgrader": {
     "cell_type": "code",
     "checksum": "e0044b5f5a81efc00894483a2395f2f9",
     "grade": true,
     "grade_id": "cell-93ecfa7b29d530af",
     "locked": true,
     "points": 10,
     "schema_version": 3,
     "solution": false,
     "task": false
    }
   },
   "outputs": [],
   "source": [
    "//BEGIN TEST\n",
    "val x = Ident(\"x\")\n",
    "val y = Ident(\"y\")\n",
    "val one = Const(1.0)\n",
    "val two = Const(2.0)\n",
    "val e6 = Or( Geq( Mult(x, y), Ident(\"z\")) , Geq(y, one))\n",
    "val e6Expected = \"{{ {x} * {y}} >= {z}} || {{y} >= {1.0}}\"\n",
    "\n",
    "val letExpr1 = Let(\"x\", Const(10.0) , Plus(x, one))\n",
    "val letExpr1Expected = \"\"\"val x = { 10.0 } {\n",
    "    { x } + { 1.0 } }\n",
    "\"\"\"\n",
    "val letExprTranslated1 = translateIntoScala(letExpr1)\n",
    "println(\"letExprTranslated1 = \" + letExprTranslated1)\n",
    "assert(checkWhitespaceMunged(letExprTranslated1, letExpr1Expected), \"Failed test for letExpr1\")\n",
    "\n",
    "\n",
    "val letExpr2 = Let(\"x\", letExpr1 , Let (\"y\", two, Plus(x, y)))\n",
    "val letExprTranslated2 = translateIntoScala(letExpr2)\n",
    "println(\"letExprTranslated2 = \" + letExprTranslated2)\n",
    "val letExprExpected2 = \"\"\" val x = {\n",
    "                 \t   \n",
    "                val x = {\n",
    "                 \t   10.0\n",
    "                }\n",
    "                {\n",
    "                 \t  { x } + {1.0}\n",
    "                }\n",
    "            \n",
    "                }\n",
    "                {\n",
    "                 \t  \n",
    "                val y = {\n",
    "                 \t   2.0\n",
    "                }\n",
    "                {\n",
    "                 \t  { x } + {y}\n",
    "                }\n",
    "            \n",
    "                }\n",
    "\"\"\"\n",
    "\n",
    "assert(checkWhitespaceMunged(letExprTranslated2, letExprExpected2), \"Failed test for letExpr2\")\n",
    "passed(10)\n",
    "//END TEST"
   ]
  },
  {
   "cell_type": "markdown",
   "metadata": {
    "deletable": false,
    "editable": false,
    "nbgrader": {
     "cell_type": "markdown",
     "checksum": "eef5d7a228c24f238212edebee945e9c",
     "grade": false,
     "grade_id": "cell-cc50cbfda829141c",
     "locked": true,
     "schema_version": 3,
     "solution": false,
     "task": false
    }
   },
   "source": [
    "# Problem 2: Let it Go (25 points)\n",
    "\n",
    "In this problem, we explore the concept of \"referential transparency\" in lettuce by showing that we can get rid of let bindings.\n",
    "\n",
    "The main idea is to rewrite Lettuce programs to get rid of Let bindings systematically. \n",
    "\n",
    "### Example 1\n",
    "\n",
    "~~~\n",
    "let x = 15 in \n",
    "   x + x \n",
    "~~~\n",
    "\n",
    "should translate into the expression\n",
    "\n",
    "~~~\n",
    "15 + 15\n",
    "~~~\n",
    "\n",
    "### Example 2\n",
    "\n",
    "~~~\n",
    "let y = 2 * z in \n",
    "  let x = 15* y + z in \n",
    "    x * x - x\n",
    "~~~\n",
    "\n",
    "should become\n",
    "\n",
    "~~~\n",
    " (15 * (2 * z)  + z ) * (15 * (2 * z)  + z ) - ((15 * (2*z) + z))\n",
    "~~~\n",
    "\n",
    "Note that we are not evaluating the expression but simply performing substituions in order to\n",
    "~~~\n",
    "transform an expression with let bindings into an expression without let bindings that is equivalent.\n",
    "~~~\n",
    "\n",
    "For simplicity, we will just work with the following fragment\n",
    "\n",
    "$$\\newcommand\\Expr{\\mathbf{Expr}}$$\n",
    "$$ \\begin{array}{rcl}\n",
    "\\Expr &\\Rightarrow & \\text{Const}(\\mathbf{Double}) \\\\\n",
    "& | & \\text{Ident}(\\mathbf{String}) \\\\\n",
    "& | & \\text{Plus}(\\Expr, \\Expr) \\\\\n",
    "& | & \\text{IfThenElse}(\\Expr, \\Expr, \\Expr) \\\\\n",
    "&|& \\text{Let}(\\mathbf{String}, \\Expr, \\Expr) \\\\\n",
    "\\end{array}$$\n",
    "\n",
    "\n",
    "$$\\newcommand\\removeLet{\\textsf{removeLetBindings}}$$\n",
    "\n",
    "The function we define has the following type:\n",
    "$$\\removeLet: \\Expr \\times \\text{Map}[String, \\Expr]\\ \\Rightarrow\\ \\Expr$$.\n",
    "\n",
    "In other words, $\\removeLet$ takes two arguments, an expression and a _substitution enviromnent_ that maps identifier names to  expressions that are to be substituted for those names, and returns an expression. \n",
    "\n",
    "$$\\newcommand\\semRule[3]{\\begin{array}{c} #1 \\\\ \\hline #2 \\\\ \\end{array} (\\text{#3})}$$\n",
    "\n",
    "$$\\semRule{}{\\removeLet(\\text{Const}(f), \\sigma) = \\text{Const}(f) } {const}$$\n",
    "\n",
    "There are two rules for identifiers. If an identifier exists in the substition environment map, then\n",
    "carry out the substitution.\n",
    "$$\\semRule{ x \\in \\mathsf{domain}(\\sigma) }{\\removeLet(\\text{Ident}(x), \\sigma) = \\sigma(x) } {identifier-substitute}$$\n",
    "\n",
    "If an identifier does not exist, then leave it unchanged.\n",
    "$$\\semRule{ x \\not\\in \\mathsf{domain}(\\sigma) }{\\removeLet(\\text{Ident}(x), \\sigma) = \\text{Ident}(x) } {identifier-leave-unchanged}$$\n",
    "\n",
    "Here are the rules for plus and if then else:\n",
    "\n",
    "$$\\semRule{ \\removeLet(e1, \\sigma) = e1',\\  \\removeLet(e2, \\sigma) = e2'}{\\removeLet(\\text{Plus}(e1, e2), \\sigma) = \\text{Plus}(e1', e2') }{plus}$$\n",
    "\n",
    "$$\\semRule{ \\removeLet(e, \\sigma) = e',\\ \\removeLet(e1, \\sigma) = e1',\\ \\removeLet(e2, \\sigma) = e2'}{\\removeLet(\\text{IfThenElse}(e, e1, e2), \\sigma) = \\text{IfThenElse}(e', e1', e2') }{ite}$$\n",
    "\n",
    "\n",
    "Finally, the rule for let bindings is this:\n",
    "\n",
    "$$\\semRule{ \\removeLet(e1, \\sigma_{old} ) = e1',\\ \\color{red}{\\sigma_{new}} = \\sigma_{old} \\circ [ x \\mapsto e1' ] }{ \\removeLet(\\text{Let}(e, e1, e2), \\sigma_{old}) = \\removeLet(e2, \\color{red}{\\sigma_{new}}) }{let-bindings}$$\n",
    "\n",
    "   \n",
    "Please make sure you run this cell below: <font color=\"red\"> Warning expressions Expr is being redefined here. If you want to work on P1, make sure that the definitions for P1 are run from the appropriate cell for that problem. Othewrwise you will get strange errors. </font>"
   ]
  },
  {
   "cell_type": "code",
   "execution_count": null,
   "metadata": {
    "collapsed": true,
    "deletable": false,
    "editable": false,
    "nbgrader": {
     "cell_type": "code",
     "checksum": "3e6b7079643f70c38a6408e9bf36fca6",
     "grade": false,
     "grade_id": "cell-33ee9b753d1c8cde",
     "locked": true,
     "schema_version": 3,
     "solution": false,
     "task": false
    }
   },
   "outputs": [],
   "source": [
    "sealed trait Expr\n",
    "case class Const(f: Double) extends Expr\n",
    "case class Ident(s: String) extends Expr\n",
    "case class Plus(e1: Expr, e2: Expr) extends Expr\n",
    "case class IfThenElse(e1: Expr, e2: Expr, e3: Expr) extends Expr\n",
    "case class Let(x:String, e1: Expr, e2: Expr) extends Expr"
   ]
  },
  {
   "cell_type": "code",
   "execution_count": null,
   "metadata": {
    "collapsed": true,
    "deletable": false,
    "nbgrader": {
     "cell_type": "code",
     "checksum": "f824bc9c91db1e69eb5a7bedebb88d97",
     "grade": false,
     "grade_id": "cell-aab368a23cbafdcd",
     "locked": false,
     "schema_version": 3,
     "solution": true,
     "task": false
    }
   },
   "outputs": [],
   "source": [
    "def removeLet(e: Expr, env: Map[String, Expr]): Expr = {\n",
    "    ??? // YOUR CODE HERE\n",
    "}"
   ]
  },
  {
   "cell_type": "code",
   "execution_count": null,
   "metadata": {
    "collapsed": true,
    "deletable": false,
    "editable": false,
    "nbgrader": {
     "cell_type": "code",
     "checksum": "5f8bf26eb76d516c39b0043aa089c3f3",
     "grade": true,
     "grade_id": "cell-887aa26e1ddd9805",
     "locked": true,
     "points": 5,
     "schema_version": 3,
     "solution": false,
     "task": false
    }
   },
   "outputs": [],
   "source": [
    "//BEGIN TEST\n",
    "val x = Ident(\"x\")\n",
    "val y = Ident(\"y\")\n",
    "val one = Const(1.0)\n",
    "\n",
    "val emptyEnv: Map[String, Expr] = Map.empty\n",
    "assert(removeLet(Const(1.0), emptyEnv) == Const(1.0), \"test failed on input Const(1.0)\")\n",
    "\n",
    "val e1 = Plus(x, one)\n",
    "val e1res = removeLet(e1, emptyEnv)\n",
    "println(\"e1res = \"  + e1res)\n",
    "assert( e1res == e1, \"test e1 failed\")\n",
    "\n",
    "val e2 = IfThenElse(Plus(x, one), Plus(x, one), Plus(y, x))\n",
    "val e2res = removeLet(e2, emptyEnv)\n",
    "println(\"e2res = \"  + e2res)\n",
    "assert( e2res == e2, \"test e2 failed\")\n",
    "\n",
    "passed(5)\n",
    "\n",
    "//END TEST"
   ]
  },
  {
   "cell_type": "code",
   "execution_count": null,
   "metadata": {
    "collapsed": true,
    "deletable": false,
    "editable": false,
    "nbgrader": {
     "cell_type": "code",
     "checksum": "4bf4736a0c28d229a0f369fda8ae8d78",
     "grade": true,
     "grade_id": "cell-46ca6228a8df2cd8",
     "locked": true,
     "points": 5,
     "schema_version": 3,
     "solution": false,
     "task": false
    }
   },
   "outputs": [],
   "source": [
    "//BEGIN TEST\n",
    "val emptyEnv: Map[String, Expr] = Map.empty\n",
    "val env1 = emptyEnv + (\"x\" -> Const(5.0))\n",
    "assert(removeLet(Ident(\"x\"), emptyEnv) == Ident(\"x\"), \"test failed on input Ident(x), empty env\")\n",
    "assert(removeLet(Ident(\"x\"), env1) == Const(5.0), \"test failed on input Ident(x), env that maps x to Const(5.0)\")\n",
    "//END TEST\n",
    "passed(5)\n"
   ]
  },
  {
   "cell_type": "code",
   "execution_count": null,
   "metadata": {
    "collapsed": true,
    "deletable": false,
    "editable": false,
    "nbgrader": {
     "cell_type": "code",
     "checksum": "3f17e6625762c8fc4c5767f77aa0c3c1",
     "grade": true,
     "grade_id": "cell-a5ff8d7a2503a9c7",
     "locked": true,
     "points": 4,
     "schema_version": 3,
     "solution": false,
     "task": false
    }
   },
   "outputs": [],
   "source": [
    "//BEGIN TEST\n",
    "val x = Ident(\"x\")\n",
    "val y = Ident(\"y\")\n",
    "val z = Ident(\"z\")\n",
    "val e1 = Plus(x, Const(1.0))\n",
    "val e2 = Plus(x, y)\n",
    "val e3 = Plus(x, Plus(x, Plus(y, z)))\n",
    "\n",
    "val emptyEnv: Map[String, Expr] = Map.empty\n",
    "\n",
    "\n",
    "val letExpr1 = Let (\"x\", Const(10.0), e1)\n",
    "val letExprResult1 = removeLet(letExpr1, emptyEnv)\n",
    "print(\"letExpr1 result = \" + letExprResult1)\n",
    "assert(letExprResult1 == Plus(Const(10.0), Const(1.0)), \"test 1 failed for let\")\n",
    "\n",
    "passed(4)\n",
    "\n",
    "//END TEST"
   ]
  },
  {
   "cell_type": "code",
   "execution_count": null,
   "metadata": {
    "collapsed": true,
    "deletable": false,
    "editable": false,
    "nbgrader": {
     "cell_type": "code",
     "checksum": "4cd11c36e3d0471d613cc35445733ec9",
     "grade": true,
     "grade_id": "cell-53d865eb138a1cae",
     "locked": true,
     "points": 4,
     "schema_version": 3,
     "solution": false,
     "task": false
    }
   },
   "outputs": [],
   "source": [
    "//BEGIN TEST\n",
    "val x = Ident(\"x\")\n",
    "val y = Ident(\"y\")\n",
    "val z = Ident(\"z\")\n",
    "val e1 = Plus(x, Const(1.0))\n",
    "val e2 = Plus(x, y)\n",
    "val e3 = Plus(x, Plus(x, Plus(y, z)))\n",
    "\n",
    "val emptyEnv: Map[String, Expr] = Map.empty\n",
    "\n",
    "\n",
    "val letExpr2 = Let (\"y\", e1, e2)\n",
    "val letExprResult2 = removeLet(letExpr2, emptyEnv)\n",
    "print(\"letExpr1 result = \" + letExprResult1)\n",
    "assert(letExprResult2 == Plus(Ident(\"x\"), Plus(Ident(\"x\"), Const(1.0))), \"test 1 failed for let\")\n",
    "\n",
    "passed(4)\n",
    "//END TEST"
   ]
  },
  {
   "cell_type": "code",
   "execution_count": null,
   "metadata": {
    "collapsed": true,
    "deletable": false,
    "editable": false,
    "nbgrader": {
     "cell_type": "code",
     "checksum": "4a9df18c868394189c49a402515e3948",
     "grade": true,
     "grade_id": "cell-f2d1452831f4d53a",
     "locked": true,
     "points": 7,
     "schema_version": 3,
     "solution": false,
     "task": false
    }
   },
   "outputs": [],
   "source": [
    "//BEGIN TEST\n",
    "val x = Ident(\"x\")\n",
    "val y = Ident(\"y\")\n",
    "val z = Ident(\"z\")\n",
    "val e1 = Plus(Plus(x, x), Plus(x, x))\n",
    "val e2 = Plus(Plus(x, x), Plus(y, y))\n",
    "val e3 = Plus(x, Plus(x, Plus(y, z)))\n",
    "\n",
    "val emptyEnv: Map[String, Expr] = Map.empty\n",
    "\n",
    "val letExpr3 = Let(\"x\", Const(10.0), Let(\"y\", e1, Let(\"z\", e2, e3)))\n",
    "val letExpr3Res = removeLet(letExpr3, emptyEnv)\n",
    "println(\"let expr3 result = \" + letExpr3Res)\n",
    "assert(letExpr3Res ==  Plus( Const(10.0),  Plus(  Const(10.0), Plus( Plus(Plus(Const(10.0), Const(10.0)), Plus(Const(10.0), Const(10.0))), Plus(\n",
    "        Plus(Const(10.0), Const(10.0)), Plus( Plus(Plus(Const(10.0), Const(10.0)), Plus(Const(10.0), Const(10.0))),Plus(Plus(Const(10.0), Const(10.0)), Plus(Const(10.0), Const(10.0))))\n",
    "      )))), \"test for let expr 3 failed\")\n",
    "\n",
    "passed(7)\n",
    "//END TEST"
   ]
  }
 ],
 "metadata": {
  "kernelspec": {
   "display_name": "Scala",
   "language": "scala",
   "name": "scala"
  },
  "language_info": {
   "codemirror_mode": "text/x-scala",
   "file_extension": ".scala",
   "mimetype": "text/x-scala",
   "name": "scala",
   "nbconvert_exporter": "script",
   "version": "2.12.10"
  }
 },
 "nbformat": 4,
 "nbformat_minor": 2
}
