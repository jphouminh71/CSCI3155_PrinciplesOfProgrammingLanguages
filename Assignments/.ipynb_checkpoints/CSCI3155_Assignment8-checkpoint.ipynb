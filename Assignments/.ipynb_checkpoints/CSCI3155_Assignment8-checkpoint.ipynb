{
 "cells": [
  {
   "cell_type": "code",
   "execution_count": null,
   "metadata": {
    "collapsed": true
   },
   "outputs": [],
   "source": []
  },
  {
   "cell_type": "markdown",
   "metadata": {
    "deletable": false,
    "editable": false,
    "nbgrader": {
     "cell_type": "markdown",
     "checksum": "fb2def327509a20601fd30437fae5e1b",
     "grade": false,
     "grade_id": "cell-6d70bd3db16eaaa0",
     "locked": true,
     "schema_version": 3,
     "solution": false,
     "task": false
    }
   },
   "source": [
    "# CSCI 3155: Assignment 8"
   ]
  },
  {
   "cell_type": "markdown",
   "metadata": {},
   "source": [
    "__Name__: WRITE YOUR NAME HERE"
   ]
  },
  {
   "cell_type": "code",
   "execution_count": 1,
   "metadata": {
    "deletable": false,
    "editable": false,
    "nbgrader": {
     "cell_type": "code",
     "checksum": "e4c31ef7117613db5e8d230814087263",
     "grade": false,
     "grade_id": "cell-513af1a77a5a2968",
     "locked": true,
     "schema_version": 3,
     "solution": false,
     "task": false
    }
   },
   "outputs": [
    {
     "data": {
      "text/plain": [
       "defined \u001b[32mfunction\u001b[39m \u001b[36mpassed\u001b[39m"
      ]
     },
     "execution_count": 1,
     "metadata": {},
     "output_type": "execute_result"
    }
   ],
   "source": [
    "// TEST HELPER\n",
    "def passed(points: Int) {\n",
    "    require(points >=0)\n",
    "    if (points == 1) print(s\"\\n*** Tests Passed (1 point) ***\\n\")\n",
    "    else print(s\"\\n*** Tests Passed ($points points) ***\\n\")\n",
    "}"
   ]
  },
  {
   "cell_type": "markdown",
   "metadata": {
    "deletable": false,
    "editable": false,
    "nbgrader": {
     "cell_type": "markdown",
     "checksum": "66c5c90ae707ba0b10ad693969f867fb",
     "grade": false,
     "grade_id": "cell-091b6e8114f43a34",
     "locked": true,
     "schema_version": 3,
     "solution": false,
     "task": false
    }
   },
   "source": [
    "## Problem 1 (20 points): CPS Style Transformation\n",
    "\n",
    "Reimplement the programs below in the CPS style.\n",
    "\n",
    "### A (10 points)\n",
    "Convert helloUp, doubleUp and mainFun into the CPS functions `helloUp_k`, `doubleUp_k`, `mainFun_k`. They should take continuations that are of type `String => String`.\n",
    "\n",
    "~~~\n",
    "def helloUp(x: String): String = {\n",
    "    \"Hello \" + x\n",
    "}\n",
    "\n",
    "def doubleUp(x: String): String = {\n",
    "    x + x\n",
    "}\n",
    "\n",
    "def mainFun(x: String): String = {\n",
    "    doubleUp(helloUp(x) + \"World\")\n",
    "}\n",
    "\n",
    "~~~"
   ]
  },
  {
   "cell_type": "code",
   "execution_count": 38,
   "metadata": {
    "deletable": false,
    "nbgrader": {
     "cell_type": "code",
     "checksum": "56890fd3ce23285bba2c5b55d772337c",
     "grade": false,
     "grade_id": "cell-dbfb7f21afe4beb7",
     "locked": false,
     "schema_version": 3,
     "solution": true,
     "task": false
    }
   },
   "outputs": [
    {
     "data": {
      "text/plain": [
       "defined \u001b[32mfunction\u001b[39m \u001b[36mhelloUp_k\u001b[39m\n",
       "defined \u001b[32mfunction\u001b[39m \u001b[36mdoubleUp_k\u001b[39m\n",
       "defined \u001b[32mfunction\u001b[39m \u001b[36mmainFun_k\u001b[39m"
      ]
     },
     "execution_count": 38,
     "metadata": {},
     "output_type": "execute_result"
    }
   ],
   "source": [
    "def helloUp_k(x:String, k: String => String): String = {\n",
    "    k(\"Hello\" + x)\n",
    "}\n",
    "\n",
    "def doubleUp_k(x:String, k: String => String): String = {\n",
    "    k(x + x)\n",
    "}\n",
    "\n",
    "def mainFun_k(x:String, k: String => String): String = {\n",
    "    val v1 = helloUp_k(x,x=>x)\n",
    "    val v2 = v1 + \"World\"\n",
    "    k(doubleUp_k(v2,x => x))\n",
    "}"
   ]
  },
  {
   "cell_type": "code",
   "execution_count": 39,
   "metadata": {
    "deletable": false,
    "editable": false,
    "nbgrader": {
     "cell_type": "code",
     "checksum": "f03d0d7e2bb7640a2f1602956063c2b6",
     "grade": true,
     "grade_id": "cell-ac6bef8b1534f5f1",
     "locked": true,
     "points": 5,
     "schema_version": 3,
     "solution": false
    }
   },
   "outputs": [
    {
     "name": "stdout",
     "output_type": "stream",
     "text": [
      "\n",
      "*** Tests Passed (5 points) ***\n"
     ]
    }
   ],
   "source": [
    "//BEGIN TEST\n",
    "assert(helloUp_k(\"World\", x => x) == \"HelloWorld\", \"Test 1, Set 1 Failed\" )\n",
    "assert(doubleUp_k(\"World\", x => x) == \"WorldWorld\", \"Test 2 Set 1 Failed\" )\n",
    "assert(mainFun_k(\"Donkey\", x => x) == \"HelloDonkeyWorldHelloDonkeyWorld\", \"Test 3 Set 1 Failed\")\n",
    "passed(5)\n",
    "//END TEST"
   ]
  },
  {
   "cell_type": "code",
   "execution_count": 40,
   "metadata": {
    "deletable": false,
    "editable": false,
    "nbgrader": {
     "cell_type": "code",
     "checksum": "4e51e261fb4b28439cd2b377231adc0c",
     "grade": true,
     "grade_id": "cell-878443087fc56ed8",
     "locked": true,
     "points": 5,
     "schema_version": 3,
     "solution": false
    }
   },
   "outputs": [
    {
     "name": "stdout",
     "output_type": "stream",
     "text": [
      "\n",
      "*** Tests Passed (5 points) ***\n"
     ]
    }
   ],
   "source": [
    "//BEGIN TEST\n",
    "assert(helloUp_k(\"Hello\", x => (\"*\"+x+\"*\")) == \"*HelloHello*\", \"Test 1, Set 2 Failed\")\n",
    "assert(doubleUp_k(\"HelloWorld\", x => (\"*\"+x+\"*\")) == \"*HelloWorldHelloWorld*\", \"Test 2, Set 2 Failed\")\n",
    "assert(mainFun_k(\"Cruel\", x => (\"*\"+x+\"*\")) == \"*HelloCruelWorldHelloCruelWorld*\", \"Test 3, Set 2 Failed\")\n",
    "passed(5)\n",
    "//END TEST"
   ]
  },
  {
   "cell_type": "markdown",
   "metadata": {
    "deletable": false,
    "editable": false,
    "nbgrader": {
     "cell_type": "markdown",
     "checksum": "8a0375da52c181838a39b5f7e4917a06",
     "grade": false,
     "grade_id": "cell-824e5f9bf0fe0c9a",
     "locked": true,
     "schema_version": 3,
     "solution": false
    }
   },
   "source": [
    "### B (10 points)\n",
    "\n",
    "Convert the following program into CPS.\n",
    "\n",
    "~~~\n",
    "def util(x: Int):String = {\n",
    "    val v1 = 2 * x\n",
    "    v1.toString\n",
    "}\n",
    "\n",
    "def fun1(x: String): Int = {\n",
    "    val v1 = util(x.toInt)\n",
    "    v1.toInt\n",
    "}\n",
    "\n",
    "def fun2(x: String): String = {\n",
    "    util(x.toInt)\n",
    "}\n",
    "\n",
    "def mainFun(x: String): Int = {\n",
    "    val v1 = fun2(x)\n",
    "    val v2 = fun1(x)\n",
    "    val v3 = v1.length\n",
    "    v2 - v3\n",
    "}\n",
    "~~~\n",
    "\n",
    "To enable this create a polymorphic versions of each function.  \n",
    "\n",
    "~~~\n",
    "def util_k[T](x: Int, k: String => T): T\n",
    "def fun1_k[T](x: String, k: Int => T):T\n",
    "def fun2_k[T] (x: String, k: String => T):T \n",
    "def mainFun_k[T](x: String, k: Int => T ):T\n",
    "~~~\n"
   ]
  },
  {
   "cell_type": "code",
   "execution_count": 2,
   "metadata": {
    "deletable": false,
    "nbgrader": {
     "cell_type": "code",
     "checksum": "7e941386967c6f001d92505bfe0ee2ba",
     "grade": false,
     "grade_id": "cell-b9d971f0079db960",
     "locked": false,
     "schema_version": 3,
     "solution": true
    }
   },
   "outputs": [
    {
     "data": {
      "text/plain": [
       "defined \u001b[32mfunction\u001b[39m \u001b[36mutil_k\u001b[39m\n",
       "defined \u001b[32mfunction\u001b[39m \u001b[36mfun1_k\u001b[39m\n",
       "defined \u001b[32mfunction\u001b[39m \u001b[36mfun2_k\u001b[39m\n",
       "defined \u001b[32mfunction\u001b[39m \u001b[36mmainFun_k\u001b[39m"
      ]
     },
     "execution_count": 2,
     "metadata": {},
     "output_type": "execute_result"
    }
   ],
   "source": [
    "def util_k[T] (x: Int, k: String => T):T = {\n",
    "    val v1 = 2 * x\n",
    "    k(v1.toString)\n",
    "}\n",
    "\n",
    "def fun1_k[T](x: String, k: Int => T):T = {\n",
    "    val v1 = util_k(x.toInt, _ + \"\")\n",
    "    k(v1.toInt)\n",
    "    \n",
    "}\n",
    "def fun2_k[T] (x: String, k: String => T):T = {\n",
    "    val v1 = util_k(x.toInt, _ + \"\")\n",
    "    //println(k(v1.toString))\n",
    "    k(v1.toString)\n",
    "}\n",
    "def mainFun_k[T](x: String, k: Int => T ):T = {\n",
    "    k(x.toInt)\n",
    "}\n"
   ]
  },
  {
   "cell_type": "code",
   "execution_count": 3,
   "metadata": {
    "deletable": false,
    "editable": false,
    "nbgrader": {
     "cell_type": "code",
     "checksum": "402e600ccf5c85f5297d4c534fa0c88f",
     "grade": true,
     "grade_id": "cell-fbe37d2883bc7336",
     "locked": true,
     "points": 4,
     "schema_version": 3,
     "solution": false
    }
   },
   "outputs": [
    {
     "name": "stdout",
     "output_type": "stream",
     "text": [
      "\n",
      "*** Tests Passed (4 points) ***\n"
     ]
    }
   ],
   "source": [
    "assert(util_k(10, _ + \"d\") == \"20d\", \"Test 1 failed\")\n",
    "assert(util_k(21, Some[String]) == Some(\"42\"), \"Test 2 failed\")\n",
    "passed(4)"
   ]
  },
  {
   "cell_type": "code",
   "execution_count": 4,
   "metadata": {
    "deletable": false,
    "editable": false,
    "nbgrader": {
     "cell_type": "code",
     "checksum": "3f4317253920236f101efd26775db943",
     "grade": true,
     "grade_id": "cell-f8df3051967a1533",
     "locked": true,
     "points": 2,
     "schema_version": 3,
     "solution": false
    }
   },
   "outputs": [
    {
     "name": "stdout",
     "output_type": "stream",
     "text": [
      "\n",
      "*** Tests Passed (2 points) ***\n"
     ]
    }
   ],
   "source": [
    "assert(fun1_k(\"10\", Some[Int]) == Some(20), \"Test 1 failed\")\n",
    "assert(fun2_k(\"-6\", _ + \"3sdf\") == \"-123sdf\", \"Test 2 failed\")\n",
    "passed(2)"
   ]
  },
  {
   "cell_type": "code",
   "execution_count": 5,
   "metadata": {
    "deletable": false,
    "editable": false,
    "nbgrader": {
     "cell_type": "code",
     "checksum": "8c7482b0cd3c97f521aa79b06189b9fc",
     "grade": true,
     "grade_id": "cell-ed666954da3b1d38",
     "locked": true,
     "points": 4,
     "schema_version": 3,
     "solution": false
    }
   },
   "outputs": [
    {
     "name": "stdout",
     "output_type": "stream",
     "text": [
      "217\n",
      "5000\n",
      "0\n"
     ]
    },
    {
     "ename": "",
     "evalue": "",
     "output_type": "error",
     "traceback": [
      "\u001b[31mjava.lang.AssertionError: assertion failed: Test 2, Set 1 Failed\u001b[39m\n  scala.Predef$.assert(\u001b[32mPredef.scala\u001b[39m:\u001b[32m223\u001b[39m)\n  ammonite.$sess.cmd4$Helper.<init>(\u001b[32mcmd4.sc\u001b[39m:\u001b[32m4\u001b[39m)\n  ammonite.$sess.cmd4$.<init>(\u001b[32mcmd4.sc\u001b[39m:\u001b[32m7\u001b[39m)\n  ammonite.$sess.cmd4$.<clinit>(\u001b[32mcmd4.sc\u001b[39m:\u001b[32m-1\u001b[39m)"
     ]
    }
   ],
   "source": [
    "//BEGIN TEST\n",
    "mainFun_k[Unit](\"217\", println)\n",
    "mainFun_k[Unit](\"5000\", println)\n",
    "mainFun_k[Unit](\"0\", println)\n",
    "assert(mainFun_k[String](\"217\", x=>(x.toString)) == \"431\", \"Test 2, Set 1 Failed\")\n",
    "assert(mainFun_k[Int](\"217\", x=>x) == 431, \"Test 3, Set 1 Failed\")\n",
    "assert(mainFun_k[Int](\"5000\", x=>x) == 9995, \"Test 4, Set 1 Failed\")\n",
    "assert(mainFun_k[List[Int]](\"5000\", x => List(x)) == List(9995), \"Test 5, Set 1 Failed\")\n",
    "passed(4)\n",
    "//END TEST"
   ]
  },
  {
   "cell_type": "markdown",
   "metadata": {
    "deletable": false,
    "editable": false,
    "nbgrader": {
     "cell_type": "markdown",
     "checksum": "747a3c98ba4b5b9c6a7683ef3efb3272",
     "grade": false,
     "grade_id": "cell-747460058cc81300",
     "locked": true,
     "schema_version": 3,
     "solution": false
    }
   },
   "source": [
    "## Problem 2  (25 points): Regular Expression Pattern Matching and Continuations\n",
    "\n",
    "Consider the problem of pattern matching regular expressions. The grammar for regular expressions are given as\n",
    "\n",
    "$$ \\begin{array}{rcl}\n",
    "\\mathbf{RegExpr} & \\rightarrow & \\text{Atom}(String) \\\\\n",
    "& | & \\text{Or}(\\mathbf{RegExpr}, \\mathbf{RegExpr}) \\\\\n",
    "& | &  \\text{Concat} (\\mathbf{RegExpr}, \\mathbf{RegExpr}) \\\\\n",
    "& | & \\text{KleeneStar}( \\mathbf{RegExpr} ) \\\\\n",
    "& | & \\text{And} (\\mathbf{RegExpr}, \\mathbf{RegExpr}) \\\\\n",
    "\\end{array}$$\n",
    "\n",
    "\n",
    "Given a string, $s$ and regular expression $r$, we wish to define a function $\\mathbf{Matches}(r, s)$ which returns a tuple $(v_1, j)$\n",
    "- Wherein $v_1$ is either $true$ if some _prefix_ of the string $s$ matches the expression $r$ or $false$ otherwise. \n",
    "- If $v_1 = true$, then $j$ denotes the position where the match ends, such that $j \\geq 0$ and $j < \\text{length}(s)$. In other words,  the substring $s(0), \\ldots, s(j)$ matches the regular expression $r$.\n",
    "- If $false$, we will simply set $j = -1$.\n",
    "\n",
    "We will use operational semantics rules to define $\\mathbf{Matches}$. \n",
    "\n",
    "### Atom\n",
    "\n",
    "$$\\newcommand\\semRule[3]{\\begin{array}{c} #1 \\\\ \\hline #2 \\\\ \\end{array} (\\text{#3}) }$$\n",
    "\n",
    "$$\\semRule{ s(0,\\ldots, j) = t }{ \\mathbf{Matches}(\\texttt{Atom(t)}, s) = (true, j)}{atom-match}$$ \n",
    "\n",
    "$$\\semRule{ t\\ \\text{is not a prefix of}\\ s }{ \\mathbf{Matches}(\\texttt{Atom(t)}, s) = (false, -1)}{atom-no-match}$$ \n",
    "\n",
    "### Or\n",
    "\n",
    "$$\\semRule{ \\mathbf{Matches}(\\texttt{r1}, s) = (v_1, j_1),\\ \\mathbf{Matches}(\\texttt{r2}, s) = (v_2, j_2) }{ \\mathbf{Matches}(\\texttt{Or(r1, r2)}, s) = (v_1\\ \\textit{or}\\ v_2, \\max(j_1, j_2))}{or-match}$$ \n",
    "\n",
    "### Concat\n",
    "\n",
    "$$\\semRule{ \\mathbf{Matches}(\\texttt{r1}, s) = (true, j_1),\\ \\mathbf{Matches}(\\texttt{r2}, s(j_1+1,\\ldots, n)) = (true, j_2) }{ \\mathbf{Matches}(\\texttt{Concat(r1, r2)}, s) = (true, j_1+j_2+1)}{concat-match}$$ \n",
    "\n",
    "$$\\semRule{ \\mathbf{Matches}(\\texttt{r1}, s) = (false, -1)  }{ \\mathbf{Matches}(\\texttt{Concat(r1, r2)}, s) = (false, -1)}{concat-no-match-1}$$ \n",
    "\n",
    "$$\\semRule{ \\mathbf{Matches}(\\texttt{r1}, s) = (true, j_1),\\ \\ \\mathbf{Matches}(\\texttt{r2}, s) = (false, -1) }{ \\mathbf{Matches}(\\texttt{Concat(r1, r2)}, s) = (false, -1)}{concat-no-match-2}$$ \n",
    "\n",
    "### Kleene Star\n",
    "\n",
    "$$\\semRule{ \\mathbf{Matches}(\\texttt{r}, s) = (true, j_1),\\ n = \\text{length}(s),\\ \\mathbf{Matches}(\\texttt{KleeneStar(r)}, s(j+1,\\ldots,n) ) = (true, j_2) }{ \\mathbf{Matches}(\\texttt{KleeneStar(r)}, s) = (true, j_1+j_2+1) }{kleene-star-match}$$ \n",
    "\n",
    "$$\\semRule{ \\mathbf{Matches}(\\texttt{r}, s) = (false, -1) }{ \\mathbf{Matches}(\\texttt{KleeneStar(r)}, s) = (true, -1) }{kleene-star-no-match}$$ \n",
    "\n",
    "The Kleene-star-no-match rule looks very strange on first sight. But really, it is trying to say that any string \n",
    "matches the Kleene star of a regular expression. However, if the inner regular expression does not match, the Kleene star matches trivially with a match of length 0.\n",
    "\n",
    "\n",
    "### A (10 points)\n",
    "Complete the code below for evaluating the semantics above.\n"
   ]
  },
  {
   "cell_type": "code",
   "execution_count": null,
   "metadata": {
    "collapsed": true
   },
   "outputs": [],
   "source": []
  },
  {
   "cell_type": "code",
   "execution_count": 12,
   "metadata": {
    "deletable": false,
    "nbgrader": {
     "cell_type": "code",
     "checksum": "d41691f0137271563203c06fec2c68ee",
     "grade": false,
     "grade_id": "cell-11d019f08959ab00",
     "locked": false,
     "schema_version": 3,
     "solution": true
    }
   },
   "outputs": [
    {
     "data": {
      "text/plain": [
       "defined \u001b[32mtrait\u001b[39m \u001b[36mRegExp\u001b[39m\n",
       "defined \u001b[32mclass\u001b[39m \u001b[36mAtom\u001b[39m\n",
       "defined \u001b[32mclass\u001b[39m \u001b[36mOr\u001b[39m\n",
       "defined \u001b[32mclass\u001b[39m \u001b[36mConcat\u001b[39m\n",
       "defined \u001b[32mclass\u001b[39m \u001b[36mKleeneStar\u001b[39m\n",
       "defined \u001b[32mfunction\u001b[39m \u001b[36misPrefixOf\u001b[39m\n",
       "defined \u001b[32mfunction\u001b[39m \u001b[36mevalRegexp\u001b[39m"
      ]
     },
     "execution_count": 12,
     "metadata": {},
     "output_type": "execute_result"
    }
   ],
   "source": [
    "sealed trait RegExp\n",
    "case class Atom(s: String) extends RegExp\n",
    "case class Or(r1: RegExp, r2: RegExp) extends RegExp\n",
    "case class Concat(r1: RegExp, r2: RegExp) extends RegExp\n",
    "case class KleeneStar(r1: RegExp) extends RegExp\n",
    "\n",
    "def isPrefixOf(t: String, s: String) = {\n",
    "    /* If string t is a prefix of s, then return true,\n",
    "       else return false\n",
    "       */\n",
    "    s.startsWith(t)\n",
    "}\n",
    "\n",
    "def evalRegexp(r: RegExp, s: String ): (Boolean, Int) = r match {\n",
    "    case Atom(t) => {\n",
    "        val t_length = t.length-1\n",
    "        val v1 = isPrefixOf(t,s)\n",
    "        val v2 = {\n",
    "            if (v1 == true){\n",
    "                (v1,t_length)\n",
    "            }\n",
    "            else{\n",
    "                (v1,-1)\n",
    "            }\n",
    "        }\n",
    "        v2 match{\n",
    "            case (true,j) => {\n",
    "                println(v2)\n",
    "                (true,t_length)}\n",
    "            case (false,_) => {(false,-1)}\n",
    "        }\n",
    "    }\n",
    "    \n",
    "    case Or(r1, r2) => {\n",
    "        val (v1, j1) = evalRegexp(r1, s)\n",
    "        val (v2, j2) = evalRegexp(r2, s)\n",
    "        ((v1||v2), math.max(j1, j2) )\n",
    "    }\n",
    "    \n",
    "    case Concat(r1, r2) => {\n",
    "        val v1 = evalRegexp(r1,s) // this should be in the form (true,j) , if it aint, then return false\n",
    "        val v2 = v1 match{\n",
    "            case (false,_) => {\n",
    "                v1\n",
    "            }\n",
    "            case (true,j1) =>{  // proceed\n",
    "                val v3 = evalRegexp(r2,)\n",
    "            }\n",
    "        }\n",
    "    }\n",
    "    \n",
    "    case KleeneStar(rHat) => {\n",
    "        val (v1, j1) = evalRegexp(rHat, s)\n",
    "        if (v1) {\n",
    "            val (v2, j2) = evalRegexp(KleeneStar(rHat), s.substring(j1+1, s.length))\n",
    "            (true, j1+1+j2)\n",
    "        } else {\n",
    "            (true, -1)\n",
    "        }\n",
    "    }\n",
    "    \n",
    "    \n",
    "}"
   ]
  },
  {
   "cell_type": "code",
   "execution_count": 13,
   "metadata": {
    "deletable": false,
    "editable": false,
    "nbgrader": {
     "cell_type": "code",
     "checksum": "01ce650ad90de2c5289e24ac7ba82549",
     "grade": true,
     "grade_id": "cell-e4114300eee7df39",
     "locked": true,
     "points": 4,
     "schema_version": 3,
     "solution": false
    }
   },
   "outputs": [
    {
     "name": "stdout",
     "output_type": "stream",
     "text": [
      "(true,4)\n",
      "(true,5)\n",
      "\n",
      "*** Tests Passed (4 points) ***\n"
     ]
    }
   ],
   "source": [
    "//BEGIN TEST\n",
    "assert( evalRegexp(Atom(\"hello\"), \"helloworld\") == (true, 4) , \"Test 1 failed\")\n",
    "assert(evalRegexp(Atom(\"hello\"), \"Helloworld\") == (false, -1), \"Test 2 failed\")\n",
    "assert(evalRegexp(Or(Atom(\"hello\"), Atom(\"Hellow\")), \"Helloworld\") == (true, 5), \"Test 3 failed\")\n",
    "passed(4)\n",
    "//END TEST"
   ]
  },
  {
   "cell_type": "code",
   "execution_count": null,
   "metadata": {
    "collapsed": true,
    "deletable": false,
    "editable": false,
    "nbgrader": {
     "cell_type": "code",
     "checksum": "fefd3c68ac94faf68a40abd1f1f4fa1a",
     "grade": true,
     "grade_id": "cell-0daa28ffb9922779",
     "locked": true,
     "points": 3,
     "schema_version": 3,
     "solution": false
    }
   },
   "outputs": [],
   "source": [
    "//BEGIN TEST\n",
    "assert(evalRegexp(KleeneStar(Atom(\"H\")), \"Helloworld\") == (true, 0), \"Test 4 failed\")\n",
    "assert(evalRegexp(Concat(Atom(\"hell\"), Atom(\"owor\")), \"helloworld\") == (true, 7), \"Test 5 failed\")\n",
    "passed(3)\n",
    "//END TEST"
   ]
  },
  {
   "cell_type": "code",
   "execution_count": null,
   "metadata": {
    "collapsed": true,
    "deletable": false,
    "editable": false,
    "nbgrader": {
     "cell_type": "code",
     "checksum": "546f28c4a3ce32edf4db0a66d6dcabd7",
     "grade": true,
     "grade_id": "cell-8c94dea0e1fb2ea8",
     "locked": true,
     "points": 3,
     "schema_version": 3,
     "solution": false
    }
   },
   "outputs": [],
   "source": [
    "//BEGIN TEST\n",
    "assert(evalRegexp(Concat( Or( Atom(\"what\"), Or(Atom(\"why\"), Atom(\"when\") )), KleeneStar(Or(Atom(\"what\"), Atom(\"why\") ))), \"whatwhywhatwhatwhatwhywhenwhere\") == (true, 21), \"Test 6 failed\")\n",
    "passed(3)\n",
    "//END TEST"
   ]
  },
  {
   "cell_type": "markdown",
   "metadata": {
    "deletable": false,
    "editable": false,
    "nbgrader": {
     "cell_type": "markdown",
     "checksum": "c8575ed957ede66ffc53320804dec88f",
     "grade": false,
     "grade_id": "cell-426f47725f92f030",
     "locked": true,
     "schema_version": 3,
     "solution": false
    }
   },
   "source": [
    "### B (15 points)\n",
    "\n",
    "Reimplement the interpreter in the CPS so that all recursion happens at the tail position."
   ]
  },
  {
   "cell_type": "code",
   "execution_count": null,
   "metadata": {
    "collapsed": true,
    "deletable": false,
    "nbgrader": {
     "cell_type": "code",
     "checksum": "523c8d4af5c685035da4869717cfe932",
     "grade": false,
     "grade_id": "cell-dddb46b30ec6fdb0",
     "locked": false,
     "schema_version": 3,
     "solution": true
    }
   },
   "outputs": [],
   "source": [
    "def isPrefixOf_k[T](t: String, s: String, k: Boolean => T): T = {\n",
    "    /* If string t is a prefix of s, then return true,\n",
    "       else return false\n",
    "       */\n",
    "    ??? // YOUR CODE HERE\n",
    "}\n",
    "\n",
    "def evalRegexp(r: RegExp, s: String): (Boolean, Int) = {\n",
    "    /*-- \n",
    "         This has been deliberately placed so that you \n",
    "         should not be using evalRegexp for \n",
    "         this problem.\n",
    "     --*/\n",
    "    \n",
    "    ???\n",
    "}\n",
    "\n",
    "def evalRegexp_k[T](r: RegExp, s: String, k: (Boolean, Int) => T ): T = r match {\n",
    "    case Atom(t) => {\n",
    "        isPrefixOf_k(t, s, v => {\n",
    "            ??? // YOUR CODE HERE\n",
    "        })    \n",
    "    }\n",
    "    \n",
    "    case Or(r1, r2) => {\n",
    "        evalRegexp_k(r1, s, (v1:Boolean, j1:Int)=> {\n",
    "            evalRegexp_k(r2, s.substring(j1+1, s.length), (v2:Boolean, j2: Int) => {\n",
    "                k((v1 || v2), math.max(j1,j2))    \n",
    "            })\n",
    "        })\n",
    "    }\n",
    "    \n",
    "    case Concat(r1, r2) => {\n",
    "        ??? // YOUR CODE HERE\n",
    "    }\n",
    "    \n",
    "    case KleeneStar(rHat) => {\n",
    "        evalRegexp_k(rHat, s, (v1: Boolean, j1: Int) => {\n",
    "                ??? // YOUR CODE HERE\n",
    "        })\n",
    "        \n",
    "    }\n",
    "    \n",
    "    \n",
    "}\n"
   ]
  },
  {
   "cell_type": "code",
   "execution_count": null,
   "metadata": {
    "collapsed": true,
    "deletable": false,
    "editable": false,
    "nbgrader": {
     "cell_type": "code",
     "checksum": "9bb975b8d4240b8b5ac05bf02db47037",
     "grade": true,
     "grade_id": "cell-f74a7b9de3c76e96",
     "locked": true,
     "points": 5,
     "schema_version": 3,
     "solution": false
    }
   },
   "outputs": [],
   "source": [
    "//BEGIN TEST\n",
    "assert( evalRegexp_k[Int](Atom(\"hello\"), \"helloworld\", (x: Boolean, y: Int) => {y} ) == 4, \"Test 1 failed\")\n",
    "assert( evalRegexp_k[Boolean](Atom(\"hello\"), \"Helloworld\", (x: Boolean, y: Int) => {x} ) == false, \"Test 2 failed\")\n",
    "passed(5)\n",
    "//END TEST"
   ]
  },
  {
   "cell_type": "code",
   "execution_count": null,
   "metadata": {
    "collapsed": true,
    "deletable": false,
    "editable": false,
    "nbgrader": {
     "cell_type": "code",
     "checksum": "5298be9b2a1d68f93727ef5c8690d094",
     "grade": true,
     "grade_id": "cell-09cf7a488c625cad",
     "locked": true,
     "points": 5,
     "schema_version": 3,
     "solution": false
    }
   },
   "outputs": [],
   "source": [
    "//BEGIN TEST\n",
    "assert( evalRegexp_k[String](Or(Atom(\"hello\"), Atom(\"Hellow\")), \"Helloworld\", (x: Boolean, y: Int) => {y.toString} ) == \"5\", \"Test 2 failed\")\n",
    "passed(5)\n",
    "//END TEST"
   ]
  },
  {
   "cell_type": "code",
   "execution_count": null,
   "metadata": {
    "collapsed": true,
    "deletable": false,
    "editable": false,
    "nbgrader": {
     "cell_type": "code",
     "checksum": "ff01be0b4499753bfb0b31ca6f0e7fd9",
     "grade": true,
     "grade_id": "cell-bae4142551b71809",
     "locked": true,
     "points": 5,
     "schema_version": 3,
     "solution": false
    }
   },
   "outputs": [],
   "source": [
    "//BEGIN TEST\n",
    "assert(evalRegexp_k(KleeneStar(Atom(\"H\")), \"HHHHHelloworld\", (x: Boolean, y: Int) => (x,y)) == (true, 4), \"Test 4 failed\")\n",
    "assert(evalRegexp_k(Concat(Atom(\"hell\"), Atom(\"owor\")), \"helloworld\", (x: Boolean, y: Int) => (y)) == 7, \"Test 5 failed\")\n",
    "assert(evalRegexp_k(Concat( Or( Atom(\"what\"), Or(Atom(\"why\"), Atom(\"when\") )), KleeneStar(Or(Atom(\"what\"), Atom(\"why\") ))), \"whatwhywhatwhatwhatwhywhenwhere\", (x: Boolean, y:Int) => (x, y)) == (true, 21), \"Test 6 failed\")\n",
    "passed(5)\n",
    "//END TEST"
   ]
  },
  {
   "cell_type": "markdown",
   "metadata": {
    "deletable": false,
    "editable": false,
    "nbgrader": {
     "cell_type": "markdown",
     "checksum": "c7106eeff89b85a6b88f8ea7c14bd93d",
     "grade": false,
     "grade_id": "cell-75f6f5aa7758cd2d",
     "locked": true,
     "schema_version": 3,
     "solution": false,
     "task": false
    }
   },
   "source": [
    "## Problem 3 (20 points)\n",
    "\n",
    "In this problem, you are asked to write the eval function for Lettuce using CPS style.\n",
    "Here is the stripped down grammar for Lettuce expressions.\n"
   ]
  },
  {
   "cell_type": "code",
   "execution_count": null,
   "metadata": {
    "collapsed": true,
    "deletable": false,
    "editable": false,
    "nbgrader": {
     "cell_type": "code",
     "checksum": "9f0904967c8b7daf526b45415e64916b",
     "grade": false,
     "grade_id": "cell-dc15b9a95f577863",
     "locked": true,
     "schema_version": 3,
     "solution": false,
     "task": false
    }
   },
   "outputs": [],
   "source": [
    "sealed trait Expr\n",
    "case class Const(v: Double) extends Expr // Expr -> Const(v)\n",
    "case class Ident(s: String) extends Expr // Expr -> Ident(s)\n",
    "// Arithmetic Expressions\n",
    "case class Plus(e1: Expr, e2: Expr) extends Expr // Expr -> Plus(Expr, Expr)\n",
    "// Boolean Expression\n",
    "case class Geq(e1: Expr, e2: Expr) extends Expr // Expr -> Bool(Expr, Expr)\n",
    "//If then else\n",
    "case class IfThenElse(e: Expr, eIf: Expr, eElse: Expr) extends Expr\n",
    "//Let bindings\n",
    "case class Let(s: String, defExpr: Expr, bodyExpr: Expr) extends Expr\n",
    "//Function definition\n",
    "case class FunDef(param: String, bodyExpr: Expr) extends Expr\n",
    "// Function call\n",
    "case class FunCall(funCalled: Expr, argExpr: Expr) extends Expr"
   ]
  },
  {
   "cell_type": "code",
   "execution_count": null,
   "metadata": {
    "collapsed": true,
    "deletable": false,
    "editable": false,
    "nbgrader": {
     "cell_type": "code",
     "checksum": "59394f7770a53fbe5fcf44213f2919ba",
     "grade": false,
     "grade_id": "cell-ec24fcb690cc6ef2",
     "locked": true,
     "schema_version": 3,
     "solution": false,
     "task": false
    }
   },
   "outputs": [],
   "source": [
    "sealed trait Value\n",
    "type Environment = Map[String, Value]\n",
    "case class NumValue(d: Double) extends Value\n",
    "case class BoolValue(b: Boolean) extends Value\n",
    "case class Closure(x: String, body: Expr, env: Environment) extends Value"
   ]
  },
  {
   "cell_type": "markdown",
   "metadata": {
    "deletable": false,
    "editable": false,
    "nbgrader": {
     "cell_type": "markdown",
     "checksum": "e33fea29b90936467acafaf5ec82f13d",
     "grade": false,
     "grade_id": "cell-1e29e6d05f2e2aed",
     "locked": true,
     "schema_version": 3,
     "solution": false,
     "task": false
    }
   },
   "source": [
    "You are asked to implement an eval function using CPS transformation."
   ]
  },
  {
   "cell_type": "code",
   "execution_count": null,
   "metadata": {
    "collapsed": true,
    "deletable": false,
    "nbgrader": {
     "cell_type": "code",
     "checksum": "b96bdc6ddfb12a38ab89625f6b4931de",
     "grade": false,
     "grade_id": "cell-dc49c00100a9b5dc",
     "locked": false,
     "schema_version": 3,
     "solution": true,
     "task": false
    }
   },
   "outputs": [],
   "source": [
    "case class ErrorException(msg: String) extends Exception\n",
    "\n",
    "def evalExpr_cps[T](e: Expr, env: Environment, k: Value => T): T = e match {\n",
    "    case Const(d) => {\n",
    "        ??? // YOUR CODE HERE\n",
    "    }\n",
    "    case Ident(x) => {\n",
    "        if (env contains x) {\n",
    "            ??? // YOUR CODE HERE\n",
    "        } else {\n",
    "            throw new ErrorException(s\"Unknown identifier $x\")\n",
    "        }\n",
    "    }\n",
    "    \n",
    "    case Plus(e1, e2) => {\n",
    "        evalExpr_cps(e1, env, (v1) => {\n",
    "            evalExpr_cps(e2, env, (v2) => {\n",
    "                (v1, v2) match {\n",
    "                    case (NumValue(d1), NumValue(d2)) => k(NumValue(d1+d2))\n",
    "                    case _ => throw new ErrorException(s\"Trying to add non-numerical\")\n",
    "                }\n",
    "            })\n",
    "        })\n",
    "    }\n",
    "    \n",
    "    case Geq(e1, e2) => {\n",
    "        ??? // YOUR CODE HERE\n",
    "    }\n",
    "    \n",
    "    case IfThenElse(e, e1, e2) => {\n",
    "        \n",
    "        evalExpr_cps(e, env, (v) => {\n",
    "                v match {\n",
    "                    case BoolValue(true) => {\n",
    "                        ??? // YOUR CODE HERE\n",
    "                    }\n",
    "                    case BoolValue(false) => {\n",
    "                        ??? // YOUR CODE HERE\n",
    "                    } \n",
    "                    case _ => {\n",
    "                        throw new ErrorException(\"Condition is not a boolean\")\n",
    "                    }\n",
    "                }\n",
    "        })\n",
    "    }\n",
    "    \n",
    "    case Let(x, e1, e2) => {\n",
    "        evalExpr_cps(e1, env, (v) => {\n",
    "            ??? // YOUR CODE HERE\n",
    "        })\n",
    "    }\n",
    "    \n",
    "    case FunDef(x, e) => {\n",
    "        ??? // YOUR CODE HERE\n",
    "    }\n",
    "    \n",
    "    case FunCall(e1, e2) => {\n",
    "        evalExpr_cps(e1, env, (v)=> {\n",
    "            v match {\n",
    "                case Closure(param, body, closureEnv) => {\n",
    "                     ??? // YOUR CODE HERE\n",
    "                }\n",
    "                case _ => {\n",
    "                    throw new ErrorException(\"function call on something that is not a function\")\n",
    "                }\n",
    "            } \n",
    "        })\n",
    "    }\n",
    "    \n",
    "}"
   ]
  },
  {
   "cell_type": "code",
   "execution_count": null,
   "metadata": {
    "collapsed": true,
    "deletable": false,
    "editable": false,
    "nbgrader": {
     "cell_type": "code",
     "checksum": "20a52f90888cd27b23b80ca212214939",
     "grade": true,
     "grade_id": "cell-7e1cff930bd33a79",
     "locked": true,
     "points": 6,
     "schema_version": 3,
     "solution": false,
     "task": false
    }
   },
   "outputs": [],
   "source": [
    "val p1 = \n",
    "    Let(\"square\",                                // let square = \n",
    "         FunDef(\"x\", Plus(Ident(\"x\"), Ident(\"x\"))),  //    function (x) x + x\n",
    "         FunCall(Ident(\"square\"), Const(10)) //     in  square(10)\n",
    "       )\n",
    "\n",
    "assert( evalExpr_cps(p1, Map.empty, x => x) == NumValue(20.0), \"Test 1 passed\")\n",
    "passed(6)"
   ]
  },
  {
   "cell_type": "code",
   "execution_count": null,
   "metadata": {
    "collapsed": true,
    "deletable": false,
    "editable": false,
    "nbgrader": {
     "cell_type": "code",
     "checksum": "bda039f62439052c70a28c9c770f9889",
     "grade": true,
     "grade_id": "cell-705122cf96849f14",
     "locked": true,
     "points": 7,
     "schema_version": 3,
     "solution": false,
     "task": false
    }
   },
   "outputs": [],
   "source": [
    "val x = Ident(\"x\")\n",
    "val y = Ident(\"y\")\n",
    "val fdef_inner = FunDef(\"y\", Plus(x, Plus(y, y)))\n",
    "val fdef_outer = FunDef(\"x\", fdef_inner)\n",
    "val call_expr = FunCall(FunCall(Ident(\"sq1\"), x), y)\n",
    "val sq1_call = Let(\"sq1\", fdef_outer, call_expr)\n",
    "val lety = Let(\"y\", Const(15), sq1_call)\n",
    "val letx = Let(\"x\", Const(10), lety)\n",
    "val p2 = letx\n",
    "\n",
    "assert(evalExpr_cps(p2, Map.empty, x => x) == NumValue(40.0))\n",
    "passed(7)"
   ]
  },
  {
   "cell_type": "code",
   "execution_count": null,
   "metadata": {
    "collapsed": true,
    "deletable": false,
    "editable": false,
    "nbgrader": {
     "cell_type": "code",
     "checksum": "a89828343ef0bf1ee87919c43a84d761",
     "grade": true,
     "grade_id": "cell-03f2c0936a36e4ae",
     "locked": true,
     "points": 7,
     "schema_version": 3,
     "solution": false,
     "task": false
    }
   },
   "outputs": [],
   "source": [
    "val x = Ident(\"x\")\n",
    "val y = Ident(\"y\")\n",
    "val iteExpr = IfThenElse(Geq(x, y), Plus(x, Plus(x,y)), Plus(y, Plus(x,x)))\n",
    "val fdef_inner = FunDef(\"y\", iteExpr)\n",
    "val fdef_outer = FunDef(\"x\", fdef_inner)\n",
    "val call_expr = FunCall(FunCall(Ident(\"sq1\"), x), y)\n",
    "val sq1_call = Let(\"sq1\", fdef_outer, call_expr)\n",
    "val lety = Let(\"y\", Const(15), sq1_call)\n",
    "val letx = Let(\"x\", Const(10), lety)\n",
    "val p3 = letx\n",
    "\n",
    "assert(evalExpr_cps(p3, Map.empty, x => x) == NumValue(35.0))\n",
    "passed(7)\n"
   ]
  }
 ],
 "metadata": {
  "kernelspec": {
   "display_name": "Scala",
   "language": "scala",
   "name": "scala"
  },
  "language_info": {
   "codemirror_mode": "text/x-scala",
   "file_extension": ".scala",
   "mimetype": "text/x-scala",
   "name": "scala",
   "nbconvert_exporter": "script",
   "version": "2.12.10"
  }
 },
 "nbformat": 4,
 "nbformat_minor": 2
}
