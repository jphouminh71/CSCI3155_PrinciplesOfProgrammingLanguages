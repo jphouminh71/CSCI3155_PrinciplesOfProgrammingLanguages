{
 "cells": [
  {
   "cell_type": "markdown",
   "metadata": {
    "collapsed": true
   },
   "source": [
    "Collaborator: \n",
    "    Zachary Chommala\n",
    "    Alex Ho\n",
    "    Bao Nguyen"
   ]
  },
  {
   "cell_type": "markdown",
   "metadata": {
    "deletable": false,
    "editable": false,
    "nbgrader": {
     "cell_type": "markdown",
     "checksum": "4df85f20298c52cd3bc2ab3294e0294f",
     "grade": false,
     "grade_id": "cell-554205c9fbf8e007",
     "locked": true,
     "schema_version": 3,
     "solution": false
    }
   },
   "source": [
    "# CSCI 3155: Assignment 5\n",
    "\n",
    "Topics Covered: Operations on inductive definitions, building an interpreter, big step operational semantics and using map, foldLeft and filter functions to replace loops."
   ]
  },
  {
   "cell_type": "markdown",
   "metadata": {},
   "source": [
    "__Jonathan Phouminh__"
   ]
  },
  {
   "cell_type": "code",
   "execution_count": 4,
   "metadata": {
    "deletable": false,
    "editable": false,
    "nbgrader": {
     "cell_type": "code",
     "checksum": "75eb79a0577aaad1ab57992c3b3d9b45",
     "grade": false,
     "grade_id": "cell-523e63f33a38d446",
     "locked": true,
     "schema_version": 3,
     "solution": false
    }
   },
   "outputs": [
    {
     "data": {
      "text/plain": [
       "defined \u001b[32mfunction\u001b[39m \u001b[36mpassed\u001b[39m"
      ]
     },
     "execution_count": 4,
     "metadata": {},
     "output_type": "execute_result"
    }
   ],
   "source": [
    "// TEST HELPER\n",
    "def passed(points: Int) {\n",
    "    require(points >=0)\n",
    "    if (points == 1) print(s\"Tests Passed (1 point)\")\n",
    "    else print(s\"Tests Passed ($points points)\") \n",
    "}"
   ]
  },
  {
   "cell_type": "markdown",
   "metadata": {
    "deletable": false,
    "editable": false,
    "nbgrader": {
     "cell_type": "markdown",
     "checksum": "a542d3ae63e7a0081383673b67f6713c",
     "grade": false,
     "grade_id": "cell-86df80222a5e29f3",
     "locked": true,
     "schema_version": 3,
     "solution": false
    }
   },
   "source": [
    "## Problem 1: Manipulating ASTs, Inference Rules (30 points)"
   ]
  },
  {
   "cell_type": "markdown",
   "metadata": {
    "deletable": false,
    "editable": false,
    "nbgrader": {
     "cell_type": "markdown",
     "checksum": "9827ef8cf32e4100ae568aa420cb1a8e",
     "grade": false,
     "grade_id": "cell-7b3432cb0c0460ce",
     "locked": true,
     "schema_version": 3,
     "solution": false
    }
   },
   "source": [
    "### 1A: Derivatives of Expressions (20 points)\n",
    "\n",
    "We have defined a grammar for arithmetic expressions in our class notes. \n",
    "\n",
    "$$\\begin{array}{rcll}\n",
    "\\textbf{Expr} & \\rightarrow & Const(\\textbf{Double}) \\\\\n",
    "& |  & Ident(\\textbf{String}) \\\\\n",
    "& | & Plus( \\textbf{Expr}, \\textbf{Expr})  \\\\\n",
    "& | & Minus( \\textbf{Expr}, \\textbf{Expr}) \\\\\n",
    "& | & Mult(\\textbf{Expr}, \\textbf{Expr}) \\\\\n",
    "& | & Div(\\textbf{Expr}, \\textbf{Expr}) \\\\\n",
    "& | & Exp(\\textbf{Expr}) \\\\\n",
    "& | & Sine(\\textbf{Expr}) \\\\\n",
    "& | & Cosine(\\textbf{Expr}) \\\\\\\\\n",
    "\\textbf{Double} & \\rightarrow & \\text{all double precision numbers in Scala}\\\\\n",
    "\\textbf{String} & \\rightarrow & \\text{all scala strings}\\\\\n",
    "\\end{array}$$\n",
    "\n",
    "For this problem, you will be writing an _automatic differentiation_ method that, given an expression `e` which involves just a single identifier `x` (no need to check this fact), will return an expression for `de/dx`, the derivative of `e` with respect to `x`.\n",
    "\n",
    "Eg., `e = Sine(Mult(Ident(\"x\"), Const(2.0)))` should return `Mult(Const(2.0), Cosine(  Mult(Ident(\"x\"), Const(2.0)))`.  In plain math, $\\frac{d \\sin(2x)}{dx} = 2 \\cos( 2x) $\n",
    "\n",
    "We will write down the inference rules for derivative, as follows.\n",
    "\n",
    "A rule for constants ($\\frac{dc}{dx} = 0, c \\in \\mathbb{R}$)\n",
    "\n",
    "$\\begin{array}{c}\n",
    "\\\\\n",
    "\\hline \n",
    "\\text{derivative}( \\texttt{Const(f)} , x) = \\texttt{Const(0.0)} \\\\\n",
    "\\end{array} \\mathbf{(Constant)}$      \n",
    "\n",
    "A rule for identifiers $\\frac{dx}{dx} = 1, \\frac{dy}{dx} = 0$ for $y \\not= x$.\n",
    "\n",
    "$\\begin{array}{c}\n",
    "\\\\\n",
    "\\hline \n",
    "\\text{derivative}( \\texttt{Ident(s)} , x) = \\left\\{ \\begin{array}{ll} \\texttt{Const(1.0)} & x == s \\\\\n",
    "\\texttt{Const(0.0)} & \\text{otherwise} \\end{array} \\right.\\\\\n",
    "\\end{array} \\mathbf{(Identifier)}  \\;\\;\\;\n",
    "$\n",
    "\n",
    "A rule for plus $\\frac{d}{dx} (e_1 + e_2) = \\frac{de_1}{dx} + \\frac{de_2}{dx}$.\n",
    "\n",
    "$ \\begin{array}{c}\n",
    "\\text{derivative}(\\texttt{e1}, x) = \\texttt{f1},\\;\\;\\text{derivative}(\\texttt{e2}, x) = \\texttt{f2}\\\\\n",
    "\\hline\n",
    "\\text{derivative}(\\texttt{Plus(e1, e2)}, x) = \\texttt{Plus(f1, f2)} \\\\\n",
    "\\end{array} \\mathbf{(Plus)} $\n",
    "\n",
    "A rule for multiplication: $\\frac{d}{dx} (e_1 e_2) = e_2 \\frac{de_1}{dx} + e_1 \\frac{de_2}{dx}$.\n",
    "\n",
    "$ \\begin{array}{c}\n",
    "\\text{derivative}(\\texttt{e1}, x) = \\texttt{f1},\\;\\;\\text{derivative}(\\texttt{e2}, x) = \\texttt{f2}\\\\\n",
    "\\hline\n",
    "\\text{derivative}(\\texttt{Mult(e1, e2)}, x) = \\texttt{Plus(Mult(f1, e2), Mult(f2, e1))} \\\\\n",
    "\\end{array} \\mathbf{(Mult)} $\n",
    "\n",
    "A rule for division $\\frac{d}{dx} \\left(\\frac{e_1}{e_2}\\right) = \\frac{\\frac{de_1}{dx}}{e_2} - \\frac{e_1 \\frac{d e_2}{dx}}{e_2^2}$\n",
    "\n",
    "$ \\begin{array}{c}\n",
    "\\text{derivative}(\\texttt{e1}, x) = \\texttt{f1},\\;\\;\\text{derivative}(\\texttt{e2}, x) = \\texttt{f2}\\\\\n",
    "\\hline\n",
    "\\text{derivative}(\\texttt{Div(e1, e2)}, x) = \\texttt{Minus(Div(f1, e2), Div(Mult(e1, f2), Mult(e2, e2)))} \\\\\n",
    "\\end{array} \\mathbf{(Div)} $\n",
    "\n",
    "A rule for exponentiation $\\frac{d}{dx} \\left(e^{e_1}\\right) = e^{e_1} \\frac{de_1}{dx}$\n",
    "\n",
    "$ \\begin{array}{c}\n",
    "\\text{derivative}(\\texttt{e1}, x) = \\texttt{f1}\\\\\n",
    "\\hline\n",
    "\\text{derivative}(\\texttt{Exp(e1)}, x) = \\texttt{Mult(Exp(e1), f1)} \\\\\n",
    "\\end{array} \\mathbf{(Exp)} $\n",
    "\n",
    "The rules for $\\mathbf{Minus}$, $\\mathbf{Sine}$, and $\\mathbf{Cosine}$ are left for you to write.\n",
    "You do not need to write your solution for these rules in this notebook, __but__, you do need to give them in code below.\n",
    "(Don't forget about the chain rule!)"
   ]
  },
  {
   "cell_type": "code",
   "execution_count": 2,
   "metadata": {
    "deletable": false,
    "editable": false,
    "nbgrader": {
     "cell_type": "code",
     "checksum": "02c64445eae9901295238649bbb28e54",
     "grade": false,
     "grade_id": "cell-5a6ded9a6f746cee",
     "locked": true,
     "schema_version": 3,
     "solution": false
    }
   },
   "outputs": [
    {
     "data": {
      "text/plain": [
       "defined \u001b[32mtrait\u001b[39m \u001b[36mExpr\u001b[39m\n",
       "defined \u001b[32mclass\u001b[39m \u001b[36mConst\u001b[39m\n",
       "defined \u001b[32mclass\u001b[39m \u001b[36mIdent\u001b[39m\n",
       "defined \u001b[32mclass\u001b[39m \u001b[36mPlus\u001b[39m\n",
       "defined \u001b[32mclass\u001b[39m \u001b[36mMinus\u001b[39m\n",
       "defined \u001b[32mclass\u001b[39m \u001b[36mMult\u001b[39m\n",
       "defined \u001b[32mclass\u001b[39m \u001b[36mDiv\u001b[39m\n",
       "defined \u001b[32mclass\u001b[39m \u001b[36mSine\u001b[39m\n",
       "defined \u001b[32mclass\u001b[39m \u001b[36mCosine\u001b[39m\n",
       "defined \u001b[32mclass\u001b[39m \u001b[36mExp\u001b[39m"
      ]
     },
     "execution_count": 2,
     "metadata": {},
     "output_type": "execute_result"
    }
   ],
   "source": [
    "sealed trait Expr\n",
    "case class Const(f: Double) extends Expr\n",
    "case class Ident(s: String) extends Expr\n",
    "case class Plus(e1: Expr, e2: Expr) extends Expr\n",
    "case class Minus(e1: Expr, e2: Expr) extends Expr\n",
    "case class Mult(e1: Expr, e2: Expr) extends Expr\n",
    "case class Div(e1: Expr, e2: Expr) extends Expr\n",
    "case class Sine(e: Expr) extends Expr\n",
    "case class Cosine(e: Expr) extends Expr\n",
    "case class Exp(e: Expr) extends Expr\n",
    "// We will skip over Log(e: Expr)"
   ]
  },
  {
   "cell_type": "code",
   "execution_count": 3,
   "metadata": {},
   "outputs": [
    {
     "data": {
      "text/plain": [
       "defined \u001b[32mfunction\u001b[39m \u001b[36mcheckWithRespect\u001b[39m"
      ]
     },
     "execution_count": 3,
     "metadata": {},
     "output_type": "execute_result"
    }
   ],
   "source": [
    "/* test cases\n",
    "// should return true arbitraily\n",
    "    val constant = Const(1000.0)\n",
    "    //println(\"-->\", checkWithRespect(constant,identifier))\n",
    "    \n",
    "    \n",
    "    // testing out the single identifiers\n",
    "    val singleIdentifer = Ident(\"x\") // this returned true, which is correct\n",
    "    val singleIdentifer2 = Ident(\"y\") // this returned false, which is correct\n",
    "    //println(\"-->\", checkWithRespect(singleIdentifer,identifier))\n",
    "    \n",
    "    \n",
    "    // testing out the Exp(..) identifiers\n",
    "    val Exponent1 = checkWithRespect(Exp(Const(1.0)),identifier)\n",
    "    val Exponent2 = checkWithRespect(Exp(Ident(\"x\")),identifier)\n",
    "    \n",
    "    // testing out the Plus(e1,e2) should be able to do it on a general level of using only ident const exp\n",
    "    val add = Plus(Exp(Const(1.0)), Ident(\"x\"))\n",
    "    val add1 = Plus(Exp(Const(1.0)), Ident(\"y\"))\n",
    "    \n",
    "//     println(\"TEST1: \", checkWithRespect(add, identifier))\n",
    "//     println(\"TEST2: \", checkWithRespect(add1, identifier))    \n",
    "    \n",
    "    \n",
    "    // testing out the Minus\n",
    "    val minus = Minus(Exp(Const(1.0)), Ident(\"x\"))\n",
    "    val minus1 = Minus(Exp(Const(1.0)), Ident(\"y\"))\n",
    "    //println(\"TEST1: \", checkWithRespect(minus, identifier))\n",
    "    //println(\"TEST2: \", checkWithRespect(minus1, identifier))    \n",
    "    \n",
    "    // Testing out Div \n",
    "    val div = Div(Exp(Const(1.0)), Ident(\"x\"))\n",
    "    val div1 = Div(Exp(Const(1.0)), Ident(\"y\"))\n",
    "    //println(\"TEST1: \", checkWithRespect(div, identifier))\n",
    "    //println(\"TEST2: \", checkWithRespect(div1, identifier))  \n",
    "    \n",
    "    // Testing out Multiplication\n",
    "    val mul = Mult(Exp(Const(1.0)), Ident(\"x\"))\n",
    "    val mul1 = Mult(Exp(Const(1.0)), Ident(\"y\"))\n",
    "    println(\"TEST1: \", checkWithRespect(mul, identifier))\n",
    "    println(\"TEST2: \", checkWithRespect(mul1, identifier)) \n",
    "*/\n",
    "/*\n",
    "    Function takes in an expression that needs to be evaluated ( derivative must be calculated ) \n",
    "    and is also given in the identifier that it is going to be evaulated with respect to.\n",
    "\n",
    "        - first things first would most likely to make sure that the expression is with respect to the identifer\n",
    "        - if its not then just return the expression \n",
    "        \n",
    "        - otherwise\n",
    "            - must evaluate the derivative of Plus\n",
    "                just check if it is with respect to the string first\n",
    "                if so then get the derivative of its to compnents and perform operation\n",
    "            - derivative of Minus\n",
    "                just check if it is with respect to the string first\n",
    "                if so then get the derivative of its to compnents and perform operation\n",
    "            - Derivative Cosine\n",
    "                -sin(...) <-- chain rule might apply here\n",
    "            - Derivative Sine\n",
    "                cos(...) <-- chain rule might apply here\n",
    "            - Derivative Div\n",
    "                (low)dhigh - high(dlow) / low**2\n",
    "            - Derivative of Exp\n",
    "                power rule\n",
    "            - Derivative of Mult\n",
    "            \n",
    "            Plus(Cosine(1x), Sine(x))  => Plus( -Sin(2x) )\n",
    "*/\n",
    "\n",
    "/*\n",
    "------------------------------------------------------------------------------------------------------------------              \n",
    "    Function will take in an expression that needs to be checked if its with respect to its identifer\n",
    "    function then returns true or false based on if the expression is with respect to its identifier. \n",
    "    \n",
    "    how this function will work. \n",
    "        essentially this function will need to keep breaking down the expression until it is \n",
    "        of the type, 'Ident(..)' , if we break down the expression all the way, and it is not, ident\n",
    "        then we just return false UNLESS it is of type const because its can be handled.\n",
    "*/\n",
    "def checkWithRespect(e: Expr, x:String): Boolean = e match{\n",
    "    // if its a const just return true  \n",
    "    case Const(_) => true\n",
    "    // unpack the identifier and if it is of the same same type x then return true \n",
    "    case Ident(y) => {\n",
    "        if ( y == x ){\n",
    "            true\n",
    "        }else{\n",
    "            false\n",
    "        }\n",
    "    }\n",
    "    // must unpack e1 to see what the true expression of e1 actually is \n",
    "    case Exp(e1) => {\n",
    "        checkWithRespect(e1,x)\n",
    "    }\n",
    "    case Cosine(e1) => {\n",
    "        checkWithRespect(e1,x)\n",
    "    }\n",
    "    case Sine(e1) => {\n",
    "        checkWithRespect(e1,x)\n",
    "    }\n",
    "    case Plus(e1,e2) => {\n",
    "        val leftExpression = checkWithRespect(e1, x)\n",
    "        val rightExpression = checkWithRespect(e2, x)\n",
    "        // if both of the expressions evaluate to true, then we can proceed to find the derivative\n",
    "        if (leftExpression == rightExpression){\n",
    "            true\n",
    "        }else{\n",
    "            throw new IllegalArgumentException(s\"Expression ${e} is not with respect identifier ${x}\")\n",
    "            false\n",
    "        }\n",
    "    }\n",
    "    case Minus(e1,e2) => {\n",
    "        val leftExpression = checkWithRespect(e1, x)\n",
    "        val rightExpression = checkWithRespect(e2, x)\n",
    "        // if both of the expressions evaluate to true, then we can proceed to find the derivative\n",
    "        if (leftExpression == rightExpression){\n",
    "            true\n",
    "        }else{\n",
    "            throw new IllegalArgumentException(s\"Expression ${e} is not with respect identifier ${x}\")\n",
    "            false\n",
    "        }\n",
    "    }\n",
    "    case Div(e1,e2) => {\n",
    "        val leftExpression = checkWithRespect(e1, x)\n",
    "        val rightExpression = checkWithRespect(e2, x)\n",
    "        // if both of the expressions evaluate to true, then we can proceed to find the derivative\n",
    "        if (leftExpression == rightExpression){\n",
    "            true\n",
    "        }else{\n",
    "            throw new IllegalArgumentException(s\"Expression ${e} is not with respect identifier ${x}\")\n",
    "            false\n",
    "        }\n",
    "    }\n",
    "    case Mult(e1,e2) => {\n",
    "        val leftExpression = checkWithRespect(e1, x)\n",
    "        val rightExpression = checkWithRespect(e2, x)\n",
    "        // if both of the expressions evaluate to true, then we can proceed to find the derivative\n",
    "        if (leftExpression == rightExpression){\n",
    "            true\n",
    "        }else{\n",
    "            throw new IllegalArgumentException(s\"Expression ${e} is not with respect identifier ${x}\")\n",
    "            false\n",
    "        }\n",
    "    }\n",
    "}\n",
    "\n",
    "// misread the directions, thought you had to check the expression type. \n"
   ]
  },
  {
   "cell_type": "markdown",
   "metadata": {
    "deletable": false,
    "editable": false,
    "nbgrader": {
     "cell_type": "markdown",
     "checksum": "3ef175a900ea13a88766e4a65bdf8944",
     "grade": false,
     "grade_id": "cell-3856b2383d61965d",
     "locked": true,
     "schema_version": 3,
     "solution": false
    }
   },
   "source": [
    "Write a function `derivativeExpr` that calculates the derivative of an expression\n",
    "`e` w.r.t a given identifier as a string `x`."
   ]
  },
  {
   "cell_type": "code",
   "execution_count": 4,
   "metadata": {
    "deletable": false,
    "nbgrader": {
     "cell_type": "code",
     "checksum": "60e80f5b6c07a516ee23b7b38ea3d495",
     "grade": false,
     "grade_id": "2a-answer",
     "locked": false,
     "schema_version": 3,
     "solution": true
    }
   },
   "outputs": [
    {
     "data": {
      "text/plain": [
       "defined \u001b[32mfunction\u001b[39m \u001b[36mderivativeHelper\u001b[39m\n",
       "defined \u001b[32mfunction\u001b[39m \u001b[36mderivativeExpr\u001b[39m"
      ]
     },
     "execution_count": 4,
     "metadata": {},
     "output_type": "execute_result"
    }
   ],
   "source": [
    "\n",
    "// Up to this point you are now able to check if the expression you are is in respect to the identifier x \n",
    "// now you jsut need to start coming up with the actual derivatives\n",
    "// helper function that will return the expression of the calculated derivative\n",
    "def derivativeHelper(e: Expr, x: String): Expr = e match{\n",
    "    // the derivative of a constant is equal to 0 \n",
    "    case Const(e1) =>  Const(0.0)\n",
    "    \n",
    "    // derivative of a single identifer is 1 ( dy/dx(x) == 1 )\n",
    "    case Ident(y) => {\n",
    "        if ( y == x ){\n",
    "            Const(1.0)\n",
    "        }else{\n",
    "            Const(0.0)\n",
    "        }\n",
    "    }\n",
    "\n",
    "    // Derivative of Sine(..) is Cos(..), Sine is only defined to take in one input in our case\n",
    "    case Sine(e1) => e1 match{\n",
    "        //case Ident(_) => Cosine(e1)\n",
    "        //case Const(_) => Cosine(derivativeHelper(e2,x))\n",
    "        //case _ => Cosine(derivativeHelper(e1, x))\n",
    "        case Ident(e1) => Mult(Cosine(Ident(e1)), derivativeHelper(Ident(e1),x))\n",
    "        case Const(e1) => Mult(Cosine(Const(e1)), derivativeHelper(Const(e1),x))\n",
    "        case _ =>  Mult(Cosine(e1), derivativeHelper(e1,x))\n",
    "    }\n",
    "    \n",
    "     // Derivative of Sine(..) is Cos(..), Sine is only defined to take in one input in our case\n",
    "    case Cosine(e1) => e1 match{\n",
    "        // -1x == Mult(Const(-1.0),Ident(x))\n",
    "        case Ident(_) => Mult(Const(-1),Sine(e1))\n",
    "        case Const(_) => Mult(Const(-1),derivativeHelper(e1,x))\n",
    "        case _ => Mult(Const(-1),derivativeHelper(e1, x))\n",
    "    } \n",
    "    \n",
    "    case Exp(e1) => {\n",
    "        val f1 = derivativeHelper(e1,x)\n",
    "        Mult(Exp(e1),f1)\n",
    "    }\n",
    "    \n",
    "    case Mult(e1,e2) => {\n",
    "        val der1 = derivativeHelper(e1,x)\n",
    "        val der2 = derivativeHelper(e2,x)\n",
    "        Plus(Mult(der1,e2),Mult(der2,e1))\n",
    "    }\n",
    "    \n",
    "    case Div(e1,e2) => {\n",
    "        val f1 = derivativeHelper(e1,x)\n",
    "        val f2 = derivativeHelper(e2,x) \n",
    "        \n",
    "        println(\"F1: \", f1, \"F2: \", f2)\n",
    "        println()\n",
    "        println()\n",
    "        Minus(Div(f1,e2),Div( Mult(e1,f2), Mult(e2,e2)))\n",
    "    }\n",
    "    \n",
    "    // Derivative of plus is equal to derivative of left value plus derivative of right value\n",
    "    case Plus(e1,e2) => {\n",
    "        Plus(derivativeHelper(e1, x),derivativeHelper(e2, x))\n",
    "    }\n",
    "    \n",
    "    // Derivative of minus is equal to the derivative of the left value minus derivative of left value\n",
    "    case Minus(e1,e2) => {\n",
    "        Minus(derivativeHelper(e1, x),derivativeHelper(e2, x))\n",
    "    }\n",
    "}\n",
    "\n",
    "def derivativeExpr(e: Expr, x: String): Expr = {\n",
    "    // if we pass this function then we know we can evaluate it, otherwise\n",
    "    // itll just throw an error of its own \n",
    "    checkWithRespect(e,x)\n",
    "    // going to pass this along to a helper because you are most likely going to have to \n",
    "    // construct the returned expression recursively\n",
    "    val returnedExpression = derivativeHelper(e, x)\n",
    "    //println(\"ORIGINAL EXPRESSION: \",e)\n",
    "    //println(\"MY EXPRESSION: \", returnedExpression)\n",
    "    returnedExpression\n",
    "}\n",
    "    \n",
    "\n"
   ]
  },
  {
   "cell_type": "code",
   "execution_count": 5,
   "metadata": {
    "deletable": false,
    "editable": false,
    "nbgrader": {
     "cell_type": "code",
     "checksum": "9d0d058206486a5847bd484cc9ee3bed",
     "grade": false,
     "grade_id": "cell-5ebe5c717def6816",
     "locked": true,
     "schema_version": 3,
     "solution": false
    }
   },
   "outputs": [
    {
     "data": {
      "text/plain": [
       "defined \u001b[32mfunction\u001b[39m \u001b[36mevalExpr\u001b[39m\n",
       "defined \u001b[32mfunction\u001b[39m \u001b[36mtestExpressions\u001b[39m\n",
       "\u001b[36mallVals\u001b[39m: \u001b[32mList\u001b[39m[\u001b[32mDouble\u001b[39m] = \u001b[33mList\u001b[39m(\n",
       "  \u001b[32m-5.0\u001b[39m,\n",
       "  \u001b[32m-4.5\u001b[39m,\n",
       "  \u001b[32m-4.0\u001b[39m,\n",
       "  \u001b[32m-3.5\u001b[39m,\n",
       "  \u001b[32m-3.0\u001b[39m,\n",
       "  \u001b[32m-2.5\u001b[39m,\n",
       "  \u001b[32m-1.9\u001b[39m,\n",
       "  \u001b[32m-1.4\u001b[39m,\n",
       "  \u001b[32m-1.0\u001b[39m,\n",
       "  \u001b[32m-0.5\u001b[39m,\n",
       "  \u001b[32m0.1\u001b[39m,\n",
       "  \u001b[32m0.5\u001b[39m,\n",
       "  \u001b[32m1.0\u001b[39m,\n",
       "  \u001b[32m1.5\u001b[39m,\n",
       "  \u001b[32m2.0\u001b[39m,\n",
       "  \u001b[32m2.5\u001b[39m,\n",
       "  \u001b[32m3.0\u001b[39m,\n",
       "  \u001b[32m3.5\u001b[39m,\n",
       "  \u001b[32m4.0\u001b[39m,\n",
       "  \u001b[32m4.5\u001b[39m,\n",
       "  \u001b[32m5.0\u001b[39m\n",
       ")"
      ]
     },
     "execution_count": 5,
     "metadata": {},
     "output_type": "execute_result"
    }
   ],
   "source": [
    "// BEGIN TESTS\n",
    "\n",
    "// TEST HELPERS\n",
    "def evalExpr (e: Expr, env: Map[String, Double]): Double = e match {\n",
    "    case Const (f) => f\n",
    "    case Ident (str) => { if (env.contains(str)){\n",
    "                                env(str)\n",
    "                            } else {\n",
    "        throw new IllegalArgumentException(s\"Environment does not contain mapping for $str\")\n",
    "    }\n",
    "                        }\n",
    "    case Plus(e1, e2) => {\n",
    "        (evalExpr(e1, env)) + (evalExpr(e2, env))\n",
    "    }\n",
    "    \n",
    "    case Minus(e1, e2) => {\n",
    "        (evalExpr(e1, env)) - (evalExpr(e2, env))\n",
    "    }\n",
    "    \n",
    "    case Mult(e1, e2) => {\n",
    "        (evalExpr(e1, env)) * (evalExpr(e2, env))\n",
    "    }\n",
    "    \n",
    "    case Div(e1, e2) => {\n",
    "        (evalExpr(e1, env)) / (evalExpr(e2, env))\n",
    "    }\n",
    "    \n",
    "    case Exp(e) => math.exp( evalExpr(e, env))\n",
    "    \n",
    "    case Sine(e) => math.sin( evalExpr(e, env))\n",
    "    \n",
    "    case Cosine(e) => math.cos(evalExpr(e, env))\n",
    "}\n",
    "\n",
    "def testExpressions(exp: Expr, deriv_expected: Expr, testVals: List[Double]): Boolean = {\n",
    "    val tol: Double = 1E-06\n",
    "    val deriv_act = derivativeExpr(exp, \"x\")\n",
    "    testVals forall { \n",
    "            x => {\n",
    "              val res = math.abs( evalExpr(deriv_act, Map(\"x\"-> x)) - evalExpr(deriv_expected, Map(\"x\" -> x)) ) <= tol\n",
    "              if (!res) { println(s\"Failed at $x\")}\n",
    "              res\n",
    "            }\n",
    "    }\n",
    "}\n",
    "\n",
    "val allVals = List(-5.0, -4.5, -4.0, -3.5, -3.0, -2.5, -1.9, -1.4, -1.0, -0.5, 0.1, 0.5, 1.0, 1.5, 2.0, 2.5, 3.0, 3.5, 4.0, 4.5, 5.0)"
   ]
  },
  {
   "cell_type": "code",
   "execution_count": 6,
   "metadata": {
    "deletable": false,
    "editable": false,
    "nbgrader": {
     "cell_type": "code",
     "checksum": "d5cfdeed2d1e9f8ea0840d539e4688e5",
     "grade": true,
     "grade_id": "2a-test-ident_plus_const",
     "locked": true,
     "points": 5,
     "schema_version": 3,
     "solution": false
    }
   },
   "outputs": [
    {
     "name": "stdout",
     "output_type": "stream",
     "text": [
      "Tests Passed (5 points)"
     ]
    },
    {
     "data": {
      "text/plain": [
       "\u001b[36me1\u001b[39m: \u001b[32mPlus\u001b[39m = \u001b[33mPlus\u001b[39m(\u001b[33mIdent\u001b[39m(\u001b[32m\"x\"\u001b[39m), \u001b[33mConst\u001b[39m(\u001b[32m2.0\u001b[39m))"
      ]
     },
     "execution_count": 6,
     "metadata": {},
     "output_type": "execute_result"
    }
   ],
   "source": [
    "val e1 = Plus(Ident(\"x\"), Const(2.0))\n",
    "assert(testExpressions(e1, Const(1.0), allVals ), s\"Test 1 Failed -- Input: $e1 \")\n",
    "\n",
    "passed(5)"
   ]
  },
  {
   "cell_type": "code",
   "execution_count": 7,
   "metadata": {
    "deletable": false,
    "editable": false,
    "nbgrader": {
     "cell_type": "code",
     "checksum": "ac714ecfc2bc24ba724aae240f231a0e",
     "grade": true,
     "grade_id": "2a-test-minus_trig",
     "locked": true,
     "points": 5,
     "schema_version": 3,
     "solution": false
    }
   },
   "outputs": [
    {
     "name": "stdout",
     "output_type": "stream",
     "text": [
      "Tests Passed (5 points)"
     ]
    },
    {
     "data": {
      "text/plain": [
       "\u001b[36me2\u001b[39m: \u001b[32mPlus\u001b[39m = \u001b[33mPlus\u001b[39m(\u001b[33mCosine\u001b[39m(\u001b[33mIdent\u001b[39m(\u001b[32m\"x\"\u001b[39m)), \u001b[33mSine\u001b[39m(\u001b[33mIdent\u001b[39m(\u001b[32m\"x\"\u001b[39m)))\n",
       "\u001b[36med2\u001b[39m: \u001b[32mMinus\u001b[39m = \u001b[33mMinus\u001b[39m(\u001b[33mCosine\u001b[39m(\u001b[33mIdent\u001b[39m(\u001b[32m\"x\"\u001b[39m)), \u001b[33mSine\u001b[39m(\u001b[33mIdent\u001b[39m(\u001b[32m\"x\"\u001b[39m)))"
      ]
     },
     "execution_count": 7,
     "metadata": {},
     "output_type": "execute_result"
    }
   ],
   "source": [
    "val e2 = Plus(Cosine(Ident(\"x\")), Sine(Ident(\"x\")))\n",
    "val ed2 = Minus(Cosine(Ident(\"x\")), Sine(Ident(\"x\")))\n",
    "assert(testExpressions(e2, ed2, allVals), s\"Test 2 Failed: Input is $e2\")\n",
    "\n",
    "passed(5)"
   ]
  },
  {
   "cell_type": "code",
   "execution_count": 8,
   "metadata": {
    "deletable": false,
    "editable": false,
    "nbgrader": {
     "cell_type": "code",
     "checksum": "30d239b4c5fd9ab434be2210110c57c1",
     "grade": true,
     "grade_id": "2a-test-exp_mult",
     "locked": true,
     "points": 5,
     "schema_version": 3,
     "solution": false
    }
   },
   "outputs": [
    {
     "name": "stdout",
     "output_type": "stream",
     "text": [
      "Tests Passed (5 points)"
     ]
    },
    {
     "data": {
      "text/plain": [
       "\u001b[36mx\u001b[39m: \u001b[32mIdent\u001b[39m = \u001b[33mIdent\u001b[39m(\u001b[32m\"x\"\u001b[39m)\n",
       "\u001b[36me3\u001b[39m: \u001b[32mExp\u001b[39m = \u001b[33mExp\u001b[39m(\u001b[33mMult\u001b[39m(\u001b[33mIdent\u001b[39m(\u001b[32m\"x\"\u001b[39m), \u001b[33mIdent\u001b[39m(\u001b[32m\"x\"\u001b[39m)))\n",
       "\u001b[36med3\u001b[39m: \u001b[32mMult\u001b[39m = \u001b[33mMult\u001b[39m(\n",
       "  \u001b[33mMult\u001b[39m(\u001b[33mConst\u001b[39m(\u001b[32m2.0\u001b[39m), \u001b[33mIdent\u001b[39m(\u001b[32m\"x\"\u001b[39m)),\n",
       "  \u001b[33mExp\u001b[39m(\u001b[33mMult\u001b[39m(\u001b[33mIdent\u001b[39m(\u001b[32m\"x\"\u001b[39m), \u001b[33mIdent\u001b[39m(\u001b[32m\"x\"\u001b[39m)))\n",
       ")"
      ]
     },
     "execution_count": 8,
     "metadata": {},
     "output_type": "execute_result"
    }
   ],
   "source": [
    "val x = Ident(\"x\")\n",
    "val e3 = Exp(Mult(x, x))\n",
    "val ed3 = Mult(Mult(Const(2.0), x), e3)\n",
    "assert(testExpressions(e3, ed3, allVals), s\"Test 3 Failed: Input is $e3\")\n",
    "\n",
    "passed(5)"
   ]
  },
  {
   "cell_type": "code",
   "execution_count": 9,
   "metadata": {
    "deletable": false,
    "editable": false,
    "nbgrader": {
     "cell_type": "code",
     "checksum": "8bc4e683d9a853baaa10566d4d5f78ba",
     "grade": true,
     "grade_id": "cell-98105bfe539405d9",
     "locked": true,
     "points": 5,
     "schema_version": 3,
     "solution": false
    }
   },
   "outputs": [
    {
     "name": "stdout",
     "output_type": "stream",
     "text": [
      "(F1: ,Const(1.0),F2: ,Plus(Const(1.0),Const(0.0)))\n",
      "\n",
      "\n",
      "(F1: ,Const(1.0),F2: ,Const(1.0))\n",
      "\n",
      "\n",
      "Tests Passed (5 points)"
     ]
    },
    {
     "data": {
      "text/plain": [
       "\u001b[36me4\u001b[39m: \u001b[32mDiv\u001b[39m = \u001b[33mDiv\u001b[39m(\u001b[33mIdent\u001b[39m(\u001b[32m\"x\"\u001b[39m), \u001b[33mPlus\u001b[39m(\u001b[33mIdent\u001b[39m(\u001b[32m\"x\"\u001b[39m), \u001b[33mConst\u001b[39m(\u001b[32m2.0\u001b[39m)))\n",
       "\u001b[36med4\u001b[39m: \u001b[32mDiv\u001b[39m = \u001b[33mDiv\u001b[39m(\n",
       "  \u001b[33mConst\u001b[39m(\u001b[32m2.0\u001b[39m),\n",
       "  \u001b[33mMult\u001b[39m(\u001b[33mPlus\u001b[39m(\u001b[33mIdent\u001b[39m(\u001b[32m\"x\"\u001b[39m), \u001b[33mConst\u001b[39m(\u001b[32m2.0\u001b[39m)), \u001b[33mPlus\u001b[39m(\u001b[33mIdent\u001b[39m(\u001b[32m\"x\"\u001b[39m), \u001b[33mConst\u001b[39m(\u001b[32m2.0\u001b[39m)))\n",
       ")\n",
       "\u001b[36me5\u001b[39m: \u001b[32mSine\u001b[39m = \u001b[33mSine\u001b[39m(\n",
       "  \u001b[33mMult\u001b[39m(\n",
       "    \u001b[33mExp\u001b[39m(\u001b[33mMinus\u001b[39m(\u001b[33mCosine\u001b[39m(\u001b[33mDiv\u001b[39m(\u001b[33mIdent\u001b[39m(\u001b[32m\"x\"\u001b[39m), \u001b[33mIdent\u001b[39m(\u001b[32m\"x\"\u001b[39m))), \u001b[33mCosine\u001b[39m(\u001b[33mConst\u001b[39m(\u001b[32m1.0\u001b[39m)))),\n",
       "    \u001b[33mIdent\u001b[39m(\u001b[32m\"x\"\u001b[39m)\n",
       "  )\n",
       ")\n",
       "\u001b[36med5\u001b[39m: \u001b[32mCosine\u001b[39m = \u001b[33mCosine\u001b[39m(\u001b[33mIdent\u001b[39m(\u001b[32m\"x\"\u001b[39m))"
      ]
     },
     "execution_count": 9,
     "metadata": {},
     "output_type": "execute_result"
    }
   ],
   "source": [
    "val e4 = Div(x, Plus(x, Const(2.0)))\n",
    "val ed4 = Div(Const(2.0), Mult(Plus(x, Const(2.0)), Plus(x, Const(2.0))) )\n",
    "assert(testExpressions(e4, ed4, allVals), s\"Test 4 Failed: Input is $e4\")\n",
    "\n",
    "\n",
    "val e5 = Sine(Mult(Exp(Minus( Cosine(Div(x,x)), Cosine(Const(1.0)) )), x))\n",
    "val ed5 = Cosine(x)\n",
    "assert(testExpressions(e5, ed5, allVals), s\"Test 5 Failed: Input is $e5\")\n",
    "\n",
    "passed(5)\n",
    "// END TESTS"
   ]
  },
  {
   "cell_type": "markdown",
   "metadata": {
    "deletable": false,
    "editable": false,
    "nbgrader": {
     "cell_type": "markdown",
     "checksum": "fd82910cdc248d45d6ce06c20c010530",
     "grade": false,
     "grade_id": "cell-c9182e4cf28a06d9",
     "locked": true,
     "schema_version": 3,
     "solution": false
    }
   },
   "source": [
    "### 1B: Newton's Algorithm Reloaded (10 points)\n",
    "\n",
    "Let's revisit problem 5 from assignment 1. Back in assignment 1, we hard coded the\n",
    "expression and its derivative. Here, we will use our `Expr` abstract syntax to \n",
    "define expressions and use the function you wrote in 2A to compute derivatives.\n",
    "You may also use the `evalExpr` function provided below.\n",
    "\n",
    "Newton invented the Newton-Raphson method for solving an equation. \n",
    "We are going to ask you to write some code to solve equations.\n",
    "\n",
    "`solveEquation(e: Expr, x0: Double, maxIters: Int = 1000)`\n",
    "\n",
    "Assume that the input expression has involves just one variable \"x\".\n",
    "\n",
    "To solve an equation of the form\n",
    "\n",
    "$$ x^2 - 3x + 2 == 0$$\n",
    "\n",
    "with initial guess at the solution: say $$x_0 = 4.5$$,\n",
    "\n",
    "We will input `val e = Plus(Minus(Mult(Ident(\"x\"), Ident(\"x\")), Mult(Const(3.0), Ident(\"x\"))), Const(2.0))`\n",
    "into the function\n",
    "\n",
    "`solveEquation( e, 1.5, 1000)`\n",
    "\n",
    "Each time we have the $i^{th}$ guess $x_i$, we update it as\n",
    "\n",
    "$$ x_{i+1} = x_i - \\frac{f(x_i)}{f'(x_i)} $$\n",
    "\n",
    "For our equation, $f(x) = x^2 - 3x +2$ and $f'(x) = 2 x - 3$ ( $f'$ is the derivative of $f$).\n",
    "\n",
    "Thus, our update equation is \n",
    "$$ x_{i+1} = x_i - \\frac{x_i^2 - 3 x_i + 2}{2 x_i - 3}$$.\n",
    "\n",
    "We stop whenever $|f(x_i)| \\leq 10^{-8}$ : i.e, we are very close to a root of the function\n",
    "_or_ $ i \\geq \\text{maxIters}$. \n",
    "\n",
    "Gory details are here:\n",
    "http://www.math.ubc.ca/~anstee/math104/newtonmethod.pdf\n",
    "\n"
   ]
  },
  {
   "cell_type": "code",
   "execution_count": 10,
   "metadata": {
    "deletable": false,
    "editable": false,
    "nbgrader": {
     "cell_type": "code",
     "checksum": "4f9451bf212f34911173618ed2c26edf",
     "grade": false,
     "grade_id": "cell-818418bd7ec6d27e",
     "locked": true,
     "schema_version": 3,
     "solution": false
    }
   },
   "outputs": [
    {
     "data": {
      "text/plain": [
       "defined \u001b[32mfunction\u001b[39m \u001b[36mevalExpr\u001b[39m"
      ]
     },
     "execution_count": 10,
     "metadata": {},
     "output_type": "execute_result"
    }
   ],
   "source": [
    "def evalExpr (e: Expr, env: Map[String, Double]): Double = e match {\n",
    "    case Const (f) => f\n",
    "    case Ident (str) => { if (env.contains(str)){\n",
    "                                env(str)\n",
    "                            } else {\n",
    "        throw new IllegalArgumentException(s\"Environment does not contain mapping for $str\")\n",
    "    }\n",
    "                        }\n",
    "    case Plus(e1, e2) => {\n",
    "        (evalExpr(e1, env)) + (evalExpr(e2, env))\n",
    "    }\n",
    "    \n",
    "    case Minus(e1, e2) => {\n",
    "        (evalExpr(e1, env)) - (evalExpr(e2, env))\n",
    "    }\n",
    "    \n",
    "    case Mult(e1, e2) => {\n",
    "        (evalExpr(e1, env)) * (evalExpr(e2, env))\n",
    "    }\n",
    "    \n",
    "    case Div(e1, e2) => {\n",
    "        (evalExpr(e1, env)) / (evalExpr(e2, env))\n",
    "    }\n",
    "    \n",
    "    case Exp(e) => math.exp( evalExpr(e, env))\n",
    "    \n",
    "    case Sine(e) => math.sin( evalExpr(e, env))\n",
    "    \n",
    "    case Cosine(e) => math.cos(evalExpr(e, env))\n",
    "}"
   ]
  },
  {
   "cell_type": "code",
   "execution_count": 12,
   "metadata": {
    "deletable": false,
    "editable": false,
    "nbgrader": {
     "cell_type": "code",
     "checksum": "c94f6e98d82a028be2e0c67e63453d05",
     "grade": true,
     "grade_id": "2b-test",
     "locked": true,
     "points": 10,
     "schema_version": 3,
     "solution": false
    }
   },
   "outputs": [
    {
     "name": "stdout",
     "output_type": "stream",
     "text": [
      "Tests Passed (10 points)"
     ]
    },
    {
     "data": {
      "text/plain": [
       "defined \u001b[32mfunction\u001b[39m \u001b[36mcheckSolution\u001b[39m\n",
       "\u001b[36me1\u001b[39m: \u001b[32mPlus\u001b[39m = \u001b[33mPlus\u001b[39m(\n",
       "  \u001b[33mMinus\u001b[39m(\u001b[33mMult\u001b[39m(\u001b[33mIdent\u001b[39m(\u001b[32m\"x\"\u001b[39m), \u001b[33mIdent\u001b[39m(\u001b[32m\"x\"\u001b[39m)), \u001b[33mMult\u001b[39m(\u001b[33mConst\u001b[39m(\u001b[32m3.0\u001b[39m), \u001b[33mIdent\u001b[39m(\u001b[32m\"x\"\u001b[39m))),\n",
       "  \u001b[33mConst\u001b[39m(\u001b[32m2.0\u001b[39m)\n",
       ")\n",
       "\u001b[36mv1\u001b[39m: \u001b[32mDouble\u001b[39m = \u001b[32m2.0\u001b[39m\n",
       "\u001b[36mx\u001b[39m: \u001b[32mIdent\u001b[39m = \u001b[33mIdent\u001b[39m(\u001b[32m\"x\"\u001b[39m)\n",
       "\u001b[36me2\u001b[39m: \u001b[32mMinus\u001b[39m = \u001b[33mMinus\u001b[39m(\u001b[33mSine\u001b[39m(\u001b[33mIdent\u001b[39m(\u001b[32m\"x\"\u001b[39m)), \u001b[33mPlus\u001b[39m(\u001b[33mCosine\u001b[39m(\u001b[33mIdent\u001b[39m(\u001b[32m\"x\"\u001b[39m)), \u001b[33mIdent\u001b[39m(\u001b[32m\"x\"\u001b[39m)))\n",
       "\u001b[36mv2\u001b[39m: \u001b[32mDouble\u001b[39m = \u001b[32m-1.2587281774926764\u001b[39m\n",
       "\u001b[36me3\u001b[39m: \u001b[32mMinus\u001b[39m = \u001b[33mMinus\u001b[39m(\u001b[33mExp\u001b[39m(\u001b[33mIdent\u001b[39m(\u001b[32m\"x\"\u001b[39m)), \u001b[33mConst\u001b[39m(\u001b[32m5.0\u001b[39m))\n",
       "\u001b[36mv3\u001b[39m: \u001b[32mDouble\u001b[39m = \u001b[32m1.6094379124341005\u001b[39m\n",
       "\u001b[36me4\u001b[39m: \u001b[32mMinus\u001b[39m = \u001b[33mMinus\u001b[39m(\n",
       "  \u001b[33mPlus\u001b[39m(\u001b[33mExp\u001b[39m(\u001b[33mSine\u001b[39m(\u001b[33mIdent\u001b[39m(\u001b[32m\"x\"\u001b[39m))), \u001b[33mExp\u001b[39m(\u001b[33mCosine\u001b[39m(\u001b[33mIdent\u001b[39m(\u001b[32m\"x\"\u001b[39m)))),\n",
       "  \u001b[33mConst\u001b[39m(\u001b[32m2.0\u001b[39m)\n",
       ")\n",
       "\u001b[36mv4\u001b[39m: \u001b[32mDouble\u001b[39m = \u001b[32m2.6608333328389557\u001b[39m\n",
       "\u001b[36me5\u001b[39m: \u001b[32mMinus\u001b[39m = \u001b[33mMinus\u001b[39m(\n",
       "  \u001b[33mMult\u001b[39m(\u001b[33mIdent\u001b[39m(\u001b[32m\"x\"\u001b[39m), \u001b[33mSine\u001b[39m(\u001b[33mIdent\u001b[39m(\u001b[32m\"x\"\u001b[39m))),\n",
       "  \u001b[33mPlus\u001b[39m(\u001b[33mCosine\u001b[39m(\u001b[33mIdent\u001b[39m(\u001b[32m\"x\"\u001b[39m)), \u001b[33mConst\u001b[39m(\u001b[32m5.0\u001b[39m))\n",
       ")\n",
       "\u001b[36mv5\u001b[39m: \u001b[32mDouble\u001b[39m = \u001b[32m21.80586857241091\u001b[39m"
      ]
     },
     "execution_count": 12,
     "metadata": {},
     "output_type": "execute_result"
    }
   ],
   "source": [
    "// BEGIN TESTS\n",
    "def checkSolution(e: Expr, v: Double): Boolean = {\n",
    "    val y = evalExpr(e, Map{\"x\" -> v}) \n",
    "    math.abs(y) <= 1e-08\n",
    "}\n",
    "\n",
    "val e1 = Plus(Minus(Mult(Ident(\"x\"), Ident(\"x\")), Mult(Const(3.0), Ident(\"x\"))), Const(2.0))\n",
    "val v1 = solveEquation(e1, 10.0, 1000)\n",
    "\n",
    "assert(checkSolution(e1, v1), s\"Test 1 failed: $e1 == 0, your code returned $v1 with f(x) = ${evalExpr(e1, Map{\"x\" -> v1}) }\")\n",
    "\n",
    "// Sine(x)  - Cos(x) - x == 0\n",
    "val x = Ident(\"x\")\n",
    "val e2 = Minus(Sine(x), Plus(Cosine(x), x))\n",
    "val v2 = solveEquation(e2, 1.4)\n",
    "assert(checkSolution(e2, v2), s\"Test 2 failed: $e2 == 0, your code returned $v2 with f(x) = ${evalExpr(e2, Map{\"x\" -> v2}) }\")\n",
    "\n",
    "// e^x - 5.0 = 0\n",
    "val e3 = Minus(Exp(x), Const(5.0))\n",
    "val v3 = solveEquation(e3, 2.0)\n",
    "assert(checkSolution(e3, v3), s\"Test 3 failed: $e3 == 0, your code returned $v3 with f(x) = ${evalExpr(e3, Map{\"x\" -> v3}) }\")\n",
    "\n",
    "// e^cos(x) + e^sin(x) - 2.0 = 0\n",
    "\n",
    "val e4 = Minus(Plus(Exp(Sine(x)), Exp(Cosine(x))), Const(2.0))\n",
    "val v4 = solveEquation(e4, 1.8)\n",
    "assert(checkSolution(e4, v4), s\"Test 3 failed: $e4 == 0, your code returned $v4 with f(x) = ${evalExpr(e4, Map{\"x\" -> v4}) }\")\n",
    "\n",
    "\n",
    "// x sin(x) -  cos(x) - 5.0\n",
    "val e5 = Minus(Mult(x, Sine(x)), Plus(Cosine(x), Const(5.0)))\n",
    "val v5 = solveEquation(e5, 1.8)\n",
    "assert(checkSolution(e5, v5), s\"Test 3 failed: $e5 == 0, your code returned $v5 with f(x) = ${evalExpr(e5, Map{\"x\" -> v5}) }\")\n",
    "\n",
    "passed(10)\n",
    "// END TESTS"
   ]
  },
  {
   "cell_type": "markdown",
   "metadata": {
    "deletable": false,
    "editable": false,
    "nbgrader": {
     "cell_type": "markdown",
     "checksum": "bb4d1f6c23e25e5dfcc5e36c4ea64152",
     "grade": false,
     "grade_id": "cell-c90311f0f12f79f2",
     "locked": true,
     "schema_version": 3,
     "solution": false
    }
   },
   "source": [
    "## Problem 2: map, filter, reduce on containers (25 points)\n",
    "\n",
    "Solve the problems using a combination of map, filter and foldLeft/foldRight opertions over lists. The use of mutables, recursion, For/While loops is forbidden for this problem."
   ]
  },
  {
   "cell_type": "code",
   "execution_count": 11,
   "metadata": {
    "deletable": false,
    "nbgrader": {
     "cell_type": "code",
     "checksum": "2664bf9f2592e6337bfd23b9a52a485c",
     "grade": false,
     "grade_id": "2b-answer",
     "locked": false,
     "schema_version": 3,
     "solution": true
    }
   },
   "outputs": [
    {
     "data": {
      "text/plain": [
       "defined \u001b[32mfunction\u001b[39m \u001b[36mupdateEnvironment\u001b[39m\n",
       "defined \u001b[32mfunction\u001b[39m \u001b[36mcheckValue\u001b[39m\n",
       "defined \u001b[32mfunction\u001b[39m \u001b[36msolveHelper\u001b[39m\n",
       "defined \u001b[32mfunction\u001b[39m \u001b[36msolveEquation\u001b[39m"
      ]
     },
     "execution_count": 11,
     "metadata": {},
     "output_type": "execute_result"
    }
   ],
   "source": [
    "/*\n",
    "    x0 is the initial variable that you are going to keep updating if its not \n",
    "    in range of math.scala.abs(FUNCTION(current_x0)), make a helper equation \n",
    "    \n",
    "    evaulate the initial expression, this will be f(x) \n",
    "    pass an iterator counter to keep track of iterations\n",
    "    \n",
    "    evalExpr, take in a map and and an expression, we only need to worry about mapping values to x\n",
    "    now the only thing you really need to think about for evalExpr is that you need to \n",
    "    pass it an environmenet with the updated mapping of what x is currently, you will do this\n",
    "    instead of using a var. \n",
    "        - step one, figure out how to create a map, then try to pass it to eval function \n",
    "        - step two, figure out how to update the mapping of \"x\" as it will need to be changed when \n",
    "        the condition is not satisfied. \n",
    "*/\n",
    "\n",
    "// this function is essentially going to be replacing 'var' variables altogether\n",
    "def updateEnvironment(current_env: Map[String,Double], nextValue: Double): Map[String,Double] = {\n",
    "    val new_env = current_env + (\"x\" -> nextValue)  // this actually updates the mapping of x, changing its value \n",
    "    return new_env\n",
    "}\n",
    "\n",
    "// function is passed the value of the current f(x) has just evaluated\n",
    "// and returns a boolean letting us know if have met the constraint or not \n",
    "def checkValue(x: Double): Boolean = {\n",
    "    val value = (x).abs\n",
    "    if ( value <= math.pow(10,-8)){\n",
    "        true\n",
    "    }else{\n",
    "        false\n",
    "    }\n",
    "}\n",
    "\n",
    "//def evalExpr (e: Expr, env: Map[String, Double]), \n",
    "// . this function will return a double that evaluate the current expression\n",
    "//  with the current mapping of x \n",
    "\n",
    "\n",
    "// def derivativeHelper(e: Expr, x: String): Expr\n",
    "// this function returns the expression of the derivative of the function. \n",
    "\n",
    "def solveHelper(e: Expr, x: Double, env: Map[String,Double], currentIter: Int = 0, maxIters:Int = 1000): Double = {\n",
    "    if (currentIter == maxIters){\n",
    "        env(\"x\") // returns the last calculated value if hit 1000 calculations \n",
    "    }else{\n",
    "        val value = env(\"x\")  // give me the current value that we have calculated\n",
    "        if(checkValue(value)){  // check that value if it meets criteria \n",
    "            value\n",
    "        }else{\n",
    "            // now we need to calculate the next value then keep calling this function \n",
    "            //  x_i+1 = x - f(x)/df(x)\n",
    "            val f = e\n",
    "            val df = derivativeExpr(e,\"x\") // gives us the derivative w.r.t x \n",
    "            \n",
    "            val f_val = evalExpr(f,env)  \n",
    "            val df_val = evalExpr(df,env)\n",
    "            val prev_value = value\n",
    "            \n",
    "            // calculate the actual value for the newValue\n",
    "            val calculatedValue = (prev_value - (f_val/df_val))\n",
    "            // now update the map with this new value\n",
    "            val next_environment = updateEnvironment(env, calculatedValue)\n",
    "            val nextGuess = next_environment(\"x\")\n",
    "            \n",
    "            // now proceed \n",
    "            solveHelper(e, nextGuess, next_environment, currentIter + 1, maxIters)\n",
    "        }\n",
    "    }\n",
    "}\n",
    "def solveEquation(e: Expr, x0: Double, maxIters:Int = 1000): Double = {\n",
    "    val env = Map(\"x\" -> x0)  // loading the initial guess \n",
    "    val initialValue = env(\"x\")\n",
    "    val answer = solveHelper(e,initialValue,env,0,1000)\n",
    "    answer\n",
    "    \n",
    "}\n",
    "    "
   ]
  },
  {
   "cell_type": "markdown",
   "metadata": {
    "deletable": false,
    "editable": false,
    "nbgrader": {
     "cell_type": "markdown",
     "checksum": "cd04a1864fb152c8eb50d0008aee3e32",
     "grade": false,
     "grade_id": "cell-57eb1b5c1720b797",
     "locked": true,
     "schema_version": 3,
     "solution": false
    }
   },
   "source": [
    "\n",
    "### 2A: Count how many whitespaces in a string (5 points)\n",
    "\n",
    "Write a function `countWhiteSpaces` that will count how many characters in a string are white spaces ` ` or `\\t`."
   ]
  },
  {
   "cell_type": "code",
   "execution_count": 13,
   "metadata": {
    "deletable": false,
    "nbgrader": {
     "cell_type": "code",
     "checksum": "149d13e4ee09476431131b23422c6e32",
     "grade": false,
     "grade_id": "cell-d07d79524c90fd4e",
     "locked": false,
     "schema_version": 3,
     "solution": true
    }
   },
   "outputs": [
    {
     "data": {
      "text/plain": [
       "defined \u001b[32mfunction\u001b[39m \u001b[36mcountWhiteSpaces\u001b[39m"
      ]
     },
     "execution_count": 13,
     "metadata": {},
     "output_type": "execute_result"
    }
   ],
   "source": [
    "def countWhiteSpaces(s: String): Int ={\n",
    "    val count = s.filter(x => x == ' ' || x == \"\\t\")\n",
    "    count.length\n",
    "}\n",
    "    "
   ]
  },
  {
   "cell_type": "code",
   "execution_count": 14,
   "metadata": {
    "deletable": false,
    "editable": false,
    "nbgrader": {
     "cell_type": "code",
     "checksum": "f12f54f2a742949f78dd8a79f9172d87",
     "grade": true,
     "grade_id": "cell-054acf67575fc99c",
     "locked": true,
     "points": 5,
     "schema_version": 3,
     "solution": false
    }
   },
   "outputs": [
    {
     "name": "stdout",
     "output_type": "stream",
     "text": [
      "Tests Passed (5 points)"
     ]
    },
    {
     "data": {
      "text/plain": [
       "\u001b[36mt1\u001b[39m: \u001b[32mInt\u001b[39m = \u001b[32m0\u001b[39m\n",
       "\u001b[36mt2\u001b[39m: \u001b[32mInt\u001b[39m = \u001b[32m5\u001b[39m\n",
       "\u001b[36mt3\u001b[39m: \u001b[32mInt\u001b[39m = \u001b[32m6\u001b[39m\n",
       "\u001b[36mt4\u001b[39m: \u001b[32mInt\u001b[39m = \u001b[32m6\u001b[39m"
      ]
     },
     "execution_count": 14,
     "metadata": {},
     "output_type": "execute_result"
    }
   ],
   "source": [
    "// BEGIN TESTS\n",
    "val t1  = countWhiteSpaces(\"Hello\")\n",
    "assert(t1 == 0, s\"Test1: String whould have 0 white spaces. Your code returned $t1\")\n",
    "val t2 = countWhiteSpaces(\"Hello World this is Sriram Speaking\")\n",
    "assert(t2 ==5, \"Test 2: String should have 5 white spaces.Your code returned $t2 \")\n",
    "val t3 = countWhiteSpaces(\"No Non Nons Nonse Nonsen Nonsens Nonsense!!\")\n",
    "assert(t3 ==6, \"Test 3\")\n",
    "val t4 = countWhiteSpaces(\"      \")\n",
    "assert(t4==6, s\"Test 4: String  (6spaces) should have  white spaces.Your code returned $t4 \")\n",
    "\n",
    "passed(5)\n",
    "// END TESTS"
   ]
  },
  {
   "cell_type": "markdown",
   "metadata": {
    "deletable": false,
    "editable": false,
    "nbgrader": {
     "cell_type": "markdown",
     "checksum": "edaa421f8cd291f025a4e3b55683bc38",
     "grade": false,
     "grade_id": "cell-cce284d399573f50",
     "locked": true,
     "schema_version": 3,
     "solution": false
    }
   },
   "source": [
    "### 2B: Sum of Even  Elements Minus Sum of Odd Elements (5 points)\n",
    "\n",
    "Given a list of length n, write a function that returns the sum of even elements minus sum of odd elements of a list. It must return $0$ for the empty list.\n",
    "\n",
    "eg., input `List(1, 3, 5, 4, 5, 2, 1, 0)`. Output `  (4 + 2 + 0) - (1 + 3 + 5 + 5 + 1) = -9`"
   ]
  },
  {
   "cell_type": "code",
   "execution_count": 15,
   "metadata": {
    "deletable": false,
    "nbgrader": {
     "cell_type": "code",
     "checksum": "23c64d6d6b7ecb189d9f5b65eed16735",
     "grade": false,
     "grade_id": "cell-332c55ac9d70c435",
     "locked": false,
     "schema_version": 3,
     "solution": true
    }
   },
   "outputs": [
    {
     "data": {
      "text/plain": [
       "defined \u001b[32mfunction\u001b[39m \u001b[36msumOfEvenMinusOdd\u001b[39m"
      ]
     },
     "execution_count": 15,
     "metadata": {},
     "output_type": "execute_result"
    }
   ],
   "source": [
    "def sumOfEvenMinusOdd(l: List[Int]) : Int ={\n",
    "    if (l.isEmpty){\n",
    "        0\n",
    "    }else{\n",
    "        val evenElements = l.filter( x => (x).abs % 2 == 0).foldLeft(0)((acc,x) => acc + x)\n",
    "        val oddElements = l.filter( x => (x).abs % 2 == 1).foldLeft(0)((acc,x) => acc + x)\n",
    "        evenElements - oddElements\n",
    "    }\n",
    "}"
   ]
  },
  {
   "cell_type": "code",
   "execution_count": 16,
   "metadata": {
    "deletable": false,
    "editable": false,
    "nbgrader": {
     "cell_type": "code",
     "checksum": "5cafad4d0086d47c0e69a6244235ec63",
     "grade": true,
     "grade_id": "cell-b37de6cd26982543",
     "locked": true,
     "points": 5,
     "schema_version": 3,
     "solution": false
    }
   },
   "outputs": [
    {
     "name": "stdout",
     "output_type": "stream",
     "text": [
      "Tests Passed (5 points)"
     ]
    },
    {
     "data": {
      "text/plain": [
       "\u001b[36mi1\u001b[39m: \u001b[32mInt\u001b[39m = \u001b[32m-9\u001b[39m\n",
       "\u001b[36mi2\u001b[39m: \u001b[32mInt\u001b[39m = \u001b[32m18\u001b[39m\n",
       "\u001b[36mi3\u001b[39m: \u001b[32mInt\u001b[39m = \u001b[32m-133\u001b[39m"
      ]
     },
     "execution_count": 16,
     "metadata": {},
     "output_type": "execute_result"
    }
   ],
   "source": [
    "// BEGIN TESTS\n",
    "val i1 = sumOfEvenMinusOdd(List(1,3,5,4,5,2,1,0))\n",
    "assert(i1 == -9, \"Test 1 Failed\")\n",
    "\n",
    "val i2 = sumOfEvenMinusOdd(List(2,4,5,6,7,8,10))\n",
    "assert(i2 == 18, \"Test 2 Failed\")\n",
    "\n",
    "val i3 = sumOfEvenMinusOdd(List(109, 19, 12, 1, -5, -120, -15, 30,-33,-13, 12, 19, 3, 18, 1, -1))\n",
    "assert(i3 == -133, \"Test 3 Failed\")\n",
    "\n",
    "passed(5)\n",
    "// END TESTS"
   ]
  },
  {
   "cell_type": "markdown",
   "metadata": {
    "deletable": false,
    "editable": false,
    "nbgrader": {
     "cell_type": "markdown",
     "checksum": "f45c848fd82a3da3f54e4dfa7c963f43",
     "grade": false,
     "grade_id": "cell-1de14d7f940a930f",
     "locked": true,
     "schema_version": 3,
     "solution": false
    }
   },
   "source": [
    "### 2C: sum of odd index elements - sum of even index elements in a list (5 points)\n",
    "\n",
    "Given a list $L= [a(1), ..., a(n)]$ of $n$ integers, find the  the sum\n",
    "of elements at even positions (a[0], a[2], ..., ) minus the sum of elements at\n",
    "odd positions (a[1], a[3], ... ) :\n",
    "(a[0] + a[2]+a[4] + .... ) - (a[1] + a[3]  + .... )\n",
    "\n"
   ]
  },
  {
   "cell_type": "code",
   "execution_count": 17,
   "metadata": {
    "deletable": false,
    "nbgrader": {
     "cell_type": "code",
     "checksum": "3d4fc3fb1a4382dc6e7f13ea761481a1",
     "grade": false,
     "grade_id": "cell-0c984f492b25b8b4",
     "locked": false,
     "schema_version": 3,
     "solution": true
    }
   },
   "outputs": [
    {
     "data": {
      "text/plain": [
       "defined \u001b[32mfunction\u001b[39m \u001b[36msumOfEvenIndicesMinusOdd\u001b[39m"
      ]
     },
     "execution_count": 17,
     "metadata": {},
     "output_type": "execute_result"
    }
   ],
   "source": [
    "def sumOfEvenIndicesMinusOdd(l: List[Int]): Int = {\n",
    "    // just check if the list is empty first\n",
    "    if (l.isEmpty){\n",
    "        0\n",
    "    }\n",
    "  \n",
    "    if (l.length == 2){\n",
    "        l(0) - l(1)\n",
    "    }\n",
    "    val evenSum = l.foldLeft(0)((acc,currentItem) => {\n",
    "        if (l.slice(l.indexOf(currentItem),l.size).size % 2 == 0){\n",
    "            acc + currentItem\n",
    "        }else{\n",
    "            acc\n",
    "        }\n",
    "    })\n",
    "    \n",
    "    val oddSum = l.foldLeft(0)((acc,currentItem) => {\n",
    "        if (l.slice(l.indexOf(currentItem),l.size).size % 2 == 1){\n",
    "            acc + currentItem\n",
    "        }else{\n",
    "            acc\n",
    "        }\n",
    "    })\n",
    " \n",
    "    println(\"even sum, \", evenSum)\n",
    "    println(\"odd sum, \", oddSum)\n",
    "    evenSum - oddSum\n",
    "    \n",
    "    \n",
    "         \n",
    "} "
   ]
  },
  {
   "cell_type": "code",
   "execution_count": 18,
   "metadata": {
    "deletable": false,
    "editable": false,
    "nbgrader": {
     "cell_type": "code",
     "checksum": "7325864ab4cbbd0ad4343f1309134532",
     "grade": true,
     "grade_id": "cell-8c49d31044f1e0ae",
     "locked": true,
     "points": 5,
     "schema_version": 3,
     "solution": false
    }
   },
   "outputs": [
    {
     "name": "stdout",
     "output_type": "stream",
     "text": [
      "(even sum, ,9)\n",
      "(odd sum, ,12)\n",
      "(even sum, ,10)\n",
      "(odd sum, ,200)\n",
      "(even sum, ,0)\n",
      "(odd sum, ,120)\n"
     ]
    },
    {
     "ename": "",
     "evalue": "",
     "output_type": "error",
     "traceback": [
      "\u001b[31mjava.lang.AssertionError: assertion failed: Test 3 failed\u001b[39m\n  scala.Predef$.assert(\u001b[32mPredef.scala\u001b[39m:\u001b[32m223\u001b[39m)\n  ammonite.$sess.cmd17$Helper.<init>(\u001b[32mcmd17.sc\u001b[39m:\u001b[32m6\u001b[39m)\n  ammonite.$sess.cmd17$.<init>(\u001b[32mcmd17.sc\u001b[39m:\u001b[32m7\u001b[39m)\n  ammonite.$sess.cmd17$.<clinit>(\u001b[32mcmd17.sc\u001b[39m:\u001b[32m-1\u001b[39m)"
     ]
    }
   ],
   "source": [
    "// BEGIN TESTS\n",
    "val t1 = sumOfEvenIndicesMinusOdd(List(1, 2, 3, 4, 5, 6))\n",
    "assert(t1 == -3, \"Test 1 failed\")\n",
    "val t2 = sumOfEvenIndicesMinusOdd(List(10, 200))\n",
    "assert(t2 == -190, \"Test 2 failed\")\n",
    "val t3 = sumOfEvenIndicesMinusOdd(List(0, 20, 0, 20, 0, 20, 20, 0, 20, 0, 20, 0))\n",
    "assert(t3 == 0, \"Test 3 failed\")\n",
    "val t4 = sumOfEvenIndicesMinusOdd(List())\n",
    "assert(t4 == 0, \"Test 4 failed\")\n",
    "val t5 = sumOfEvenIndicesMinusOdd(List(10))\n",
    "assert(t5 == 10, \"Test 5 failed\")\n",
    "\n",
    "passed(5)\n",
    "// END TESTS"
   ]
  },
  {
   "cell_type": "markdown",
   "metadata": {
    "deletable": false,
    "editable": false,
    "nbgrader": {
     "cell_type": "markdown",
     "checksum": "821215983b87369f9204bdc79be0c412",
     "grade": false,
     "grade_id": "cell-0272d508d2481088",
     "locked": true,
     "schema_version": 3,
     "solution": false
    }
   },
   "source": [
    "### 2D: Loop → FoldLeft (10 points)\n",
    "Eliminate the for loop and mutable variables in the code below"
   ]
  },
  {
   "cell_type": "code",
   "execution_count": 1,
   "metadata": {
    "deletable": false,
    "editable": false,
    "nbgrader": {
     "cell_type": "code",
     "checksum": "ee230ce635395d4d8fd4cee14b3d7eee",
     "grade": false,
     "grade_id": "cell-02bc224733c77bc0",
     "locked": true,
     "schema_version": 3,
     "solution": false
    }
   },
   "outputs": [
    {
     "data": {
      "text/plain": [
       "defined \u001b[32mfunction\u001b[39m \u001b[36mimperativeFun\u001b[39m"
      ]
     },
     "execution_count": 1,
     "metadata": {},
     "output_type": "execute_result"
    }
   ],
   "source": [
    "def imperativeFun(lst: List[Int]): Int = {\n",
    "    var minSoFar = Int.MaxValue // 2^32-1\n",
    "    var maxDiff = 0\n",
    "    for (x <- lst) {\n",
    "        if (x <= minSoFar){\n",
    "            minSoFar = x\n",
    "        }\n",
    "        if (x - minSoFar > maxDiff){\n",
    "            maxDiff = x - minSoFar\n",
    "        }\n",
    "    }\n",
    "    \n",
    "    return maxDiff\n",
    "}"
   ]
  },
  {
   "cell_type": "code",
   "execution_count": 59,
   "metadata": {},
   "outputs": [
    {
     "data": {
      "text/plain": [
       "defined \u001b[32mfunction\u001b[39m \u001b[36mfunUsingFoldLeft\u001b[39m"
      ]
     },
     "execution_count": 59,
     "metadata": {},
     "output_type": "execute_result"
    }
   ],
   "source": [
    "//3 2 1 0\n",
    "def funUsingFoldLeft(lst:List[Int]): Int = {\n",
    "    if (lst.size < 2){\n",
    "        0\n",
    "    }else{\n",
    "            val (maxDiff, minSoFar) =  lst.foldLeft ((0, Int.MaxValue)) { // acc is a pair of Ints. First of the pair is \"x\" and second is \"y\" but they are not vars anymore.\n",
    "                    case ( tuple: (Int, Int), currentElement: Int ) => {\n",
    "                           val maxDiff = tuple._1 // Unpack the acc\n",
    "                           val minSoFar = tuple._2 \n",
    "\n",
    "                           if (currentElement <= minSoFar) { // setting a new minimum \n",
    "                              val newMinSoFar = currentElement\n",
    "                              val newDiffCalculated = currentElement - newMinSoFar\n",
    "                              if (newDiffCalculated > maxDiff){\n",
    "                                  (newDiffCalculated,newMinSoFar)\n",
    "                              }else{\n",
    "                                  (maxDiff,newMinSoFar)\n",
    "                              }\n",
    "                           } \n",
    "                           else {\n",
    "                               if (currentElement - minSoFar > maxDiff){\n",
    "                                   val newDiffCalculated = currentElement - minSoFar\n",
    "                                   (newDiffCalculated, minSoFar)\n",
    "                               }\n",
    "                               else{\n",
    "                                   (maxDiff,minSoFar)\n",
    "                               }\n",
    "                           }\n",
    "                    }\n",
    "                  }\n",
    "        println(\">>\", maxDiff)\n",
    "        maxDiff\n",
    "    }\n",
    "    \n",
    "    \n",
    "    \n",
    "}"
   ]
  },
  {
   "cell_type": "code",
   "execution_count": 60,
   "metadata": {
    "deletable": false,
    "editable": false,
    "nbgrader": {
     "cell_type": "code",
     "checksum": "74224c25087fad0f6bf23612f31466dd",
     "grade": true,
     "grade_id": "cell-b766aa2568f6e251",
     "locked": true,
     "points": 10,
     "schema_version": 3,
     "solution": false
    }
   },
   "outputs": [
    {
     "name": "stdout",
     "output_type": "stream",
     "text": [
      "(>>,20)\n",
      "(>>,0)\n",
      "(>>,179)\n",
      "Tests Passed (10 points)"
     ]
    },
    {
     "data": {
      "text/plain": [
       "\u001b[36ml1\u001b[39m: \u001b[32mList\u001b[39m[\u001b[32mInt\u001b[39m] = \u001b[33mList\u001b[39m(\u001b[32m1\u001b[39m, \u001b[32m2\u001b[39m, \u001b[32m3\u001b[39m, \u001b[32m-1\u001b[39m, \u001b[32m2\u001b[39m, \u001b[32m5\u001b[39m, \u001b[32m18\u001b[39m, \u001b[32m19\u001b[39m, \u001b[32m1\u001b[39m, \u001b[32m0\u001b[39m, \u001b[32m-12\u001b[39m, \u001b[32m2\u001b[39m)\n",
       "\u001b[36ml2\u001b[39m: \u001b[32mList\u001b[39m[\u001b[32mInt\u001b[39m] = \u001b[33mList\u001b[39m(\u001b[32m2\u001b[39m)\n",
       "\u001b[36ml3\u001b[39m: \u001b[32mList\u001b[39m[\u001b[32mNothing\u001b[39m] = \u001b[33mList\u001b[39m()\n",
       "\u001b[36ml4\u001b[39m: \u001b[32mList\u001b[39m[\u001b[32mInt\u001b[39m] = \u001b[33mList\u001b[39m(\u001b[32m3\u001b[39m, \u001b[32m2\u001b[39m, \u001b[32m1\u001b[39m, \u001b[32m0\u001b[39m)\n",
       "\u001b[36ml5\u001b[39m: \u001b[32mList\u001b[39m[\u001b[32mInt\u001b[39m] = \u001b[33mList\u001b[39m(\u001b[32m-1\u001b[39m, \u001b[32m-12\u001b[39m, \u001b[32m-22\u001b[39m, \u001b[32m-54\u001b[39m, \u001b[32m-89\u001b[39m, \u001b[32m90\u001b[39m)"
      ]
     },
     "execution_count": 60,
     "metadata": {},
     "output_type": "execute_result"
    }
   ],
   "source": [
    "// BEGIN TESTS\n",
    "val l1 = List(1, 2, 3, -1, 2, 5, 18, 19, 1, 0, -12, 2)\n",
    "assert(imperativeFun(l1) == funUsingFoldLeft(l1), \"Test 1 failed\")\n",
    "\n",
    "val l2 = List(2)\n",
    "assert(imperativeFun(l2) == funUsingFoldLeft(l2), \"Test 2 failed\")\n",
    "\n",
    "val l3 = List()\n",
    "assert(imperativeFun(l3) == funUsingFoldLeft(l3), \"Test 3 failed\")\n",
    "\n",
    "val l4 = List(3, 2, 1, 0)\n",
    "assert(imperativeFun(l4) == funUsingFoldLeft(l4), \"Test 4 failed\")\n",
    "\n",
    "val l5 = List( -1,  -12, -22, -54, -89, 90)\n",
    "assert(imperativeFun(l5) == funUsingFoldLeft(l5), \"Test 5 failed\")\n",
    "\n",
    "passed(10)\n",
    "// END TESTS"
   ]
  },
  {
   "cell_type": "code",
   "execution_count": 19,
   "metadata": {
    "deletable": false,
    "nbgrader": {
     "cell_type": "code",
     "checksum": "c2ebd83a2f018cd8ed2913ee6511812e",
     "grade": false,
     "grade_id": "cell-61ba46072b910129",
     "locked": false,
     "schema_version": 3,
     "solution": true
    }
   },
   "outputs": [
    {
     "data": {
      "text/plain": [
       "defined \u001b[32mfunction\u001b[39m \u001b[36mfunUsingFoldLeft\u001b[39m"
      ]
     },
     "execution_count": 19,
     "metadata": {},
     "output_type": "execute_result"
    }
   ],
   "source": []
  },
  {
   "cell_type": "code",
   "execution_count": null,
   "metadata": {
    "collapsed": true
   },
   "outputs": [],
   "source": []
  },
  {
   "cell_type": "code",
   "execution_count": null,
   "metadata": {
    "collapsed": true
   },
   "outputs": [],
   "source": []
  }
 ],
 "metadata": {
  "kernelspec": {
   "display_name": "Scala",
   "language": "scala",
   "name": "scala"
  },
  "language_info": {
   "codemirror_mode": "text/x-scala",
   "file_extension": ".scala",
   "mimetype": "text/x-scala",
   "name": "scala",
   "nbconvert_exporter": "script",
   "version": "2.12.10"
  }
 },
 "nbformat": 4,
 "nbformat_minor": 2
}
