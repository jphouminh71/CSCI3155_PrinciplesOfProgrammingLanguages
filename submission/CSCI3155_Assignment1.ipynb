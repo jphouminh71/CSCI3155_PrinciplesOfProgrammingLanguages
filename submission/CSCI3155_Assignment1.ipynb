{
 "cells": [
  {
   "cell_type": "markdown",
   "metadata": {
    "collapsed": true
   },
   "source": [
    "# Collaborators: \n",
    "Zach Chommala \n",
    "Bao Nguyen \n",
    "Alex Ho"
   ]
  },
  {
   "cell_type": "markdown",
   "metadata": {
    "deletable": false,
    "editable": false,
    "nbgrader": {
     "cell_type": "markdown",
     "checksum": "518ae5ff7d970410d6aff53a3b9b2b66",
     "grade": false,
     "grade_id": "cell-e7db94ed69698ea4",
     "locked": true,
     "schema_version": 3,
     "solution": false
    }
   },
   "source": [
    "# CSCI 3155 Assignment 1 : Scala Programming\n",
    "\n",
    "This assignment asks you to write scala programs. Fill in the programs below. Use the test cases provided to test them. You are also encouraged to write your own test cases."
   ]
  },
  {
   "cell_type": "markdown",
   "metadata": {},
   "source": [
    "# Jonathan Phouminh"
   ]
  },
  {
   "cell_type": "code",
   "execution_count": 59,
   "metadata": {
    "deletable": false,
    "editable": false,
    "nbgrader": {
     "cell_type": "code",
     "checksum": "e3d600402a358d107c04ad5a9d1a6fe0",
     "grade": false,
     "grade_id": "cell-79ca066ce8c19e02",
     "locked": true,
     "schema_version": 3,
     "solution": false
    }
   },
   "outputs": [
    {
     "data": {
      "text/plain": [
       "defined \u001b[32mfunction\u001b[39m \u001b[36mpassed\u001b[39m\n",
       "defined \u001b[32mfunction\u001b[39m \u001b[36mtestWithMessage\u001b[39m"
      ]
     },
     "execution_count": 59,
     "metadata": {},
     "output_type": "execute_result"
    }
   ],
   "source": [
    "// TEST HELPER: Do not EDIT this cell please.\n",
    "def passed(points: Int) {\n",
    "    require(points >=0)\n",
    "    if (points == 1) print(s\"\\n*** Tests Passed (1 point) ***\\n\")\n",
    "    else print(s\"\\n*** Tests Passed ($points points) ***\\n\")\n",
    "}\n",
    "\n",
    "def testWithMessage(cond: Boolean, testID: String) = { \n",
    "    assert(cond, s\"Test $testID Failed\"); \n",
    "    println(s\"Test $testID Passed!\")\n",
    "}"
   ]
  },
  {
   "cell_type": "markdown",
   "metadata": {
    "deletable": false,
    "editable": false,
    "nbgrader": {
     "cell_type": "markdown",
     "checksum": "5dfd6587908ef4663d53b23657a2245d",
     "grade": false,
     "grade_id": "cell-07737f1428302d50",
     "locked": true,
     "schema_version": 3,
     "solution": false
    }
   },
   "source": [
    "## Problem 1 (5 points)\n",
    "\n",
    "Write a scala function titled `isPalindrome (s)` that tests whether a given input string `s` is a palindrome.\n",
    "\n",
    "The following string operations will be helpful.\n",
    "\n",
    "1. `s.size` gives you the size of the string.\n",
    "2. `s(i)` gives you the `ith` character for `i = 0, ... , s.size-1`\n",
    "3. For loops in scala are described here: https://www.tutorialspoint.com/scala/scala_for_loop.htm\n",
    "   Pay careful attention between the to and until forms of the for loop."
   ]
  },
  {
   "cell_type": "code",
   "execution_count": 60,
   "metadata": {
    "deletable": false,
    "nbgrader": {
     "cell_type": "code",
     "checksum": "bc579dc690fed8cb89f73f47994f4669",
     "grade": false,
     "grade_id": "cell-794743da17722228",
     "locked": false,
     "schema_version": 3,
     "solution": true
    }
   },
   "outputs": [
    {
     "data": {
      "text/plain": [
       "defined \u001b[32mfunction\u001b[39m \u001b[36misPalindrome\u001b[39m"
      ]
     },
     "execution_count": 60,
     "metadata": {},
     "output_type": "execute_result"
    }
   ],
   "source": [
    "def isPalindrome(s: String): Boolean = { \n",
    "    if (s.size == 1 || s.size == 0){        \n",
    "        return true;\n",
    "    }\n",
    "    else if (s.size == 3 && s(0) != s(2)){      \n",
    "        return false;\n",
    "    }\n",
    "    else{\n",
    "        if (s(0) == s(s.size-1)){ \n",
    "            return isPalindrome(s.slice(1,s.size-1));   \n",
    "        }\n",
    "        return false;\n",
    "    }\n",
    " }\n",
    "\n"
   ]
  },
  {
   "cell_type": "code",
   "execution_count": 89,
   "metadata": {
    "deletable": false,
    "editable": false,
    "nbgrader": {
     "cell_type": "code",
     "checksum": "698208fd3612fb4c4d7028e039aab12d",
     "grade": true,
     "grade_id": "cell-082571ccc4ca97d0",
     "locked": true,
     "points": 5,
     "schema_version": 3,
     "solution": false
    }
   },
   "outputs": [
    {
     "name": "stdout",
     "output_type": "stream",
     "text": [
      "\n",
      "*** Tests Passed (5 points) ***\n"
     ]
    }
   ],
   "source": [
    "//BEGIN TEST\n",
    "assert(isPalindrome(\"hellolleh\"), \"Test 1 Failed\")\n",
    "assert(!isPalindrome(\"bababablacksheep\"), \"Test 2 Failed\")\n",
    "assert(isPalindrome(\"\"), \"Test 3 Failed\")\n",
    "assert(isPalindrome(\"a\"), \"Test 4 Failed\")\n",
    "assert(isPalindrome(\"xxxxxxxx\"), \"Test 5 Failed\")\n",
    "assert(isPalindrome(\"ablewasiereisawelba\"), \"Test 6 Failed\")\n",
    "passed(5)\n",
    "//END TEST"
   ]
  },
  {
   "cell_type": "markdown",
   "metadata": {
    "deletable": false,
    "editable": false,
    "nbgrader": {
     "cell_type": "markdown",
     "checksum": "af4365d75bb1c7286e8631bb2dc831fe",
     "grade": false,
     "grade_id": "cell-7cc33962c9bf5094",
     "locked": true,
     "schema_version": 3,
     "solution": false
    }
   },
   "source": [
    "## Problem 2 (5 points)\n",
    "\n",
    "Implement a `isPalindromeRec` function that checks if a given string is a palindrome, but without using mutable `var`, or without using `for`/`while` loops.\n",
    "\n",
    "**Hint:** You should consult Scala documentation on strings to figure out:\n",
    "1. How do we get first and last characters of a string.\n",
    "2. How do we get substring between first and last character.\n",
    "3. How to find out if a string is empty or a single character.\n",
    "https://www.tutorialspoint.com/scala/scala_strings.htm"
   ]
  },
  {
   "cell_type": "code",
   "execution_count": 62,
   "metadata": {
    "deletable": false,
    "nbgrader": {
     "cell_type": "code",
     "checksum": "e7e99b034e8dedc9ec7b633545fd82bd",
     "grade": false,
     "grade_id": "cell-80da0f71ccafab19",
     "locked": false,
     "schema_version": 3,
     "solution": true
    }
   },
   "outputs": [
    {
     "data": {
      "text/plain": [
       "defined \u001b[32mfunction\u001b[39m \u001b[36misPalindromeRec\u001b[39m"
      ]
     },
     "execution_count": 62,
     "metadata": {},
     "output_type": "execute_result"
    }
   ],
   "source": [
    "def isPalindromeRec(s: String): Boolean = { \n",
    "    // base case 1\n",
    "    if (s.size == 1 || s.size == 0){        \n",
    "        return true;\n",
    "    }\n",
    "    \n",
    "    //base case 2 \n",
    "    else if (s.size == 3 && s(0) != s(2)){      \n",
    "        return false;\n",
    "    }\n",
    "    \n",
    "    else{\n",
    "        if (s(0) == s(s.size-1)){ \n",
    "            return isPalindromeRec(s.slice(1,s.size-1));   \n",
    "        }\n",
    "        return false;\n",
    "    }\n",
    " }\n"
   ]
  },
  {
   "cell_type": "code",
   "execution_count": 63,
   "metadata": {
    "deletable": false,
    "editable": false,
    "nbgrader": {
     "cell_type": "code",
     "checksum": "40e1383609a1f13e018898ad30fde1c2",
     "grade": true,
     "grade_id": "cell-ef781cc6d55287ba",
     "locked": true,
     "points": 5,
     "schema_version": 3,
     "solution": false
    }
   },
   "outputs": [
    {
     "name": "stdout",
     "output_type": "stream",
     "text": [
      "Test 1 Passed!\n",
      "Test 2 Passed!\n",
      "Test 3 Passed!\n",
      "Test 4 Passed!\n",
      "Test 5 Passed!\n",
      "Test 6 Passed!\n",
      "\n",
      "*** Tests Passed (5 points) ***\n"
     ]
    }
   ],
   "source": [
    "//BEGIN TEST\n",
    "\n",
    "testWithMessage(isPalindromeRec(\"hellolleh\") == true, \"1\")\n",
    "testWithMessage(isPalindromeRec(\"bababablacksheep\") == false, \"2\")\n",
    "testWithMessage(isPalindromeRec(\"\") == true, \"3\")\n",
    "testWithMessage(isPalindromeRec(\"a\") == true, \"4\")\n",
    "testWithMessage(isPalindromeRec(\"xxxxxxxx\") == true, \"5\")\n",
    "testWithMessage(isPalindromeRec(\"ablewasiereisawelba\") == true, \"6\")\n",
    "passed(5)\n",
    "//END TEST"
   ]
  },
  {
   "cell_type": "markdown",
   "metadata": {
    "deletable": false,
    "editable": false,
    "nbgrader": {
     "cell_type": "markdown",
     "checksum": "a1cddc39c8a93e8a2e24d4e17364586d",
     "grade": false,
     "grade_id": "cell-add3decf0afcc8e3",
     "locked": true,
     "schema_version": 3,
     "solution": false
    }
   },
   "source": [
    "## Problem 3 (5 points)\n",
    "\n",
    "A function $f: \\mathbb{Z} \\rightarrow \\mathbb{Z}$ over integers is a odd function if for all numbers $x \\in \\mathbb{Z}$, $f(-x) = -f(x)$.\n",
    "\n",
    "As an example $f(x) = 5x$ is an odd function. However, $f(x) = x^2$ is not.\n",
    "\n",
    "\n",
    "Write a scala function `isOddFunction(f, n)` that checks if $f(-z) = -f(z)$ for every number $z$ within the range $1, \\ldots, n$. The function should return `true` if $f$ is indeed an odd function and `false` otherwise. You may use a for loop for this problem. "
   ]
  },
  {
   "cell_type": "code",
   "execution_count": 1,
   "metadata": {
    "deletable": false,
    "nbgrader": {
     "cell_type": "code",
     "checksum": "3c55729b2aed21dfd5360aeaacfb726d",
     "grade": false,
     "grade_id": "cell-096de6a7e20071c9",
     "locked": false,
     "schema_version": 3,
     "solution": true
    }
   },
   "outputs": [
    {
     "data": {
      "text/plain": [
       "defined \u001b[32mfunction\u001b[39m \u001b[36misOddFunction\u001b[39m"
      ]
     },
     "execution_count": 1,
     "metadata": {},
     "output_type": "execute_result"
    }
   ],
   "source": [
    "/* \n",
    "    let f(x) = x+1; \n",
    "    then , let x = 2; \n",
    "    \n",
    "    then f(-x) = -2 + 1; \n",
    "    and  -f(x) = -(2+1)\n",
    "    \n",
    "                -1 != -3   <- this is not an even function \n",
    "    \n",
    "    just make the function test these \n",
    "    \n",
    "    The given function takes in a function, which will be the equation we need to test, then a integer n that\n",
    "    we will need to test all values upto. \n",
    "        Try to do it recurisvely, \n",
    "                    base case\n",
    "                        if n == 1:\n",
    "                            if -f(1) == f(-1):\n",
    "                                return true \n",
    "                            else:\n",
    "                                return false\n",
    "                            \n",
    "                        if f(-x) == -f(x) then if it is do \n",
    "                            isOddFunction(f,n-1)\n",
    "                        else:\n",
    "                            return false\n",
    "*/ \n",
    "\n",
    "def isOddFunction(f: Int => Int, n: Int): Boolean = {\n",
    "    // base case \n",
    "    if (n == 1){\n",
    "        if (f(-1) == -(f(1))){ return true;}\n",
    "        else {return false;}\n",
    "    }\n",
    "    if (f(-n) == -(f(n))){\n",
    "        return isOddFunction(f,n-1); \n",
    "    }\n",
    "    return false;\n",
    "}\n",
    "\n"
   ]
  },
  {
   "cell_type": "code",
   "execution_count": 1,
   "metadata": {
    "deletable": false,
    "editable": false,
    "nbgrader": {
     "cell_type": "code",
     "checksum": "84508ad5a956da311f9d182312546590",
     "grade": true,
     "grade_id": "cell-af1b5ad4b16aa37c",
     "locked": true,
     "points": 5,
     "schema_version": 3,
     "solution": false
    }
   },
   "outputs": [
    {
     "name": "stderr",
     "output_type": "stream",
     "text": [
      "cmd1.sc:10: not found: value testWithMessage\n",
      "val res1_4 = testWithMessage(!isOddFunction(f1, 10), \"1\")\n",
      "             ^cmd1.sc:11: not found: value testWithMessage\n",
      "val res1_5 = testWithMessage(isOddFunction(f2, 100), \"2\")\n",
      "             ^cmd1.sc:12: not found: value testWithMessage\n",
      "val res1_6 = testWithMessage(!isOddFunction(f3, 100), \"3\")\n",
      "             ^cmd1.sc:13: not found: value testWithMessage\n",
      "val res1_7 = testWithMessage(isOddFunction(f4, 8), \"4\")\n",
      "             ^cmd1.sc:14: not found: value testWithMessage\n",
      "val res1_8 = testWithMessage(!isOddFunction(f4, 15), \"5\")\n",
      "             ^cmd1.sc:15: not found: value passed\n",
      "val res1_9 = passed(5)\n",
      "             ^Compilation Failed"
     ]
    },
    {
     "ename": "",
     "evalue": "",
     "output_type": "error",
     "traceback": [
      "Compilation Failed"
     ]
    }
   ],
   "source": [
    "//BEGIN TEST\n",
    "/* Define functions for the tests */\n",
    "val f1: Int => Int = (x) => (x+10)\n",
    "val f2: Int => Int = (x) => (-2*x)\n",
    "def f3(x: Int): Int = x*x\n",
    "val f4: Int => Int = (x) => {\n",
    "    if (x < 10)  - 2 * x\n",
    "    else 2 * x\n",
    "}\n",
    "\n",
    "/* Some test cases */\n",
    "testWithMessage(!isOddFunction(f1, 10), \"1\")\n",
    "testWithMessage(isOddFunction(f2, 100), \"2\")\n",
    "testWithMessage(!isOddFunction(f3, 100), \"3\")\n",
    "testWithMessage(isOddFunction(f4, 8), \"4\")\n",
    "testWithMessage(!isOddFunction(f4, 15), \"5\")\n",
    "passed(5)\n",
    "//END TEST"
   ]
  },
  {
   "cell_type": "markdown",
   "metadata": {
    "deletable": false,
    "editable": false,
    "nbgrader": {
     "cell_type": "markdown",
     "checksum": "d62a9e064c0270e5e75ea348e3043f30",
     "grade": false,
     "grade_id": "cell-20615692105e5303",
     "locked": true,
     "schema_version": 3,
     "solution": false
    }
   },
   "source": [
    "## Problem 4 (10 points)\n",
    "\n",
    "We would like you to implement the methods in the class Complex  that is supposed to represent complex numbers $a + i b$ wherein $a, b$ are double precision and $i$ is the square root of unity.\n",
    "\n",
    "Implement the missing methods below.\n",
    "\n",
    "You should read this blog post about how to convert between numeric types.\n",
    "\n",
    "https://alvinalexander.com/scala/how-to-convert-between-numeric-types-in-scala-int-long-float-double\n"
   ]
  },
  {
   "cell_type": "code",
   "execution_count": 66,
   "metadata": {
    "deletable": false,
    "nbgrader": {
     "cell_type": "code",
     "checksum": "3f0f0f9208c07a279ccdbe2ed80dc13e",
     "grade": false,
     "grade_id": "cell-a410d01fa666b077",
     "locked": false,
     "schema_version": 3,
     "solution": true
    }
   },
   "outputs": [
    {
     "data": {
      "text/plain": [
       "\u001b[32mimport \u001b[39m\u001b[36mscala.math.sqrt\n",
       "\u001b[39m\n",
       "\u001b[32mimport \u001b[39m\u001b[36mscala.math.pow\n",
       "\u001b[39m\n",
       "defined \u001b[32mclass\u001b[39m \u001b[36mComplex\u001b[39m"
      ]
     },
     "execution_count": 66,
     "metadata": {},
     "output_type": "execute_result"
    }
   ],
   "source": [
    "import scala.math.sqrt\n",
    "import scala.math.pow\n",
    "class Complex(val real: Double, val im:Double) {\n",
    "    // Implement a pretty printer\n",
    "    override def toString(): String = {\n",
    "        s\"$real + i $im\"\n",
    "    }\n",
    "    \n",
    "    \n",
    "    /* The modulus of a complex number is given by sqrt(real*real + im * im) */\n",
    "    def modulus(): Double = {\n",
    "        return sqrt((real*real) + (im*im));\n",
    "    }\n",
    "    \n",
    "    \n",
    "    /* The sum of two complex numbers, we are overriding the + operator here.\n",
    "       How to add complex numbers? (a+ib) + (c+id)  = (a+c) + i (b+d)\n",
    "    */\n",
    "    def + (r: Complex) : Complex = {\n",
    "        // just try to create a new complex number and return that new object? \n",
    "        val addedComplex = new Complex((this.real + r.real),(this.im + r.im));\n",
    "        return addedComplex;\n",
    "    }\n",
    "    \n",
    "    /* The difference between two  complex numbers.\n",
    "       How to subtract complex numbers? (a+ib) - (c+id)  = (a-c) + i (b-d)\n",
    "    */\n",
    "    def - (r: Complex): Complex = {\n",
    "        val subtractedComplex = new Complex((this.real - r.real), (this.im - r.im)); \n",
    "        return subtractedComplex;\n",
    "    }\n",
    "    \n",
    "    /* Product of complex numbers. \n",
    "                                        real im  real im . rr - ii  +   ri  + ir\n",
    "       How to multiply complex numbers? (a+ ib)* (c+id) = (ac - bd) + i (ad + bc)\n",
    "    */\n",
    "    def * (r: Complex): Complex = {\n",
    "        val multipliedComplex = new Complex((this.real*r.real)-(this.im*r.im),((this.real*r.im)+(this.im*r.real)));\n",
    "        return multipliedComplex;\n",
    "    }\n",
    "    \n",
    "    /* Given a complex number (a + ib) its inverse is defined as\n",
    "      1/(a^2 + b^2) * ( a - ib), \n",
    "       provided a != 0 or b != 0. \n",
    "       Do not worry about error handling for now. \n",
    "    */\n",
    "    \n",
    "    def inverse() : Complex = {    \n",
    "        \n",
    "        val InverseReal = (this.real/(math.pow(this.real,2) + math.pow(this.im,2)));\n",
    "        val InverseImaginary = -(this.im/(math.pow(this.real,2) + (math.pow(this.im,2))))             \n",
    "            \n",
    "        val newComplex = new Complex(InverseReal,InverseImaginary); \n",
    "        return newComplex;\n",
    "    }\n",
    "    \n",
    "    /* Compare two complex numbers for \"approximate\" equality within epsilon.\n",
    "        I.e, (a+ib) approximately equals (c+id) iff  \n",
    "                         -epsilon <= (a -c) <= epsilon and\n",
    "                         -epsilon <= (b-d) <= epsilon.\n",
    "        As a rule, you should avoiding equality comparisons of floating point numbers: \n",
    "        find out why! \n",
    "    */\n",
    "    \n",
    "    def complexApproxEquals(r: Complex, epsilon: Double = 0.01): Boolean = {\n",
    "        (r.real - epsilon <= real && real  <= r.real + epsilon) && \n",
    "        (r.im - epsilon <= im && im <= r.im + epsilon)\n",
    "    }\n",
    "    \n",
    "    // Ignore this method for now -- it will be clearer soon\n",
    "    override def equals(r: Any): Boolean = r match {\n",
    "        case r: Complex => this.complexApproxEquals(r, 0.01) \n",
    "        case _ => false\n",
    "    }\n",
    "    // END Ignore   \n",
    "}"
   ]
  },
  {
   "cell_type": "code",
   "execution_count": 67,
   "metadata": {
    "deletable": false,
    "editable": false,
    "nbgrader": {
     "cell_type": "code",
     "checksum": "d2761060e6d677632177520ecbdb3428",
     "grade": true,
     "grade_id": "cell-1e343fa83dc6232e",
     "locked": true,
     "points": 3,
     "schema_version": 3,
     "solution": false,
     "task": false
    }
   },
   "outputs": [
    {
     "name": "stdout",
     "output_type": "stream",
     "text": [
      "Test modulus-test-1 Passed!\n",
      "Test modulus-test-2 Passed!\n",
      "\n",
      "*** Tests Passed (3 points) ***\n"
     ]
    },
    {
     "data": {
      "text/plain": [
       "\u001b[36mc1\u001b[39m: \u001b[32mComplex\u001b[39m = 1.0 + i 1.0\n",
       "\u001b[36mc1mod\u001b[39m: \u001b[32mDouble\u001b[39m = \u001b[32m1.4142135623730951\u001b[39m\n",
       "\u001b[36mc2\u001b[39m: \u001b[32mComplex\u001b[39m = 3.0 + i 4.0\n",
       "\u001b[36mc2mod\u001b[39m: \u001b[32mDouble\u001b[39m = \u001b[32m5.0\u001b[39m"
      ]
     },
     "execution_count": 67,
     "metadata": {},
     "output_type": "execute_result"
    }
   ],
   "source": [
    "//BEGIN TEST\n",
    "/* Test modulus */\n",
    "\n",
    "val c1 = new Complex(1,1)\n",
    "val c1mod = c1.modulus()\n",
    "testWithMessage(math.sqrt(1.999) <= c1mod && c1mod <= math.sqrt(2.001), \"modulus-test-1\")\n",
    "val c2 = new Complex(3, 4)\n",
    "val c2mod = c2.modulus()\n",
    "testWithMessage(4.99 <= c2mod && c2mod  <= 5.01, \"modulus-test-2\" )\n",
    "passed(3)\n",
    "//END TEST"
   ]
  },
  {
   "cell_type": "code",
   "execution_count": 68,
   "metadata": {
    "deletable": false,
    "editable": false,
    "nbgrader": {
     "cell_type": "code",
     "checksum": "96ade6d9a1740f446b27835184f626a5",
     "grade": true,
     "grade_id": "cell-405e5cef64a02f3a",
     "locked": true,
     "points": 3,
     "schema_version": 3,
     "solution": false,
     "task": false
    }
   },
   "outputs": [
    {
     "name": "stdout",
     "output_type": "stream",
     "text": [
      "Test addition-1 Passed!\n",
      "Test subtraction-1 Passed!\n",
      "Test addition-2 Passed!\n",
      "Test subtraction-2 Passed!\n",
      "\n",
      "*** Tests Passed (3 points) ***\n"
     ]
    },
    {
     "data": {
      "text/plain": [
       "\u001b[36mc1\u001b[39m: \u001b[32mComplex\u001b[39m = 1.0 + i 1.0\n",
       "\u001b[36mc2\u001b[39m: \u001b[32mComplex\u001b[39m = 1.0 + i 2.0\n",
       "\u001b[36mc3\u001b[39m: \u001b[32mComplex\u001b[39m = 2.0 + i 3.0\n",
       "\u001b[36mc4\u001b[39m: \u001b[32mComplex\u001b[39m = 2.0 + i 3.0\n",
       "\u001b[36mc5\u001b[39m: \u001b[32mComplex\u001b[39m = -1.0 + i -1.0\n",
       "\u001b[36mc6\u001b[39m: \u001b[32mComplex\u001b[39m = 3.0 + i 4.0\n",
       "\u001b[36mc7\u001b[39m: \u001b[32mComplex\u001b[39m = 0.0 + i -1.0\n",
       "defined \u001b[32mfunction\u001b[39m \u001b[36mapproxEq\u001b[39m"
      ]
     },
     "execution_count": 68,
     "metadata": {},
     "output_type": "execute_result"
    }
   ],
   "source": [
    "//BEGIN TEST\n",
    "/* Test Addition and Subtraction */\n",
    "val c1 = new Complex(1,1)\n",
    "val c2 = new Complex(1,2)\n",
    "val c3 = new Complex(2,3)\n",
    "\n",
    "val c4 = c1 + c2\n",
    "val c5 = c2 - c3\n",
    "val c6 = c1 + c3\n",
    "val c7 = c1 - c2\n",
    "\n",
    "\n",
    "def approxEq(c: Complex, r1: Double, r2: Double) = {\n",
    "    c.real <= r1 + 0.001 && c.real >= r1 - 0.001 &&\n",
    "    c.im >= r2 - 0.001 && c.im <= r2 +0.001\n",
    "}\n",
    "testWithMessage(approxEq(c4, 2.0, 3.0), \"addition-1\")\n",
    "testWithMessage(approxEq(c5, -1.0, -1.0), \"subtraction-1\")\n",
    "testWithMessage(approxEq(c6, 3.0, 4.0), \"addition-2\")\n",
    "testWithMessage(approxEq(c7, 0.0, -1.0), \"subtraction-2\")\n",
    "passed(3)\n",
    "//END TEST"
   ]
  },
  {
   "cell_type": "code",
   "execution_count": 69,
   "metadata": {
    "deletable": false,
    "editable": false,
    "nbgrader": {
     "cell_type": "code",
     "checksum": "5f5d31c76a2db8366eda31c15c4dfc24",
     "grade": true,
     "grade_id": "cell-d8bb7ad100847752",
     "locked": true,
     "points": 2,
     "schema_version": 3,
     "solution": false,
     "task": false
    }
   },
   "outputs": [
    {
     "name": "stdout",
     "output_type": "stream",
     "text": [
      "Test multiplication-1 Passed!\n",
      "Test multiplication-2 Passed!\n",
      "Test arithmetic-1 Passed!\n",
      "\n",
      "*** Tests Passed (2 points) ***\n"
     ]
    },
    {
     "data": {
      "text/plain": [
       "\u001b[36mc1\u001b[39m: \u001b[32mComplex\u001b[39m = 1.0 + i 1.0\n",
       "\u001b[36mc2\u001b[39m: \u001b[32mComplex\u001b[39m = 1.0 + i 2.0\n",
       "\u001b[36mc3\u001b[39m: \u001b[32mComplex\u001b[39m = 2.0 + i 3.0\n",
       "\u001b[36mc8\u001b[39m: \u001b[32mComplex\u001b[39m = -1.0 + i 3.0\n",
       "\u001b[36mc9\u001b[39m: \u001b[32mComplex\u001b[39m = -1.0 + i 5.0\n",
       "\u001b[36mc10\u001b[39m: \u001b[32mComplex\u001b[39m = 2.0 + i -2.0\n",
       "defined \u001b[32mfunction\u001b[39m \u001b[36mapproxEq\u001b[39m"
      ]
     },
     "execution_count": 69,
     "metadata": {},
     "output_type": "execute_result"
    }
   ],
   "source": [
    "//BEGIN TEST\n",
    "val c1 = new Complex(1,1)\n",
    "val c2 = new Complex(1,2)\n",
    "val c3 = new Complex(2,3)\n",
    "\n",
    "val c8 = c1 * c2\n",
    "val c9 = c1 * c3\n",
    "val c10 = c1 - c2 * c3 + c2*c2\n",
    "\n",
    "def approxEq(c: Complex, r1: Double, r2: Double) = {\n",
    "    c.real <= r1 + 0.001 && c.real >= r1 - 0.001 &&\n",
    "    c.im >= r2 - 0.001 && c.im <= r2 +0.001\n",
    "}\n",
    "testWithMessage(approxEq(c8, -1.0, 3.0), \"multiplication-1\")\n",
    "testWithMessage(approxEq(c9, -1.0, 5.0), \"multiplication-2\")\n",
    "testWithMessage(approxEq(c10, 2.0, -2.0), \"arithmetic-1\")\n",
    "passed(2)\n",
    "//END TEST"
   ]
  },
  {
   "cell_type": "code",
   "execution_count": 70,
   "metadata": {
    "deletable": false,
    "editable": false,
    "nbgrader": {
     "cell_type": "code",
     "checksum": "60131102215169226fc5f5fd026ed690",
     "grade": true,
     "grade_id": "cell-4c586ade24b753a2",
     "locked": true,
     "points": 2,
     "schema_version": 3,
     "solution": false,
     "task": false
    }
   },
   "outputs": [
    {
     "name": "stdout",
     "output_type": "stream",
     "text": [
      "Test c1-inverse-test Passed!\n",
      "Test c2-inverse-test Passed!\n",
      "Test c3-inverse-test Passed!\n",
      "\n",
      "*** Tests Passed (2 points) ***\n"
     ]
    },
    {
     "data": {
      "text/plain": [
       "\u001b[36mc1\u001b[39m: \u001b[32mComplex\u001b[39m = 1.0 + i 1.0\n",
       "\u001b[36mc2\u001b[39m: \u001b[32mComplex\u001b[39m = 1.0 + i 2.0\n",
       "\u001b[36mc3\u001b[39m: \u001b[32mComplex\u001b[39m = 2.0 + i 3.0\n",
       "\u001b[36mc9\u001b[39m: \u001b[32mComplex\u001b[39m = 0.5 + i -0.5\n",
       "\u001b[36mc10\u001b[39m: \u001b[32mComplex\u001b[39m = 0.2 + i -0.4\n",
       "\u001b[36mc11\u001b[39m: \u001b[32mComplex\u001b[39m = 0.15384615384615385 + i -0.23076923076923078\n",
       "\u001b[36mc9_expected\u001b[39m: \u001b[32mComplex\u001b[39m = 0.5 + i -0.5\n",
       "\u001b[36mc10_expected\u001b[39m: \u001b[32mComplex\u001b[39m = 0.2 + i -0.4\n",
       "\u001b[36mc11_expected\u001b[39m: \u001b[32mComplex\u001b[39m = 0.15385 + i -0.23077"
      ]
     },
     "execution_count": 70,
     "metadata": {},
     "output_type": "execute_result"
    }
   ],
   "source": [
    "//BEGIN TEST\n",
    "// Test inverse\n",
    "val c1 = new Complex(1,1)\n",
    "val c2 = new Complex(1,2)\n",
    "val c3 = new Complex(2,3)\n",
    "val c9 = c1.inverse()\n",
    "val c10 = c2.inverse()\n",
    "val c11 = c3.inverse()\n",
    "\n",
    "val c9_expected = new Complex(0.5,-0.5)\n",
    "val c10_expected = new Complex(0.2,-0.4)\n",
    "val c11_expected = new Complex(0.15385, -0.23077)\n",
    "\n",
    "testWithMessage(c9 == c9_expected , \"c1-inverse-test\")\n",
    "testWithMessage(c10 == c10_expected , \"c2-inverse-test\")\n",
    "testWithMessage(c11 == c11_expected , \"c3-inverse-test\")\n",
    "passed(2)\n",
    "//END TEST"
   ]
  },
  {
   "cell_type": "markdown",
   "metadata": {
    "deletable": false,
    "editable": false,
    "nbgrader": {
     "cell_type": "markdown",
     "checksum": "99bf7005017de023e3a1152bd7686ed1",
     "grade": false,
     "grade_id": "cell-761a25949cefd7ae",
     "locked": true,
     "schema_version": 3,
     "solution": false,
     "task": false
    }
   },
   "source": [
    "## Problem 5 (20 points)\n",
    "\n",
    "Newton invented the Newton-Raphson method for solving an equation. We are going to ask you to write some code to solve equations.\n",
    "\n",
    "To find roots of an equation of the form\n",
    "\n",
    "$$ x^2 - 3x + 2 = 0$$\n",
    "\n",
    "we start from an initial guess at the solution: say $x_0 = 4.5$\n",
    "Each time we have the $i^{th}$ guess $x_i$, we update it as\n",
    "\n",
    "$$ x_{i+1} = x_i - \\frac{f(x_i)}{f'(x_i)}, $$\n",
    "\n",
    "where $f'(x) = \\frac{df(x)}{dx}$.\n",
    "\n",
    "For our equation, $f(x) = x^2 - 3x +2$ and $f'(x) = 2 x - 3$. Thus, our update equation is \n",
    "$$ x_{i+1} = x_i - \\frac{x_i^2 - 3 x_i + 2}{2 x_i - 3}$$.\n",
    "\n",
    "We stop whenever $|f(x_i)| \\leq 10^{-8}$: i.e, we are very close to a root of the function. Gory details are here for the curious ones: http://www.math.ubc.ca/~anstee/math104/newtonmethod.pdf\n",
    "\n",
    "__(A, 5 points)__ Write a scala function `calculateRoot(x0: Double)` that takes in the initial guess $x_0$ as input and calculates the root for the polynomial $x^2 - 3 x + 2$. Your code should use a While loop.\n",
    "\n",
    "Caution: To calculate $x^2$, you should use `math.pow(x,2)` or `x*x` in Scala. `x^2` does not work in scala since `^` operator actually does XOR."
   ]
  },
  {
   "cell_type": "code",
   "execution_count": 71,
   "metadata": {
    "deletable": false,
    "nbgrader": {
     "cell_type": "code",
     "checksum": "555c7f58023c43560891a4147b9504b9",
     "grade": false,
     "grade_id": "cell-2dd21341b51d86ad",
     "locked": false,
     "schema_version": 3,
     "solution": true
    }
   },
   "outputs": [
    {
     "data": {
      "text/plain": [
       "defined \u001b[32mfunction\u001b[39m \u001b[36mcalculateRoot\u001b[39m"
      ]
     },
     "execution_count": 71,
     "metadata": {},
     "output_type": "execute_result"
    }
   ],
   "source": [
    "def calculateRoot(x0: Double): Double = { \n",
    "    def f(x: Double) = { math.pow(x,2) - 3 * x + 2.0 }\n",
    "    def df(x: Double) = { 2* x - 3}\n",
    "    // Your code here: use f(x) and df(x) provided already.\n",
    "    var initial = x0; \n",
    "    while((f(initial)).abs > math.pow(10,-8)){\n",
    "        initial = initial - (f(initial)/df(initial))\n",
    "    }\n",
    "    return initial;\n",
    "}"
   ]
  },
  {
   "cell_type": "code",
   "execution_count": 72,
   "metadata": {
    "deletable": false,
    "editable": false,
    "nbgrader": {
     "cell_type": "code",
     "checksum": "ed975918c2fd4c08534421f19f64eb41",
     "grade": true,
     "grade_id": "cell-2e7493c157d154dc",
     "locked": true,
     "points": 5,
     "schema_version": 3,
     "solution": false
    }
   },
   "outputs": [
    {
     "name": "stdout",
     "output_type": "stream",
     "text": [
      "Test 1 Passed!\n",
      "Test 2 Passed!\n",
      "Test 3 Passed!\n",
      "Test 4 Passed!\n",
      "Test 5 Passed!\n",
      "\n",
      "*** Tests Passed (5 points) ***\n"
     ]
    },
    {
     "data": {
      "text/plain": [
       "defined \u001b[32mfunction\u001b[39m \u001b[36misRootCorrect\u001b[39m"
      ]
     },
     "execution_count": 72,
     "metadata": {},
     "output_type": "execute_result"
    }
   ],
   "source": [
    "//BEGIN TEST\n",
    "def isRootCorrect(x: Double): Boolean = {\n",
    "    def f(x: Double) = { math.pow(x,2) - 3 * x + 2.0 }\n",
    "    val y = calculateRoot(x)\n",
    "    math.abs(f(y)) <= 1e-08\n",
    "}\n",
    "\n",
    "testWithMessage(isRootCorrect(3.5), \"1\")\n",
    "testWithMessage(isRootCorrect(4.6), \"2\")\n",
    "testWithMessage(isRootCorrect(-3), \"3\")\n",
    "testWithMessage(isRootCorrect(-3.5), \"4\")\n",
    "testWithMessage(isRootCorrect(1.3), \"5\")\n",
    "passed(5)\n",
    "//END TEST"
   ]
  },
  {
   "cell_type": "markdown",
   "metadata": {
    "deletable": false,
    "editable": false,
    "nbgrader": {
     "cell_type": "markdown",
     "checksum": "ad626aac85233a7463c830ba16f14775",
     "grade": false,
     "grade_id": "cell-05773f195e62f092",
     "locked": true,
     "schema_version": 3,
     "solution": false
    }
   },
   "source": [
    "__(B, 5 points)__ Implement the function `calculateRootRec` that uses a recursion instead of a while loop to compute the root. You should __not__ use a mutable `var` in your code. "
   ]
  },
  {
   "cell_type": "code",
   "execution_count": 81,
   "metadata": {
    "deletable": false,
    "nbgrader": {
     "cell_type": "code",
     "checksum": "3230b9120eaf4601698b754b746faac2",
     "grade": false,
     "grade_id": "cell-57d2ad2f5ba44329",
     "locked": false,
     "schema_version": 3,
     "solution": true
    }
   },
   "outputs": [
    {
     "data": {
      "text/plain": [
       "defined \u001b[32mfunction\u001b[39m \u001b[36mf\u001b[39m\n",
       "defined \u001b[32mfunction\u001b[39m \u001b[36mdf\u001b[39m\n",
       "defined \u001b[32mfunction\u001b[39m \u001b[36mcalculateRootRec\u001b[39m"
      ]
     },
     "execution_count": 81,
     "metadata": {},
     "output_type": "execute_result"
    }
   ],
   "source": [
    "/*       Turn this into a recurisve function \n",
    "def calculateRootRec(x0: Double): Double = { \n",
    "    def f(x: Double) = { math.pow(x,2) - 3 * x + 2.0 }\n",
    "    def df(x: Double) = { 2* x - 3}\n",
    "    // Your code here: use f(x) and df(x) provided already.\n",
    "    var initial = x0; \n",
    "    while((f(initial)).abs > math.pow(10,-8)){\n",
    "        initial = initial - (f(initial)/df(initial))\n",
    "    }\n",
    "    return initial;\n",
    "}\n",
    "*/\n",
    "def f(x: Double) = { math.pow(x,2) - 3 * x + 2.0 };\n",
    "def df(x: Double) = { 2* x - 3};\n",
    "\n",
    "def calculateRootRec(x: Double): Double = {\n",
    "    \n",
    "    if (f(x).abs <= math.pow(10,-8)){\n",
    "        return x;\n",
    "    }\n",
    "    \n",
    "    else{\n",
    "        val nextVal = x - (f(x)/df(x)); \n",
    "        calculateRootRec(nextVal); \n",
    "    }\n",
    "    \n",
    "}\n"
   ]
  },
  {
   "cell_type": "code",
   "execution_count": 82,
   "metadata": {
    "deletable": false,
    "editable": false,
    "nbgrader": {
     "cell_type": "code",
     "checksum": "2882111150d050bb5261fc43c20bb8f3",
     "grade": true,
     "grade_id": "cell-49bff1b838e3e910",
     "locked": true,
     "points": 5,
     "schema_version": 3,
     "solution": false
    }
   },
   "outputs": [
    {
     "name": "stdout",
     "output_type": "stream",
     "text": [
      "Test 1 Passed!\n",
      "Test 2 Passed!\n",
      "Test 3 Passed!\n",
      "Test 4 Passed!\n",
      "Test 5 Passed!\n",
      "\n",
      "*** Tests Passed (5 points) ***\n"
     ]
    },
    {
     "data": {
      "text/plain": [
       "defined \u001b[32mfunction\u001b[39m \u001b[36misRootCorrectRec\u001b[39m"
      ]
     },
     "execution_count": 82,
     "metadata": {},
     "output_type": "execute_result"
    }
   ],
   "source": [
    "//BEGIN TEST\n",
    "def isRootCorrectRec(x: Double): Boolean = {\n",
    "    val y = calculateRootRec(x)\n",
    "    (math.abs(y - 2.0) <= 1e-06) || (math.abs(y - 1.0) <= 1e-06)\n",
    "}\n",
    "\n",
    "testWithMessage(isRootCorrectRec(3.5), \"1\")\n",
    "testWithMessage(isRootCorrectRec(4.6), \"2\")\n",
    "testWithMessage(isRootCorrectRec(-3), \"3\")\n",
    "testWithMessage(isRootCorrectRec(-3.5), \"4\")\n",
    "testWithMessage(isRootCorrectRec(1.3), \"5\")\n",
    "passed(5)\n",
    "//END TEST"
   ]
  },
  {
   "cell_type": "markdown",
   "metadata": {
    "deletable": false,
    "editable": false,
    "nbgrader": {
     "cell_type": "markdown",
     "checksum": "c8c3d3a867e523b11c01d6f3dd4fd831",
     "grade": false,
     "grade_id": "cell-4228b908a740e278",
     "locked": true,
     "schema_version": 3,
     "solution": false
    }
   },
   "source": [
    "__(C, 10 points)__ Write a generalized Newton-Raphson function `solveEquationNewtonRaphson` to solve any \n",
    "equation $f(x) = 0$ wherein the functions $f$ and $f'(x)$ are given as inputs. Do not use while loops or mutable `var` in your code.\n",
    "\n"
   ]
  },
  {
   "cell_type": "code",
   "execution_count": 75,
   "metadata": {
    "deletable": false,
    "nbgrader": {
     "cell_type": "code",
     "checksum": "18f26b2057c7c644c6c485946f6c5764",
     "grade": false,
     "grade_id": "cell-d053a7e0f075bd32",
     "locked": false,
     "schema_version": 3,
     "solution": true
    }
   },
   "outputs": [
    {
     "data": {
      "text/plain": [
       "defined \u001b[32mfunction\u001b[39m \u001b[36msolveEquationNewtonRaphson\u001b[39m"
      ]
     },
     "execution_count": 75,
     "metadata": {},
     "output_type": "execute_result"
    }
   ],
   "source": [
    "def solveEquationNewtonRaphson(x: Double, f: Double => Double, df: Double => Double): Double = {\n",
    "   if (f(x).abs <= math.pow(10,-8)){\n",
    "       return x;\n",
    "   }\n",
    "    else{\n",
    "        val nextVal = x - (f(x)/df(x));\n",
    "        solveEquationNewtonRaphson(nextVal,f,df);\n",
    "    }\n",
    "}"
   ]
  },
  {
   "cell_type": "code",
   "execution_count": 76,
   "metadata": {
    "deletable": false,
    "editable": false,
    "nbgrader": {
     "cell_type": "code",
     "checksum": "0f0d9117737f242c7fe54ab373e12bbf",
     "grade": true,
     "grade_id": "cell-4a86f811b0471af9",
     "locked": true,
     "points": 2,
     "schema_version": 3,
     "solution": false
    }
   },
   "outputs": [
    {
     "name": "stdout",
     "output_type": "stream",
     "text": [
      "Test 1 Passed!\n",
      "\n",
      "*** Tests Passed (2 points) ***\n"
     ]
    },
    {
     "data": {
      "text/plain": [
       "defined \u001b[32mfunction\u001b[39m \u001b[36mf1\u001b[39m\n",
       "defined \u001b[32mfunction\u001b[39m \u001b[36mdf1\u001b[39m\n",
       "\u001b[36mx1\u001b[39m: \u001b[32mDouble\u001b[39m = \u001b[32m1.000000000001152\u001b[39m"
      ]
     },
     "execution_count": 76,
     "metadata": {},
     "output_type": "execute_result"
    }
   ],
   "source": [
    "// Test Cases\n",
    "def f1(x: Double) = 2.0 * math.pow(x,3) - math.pow(x, 2) - 1.0\n",
    "def df1(x: Double) = 6.0 * math.pow(x, 2) - 2 * x \n",
    "val x1 = solveEquationNewtonRaphson(3.0, f1, df1)\n",
    "testWithMessage(math.abs(f1(x1)) <= 1e-06, \"1\")\n",
    "passed(2)"
   ]
  },
  {
   "cell_type": "code",
   "execution_count": 77,
   "metadata": {
    "deletable": false,
    "editable": false,
    "nbgrader": {
     "cell_type": "code",
     "checksum": "031ebb45788c832e63ac92ae3cd6dcde",
     "grade": true,
     "grade_id": "cell-dd5de96626a8f24c",
     "locked": true,
     "points": 2,
     "schema_version": 3,
     "solution": false
    }
   },
   "outputs": [
    {
     "name": "stdout",
     "output_type": "stream",
     "text": [
      "Test 2 Passed!\n",
      "\n",
      "*** Tests Passed (2 points) ***\n"
     ]
    },
    {
     "data": {
      "text/plain": [
       "defined \u001b[32mfunction\u001b[39m \u001b[36mf2\u001b[39m\n",
       "defined \u001b[32mfunction\u001b[39m \u001b[36mdf2\u001b[39m\n",
       "\u001b[36mx2\u001b[39m: \u001b[32mDouble\u001b[39m = \u001b[32m8.537195744177245E-13\u001b[39m"
      ]
     },
     "execution_count": 77,
     "metadata": {},
     "output_type": "execute_result"
    }
   ],
   "source": [
    "def f2(x: Double) = math.sin(x) - 0.5 * x \n",
    "def df2(x: Double) = math.cos(x) - 0.5\n",
    "val x2 = solveEquationNewtonRaphson(0.7, f2, df2)\n",
    "testWithMessage(math.abs(f2(x2)) <= 1e-06, \"2\")\n",
    "passed(2)"
   ]
  },
  {
   "cell_type": "code",
   "execution_count": 78,
   "metadata": {
    "deletable": false,
    "editable": false,
    "nbgrader": {
     "cell_type": "code",
     "checksum": "f3c6fd2c902c2c8d855054787921d10c",
     "grade": true,
     "grade_id": "cell-24787c8854b20def",
     "locked": true,
     "points": 2,
     "schema_version": 3,
     "solution": false
    }
   },
   "outputs": [
    {
     "name": "stdout",
     "output_type": "stream",
     "text": [
      "Test 3 Passed!\n",
      "\n",
      "*** Tests Passed (2 points) ***\n"
     ]
    },
    {
     "data": {
      "text/plain": [
       "defined \u001b[32mfunction\u001b[39m \u001b[36mf3\u001b[39m\n",
       "defined \u001b[32mfunction\u001b[39m \u001b[36mdf3\u001b[39m\n",
       "\u001b[36mx3\u001b[39m: \u001b[32mDouble\u001b[39m = \u001b[32m7.389056098804318\u001b[39m"
      ]
     },
     "execution_count": 78,
     "metadata": {},
     "output_type": "execute_result"
    }
   ],
   "source": [
    "def f3(x: Double) = math.log(x) - 2 \n",
    "def df3(x: Double) = 1/x \n",
    "val x3 = solveEquationNewtonRaphson(2.0, f3, df3)\n",
    "testWithMessage(math.abs(f3(x3)) <= 1e-06, \"3\")\n",
    "passed(2)"
   ]
  },
  {
   "cell_type": "code",
   "execution_count": 79,
   "metadata": {
    "deletable": false,
    "editable": false,
    "nbgrader": {
     "cell_type": "code",
     "checksum": "068286c1ed516f88e5ab9bcd030c4620",
     "grade": true,
     "grade_id": "cell-08b0bc89a3d1d886",
     "locked": true,
     "points": 2,
     "schema_version": 3,
     "solution": false
    }
   },
   "outputs": [
    {
     "name": "stdout",
     "output_type": "stream",
     "text": [
      "Test 4 Passed!\n",
      "\n",
      "*** Tests Passed (2 points) ***\n"
     ]
    },
    {
     "data": {
      "text/plain": [
       "defined \u001b[32mfunction\u001b[39m \u001b[36mf4\u001b[39m\n",
       "defined \u001b[32mfunction\u001b[39m \u001b[36mdf4\u001b[39m\n",
       "\u001b[36mx4\u001b[39m: \u001b[32mDouble\u001b[39m = \u001b[32m1.5574077246540006\u001b[39m"
      ]
     },
     "execution_count": 79,
     "metadata": {},
     "output_type": "execute_result"
    }
   ],
   "source": [
    "def f4(x: Double) = math.atan(x) - 1\n",
    "def df4(x: Double) = 1.0/(1.0 + x*x)\n",
    "val x4 = solveEquationNewtonRaphson(3.0, f4, df4)\n",
    "testWithMessage(math.abs(f4(x4)) <= 1e-06, \"4\")\n",
    "passed(2)"
   ]
  },
  {
   "cell_type": "code",
   "execution_count": 80,
   "metadata": {
    "deletable": false,
    "editable": false,
    "nbgrader": {
     "cell_type": "code",
     "checksum": "89ade048c769e1934e6b1cfa14827ede",
     "grade": true,
     "grade_id": "cell-e858482df5178f7d",
     "locked": true,
     "points": 2,
     "schema_version": 3,
     "solution": false
    }
   },
   "outputs": [
    {
     "name": "stdout",
     "output_type": "stream",
     "text": [
      "Test 5 Passed!\n",
      "\n",
      "*** Tests Passed (2 points) ***\n"
     ]
    },
    {
     "data": {
      "text/plain": [
       "defined \u001b[32mfunction\u001b[39m \u001b[36mf5\u001b[39m\n",
       "defined \u001b[32mfunction\u001b[39m \u001b[36mdf5\u001b[39m\n",
       "\u001b[36mx5\u001b[39m: \u001b[32mDouble\u001b[39m = \u001b[32m3.1416751165142625\u001b[39m"
      ]
     },
     "execution_count": 80,
     "metadata": {},
     "output_type": "execute_result"
    }
   ],
   "source": [
    "def f5(x: Double) = math.cos(x)* math.cos(x) - 1\n",
    "def df5(x: Double) = -2.0 * math.sin(x) * math.cos(x)\n",
    "val x5 = solveEquationNewtonRaphson(3.5, f5, df5)\n",
    "testWithMessage(math.abs(f5(x5)) <= 1e-06, \"5\")\n",
    "passed(2)"
   ]
  },
  {
   "cell_type": "markdown",
   "metadata": {
    "deletable": false,
    "editable": false,
    "nbgrader": {
     "cell_type": "markdown",
     "checksum": "eb7bf9a1870f59ef5aaf1a4accac77aa",
     "grade": false,
     "grade_id": "cell-9b80689314361884",
     "locked": true,
     "schema_version": 3,
     "solution": false
    }
   },
   "source": [
    "-- That is all for now, folks! -- "
   ]
  }
 ],
 "metadata": {
  "kernelspec": {
   "display_name": "Scala",
   "language": "scala",
   "name": "scala"
  },
  "language_info": {
   "codemirror_mode": "text/x-scala",
   "file_extension": ".scala",
   "mimetype": "text/x-scala",
   "name": "scala",
   "nbconvert_exporter": "script",
   "version": "2.12.10"
  }
 },
 "nbformat": 4,
 "nbformat_minor": 2
}
