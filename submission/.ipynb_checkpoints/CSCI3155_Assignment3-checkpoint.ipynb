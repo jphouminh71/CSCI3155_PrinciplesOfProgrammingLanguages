{
 "cells": [
  {
   "cell_type": "markdown",
   "metadata": {
    "collapsed": true
   },
   "source": [
    "Collaborators: \n",
    "    Zach Chommala\n",
    "    Bao Nguyen\n",
    "    Alex Ho"
   ]
  },
  {
   "cell_type": "markdown",
   "metadata": {
    "deletable": false,
    "editable": false,
    "nbgrader": {
     "cell_type": "markdown",
     "checksum": "ab627712e1367302c90741029d2963fb",
     "grade": false,
     "grade_id": "cell-224ca5a0097f63b5",
     "locked": true,
     "schema_version": 3,
     "solution": false
    }
   },
   "source": [
    "# CSCI 3155: Assignment 3 \n",
    "\n",
    "Topics covered: ASTs, pattern matching, higher order functions."
   ]
  },
  {
   "cell_type": "code",
   "execution_count": 1,
   "metadata": {
    "deletable": false,
    "editable": false,
    "nbgrader": {
     "cell_type": "code",
     "checksum": "7f1326e22a77065e280ecdfc467fd178",
     "grade": false,
     "grade_id": "cell-7e3b987db2733a1c",
     "locked": true,
     "schema_version": 3,
     "solution": false
    }
   },
   "outputs": [
    {
     "data": {
      "text/plain": [
       "defined \u001b[32mfunction\u001b[39m \u001b[36mpassed\u001b[39m"
      ]
     },
     "execution_count": 1,
     "metadata": {},
     "output_type": "execute_result"
    }
   ],
   "source": [
    "// TEST HELPER\n",
    "def passed(points: Int) {\n",
    "    require(points >=0)\n",
    "    if (points == 1) print(s\"\\n*** Tests Passed (1 point) ***\\n\")\n",
    "    else print(s\"\\n*** Tests Passed ($points points) ***\\n\")\n",
    "}"
   ]
  },
  {
   "cell_type": "markdown",
   "metadata": {},
   "source": [
    "__Jonathan Phouminh__"
   ]
  },
  {
   "cell_type": "markdown",
   "metadata": {
    "deletable": false,
    "editable": false,
    "nbgrader": {
     "cell_type": "markdown",
     "checksum": "604cf2a091e2604d7ab20362097a15f8",
     "grade": false,
     "grade_id": "cell-a3d45980c5a3961a",
     "locked": true,
     "schema_version": 3,
     "solution": false
    }
   },
   "source": [
    "## Problem 1 (30 points)\n",
    "\n",
    "### 1A (10 points) \n",
    "\n",
    "This question asks you to implement the following grammar for a very simple programming language in scala.  The programming language allows you to declare variables and assign them values.\n",
    "\n",
    "Example Program:\n",
    "\n",
    "~~~\n",
    "x1 := 10 # create a variable x1 and assign 10 to the variable x1.\n",
    "x2 := 20 + x1 * x1 # create a variable x2 and assign 20 + x1 * x1\n",
    "x3 := x1 + x2 # create a variable x3 and assign x1 + x2\n",
    "x4 := x3 # create a variable x4 and assign x3 to it\n",
    "\n",
    "(x1 + x2 + x3) # Final Return Expression that is the value of the whole program.\n",
    "~~~\n",
    "\n",
    "Please use constructors with the same name as the nonterminals in the grammar.\n",
    "\n",
    "\n",
    "\n",
    "$$\\newcommand\\nt[1]{\\textbf{#1}}$$\n",
    "$$ \\begin{array}{rcl}\n",
    "\\nt{Expr} & \\Rightarrow & Plus(\\nt{Expr}, \\nt{Expr})\\\\\n",
    "&|&  Minus(\\nt{Expr}, \\nt{Expr})\\\\\n",
    "&|& Star(\\nt{Expr}, \\nt{Expr})\\\\\n",
    "&|& Var(\\nt{String}) \\\\\n",
    "&|& Const(\\nt{Double}) \\\\[10pt]\n",
    "\\nt{Statement} & \\Rightarrow & Assignment(\\nt{String}, \\nt{Expr})\\\\[5pt]\n",
    "\\nt{Program} & \\Rightarrow &  CalcProgram( \\nt{Statement}* ,\\  \\nt{Expr})\\\\[5pt]\n",
    "\\end{array}$$\n",
    "\n",
    "\n",
    "Complete the scala definition for the grammar above. Please use scala datatypes for Double and String.\n",
    "Also, please use List(..) whenever Kleene star is used.\n"
   ]
  },
  {
   "cell_type": "code",
   "execution_count": 2,
   "metadata": {
    "deletable": false,
    "nbgrader": {
     "cell_type": "code",
     "checksum": "3776edf03e888aba542f4fb974229d90",
     "grade": false,
     "grade_id": "p1a-ans",
     "locked": false,
     "schema_version": 3,
     "solution": true
    }
   },
   "outputs": [
    {
     "data": {
      "text/plain": [
       "defined \u001b[32mtrait\u001b[39m \u001b[36mExpr\u001b[39m\n",
       "defined \u001b[32mclass\u001b[39m \u001b[36mPlus\u001b[39m\n",
       "defined \u001b[32mclass\u001b[39m \u001b[36mMinus\u001b[39m\n",
       "defined \u001b[32mclass\u001b[39m \u001b[36mStar\u001b[39m\n",
       "defined \u001b[32mclass\u001b[39m \u001b[36mVar\u001b[39m\n",
       "defined \u001b[32mclass\u001b[39m \u001b[36mConst\u001b[39m\n",
       "defined \u001b[32mtrait\u001b[39m \u001b[36mStatement\u001b[39m\n",
       "defined \u001b[32mclass\u001b[39m \u001b[36mAssignment\u001b[39m\n",
       "defined \u001b[32mtrait\u001b[39m \u001b[36mProgram\u001b[39m\n",
       "defined \u001b[32mclass\u001b[39m \u001b[36mCalcProgram\u001b[39m"
      ]
     },
     "execution_count": 2,
     "metadata": {},
     "output_type": "execute_result"
    }
   ],
   "source": [
    "sealed trait Expr\n",
    "case class Plus(e1: Expr, e2: Expr) extends Expr\n",
    "case class Minus(e1: Expr, e2: Expr) extends Expr\n",
    "case class Star(e1: Expr, e2: Expr) extends Expr\n",
    "case class Var(s: String) extends Expr\n",
    "case class Const(d: Double) extends Expr\n",
    "\n",
    "sealed trait Statement\n",
    "case class Assignment(s: String, e: Expr) extends Statement\n",
    "\n",
    "sealed trait Program \n",
    "case class CalcProgram(statments: List[Statement], e: Expr) extends Program "
   ]
  },
  {
   "cell_type": "code",
   "execution_count": 3,
   "metadata": {
    "deletable": false,
    "editable": false,
    "nbgrader": {
     "cell_type": "code",
     "checksum": "216b43092b2fbc7b6317a30d7255feba",
     "grade": true,
     "grade_id": "p1a-test1",
     "locked": true,
     "points": 5,
     "schema_version": 3,
     "solution": false,
     "task": false
    }
   },
   "outputs": [
    {
     "name": "stdout",
     "output_type": "stream",
     "text": [
      "\n",
      "*** Tests Passed (5 points) ***\n"
     ]
    },
    {
     "data": {
      "text/plain": [
       "\u001b[36mv1\u001b[39m: \u001b[32mAssignment\u001b[39m = \u001b[33mAssignment\u001b[39m(\u001b[32m\"x\"\u001b[39m, \u001b[33mConst\u001b[39m(\u001b[32m2.0\u001b[39m))\n",
       "\u001b[36mv2\u001b[39m: \u001b[32mAssignment\u001b[39m = \u001b[33mAssignment\u001b[39m(\u001b[32m\"y\"\u001b[39m, \u001b[33mPlus\u001b[39m(\u001b[33mVar\u001b[39m(\u001b[32m\"x\"\u001b[39m), \u001b[33mConst\u001b[39m(\u001b[32m4.0\u001b[39m)))\n",
       "\u001b[36mv3\u001b[39m: \u001b[32mAssignment\u001b[39m = \u001b[33mAssignment\u001b[39m(\u001b[32m\"z\"\u001b[39m, \u001b[33mVar\u001b[39m(\u001b[32m\"y\"\u001b[39m))"
      ]
     },
     "execution_count": 3,
     "metadata": {},
     "output_type": "execute_result"
    }
   ],
   "source": [
    "//BEGIN TEST\n",
    "val v1 = Assignment(\"x\", Const(2.0))\n",
    "val v2 = Assignment(\"y\", Plus(Var(\"x\"), Const(4.0)))\n",
    "val v3 = Assignment(\"z\", Var(\"y\"))\n",
    "passed(5)\n",
    "//END TEST"
   ]
  },
  {
   "cell_type": "code",
   "execution_count": 4,
   "metadata": {
    "deletable": false,
    "editable": false,
    "nbgrader": {
     "cell_type": "code",
     "checksum": "c79023622c20c942ec7e9d1501dd98bc",
     "grade": true,
     "grade_id": "p1a-t2",
     "locked": true,
     "points": 5,
     "schema_version": 3,
     "solution": false,
     "task": false
    }
   },
   "outputs": [
    {
     "name": "stdout",
     "output_type": "stream",
     "text": [
      "\n",
      "*** Tests Passed (5 points) ***\n"
     ]
    },
    {
     "data": {
      "text/plain": [
       "\u001b[36mv1\u001b[39m: \u001b[32mAssignment\u001b[39m = \u001b[33mAssignment\u001b[39m(\u001b[32m\"x\"\u001b[39m, \u001b[33mConst\u001b[39m(\u001b[32m2.0\u001b[39m))\n",
       "\u001b[36mv2\u001b[39m: \u001b[32mAssignment\u001b[39m = \u001b[33mAssignment\u001b[39m(\u001b[32m\"y\"\u001b[39m, \u001b[33mPlus\u001b[39m(\u001b[33mVar\u001b[39m(\u001b[32m\"x\"\u001b[39m), \u001b[33mConst\u001b[39m(\u001b[32m4.0\u001b[39m)))\n",
       "\u001b[36mv3\u001b[39m: \u001b[32mAssignment\u001b[39m = \u001b[33mAssignment\u001b[39m(\u001b[32m\"z\"\u001b[39m, \u001b[33mVar\u001b[39m(\u001b[32m\"y\"\u001b[39m))\n",
       "\u001b[36mp1\u001b[39m: \u001b[32mCalcProgram\u001b[39m = \u001b[33mCalcProgram\u001b[39m(\n",
       "  \u001b[33mList\u001b[39m(\n",
       "    \u001b[33mAssignment\u001b[39m(\u001b[32m\"x\"\u001b[39m, \u001b[33mConst\u001b[39m(\u001b[32m2.0\u001b[39m)),\n",
       "    \u001b[33mAssignment\u001b[39m(\u001b[32m\"y\"\u001b[39m, \u001b[33mPlus\u001b[39m(\u001b[33mVar\u001b[39m(\u001b[32m\"x\"\u001b[39m), \u001b[33mConst\u001b[39m(\u001b[32m4.0\u001b[39m))),\n",
       "    \u001b[33mAssignment\u001b[39m(\u001b[32m\"z\"\u001b[39m, \u001b[33mVar\u001b[39m(\u001b[32m\"y\"\u001b[39m))\n",
       "  ),\n",
       "  \u001b[33mVar\u001b[39m(\u001b[32m\"z\"\u001b[39m)\n",
       ")\n",
       "\u001b[36mp2\u001b[39m: \u001b[32mCalcProgram\u001b[39m = \u001b[33mCalcProgram\u001b[39m(\u001b[33mList\u001b[39m(), \u001b[33mVar\u001b[39m(\u001b[32m\"y\"\u001b[39m))"
      ]
     },
     "execution_count": 4,
     "metadata": {},
     "output_type": "execute_result"
    }
   ],
   "source": [
    "//BEGIN TEST\n",
    "val v1 = Assignment(\"x\", Const(2.0))\n",
    "val v2 = Assignment(\"y\", Plus(Var(\"x\"), Const(4.0)))\n",
    "val v3 = Assignment(\"z\", Var(\"y\"))\n",
    "val p1 = CalcProgram(List(v1, v2, v3), Var(\"z\"))\n",
    "val p2 = CalcProgram(List(), Var(\"y\"))\n",
    "\n",
    "passed(5)\n",
    "//END TEST"
   ]
  },
  {
   "cell_type": "markdown",
   "metadata": {
    "deletable": false,
    "editable": false,
    "nbgrader": {
     "cell_type": "markdown",
     "checksum": "8bfb650b3b5fa603cb2380357b4895e1",
     "grade": false,
     "grade_id": "cell-c6c47f6f70088d55",
     "locked": true,
     "schema_version": 3,
     "solution": false,
     "task": false
    }
   },
   "source": [
    "### Part 1B (10 points)\n",
    "\n",
    "In class we saw how to evaluate an expression given a map from identifiers to their values. \n",
    "\n",
    "~~~\n",
    "def evalExpr(e: Expr, env: Map[String, Double]): Double = ...\n",
    "~~~\n",
    "\n",
    "In this assignment,  you are asked to handle assignment statement. The idea here is that the\n",
    "assignment statement takes an environment and modifies it.\n",
    "\n",
    "~~~\n",
    "def evalStatement(s: Statement, env: Map[String, Double]): Map[String, Double] = ...\n",
    "~~~\n",
    "\n",
    "As an example consider the map  env\n",
    "\n",
    "~~~\n",
    "Map(\"x\" -> 20, \"y\" -> 35)\n",
    "~~~\n",
    "\n",
    "The assignment statement z := x + y\n",
    "\n",
    "~~~\n",
    "Assignment(\"z\", Plus(Var(\"x\"), Var(\"y\")))\n",
    "~~~\n",
    "\n",
    "Should return a map \n",
    "\n",
    "~~~\n",
    "Map(\"x\"-> 20, \"y\" -> 35, \"z\" -> 55)\n",
    "~~~\n",
    "\n",
    "The strategy should be as follows: (a) evaluate the expression in the RHS of the assignment statement, \n",
    "(b) add the entry that maps the declared variable to the new value and (c) return this map.\n",
    "\n",
    "https://docs.scala-lang.org/overviews/collections-2.13/maps.html\n",
    "\n"
   ]
  },
  {
   "cell_type": "code",
   "execution_count": 5,
   "metadata": {
    "deletable": false,
    "nbgrader": {
     "cell_type": "code",
     "checksum": "fae3912b4049e721fce0a379db56330f",
     "grade": false,
     "grade_id": "p1b-ans",
     "locked": false,
     "schema_version": 3,
     "solution": true,
     "task": false
    }
   },
   "outputs": [
    {
     "data": {
      "text/plain": [
       "defined \u001b[32mfunction\u001b[39m \u001b[36mevalExpr\u001b[39m\n",
       "defined \u001b[32mfunction\u001b[39m \u001b[36mevalStatement\u001b[39m"
      ]
     },
     "execution_count": 5,
     "metadata": {},
     "output_type": "execute_result"
    }
   ],
   "source": [
    "def evalExpr(e: Expr, env: Map[String, Double]): Double = {\n",
    "    def binFun(e1: Expr, e2: Expr, op: (Double, Double) => Double): Double = {\n",
    "        val v1 = evalExpr(e1, env)\n",
    "        val v2 = evalExpr(e2, env)\n",
    "        op(v1, v2)\n",
    "    }\n",
    "    \n",
    "    e match {\n",
    "        case Plus(e1, e2) => binFun(e1, e2, _ + _ )\n",
    "        case Minus(e1, e2) => binFun(e1, e2, _ - _ )\n",
    "        case Star(e1, e2) => binFun(e1, e2, _ * _ )\n",
    "        case Var(v) => {\n",
    "            if (env.contains(v)){\n",
    "                env(v)\n",
    "            } else {\n",
    "                throw new IllegalArgumentException(s\"$v undefined variable.\")\n",
    "            }\n",
    "        }\n",
    "        case Const(f) => f\n",
    "    }\n",
    "}\n",
    "/*\n",
    "    You are given an assignment statement\n",
    "        varName , this is the variable that you need to set a value for in the map \n",
    "        to get the value to map this you must evaluate rhs \n",
    "        then just add it to the map \n",
    "*/\n",
    "\n",
    "def evalStatement(s: Statement, env: Map[String, Double]): Map[String, Double] = s match {\n",
    "    case Assignment(varName, rhsExpr) => {\n",
    "        val RHS = evalExpr(rhsExpr, env)\n",
    "        env + (varName -> RHS)\n",
    "        \n",
    "    }\n",
    "}\n"
   ]
  },
  {
   "cell_type": "code",
   "execution_count": 6,
   "metadata": {
    "deletable": false,
    "editable": false,
    "nbgrader": {
     "cell_type": "code",
     "checksum": "e99b3b7622c5431045d18a3090026ad8",
     "grade": true,
     "grade_id": "p1b-test",
     "locked": true,
     "points": 10,
     "schema_version": 3,
     "solution": false,
     "task": false
    }
   },
   "outputs": [
    {
     "name": "stdout",
     "output_type": "stream",
     "text": [
      "\n",
      "*** Tests Passed (10 points) ***\n"
     ]
    },
    {
     "data": {
      "text/plain": [
       "defined \u001b[32mfunction\u001b[39m \u001b[36mtestMap\u001b[39m\n",
       "\u001b[36mm1\u001b[39m: \u001b[32mMap\u001b[39m[\u001b[32mString\u001b[39m, \u001b[32mDouble\u001b[39m] = \u001b[33mMap\u001b[39m()\n",
       "\u001b[36mv1\u001b[39m: \u001b[32mAssignment\u001b[39m = \u001b[33mAssignment\u001b[39m(\u001b[32m\"x\"\u001b[39m, \u001b[33mConst\u001b[39m(\u001b[32m2.0\u001b[39m))\n",
       "\u001b[36mm2\u001b[39m: \u001b[32mMap\u001b[39m[\u001b[32mString\u001b[39m, \u001b[32mDouble\u001b[39m] = \u001b[33mMap\u001b[39m(\u001b[32m\"x\"\u001b[39m -> \u001b[32m2.0\u001b[39m)\n",
       "\u001b[36mv2\u001b[39m: \u001b[32mAssignment\u001b[39m = \u001b[33mAssignment\u001b[39m(\u001b[32m\"y\"\u001b[39m, \u001b[33mPlus\u001b[39m(\u001b[33mVar\u001b[39m(\u001b[32m\"x\"\u001b[39m), \u001b[33mConst\u001b[39m(\u001b[32m4.0\u001b[39m)))\n",
       "\u001b[36mm3\u001b[39m: \u001b[32mMap\u001b[39m[\u001b[32mString\u001b[39m, \u001b[32mDouble\u001b[39m] = \u001b[33mMap\u001b[39m(\u001b[32m\"x\"\u001b[39m -> \u001b[32m2.0\u001b[39m, \u001b[32m\"y\"\u001b[39m -> \u001b[32m6.0\u001b[39m)\n",
       "\u001b[36mv3\u001b[39m: \u001b[32mAssignment\u001b[39m = \u001b[33mAssignment\u001b[39m(\u001b[32m\"z\"\u001b[39m, \u001b[33mStar\u001b[39m(\u001b[33mVar\u001b[39m(\u001b[32m\"y\"\u001b[39m), \u001b[33mVar\u001b[39m(\u001b[32m\"x\"\u001b[39m)))\n",
       "\u001b[36mm4\u001b[39m: \u001b[32mMap\u001b[39m[\u001b[32mString\u001b[39m, \u001b[32mDouble\u001b[39m] = \u001b[33mMap\u001b[39m(\u001b[32m\"x\"\u001b[39m -> \u001b[32m2.0\u001b[39m, \u001b[32m\"y\"\u001b[39m -> \u001b[32m6.0\u001b[39m, \u001b[32m\"z\"\u001b[39m -> \u001b[32m12.0\u001b[39m)"
      ]
     },
     "execution_count": 6,
     "metadata": {},
     "output_type": "execute_result"
    }
   ],
   "source": [
    "//BEGIN TEST\n",
    "def testMap(m1: Map[String, Double], varname: String, testval: Double) = {\n",
    "    m1.contains(varname) && m1(varname) == testval\n",
    "}\n",
    "\n",
    "val m1 = Map[String, Double]()\n",
    "val v1 = Assignment(\"x\", Const(2.0))\n",
    "val m2 = evalStatement(v1, m1)\n",
    "assert(testMap(m2, \"x\", 2.0), \"TEST 1 PASSED!\")\n",
    "\n",
    "val v2 = Assignment(\"y\", Plus(Var(\"x\"), Const(4.0)))\n",
    "val m3 = evalStatement(v2, m2)\n",
    "assert(testMap(m3, \"x\", 2.0), \"TEST 2.1 PASSED!\")\n",
    "assert(testMap(m3, \"y\", 6.0), \"TEST 2.2 PASSED!\")\n",
    "\n",
    "\n",
    "val v3 = Assignment(\"z\", Star(Var(\"y\"), Var(\"x\")))\n",
    "val m4 = evalStatement(v3, m3)\n",
    "assert(testMap(m4, \"x\", 2.0), \"TEST 3.1 PASSED!\")\n",
    "assert(testMap(m4, \"y\", 6.0), \"TEST 3.2 PASSED!\")\n",
    "assert(testMap(m4, \"z\", 12.0), \"TEST 3.3 PASSED!\")\n",
    "\n",
    "passed(10)\n",
    "\n",
    "//END TEST"
   ]
  },
  {
   "cell_type": "markdown",
   "metadata": {
    "deletable": false,
    "editable": false,
    "nbgrader": {
     "cell_type": "markdown",
     "checksum": "5c1e14113914815c8bfa71ecc797a711",
     "grade": false,
     "grade_id": "cell-d584a3efe5623035",
     "locked": true,
     "schema_version": 3,
     "solution": false,
     "task": false
    }
   },
   "source": [
    "### Part 1C (10 points)\n",
    "\n",
    "Write an evaluator for a program (list of statements + return expression) that evaluates the program and returns the final value of the return expression after the statements in the program are run one by one. We explain how to evaluate a program step by step on an example program\n",
    "\n",
    "~~~\n",
    "x := 15 //Stmt1\n",
    "y := x - 10 // Stmt 2\n",
    "z := y + 5 // Stmt 3\n",
    "x+ y+ z // Return expression\n",
    "~~~\n",
    "\n",
    "This program should return the value 30. The key idea is this:\n",
    "\n",
    "a) Start with an empty environment map to begin with.\n",
    "b) Execute each statement in the list of statements from beginning to end.\n",
    "   When you execute the statement, do so with the current map and the return value is the next map.\n",
    "c) Evaluate the return expression on the final map after you have executed all the statements.\n",
    "\n",
    "Complete the code below. You can use loops and var for now. We will show you how to avoid it later.\n",
    "\n",
    "Here is how you iterate through each element of a list in scala: \n",
    "\n",
    "~~~\n",
    "for (item <- lst){\n",
    "    // Do stuff with item\n",
    "}\n",
    "~~~"
   ]
  },
  {
   "cell_type": "code",
   "execution_count": 7,
   "metadata": {
    "deletable": false,
    "nbgrader": {
     "cell_type": "code",
     "checksum": "5243c1dc1b3ee4236d26be89e51ce8d6",
     "grade": false,
     "grade_id": "p1c-ans",
     "locked": false,
     "schema_version": 3,
     "solution": true,
     "task": false
    }
   },
   "outputs": [
    {
     "data": {
      "text/plain": [
       "defined \u001b[32mfunction\u001b[39m \u001b[36mevalExprHelper\u001b[39m\n",
       "defined \u001b[32mfunction\u001b[39m \u001b[36mevalStatementHelper\u001b[39m\n",
       "defined \u001b[32mfunction\u001b[39m \u001b[36mevalProgram\u001b[39m"
      ]
     },
     "execution_count": 7,
     "metadata": {},
     "output_type": "execute_result"
    }
   ],
   "source": [
    "/*\n",
    "PARAMETERS\n",
    "    list of statements, then the return expression. \n",
    "    evaluate the function then return the final value of the return expression after the statements in the program \n",
    "    are done one by one. \n",
    "    \n",
    "    1. Start with empty environemnt map \n",
    "    2. execute each statement in the list of statements \n",
    "    3. after each iteration, execute it with the current map, replace the entire map after execution\n",
    "    4. evaulate the return expression on the final map after you have executed all the statements \n",
    "use these \n",
    "    sealed trait Expr\n",
    "    case class Plus(e1: Expr, e2: Expr) extends Expr\n",
    "    case class Minus(e1: Expr, e2: Expr) extends Expr\n",
    "    case class Star(e1: Expr, e2: Expr) extends Expr\n",
    "    case class Var(s: String) extends Expr\n",
    "    case class Const(d: Double) extends Expr\n",
    "    sealed trait Statement\n",
    "    case class Assignment(s: String, e: Expr) extends Statement\n",
    "*/\n",
    "def evalExprHelper(e: Expr, env: Map[String, Double]): Double = {\n",
    "    def binFun(e1: Expr, e2: Expr, op: (Double, Double) => Double): Double = {\n",
    "        val v1 = evalExpr(e1, env)\n",
    "        val v2 = evalExpr(e2, env)\n",
    "        op(v1, v2)\n",
    "    }\n",
    "    \n",
    "    e match {\n",
    "        case Plus(e1, e2) => binFun(e1, e2, _ + _ )\n",
    "        case Minus(e1, e2) => binFun(e1, e2, _ - _ )\n",
    "        case Star(e1, e2) => binFun(e1, e2, _ * _ )\n",
    "        case Var(v) => {\n",
    "            if (env.contains(v)){\n",
    "                env(v)\n",
    "            } else {\n",
    "                throw new IllegalArgumentException(s\"$v undefined variable.\")\n",
    "            }\n",
    "        }\n",
    "        case Const(f) => f\n",
    "    }\n",
    "}\n",
    "\n",
    "def evalStatementHelper(s: Statement, env: Map[String, Double]): Map[String, Double] = s match {\n",
    "    case Assignment(varName, rhsExpr) => {\n",
    "        val RHS = evalExpr(rhsExpr, env)\n",
    "        env + (varName -> RHS)  // At this point the map should now be updated \n",
    "    }\n",
    "}\n",
    "def evalProgram(p: Program): Double = p match {\n",
    "    case CalcProgram(lstOfStatement, returnExpr) => {\n",
    "        var env: Map[String, Double] = Map()\n",
    "        for(item <- lstOfStatement){\n",
    "            env = evalStatementHelper(item,env)\n",
    "        }\n",
    "        evalExprHelper(returnExpr, env)\n",
    "    }\n",
    "}"
   ]
  },
  {
   "cell_type": "code",
   "execution_count": 8,
   "metadata": {
    "deletable": false,
    "editable": false,
    "nbgrader": {
     "cell_type": "code",
     "checksum": "494f09313c497c064190bc69f5608963",
     "grade": true,
     "grade_id": "p1c-test1",
     "locked": true,
     "points": 5,
     "schema_version": 3,
     "solution": false,
     "task": false
    }
   },
   "outputs": [
    {
     "name": "stdout",
     "output_type": "stream",
     "text": [
      "6.0\n",
      "*** Tests Passed (5 points) ***\n"
     ]
    },
    {
     "data": {
      "text/plain": [
       "\u001b[36mv1\u001b[39m: \u001b[32mAssignment\u001b[39m = \u001b[33mAssignment\u001b[39m(\u001b[32m\"x\"\u001b[39m, \u001b[33mConst\u001b[39m(\u001b[32m2.0\u001b[39m))\n",
       "\u001b[36mv2\u001b[39m: \u001b[32mAssignment\u001b[39m = \u001b[33mAssignment\u001b[39m(\u001b[32m\"y\"\u001b[39m, \u001b[33mPlus\u001b[39m(\u001b[33mVar\u001b[39m(\u001b[32m\"x\"\u001b[39m), \u001b[33mConst\u001b[39m(\u001b[32m4.0\u001b[39m)))\n",
       "\u001b[36mv3\u001b[39m: \u001b[32mAssignment\u001b[39m = \u001b[33mAssignment\u001b[39m(\u001b[32m\"z\"\u001b[39m, \u001b[33mVar\u001b[39m(\u001b[32m\"y\"\u001b[39m))\n",
       "\u001b[36mp1\u001b[39m: \u001b[32mCalcProgram\u001b[39m = \u001b[33mCalcProgram\u001b[39m(\n",
       "  \u001b[33mList\u001b[39m(\n",
       "    \u001b[33mAssignment\u001b[39m(\u001b[32m\"x\"\u001b[39m, \u001b[33mConst\u001b[39m(\u001b[32m2.0\u001b[39m)),\n",
       "    \u001b[33mAssignment\u001b[39m(\u001b[32m\"y\"\u001b[39m, \u001b[33mPlus\u001b[39m(\u001b[33mVar\u001b[39m(\u001b[32m\"x\"\u001b[39m), \u001b[33mConst\u001b[39m(\u001b[32m4.0\u001b[39m))),\n",
       "    \u001b[33mAssignment\u001b[39m(\u001b[32m\"z\"\u001b[39m, \u001b[33mVar\u001b[39m(\u001b[32m\"y\"\u001b[39m))\n",
       "  ),\n",
       "  \u001b[33mVar\u001b[39m(\u001b[32m\"z\"\u001b[39m)\n",
       ")"
      ]
     },
     "execution_count": 8,
     "metadata": {},
     "output_type": "execute_result"
    }
   ],
   "source": [
    "//BEGIN TEST\n",
    "val v1 = Assignment(\"x\", Const(2.0))\n",
    "val v2 = Assignment(\"y\", Plus(Var(\"x\"), Const(4.0)))\n",
    "val v3 = Assignment(\"z\", Var(\"y\"))\n",
    "val p1 = CalcProgram(List(v1, v2, v3), Var(\"z\"))\n",
    "print(evalProgram(p1))\n",
    "assert(evalProgram(p1) == 6)\n",
    "passed(5)\n",
    "//END TEST"
   ]
  },
  {
   "cell_type": "code",
   "execution_count": 9,
   "metadata": {
    "deletable": false,
    "editable": false,
    "nbgrader": {
     "cell_type": "code",
     "checksum": "2d10cdbb7463e799d906a7db07d6b19e",
     "grade": true,
     "grade_id": "p1c-test2",
     "locked": true,
     "points": 5,
     "schema_version": 3,
     "solution": false,
     "task": false
    }
   },
   "outputs": [
    {
     "name": "stdout",
     "output_type": "stream",
     "text": [
      "256.0\n",
      "*** Tests Passed (5 points) ***\n"
     ]
    },
    {
     "data": {
      "text/plain": [
       "\u001b[36mvv1\u001b[39m: \u001b[32mAssignment\u001b[39m = \u001b[33mAssignment\u001b[39m(\u001b[32m\"x\"\u001b[39m, \u001b[33mConst\u001b[39m(\u001b[32m2.0\u001b[39m))\n",
       "\u001b[36mvv2\u001b[39m: \u001b[32mAssignment\u001b[39m = \u001b[33mAssignment\u001b[39m(\u001b[32m\"y\"\u001b[39m, \u001b[33mStar\u001b[39m(\u001b[33mVar\u001b[39m(\u001b[32m\"x\"\u001b[39m), \u001b[33mVar\u001b[39m(\u001b[32m\"x\"\u001b[39m)))\n",
       "\u001b[36mvv3\u001b[39m: \u001b[32mAssignment\u001b[39m = \u001b[33mAssignment\u001b[39m(\u001b[32m\"z\"\u001b[39m, \u001b[33mStar\u001b[39m(\u001b[33mVar\u001b[39m(\u001b[32m\"y\"\u001b[39m), \u001b[33mVar\u001b[39m(\u001b[32m\"y\"\u001b[39m)))\n",
       "\u001b[36mvv4\u001b[39m: \u001b[32mAssignment\u001b[39m = \u001b[33mAssignment\u001b[39m(\u001b[32m\"w\"\u001b[39m, \u001b[33mStar\u001b[39m(\u001b[33mVar\u001b[39m(\u001b[32m\"z\"\u001b[39m), \u001b[33mVar\u001b[39m(\u001b[32m\"z\"\u001b[39m)))\n",
       "\u001b[36mp2\u001b[39m: \u001b[32mCalcProgram\u001b[39m = \u001b[33mCalcProgram\u001b[39m(\n",
       "  \u001b[33mList\u001b[39m(\n",
       "    \u001b[33mAssignment\u001b[39m(\u001b[32m\"x\"\u001b[39m, \u001b[33mConst\u001b[39m(\u001b[32m2.0\u001b[39m)),\n",
       "    \u001b[33mAssignment\u001b[39m(\u001b[32m\"y\"\u001b[39m, \u001b[33mStar\u001b[39m(\u001b[33mVar\u001b[39m(\u001b[32m\"x\"\u001b[39m), \u001b[33mVar\u001b[39m(\u001b[32m\"x\"\u001b[39m))),\n",
       "    \u001b[33mAssignment\u001b[39m(\u001b[32m\"z\"\u001b[39m, \u001b[33mStar\u001b[39m(\u001b[33mVar\u001b[39m(\u001b[32m\"y\"\u001b[39m), \u001b[33mVar\u001b[39m(\u001b[32m\"y\"\u001b[39m))),\n",
       "    \u001b[33mAssignment\u001b[39m(\u001b[32m\"w\"\u001b[39m, \u001b[33mStar\u001b[39m(\u001b[33mVar\u001b[39m(\u001b[32m\"z\"\u001b[39m), \u001b[33mVar\u001b[39m(\u001b[32m\"z\"\u001b[39m)))\n",
       "  ),\n",
       "  \u001b[33mVar\u001b[39m(\u001b[32m\"w\"\u001b[39m)\n",
       ")"
      ]
     },
     "execution_count": 9,
     "metadata": {},
     "output_type": "execute_result"
    }
   ],
   "source": [
    "//BEGIN TEST\n",
    "val vv1 = Assignment(\"x\", Const(2.0))\n",
    "val vv2 = Assignment(\"y\", Star(Var(\"x\"), Var(\"x\")))\n",
    "val vv3 = Assignment(\"z\", Star(Var(\"y\"), Var(\"y\")))\n",
    "val vv4 = Assignment(\"w\", Star(Var(\"z\"), Var(\"z\")))\n",
    "val p2 = CalcProgram(List(vv1, vv2, vv3, vv4), Var(\"w\"))\n",
    "print(evalProgram(p2))\n",
    "assert(evalProgram(p2) == 256)\n",
    "passed(5)\n",
    "//END TEST"
   ]
  },
  {
   "cell_type": "markdown",
   "metadata": {
    "deletable": false,
    "editable": false,
    "nbgrader": {
     "cell_type": "markdown",
     "checksum": "67677b48bdab71de895f3836964ce90a",
     "grade": false,
     "grade_id": "cell-33da7cb13bb6465f",
     "locked": true,
     "schema_version": 3,
     "solution": false
    }
   },
   "source": [
    "## Problem 2 (20 points)\n",
    "\n",
    "### A (5 points)\n",
    "We defined lists in the class. Write a recursive procedure to get the nth element of the list or throw an `IllegalArgumentException` if $n < 0$ or $n >= \\text{length of list} $. Assume $n=0$ obtains the very first element\n",
    "and $n = \\text{length of list} -1$ yields very last element. "
   ]
  },
  {
   "cell_type": "code",
   "execution_count": 10,
   "metadata": {
    "deletable": false,
    "nbgrader": {
     "cell_type": "code",
     "checksum": "05c9d2780df0d9fcd06064be409007a8",
     "grade": false,
     "grade_id": "p2a-ans",
     "locked": false,
     "schema_version": 3,
     "solution": true
    }
   },
   "outputs": [
    {
     "data": {
      "text/plain": [
       "defined \u001b[32mtrait\u001b[39m \u001b[36mNumList\u001b[39m\n",
       "defined \u001b[32mobject\u001b[39m \u001b[36mNil\u001b[39m\n",
       "defined \u001b[32mclass\u001b[39m \u001b[36mCons\u001b[39m\n",
       "defined \u001b[32mfunction\u001b[39m \u001b[36mcountHelper\u001b[39m\n",
       "defined \u001b[32mfunction\u001b[39m \u001b[36mgetNthElement\u001b[39m"
      ]
     },
     "execution_count": 10,
     "metadata": {},
     "output_type": "execute_result"
    }
   ],
   "source": [
    "sealed trait NumList\n",
    "case object Nil extends NumList\n",
    "case class Cons(n: Int, l: NumList) extends NumList \n",
    "\n",
    "def countHelper(lst: NumList, n: Int, acc: Int = 0): Int = lst match{\n",
    "    // this is just helping get the length of the given list\n",
    "    case Nil => { \n",
    "        throw new IllegalArgumentException(\"exceeded size.\")\n",
    "    }\n",
    "    // if we hit this case that means we have found the value and we are returning it \n",
    "    case Cons(k,_) if acc == n => {\n",
    "        k\n",
    "    }\n",
    "    case Cons(j,innerList) => {\n",
    "        countHelper(innerList,n, acc+1)\n",
    "    }\n",
    "}\n",
    "\n",
    "// this is the 'main' function essentially\n",
    "def getNthElement(lst: NumList, n: Int): Int = {\n",
    "    if (n < 0 || lst == Nil){\n",
    "        throw new IllegalArgumentException(\"how dare you\")\n",
    "    }\n",
    "    println()\n",
    "    val nth_element = countHelper(lst,n)\n",
    "    return nth_element\n",
    "}"
   ]
  },
  {
   "cell_type": "code",
   "execution_count": 11,
   "metadata": {
    "deletable": false,
    "editable": false,
    "nbgrader": {
     "cell_type": "code",
     "checksum": "b0dd9409dcc9e0224d9daec9d29e0508",
     "grade": true,
     "grade_id": "p2a-test",
     "locked": true,
     "points": 5,
     "schema_version": 3,
     "solution": false
    }
   },
   "outputs": [
    {
     "name": "stdout",
     "output_type": "stream",
     "text": [
      "\n",
      "\n",
      "\n",
      "\n",
      "\n",
      "*** Tests Passed (5 points) ***\n"
     ]
    },
    {
     "data": {
      "text/plain": [
       "\u001b[36ml1\u001b[39m: \u001b[32mNil\u001b[39m = Nil\n",
       "\u001b[36ml2\u001b[39m: \u001b[32mCons\u001b[39m = \u001b[33mCons\u001b[39m(\u001b[32m1\u001b[39m, \u001b[33mCons\u001b[39m(\u001b[32m-1\u001b[39m, Nil))\n",
       "\u001b[36ml3\u001b[39m: \u001b[32mCons\u001b[39m = \u001b[33mCons\u001b[39m(\u001b[32m1\u001b[39m, \u001b[33mCons\u001b[39m(\u001b[32m2\u001b[39m, \u001b[33mCons\u001b[39m(\u001b[32m1\u001b[39m, \u001b[33mCons\u001b[39m(\u001b[32m-1\u001b[39m, Nil))))\n",
       "\u001b[36ml4\u001b[39m: \u001b[32mCons\u001b[39m = \u001b[33mCons\u001b[39m(\u001b[32m0\u001b[39m, \u001b[33mCons\u001b[39m(\u001b[32m4\u001b[39m, \u001b[33mCons\u001b[39m(\u001b[32m8\u001b[39m, \u001b[33mCons\u001b[39m(\u001b[32m1\u001b[39m, \u001b[33mCons\u001b[39m(\u001b[32m2\u001b[39m, \u001b[33mCons\u001b[39m(\u001b[32m1\u001b[39m, \u001b[33mCons\u001b[39m(\u001b[32m-1\u001b[39m, Nil)))))))\n",
       "\u001b[36mtest1\u001b[39m: \u001b[32mAny\u001b[39m = \u001b[32m\"OK\"\u001b[39m\n",
       "\u001b[36mtest2\u001b[39m: \u001b[32mAny\u001b[39m = \u001b[32m\"OK\"\u001b[39m"
      ]
     },
     "execution_count": 11,
     "metadata": {},
     "output_type": "execute_result"
    }
   ],
   "source": [
    "val l1 = Nil\n",
    "val l2 = Cons(1, Cons(-1, Nil))\n",
    "val l3 = Cons(1, Cons(2, l2))\n",
    "val l4 = Cons(0, Cons(4, Cons(8, l3)))\n",
    "\n",
    "val test1 = try {\n",
    "    getNthElement(Nil, 3);\n",
    "    assert(false, \"Test 1 : getNthElement(Nil, 3) should raise an IllegalArgumentException. Your code did not.\")\n",
    "} catch {\n",
    "    case e: IllegalArgumentException => \"OK\"\n",
    "} \n",
    "\n",
    "assert(getNthElement(l2, 0) == 1, \"Test2: getNthElement(l2, 0)  failed (expected answer = 1)\")\n",
    "assert(getNthElement(l3, 3) == -1, \"Test3: getNthElement(l3, 3)  failed (expected answer = -1)\")\n",
    "assert(getNthElement(l4, 2) == 8, \"Test4: getNthElement(l4, 2)  failed (expected answer = 8)\")\n",
    "\n",
    "val test2 = try {\n",
    "    getNthElement(l4, 8);\n",
    "    assert(false, \"Test 5 : getNthElement(l4, 8) should raise an IllegalArgumentException. Your code did not.\")\n",
    "} catch {\n",
    "    case e: IllegalArgumentException => \"OK\"\n",
    "}\n",
    "\n",
    "passed(5)"
   ]
  },
  {
   "cell_type": "markdown",
   "metadata": {
    "deletable": false,
    "editable": false,
    "nbgrader": {
     "cell_type": "markdown",
     "checksum": "f4a061c4891d5c2002006c5db21ac0fc",
     "grade": false,
     "grade_id": "cell-f33dba0762a43adc",
     "locked": true,
     "schema_version": 3,
     "solution": false
    }
   },
   "source": [
    "### B (7 points)\n",
    "Write a recursive procedure that returns true if the list has the Fibonacci property. I.e, every element at position $i \\geq 2$ is the sum of the two preceding elements. Note that the property is trivially true for lists of sizes $0$ and $1$."
   ]
  },
  {
   "cell_type": "code",
   "execution_count": 12,
   "metadata": {
    "deletable": false,
    "nbgrader": {
     "cell_type": "code",
     "checksum": "a65742de5c4aae782b84a509ce99ca65",
     "grade": false,
     "grade_id": "p2b-ans",
     "locked": false,
     "schema_version": 3,
     "solution": true
    }
   },
   "outputs": [
    {
     "data": {
      "text/plain": [
       "defined \u001b[32mfunction\u001b[39m \u001b[36mgetNextElement\u001b[39m\n",
       "defined \u001b[32mfunction\u001b[39m \u001b[36mfib_helper\u001b[39m\n",
       "defined \u001b[32mfunction\u001b[39m \u001b[36misFibonacciList\u001b[39m"
      ]
     },
     "execution_count": 12,
     "metadata": {},
     "output_type": "execute_result"
    }
   ],
   "source": [
    "// helper function that will return next element of a given list \n",
    "def getNextElement(lst: NumList): Int = lst match{\n",
    "    case Nil => {-9999}\n",
    "    case Cons(k,Nil) => {k}\n",
    "    case Cons(k,_) => {k}\n",
    "}\n",
    "\n",
    "// function takes in the inner list of the first argument then the first element before that inner list \n",
    "def fib_helper(prev: Int, lst: NumList): Boolean = lst match{\n",
    "    case Nil => {true}\n",
    "    case Cons(k,Nil)=> {true}\n",
    "    case Cons(k,lst) => {\n",
    "        val sum = prev + k\n",
    "        val nextVal = getNextElement(lst)\n",
    "        if (sum != nextVal){\n",
    "            return false\n",
    "        }else{\n",
    "            fib_helper(k,lst)\n",
    "        }\n",
    "    }\n",
    "}\n",
    "def isFibonacciList(lst: NumList): Boolean = lst match{\n",
    "    case Nil => {true}      // handling the base cases \n",
    "    case Cons(_,Nil) => {true} \n",
    "    // giving it the first value then the rest of the list\n",
    "    case Cons(k,lst) => {fib_helper(k,lst)}\n",
    "}"
   ]
  },
  {
   "cell_type": "code",
   "execution_count": 13,
   "metadata": {
    "deletable": false,
    "editable": false,
    "nbgrader": {
     "cell_type": "code",
     "checksum": "9478a765d99bced60084b2f2f79a994a",
     "grade": true,
     "grade_id": "p2b-test",
     "locked": true,
     "points": 7,
     "schema_version": 3,
     "solution": false
    }
   },
   "outputs": [
    {
     "name": "stdout",
     "output_type": "stream",
     "text": [
      "\n",
      "*** Tests Passed (7 points) ***\n"
     ]
    },
    {
     "data": {
      "text/plain": [
       "\u001b[36ml1\u001b[39m: \u001b[32mCons\u001b[39m = \u001b[33mCons\u001b[39m(\u001b[32m12\u001b[39m, \u001b[33mCons\u001b[39m(\u001b[32m25\u001b[39m, \u001b[33mCons\u001b[39m(\u001b[32m37\u001b[39m, Nil)))\n",
       "\u001b[36ml2\u001b[39m: \u001b[32mCons\u001b[39m = \u001b[33mCons\u001b[39m(\u001b[32m14\u001b[39m, \u001b[33mCons\u001b[39m(\u001b[32m-1\u001b[39m, \u001b[33mCons\u001b[39m(\u001b[32m13\u001b[39m, \u001b[33mCons\u001b[39m(\u001b[32m12\u001b[39m, \u001b[33mCons\u001b[39m(\u001b[32m25\u001b[39m, \u001b[33mCons\u001b[39m(\u001b[32m37\u001b[39m, Nil))))))\n",
       "\u001b[36ml3\u001b[39m: \u001b[32mCons\u001b[39m = \u001b[33mCons\u001b[39m(\n",
       "  \u001b[32m7\u001b[39m,\n",
       "  \u001b[33mCons\u001b[39m(\u001b[32m7\u001b[39m, \u001b[33mCons\u001b[39m(\u001b[32m14\u001b[39m, \u001b[33mCons\u001b[39m(\u001b[32m-1\u001b[39m, \u001b[33mCons\u001b[39m(\u001b[32m13\u001b[39m, \u001b[33mCons\u001b[39m(\u001b[32m12\u001b[39m, \u001b[33mCons\u001b[39m(\u001b[32m25\u001b[39m, \u001b[33mCons\u001b[39m(\u001b[32m37\u001b[39m, Nil)))))))\n",
       ")\n",
       "\u001b[36ml4\u001b[39m: \u001b[32mCons\u001b[39m = \u001b[33mCons\u001b[39m(\u001b[32m0\u001b[39m, \u001b[33mCons\u001b[39m(\u001b[32m0\u001b[39m, \u001b[33mCons\u001b[39m(\u001b[32m0\u001b[39m, \u001b[33mCons\u001b[39m(\u001b[32m0\u001b[39m, \u001b[33mCons\u001b[39m(\u001b[32m0\u001b[39m, \u001b[33mCons\u001b[39m(\u001b[32m0\u001b[39m, Nil))))))"
      ]
     },
     "execution_count": 13,
     "metadata": {},
     "output_type": "execute_result"
    }
   ],
   "source": [
    "val l1 = Cons(12, Cons(25, Cons(37, Nil)))\n",
    "assert(isFibonacciList(l1), \n",
    "       \"Test case 1 :  isFibonacciList(l1) -- should return true\")\n",
    "\n",
    "val l2 = Cons(14, Cons(-1, Cons(13, l1 )))\n",
    "assert(isFibonacciList(l2), \n",
    "       \"Test case 2 :  isFibonacciList(l2) -- should return true\")\n",
    "\n",
    "val l3 = Cons(7, Cons(7, l2))\n",
    "\n",
    "assert(!isFibonacciList(l3), \n",
    "       \"Test case 3 :  isFibonacciList(l3) -- should return false\")\n",
    "\n",
    "val l4 = Cons(0, Cons(0, Cons(0, Cons(0, Cons(0, Cons(0, Nil))))))\n",
    "assert(isFibonacciList(l2), \n",
    "       \"Test case 4:  isFibonacciList(l4) -- should return true\")\n",
    "\n",
    "passed(7)"
   ]
  },
  {
   "cell_type": "markdown",
   "metadata": {
    "deletable": false,
    "editable": false,
    "nbgrader": {
     "cell_type": "markdown",
     "checksum": "9a1a2912b9bdbdbf2f3bcfabb5cbdd76",
     "grade": false,
     "grade_id": "cell-d4f6c640c40f9924",
     "locked": true,
     "schema_version": 3,
     "solution": false
    }
   },
   "source": [
    "### C (8 points)\n",
    "Write a recursive function `filterNumList(l: NumList, f: Int => Boolean): NumList` that takes in a `NumList` and a function `f: Int => Boolean`. \n",
    "\n",
    "1. It should return a new list that consist of all elements of the list `l` that return `true` when the function `f` is called on them.\n",
    "2. The returned list elements must preserve the same order as in the original list."
   ]
  },
  {
   "cell_type": "code",
   "execution_count": 14,
   "metadata": {
    "deletable": false,
    "nbgrader": {
     "cell_type": "code",
     "checksum": "e4a8e21e6fe0b5fb08ed69d3173ec2be",
     "grade": false,
     "grade_id": "p2c-ans",
     "locked": false,
     "schema_version": 3,
     "solution": true
    }
   },
   "outputs": [
    {
     "data": {
      "text/plain": [
       "defined \u001b[32mtrait\u001b[39m \u001b[36mNumList\u001b[39m\n",
       "defined \u001b[32mobject\u001b[39m \u001b[36mNil\u001b[39m\n",
       "defined \u001b[32mclass\u001b[39m \u001b[36mCons\u001b[39m\n",
       "defined \u001b[32mfunction\u001b[39m \u001b[36mfilterNumList\u001b[39m"
      ]
     },
     "execution_count": 14,
     "metadata": {},
     "output_type": "execute_result"
    }
   ],
   "source": [
    "sealed trait NumList\n",
    "case object Nil extends NumList\n",
    "case class Cons(n: Int, l: NumList) extends NumList \n",
    "\n",
    "def filterNumList(l: NumList, f: Int => Boolean): NumList = l match{\n",
    "    case Nil => {\n",
    "        Nil\n",
    "    }\n",
    "    case Cons(k,Nil) => {\n",
    "        if (f(k) == true){\n",
    "            Cons(k,Nil)\n",
    "        }else{\n",
    "            Nil\n",
    "        }\n",
    "    }\n",
    "    case Cons(k,lst) => {\n",
    "        if (f(k) == true){\n",
    "            Cons(k,filterNumList(lst,f))\n",
    "        }\n",
    "        else{\n",
    "            filterNumList(lst,f)\n",
    "        }\n",
    "    }\n",
    "}"
   ]
  },
  {
   "cell_type": "code",
   "execution_count": 15,
   "metadata": {
    "deletable": false,
    "editable": false,
    "nbgrader": {
     "cell_type": "code",
     "checksum": "e2bb560ce6b2945219069f14e45ea408",
     "grade": true,
     "grade_id": "p2c-test1",
     "locked": true,
     "points": 8,
     "schema_version": 3,
     "solution": false
    }
   },
   "outputs": [
    {
     "name": "stdout",
     "output_type": "stream",
     "text": [
      "\n",
      "*** Tests Passed (8 points) ***\n"
     ]
    },
    {
     "data": {
      "text/plain": [
       "\u001b[36ml1\u001b[39m: \u001b[32mCons\u001b[39m = \u001b[33mCons\u001b[39m(\u001b[32m12\u001b[39m, \u001b[33mCons\u001b[39m(\u001b[32m25\u001b[39m, \u001b[33mCons\u001b[39m(\u001b[32m37\u001b[39m, Nil)))\n",
       "defined \u001b[32mfunction\u001b[39m \u001b[36mf1\u001b[39m\n",
       "\u001b[36ml2\u001b[39m: \u001b[32mCons\u001b[39m = \u001b[33mCons\u001b[39m(\u001b[32m22\u001b[39m, \u001b[33mCons\u001b[39m(\u001b[32m135\u001b[39m, \u001b[33mCons\u001b[39m(\u001b[32m137\u001b[39m, \u001b[33mCons\u001b[39m(\u001b[32m12\u001b[39m, \u001b[33mCons\u001b[39m(\u001b[32m25\u001b[39m, \u001b[33mCons\u001b[39m(\u001b[32m37\u001b[39m, Nil))))))\n",
       "defined \u001b[32mfunction\u001b[39m \u001b[36mf2\u001b[39m\n",
       "defined \u001b[32mfunction\u001b[39m \u001b[36mf3\u001b[39m\n",
       "\u001b[36ml4\u001b[39m: \u001b[32mCons\u001b[39m = \u001b[33mCons\u001b[39m(\u001b[32m0\u001b[39m, \u001b[33mCons\u001b[39m(\u001b[32m0\u001b[39m, \u001b[33mCons\u001b[39m(\u001b[32m0\u001b[39m, \u001b[33mCons\u001b[39m(\u001b[32m0\u001b[39m, \u001b[33mCons\u001b[39m(\u001b[32m0\u001b[39m, \u001b[33mCons\u001b[39m(\u001b[32m0\u001b[39m, Nil))))))\n",
       "defined \u001b[32mfunction\u001b[39m \u001b[36mf4\u001b[39m"
      ]
     },
     "execution_count": 15,
     "metadata": {},
     "output_type": "execute_result"
    }
   ],
   "source": [
    "val l1 = Cons(12, Cons(25, Cons(37, Nil)))\n",
    "def f1(j: Int): Boolean =  j <= 25 && j >= 12\n",
    "assert(filterNumList(l1, f1) == Cons(12, Cons(25, Nil)), \"Test 1 failed.\")\n",
    "\n",
    "\n",
    "val l2 = Cons(22, Cons(135, Cons(137, l1)))\n",
    "def f2(j: Int): Boolean =  j % 5 == 0\n",
    "assert(filterNumList(l2, f2) == Cons(135, Cons(25, Nil)), \"Test 2 failed.\")\n",
    "\n",
    "def f3(j: Int): Boolean =  j >= 210\n",
    "assert(filterNumList(l2, f3) == Nil, \"Test 3 failed.\")\n",
    "assert(filterNumList(Nil, f3) == Nil, \"Test 4 failed.\")\n",
    "\n",
    "val l4 = Cons(0, Cons(0, Cons(0, Cons(0, Cons(0, Cons(0, Nil))))))\n",
    "\n",
    "def f4(j: Int): Boolean =  j <= 0\n",
    "assert(filterNumList(l4, f4) == l4, \"Test 5 failed\")\n",
    "\n",
    "passed(8)"
   ]
  }
 ],
 "metadata": {
  "kernelspec": {
   "display_name": "Scala",
   "language": "scala",
   "name": "scala"
  },
  "language_info": {
   "codemirror_mode": "text/x-scala",
   "file_extension": ".scala",
   "mimetype": "text/x-scala",
   "name": "scala",
   "nbconvert_exporter": "script",
   "version": "2.12.10"
  }
 },
 "nbformat": 4,
 "nbformat_minor": 2
}
