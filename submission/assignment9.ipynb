{
 "cells": [
  {
   "cell_type": "markdown",
   "metadata": {
    "nbgrader": {
     "grade": false,
     "grade_id": "cell-85f9949b10f864e9",
     "locked": true,
     "schema_version": 3,
     "solution": false
    }
   },
   "source": [
    "# CSCI 3155: Assignment 9\n",
    "\n",
    "Topics: \n",
    "- Type Checking\n",
    "- Basics of Objects\n",
    "- Generics\n",
    "\n",
    "Readings: Notes posted on moodle.  Chapters from Odersky\n",
    "\n",
    "- Chapter 4 (revise)\n",
    "- Chapter 10\n",
    "- Chapter 11 (take note of Any, AnyVal, Null, Nothing)\n",
    "- Chapter 12 \n",
    "- Chapter 19"
   ]
  },
  {
   "cell_type": "markdown",
   "metadata": {},
   "source": [
    "__Name__: WRITE YOUR NAME HERE"
   ]
  },
  {
   "cell_type": "code",
   "execution_count": null,
   "metadata": {
    "nbgrader": {
     "grade": false,
     "grade_id": "cell-2fff161b494615e6",
     "locked": true,
     "schema_version": 3,
     "solution": false
    }
   },
   "outputs": [],
   "source": [
    "// TEST HELPER\n",
    "def passed(points: Int) {\n",
    "    require(points >=0)\n",
    "    if (points == 1) print(s\"\\n*** Tests Passed (1 point) ***\\n\")\n",
    "    else print(s\"\\n*** Tests Passed ($points points) ***\\n\")\n",
    "}"
   ]
  },
  {
   "cell_type": "markdown",
   "metadata": {
    "nbgrader": {
     "grade": false,
     "grade_id": "cell-ad93cb0af93595bf",
     "locked": true,
     "schema_version": 3,
     "solution": false,
     "task": false
    }
   },
   "source": [
    "## Problem 1 (25 points)\n",
    "\n",
    "In this problem, we will extend our type system for handling references.  Here is a stripped down version of Lettuce that involves references.\n",
    "\n",
    "$$\\begin{array}{rcl}\n",
    "\\mathbf{Expr} & \\rightarrow & Const(\\mathbf{Double}) \\\\\n",
    "& | & Ident(\\mathbf{Identifier})\\\\\n",
    "& | & Plus(\\mathbf{Expr}, \\mathbf{Expr})\\\\\n",
    "& | & Div(\\mathbf{Expr}, \\mathbf{Expr}) \\\\\n",
    "& | & Geq(\\mathbf{Expr}, \\mathbf{Expr}) \\\\\n",
    "& | & And(\\mathbf{Expr}, \\mathbf{Expr}) \\\\\n",
    "& | & IfThenElse(\\mathbf{Expr}, \\mathbf{Expr}, \\mathbf{Expr})\\\\\n",
    "& | & Let(\\mathbf{Identifier}, \\color{red}{\\mathbf{Type}}, \\mathbf{Expr}, \\mathbf{Expr})\\\\\n",
    "& | & FunDef(\\mathbf{Identifier}, \\color{red}{\\mathbf{Type}}, \\mathbf{Expr}) \\\\\n",
    "& | & FunCall(\\mathbf{Expr}, \\mathbf{Expr}) \\\\\n",
    "& | & \\color{blue}{NewRef(\\mathbf{Expr})} \\\\\n",
    "& | & \\color{blue}{DeRef(\\mathbf{Expr})} \\\\\n",
    "& | & \\color{blue}{AssignRef(\\mathbf{Expr}, \\mathbf{Expr})} \\\\\n",
    "\\end{array}$$\n",
    "\n",
    "We have a type system \n",
    "$$\\begin{array}{rcl}\n",
    "\\mathbf{Type} & \\rightarrow & NumType & \\leftarrow \\text{written as } \\ num \\\\\n",
    "& | & BoolType & \\leftarrow \\text{written as } \\ bool \\\\\n",
    "& | & FunType(\\mathbf{Type} , \\mathbf{Type} ) & \\leftarrow \\text{written as } \\ t_1 \\Rightarrow t_2 \\\\\n",
    "& | & \\color{red}{RefType(\\mathbf{Type})} & \\leftarrow \\text{written as } \\ ref(t_1) \\\\\n",
    "\\end{array}$$\n"
   ]
  },
  {
   "cell_type": "markdown",
   "metadata": {
    "nbgrader": {
     "grade": false,
     "grade_id": "cell-bad0afef2400cf79",
     "locked": true,
     "schema_version": 3,
     "solution": false,
     "task": false
    }
   },
   "source": [
    "### A (5 points)\n",
    "Copy the program below to the next cell and add the missing type annotations labeled type1, type2, and type3 to the the program.\n",
    "\n",
    "\n",
    "~~~\n",
    "let x: type1 = 25 in \n",
    "    let y : type2 = NewRef( - x ) in \n",
    "     let f : type3 = NewRef( function (z: ref(num)) DeRef(z) - x >= 45 ) in \n",
    "          let z : ref(bool) = DeRef(f)(y)\n",
    "~~~"
   ]
  },
  {
   "cell_type": "markdown",
   "metadata": {
    "nbgrader": {
     "grade": true,
     "grade_id": "cell-128df73da0a393cd",
     "locked": false,
     "points": 5,
     "schema_version": 3,
     "solution": true,
     "task": false
    }
   },
   "source": [
    "## Solution\n",
    "* type1 = num --or-- NumType\n",
    "* type2 = ref(num) --or-- Reftype(NumType)\n",
    "* type3 = ref(ref(num) => bool) -- or -- Reftype(FunType( RefType(NumType), BoolType))          "
   ]
  },
  {
   "cell_type": "markdown",
   "metadata": {
    "nbgrader": {
     "grade": false,
     "grade_id": "cell-c81ed7b71b0f28cc",
     "locked": true,
     "schema_version": 3,
     "solution": false,
     "task": false
    }
   },
   "source": [
    "### B (10 points): Let us write some inference rules for working with ref types.\n",
    "$$\\newcommand\\typeOf{\\mathbf{typeOf}}$$\n",
    "$$\\newcommand\\semRule[3]{\\begin{array}{c} #1 \\\\ \\hline #2 \\\\ \\end{array}\\;(\\text{#3}) }$$\n",
    "\n",
    "Recall from notes on \"Types and Type Checking\" that $\\typeOf(\\texttt{e}, \\alpha)$ is the type of an \n",
    "expression $\\texttt{e}$ under type environment $\\alpha$. The type environment maps identifiers in the current scope to  their annotated types.\n",
    "\n",
    "\n",
    "Let us write a rule for NewRef.\n",
    "\n",
    "$$\\semRule{ \\typeOf(\\texttt{e}, \\alpha) = t,\\; t \\not= \\mathbf{typeerror} }{\\typeOf(\\texttt{NewRef(e)}, \\alpha) = ref(t) }{newref-ok}$$\n",
    "\n",
    "It says that if $\\texttt{e}$ receives type $t$ under type environment $\\alpha$ and it is not a type error, then $\\texttt{NewRef(e)}$ must receive the type $ref(t)$ under $\\alpha$.\n",
    "\n",
    "\n",
    "(i) Complete the missing terms for the rule for `DeRef` OK rule.\n",
    "$$\\semRule{\\typeOf(\\texttt{e}, \\alpha) = ref(t)}{\\typeOf(\\texttt{DeRef(e)}, \\alpha) = \\color{red}{???_1}}{deref-ok}$$\n",
    "\n",
    "(ii) Complete the missing terms for the rule for `DeRef` error.\n",
    "$$\\semRule{\\typeOf(\\texttt{e}, \\alpha) = t,\\ t \\not= \\color{red}{???_2} }{\\typeOf(\\texttt{DeRef(e)}, \\alpha) = \\mathbf{typeerror}}{deref-nok}$$\n",
    "\n",
    "(iii) Complete the missing terms for `AssignRef` OK rule.\n",
    "$$\\semRule{\\typeOf(\\texttt{e1}, \\alpha) = \\color{red}{???_3}, \\typeOf(\\texttt{e2}, \\alpha) = t}{\\typeOf(\\texttt{AssignRef(e1, e2)}, \\alpha) =   \\color{red}{???_4}}{assignref-ok}$$\n",
    "\n",
    "\n",
    "Write your answers in the next cell."
   ]
  },
  {
   "cell_type": "markdown",
   "metadata": {
    "nbgrader": {
     "grade": true,
     "grade_id": "cell-dd5541e0eaef1e6f",
     "locked": false,
     "points": 10,
     "schema_version": 3,
     "solution": true,
     "task": false
    }
   },
   "source": [
    "## Solution\n",
    "\n",
    "\n",
    "\n",
    "$\\color{red}{???_1} $ = t\n",
    "\n",
    "$\\color{red}{???_2} $ = ref(t_2)\n",
    "\n",
    "$\\color{red}{???_3} $ = ref(t)\n",
    "\n",
    "$\\color{red}{???_4} $ = t"
   ]
  },
  {
   "cell_type": "markdown",
   "metadata": {
    "nbgrader": {
     "grade": false,
     "grade_id": "cell-55152050baf41b72",
     "locked": true,
     "schema_version": 3,
     "solution": false,
     "task": false
    }
   },
   "source": [
    "### C (10 points): Write the type checker with references by filling in the missing code."
   ]
  },
  {
   "cell_type": "code",
   "execution_count": null,
   "metadata": {
    "nbgrader": {
     "grade": false,
     "grade_id": "cell-a9e5e31b52e7ee1b",
     "locked": false,
     "schema_version": 3,
     "solution": true,
     "task": false
    }
   },
   "outputs": [],
   "source": [
    "sealed trait Type\n",
    "case object NumType extends Type\n",
    "case object BoolType extends Type\n",
    "case class FunType(t1: Type, t2: Type) extends Type\n",
    "// TODO: Write a new case class for RefType\n",
    "//BEGIN SOLUTION\n",
    "case class RefType(t: Type) extends Type\n",
    "//END SOLUTION\n",
    "\n",
    "sealed trait Program\n",
    "sealed trait Expr\n",
    "\n",
    "case class Const(f: Double) extends Expr\n",
    "case class Ident(s: String) extends Expr\n",
    "case class Plus(e1: Expr, e2: Expr) extends Expr\n",
    "case class Minus(e1: Expr, e2: Expr) extends Expr\n",
    "case class Geq(e1: Expr, e2: Expr) extends Expr\n",
    "case class IfThenElse(e1: Expr, e2: Expr, e3: Expr) extends Expr\n",
    "case class Let(x: String, xType: Type, e1: Expr, e2: Expr) extends Expr\n",
    "case class FunDef(id: String, idType: Type, e: Expr) extends Expr\n",
    "case class FunCall(calledFun: Expr, argExpr: Expr) extends Expr\n",
    "case class NewRef(e: Expr) extends Expr\n",
    "case class DeRef(e: Expr) extends Expr\n",
    "case class AssignRef(e1: Expr, e2: Expr) extends Expr\n",
    "case class TopLevel(e: Expr) extends Program\n",
    "\n",
    "def typeEquals(t1: Type, t2: Type): Boolean = t1 == t2\n",
    "case class TypeErrorException(s: String) extends Exception\n"
   ]
  },
  {
   "cell_type": "code",
   "execution_count": null,
   "metadata": {
    "nbgrader": {
     "grade": false,
     "grade_id": "cell-809dce336587273e",
     "locked": false,
     "schema_version": 3,
     "solution": true,
     "task": false
    }
   },
   "outputs": [],
   "source": [
    "def typeOf(e: Expr, alpha: Map[String, Type]): Type = {\n",
    "    def checkType(opName: String, e1: Expr, t1: Type, e2: Expr, t2: Type, resType: Type): Type = {\n",
    "        val t1hat = typeOf(e1, alpha)\n",
    "        if (! typeEquals(t1hat, t1)){\n",
    "            throw new TypeErrorException(s\"Type mismatch in arithmetic/comparison/bool op $opName, Expected type $t1, obtained $t1hat\")\n",
    "        }\n",
    "        \n",
    "        val t2hat = typeOf(e2, alpha)\n",
    "        if (! typeEquals(t2hat, t2)){\n",
    "            throw new TypeErrorException(s\"Type mismatch in arithmetic/comparison/bool op $opName, Expected type $t2, obtained $t2hat\")\n",
    "        }\n",
    "        \n",
    "        resType\n",
    "    }\n",
    "    \n",
    "    e match {\n",
    "        case Const(f) => NumType\n",
    "        case Ident(s) => {if (alpha contains s)\n",
    "                             alpha(s)\n",
    "                          else \n",
    "                             throw TypeErrorException(s\"Unknown identifier $s\")}\n",
    "        case Plus(e1, e2) =>  checkType(\"Plus\", e1,  NumType, e2, NumType, NumType)\n",
    "        case Minus(e1, e2) => checkType(\"Minus\",e1,  NumType, e2, NumType, NumType)\n",
    "        case Geq(e1, e2) => checkType(\"Geq\", e1,  NumType, e2, NumType, BoolType)\n",
    "        case IfThenElse(e, e1, e2) => {\n",
    "            val t = typeOf(e, alpha)\n",
    "            if (t == BoolType){\n",
    "                val t1 = typeOf(e1, alpha)\n",
    "                val t2 = typeOf(e2, alpha)\n",
    "                if (typeEquals(t1, t2))\n",
    "                    t1\n",
    "                else \n",
    "                    throw TypeErrorException(s\"If then else returns unequal types $t1 and $t2\")\n",
    "            } else {\n",
    "                throw TypeErrorException(s\"If then else condition expression not boolean $t\")\n",
    "            }\n",
    "        }\n",
    "\n",
    "        case Let(x, t, e1, e2) => {\n",
    "            val t1 = typeOf(e1, alpha)\n",
    "            if (typeEquals(t1, t)){\n",
    "                val newAlpha = alpha + (x -> t)\n",
    "                typeOf(e2, newAlpha)\n",
    "            } else {\n",
    "                throw TypeErrorException(s\"Let binding has type $t whereas it is bound to expression of type $t1\")\n",
    "            }\n",
    "        }\n",
    "\n",
    "        case FunDef(x, t1, e) => {\n",
    "            val newAlpha = alpha + (x -> t1)\n",
    "            val t2 = typeOf(e, newAlpha)\n",
    "            FunType(t1, t2)\n",
    "        }\n",
    "\n",
    "        case FunCall(e1, e2) => {\n",
    "            val ftype = typeOf(e1, alpha)\n",
    "            ftype match {\n",
    "                case FunType(t1, t2) => {\n",
    "                    val argType = typeOf(e2, alpha)\n",
    "                    if (typeEquals(argType, t1)){\n",
    "                        t2\n",
    "                    } else {\n",
    "                        throw TypeErrorException(s\"Call to function with incompatible argument type. Expected $t1, obtained $argType\")\n",
    "                    }\n",
    "                }\n",
    "                case _ => { throw TypeErrorException(s\"Call to function but with a non function type $ftype\")}\n",
    "\n",
    "            }\n",
    "        }\n",
    "\n",
    "        case NewRef(e) => {\n",
    "            //BEGIN SOLUTION\n",
    "            val t = typeOf(e, alpha)\n",
    "            RefType(t)\n",
    "            //END SOLUTION\n",
    "        }\n",
    "        \n",
    "        case AssignRef(e1, e2) => {\n",
    "            //BEGIN SOLUTION\n",
    "            val t1 = typeOf(e1, alpha)\n",
    "            val t2 = typeOf(e2, alpha)\n",
    "            t1 match {\n",
    "                case RefType(tHat) => if (typeEquals(tHat, t2))\n",
    "                                         t2\n",
    "                                      else \n",
    "                                         throw new TypeErrorException(s\"Assignment of reference with type $tHat incompatible with value of type $t2\")\n",
    "                case _ => throw new TypeErrorException(s\"Assignment made to non reference type $t1\")\n",
    "            }\n",
    "            //END SOLUTION\n",
    "        }\n",
    "        \n",
    "        case DeRef(e) => {\n",
    "            //BEGIN SOLUTION\n",
    "            val t = typeOf(e, alpha)\n",
    "            t match {\n",
    "                case RefType(tHat) => tHat\n",
    "                case _ => throw new TypeErrorException(s\"Deref of non reference type $t\")\n",
    "            }\n",
    "            //END SOLUTION\n",
    "        }\n",
    "        \n",
    "    }\n",
    "}\n",
    "\n",
    "def typeOfProgram(p: Program) = p match {\n",
    "    case TopLevel(e) => {\n",
    "            val t = typeOf(e, Map())\n",
    "            println(s\"Program type computed successfully as $t\")\n",
    "            t\n",
    "    }\n",
    "}"
   ]
  },
  {
   "cell_type": "code",
   "execution_count": null,
   "metadata": {
    "nbgrader": {
     "grade": true,
     "grade_id": "cell-e6bbf61c650e47bb",
     "locked": true,
     "points": 2,
     "schema_version": 3,
     "solution": false,
     "task": false
    }
   },
   "outputs": [],
   "source": [
    "//BEGIN TEST\n",
    "\n",
    "/* \n",
    "let x : ref(num) = NewRef(10 ) in \n",
    "   let dummy: num = AssignRef(x, 30) in \n",
    "       DeRef(x)\n",
    "       */\n",
    "\n",
    "val p1 = Let(\"x\", RefType(NumType), NewRef(Const(10)), Let(\"dummy\", NumType, AssignRef(Ident(\"x\"), Const(30) ), DeRef(Ident(\"x\"))) )\n",
    "val t1 = typeOfProgram(TopLevel(p1))\n",
    "assert(t1 == NumType, \"Test 1 failed: answer should be NumType\")\n",
    "passed(2)\n",
    "//END TEST"
   ]
  },
  {
   "cell_type": "code",
   "execution_count": null,
   "metadata": {
    "nbgrader": {
     "grade": true,
     "grade_id": "cell-e80a253dd4c598ac",
     "locked": true,
     "points": 2,
     "schema_version": 3,
     "solution": false,
     "task": false
    }
   },
   "outputs": [],
   "source": [
    "//BEGIN TEST\n",
    "/* \n",
    "let x : ref(num) = NewRef(function(z: num) z + 10) in \n",
    "   let dummy: num = AssignRef(x, 30) in \n",
    "       DeRef(x)\n",
    "       */\n",
    "val fdef = FunDef(\"z\", NumType, Plus(Ident(\"z\"), Const(10)))\n",
    "val p2 = Let(\"x\", RefType(NumType), NewRef(fdef), Let(\"dummy\", NumType, AssignRef(Ident(\"x\"), Const(30) ), DeRef(Ident(\"x\"))) )\n",
    "val t2 = try {\n",
    "   typeOfProgram(TopLevel(p2))\n",
    "   assert(false, \"The program should not receive a type\")\n",
    "} catch {\n",
    "    case TypeErrorException(msg) => s\"OK -- caught a type error exception: $msg\"\n",
    "    case e => print(e); assert(false, \"Please throw TypeErrorException(message) when a type failure occurs\")\n",
    "}\n",
    "passed(2)\n",
    "//END TEST"
   ]
  },
  {
   "cell_type": "code",
   "execution_count": null,
   "metadata": {
    "nbgrader": {
     "grade": true,
     "grade_id": "cell-f6584c1da70c0ae8",
     "locked": true,
     "points": 2,
     "schema_version": 3,
     "solution": false,
     "task": false
    }
   },
   "outputs": [],
   "source": [
    "//BEGIN TEST\n",
    "/* \n",
    "let x : ref(num => num) = NewRef(function(z: num) z + 10) in \n",
    "   let dummy: num = AssignRef(x, 30) in \n",
    "       DeRef(x)\n",
    "       */\n",
    "val fdef = FunDef(\"z\", NumType, Plus(Ident(\"z\"), Const(10)))\n",
    "val p3 = Let(\"x\", RefType(FunType(NumType, NumType)), NewRef(fdef), Let(\"dummy\", NumType, AssignRef(Ident(\"x\"), Const(30) ), DeRef(Ident(\"x\"))) )\n",
    "val t3 = try {\n",
    "   typeOfProgram(TopLevel(p3))\n",
    "   assert(false, \"The program should not receive a type\")\n",
    "} catch {\n",
    "    case TypeErrorException(msg) => s\"OK -- caught a type error exception: $msg\"\n",
    "    case e => print(e); assert(false, \"Please throw TypeErrorException(message) when a type failure occurs\")\n",
    "}\n",
    "passed(2)\n",
    "//END TEST"
   ]
  },
  {
   "cell_type": "code",
   "execution_count": null,
   "metadata": {
    "nbgrader": {
     "grade": true,
     "grade_id": "cell-9060540ef32281bd",
     "locked": true,
     "points": 2,
     "schema_version": 3,
     "solution": false,
     "task": false
    }
   },
   "outputs": [],
   "source": [
    "//BEGIN TEST\n",
    "/* \n",
    "let x : ref(num => num) = NewRef(function(z: num) z + 10) in \n",
    "   let dummy: num = AssignRef(NewRef(35), 30) in \n",
    "       DeRef(x)\n",
    "       */\n",
    "val fdef = FunDef(\"z\", NumType, Plus(Ident(\"z\"), Const(10)))\n",
    "val p4 = Let(\"x\", RefType(FunType(NumType, NumType)), NewRef(fdef), Let(\"dummy\", NumType, AssignRef(NewRef(Const(35)), Const(30) ), DeRef(Ident(\"x\"))) )\n",
    "val t4 =  typeOfProgram(TopLevel(p4))\n",
    "assert(t4 == FunType(NumType, NumType), \"Test failed\")\n",
    "passed(2)\n",
    "//END TEST"
   ]
  },
  {
   "cell_type": "code",
   "execution_count": null,
   "metadata": {
    "nbgrader": {
     "grade": true,
     "grade_id": "cell-b63b128c12f0247d",
     "locked": true,
     "points": 2,
     "schema_version": 3,
     "solution": false,
     "task": false
    }
   },
   "outputs": [],
   "source": [
    "//BEGIN TEST\n",
    "\n",
    "val y = Ident(\"y\")\n",
    "val x = Ident(\"x\")\n",
    "val z = Ident(\"z\")\n",
    "val t1 = RefType(NumType)\n",
    "val t2 = FunType(t1, NumType)\n",
    "val t3 = RefType(t2)\n",
    "\n",
    "val v1 = FunCall(DeRef(y), x)\n",
    "val v2 = Let(\"z\", RefType(BoolType), NewRef(Geq(DeRef(x), Const(25))), v1)\n",
    "val fdef = FunDef(\"z\", RefType(NumType), Plus(DeRef(z), DeRef(x)))\n",
    "val v3 = Let(\"y\", t3, NewRef(fdef), v2)\n",
    "val v4 = Let(\"x\", t1, NewRef(Const(10)), v3)\n",
    "\n",
    "val p5 = TopLevel(v4)\n",
    "assert(typeOfProgram(p5) == NumType, \"Test failed\")\n",
    "passed(2)\n",
    "\n",
    "//END TEST"
   ]
  },
  {
   "cell_type": "markdown",
   "metadata": {
    "nbgrader": {
     "grade": false,
     "grade_id": "cell-fc669f259da557f7",
     "locked": true,
     "schema_version": 3,
     "solution": false
    }
   },
   "source": [
    "## Problem 2 (20 points): Objects in Scala\n",
    "\n",
    "### A (12 points)\n",
    "Consider the class below for an employee record in an organization that has three fields `name`, `eid` (employee id) and `salary`.\n",
    "\n",
    "1) As given, scala will complain that class employee cannot extend the abstract class People. Add the missing methods to enable the class Employee to properly extend People\n",
    "\n",
    "2) Write a factory pattern that takes in a formatted string of the form \"John Doe,29585,33110\" consisting of a string and two numbers, to extract the name and salaries for each employee. You may want to use `scala.util.matching.Regex` [https://www.scala-lang.org/api/2.9.2/scala/util/matching/Regex.html]\n",
    "If the input fails to match the pattern, an `IllegalArgumentException` must be thrown\n",
    "\n",
    "Companion objects are covered in scala book Chapter 4.3. Also lookup here: https://alvinalexander.com/scala/factory-pattern-in-scala-design-patterns"
   ]
  },
  {
   "cell_type": "code",
   "execution_count": null,
   "metadata": {
    "nbgrader": {
     "grade": false,
     "grade_id": "cell-f80a491b407a7ab7",
     "locked": false,
     "schema_version": 3,
     "solution": true
    }
   },
   "outputs": [],
   "source": [
    "import scala.util.matching.Regex\n",
    "\n",
    "abstract class People {\n",
    "    /* I need the ability to convert every person to a string */\n",
    "    def toString: String\n",
    "    /* I need the ability to check if two people are the same */\n",
    "    def equals (p: People): Boolean\n",
    "}\n",
    "\n",
    "/* \n",
    "  Note that for an employee to be equal to an object of type People, that object\n",
    "  must be an employee with matching eid number \n",
    "*/\n",
    "\n",
    "class Employee( val name: String, val eid: Int, var salary: Int) extends People {\n",
    "    //BEGIN SOLUTION\n",
    "    override def toString: String = {\n",
    "       (s\"Employee Name: $name, EID: $eid, Salary: $salary\")\n",
    "    }\n",
    "    \n",
    "    override def equals(p: People): Boolean = {\n",
    "        if (p.isInstanceOf[Employee]){\n",
    "            val q = p.asInstanceOf[Employee]\n",
    "            q.eid == this.eid\n",
    "        } else \n",
    "            false\n",
    "        \n",
    "    }\n",
    "    //END SOLUTION\n",
    "}\n",
    "\n",
    "object Employee {\n",
    "    def apply(formattedInput: String): Employee = {\n",
    "        /* \n",
    "        Input format must be \n",
    "        (full name with possible spaces)[optional whitespaces],[optional whitespaces](employee ID number)[optional whitespaces],[optional whitespaces](employee salary)\n",
    "        */\n",
    "        //BEGIN SOLUTION\n",
    "        val rex = raw\"([A-Za-z ]*)\\s*,\\s*(\\d+)\\s*,\\s*(\\d+)\".r\n",
    "        formattedInput match {\n",
    "            case rex(name, i1, i2) => { new Employee(name.trim, i1.toInt, i2.toInt)}\n",
    "            case _ => throw new IllegalArgumentException(s\"Badly formatted input $formattedInput\")\n",
    "        }\n",
    "        //END SOLUTION\n",
    "    }\n",
    "}"
   ]
  },
  {
   "cell_type": "code",
   "execution_count": null,
   "metadata": {
    "nbgrader": {
     "grade": true,
     "grade_id": "cell-e1ec3bf75d6f6de5",
     "locked": true,
     "points": 4,
     "schema_version": 3,
     "solution": false
    }
   },
   "outputs": [],
   "source": [
    "//BEGIN TEST\n",
    "val e1 = Employee(\"Jonathan Doe, 12893, 39813\")\n",
    "println(e1.toString)\n",
    "assert(e1.name == \"Jonathan Doe\", \"Failed\")\n",
    "assert(e1.eid == 12893, \"Failed\")\n",
    "assert(e1.salary == 39813, \"Failed\")\n",
    "assert(e1.equals(new Employee(\"whoknows\", 12893, 39813)))\n",
    "passed(4)\n",
    "//END TEST"
   ]
  },
  {
   "cell_type": "code",
   "execution_count": null,
   "metadata": {
    "nbgrader": {
     "grade": true,
     "grade_id": "cell-9d823f9842fd95a7",
     "locked": true,
     "points": 4,
     "schema_version": 3,
     "solution": false
    }
   },
   "outputs": [],
   "source": [
    "//BEGIN TEST\n",
    "try {\n",
    "    val e2 = Employee(\"Badly Formatted String, 29812, $3102\")\n",
    "    assert(false, \"Failed, the string is badly formatted but your code is OK with it.\")\n",
    "} catch {\n",
    "    case e => println(s\"Expected behavior seen\")\n",
    "}\n",
    "passed(4)\n",
    "//END TEST"
   ]
  },
  {
   "cell_type": "code",
   "execution_count": null,
   "metadata": {
    "nbgrader": {
     "grade": true,
     "grade_id": "cell-00d1907d97c7da69",
     "locked": true,
     "points": 4,
     "schema_version": 3,
     "solution": false
    }
   },
   "outputs": [],
   "source": [
    "//BEGIN TEST\n",
    "val e1 = Employee(\"Janet Maria Catherine Doe    , 12894   , 121331\")\n",
    "println(e1.toString)\n",
    "assert(e1.name == \"Janet Maria Catherine Doe\", \"Failed\")\n",
    "assert(e1.eid == 12894, \"Failed\")\n",
    "assert(e1.salary == 121331, \"Failed\")\n",
    "assert(e1.equals(new Employee(\"random\", 12894, 121332)))\n",
    "passed(4)\n",
    "//END TEST"
   ]
  },
  {
   "cell_type": "markdown",
   "metadata": {
    "nbgrader": {
     "grade": false,
     "grade_id": "cell-67af0a2a1259bfec",
     "locked": true,
     "schema_version": 3,
     "solution": false
    }
   },
   "source": [
    "### B (8 points)\n",
    "We wish to add a new class of people to our system. These are \"Contractor\" with the information associated should involve their name (string), contract ID (Integer) and contract supervisor (Employee).\n",
    "\n",
    "Write a new class named `Contractor` whose constructor should take in the name of the person (String), their ID number (Integer) and Supervisor (Employee) and extend from People. \n",
    "\n",
    "A contractor object is equal to an object p of type People, only if p is actually an instance of contractor, and if their names are the same and they have the same contract ID number."
   ]
  },
  {
   "cell_type": "code",
   "execution_count": null,
   "metadata": {
    "nbgrader": {
     "grade": false,
     "grade_id": "cell-97ab958367cfbd0a",
     "locked": false,
     "schema_version": 3,
     "solution": true
    }
   },
   "outputs": [],
   "source": [
    "//BEGIN SOLUTION\n",
    "class Contractor (val name: String, val idNumber: Int, val e: Employee) extends People {\n",
    "    override def toString: String = s\"Contractor $name, id: $idNumber, supervisor: $e\"\n",
    "    override def equals(p: People) = {\n",
    "        if (p.isInstanceOf[Contractor]){\n",
    "            val q = p.asInstanceOf[Contractor]\n",
    "            (q.name == name) && (q.idNumber == idNumber)\n",
    "        } else false\n",
    "    }\n",
    "}\n",
    "//END SOLUTION"
   ]
  },
  {
   "cell_type": "code",
   "execution_count": null,
   "metadata": {
    "nbgrader": {
     "grade": true,
     "grade_id": "cell-82cc00e175a12efe",
     "locked": true,
     "points": 4,
     "schema_version": 3,
     "solution": false
    }
   },
   "outputs": [],
   "source": [
    "//BEGIN TEST\n",
    "val e1 = Employee(\"Jonathan Doe, 12893, 39813\")\n",
    "val c1 = new Contractor(\"John Contract Worker\", 12093, e1)\n",
    "assert( !c1.equals(e1), \"Failed\")\n",
    "assert( c1.equals(c1), \"Failed\")\n",
    "passed(4)\n",
    "//END TEST"
   ]
  },
  {
   "cell_type": "code",
   "execution_count": null,
   "metadata": {
    "nbgrader": {
     "grade": true,
     "grade_id": "cell-62fa2e0b66f58862",
     "locked": true,
     "points": 4,
     "schema_version": 3,
     "solution": false
    }
   },
   "outputs": [],
   "source": [
    "//BEGIN TEST\n",
    "val e1 = Employee(\"Jonathan Doe, 12893, 39813\")\n",
    "val e2 = Employee(\"Jane Doe, 12894, 43814\")\n",
    "val c1 = new Contractor(\"John Contract Worker\", 12093, e2)\n",
    "val c2 = new Contractor(\"John Contract Worker\", 12093, e1)\n",
    "assert( c1.equals(c2), \"Failed\")\n",
    "passed(4)\n",
    "//END TEST"
   ]
  },
  {
   "cell_type": "markdown",
   "metadata": {
    "nbgrader": {
     "grade": false,
     "grade_id": "cell-0117fb3b4cff7be1",
     "locked": true,
     "schema_version": 3,
     "solution": false
    }
   },
   "source": [
    "## Problem 3 (10 points): Traits in Scala\n",
    "\n",
    "For this problem, we have defined two traits: `NumberOfLegs` that helps us define how many legs a given animal has and `WarmBlooded` that applies to warm blooded animals."
   ]
  },
  {
   "cell_type": "code",
   "execution_count": null,
   "metadata": {
    "nbgrader": {
     "grade": false,
     "grade_id": "cell-a6b29f417cfcdb22",
     "locked": true,
     "schema_version": 3,
     "solution": false
    }
   },
   "outputs": [],
   "source": [
    "abstract class Animal \n",
    "\n",
    "trait NumberOfLegs {\n",
    "    val nLegs: Int\n",
    "    def getNumberOfLegs: Int = nLegs\n",
    "}\n",
    "\n",
    "trait WarmBlooded extends Animal {\n",
    "    val bodyTempMaintained: Double\n",
    "    def getBodyTemp: Double = bodyTempMaintained \n",
    "}"
   ]
  },
  {
   "cell_type": "markdown",
   "metadata": {
    "nbgrader": {
     "grade": false,
     "grade_id": "cell-abf7a17d89f0fb99",
     "locked": true,
     "schema_version": 3,
     "solution": false
    }
   },
   "source": [
    "### A (5 points)\n",
    "\n",
    "Define a class `Human` that inherits from `Animal` and mixes in the traits `NumberOfLegs` with `nLegs = 2` and `WarmBlooded` with `bodyTempMaintained = 98`. The class `Human` must take in a parameter called `name` of type `String` and implement a `getName` method without any parameters."
   ]
  },
  {
   "cell_type": "code",
   "execution_count": null,
   "metadata": {
    "nbgrader": {
     "grade": false,
     "grade_id": "cell-e7a4a9275bd24e24",
     "locked": false,
     "schema_version": 3,
     "solution": true
    }
   },
   "outputs": [],
   "source": [
    "//BEGIN SOLUTION\n",
    "class Human(val name: String) extends Animal with NumberOfLegs with WarmBlooded {\n",
    "    override val nLegs:Int = 2\n",
    "    val bodyTempMaintained = 98.0\n",
    "    def getName: String = name\n",
    "}\n",
    "//END SOLUTION"
   ]
  },
  {
   "cell_type": "code",
   "execution_count": null,
   "metadata": {
    "nbgrader": {
     "grade": true,
     "grade_id": "cell-f9b7ae8902326372",
     "locked": true,
     "points": 5,
     "schema_version": 3,
     "solution": false
    }
   },
   "outputs": [],
   "source": [
    "//BEGIN TEST\n",
    "val t1 = new Human(\"Jane Smith\")\n",
    "assert(t1.getNumberOfLegs == 2, \"Your human does not have two legs\")\n",
    "assert(t1.bodyTempMaintained == 98.0, \"Your human does not maintain a body temp of 98\")\n",
    "assert(t1.getBodyTemp == 98.0, \"Your human's getBodyTemp Function is not working\")\n",
    "assert(t1.getName == \"Jane Smith\", \"Your human's name is not setting correctly\")\n",
    "passed(5)\n",
    "//END TEST"
   ]
  },
  {
   "cell_type": "markdown",
   "metadata": {
    "nbgrader": {
     "grade": false,
     "grade_id": "cell-439f7e10a3556ae4",
     "locked": true,
     "schema_version": 3,
     "solution": false
    }
   },
   "source": [
    "### B (5 points)\n",
    "Define a class named `Table` that mixes in the trait `NumberOfLegs` with `nLegs = 4`. \n",
    "\n",
    "_Note:_ `Table` cannot mixin the trait `WarmBlooded` (make sure you understand why that is as a quick check of concepts)."
   ]
  },
  {
   "cell_type": "code",
   "execution_count": null,
   "metadata": {
    "nbgrader": {
     "grade": false,
     "grade_id": "cell-8145df690b6f6588",
     "locked": false,
     "schema_version": 3,
     "solution": true
    }
   },
   "outputs": [],
   "source": [
    "//BEGIN SOLUTION\n",
    "class Table extends NumberOfLegs {\n",
    "    val nLegs = 4\n",
    "}\n",
    "//END SOLUTION"
   ]
  },
  {
   "cell_type": "code",
   "execution_count": null,
   "metadata": {
    "nbgrader": {
     "grade": true,
     "grade_id": "cell-d34b29b062b93894",
     "locked": true,
     "points": 5,
     "schema_version": 3,
     "solution": false
    }
   },
   "outputs": [],
   "source": [
    "//BEGIN TEST\n",
    "val tbl = new Table()\n",
    "assert(tbl.getNumberOfLegs == 4, \"A Table must have four legs\")\n",
    "passed(5)\n",
    "//END TEST"
   ]
  }
 ],
 "metadata": {
  "celltoolbar": "Create Assignment",
  "kernelspec": {
   "display_name": "Scala",
   "language": "scala",
   "name": "scala"
  },
  "language_info": {
   "codemirror_mode": "text/x-scala",
   "file_extension": ".scala",
   "mimetype": "text/x-scala",
   "name": "scala",
   "nbconvert_exporter": "script",
   "version": "2.12.8"
  }
 },
 "nbformat": 4,
 "nbformat_minor": 2
}

