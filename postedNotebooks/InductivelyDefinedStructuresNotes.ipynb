{
 "cells": [
  {
   "cell_type": "markdown",
   "metadata": {},
   "source": [
    "# Inductive Definitions, Grammars and Syntax Trees\n",
    "\n",
    "\n",
    "This weeks lecture is about inductive definitions: A very important form that can be used to define a lot of rich structures. In turn, we can use inductive definitions to design and implement programming languages \n",
    "\n",
    "We will sue inductive definitions for a variety of purposes starting from defining 'numbers', lists, trees, syntax tree, expressions and so on. Learning how to define these and implement various important operations on them will be the absolute core of this class \n",
    "\n",
    "## The Natural Numbers\n",
    "The set of natural numbers = { 0,1,2,...,} has an inductive definition that we will state in three different ways\n",
    "\n",
    "\n",
    "### Inductive Definition in English \n",
    "\n",
    "Natural numbers are defined inductively using the following rules:\n",
    "__R0__: THe symbol Z is a natural number (Z = number 0)\n",
    "__R1__: If 's' is a natural number then succ(s) is a natural number\n",
    "__R2__: Nothing else is a natural number\n",
    "\n",
    "\n",
    "This definition provides us a handle to generate the set of natural numbers N in countably-many stages. \n",
    "\n",
    "n0 = {z}\n",
    "n1 = {z,succ(z)}\n",
    "n2 = {z,succ(z),succ(succ(z))}\n",
    ".\n",
    ".\n",
    ".\n",
    "n(k) = {z,succ(z),succ(succ(z)).. succ(...succ(z))}\n",
    "\n",
    "The strings Z, succ(Z), succ(succ(Z)) are known as __terms__. \n",
    "\n",
    "we can identify every number k with the term succ^{k}(Z). \n",
    "\n",
    "\n",
    "## Inductive Definition as a Generative Grammars\n",
    "\n",
    "The english definition soon becomes a pain to keep writing. Therefore we define a generative grammar that generates the same definition as a convenient mathematic shorthand. The grammar is as follows. \n",
    "\n",
    "    Number ->  Z\n",
    "    Number ->  succ(Number) \n",
    "    \n",
    "Lets make have more sense by giving names to every part\n",
    "    -Nonterminal: The symbol 'Number' is a non terminal\n",
    "    -Terminals: The symbols 'Z', succ are called terminals\n",
    "    -Rules: There are two rules in this grammar \n",
    "        - Number -> Z\n",
    "        - Number -> succ(Number) \n",
    "        translating these rules into plain english we get. \n",
    "        __R0__ The term consiting of just the symbol Z is a number\n",
    "       __R1__ if the term t is a number then succ(t) is also a number\n",
    "       \n",
    "     - Starting symbol (non-terminal): We designate one of the nonterminals of the grammar as starting. Here there is just one such non terminal 'Number' and therefore it is the starting symbol \n",
    "     \n",
    "\n",
    "## __Defintion (Generative Grammar)__\n",
    "\n",
    "A generative grammar is defined by three components: \n",
    "    - A set of nonterminals \n",
    "    - A set of terminals \n",
    "    - A set of rules \n",
    "    \n",
    "    \n",
    "    Each rule has the form \n",
    "    \n",
    "## __NonTerminalSymbol__  \n",
    "    '->' (a term involving non-/terminal symbols) \n",
    "    \n",
    "    \n",
    "    instead of wriitng out each rule, we collect rules with a common left hand side and use the OR symbol | to separate them. \n",
    "    For exmample, we can write the very same grammar for the natural numbers as \n",
    "    \n",
    "        Number -> Z | succ(Number)\n",
    "        \n",
    "        \n",
    "\n",
    "## Derivations\n",
    "\n",
    "Every term genearted by the grammar is derived from the starting symbol by the application of grammar rules \n",
    "\n",
    "examples\n",
    "\n",
    "    succ(Z)\n",
    "        * Number -> succ(Number) -> succ(Z)\n",
    "        \n",
    "    succ(succ(succ(Z))))\n",
    "        * Number -> succ(Number) -> succ(succ(Number)) -> \n",
    "        succ(succ(succ(Number))) -> succ(succ(succ(Number)))\n",
    "        \n",
    "## Inductive Defintion in Scala\n",
    "\n",
    "Scala (and indeed many other languages) have a way for us to provide inductive definitions. We do so in scala using the class inheritance mechanism as follows"
   ]
  },
  {
   "cell_type": "code",
   "execution_count": 1,
   "metadata": {},
   "outputs": [
    {
     "data": {
      "text/plain": [
       "defined \u001b[32mtrait\u001b[39m \u001b[36mNumber\u001b[39m\n",
       "defined \u001b[32mclass\u001b[39m \u001b[36mZ\u001b[39m\n",
       "defined \u001b[32mclass\u001b[39m \u001b[36mSucc\u001b[39m"
      ]
     },
     "execution_count": 1,
     "metadata": {},
     "output_type": "execute_result"
    }
   ],
   "source": [
    "// Defining a non-terminal?\n",
    "sealed trait Number \n",
    "/*\n",
    "Sealed tells scala that everything else that defines a Number\n",
    "is part of the current file. Thus, classes defined in a different\n",
    "file cannot extend Number\n",
    "A trait in scala is like an abstract class: you cannot create an \n",
    "instance of it but you are welcome to write class that\n",
    "inherit from it \n",
    "*/\n",
    "\n",
    "case class Z() extends Number\n",
    "/*\n",
    "The symbol Z is a class that extends number. \n",
    "this models the grammar Number->Z\n",
    "we write case class instead of just class. \n",
    "This is again a convinient practice. \n",
    "case classes com ewith predefined equals method, \n",
    "toString method and apply method that are predefined. \n",
    "That way we do not have to write these ourselves\n",
    "*/\n",
    "\n",
    "// does this just take the input and wrap a Succ() around it? \n",
    "case class Succ(n : Number) extends Number\n",
    "/* \n",
    "this models the production rule Number -> Succ(Number)\n",
    "Succ should be capitalized because all class names in Scala are to be. \n",
    "Note the argument n: Number'*/"
   ]
  },
  {
   "cell_type": "code",
   "execution_count": 2,
   "metadata": {},
   "outputs": [
    {
     "data": {
      "text/plain": [
       "\u001b[36mzero\u001b[39m: \u001b[32mZ\u001b[39m = Z()"
      ]
     },
     "execution_count": 2,
     "metadata": {},
     "output_type": "execute_result"
    }
   ],
   "source": [
    "// Number -> Z\n",
    "val zero = Z();"
   ]
  },
  {
   "cell_type": "code",
   "execution_count": 3,
   "metadata": {},
   "outputs": [
    {
     "data": {
      "text/plain": [
       "\u001b[36mfive\u001b[39m: \u001b[32mSucc\u001b[39m = \u001b[33mSucc\u001b[39m(\u001b[33mSucc\u001b[39m(\u001b[33mSucc\u001b[39m(\u001b[33mSucc\u001b[39m(\u001b[33mSucc\u001b[39m(Z())))))"
      ]
     },
     "execution_count": 3,
     "metadata": {},
     "output_type": "execute_result"
    }
   ],
   "source": [
    "// getting the value five through derivations\n",
    "val five = Succ(Succ(Succ(Succ(Succ(zero)))))"
   ]
  },
  {
   "cell_type": "code",
   "execution_count": 4,
   "metadata": {},
   "outputs": [
    {
     "data": {
      "text/plain": [
       "\u001b[36mten\u001b[39m: \u001b[32mSucc\u001b[39m = \u001b[33mSucc\u001b[39m(\u001b[33mSucc\u001b[39m(\u001b[33mSucc\u001b[39m(\u001b[33mSucc\u001b[39m(\u001b[33mSucc\u001b[39m(\u001b[33mSucc\u001b[39m(\u001b[33mSucc\u001b[39m(\u001b[33mSucc\u001b[39m(\u001b[33mSucc\u001b[39m(\u001b[33mSucc\u001b[39m(Z()))))))))))"
      ]
     },
     "execution_count": 4,
     "metadata": {},
     "output_type": "execute_result"
    }
   ],
   "source": [
    "val ten = Succ(Succ(Succ(Succ(Succ(five)))))"
   ]
  },
  {
   "cell_type": "code",
   "execution_count": 5,
   "metadata": {},
   "outputs": [
    {
     "data": {
      "text/plain": [
       "\u001b[36meleven\u001b[39m: \u001b[32mSucc\u001b[39m = \u001b[33mSucc\u001b[39m(\n",
       "  \u001b[33mSucc\u001b[39m(\u001b[33mSucc\u001b[39m(\u001b[33mSucc\u001b[39m(\u001b[33mSucc\u001b[39m(\u001b[33mSucc\u001b[39m(\u001b[33mSucc\u001b[39m(\u001b[33mSucc\u001b[39m(\u001b[33mSucc\u001b[39m(\u001b[33mSucc\u001b[39m(\u001b[33mSucc\u001b[39m(Z()))))))))))\n",
       ")"
      ]
     },
     "execution_count": 5,
     "metadata": {},
     "output_type": "execute_result"
    }
   ],
   "source": [
    "val eleven = Succ(ten)"
   ]
  },
  {
   "cell_type": "code",
   "execution_count": 6,
   "metadata": {},
   "outputs": [
    {
     "data": {
      "text/plain": [
       "\u001b[36mequationTest1\u001b[39m: \u001b[32mBoolean\u001b[39m = true"
      ]
     },
     "execution_count": 6,
     "metadata": {},
     "output_type": "execute_result"
    }
   ],
   "source": [
    "val equationTest1 = Succ(ten) == eleven\n",
    "// == is predefined for us "
   ]
  },
  {
   "cell_type": "code",
   "execution_count": 7,
   "metadata": {},
   "outputs": [
    {
     "data": {
      "text/plain": [
       "\u001b[36meq2\u001b[39m: \u001b[32mBoolean\u001b[39m = false"
      ]
     },
     "execution_count": 7,
     "metadata": {},
     "output_type": "execute_result"
    }
   ],
   "source": [
    "val eq2 = Succ(Succ(Succ(Succ(five)))) == eleven"
   ]
  },
  {
   "cell_type": "code",
   "execution_count": 8,
   "metadata": {},
   "outputs": [
    {
     "name": "stdout",
     "output_type": "stream",
     "text": [
      "(Five = ,Succ(Succ(Succ(Succ(Succ(Z()))))))"
     ]
    }
   ],
   "source": [
    "print(\"Five = \", five); "
   ]
  },
  {
   "cell_type": "markdown",
   "metadata": {},
   "source": [
    "## List of Numbers\n",
    "\n",
    "We can now extend our inductive definition to define lists of numbers. We will directly write down a grammar for it\n",
    "\n",
    "$$\\begin{array}{ccccc}\n",
    "\\textbf{NumList} & \\rightarrow & Nil &\\ |\\  & Cons(\\textbf{Num}, \\textbf{NumList}) \\\\\n",
    "\\textbf{Num} & \\rightarrow & 0 \\ |\\ 1\\ |\\ 2\\ |\\ 3\\ |\\ 4\\ |\\ \\cdots \\\\\n",
    "\\end{array}$$"
   ]
  },
  {
   "cell_type": "markdown",
   "metadata": {},
   "source": [
    "The grammar has two non terminals __Numlist__ and __Num__. We are only interested in terms that are produced starting from __Numlist__. There are two important terminals 'Nil', 'Cons' that stand for the empty list and the appending a number the front of a list. Then there are infinetaly many non terminals that are just natural numbers 0,1,2 ... These represent the elements that we can add to the list. Note that there are infinetaly many rules which express that __Num__ can be any natual. But the interesting rules for us include __NumList__ -> Nil and __Numlist__ -> Cons(__Num__,__Numlist__)"
   ]
  },
  {
   "cell_type": "markdown",
   "metadata": {},
   "source": [
    "Let us generate examples of valid lists from this rule\n",
    "Might be easier to read these rules backward to make more sense of it\n",
    "* Cons(3,Nil)\n",
    "    NumList -> Nil -> Cons(3,Nil)\n",
    "    -> Cons(3,Nil) \n",
    "    \n",
    "* Cons(3,Cons(7,Nil))\n",
    "    NumList -> Nil -> Cons(7,Nil) -> Cons(3,(Cons(7,Nil)))"
   ]
  },
  {
   "cell_type": "markdown",
   "metadata": {},
   "source": [
    "Practice Exercises\n",
    "    - Can you find out how to generate Cons(4,Cons(4,Cons(4,Nil))\n",
    "    - Write down the term that corresponds to the scala list:\n",
    "        List(1,2,3,4)\n",
    "    - What is the scala list corresonding to Cons(3,Cons(7,Nil))?"
   ]
  },
  {
   "cell_type": "code",
   "execution_count": 9,
   "metadata": {},
   "outputs": [
    {
     "data": {
      "text/plain": [
       "defined \u001b[32mtrait\u001b[39m \u001b[36mNumList\u001b[39m\n",
       "defined \u001b[32mobject\u001b[39m \u001b[36mNil\u001b[39m\n",
       "defined \u001b[32mclass\u001b[39m \u001b[36mCons\u001b[39m"
      ]
     },
     "execution_count": 9,
     "metadata": {},
     "output_type": "execute_result"
    }
   ],
   "source": [
    "sealed trait NumList\n",
    "// we defined a trat for NumList -- The symbol that generates the list\n",
    "\n",
    "case object Nil extends NumList\n",
    "/*\n",
    "We made a subtle change from \"class\" to \"object\" In scala a \"class\" defines a type\n",
    "that we can generate new instances of, object simply telss scala there is exactly one \n",
    "instance of Nil that we will ever need to create.\n",
    "These are called \"companion objects\" in scala and very useful. \n",
    "As a benefit, I do not have to write () \n",
    "after the Nil (name of object) now :-)\n",
    "*/\n",
    "\n",
    "case class Cons(hd: Int, t1: NumList) extends NumList\n",
    "/*\n",
    "This tells ust aht Cons applies to a native scala\n",
    "integer ( I deviated from the defintion in the grammar in this regard)\n",
    "*/"
   ]
  },
  {
   "cell_type": "code",
   "execution_count": 13,
   "metadata": {},
   "outputs": [
    {
     "data": {
      "text/plain": [
       "\u001b[36mempList\u001b[39m: \u001b[32mNil\u001b[39m = Nil\n",
       "\u001b[36ml1\u001b[39m: \u001b[32mCons\u001b[39m = \u001b[33mCons\u001b[39m(\u001b[32m3\u001b[39m, Nil)\n",
       "\u001b[36ml2\u001b[39m: \u001b[32mCons\u001b[39m = \u001b[33mCons\u001b[39m(\u001b[32m3\u001b[39m, \u001b[33mCons\u001b[39m(\u001b[32m7\u001b[39m, Nil))\n",
       "\u001b[36ml3\u001b[39m: \u001b[32mCons\u001b[39m = \u001b[33mCons\u001b[39m(\u001b[32m7\u001b[39m, \u001b[33mCons\u001b[39m(\u001b[32m3\u001b[39m, Nil))\n",
       "\u001b[36meq1\u001b[39m: \u001b[32mBoolean\u001b[39m = false"
      ]
     },
     "execution_count": 13,
     "metadata": {},
     "output_type": "execute_result"
    }
   ],
   "source": [
    "val empList = Nil;  // creating the singular object \n",
    "val l1 = Cons(3,Nil)    // appending '3' to the empty list\n",
    "val l2 = Cons(3, Cons(7,Nil)); // appending '3' to the list of 7 and emptylist\n",
    "val l3 = Cons(7,l1); //\n",
    "\n",
    "val eq1 = (l2 == l1);"
   ]
  },
  {
   "cell_type": "code",
   "execution_count": 14,
   "metadata": {},
   "outputs": [
    {
     "name": "stdout",
     "output_type": "stream",
     "text": [
      "list l1 is Cons(3,Nil)\n",
      "list l2 is Cons(3,Cons(7,Nil))\n",
      "list l3 is Cons(7,Cons(3,Nil))\n"
     ]
    }
   ],
   "source": [
    "println(s\"list l1 is $l1\")\n",
    "println(s\"list l2 is $l2\")\n",
    "println(s\"list l3 is $l3\")\n"
   ]
  },
  {
   "cell_type": "markdown",
   "metadata": {},
   "source": [
    "## Terms as Trees\n",
    "\n",
    "We will now introduce the concept of visualizing terms as trees to make it easy to see what is happening\n",
    "\n",
    "consider the term \n",
    "    Cons(3,Cons(7,Cons(10,Nil))). Such a term can be viewed as a tree: \n",
    "    \n",
    "    \n",
    "                        Cons\n",
    "                      /     \\\n",
    "                     3       Cons\n",
    "                              /   \\\n",
    "                              7     Cons\n",
    "                                   /    \\\n",
    "                                  10    Nil"
   ]
  },
  {
   "cell_type": "markdown",
   "metadata": {},
   "source": [
    "## Alternative Grammar for Lists of Numbers \n",
    "\n",
    "We can connect the grammar for __NumLists__ with the grammar for __Numbers__ we wrote \n",
    "previously as follows: \n",
    "   \n",
    "   $$\\begin{array}{ccccc}\n",
    "\\textbf{NumList} & \\rightarrow & Nil &\\ |\\  & Cons(\\textbf{Num}, \\textbf{NumList}) \\\\\n",
    "\\textbf{Num} & \\rightarrow & Z & | & succ(Z) \\\\\n",
    "\\end{array}$$\n",
    "\n",
    "\n",
    "## Binary Tree of Numbers \n",
    "   Tress are very important inductively defined data structure. We will write a grammar to defina simply binary tree as follows \n",
    "   \n",
    "   $$\\begin{array}{rclclcl}\n",
    "\\textbf{NumTree} & \\rightarrow & Leaf & \\ |\\ & Node(\\textbf{Num}, \\textbf{NumTree}, \\textbf{NumTree}) \\\\\n",
    "\\textbf{Num} & \\rightarrow & 0 \\ |\\ 1\\ |\\ 2\\ | \\ 3 \\ |\\ \\cdots \\\\\n",
    "\\end{array}$$\n",
    "\n",
    "\n",
    "The simplest tree is denoted by the terminal Leaf \n",
    "\n",
    "A tree can then be constructed as a node denoted by the terminal Node, which has a number __Num__ associated with it and two substrees that form the arguments\n",
    "\n",
    "Let us now see some examples of trees pictorially and the associated terms in the grammar\n",
    "\n",
    "\n",
    "\n",
    "__Node(5,Leaf,Leaf)__\n",
    "\n",
    "                     5\n",
    "                   /  \\\n",
    "                  Leaf Leaf\n",
    "                  \n",
    "                  \n",
    "__Node(4,Node(8, Leaf,Leaf),Leaf)__\n",
    "\n",
    "                       4\n",
    "                     /   \\\n",
    "                   Leaf   8\n",
    "                         /  \\\n",
    "                        Leaf Leaf\n",
    "                 "
   ]
  },
  {
   "cell_type": "code",
   "execution_count": 16,
   "metadata": {},
   "outputs": [
    {
     "data": {
      "text/plain": [
       "defined \u001b[32mtrait\u001b[39m \u001b[36mNumTree\u001b[39m\n",
       "defined \u001b[32mobject\u001b[39m \u001b[36mLeaf\u001b[39m\n",
       "defined \u001b[32mclass\u001b[39m \u001b[36mNode\u001b[39m"
      ]
     },
     "execution_count": 16,
     "metadata": {},
     "output_type": "execute_result"
    }
   ],
   "source": [
    "sealed trait NumTree\n",
    "case object Leaf extends NumTree\n",
    "case class Node(n: Int, left:NumTree, right:NumTree) extends NumTree"
   ]
  },
  {
   "cell_type": "code",
   "execution_count": 17,
   "metadata": {},
   "outputs": [
    {
     "data": {
      "text/plain": [
       "\u001b[36mt1\u001b[39m: \u001b[32mNode\u001b[39m = \u001b[33mNode\u001b[39m(\u001b[32m5\u001b[39m, Leaf, Leaf)\n",
       "\u001b[36mt2\u001b[39m: \u001b[32mNode\u001b[39m = \u001b[33mNode\u001b[39m(\u001b[32m4\u001b[39m, \u001b[33mNode\u001b[39m(\u001b[32m8\u001b[39m, Leaf, Leaf), Leaf)\n",
       "\u001b[36mt3\u001b[39m: \u001b[32mNode\u001b[39m = \u001b[33mNode\u001b[39m(\u001b[32m4\u001b[39m, \u001b[33mNode\u001b[39m(\u001b[32m8\u001b[39m, Leaf, Leaf), \u001b[33mNode\u001b[39m(\u001b[32m9\u001b[39m, Leaf, \u001b[33mNode\u001b[39m(\u001b[32m4\u001b[39m, Leaf, Leaf)))"
      ]
     },
     "execution_count": 17,
     "metadata": {},
     "output_type": "execute_result"
    }
   ],
   "source": [
    "val t1 = Node(5, Leaf, Leaf)\n",
    "val t2 = Node(4, Node(8, Leaf, Leaf), Leaf)\n",
    "val t3 = Node(4, Node(8, Leaf, Leaf), Node(9, Leaf, Node(4, Leaf, Leaf)))"
   ]
  },
  {
   "cell_type": "markdown",
   "metadata": {},
   "source": [
    "## Arithmetic Expression Grammar \n",
    "\n",
    "Let us now examine a grammar for arithmetic expressions involving operators like +,*,/\n",
    "and even functions like log, exp, sine and cosine\n",
    "\n",
    "$$\\begin{array}{rcc}\n",
    "\\textbf{Expr} & \\rightarrow & Const(\\textbf{Double}) \\\\\n",
    "& |  & Ident(\\textbf{Identifier}) \\\\\n",
    "& | & Plus( \\textbf{Expr}, \\textbf{Expr}) \\\\\n",
    "& | & Minus( \\textbf{Expr}, \\textbf{Expr}) \\\\\n",
    "& | & Mult(\\textbf{Expr}, \\textbf{Expr}) \\\\\n",
    "& | & Div(\\textbf{Expr}, \\textbf{Expr}) \\\\\n",
    "& | & Log(\\textbf{Expr}) \\\\\n",
    "& | & Exp(\\textbf{Expr}) \\\\\n",
    "& | & Sine(\\textbf{Expr}) \\\\\n",
    "& | & Cosine(\\textbf{Expr}) \\\\\\\\\n",
    "\\textbf{Double} & \\rightarrow & \\cdots\\ |\\  -2\\ |\\ -1\\ |\\ 0\\ |\\ 1\\ |\\ 2\\ |\\ \\cdots \\\\\n",
    "\\textbf{Identifier} & \\rightarrow & [a-z\\ A-Z][a-z\\ A-Z\\ 0-9\\ \\_]*\n",
    "\\end{array}$$\n",
    "\n",
    "We will clarify a few things first. The non terminal __identifier__ stands for astring that represents a variable name like x,y,velocity, and so on. We wrote a regular expression as a stand in for all possible legal variable names that can appear.\n",
    "\n",
    "The start symbol is __Expr__\n",
    "\n",
    "Let us look at some examples of expressions that can be created this way.\n",
    "\n",
    "1.  $ x^2 + 5$ is expressed as  Plus(Mult( Ident(\"x\"),  Ident(\"x\")), Const(5))\n",
    "2.  $ \\sin(x) + \\cos(x)$ is expressed as Plus(Sine(Ident(\"x\")), Cosine(Ident(\"x\")))\n",
    "3.  $e^{e^{xy}}$ is expressed as Exp(Exp(Mult( Ident(\"x\"),  Ident(\"y\") ) ))\n",
    "\n",
    "\n",
    "You can guess from the context what the Plus. Minus, etc symbols should mean. The symbols Const and Ident seem superfluos here. After all, if there is a string \"x\" it can only refer to an identifier and if there is a constant 10, it can only be an integer. However, for scala (and many other programming langauges) \"x\" is a string and 10 is an integer. We need a means to tell the scala interpreter to 'promote' a number 10 to an expression 10 or a string \"x_25\" to the expression \"x_25\" The easiest way to achieve this is to wrap these inside a symbol such as Const or Ident that makes it easy for the scala interpreter to understand what is going on. "
   ]
  },
  {
   "cell_type": "code",
   "execution_count": 18,
   "metadata": {},
   "outputs": [
    {
     "data": {
      "text/plain": [
       "defined \u001b[32mtrait\u001b[39m \u001b[36mExpr\u001b[39m\n",
       "defined \u001b[32mclass\u001b[39m \u001b[36mConst\u001b[39m\n",
       "defined \u001b[32mclass\u001b[39m \u001b[36mIdent\u001b[39m\n",
       "defined \u001b[32mclass\u001b[39m \u001b[36mPlus\u001b[39m\n",
       "defined \u001b[32mclass\u001b[39m \u001b[36mMinus\u001b[39m\n",
       "defined \u001b[32mclass\u001b[39m \u001b[36mMult\u001b[39m\n",
       "defined \u001b[32mclass\u001b[39m \u001b[36mDiv\u001b[39m\n",
       "defined \u001b[32mclass\u001b[39m \u001b[36mLog\u001b[39m\n",
       "defined \u001b[32mclass\u001b[39m \u001b[36mExp\u001b[39m\n",
       "defined \u001b[32mclass\u001b[39m \u001b[36mSine\u001b[39m\n",
       "defined \u001b[32mclass\u001b[39m \u001b[36mCosine\u001b[39m"
      ]
     },
     "execution_count": 18,
     "metadata": {},
     "output_type": "execute_result"
    }
   ],
   "source": [
    "sealed trait Expr\n",
    "\n",
    "// We cheat here by allowing double precision numbers in scala \n",
    "case class Const(d: Double) extends Expr;\n",
    "\n",
    "/* we allow any string to be an identifier, for now instead of the \n",
    "RegEx expression above */ \n",
    "case class Ident(s: String)extends Expr\n",
    "\n",
    "case class Plus( e1: Expr, e2: Expr) extends Expr\n",
    "case class Minus(e1: Expr, e2: Expr) extends Expr\n",
    "case class Mult(e1: Expr, e2: Expr) extends Expr\n",
    "case class Div(e1: Expr, e2: Expr) extends Expr\n",
    "case class Log(e: Expr) extends Expr\n",
    "case class Exp(e: Expr) extends Expr\n",
    "case class Sine(e: Expr) extends Expr\n",
    "case class Cosine(e: Expr) extends Expr\n"
   ]
  },
  {
   "cell_type": "code",
   "execution_count": 19,
   "metadata": {},
   "outputs": [
    {
     "data": {
      "text/plain": [
       "\u001b[36mx\u001b[39m: \u001b[32mIdent\u001b[39m = \u001b[33mIdent\u001b[39m(\u001b[32m\"x\"\u001b[39m)\n",
       "\u001b[36my\u001b[39m: \u001b[32mIdent\u001b[39m = \u001b[33mIdent\u001b[39m(\u001b[32m\"y\"\u001b[39m)\n",
       "\u001b[36maddition\u001b[39m: \u001b[32mPlus\u001b[39m = \u001b[33mPlus\u001b[39m(\u001b[33mCosine\u001b[39m(\u001b[33mIdent\u001b[39m(\u001b[32m\"x\"\u001b[39m)), \u001b[33mSine\u001b[39m(\u001b[33mIdent\u001b[39m(\u001b[32m\"y\"\u001b[39m)))"
      ]
     },
     "execution_count": 19,
     "metadata": {},
     "output_type": "execute_result"
    }
   ],
   "source": [
    "val x = Ident(\"x\"); \n",
    "val y = Ident(\"y\"); \n",
    "val addition = Plus(Cosine(x),Sine(y));"
   ]
  },
  {
   "cell_type": "markdown",
   "metadata": {},
   "source": [
    "## Here is the tree for the expression above\n",
    "\n",
    "                       Plus \n",
    "                      /    \\\n",
    "                   Cosing   Sine \n",
    "                      |       | \n",
    "                     Ident    Ident\n",
    "                      |       | \n",
    "                      x        y\n",
    "                     \n",
    "Note how Plus has two children but cosine , sine, and Ident have one child \n",
    "\n",
    "Finally, you can see how a pre-order traversla of this tree gives the \"flat\" representation \n",
    "of the term  ( root left right \n",
    "                    Plus(Cosine(ident(x)), Sine(Identify))\n",
    "                    \n",
    "                    \n",
    "                    \n",
    "## Conditional Expressions \n",
    "\n",
    "We just saw a grammar for arithmetic expressions. Let us build a grammar on top of that \n",
    "to define conditional statements such as \n",
    "\n",
    "$$ x^2  \\geq y + 3 \\ \\&\\&\\ x + y - e^z \\leq 0 $$\n",
    " \n",
    " \n",
    " \n",
    " The grammar is going to refer to the non terminal __Expr__ from the previous grammar. \n",
    " \n",
    " \n",
    " $$\\begin{array}{rclll}\n",
    "\\textbf{CondExpr} & \\rightarrow & ConstTrue & \\mbox{constant boolean true}\\\\\n",
    "& | & ConstFalse & \\mbox{constant boolean false} \\\\\n",
    "& | & Geq( \\textbf{Expr} ,\\textbf{Expr}) & \\ e_1 \\geq e_2 \\\\\n",
    "& | & Leq (\\textbf{Expr}, \\textbf{Expr}) & \\ e_1 \\leq e_2 \\\\\n",
    "& | & Eq(\\textbf{Expr} , \\textbf{Expr}) &  e_1 == e_2 \\\\\n",
    "& | & And(\\textbf{CondExpr}, \\textbf{CondExpr}) & \\ c_1\\ \\mbox{and}\\ c_2 \\\\\n",
    "& | & Or(\\textbf{CondExpr}, \\textbf{CondExpr}) & \\ c_1\\ \\mbox{or}\\ c_2 \\\\\n",
    "& | & Not(\\textbf{CondExpr}) &  \\ \\mbox{not}\\ c_1 \\\\\n",
    "\\end{array}$$\n",
    "\n",
    "\n",
    "\n",
    "Let us take the example above and see how the grammar expresses them?\n",
    "\n",
    "#### 1. $ x^2 \\geq y + 3 $\n",
    "\n",
    "*Geq*( *Mult*( *Ident*(\"x\"), *Ident*(\"x\") ), *Plus*( *Ident*(\"y\"), *Const*(3) ) ))\n",
    "\n",
    "#### 2. $ x + y - e^z \\leq 0$\n",
    "\n",
    "*Leq*(  *Plus*( *Ident*(\"x\"), *Minus* ( *Ident*(\"y\"), *Exp*( *Ident*(\"z\") ) ) ), *Const* (0) )\n",
    "\n",
    "#### 3. $ x^2 \\geq y + 3 \\ \\land\\ x + y - e^z \\leq 0$\n",
    "\n",
    "*And*( *Geq*( *Mult*( *Ident*(\"x\"), *Ident*(\"x\") ), *Plus*( *Ident*(\"y\"), *Const*(3) ) )), *Leq*(  *Plus*( *Ident*(\"x\"), *Minus* ( *Ident*(\"y\"), *Exp*( *Ident*(\"z\") ) ) ), *Const* (0) ))\n",
    "\n"
   ]
  },
  {
   "cell_type": "code",
   "execution_count": 20,
   "metadata": {},
   "outputs": [
    {
     "data": {
      "text/plain": [
       "defined \u001b[32mtrait\u001b[39m \u001b[36mCondExpr\u001b[39m\n",
       "defined \u001b[32mobject\u001b[39m \u001b[36mConstTrue\u001b[39m\n",
       "defined \u001b[32mobject\u001b[39m \u001b[36mconstFalse\u001b[39m\n",
       "defined \u001b[32mclass\u001b[39m \u001b[36mGeq\u001b[39m\n",
       "defined \u001b[32mclass\u001b[39m \u001b[36mLeq\u001b[39m\n",
       "defined \u001b[32mclass\u001b[39m \u001b[36mEq\u001b[39m\n",
       "defined \u001b[32mclass\u001b[39m \u001b[36mAnd\u001b[39m\n",
       "defined \u001b[32mclass\u001b[39m \u001b[36mOr\u001b[39m\n",
       "defined \u001b[32mclass\u001b[39m \u001b[36mNot\u001b[39m"
      ]
     },
     "execution_count": 20,
     "metadata": {},
     "output_type": "execute_result"
    }
   ],
   "source": [
    "sealed trait CondExpr\n",
    "case object ConstTrue extends CondExpr\n",
    "case object constFalse extends CondExpr\n",
    "case class Geq(el: Expr, e2: Expr) extends CondExpr\n",
    "case class Leq(e1: Expr, e2: Expr) extends CondExpr\n",
    "case class Eq(e1: Expr, e2: Expr) extends CondExpr\n",
    "case class And(c1: CondExpr, c2: CondExpr) extends CondExpr\n",
    "case class Or(c1: CondExpr, c2: CondExpr) extends CondExpr\n",
    "case class Not(c: CondExpr) extends CondExpr"
   ]
  },
  {
   "cell_type": "markdown",
   "metadata": {},
   "source": [
    "## Syntax for a Simple While Programming Language \n",
    "\n",
    "Now we will examine a more complex grammar that inductively defines a simple while programming \n",
    "language. Writing and understanidng this grammar is crucial since you will need to see\n",
    "how a program can be viewed systematically top down from the program as a whole\n",
    "to indidvidual code blocks, control statements, down to the basic assignments\n",
    "\n",
    "We would like a grammar that defines simple programs that include \n",
    "  (a) assignment statements\n",
    "  (b) variable declarations \n",
    "  (c) variables that take on floating point values \n",
    "  (d) if, then, else\n",
    "  (e) while loops \n",
    "  (f) return statements \n",
    "  \n",
    " \n",
    "Here is an example of a program that we are trying to express: \n",
    "\n",
    "   var x = 5; \n",
    "   var y = 15; \n",
    "   var z = 25 + y - x; \n",
    "   x = y + z + exp(x-7)\n",
    "   while ( y <= 15 )\n",
    "       begin\n",
    "          y = y + 3 + x/5\n",
    "          if (x <= 0)\n",
    "          begin \n",
    "             x = -x\n",
    "          end \n",
    "       end\n",
    "     return (y-x) \n",
    "     \n",
    "     \n",
    "Lets make up some rules for our while language (we will also make up new rules as \n",
    "we go along) \n",
    "\n",
    "    * All identiiers must be declared at the beginning of the program \n",
    "    * Each declaration must consist of variable being declared and intitial declaration \n",
    "    must be an expression \n",
    "    * Variables can be used on the RHS only after being declared\n",
    "    * The language has assignments that allow a delcared variable to be assigned an expression \n",
    "    involving declared expressions \n",
    "    * While statements have the structure of 'while' keyboard followed by a condition, \n",
    "    followed by a code block ecapsulated within a begin/end\n",
    "    * If statements have the structure of 'if' keyword followed by a condition followed by\n",
    "    a code block encapsulated within begin/end and optionally 'else' keyword foolowed by a\n",
    "    code block (begin/end) \n",
    "    \n",
    "    \n",
    "    \n",
    "    \n",
    "Let us write the grammar in parts starting from the high level structure of the program. \n",
    "\n",
    "    \n",
    "$$\\begin{array}{rcll}\n",
    "\\textbf{Program} & \\rightarrow & \\textbf{Declaration}^*\\ \\textbf{Statement}^*\\ ReturnStmt(\\textbf{Expr}) \\\\\n",
    "\\end{array}$$\n",
    "\n",
    "\n",
    "We have placed a * on top of the __declaration__ and __statement__. This is called the Kleene\n",
    "Star. Whever we have a symbol __X__ (be it terminal or nonterminal, __X__ * denotes zero or \n",
    "more occurrences of __X__. We are saying that the __Program__ is made up of zero or more\n",
    "instances of __Declaration__, followed by zero or more instances of __Statemente__ and \n",
    "finally a return statement at the very end denoted as ReturnStmt(__Expr__)\n",
    "\n",
    "\n",
    "Next, let us tackle what it means to be declaration. We know a declaration looks like this\n",
    "\n",
    "    var x = 2 * y - z\n",
    "   \n",
    "Ignore the 'syntactic junk' like the keywords 'var' or the =, they are for humans like us\n",
    "What is important here for a computer? \n",
    "\n",
    "    - First that the vairable being declared is \"x\"\n",
    "    - Second that it is intialized to RHS expression (2 * y - z) \n",
    "    - There is a third thing that y and z must have been previously declared. Let us \n",
    "    take a rain check on this requirement for now, we'll handle it later \n",
    "    \n",
    "    \n",
    "$$ \\begin{array}{rcll}\n",
    "\\textbf{Declaration} & \\rightarrow & VarDecl( \\textbf{Identifier}, \\textbf{Expr} )\n",
    "\\end{array} $$\n",
    "\n",
    "\n",
    "We will take two important bits of information from above and encapsulate it inside a nice\n",
    "\"tag\" called 'VarDecl'. Now it is clear to a computer (and perhaps even to us humans) \n",
    "\n",
    "Next, let us write a grammar for statements. A statement can be of many types in our \n",
    "language\n",
    "\n",
    "    * It can be a assignment statement : Example\n",
    "            x = y + 5\n",
    "        * What infomration about this assignment is irrelevant here?  the equals sign \n",
    "        * LHS: The variable being assigned\n",
    "        * RHS: the expression it is being assigned to\n",
    "        * All variables involved must be previously declared. We'll get back to this\n",
    "        \n",
    "        \n",
    "     \n",
    "     * A while statement: Example: while( x <= y && y <= z) begin .. list\n",
    "       of statements .. end\n",
    "       \n",
    "              * the condition of continuing the loop \n",
    "              * the list of statements inside the loop \n",
    "      \n",
    "     * A if-then-else statement and a variant ( a simple if then ) if (condition)\n",
    "     begin .. list of statements .. end else begin .. list of statements .. end \n",
    "                \n",
    "              * The condition for the if statement\n",
    "              * List of statements for the then part \n",
    "              * List of statements for th else part (make it empty if there is no else part) \n",
    "      * A return statement: return (2 * x + 3 * y) \n",
    "          \n",
    "              * the expression that is being returned\n",
    "              \n",
    "$$\\begin{array}{rcll}\n",
    "\\textbf{Statement} & \\rightarrow & Assign( \\textbf{Identifier}, \\textbf{Expr} ) & \\mbox{assign identifier to expression} \\\\\n",
    "& | & While(\\textbf{CondExpr}, \\textbf{Statement}^*) & \\mbox{the condition  and the list of statements: note the Kleene star} \\\\\n",
    "& | & IfThenElse(\\textbf{CondExpr}, \\textbf{Statement}^*, \\textbf{Statement}^*) & \\mbox{can you interpret this rule as an exercise?}\\\\\n",
    "& | & ReturnStmt(\\textbf{Expr}) & \\mbox{return an expression: we already saw this.}\n",
    "\\end{array}$$\n",
    "\n",
    "\n",
    "Here is the whol grammar at a glance for you: \n",
    " \n",
    " \n",
    " $$\\begin{array}{rcll}\n",
    "\\textbf{Program} & \\rightarrow & \\textbf{Declaration}^*\\ \\textbf{Statement}^*\\ ReturnStmt(\\textbf{Expr}) \\\\[5pt]\n",
    "\\textbf{Declaration} & \\rightarrow & VarDecl( \\textbf{Identifier}, \\textbf{Expr} )\\\\[5pt]\n",
    "\\textbf{Statement} & \\rightarrow & Assign( \\textbf{Identifier}, \\textbf{Expr} ) & \\mbox{assign identifier to expression} \\\\\n",
    "& | & While(\\textbf{CondExpr}, \\textbf{Statement}^*) & \\mbox{the condition  and the list of statements: note the Kleene star} \\\\\n",
    "& | & IfThenElse(\\textbf{CondExpr}, \\textbf{Statement}^*, \\textbf{Statement}^*) & \\mbox{can you interpret this rule as an exercise?}\\\\\n",
    "& | & ReturnStmt(\\textbf{Expr}) & \\mbox{return an expression: we already saw this.} \\\\[5pt]\n",
    "\\textbf{CondExpr} & \\rightarrow & ConstTrue & \\mbox{constant boolean true}\\\\\n",
    "& | & ConstFalse & \\mbox{constant boolean false} \\\\\n",
    "& | & Geq( \\textbf{Expr} ,\\textbf{Expr}) & \\ e_1 \\geq e_2 \\\\\n",
    "& | & Leq (\\textbf{Expr}, \\textbf{Expr}) & \\ e_1 \\leq e_2 \\\\\n",
    "& | & Eq(\\textbf{Expr} , \\textbf{Expr}) &  e_1 == e_2 \\\\\n",
    "& | & And(\\textbf{CondExpr}, \\textbf{CondExpr}) & \\ c_1\\ \\mbox{and}\\ c_2 \\\\\n",
    "& | & Or(\\textbf{CondExpr}, \\textbf{CondExpr}) & \\ c_1\\ \\mbox{or}\\ c_2 \\\\\n",
    "& | & Not(\\textbf{CondExpr}) &  \\ \\mbox{not}\\ c_1 \\\\[5pt]\n",
    "\\textbf{Expr} & \\rightarrow & Const(\\textbf{Integer}) \\\\\n",
    "& |  & Ident(\\textbf{Identifier}) \\\\\n",
    "& | & Plus( \\textbf{Expr}, \\textbf{Expr}^+) & \\textbf{Expr}^+ \\text{denotes one or more occurrences of an expression}\\\\\n",
    "& | & Minus( \\textbf{Expr}, \\textbf{Expr}^+) & e_1 - e_2 - e_3 - e_4 \\cdots \\\\\n",
    "& | & Mult(\\textbf{Expr}, \\textbf{Expr}^+) & e_1 * e_2 * e_3 * \\cdots \\\\\n",
    "& | & Div(\\textbf{Expr}, \\textbf{Expr}) \\\\\n",
    "& | & Log(\\textbf{Expr}) \\\\\n",
    "& | & Exp(\\textbf{Expr}) \\\\\n",
    "& | & Sine(\\textbf{Expr}) \\\\\n",
    "& | & Cosine(\\textbf{Expr}) \\\\[5pt]\n",
    "\\textbf{Integer} & \\rightarrow & \\cdots\\ |\\  -2\\ |\\ -1\\ |\\ 0\\ |\\ 1\\ |\\ 2\\ |\\ \\cdots \\\\\n",
    "\\textbf{Identifier} & \\rightarrow & [a-z\\ A-Z][a-z\\ A-Z\\ 0-9\\ \\_]*\n",
    "\\end{array}$$\n",
    " \n",
    " \n",
    " \n",
    " \n",
    " \n",
    " \n",
    " \n",
    " \n",
    " \n",
    " \n",
    " "
   ]
  },
  {
   "cell_type": "code",
   "execution_count": 21,
   "metadata": {},
   "outputs": [
    {
     "data": {
      "text/plain": [
       "defined \u001b[32mtrait\u001b[39m \u001b[36mDeclaration\u001b[39m\n",
       "defined \u001b[32mtrait\u001b[39m \u001b[36mStatement\u001b[39m\n",
       "defined \u001b[32mtrait\u001b[39m \u001b[36mMythonProgram\u001b[39m\n",
       "defined \u001b[32mclass\u001b[39m \u001b[36mProgram\u001b[39m\n",
       "defined \u001b[32mclass\u001b[39m \u001b[36mVarDecl\u001b[39m\n",
       "defined \u001b[32mclass\u001b[39m \u001b[36mAssignStmt\u001b[39m\n",
       "defined \u001b[32mclass\u001b[39m \u001b[36mWhileStmt\u001b[39m\n",
       "defined \u001b[32mclass\u001b[39m \u001b[36mIfThenElseStmt\u001b[39m\n",
       "defined \u001b[32mclass\u001b[39m \u001b[36mReturnStmt\u001b[39m"
      ]
     },
     "execution_count": 21,
     "metadata": {},
     "output_type": "execute_result"
    }
   ],
   "source": [
    "sealed trait Declaration\n",
    "sealed trait Statement\n",
    "sealed trait MythonProgram\n",
    "\n",
    "case class Program(decls: List[Declaration], stmts: List[Statement], returnAtEnd: Expr) extends MythonProgram // We stripped the ReturnStmt tag since it is redundant\n",
    "case class VarDecl(identifier: String, rhsExpr: Expr) extends Declaration\n",
    "case class AssignStmt(identifier: String, rhsExpr: Expr) extends Statement\n",
    "case class WhileStmt(cond: CondExpr, stmts: List[Statement]) extends Statement\n",
    "case class IfThenElseStmt(cond: CondExpr, stmtsThen: List[Statement], stmtsElse: List[Statement]) extends Statement\n",
    "case class ReturnStmt(retExpr: Expr) extends Statement"
   ]
  },
  {
   "cell_type": "markdown",
   "metadata": {},
   "source": [
    "Lets try to translate this program over into grammar\n",
    "\n",
    "var x = 5; \n",
    "var y - 15; \n",
    "var z = 25 + y - x; \n",
    "x = y + z + exp( x - y ) \n",
    "while ( y <= 15 )\n",
    "  begin\n",
    "    y = y -x; \n",
    "     if (x <= 0)\n",
    "      begin\n",
    "       x = -x\n",
    "      end\n",
    "   end\n",
    "\n",
    "return (y-x) \n",
    "\n",
    "\n",
    "\n",
    "it is not going to be preety but we can do it nevertheless by building up \n",
    "sub parts to make up the big program. It is instructive to do it once and rely on a \n",
    "program to do it\n",
    "\n",
    "\n",
    "\n",
    "\n",
    "\n",
    "## This produces a big mess of symbols below but it is really how a computer sees the program you enter.\n",
    "\n"
   ]
  },
  {
   "cell_type": "code",
   "execution_count": 22,
   "metadata": {},
   "outputs": [
    {
     "data": {
      "text/plain": [
       "\u001b[36md1\u001b[39m: \u001b[32mVarDecl\u001b[39m = \u001b[33mVarDecl\u001b[39m(\u001b[32m\"x\"\u001b[39m, \u001b[33mConst\u001b[39m(\u001b[32m5.0\u001b[39m))\n",
       "\u001b[36md2\u001b[39m: \u001b[32mVarDecl\u001b[39m = \u001b[33mVarDecl\u001b[39m(\u001b[32m\"y\"\u001b[39m, \u001b[33mConst\u001b[39m(\u001b[32m15.0\u001b[39m))\n",
       "\u001b[36md3\u001b[39m: \u001b[32mVarDecl\u001b[39m = \u001b[33mVarDecl\u001b[39m(\u001b[32m\"z\"\u001b[39m, \u001b[33mPlus\u001b[39m(\u001b[33mConst\u001b[39m(\u001b[32m25.0\u001b[39m), \u001b[33mMinus\u001b[39m(\u001b[33mIdent\u001b[39m(\u001b[32m\"y\"\u001b[39m), \u001b[33mIdent\u001b[39m(\u001b[32m\"x\"\u001b[39m))))\n",
       "\u001b[36mdecls\u001b[39m: \u001b[32mList\u001b[39m[\u001b[32mVarDecl\u001b[39m] = \u001b[33mList\u001b[39m(\n",
       "  \u001b[33mVarDecl\u001b[39m(\u001b[32m\"x\"\u001b[39m, \u001b[33mConst\u001b[39m(\u001b[32m5.0\u001b[39m)),\n",
       "  \u001b[33mVarDecl\u001b[39m(\u001b[32m\"y\"\u001b[39m, \u001b[33mConst\u001b[39m(\u001b[32m15.0\u001b[39m)),\n",
       "  \u001b[33mVarDecl\u001b[39m(\u001b[32m\"z\"\u001b[39m, \u001b[33mPlus\u001b[39m(\u001b[33mConst\u001b[39m(\u001b[32m25.0\u001b[39m), \u001b[33mMinus\u001b[39m(\u001b[33mIdent\u001b[39m(\u001b[32m\"y\"\u001b[39m), \u001b[33mIdent\u001b[39m(\u001b[32m\"x\"\u001b[39m))))\n",
       ")\n",
       "\u001b[36me1\u001b[39m: \u001b[32mPlus\u001b[39m = \u001b[33mPlus\u001b[39m(\n",
       "  \u001b[33mIdent\u001b[39m(\u001b[32m\"y\"\u001b[39m),\n",
       "  \u001b[33mPlus\u001b[39m(\u001b[33mIdent\u001b[39m(\u001b[32m\"z\"\u001b[39m), \u001b[33mExp\u001b[39m(\u001b[33mMinus\u001b[39m(\u001b[33mIdent\u001b[39m(\u001b[32m\"x\"\u001b[39m), \u001b[33mIdent\u001b[39m(\u001b[32m\"y\"\u001b[39m))))\n",
       ")\n",
       "\u001b[36mstmt1\u001b[39m: \u001b[32mAssignStmt\u001b[39m = \u001b[33mAssignStmt\u001b[39m(\n",
       "  \u001b[32m\"x\"\u001b[39m,\n",
       "  \u001b[33mPlus\u001b[39m(\u001b[33mIdent\u001b[39m(\u001b[32m\"y\"\u001b[39m), \u001b[33mPlus\u001b[39m(\u001b[33mIdent\u001b[39m(\u001b[32m\"z\"\u001b[39m), \u001b[33mExp\u001b[39m(\u001b[33mMinus\u001b[39m(\u001b[33mIdent\u001b[39m(\u001b[32m\"x\"\u001b[39m), \u001b[33mIdent\u001b[39m(\u001b[32m\"y\"\u001b[39m)))))\n",
       ")\n",
       "\u001b[36mcond1\u001b[39m: \u001b[32mLeq\u001b[39m = \u001b[33mLeq\u001b[39m(\u001b[33mIdent\u001b[39m(\u001b[32m\"y\"\u001b[39m), \u001b[33mConst\u001b[39m(\u001b[32m15.0\u001b[39m))\n",
       "\u001b[36mstmt2\u001b[39m: \u001b[32mAssignStmt\u001b[39m = \u001b[33mAssignStmt\u001b[39m(\u001b[32m\"y\"\u001b[39m, \u001b[33mMinus\u001b[39m(\u001b[33mIdent\u001b[39m(\u001b[32m\"y\"\u001b[39m), \u001b[33mIdent\u001b[39m(\u001b[32m\"x\"\u001b[39m)))\n",
       "\u001b[36mcond2\u001b[39m: \u001b[32mLeq\u001b[39m = \u001b[33mLeq\u001b[39m(\u001b[33mIdent\u001b[39m(\u001b[32m\"x\"\u001b[39m), \u001b[33mConst\u001b[39m(\u001b[32m0.0\u001b[39m))\n",
       "\u001b[36mstmt3\u001b[39m: \u001b[32mAssignStmt\u001b[39m = \u001b[33mAssignStmt\u001b[39m(\u001b[32m\"x\"\u001b[39m, \u001b[33mMinus\u001b[39m(\u001b[33mConst\u001b[39m(\u001b[32m0.0\u001b[39m), \u001b[33mIdent\u001b[39m(\u001b[32m\"x\"\u001b[39m)))\n",
       "\u001b[36mifStmt\u001b[39m: \u001b[32mIfThenElseStmt\u001b[39m = \u001b[33mIfThenElseStmt\u001b[39m(\n",
       "  \u001b[33mLeq\u001b[39m(\u001b[33mIdent\u001b[39m(\u001b[32m\"x\"\u001b[39m), \u001b[33mConst\u001b[39m(\u001b[32m0.0\u001b[39m)),\n",
       "  \u001b[33mList\u001b[39m(\u001b[33mAssignStmt\u001b[39m(\u001b[32m\"x\"\u001b[39m, \u001b[33mMinus\u001b[39m(\u001b[33mConst\u001b[39m(\u001b[32m0.0\u001b[39m), \u001b[33mIdent\u001b[39m(\u001b[32m\"x\"\u001b[39m)))),\n",
       "  \u001b[33mList\u001b[39m()\n",
       ")\n",
       "\u001b[36mwhileStmt\u001b[39m: \u001b[32mWhileStmt\u001b[39m = \u001b[33mWhileStmt\u001b[39m(\n",
       "  \u001b[33mLeq\u001b[39m(\u001b[33mIdent\u001b[39m(\u001b[32m\"y\"\u001b[39m), \u001b[33mConst\u001b[39m(\u001b[32m15.0\u001b[39m)),\n",
       "  \u001b[33mList\u001b[39m(\n",
       "    \u001b[33mAssignStmt\u001b[39m(\u001b[32m\"y\"\u001b[39m, \u001b[33mMinus\u001b[39m(\u001b[33mIdent\u001b[39m(\u001b[32m\"y\"\u001b[39m), \u001b[33mIdent\u001b[39m(\u001b[32m\"x\"\u001b[39m))),\n",
       "    \u001b[33mIfThenElseStmt\u001b[39m(\n",
       "      \u001b[33mLeq\u001b[39m(\u001b[33mIdent\u001b[39m(\u001b[32m\"x\"\u001b[39m), \u001b[33mConst\u001b[39m(\u001b[32m0.0\u001b[39m)),\n",
       "      \u001b[33mList\u001b[39m(\u001b[33mAssignStmt\u001b[39m(\u001b[32m\"x\"\u001b[39m, \u001b[33mMinus\u001b[39m(\u001b[33mConst\u001b[39m(\u001b[32m0.0\u001b[39m), \u001b[33mIdent\u001b[39m(\u001b[32m\"x\"\u001b[39m)))),\n",
       "      \u001b[33mList\u001b[39m()\n",
       "    )\n",
       "  )\n",
       ")\n",
       "\u001b[36mallstmts\u001b[39m: \u001b[32mList\u001b[39m[\u001b[32mProduct\u001b[39m with \u001b[32mSerializable\u001b[39m with \u001b[32mStatement\u001b[39m] = \u001b[33mList\u001b[39m(\n",
       "  \u001b[33mAssignStmt\u001b[39m(\n",
       "    \u001b[32m\"x\"\u001b[39m,\n",
       "    \u001b[33mPlus\u001b[39m(\u001b[33mIdent\u001b[39m(\u001b[32m\"y\"\u001b[39m), \u001b[33mPlus\u001b[39m(\u001b[33mIdent\u001b[39m(\u001b[32m\"z\"\u001b[39m), \u001b[33mExp\u001b[39m(\u001b[33mMinus\u001b[39m(\u001b[33mIdent\u001b[39m(\u001b[32m\"x\"\u001b[39m), \u001b[33mIdent\u001b[39m(\u001b[32m\"y\"\u001b[39m)))))\n",
       "  ),\n",
       "  \u001b[33mWhileStmt\u001b[39m(\n",
       "    \u001b[33mLeq\u001b[39m(\u001b[33mIdent\u001b[39m(\u001b[32m\"y\"\u001b[39m), \u001b[33mConst\u001b[39m(\u001b[32m15.0\u001b[39m)),\n",
       "    \u001b[33mList\u001b[39m(\n",
       "      \u001b[33mAssignStmt\u001b[39m(\u001b[32m\"y\"\u001b[39m, \u001b[33mMinus\u001b[39m(\u001b[33mIdent\u001b[39m(\u001b[32m\"y\"\u001b[39m), \u001b[33mIdent\u001b[39m(\u001b[32m\"x\"\u001b[39m))),\n",
       "      \u001b[33mIfThenElseStmt\u001b[39m(\n",
       "        \u001b[33mLeq\u001b[39m(\u001b[33mIdent\u001b[39m(\u001b[32m\"x\"\u001b[39m), \u001b[33mConst\u001b[39m(\u001b[32m0.0\u001b[39m)),\n",
       "        \u001b[33mList\u001b[39m(\u001b[33mAssignStmt\u001b[39m(\u001b[32m\"x\"\u001b[39m, \u001b[33mMinus\u001b[39m(\u001b[33mConst\u001b[39m(\u001b[32m0.0\u001b[39m), \u001b[33mIdent\u001b[39m(\u001b[32m\"x\"\u001b[39m)))),\n",
       "        \u001b[33mList\u001b[39m()\n",
       "      )\n",
       "    )\n",
       "  )\n",
       ")\n",
       "\u001b[36mretExpr\u001b[39m: \u001b[32mMinus\u001b[39m = \u001b[33mMinus\u001b[39m(\u001b[33mIdent\u001b[39m(\u001b[32m\"y\"\u001b[39m), \u001b[33mIdent\u001b[39m(\u001b[32m\"x\"\u001b[39m))\n",
       "\u001b[36mprogram\u001b[39m: \u001b[32mProgram\u001b[39m = \u001b[33mProgram\u001b[39m(\n",
       "  \u001b[33mList\u001b[39m(\n",
       "    \u001b[33mVarDecl\u001b[39m(\u001b[32m\"x\"\u001b[39m, \u001b[33mConst\u001b[39m(\u001b[32m5.0\u001b[39m)),\n",
       "    \u001b[33mVarDecl\u001b[39m(\u001b[32m\"y\"\u001b[39m, \u001b[33mConst\u001b[39m(\u001b[32m15.0\u001b[39m)),\n",
       "    \u001b[33mVarDecl\u001b[39m(\u001b[32m\"z\"\u001b[39m, \u001b[33mPlus\u001b[39m(\u001b[33mConst\u001b[39m(\u001b[32m25.0\u001b[39m), \u001b[33mMinus\u001b[39m(\u001b[33mIdent\u001b[39m(\u001b[32m\"y\"\u001b[39m), \u001b[33mIdent\u001b[39m(\u001b[32m\"x\"\u001b[39m))))\n",
       "  ),\n",
       "  \u001b[33mList\u001b[39m(\n",
       "    \u001b[33mAssignStmt\u001b[39m(\n",
       "      \u001b[32m\"x\"\u001b[39m,\n",
       "      \u001b[33mPlus\u001b[39m(\u001b[33mIdent\u001b[39m(\u001b[32m\"y\"\u001b[39m), \u001b[33mPlus\u001b[39m(\u001b[33mIdent\u001b[39m(\u001b[32m\"z\"\u001b[39m), \u001b[33mExp\u001b[39m(\u001b[33mMinus\u001b[39m(\u001b[33mIdent\u001b[39m(\u001b[32m\"x\"\u001b[39m), \u001b[33mIdent\u001b[39m(\u001b[32m\"y\"\u001b[39m)))))\n",
       "    ),\n",
       "    \u001b[33mWhileStmt\u001b[39m(\n",
       "      \u001b[33mLeq\u001b[39m(\u001b[33mIdent\u001b[39m(\u001b[32m\"y\"\u001b[39m), \u001b[33mConst\u001b[39m(\u001b[32m15.0\u001b[39m)),\n",
       "      \u001b[33mList\u001b[39m(\n",
       "        \u001b[33mAssignStmt\u001b[39m(\u001b[32m\"y\"\u001b[39m, \u001b[33mMinus\u001b[39m(\u001b[33mIdent\u001b[39m(\u001b[32m\"y\"\u001b[39m), \u001b[33mIdent\u001b[39m(\u001b[32m\"x\"\u001b[39m))),\n",
       "        \u001b[33mIfThenElseStmt\u001b[39m(\n",
       "          \u001b[33mLeq\u001b[39m(\u001b[33mIdent\u001b[39m(\u001b[32m\"x\"\u001b[39m), \u001b[33mConst\u001b[39m(\u001b[32m0.0\u001b[39m)),\n",
       "          \u001b[33mList\u001b[39m(\u001b[33mAssignStmt\u001b[39m(\u001b[32m\"x\"\u001b[39m, \u001b[33mMinus\u001b[39m(\u001b[33mConst\u001b[39m(\u001b[32m0.0\u001b[39m), \u001b[33mIdent\u001b[39m(\u001b[32m\"x\"\u001b[39m)))),\n",
       "          \u001b[33mList\u001b[39m()\n",
       "        )\n",
       "      )\n",
       "    )\n",
       "  ),\n",
       "  \u001b[33mMinus\u001b[39m(\u001b[33mIdent\u001b[39m(\u001b[32m\"y\"\u001b[39m), \u001b[33mIdent\u001b[39m(\u001b[32m\"x\"\u001b[39m))\n",
       ")"
      ]
     },
     "execution_count": 22,
     "metadata": {},
     "output_type": "execute_result"
    }
   ],
   "source": [
    "val d1 = VarDecl(\"x\", Const(5.0f)) // var x = 5\n",
    "val d2 = VarDecl(\"y\", Const(15.0f)) // var y = 15\n",
    "val d3 = VarDecl(\"z\", Plus(Const(25.0f), Minus(Ident(\"y\"), Ident(\"x\")))) // var z = 25 + y - x\n",
    "val decls = List(d1, d2, d3)\n",
    "val e1 = Plus(Ident(\"y\"), Plus( Ident(\"z\"), Exp( Minus(Ident(\"x\"), Ident(\"y\")) ) )) // y + z + exp(x - y)\n",
    "val stmt1 = AssignStmt(\"x\", e1) // x = y + z + exp(x - y)\n",
    "// Let us make up the parts of the while statement\n",
    "val cond1 = Leq(Ident(\"y\"), Const(15.0f)) // y <= 15\n",
    "// The assignment inside the while\n",
    "val stmt2 = AssignStmt(\"y\", Minus(Ident(\"y\"), Ident(\"x\"))) // y = y - x\n",
    "// The condition for the if statement\n",
    "val cond2 = Leq(Ident(\"x\"), Const(0.0f)) // x <= 0.0\n",
    "val stmt3 = AssignStmt(\"x\", Minus(Const(0.0f), Ident(\"x\"))) // x= 0 - x\n",
    "val ifStmt = IfThenElseStmt(cond2, List(stmt3), List()) // if ( x <= 0) x = -x else nothing\n",
    "val whileStmt = WhileStmt(cond1, List(stmt2, ifStmt)) // while loop \n",
    "val allstmts = List(stmt1, whileStmt)\n",
    "val retExpr = Minus(Ident(\"y\"), Ident(\"x\")) // y - x to be returned\n",
    "val program = Program(decls, allstmts, retExpr )"
   ]
  },
  {
   "cell_type": "markdown",
   "metadata": {},
   "source": [
    "## it is much more informative to view this program as a tree, making the connection between the orignal problem and the tree is much more clear"
   ]
  }
 ],
 "metadata": {
  "kernelspec": {
   "display_name": "Scala",
   "language": "scala",
   "name": "scala"
  },
  "language_info": {
   "codemirror_mode": "text/x-scala",
   "file_extension": ".scala",
   "mimetype": "text/x-scala",
   "name": "scala",
   "nbconvert_exporter": "script",
   "version": "2.12.10"
  }
 },
 "nbformat": 4,
 "nbformat_minor": 2
}
