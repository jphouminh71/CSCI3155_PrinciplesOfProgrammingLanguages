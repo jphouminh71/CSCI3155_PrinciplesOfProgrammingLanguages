{
 "cells": [
  {
   "cell_type": "markdown",
   "metadata": {},
   "source": [
    "# Explicit References\n",
    "\n",
    "Lettuce so far .. has no side effects. \n",
    "\n",
    "\n",
    "## Side effects\n",
    "    -> Printing\n",
    "    -> Sending a packet\n",
    "    -> Updating a global var / static global member of a class\n",
    "    \n",
    "The main thing is that the issues after the side effects are caused. \n",
    "\n",
    "Pure functions are when no matter how many times you do something, the answers will be the same \n",
    "\n",
    "```\n",
    "    7 + 5 = 15\n",
    "    7 + 5 = 15\n",
    "    7 + 5 = 15...\n",
    "    \n",
    "    \n",
    "but consider this code in C\n",
    "\n",
    "int x // global variable\n",
    "\n",
    "int foo() {\n",
    "    x = x+1 \n",
    "    return x \n",
    "}\n",
    "\n",
    "// main\n",
    "x = 0; // set the global variable\n",
    "foo(); // return a value\n",
    "foo(); \n",
    "foo();\n",
    "\n",
    "at this point we see that our global x is now 3, the function\n",
    "does not behave the same everytime\n",
    "```\n",
    "\n",
    "Side effects are very common, without them we couldn't do some important things such as updating a global variable / static global member of a class\n",
    "\n",
    "\n",
    "                Examples of references. \n",
    "__Var in scala__,  in scala this is an implicit reference\n",
    "\n",
    "__Ptr in C/C++__,  this is an explicit reference, its the ADDRESS\n",
    "\n",
    "Todo: Add explicit reference rules in Lettuce. \n",
    "\n",
    "## Lettuce With Explicit References\n",
    "\n",
    "__Concrete Syntax:__\n",
    "\n",
    "```\n",
    "Program 1\n",
    "\n",
    "    let x = newref(15) \n",
    "        in \n",
    "            deref(x) \n",
    "            \n",
    "            essentially 'newref' creates new memory in the 'store'\n",
    "            \n",
    "Everytime you say newref, a new cell is created in the store and the item inside of newref is stored inside that address. \n",
    "\n",
    "x is now a reference (or a pointer) to the address of 15!\n",
    "\n",
    "deref(x) , the deref essentially says \"go into that address and give me what is in there\". \n",
    "    so deref(x) returns the numValue(15). \n",
    "```\n",
    "\n",
    "now lets look at a more complicated problem \n",
    "\n",
    "\n",
    "```\n",
    "Program 2: \n",
    "    let x = newref(15) in \n",
    "        let y = newref(17) in \n",
    "            let z = assignref(x, 25) in \n",
    "                deref(x) + deref(y) \n",
    "                    // program returns 42. \n",
    "                \n",
    "Here in this program we had created 2 memory cells in x and y in the store containing 15, 17. So x and y are now references to their memory address storing their numbers. \n",
    "\n",
    "What is assignref? Read it as (*x = 25) , its the equivalent to *x, so z gets the result of the assignment. \n",
    "\n",
    "it takes the contents of the memory and assigns it to 25, so the address at reference x NOW CONTAINS numValue 25!\n",
    "\n",
    "so we don't actually care about what z is, whereas for the most part we just used it to reassign x. \n",
    "```\n",
    "\n",
    "```\n",
    "Program 3. \n",
    "\n",
    "    let incr = function (x) \n",
    "                assign(x, deref(x) + 1\n",
    "           in  \n",
    "       let z = newref(0) in \n",
    "           let y1 = incr (z) in \n",
    "               let y2 = incr(2) in \n",
    "                   let y3 = incr(z) in \n",
    "                       deref(z) \n",
    "                       \n",
    "So essentially, we just kept going into the memory address of the\n",
    "original z and ketp changing it by incrememnting it by 1. \n",
    "```\n",
    "\n",
    "So, here are the new additions to the lettuce syntax. \n",
    "\n",
    "__newRef(...Expr...)__ , this is suppose to create a new cell in the memory and put the inner value in the cell. \n",
    "\n",
    "__deref(..Expr..)__, take a reference to cell in memory and retrieve its contents. \n",
    "\n",
    "__assignref(expr1, expr2)__, reference to the memory you are assigning to and the value you are assigning to that cell. \n",
    "\n",
    "\n",
    "So now we have our grammar. \n",
    "\n",
    "Expr => Const(double)\n",
    "        Ident(String\n",
    "        IfThenElse(Expr,Expr,Expr)\n",
    "        Let(String,Expr,Expr)\n",
    "        FunDef(String, Expr) \n",
    "        LetRec(String, String, Expr, Expr) \n",
    "        FunCall(Expr,Expr) \n",
    "        NewRef(Expr)\n",
    "        DeRef(Expr) \n",
    "        AssignRef(Expr,Expr) \n",
    "        \n",
    "\n",
    "Let(\"x\", NewRef(Const(15)), \n",
    "    Let(\"y\", NewRef(Const(17)), \n",
    "        Let(\"z\", assignRef(Ident(\"x\", Const(25)), \n",
    "            Plus(Deref(Ident(\"x\"), Deref(Ident(\"y\")))\n",
    "            \n",
    "Wew have now introduced the overall idea of explicit references!\n",
    "\n",
    "What is the difference between let bindings and these new references. \n",
    "\n",
    "\n",
    "```\n",
    "        let x = 15 in\n",
    "            let y = 20 in \n",
    "                let z = 45 in \n",
    "                    x + y + z\n",
    "            all this is saying is that whenever we see any of the variables in the programs, replace them with their assignment. \n",
    "```\n",
    "\n",
    "# Lecture Stuff\n",
    "\n",
    "```\n",
    "    let x = newRef(15) in        , x is just a reference to address 0 in the 'store', NewRef(Const(15))\n",
    "        let y = deref(x) + 20 in        Deref(Ident(\"x\"))\n",
    "            let z = assignref(x,y) in      AssignRef(Ident(\"x\"), Ident(\"y\")) \n",
    "                deref(x) \n",
    "                \n",
    "             essentially this program just created spot in memory, x, then changed it to the value of y. \n",
    "             \n",
    "& are not permitted in our program \n",
    "    \n",
    "    let *x = &p \n",
    "    \n",
    "Pointer arithmetic is also not allowed\n",
    "\n",
    "    int *z = y + 15\n",
    "```\n",
    "\n",
    "## Abstract Syntax: Lettuce with Explicit References. \n",
    "\n",
    "    Expr => Const(Double) \n",
    "            Ident(String) \n",
    "            Plus(Expr, Expr) \n",
    "            ...\n",
    "            Let(String, Expr, Expr) \n",
    "            FunDef(...)\n",
    "            FunCall(...)\n",
    "            LetRec(...) \n",
    "            \n",
    "            NewRef(Expr) \n",
    "            DeRef(Expr)    , this expression better be a reference. \n",
    "            AssignRef(Expr, Expr) \n",
    "            \n",
    "            \n",
    "We must make some adjustments to our value types. \n",
    "\n",
    "Value Types, so far we have\n",
    "               Value => NumValue(Double) \n",
    "                        BoolValue(Boolean) \n",
    "                        Closure(String, Expr, Environment) \n",
    "                        Error\n",
    "                        \n",
    "                        // this is the new stuff\n",
    "                        Reference(Int)  // integer is going to be a memory address. \n",
    "                        \n",
    "A store is a linear set \n",
    "\n",
    "## Reworking evaluatation steps\n",
    "\n",
    "    eval(e: Expr, env: Environment, x: Store): (Value, Store) \n",
    "\n",
    "\n",
    "1. Creation of a new cell\n",
    "    \n",
    "    newCell(s: Store, v: Value) : (Store, Int) \n",
    "        this function will return a new store with a new address added for the value and the new address created. \n",
    "        \n",
    "2.  getContents(s: Store, j: Int) : Value\n",
    "\n",
    "\n",
    "3.  setContents(s: Store, j: Int, v: Value) : Store\n",
    "\n",
    "\n",
    "## The new semantics for eval. \n",
    "\n",
    "Signature for eval have changed. \n",
    "    \n",
    "       eval(e: Expr, env: Environment, s: Store): (Value, Store)\n",
    "       \n",
    "       \n",
    "```\n",
    "    Consider the following program \n",
    "    \n",
    "        let n = newref(10) \n",
    "            in \n",
    "                (assignRef(x, 25) + dref(n) \n",
    "                \n",
    "                this program will work, but it has side effects, it will just do 25 + 25 \n",
    "```\n",
    "\n",
    "\n",
    "    \n"
   ]
  },
  {
   "cell_type": "markdown",
   "metadata": {
    "collapsed": true
   },
   "source": [
    "## Notes on Implicit-References-Vars\n",
    "\n",
    "### Implicit References \n",
    "Previously we, looked at references using statements such as NewRef, DeRef, and AssignRef. \n",
    "\n",
    "Our goal in this notebook is to mimic the behavior of mutable vars in scala. "
   ]
  },
  {
   "cell_type": "code",
   "execution_count": 1,
   "metadata": {},
   "outputs": [
    {
     "name": "stdout",
     "output_type": "stream",
     "text": [
      "The value of x is 11"
     ]
    },
    {
     "data": {
      "text/html": [
       "<div class=\"jp-RenderedText\">\n",
       "<pre><code><span style=\"color: rgb(0, 187, 187)\"><span class=\"ansi-cyan-fg\">x</span></span>: <span style=\"color: rgb(0, 187, 0)\"><span class=\"ansi-green-fg\">Int</span></span> = <span style=\"color: rgb(0, 187, 0)\"><span class=\"ansi-green-fg\">11</span></span>\n",
       "<span style=\"color: rgb(0, 187, 187)\"><span class=\"ansi-cyan-fg\">y</span></span>: <span style=\"color: rgb(0, 187, 0)\"><span class=\"ansi-green-fg\">Int</span></span> = <span style=\"color: rgb(0, 187, 0)\"><span class=\"ansi-green-fg\">10</span></span></code></pre>\n",
       "</div>"
      ],
      "text/plain": [
       "\u001b[36mx\u001b[39m: \u001b[32mInt\u001b[39m = \u001b[32m11\u001b[39m\n",
       "\u001b[36my\u001b[39m: \u001b[32mInt\u001b[39m = \u001b[32m10\u001b[39m"
      ]
     },
     "metadata": {},
     "output_type": "display_data"
    }
   ],
   "source": [
    "var x = 10\n",
    "val y = x \n",
    "x = x + 1\n",
    "print(s\"The value of x is $x\")"
   ]
  },
  {
   "cell_type": "markdown",
   "metadata": {},
   "source": [
    "In this lecture we will study __implicit references__. \n",
    "    * These are references but we do not want to use NewRef to create a reference, we will look at syntax similar to 'var' declarations in scala\n",
    "    * We do not wish to use derefs to get value. Whenever we refer toa var, we would directly like its value without using a deref \n",
    "    * Finally, we would like to use assignment on these vars just like we did on references\n",
    "    * Finally, we would like to use assignment on these vars like we did on references\n",
    "    \n",
    "\n",
    "### Syntax for Vars in Lettuce \n",
    "\n",
    "Let us add a bit of extra syntax that will allow us to create such implicit references. Since this is lettuce, we will use let var bidning to specify that whatever is being bound to an implicit reference. \n",
    "\n",
    "```\n",
    "    let var x = <expr> in <expr> \n",
    "```\n",
    "\n",
    "We will discard explicit reference operations NewRef, AssignRef, DeRef. Instead, we will just have the let var binidng to create new implicit references (we will call them \"vars\" since they will behave exactly like scala's vars), and assignments. \n",
    "\n",
    "Let us do some example programs. \n",
    "\n",
    "```\n",
    "    let var x = 10 in \n",
    "        let dummy = AssignVar(x, 20) in \n",
    "            x \n",
    "            \n",
    "This will be equivalent to \n",
    "\n",
    "    let x = NewRef(10) in \n",
    "        let dummy = AssignRef(x, 20) in \n",
    "            DeRef(x)\n",
    "```\n",
    "\n",
    "Not that AssignRef is now called AssignVar, there is no more DeRef. These are two major changes in our syntax. \n",
    "\n",
    "What does this program do\n",
    "\n",
    "```\n",
    "    let var x = 10 in \n",
    "        let g = function(y)\n",
    "            x```\n",
    "           in \n",
    "         let dummy = AssignVar(x, 20) in \n",
    "             g(dummy) \n",
    "             \n",
    "We can implement some funky stuff such as changing the binding of the function. \n",
    "\n",
    "    let var f = function (x) x + 10 in \n",
    "        let g = function(y) y - 10 in \n",
    "            let d = f(10) in \n",
    "                let dummy = AssignVar(f, g) \n",
    "                    in \n",
    "                        d - f(10) \n",
    "                        \n",
    "Notice how we assigned f to g because f is a var. So it is assignable. Also not that we do not need to say DeRef in this langauge. Finally, notice how g is an immutable val whereas f is a mutable var\n",
    "```\n",
    "\n",
    "## Abstract Syntax of Lettuce With Mutable References\n",
    "\n",
    "__Program__ --> TopLevel(__Expr__) \n",
    "__Expr__ --> All the other grammars...\n",
    "            | LetVar(Identifer, Expr, Expr) \n",
    "            | AssignVar(Identifier, Expr)   assign Var to a value\n",
    "            \n",
    "\n",
    "## Operational Semantics\n",
    "How do we evaluate implicit references under the hood? Simple, the same way as we evaluate explicit references. In other words, we are going to keep the innards of our interpreter unchanged from what it was previously \n",
    "\n",
    "\n",
    "Let us recap how this was done. This part is cut and paste from the last week's notes. \n",
    "    1. We will makea new value type for references since our expressions an evaluate to real numbers, booleans, closures and now   references. \n",
    "        2. To go hand in hand with references, we need to define an abstract notion of of memory. We will call this a store. \n",
    "        \n",
    "        Note that the vars will point to these references\n",
    "        \n",
    "## Stores\n",
    "\n",
    "Memory address are going to be numbered 0,1,2 ... with natrual numbers and each address is going to be associated with a value. \n",
    "\n",
    "The store needs to support the following operations. \n",
    "    * Create a new memory cell in the store and assign a value to it. This is exactly what will implement the NewRef operation. Let us call it \"createNewCell\" opeartion on stores. \n",
    "    * Lookup the value of memory cell. Let us call it \"lookupCellVlaue\" operation. If this value does not exist, we will return error (and bail) \n",
    "    * Assign a cell to a new vale. Let us call it assignToCell\n",
    "    \n",
    "Hand in hand with stores, we need to extend our vlau etype. Existing value types are \n",
    "\n",
    "    * ErrorValue - denotes and error, we just throw an exception \n",
    "    * NumValue(f) for number f, denoted as all REAL numbers\n",
    "    * BoolValue(b) for booleans\n",
    "    * Closure(x , e , sigma) for closures. We will denote these as Closure in our semantics. \n",
    "    \n",
    "    \n",
    "Finally, we add references: \n",
    "    * Reference(j) , which is a reference to a cell number j in our store. \n",
    "    \n",
    "## Operational Semantics\n",
    "Once again, our opeartional semantics defines a eval function that has three parts to it. \n",
    "\n",
    "       eval(expr, env, store) = value, new-store) \n",
    "       \n",
    "Let us explain how it will be organized. There are two kinds of bindings: \n",
    "    * immutable vals are bound to values in the environment\n",
    "    * mutable vars are bound to references(j) where j is an address in the store. \n",
    "    \n",
    "## Semantic Rule for Constant\n",
    "\n",
    "This rule does not change\n",
    "\n",
    "$$ \\semRule{}{\\eval(\\texttt{Const(f)}, \\sigma, s) = ( f, s) }{const} $$\n",
    "\n"
   ]
  },
  {
   "cell_type": "markdown",
   "metadata": {},
   "source": [
    "## Semantic Rule for Identifiers (How automatic Deref is implemented) \n",
    "\n",
    "Identifiers are going to be slightly more complex. Let us go over the first interesting case. The following rule ensures that whenever we evaluate an identifer x that happens to be a var, we will actually return the stored value\n",
    "\n",
    "$$\\semRule{x \\in \\text{domain}(\\sigma),\\ \\sigma(x) = \\texttt{Reference}(j), \\texttt{lookupCell}(s, j) = v}{ \\eval(\\texttt{Ident(x)}, \\sigma, s) = (v, s) }{ident-var-ok}$$\n",
    "\n",
    "\n",
    "* The variable x belongs to the environment SIGMA \n",
    "* it evaluates to a reference to cell j in store\n",
    "* cell j in store s has value v\n",
    "* Evaluating the identifer x under environment SIGMA and store s has value v\n",
    "\n",
    "\n",
    "Note how that whenever we touch a reference, we automatically chase the value corresponding to that reference in the store and return that. \n",
    "\n",
    "For immutables, we have the usual semantics: \n",
    "\n",
    "\n",
    "## Semantic Rules for LetVar\n",
    "We will now write the semantic rule for let ref. The idea is that we will generate a new reference. \n",
    "\n",
    "$$\\semRule{\\eval(\\texttt{e1}, \\sigma, s) = (v, s_1), \\;\\; v \\not= \\mathbf{error},\\;\\;\\; \\texttt{createNewCell}(s_1,v) = (j, s_2)\\;\\;  }{\\eval(\\texttt{LetVar(x, e1, e2)}, \\sigma, s) =  \\eval(\\texttt{e2}, \\sigma[x \\mapsto \\texttt{Reference}(j)], s_2 }{let-var-ok}$$"
   ]
  },
  {
   "cell_type": "markdown",
   "metadata": {},
   "source": [
    "* First evaluate e1 under the environment SIGMA and store s, results in value v that is not error and store s1. \n",
    "* create a new cell in s1, let it be a reference to cell number j in s2\n",
    "* evaluating let var x = e1 in e2 is the same as evaluating d2 under environemt sigma[x -> reference(j)] and store s2\n",
    "\n",
    "\n",
    "## Semantic Rule for AssignVar\n",
    "The semantic rule for AssignVar is the same as that for AssignRef but under a new guise. \n",
    "\n",
    "$$\\semRule{x \\in \\text{domain}(\\sigma),\\ \\sigma(x) = \\texttt{Reference}(j),\\;\\;\\eval(\\texttt{e}, \\sigma, s) = (v, s_1), \\;\\;  \\texttt{assignToCell}(s_1, j, v) = s_2}{ \\eval(\\texttt{AssignVar(x, e)}, \\sigma, s) = (v, s_2) } {assign-var-ok} $$"
   ]
  },
  {
   "cell_type": "markdown",
   "metadata": {},
   "source": [
    "* x must be ampped to a reference to cell j in the current envionrment sigma\n",
    "* e must evaluate under sigma and store s to v with new store s1\n",
    "* the store s2 is obtained when we assign the value v to cell j in s1\n",
    "* the expression AssignVar(x,e) under env sigma and store s yields value v and the store s2 \n",
    "\n",
    "The remaining rules remain unchanged "
   ]
  },
  {
   "cell_type": "markdown",
   "metadata": {},
   "source": [
    "# Function calls : call by value call by reference\n"
   ]
  },
  {
   "cell_type": "markdown",
   "metadata": {},
   "source": [
    "With the introduction to explicit and implicit references, we will need to dive a little deper into how function calls are handled and understood the key concepts of call by value vs orther calling conventions. Many lagnauges provide both calling conventions in some form and this is something we need to understand in the context of Lettuce with mutables. \n",
    "\n",
    "As a result of this lecutre, you will be able to understand some confusing aspects of langauges like Scala (and python) behave. "
   ]
  },
  {
   "cell_type": "code",
   "execution_count": 2,
   "metadata": {},
   "outputs": [
    {
     "data": {
      "text/plain": [
       "defined \u001b[32mfunction\u001b[39m \u001b[36mfoo\u001b[39m\n",
       "\u001b[36mz\u001b[39m: \u001b[32mInt\u001b[39m = \u001b[32m10\u001b[39m\n",
       "\u001b[36mres1_2\u001b[39m: \u001b[32mInt\u001b[39m = \u001b[32m5\u001b[39m"
      ]
     },
     "execution_count": 2,
     "metadata": {},
     "output_type": "execute_result"
    }
   ],
   "source": [
    "// Program A \n",
    "def foo(x: Int): Int = {\n",
    "    if (x % 2 == 1)\n",
    "        3 +x + 1\n",
    "    else{\n",
    "        x/2\n",
    "    }\n",
    "}\n",
    "\n",
    "/* Function call first evals the arg, then passes its \"Value\" \n",
    "    into the arugment of foo\n",
    "*/\n",
    "val z = 10  // immutable z \n",
    "foo(10)"
   ]
  },
  {
   "cell_type": "markdown",
   "metadata": {},
   "source": [
    "The program above should return the value 5. It is very easy to reason why. WHen we call foo(x), the value of x is bound to 10. The function foo is called withthe arugment 10 and rest is easy to reason about. "
   ]
  },
  {
   "cell_type": "code",
   "execution_count": 2,
   "metadata": {},
   "outputs": [
    {
     "name": "stderr",
     "output_type": "stream",
     "text": [
      "cmd2.sc:2: reassignment to val\n",
      "    x = 25 // assigns to 25\n",
      "      ^Compilation Failed"
     ]
    },
    {
     "ename": "",
     "evalue": "",
     "output_type": "error",
     "traceback": [
      "Compilation Failed"
     ]
    }
   ],
   "source": [
    "// Program B\n",
    "def bar (x: Int) : Int = { // paremeters to function calls are vals \n",
    "    x = 25 // assigns to 25\n",
    "    2 * x\n",
    "}\n",
    "\n",
    "var z = 12 // multable z \n",
    "/* function evals the arg(z) which is a return of the reference of\n",
    "what ever z is holding, so 12 */ \n",
    "bar(z) // mutables z's VALUE is being passed to bar, not the reference so this code doesn't work"
   ]
  },
  {
   "cell_type": "markdown",
   "metadata": {},
   "source": [
    "The program above delcares a __mutable__ variable z, assigns it to 12. When we try to pass it to the function bar as x and assigns it to 25 in of x. It does not work. The program complains that x is a val and cannot be resassigned. Let us try the same thing but in a different context"
   ]
  },
  {
   "cell_type": "code",
   "execution_count": 3,
   "metadata": {},
   "outputs": [
    {
     "name": "stdout",
     "output_type": "stream",
     "text": [
      "Before call to bar --> w.x = 0\n",
      "After call to bar --> w.x = 25\n"
     ]
    },
    {
     "data": {
      "text/plain": [
       "defined \u001b[32mclass\u001b[39m \u001b[36mWrapper\u001b[39m\n",
       "defined \u001b[32mfunction\u001b[39m \u001b[36mbar\u001b[39m\n",
       "\u001b[36mw\u001b[39m: \u001b[32mWrapper\u001b[39m = \u001b[33mWrapper\u001b[39m(\u001b[32m25\u001b[39m)\n",
       "\u001b[36mres2_4\u001b[39m: \u001b[32mInt\u001b[39m = \u001b[32m50\u001b[39m"
      ]
     },
     "execution_count": 3,
     "metadata": {},
     "output_type": "execute_result"
    }
   ],
   "source": [
    "// Program C\n",
    "case class Wrapper(var x: Int) // field x is a mutable \n",
    "\n",
    "def bar(z: Wrapper) : Int = {\n",
    "    z.x = 25 // assigns z.x to 25 \n",
    "    2 * z.x // returns 2 * z.x\n",
    "}\n",
    "\n",
    "\n",
    "/* Here you just created a wrapper holding a VAR X = 0 \n",
    "    so in essence you did essentially pass a reference to bar \n",
    "*/\n",
    "val w = Wrapper(0)\n",
    "println(\"Before call to bar --> w.x = \" + w.x)\n",
    "bar(w) // w is being \"passed by value\" \n",
    "println(\"After call to bar --> w.x = \" + w.x)"
   ]
  },
  {
   "cell_type": "markdown",
   "metadata": {},
   "source": [
    "Something very funny is happening her: \n",
    "    * In program B, we passed a mutable integer intoa function bar but it refused to reassign it and complains that we cannot reassign it. \n",
    "    * In program B, we wrap the mutable around a class wrapper and declare it/pass an instance of wrapper w as a val but it not only allows us to reassign but also updates the value of w.x\n",
    "    \n",
    "We will undertand this once we study things in the simple case of Lettuce    "
   ]
  },
  {
   "cell_type": "markdown",
   "metadata": {},
   "source": [
    "# Call By Value\n",
    "\n",
    "Call by value measn taht whenever we call a function on an arguement, \n",
    "    funcCalled ( arguement ) \n",
    "    \n",
    "the arugment is (fully) evaluated and its value is passed into the function call\n",
    "\n",
    "Consider the lettuce program: \n",
    "```\n",
    "    let x = 10 in \n",
    "        let f = function (z) \n",
    "            2 * z in \n",
    "               f( x + 20 ) \n",
    "```\n",
    "\n",
    "\n",
    "* First eval the argument: It evaluates to the number 30\n",
    "* Next, call the function on the value of the arguemnt\n",
    "    * The formal parameter z = now 30 \n",
    "    * Function returns 60 \n",
    "    \n",
    "Call by value is straightforward to reason about once you understand this principle. What will the foolowing Lettuce program evaluate to? \n",
    "\n",
    "```\n",
    "    let bar = function(x) \n",
    "        let dummy1 = assignref(x, 25) in \n",
    "            2 * dereft(x) \n",
    "            \n",
    "        in \n",
    "        let z = newref(12) in \n",
    "            bar(z) \n",
    "```\n",
    "\n",
    "Once again there is a function called bar(z). The rule for call by value is to evaluate the argument. \n",
    "    * The value of arugment z is reference(0): A reference to memory cell 0, which has the vlaue 12 in it. \n",
    "    * The code executes and assigns to reference that was passed in (now bound to the formal parameter z) \n",
    "    * as a result, the ocntents of the cell 0 in thememory are updated to 25 \n",
    "    * the result of the prgram is 50\n",
    "    \n",
    "In other words, call by value is able to achieve side effects when the value being passed in the function is a pointer \n",
    "\n",
    "\n",
    "## Scala always does call by value as default\n",
    "\n",
    "Scala supports two basic conventions: Call yb value and somewhat esoteric calling conventions such as \"call by name\" and \"call by need\" (using call by name and lazy values)\n",
    "\n",
    "```\n",
    "let us go back to program B above (recalled here)\n",
    "\n",
    "def bar(x: Int): Int = {\n",
    "    x = 25 \n",
    "    2 * x\n",
    "}\n",
    "\n",
    "var z = 12 \n",
    "bar(z) \n",
    "```\n",
    "It fails for two reasons: \n",
    "    * The parameters for functions in scala are always vals and thus immutbale. Thus the parameter x for function bar in the code above is an immutable and therfore it is not reassignable. \n",
    "    * The vale of z in the call to bar(z) is 12, and is passed directly as a NumValue(12) \n",
    "    \n",
    "There are langauges where this program would be excepted but still not work (python) \n",
    "\n",
    "In the lettuce langauge with implicit references, we still do call by value. \n",
    "\n",
    "    * we evaluate the arguement to bar(z) \n",
    "        * ident(\"z\") in the samentics of ident, evaluates not toa reference but to the actual contents of the memory, which is 12. \n",
    "        * the call to abr fails ebcasue, we try to do assignVar on an identifier x that is not a reference. \n",
    "        \n",
    "How do we then expalin the program of Program C (recalled below):\n",
    "```\n",
    "case class Wrapper(var x: Int)\n",
    "\n",
    "def bar(z: Wrapper): Int ={\n",
    "    // z = wrapper(1) \n",
    "    z.x = 25 \n",
    "    2 * z.x\n",
    "}\n",
    "\n",
    "val w = Wrapper(0)\n",
    "println(\"Before call to bar -- > w.x = \" + w.x)\n",
    "bar(w)\n",
    "println(\"After call to bar -- > w.x = \" + w.x)\n",
    "```\n",
    "\n",
    "Once again, scala will do a call by value. Therefore the call to bar(w) passes the object w we just created by value\n",
    "\n",
    "    * However, the value of an object (something declared as a calss or object) in scala is a pointer / reference to the object. Therefore, w is passed in as some kidn of a Reference( ... wherever w is stored ..) . As a rseult we are allowed to accses z.x in the program which is a var and is in fact the very same thing as w.x form outside of the function call. \n",
    "    \n",
    "    \n",
    "## Why special treatment for objects?\n",
    "Langauges like Scala(and java, and python etc) treat objects differently from basic types such as ints. The basic difference is that the value of an Int in the context of \"call by value\" is itself, whereas the value ascribed to an object in \"call by value\" is not a copy of the object but a reference to the contents of the object. You can see the difference in this program directly"
   ]
  },
  {
   "cell_type": "code",
   "execution_count": 4,
   "metadata": {},
   "outputs": [
    {
     "name": "stdout",
     "output_type": "stream",
     "text": [
      "Inside bar: Passed in value w = ammonite.$sess.cmd3$Helper$Wrapper@27bc7817\n",
      "Inside foo: passed in x = 20\n"
     ]
    },
    {
     "data": {
      "text/plain": [
       "defined \u001b[32mclass\u001b[39m \u001b[36mWrapper\u001b[39m\n",
       "defined \u001b[32mfunction\u001b[39m \u001b[36mbar\u001b[39m\n",
       "defined \u001b[32mfunction\u001b[39m \u001b[36mfoo\u001b[39m\n",
       "\u001b[36mx1\u001b[39m: \u001b[32mInt\u001b[39m = \u001b[32m10\u001b[39m\n",
       "\u001b[36mx2\u001b[39m: \u001b[32mInt\u001b[39m = \u001b[32m20\u001b[39m"
      ]
     },
     "execution_count": 4,
     "metadata": {},
     "output_type": "execute_result"
    }
   ],
   "source": [
    "class Wrapper(var x: Int)\n",
    "\n",
    "def bar(w: Wrapper): Int = {\n",
    "    println(\"Inside bar: Passed in value w = \" + w)\n",
    "    w.x\n",
    "}\n",
    "\n",
    "def foo(x: Int): Int = {\n",
    "    println(\"Inside foo: passed in x = \" + x)\n",
    "    x\n",
    "}\n",
    "\n",
    "val x1 = bar(new Wrapper(10))\n",
    "val x2 = foo(20)\n",
    "\n"
   ]
  },
  {
   "cell_type": "markdown",
   "metadata": {},
   "source": [
    "Languages like C and C++ do not do this kind of special treatment when you ask them to call by value they WILL make a copy of everything and call by value. This can be quite expensive. \n",
    "\n",
    "\n",
    "# Call by Reference\n",
    "\n",
    "In call by reference smenatics, the value ofth eparameters are notpassed but rather the parameters are passed as references. This was orginallaly implemented in fortran. Let us take an example in \"fortran\" - like syntax\n",
    "\n",
    "```\n",
    "    SUBROUTINE SWAP( X, Y) \n",
    "        TMP = X\n",
    "        X = Y\n",
    "        Y = TMP\n",
    "    A = 45\n",
    "    B = 55\n",
    "    SWAP (A, B) \n",
    "```\n",
    "\n",
    "Here, we define a \"subroutine\" called SWAP with two arguments, X and Y: it exchanges their values. In a regular call by value semantics, this program has no effect on A and B outside function call. This is because , in call by value, SWAP is called on the numbers 45 and 55. In call by reference, the call to the swap function SWAP maps the parameter X to A and Y to B\n",
    "\n",
    "Therefore the assignments that happen to X, Y insdie the functoin reflect on the variables A, B in the caller of the function\n",
    "\n",
    "C++ supports call by reference by placing an & in front of the parameter in the functino definiont \n",
    "\n",
    "```\n",
    "void swap( &x, &y){\n",
    "    int temp = x \n",
    "    x = y\n",
    "    y = temp\n",
    "}\n",
    "\n",
    "void main(){\n",
    "    int a = 45; \n",
    "    int b = 55; \n",
    "    swap(a,b) // thought you had to put *a, *b\n",
    "    // values are now swapped. \n",
    "}\n",
    "```\n",
    "\n",
    "Call by reference is useful because it allows the following advantages\n",
    "    * Allow \"return parameters\" which are assigned inside the function as multiple return values. \n",
    "    * Allow lower cost of passing of large data structures since they will perform a copy. \n",
    "    \n",
    "Going back to the previous example, we can write the function foo with call by reference. This stops the compiler from performing a copy of the entire BigDataStruct contents when foo is called. \n",
    "\n",
    "\n",
    "# Continuation Passing Style\n",
    "\n",
    "Thus far, we have built interpretters for various features in Lettuce. However, all of our interpreters depended on recurisive calls to the eval function . The use of revursion was very convenient for us to translate smeantics directly intoa scala program. However, this is ont idael since we all know about recursion and stacks. Thus, alrge programs can cause the stack to overflow\n",
    "\n",
    "In this lecutr,e we wil revist the theme of eliminating non-tail recursion. We have already done this using an accumulator. However, accumulators are limited in their scope. We will now prseenta. general scheme that works without accumulators. \n",
    "\n",
    "## Recap: Recursion, Tail Recursion and Eliminating the Non-Tail Recusion\n",
    "\n",
    "1. Recursion causes the acivation of records to grow on the stack, potentially causing a stack overflow. \n",
    "2. Tail recursion is a benign case when the result of any recursive call are returned without any further processing\n",
    "3. Tail recursive calls can be implemented such that the activations need not to grow. \n"
   ]
  },
  {
   "cell_type": "code",
   "execution_count": 5,
   "metadata": {},
   "outputs": [
    {
     "data": {
      "text/plain": [
       "defined \u001b[32mfunction\u001b[39m \u001b[36mrec_fun1\u001b[39m\n",
       "defined \u001b[32mfunction\u001b[39m \u001b[36mrec_fun2\u001b[39m\n",
       "defined \u001b[32mfunction\u001b[39m \u001b[36mrec_fun3\u001b[39m\n",
       "defined \u001b[32mfunction\u001b[39m \u001b[36mrec_fun4\u001b[39m\n",
       "defined \u001b[32mfunction\u001b[39m \u001b[36mfoo\u001b[39m\n",
       "defined \u001b[32mfunction\u001b[39m \u001b[36mrec_fun5\u001b[39m\n",
       "defined \u001b[32mfunction\u001b[39m \u001b[36mrec_fun6\u001b[39m"
      ]
     },
     "execution_count": 5,
     "metadata": {},
     "output_type": "execute_result"
    }
   ],
   "source": [
    "/*-- Examples: As an exercise, classify these calls as tail recursive or not --*/\n",
    "\n",
    "def rec_fun1(x: Int): Int = {// yes\n",
    "    if (x <= 0) {\n",
    "        x\n",
    "    } else {\n",
    "        rec_fun1(x - 10)\n",
    "    }\n",
    "}\n",
    "\n",
    "def rec_fun2(y: Int = 0, x: Int): Int = {\n",
    "    if (x <= 10) {\n",
    "        y\n",
    "    } else {\n",
    "        rec_fun2(y + 1, x - 10)  // yes \n",
    "    }\n",
    "}\n",
    "\n",
    "\n",
    "def rec_fun3( x: Int): Int = { // no \n",
    "    if (x <= 10) {\n",
    "        x - 10\n",
    "    } else {\n",
    "        1 + rec_fun3( x - 10)\n",
    "    }\n",
    "}\n",
    "\n",
    "\n",
    "def rec_fun4( x: Int): Int = {\n",
    "    if (x <= 10) {\n",
    "        x - 5\n",
    "    } else {\n",
    "        rec_fun1 ( rec_fun4( x - 10) ) // no \n",
    "    }\n",
    "}\n",
    "\n",
    "def foo(x: Int): Int = { x - 15}\n",
    "\n",
    "def rec_fun5(x: Int): Int = { //yes\n",
    "    if (x <= 0){\n",
    "        foo(x)\n",
    "    } else {\n",
    "        rec_fun5(foo(x))\n",
    "    }\n",
    "}\n",
    "\n",
    "\n",
    "def rec_fun6(x: Int): Int = {  // no \n",
    "    if (x <= 0){\n",
    "        foo(x)\n",
    "    } else {\n",
    "        foo(rec_fun6(x-5))\n",
    "    }\n",
    "}"
   ]
  },
  {
   "cell_type": "markdown",
   "metadata": {},
   "source": [
    "# Continuations and Continuation Passing Style\n",
    "Continuation passing style (CPS) is a \"style\" of programming wherin every function willhave an extra argument called the continaution. A continuation function that is passed in and specifies what the caller wishes to do with the result that has been computed. \n",
    "\n",
    "Take for instance, a function func that takes in an integer and returns an integer\n",
    "\n",
    "```\n",
    "    def func(x: Int): Int = {\n",
    "        // .. do some work to comput result ..\n",
    "        return result\n",
    "    }\n",
    "    \n",
    "In the CPS, this function will now be written as \n",
    "\n",
    "    def func0k(x: Int, k: Int => Int): Int = {\n",
    "       // do some work to get the result \n",
    "       k(result) // pass the result on to the continuation \n",
    "    }\n",
    "```\n",
    "\n",
    "Note that funk-k takes in an extra argument k called continuation. It is the function throw which the called specifies what they awnt done with the result of the call. Rather than return the result and make the caller operate on it, the caller simply bundles up the results and passes it all in \n",
    "\n",
    "Lets look at a concrete example. First take a look at these three functions defined below"
   ]
  },
  {
   "cell_type": "code",
   "execution_count": 6,
   "metadata": {},
   "outputs": [
    {
     "data": {
      "text/plain": [
       "defined \u001b[32mfunction\u001b[39m \u001b[36maddUp\u001b[39m\n",
       "defined \u001b[32mfunction\u001b[39m \u001b[36mmultiply\u001b[39m\n",
       "defined \u001b[32mfunction\u001b[39m \u001b[36mmadd\u001b[39m"
      ]
     },
     "execution_count": 6,
     "metadata": {},
     "output_type": "execute_result"
    }
   ],
   "source": [
    "def addUp(x: Int, y: Int, z: Int): Int = {\n",
    "    x + y + z \n",
    "}\n",
    "\n",
    "def multiply(x: Int, y: Int): Int ={\n",
    "    x * y \n",
    "}\n",
    "\n",
    "def madd(x: Int, y: Int , z: Int): Int =  {\n",
    "    val v1 = multiply(x,y) \n",
    "    val v2 = addUp(v1, y, z) \n",
    "    return v2\n",
    "}"
   ]
  },
  {
   "cell_type": "code",
   "execution_count": 7,
   "metadata": {
    "scrolled": true
   },
   "outputs": [
    {
     "name": "stdout",
     "output_type": "stream",
     "text": [
      "7\n"
     ]
    }
   ],
   "source": [
    "println(madd(1,2,3))"
   ]
  },
  {
   "cell_type": "markdown",
   "metadata": {},
   "source": [
    "Let us now create the CPS version of these functions "
   ]
  },
  {
   "cell_type": "code",
   "execution_count": 8,
   "metadata": {},
   "outputs": [
    {
     "data": {
      "text/plain": [
       "defined \u001b[32mfunction\u001b[39m \u001b[36maddUp_k\u001b[39m\n",
       "defined \u001b[32mfunction\u001b[39m \u001b[36mmultiply_k\u001b[39m\n",
       "defined \u001b[32mfunction\u001b[39m \u001b[36mmadd_k\u001b[39m"
      ]
     },
     "execution_count": 8,
     "metadata": {},
     "output_type": "execute_result"
    }
   ],
   "source": [
    "def addUp_k(x: Int, y: Int, z:Int, k: Int => Int): Int = {\n",
    "    k(x + y + z)\n",
    "}\n",
    "\n",
    "def multiply_k(x: Int, y: Int, k: Int => Int): Int = {\n",
    "    k ( x * y)\n",
    "}\n",
    "\n",
    "def madd_k(x: Int, y: Int, z: Int, k: Int => Int): Int ={\n",
    "    // Create a new continuation.\n",
    "    // This continuation k1 is a closure that will be passed to multiply.\n",
    "    // It will be called by addUp_k but must do the work that was originally done by madd.\n",
    "    def k1(v1: Int): Int = addUp_k(v1, y, z, k) // Call addUp on v1, y, z and ask addUp_k to run k on the result.\n",
    "    multiply_k(x, y, k1)\n",
    "}\n"
   ]
  },
  {
   "cell_type": "code",
   "execution_count": 9,
   "metadata": {},
   "outputs": [
    {
     "data": {
      "text/plain": [
       "\u001b[36mres8\u001b[39m: \u001b[32mInt\u001b[39m = \u001b[32m7\u001b[39m"
      ]
     },
     "execution_count": 9,
     "metadata": {},
     "output_type": "execute_result"
    }
   ],
   "source": [
    "madd_k(1,2,3, x=>x) // the function x => x is the identity function that just returns the argument"
   ]
  },
  {
   "cell_type": "markdown",
   "metadata": {},
   "source": [
    "A few things to notice: \n",
    "    * First, the translation for addUp and multiply to addUp_ka nd multiply_k is straightforward. These functions get a new arugment k for the continuation. They simply compute what they did orignally and instead of returning the result, they simply call k on it. \n",
    "    * However, the tricky function is madd_k function. What did the madd function do? \n",
    "    \n",
    "        * called up addUp on x, y \n",
    "        * took the result and called the addUp function \n",
    "   * Thus , we can write down that madd_k should do\n",
    "       * call mulitply_k on x,y and pass a continuation k1 to mulitply_k. What must this continuation do? \n",
    "       * The continuation k1 should do the arrears work madd would have done after the call to multiply returned\n",
    "       \n",
    "           1. call addUp_k\n",
    "           2. Pass the result on to k"
   ]
  },
  {
   "cell_type": "code",
   "execution_count": 10,
   "metadata": {},
   "outputs": [
    {
     "data": {
      "text/plain": [
       "defined \u001b[32mfunction\u001b[39m \u001b[36mf1\u001b[39m\n",
       "defined \u001b[32mfunction\u001b[39m \u001b[36mf1_k\u001b[39m"
      ]
     },
     "execution_count": 10,
     "metadata": {},
     "output_type": "execute_result"
    }
   ],
   "source": [
    "def f1(x: Int): Int = {\n",
    "    if (x <= 0){\n",
    "        1\n",
    "    }\n",
    "    else{\n",
    "        3 + f1(x - 10)\n",
    "    }\n",
    "}\n",
    "\n",
    "def f1_k(x: Int, k: Int => Int): Int = {\n",
    "    if (x <= 0){\n",
    "        k(1)\n",
    "    }\n",
    "    else{\n",
    "        def k1(v: Int): Int = k(3 + v) // tell what to do with the result of the call\n",
    "        f1_k(x - 10, k1) \n",
    "    }\n",
    "}"
   ]
  },
  {
   "cell_type": "code",
   "execution_count": 11,
   "metadata": {},
   "outputs": [
    {
     "name": "stdout",
     "output_type": "stream",
     "text": [
      "10\n",
      "10\n"
     ]
    }
   ],
   "source": [
    "println(f1(25))\n",
    "println(f1_k(25, x => x))"
   ]
  },
  {
   "cell_type": "code",
   "execution_count": 12,
   "metadata": {},
   "outputs": [
    {
     "data": {
      "text/plain": [
       "\u001b[32mimport \u001b[39m\u001b[36mscala.annotation.tailrec\n",
       "\u001b[39m\n",
       "defined \u001b[32mfunction\u001b[39m \u001b[36mfactorial\u001b[39m\n",
       "defined \u001b[32mfunction\u001b[39m \u001b[36mfactorial_k\u001b[39m"
      ]
     },
     "execution_count": 12,
     "metadata": {},
     "output_type": "execute_result"
    }
   ],
   "source": [
    "import scala.annotation.tailrec\n",
    "def factorial(n: Int) : Int = {\n",
    "    if (n <= 0){\n",
    "        1\n",
    "    }else{\n",
    "        n * factorial(n-1) \n",
    "    }\n",
    "}\n",
    "\n",
    "@tailrec\n",
    "def factorial_k(n: Int, k: Int => Int): Int = {\n",
    "    if (n <= 0){\n",
    "        k(1)\n",
    "    }else{\n",
    "        def k1(v: Int): Int = {\n",
    "            k(v * n)\n",
    "        }\n",
    "        factorial_k(n, k1) \n",
    "    }\n",
    "}"
   ]
  },
  {
   "cell_type": "markdown",
   "metadata": {},
   "source": [
    "Note that the CPS style has important properties that you should check: \n",
    "    1. Every function f_k now has an extra argument called the continuation. \n",
    "    2. Teh input to the continuation is the result of the funciton f, output the type is same as input tpy.e \n",
    "    3. the original call has a \"terminal continuation\" typically x => x \n",
    "    4. each path in the code ends in a function call and there cannot be any intermiediate funciton call. \n",
    "    5. __ all of these calls are tail calls __ \n",
    "    \n",
    "In theory therefore, these tail calls must be optimaized away by the compiler/interpreter. However, in practice it may not always be as simple. For instance, Scala has serious limitaiton on how it handles tail calls.     "
   ]
  },
  {
   "cell_type": "code",
   "execution_count": 13,
   "metadata": {},
   "outputs": [
    {
     "data": {
      "text/plain": [
       "defined \u001b[32mfunction\u001b[39m \u001b[36mfibonacci\u001b[39m\n",
       "defined \u001b[32mfunction\u001b[39m \u001b[36mfibonacci_k\u001b[39m"
      ]
     },
     "execution_count": 13,
     "metadata": {},
     "output_type": "execute_result"
    }
   ],
   "source": [
    "def fibonacci(n: Int): Int = {\n",
    "    if (n < 2){\n",
    "        1\n",
    "    } else {\n",
    "        fibonacci(n-1) + fibonacci(n-2)\n",
    "    }    \n",
    "}\n",
    "\n",
    "\n",
    "def fibonacci_k(n: Int, k: Int => Int): Int = {\n",
    "    if (n < 2) {\n",
    "        k(1)\n",
    "    } else {\n",
    "        // k1 is the continuation that will be passed to \n",
    "        // fibonacci(n-1). It instructs that call on what to do \n",
    "        // afterwards.\n",
    "        def k1(v: Int): Int = {\n",
    "            // k2 is the continuation that will be passed to \n",
    "            // fibonacci(n-2). It instructs that call on what to do \n",
    "            // afterwards.\n",
    "            def k2(v2: Int): Int = {\n",
    "                k (v + v2) // Just add up the two fibonacci results and pass it to k.\n",
    "            }\n",
    "            fibonacci_k(n-2, k2) // Call fibonacci on n-2 and execute function k2 on the result\n",
    "        }\n",
    "        // call fibonacci on n-1 and execute k1 on the result.\n",
    "        fibonacci_k(n-1, k1)\n",
    "    }\n",
    "}"
   ]
  },
  {
   "cell_type": "code",
   "execution_count": 14,
   "metadata": {},
   "outputs": [
    {
     "name": "stdout",
     "output_type": "stream",
     "text": [
      "233\n",
      "233\n"
     ]
    }
   ],
   "source": [
    "println(fibonacci(12))\n",
    "println(fibonacci_k(12, x => x))"
   ]
  },
  {
   "cell_type": "code",
   "execution_count": 15,
   "metadata": {},
   "outputs": [
    {
     "ename": "",
     "evalue": "",
     "output_type": "error",
     "traceback": [
      "\u001b[31mjava.lang.StackOverflowError\u001b[39m\n  ammonite.$sess.cmd12$Helper.$anonfun$fibonacci_k$1(\u001b[32mcmd12.sc\u001b[39m:\u001b[32m24\u001b[39m)\n  ammonite.$sess.cmd12$Helper.k2$1(\u001b[32mcmd12.sc\u001b[39m:\u001b[32m22\u001b[39m)\n  ammonite.$sess.cmd12$Helper.$anonfun$fibonacci_k$1(\u001b[32mcmd12.sc\u001b[39m:\u001b[32m24\u001b[39m)\n  ammonite.$sess.cmd12$Helper.fibonacci_k(\u001b[32mcmd12.sc\u001b[39m:\u001b[32m12\u001b[39m)\n  ammonite.$sess.cmd12$Helper.k1$1(\u001b[32mcmd12.sc\u001b[39m:\u001b[32m24\u001b[39m)\n  ammonite.$sess.cmd12$Helper.$anonfun$fibonacci_k$2(\u001b[32mcmd12.sc\u001b[39m:\u001b[32m27\u001b[39m)\n  ammonite.$sess.cmd12$Helper.fibonacci_k(\u001b[32mcmd12.sc\u001b[39m:\u001b[32m12\u001b[39m)\n  ammonite.$sess.cmd12$Helper.k1$1(\u001b[32mcmd12.sc\u001b[39m:\u001b[32m24\u001b[39m)\n  ammonite.$sess.cmd12$Helper.$anonfun$fibonacci_k$2(\u001b[32mcmd12.sc\u001b[39m:\u001b[32m27\u001b[39m)\n  ammonite.$sess.cmd12$Helper.k2$1(\u001b[32mcmd12.sc\u001b[39m:\u001b[32m22\u001b[39m)\n  ammonite.$sess.cmd12$Helper.$anonfun$fibonacci_k$1(\u001b[32mcmd12.sc\u001b[39m:\u001b[32m24\u001b[39m)\n  ammonite.$sess.cmd12$Helper.fibonacci_k(\u001b[32mcmd12.sc\u001b[39m:\u001b[32m12\u001b[39m)\n  ammonite.$sess.cmd12$Helper.k1$1(\u001b[32mcmd12.sc\u001b[39m:\u001b[32m24\u001b[39m)\n  ammonite.$sess.cmd12$Helper.$anonfun$fibonacci_k$2(\u001b[32mcmd12.sc\u001b[39m:\u001b[32m27\u001b[39m)\n  ammonite.$sess.cmd12$Helper.k2$1(\u001b[32mcmd12.sc\u001b[39m:\u001b[32m22\u001b[39m)\n  ammonite.$sess.cmd12$Helper.$anonfun$fibonacci_k$1(\u001b[32mcmd12.sc\u001b[39m:\u001b[32m24\u001b[39m)\n  ammonite.$sess.cmd12$Helper.fibonacci_k(\u001b[32mcmd12.sc\u001b[39m:\u001b[32m12\u001b[39m)\n  ammonite.$sess.cmd12$Helper.k1$1(\u001b[32mcmd12.sc\u001b[39m:\u001b[32m24\u001b[39m)\n  ammonite.$sess.cmd12$Helper.$anonfun$fibonacci_k$2(\u001b[32mcmd12.sc\u001b[39m:\u001b[32m27\u001b[39m)\n  ammonite.$sess.cmd12$Helper.fibonacci_k(\u001b[32mcmd12.sc\u001b[39m:\u001b[32m12\u001b[39m)\n  ammonite.$sess.cmd12$Helper.k1$1(\u001b[32mcmd12.sc\u001b[39m:\u001b[32m24\u001b[39m)\n  ammonite.$sess.cmd12$Helper.$anonfun$fibonacci_k$2(\u001b[32mcmd12.sc\u001b[39m:\u001b[32m27\u001b[39m)\n  ammonite.$sess.cmd12$Helper.k2$1(\u001b[32mcmd12.sc\u001b[39m:\u001b[32m22\u001b[39m)\n  ammonite.$sess.cmd12$Helper.$anonfun$fibonacci_k$1(\u001b[32mcmd12.sc\u001b[39m:\u001b[32m24\u001b[39m)\n  ammonite.$sess.cmd12$Helper.k2$1(\u001b[32mcmd12.sc\u001b[39m:\u001b[32m22\u001b[39m)\n  ammonite.$sess.cmd12$Helper.$anonfun$fibonacci_k$1(\u001b[32mcmd12.sc\u001b[39m:\u001b[32m24\u001b[39m)\n  ammonite.$sess.cmd12$Helper.k2$1(\u001b[32mcmd12.sc\u001b[39m:\u001b[32m22\u001b[39m)\n  ammonite.$sess.cmd12$Helper.$anonfun$fibonacci_k$1(\u001b[32mcmd12.sc\u001b[39m:\u001b[32m24\u001b[39m)\n  ammonite.$sess.cmd12$Helper.fibonacci_k(\u001b[32mcmd12.sc\u001b[39m:\u001b[32m12\u001b[39m)\n  ammonite.$sess.cmd12$Helper.k1$1(\u001b[32mcmd12.sc\u001b[39m:\u001b[32m24\u001b[39m)\n  ammonite.$sess.cmd12$Helper.$anonfun$fibonacci_k$2(\u001b[32mcmd12.sc\u001b[39m:\u001b[32m27\u001b[39m)\n  ammonite.$sess.cmd12$Helper.fibonacci_k(\u001b[32mcmd12.sc\u001b[39m:\u001b[32m12\u001b[39m)\n  ammonite.$sess.cmd12$Helper.k1$1(\u001b[32mcmd12.sc\u001b[39m:\u001b[32m24\u001b[39m)\n  ammonite.$sess.cmd12$Helper.$anonfun$fibonacci_k$2(\u001b[32mcmd12.sc\u001b[39m:\u001b[32m27\u001b[39m)\n  ammonite.$sess.cmd12$Helper.k2$1(\u001b[32mcmd12.sc\u001b[39m:\u001b[32m22\u001b[39m)\n  ammonite.$sess.cmd12$Helper.$anonfun$fibonacci_k$1(\u001b[32mcmd12.sc\u001b[39m:\u001b[32m24\u001b[39m)\n  ammonite.$sess.cmd12$Helper.fibonacci_k(\u001b[32mcmd12.sc\u001b[39m:\u001b[32m12\u001b[39m)\n  ammonite.$sess.cmd12$Helper.k1$1(\u001b[32mcmd12.sc\u001b[39m:\u001b[32m24\u001b[39m)\n  ammonite.$sess.cmd12$Helper.$anonfun$fibonacci_k$2(\u001b[32mcmd12.sc\u001b[39m:\u001b[32m27\u001b[39m)\n  ammonite.$sess.cmd12$Helper.k2$1(\u001b[32mcmd12.sc\u001b[39m:\u001b[32m22\u001b[39m)\n  ammonite.$sess.cmd12$Helper.$anonfun$fibonacci_k$1(\u001b[32mcmd12.sc\u001b[39m:\u001b[32m24\u001b[39m)\n  ammonite.$sess.cmd12$Helper.fibonacci_k(\u001b[32mcmd12.sc\u001b[39m:\u001b[32m12\u001b[39m)\n  ammonite.$sess.cmd12$Helper.k1$1(\u001b[32mcmd12.sc\u001b[39m:\u001b[32m24\u001b[39m)\n  ammonite.$sess.cmd12$Helper.$anonfun$fibonacci_k$2(\u001b[32mcmd12.sc\u001b[39m:\u001b[32m27\u001b[39m)\n  ammonite.$sess.cmd12$Helper.fibonacci_k(\u001b[32mcmd12.sc\u001b[39m:\u001b[32m12\u001b[39m)\n  ammonite.$sess.cmd12$Helper.k1$1(\u001b[32mcmd12.sc\u001b[39m:\u001b[32m24\u001b[39m)\n  ammonite.$sess.cmd12$Helper.$anonfun$fibonacci_k$2(\u001b[32mcmd12.sc\u001b[39m:\u001b[32m27\u001b[39m)\n  ammonite.$sess.cmd12$Helper.k2$1(\u001b[32mcmd12.sc\u001b[39m:\u001b[32m22\u001b[39m)\n  ammonite.$sess.cmd12$Helper.$anonfun$fibonacci_k$1(\u001b[32mcmd12.sc\u001b[39m:\u001b[32m24\u001b[39m)\n  ammonite.$sess.cmd12$Helper.k2$1(\u001b[32mcmd12.sc\u001b[39m:\u001b[32m22\u001b[39m)\n  ammonite.$sess.cmd12$Helper.$anonfun$fibonacci_k$1(\u001b[32mcmd12.sc\u001b[39m:\u001b[32m24\u001b[39m)\n  ammonite.$sess.cmd12$Helper.fibonacci_k(\u001b[32mcmd12.sc\u001b[39m:\u001b[32m12\u001b[39m)\n  ammonite.$sess.cmd12$Helper.k1$1(\u001b[32mcmd12.sc\u001b[39m:\u001b[32m24\u001b[39m)\n  ammonite.$sess.cmd12$Helper.$anonfun$fibonacci_k$2(\u001b[32mcmd12.sc\u001b[39m:\u001b[32m27\u001b[39m)\n  ammonite.$sess.cmd12$Helper.k2$1(\u001b[32mcmd12.sc\u001b[39m:\u001b[32m22\u001b[39m)\n  ammonite.$sess.cmd12$Helper.$anonfun$fibonacci_k$1(\u001b[32mcmd12.sc\u001b[39m:\u001b[32m24\u001b[39m)\n  ammonite.$sess.cmd12$Helper.fibonacci_k(\u001b[32mcmd12.sc\u001b[39m:\u001b[32m12\u001b[39m)\n  ammonite.$sess.cmd12$Helper.k1$1(\u001b[32mcmd12.sc\u001b[39m:\u001b[32m24\u001b[39m)\n  ammonite.$sess.cmd12$Helper.$anonfun$fibonacci_k$2(\u001b[32mcmd12.sc\u001b[39m:\u001b[32m27\u001b[39m)\n  ammonite.$sess.cmd12$Helper.fibonacci_k(\u001b[32mcmd12.sc\u001b[39m:\u001b[32m12\u001b[39m)\n  ammonite.$sess.cmd12$Helper.k1$1(\u001b[32mcmd12.sc\u001b[39m:\u001b[32m24\u001b[39m)\n  ammonite.$sess.cmd12$Helper.$anonfun$fibonacci_k$2(\u001b[32mcmd12.sc\u001b[39m:\u001b[32m27\u001b[39m)\n  ammonite.$sess.cmd12$Helper.k2$1(\u001b[32mcmd12.sc\u001b[39m:\u001b[32m22\u001b[39m)\n  ammonite.$sess.cmd12$Helper.$anonfun$fibonacci_k$1(\u001b[32mcmd12.sc\u001b[39m:\u001b[32m24\u001b[39m)\n  ammonite.$sess.cmd12$Helper.k2$1(\u001b[32mcmd12.sc\u001b[39m:\u001b[32m22\u001b[39m)\n  ammonite.$sess.cmd12$Helper.$anonfun$fibonacci_k$1(\u001b[32mcmd12.sc\u001b[39m:\u001b[32m24\u001b[39m)\n  ammonite.$sess.cmd12$Helper.fibonacci_k(\u001b[32mcmd12.sc\u001b[39m:\u001b[32m12\u001b[39m)\n  ammonite.$sess.cmd12$Helper.k1$1(\u001b[32mcmd12.sc\u001b[39m:\u001b[32m24\u001b[39m)\n  ammonite.$sess.cmd12$Helper.$anonfun$fibonacci_k$2(\u001b[32mcmd12.sc\u001b[39m:\u001b[32m27\u001b[39m)\n  ammonite.$sess.cmd12$Helper.fibonacci_k(\u001b[32mcmd12.sc\u001b[39m:\u001b[32m12\u001b[39m)\n  ammonite.$sess.cmd12$Helper.k1$1(\u001b[32mcmd12.sc\u001b[39m:\u001b[32m24\u001b[39m)\n  ammonite.$sess.cmd12$Helper.$anonfun$fibonacci_k$2(\u001b[32mcmd12.sc\u001b[39m:\u001b[32m27\u001b[39m)\n  ammonite.$sess.cmd12$Helper.k2$1(\u001b[32mcmd12.sc\u001b[39m:\u001b[32m22\u001b[39m)\n  ammonite.$sess.cmd12$Helper.$anonfun$fibonacci_k$1(\u001b[32mcmd12.sc\u001b[39m:\u001b[32m24\u001b[39m)\n  ammonite.$sess.cmd12$Helper.fibonacci_k(\u001b[32mcmd12.sc\u001b[39m:\u001b[32m12\u001b[39m)\n  ammonite.$sess.cmd12$Helper.k1$1(\u001b[32mcmd12.sc\u001b[39m:\u001b[32m24\u001b[39m)\n  ammonite.$sess.cmd12$Helper.$anonfun$fibonacci_k$2(\u001b[32mcmd12.sc\u001b[39m:\u001b[32m27\u001b[39m)\n  ammonite.$sess.cmd12$Helper.k2$1(\u001b[32mcmd12.sc\u001b[39m:\u001b[32m22\u001b[39m)\n  ammonite.$sess.cmd12$Helper.$anonfun$fibonacci_k$1(\u001b[32mcmd12.sc\u001b[39m:\u001b[32m24\u001b[39m)\n  ammonite.$sess.cmd12$Helper.fibonacci_k(\u001b[32mcmd12.sc\u001b[39m:\u001b[32m12\u001b[39m)\n  ammonite.$sess.cmd12$Helper.k1$1(\u001b[32mcmd12.sc\u001b[39m:\u001b[32m24\u001b[39m)\n  ammonite.$sess.cmd12$Helper.$anonfun$fibonacci_k$2(\u001b[32mcmd12.sc\u001b[39m:\u001b[32m27\u001b[39m)\n  ammonite.$sess.cmd12$Helper.fibonacci_k(\u001b[32mcmd12.sc\u001b[39m:\u001b[32m12\u001b[39m)\n  ammonite.$sess.cmd12$Helper.k1$1(\u001b[32mcmd12.sc\u001b[39m:\u001b[32m24\u001b[39m)\n  ammonite.$sess.cmd12$Helper.$anonfun$fibonacci_k$2(\u001b[32mcmd12.sc\u001b[39m:\u001b[32m27\u001b[39m)\n  ammonite.$sess.cmd12$Helper.k2$1(\u001b[32mcmd12.sc\u001b[39m:\u001b[32m22\u001b[39m)\n  ammonite.$sess.cmd12$Helper.$anonfun$fibonacci_k$1(\u001b[32mcmd12.sc\u001b[39m:\u001b[32m24\u001b[39m)\n  ammonite.$sess.cmd12$Helper.k2$1(\u001b[32mcmd12.sc\u001b[39m:\u001b[32m22\u001b[39m)\n  ammonite.$sess.cmd12$Helper.$anonfun$fibonacci_k$1(\u001b[32mcmd12.sc\u001b[39m:\u001b[32m24\u001b[39m)\n  ammonite.$sess.cmd12$Helper.k2$1(\u001b[32mcmd12.sc\u001b[39m:\u001b[32m22\u001b[39m)\n  ammonite.$sess.cmd12$Helper.$anonfun$fibonacci_k$1(\u001b[32mcmd12.sc\u001b[39m:\u001b[32m24\u001b[39m)\n  ammonite.$sess.cmd12$Helper.k2$1(\u001b[32mcmd12.sc\u001b[39m:\u001b[32m22\u001b[39m)\n  ammonite.$sess.cmd12$Helper.$anonfun$fibonacci_k$1(\u001b[32mcmd12.sc\u001b[39m:\u001b[32m24\u001b[39m)\n  ammonite.$sess.cmd12$Helper.fibonacci_k(\u001b[32mcmd12.sc\u001b[39m:\u001b[32m12\u001b[39m)\n  ammonite.$sess.cmd12$Helper.k1$1(\u001b[32mcmd12.sc\u001b[39m:\u001b[32m24\u001b[39m)\n  ammonite.$sess.cmd12$Helper.$anonfun$fibonacci_k$2(\u001b[32mcmd12.sc\u001b[39m:\u001b[32m27\u001b[39m)\n  ammonite.$sess.cmd12$Helper.k2$1(\u001b[32mcmd12.sc\u001b[39m:\u001b[32m22\u001b[39m)\n  ammonite.$sess.cmd12$Helper.$anonfun$fibonacci_k$1(\u001b[32mcmd12.sc\u001b[39m:\u001b[32m24\u001b[39m)\n  ammonite.$sess.cmd12$Helper.fibonacci_k(\u001b[32mcmd12.sc\u001b[39m:\u001b[32m12\u001b[39m)\n  ammonite.$sess.cmd12$Helper.k1$1(\u001b[32mcmd12.sc\u001b[39m:\u001b[32m24\u001b[39m)\n  ammonite.$sess.cmd12$Helper.$anonfun$fibonacci_k$2(\u001b[32mcmd12.sc\u001b[39m:\u001b[32m27\u001b[39m)\n  ammonite.$sess.cmd12$Helper.fibonacci_k(\u001b[32mcmd12.sc\u001b[39m:\u001b[32m12\u001b[39m)\n  ammonite.$sess.cmd12$Helper.k1$1(\u001b[32mcmd12.sc\u001b[39m:\u001b[32m24\u001b[39m)\n  ammonite.$sess.cmd12$Helper.$anonfun$fibonacci_k$2(\u001b[32mcmd12.sc\u001b[39m:\u001b[32m27\u001b[39m)\n  ammonite.$sess.cmd12$Helper.k2$1(\u001b[32mcmd12.sc\u001b[39m:\u001b[32m22\u001b[39m)\n  ammonite.$sess.cmd12$Helper.$anonfun$fibonacci_k$1(\u001b[32mcmd12.sc\u001b[39m:\u001b[32m24\u001b[39m)\n  ammonite.$sess.cmd12$Helper.k2$1(\u001b[32mcmd12.sc\u001b[39m:\u001b[32m22\u001b[39m)\n  ammonite.$sess.cmd12$Helper.$anonfun$fibonacci_k$1(\u001b[32mcmd12.sc\u001b[39m:\u001b[32m24\u001b[39m)\n  ammonite.$sess.cmd12$Helper.fibonacci_k(\u001b[32mcmd12.sc\u001b[39m:\u001b[32m12\u001b[39m)\n  ammonite.$sess.cmd12$Helper.k1$1(\u001b[32mcmd12.sc\u001b[39m:\u001b[32m24\u001b[39m)\n  ammonite.$sess.cmd12$Helper.$anonfun$fibonacci_k$2(\u001b[32mcmd12.sc\u001b[39m:\u001b[32m27\u001b[39m)\n  ammonite.$sess.cmd12$Helper.fibonacci_k(\u001b[32mcmd12.sc\u001b[39m:\u001b[32m12\u001b[39m)\n  ammonite.$sess.cmd12$Helper.k1$1(\u001b[32mcmd12.sc\u001b[39m:\u001b[32m24\u001b[39m)\n  ammonite.$sess.cmd12$Helper.$anonfun$fibonacci_k$2(\u001b[32mcmd12.sc\u001b[39m:\u001b[32m27\u001b[39m)\n  ammonite.$sess.cmd12$Helper.k2$1(\u001b[32mcmd12.sc\u001b[39m:\u001b[32m22\u001b[39m)\n  ammonite.$sess.cmd12$Helper.$anonfun$fibonacci_k$1(\u001b[32mcmd12.sc\u001b[39m:\u001b[32m24\u001b[39m)\n  ammonite.$sess.cmd12$Helper.fibonacci_k(\u001b[32mcmd12.sc\u001b[39m:\u001b[32m12\u001b[39m)\n  ammonite.$sess.cmd12$Helper.k1$1(\u001b[32mcmd12.sc\u001b[39m:\u001b[32m24\u001b[39m)\n  ammonite.$sess.cmd12$Helper.$anonfun$fibonacci_k$2(\u001b[32mcmd12.sc\u001b[39m:\u001b[32m27\u001b[39m)\n  ammonite.$sess.cmd12$Helper.k2$1(\u001b[32mcmd12.sc\u001b[39m:\u001b[32m22\u001b[39m)\n  ammonite.$sess.cmd12$Helper.$anonfun$fibonacci_k$1(\u001b[32mcmd12.sc\u001b[39m:\u001b[32m24\u001b[39m)\n  ammonite.$sess.cmd12$Helper.fibonacci_k(\u001b[32mcmd12.sc\u001b[39m:\u001b[32m12\u001b[39m)\n  ammonite.$sess.cmd12$Helper.k1$1(\u001b[32mcmd12.sc\u001b[39m:\u001b[32m24\u001b[39m)\n  ammonite.$sess.cmd12$Helper.$anonfun$fibonacci_k$2(\u001b[32mcmd12.sc\u001b[39m:\u001b[32m27\u001b[39m)\n  ammonite.$sess.cmd12$Helper.fibonacci_k(\u001b[32mcmd12.sc\u001b[39m:\u001b[32m12\u001b[39m)\n  ammonite.$sess.cmd12$Helper.k1$1(\u001b[32mcmd12.sc\u001b[39m:\u001b[32m24\u001b[39m)\n  ammonite.$sess.cmd12$Helper.$anonfun$fibonacci_k$2(\u001b[32mcmd12.sc\u001b[39m:\u001b[32m27\u001b[39m)\n  ammonite.$sess.cmd12$Helper.k2$1(\u001b[32mcmd12.sc\u001b[39m:\u001b[32m22\u001b[39m)\n  ammonite.$sess.cmd12$Helper.$anonfun$fibonacci_k$1(\u001b[32mcmd12.sc\u001b[39m:\u001b[32m24\u001b[39m)\n  ammonite.$sess.cmd12$Helper.k2$1(\u001b[32mcmd12.sc\u001b[39m:\u001b[32m22\u001b[39m)\n  ammonite.$sess.cmd12$Helper.$anonfun$fibonacci_k$1(\u001b[32mcmd12.sc\u001b[39m:\u001b[32m24\u001b[39m)\n  ammonite.$sess.cmd12$Helper.k2$1(\u001b[32mcmd12.sc\u001b[39m:\u001b[32m22\u001b[39m)\n  ammonite.$sess.cmd12$Helper.$anonfun$fibonacci_k$1(\u001b[32mcmd12.sc\u001b[39m:\u001b[32m24\u001b[39m)\n  ammonite.$sess.cmd12$Helper.fibonacci_k(\u001b[32mcmd12.sc\u001b[39m:\u001b[32m12\u001b[39m)\n  ammonite.$sess.cmd12$Helper.k1$1(\u001b[32mcmd12.sc\u001b[39m:\u001b[32m24\u001b[39m)\n  ammonite.$sess.cmd12$Helper.$anonfun$fibonacci_k$2(\u001b[32mcmd12.sc\u001b[39m:\u001b[32m27\u001b[39m)\n  ammonite.$sess.cmd12$Helper.fibonacci_k(\u001b[32mcmd12.sc\u001b[39m:\u001b[32m12\u001b[39m)\n  ammonite.$sess.cmd12$Helper.k1$1(\u001b[32mcmd12.sc\u001b[39m:\u001b[32m24\u001b[39m)\n  ammonite.$sess.cmd12$Helper.$anonfun$fibonacci_k$2(\u001b[32mcmd12.sc\u001b[39m:\u001b[32m27\u001b[39m)\n  ammonite.$sess.cmd12$Helper.k2$1(\u001b[32mcmd12.sc\u001b[39m:\u001b[32m22\u001b[39m)\n  ammonite.$sess.cmd12$Helper.$anonfun$fibonacci_k$1(\u001b[32mcmd12.sc\u001b[39m:\u001b[32m24\u001b[39m)\n  ammonite.$sess.cmd12$Helper.fibonacci_k(\u001b[32mcmd12.sc\u001b[39m:\u001b[32m12\u001b[39m)\n  ammonite.$sess.cmd12$Helper.k1$1(\u001b[32mcmd12.sc\u001b[39m:\u001b[32m24\u001b[39m)\n  ammonite.$sess.cmd12$Helper.$anonfun$fibonacci_k$2(\u001b[32mcmd12.sc\u001b[39m:\u001b[32m27\u001b[39m)\n  ammonite.$sess.cmd12$Helper.k2$1(\u001b[32mcmd12.sc\u001b[39m:\u001b[32m22\u001b[39m)\n  ammonite.$sess.cmd12$Helper.$anonfun$fibonacci_k$1(\u001b[32mcmd12.sc\u001b[39m:\u001b[32m24\u001b[39m)\n  ammonite.$sess.cmd12$Helper.fibonacci_k(\u001b[32mcmd12.sc\u001b[39m:\u001b[32m12\u001b[39m)\n  ammonite.$sess.cmd12$Helper.k1$1(\u001b[32mcmd12.sc\u001b[39m:\u001b[32m24\u001b[39m)\n  ammonite.$sess.cmd12$Helper.$anonfun$fibonacci_k$2(\u001b[32mcmd12.sc\u001b[39m:\u001b[32m27\u001b[39m)\n  ammonite.$sess.cmd12$Helper.fibonacci_k(\u001b[32mcmd12.sc\u001b[39m:\u001b[32m12\u001b[39m)\n  ammonite.$sess.cmd12$Helper.k1$1(\u001b[32mcmd12.sc\u001b[39m:\u001b[32m24\u001b[39m)\n  ammonite.$sess.cmd12$Helper.$anonfun$fibonacci_k$2(\u001b[32mcmd12.sc\u001b[39m:\u001b[32m27\u001b[39m)\n  ammonite.$sess.cmd12$Helper.k2$1(\u001b[32mcmd12.sc\u001b[39m:\u001b[32m22\u001b[39m)\n  ammonite.$sess.cmd12$Helper.$anonfun$fibonacci_k$1(\u001b[32mcmd12.sc\u001b[39m:\u001b[32m24\u001b[39m)\n  ammonite.$sess.cmd12$Helper.k2$1(\u001b[32mcmd12.sc\u001b[39m:\u001b[32m22\u001b[39m)\n  ammonite.$sess.cmd12$Helper.$anonfun$fibonacci_k$1(\u001b[32mcmd12.sc\u001b[39m:\u001b[32m24\u001b[39m)\n  ammonite.$sess.cmd12$Helper.fibonacci_k(\u001b[32mcmd12.sc\u001b[39m:\u001b[32m12\u001b[39m)\n  ammonite.$sess.cmd12$Helper.k1$1(\u001b[32mcmd12.sc\u001b[39m:\u001b[32m24\u001b[39m)\n  ammonite.$sess.cmd12$Helper.$anonfun$fibonacci_k$2(\u001b[32mcmd12.sc\u001b[39m:\u001b[32m27\u001b[39m)\n  ammonite.$sess.cmd12$Helper.k2$1(\u001b[32mcmd12.sc\u001b[39m:\u001b[32m22\u001b[39m)\n  ammonite.$sess.cmd12$Helper.$anonfun$fibonacci_k$1(\u001b[32mcmd12.sc\u001b[39m:\u001b[32m24\u001b[39m)\n  ammonite.$sess.cmd12$Helper.fibonacci_k(\u001b[32mcmd12.sc\u001b[39m:\u001b[32m12\u001b[39m)\n  ammonite.$sess.cmd12$Helper.k1$1(\u001b[32mcmd12.sc\u001b[39m:\u001b[32m24\u001b[39m)\n  ammonite.$sess.cmd12$Helper.$anonfun$fibonacci_k$2(\u001b[32mcmd12.sc\u001b[39m:\u001b[32m27\u001b[39m)\n  ammonite.$sess.cmd12$Helper.fibonacci_k(\u001b[32mcmd12.sc\u001b[39m:\u001b[32m12\u001b[39m)\n  ammonite.$sess.cmd12$Helper.k1$1(\u001b[32mcmd12.sc\u001b[39m:\u001b[32m24\u001b[39m)\n  ammonite.$sess.cmd12$Helper.$anonfun$fibonacci_k$2(\u001b[32mcmd12.sc\u001b[39m:\u001b[32m27\u001b[39m)\n  ammonite.$sess.cmd12$Helper.k2$1(\u001b[32mcmd12.sc\u001b[39m:\u001b[32m22\u001b[39m)\n  ammonite.$sess.cmd12$Helper.$anonfun$fibonacci_k$1(\u001b[32mcmd12.sc\u001b[39m:\u001b[32m24\u001b[39m)\n  ammonite.$sess.cmd12$Helper.k2$1(\u001b[32mcmd12.sc\u001b[39m:\u001b[32m22\u001b[39m)\n  ammonite.$sess.cmd12$Helper.$anonfun$fibonacci_k$1(\u001b[32mcmd12.sc\u001b[39m:\u001b[32m24\u001b[39m)\n  ammonite.$sess.cmd12$Helper.fibonacci_k(\u001b[32mcmd12.sc\u001b[39m:\u001b[32m12\u001b[39m)\n  ammonite.$sess.cmd12$Helper.k1$1(\u001b[32mcmd12.sc\u001b[39m:\u001b[32m24\u001b[39m)\n  ammonite.$sess.cmd12$Helper.$anonfun$fibonacci_k$2(\u001b[32mcmd12.sc\u001b[39m:\u001b[32m27\u001b[39m)\n  ammonite.$sess.cmd12$Helper.fibonacci_k(\u001b[32mcmd12.sc\u001b[39m:\u001b[32m12\u001b[39m)\n  ammonite.$sess.cmd12$Helper.k1$1(\u001b[32mcmd12.sc\u001b[39m:\u001b[32m24\u001b[39m)\n  ammonite.$sess.cmd12$Helper.$anonfun$fibonacci_k$2(\u001b[32mcmd12.sc\u001b[39m:\u001b[32m27\u001b[39m)\n  ammonite.$sess.cmd12$Helper.k2$1(\u001b[32mcmd12.sc\u001b[39m:\u001b[32m22\u001b[39m)\n  ammonite.$sess.cmd12$Helper.$anonfun$fibonacci_k$1(\u001b[32mcmd12.sc\u001b[39m:\u001b[32m24\u001b[39m)\n  ammonite.$sess.cmd12$Helper.fibonacci_k(\u001b[32mcmd12.sc\u001b[39m:\u001b[32m12\u001b[39m)\n  ammonite.$sess.cmd12$Helper.k1$1(\u001b[32mcmd12.sc\u001b[39m:\u001b[32m24\u001b[39m)\n  ammonite.$sess.cmd12$Helper.$anonfun$fibonacci_k$2(\u001b[32mcmd12.sc\u001b[39m:\u001b[32m27\u001b[39m)\n  ammonite.$sess.cmd12$Helper.k2$1(\u001b[32mcmd12.sc\u001b[39m:\u001b[32m22\u001b[39m)\n  ammonite.$sess.cmd12$Helper.$anonfun$fibonacci_k$1(\u001b[32mcmd12.sc\u001b[39m:\u001b[32m24\u001b[39m)\n  ammonite.$sess.cmd12$Helper.fibonacci_k(\u001b[32mcmd12.sc\u001b[39m:\u001b[32m12\u001b[39m)\n  ammonite.$sess.cmd12$Helper.k1$1(\u001b[32mcmd12.sc\u001b[39m:\u001b[32m24\u001b[39m)\n  ammonite.$sess.cmd12$Helper.$anonfun$fibonacci_k$2(\u001b[32mcmd12.sc\u001b[39m:\u001b[32m27\u001b[39m)\n  ammonite.$sess.cmd12$Helper.fibonacci_k(\u001b[32mcmd12.sc\u001b[39m:\u001b[32m12\u001b[39m)\n  ammonite.$sess.cmd12$Helper.k1$1(\u001b[32mcmd12.sc\u001b[39m:\u001b[32m24\u001b[39m)\n  ammonite.$sess.cmd12$Helper.$anonfun$fibonacci_k$2(\u001b[32mcmd12.sc\u001b[39m:\u001b[32m27\u001b[39m)\n  ammonite.$sess.cmd12$Helper.k2$1(\u001b[32mcmd12.sc\u001b[39m:\u001b[32m22\u001b[39m)\n  ammonite.$sess.cmd12$Helper.$anonfun$fibonacci_k$1(\u001b[32mcmd12.sc\u001b[39m:\u001b[32m24\u001b[39m)\n  ammonite.$sess.cmd12$Helper.k2$1(\u001b[32mcmd12.sc\u001b[39m:\u001b[32m22\u001b[39m)\n  ammonite.$sess.cmd12$Helper.$anonfun$fibonacci_k$1(\u001b[32mcmd12.sc\u001b[39m:\u001b[32m24\u001b[39m)\n  ammonite.$sess.cmd12$Helper.k2$1(\u001b[32mcmd12.sc\u001b[39m:\u001b[32m22\u001b[39m)\n  ammonite.$sess.cmd12$Helper.$anonfun$fibonacci_k$1(\u001b[32mcmd12.sc\u001b[39m:\u001b[32m24\u001b[39m)\n  ammonite.$sess.cmd12$Helper.k2$1(\u001b[32mcmd12.sc\u001b[39m:\u001b[32m22\u001b[39m)\n  ammonite.$sess.cmd12$Helper.$anonfun$fibonacci_k$1(\u001b[32mcmd12.sc\u001b[39m:\u001b[32m24\u001b[39m)\n  ammonite.$sess.cmd12$Helper.fibonacci_k(\u001b[32mcmd12.sc\u001b[39m:\u001b[32m12\u001b[39m)\n  ammonite.$sess.cmd12$Helper.k1$1(\u001b[32mcmd12.sc\u001b[39m:\u001b[32m24\u001b[39m)\n  ammonite.$sess.cmd12$Helper.$anonfun$fibonacci_k$2(\u001b[32mcmd12.sc\u001b[39m:\u001b[32m27\u001b[39m)\n  ammonite.$sess.cmd12$Helper.fibonacci_k(\u001b[32mcmd12.sc\u001b[39m:\u001b[32m12\u001b[39m)\n  ammonite.$sess.cmd12$Helper.k1$1(\u001b[32mcmd12.sc\u001b[39m:\u001b[32m24\u001b[39m)\n  ammonite.$sess.cmd12$Helper.$anonfun$fibonacci_k$2(\u001b[32mcmd12.sc\u001b[39m:\u001b[32m27\u001b[39m)\n  ammonite.$sess.cmd12$Helper.k2$1(\u001b[32mcmd12.sc\u001b[39m:\u001b[32m22\u001b[39m)\n  ammonite.$sess.cmd12$Helper.$anonfun$fibonacci_k$1(\u001b[32mcmd12.sc\u001b[39m:\u001b[32m24\u001b[39m)\n  ammonite.$sess.cmd12$Helper.fibonacci_k(\u001b[32mcmd12.sc\u001b[39m:\u001b[32m12\u001b[39m)\n  ammonite.$sess.cmd12$Helper.k1$1(\u001b[32mcmd12.sc\u001b[39m:\u001b[32m24\u001b[39m)\n  ammonite.$sess.cmd12$Helper.$anonfun$fibonacci_k$2(\u001b[32mcmd12.sc\u001b[39m:\u001b[32m27\u001b[39m)\n  ammonite.$sess.cmd12$Helper.k2$1(\u001b[32mcmd12.sc\u001b[39m:\u001b[32m22\u001b[39m)\n  ammonite.$sess.cmd12$Helper.$anonfun$fibonacci_k$1(\u001b[32mcmd12.sc\u001b[39m:\u001b[32m24\u001b[39m)\n  ammonite.$sess.cmd12$Helper.fibonacci_k(\u001b[32mcmd12.sc\u001b[39m:\u001b[32m12\u001b[39m)\n  ammonite.$sess.cmd12$Helper.k1$1(\u001b[32mcmd12.sc\u001b[39m:\u001b[32m24\u001b[39m)\n  ammonite.$sess.cmd12$Helper.$anonfun$fibonacci_k$2(\u001b[32mcmd12.sc\u001b[39m:\u001b[32m27\u001b[39m)\n  ammonite.$sess.cmd12$Helper.fibonacci_k(\u001b[32mcmd12.sc\u001b[39m:\u001b[32m12\u001b[39m)\n  ammonite.$sess.cmd12$Helper.k1$1(\u001b[32mcmd12.sc\u001b[39m:\u001b[32m24\u001b[39m)\n  ammonite.$sess.cmd12$Helper.$anonfun$fibonacci_k$2(\u001b[32mcmd12.sc\u001b[39m:\u001b[32m27\u001b[39m)\n  ammonite.$sess.cmd12$Helper.k2$1(\u001b[32mcmd12.sc\u001b[39m:\u001b[32m22\u001b[39m)\n  ammonite.$sess.cmd12$Helper.$anonfun$fibonacci_k$1(\u001b[32mcmd12.sc\u001b[39m:\u001b[32m24\u001b[39m)\n  ammonite.$sess.cmd12$Helper.k2$1(\u001b[32mcmd12.sc\u001b[39m:\u001b[32m22\u001b[39m)\n  ammonite.$sess.cmd12$Helper.$anonfun$fibonacci_k$1(\u001b[32mcmd12.sc\u001b[39m:\u001b[32m24\u001b[39m)\n  ammonite.$sess.cmd12$Helper.fibonacci_k(\u001b[32mcmd12.sc\u001b[39m:\u001b[32m12\u001b[39m)\n  ammonite.$sess.cmd12$Helper.k1$1(\u001b[32mcmd12.sc\u001b[39m:\u001b[32m24\u001b[39m)\n  ammonite.$sess.cmd12$Helper.$anonfun$fibonacci_k$2(\u001b[32mcmd12.sc\u001b[39m:\u001b[32m27\u001b[39m)\n  ammonite.$sess.cmd12$Helper.k2$1(\u001b[32mcmd12.sc\u001b[39m:\u001b[32m22\u001b[39m)\n  ammonite.$sess.cmd12$Helper.$anonfun$fibonacci_k$1(\u001b[32mcmd12.sc\u001b[39m:\u001b[32m24\u001b[39m)\n  ammonite.$sess.cmd12$Helper.fibonacci_k(\u001b[32mcmd12.sc\u001b[39m:\u001b[32m12\u001b[39m)\n  ammonite.$sess.cmd12$Helper.k1$1(\u001b[32mcmd12.sc\u001b[39m:\u001b[32m24\u001b[39m)\n  ammonite.$sess.cmd12$Helper.$anonfun$fibonacci_k$2(\u001b[32mcmd12.sc\u001b[39m:\u001b[32m27\u001b[39m)\n  ammonite.$sess.cmd12$Helper.fibonacci_k(\u001b[32mcmd12.sc\u001b[39m:\u001b[32m12\u001b[39m)\n  ammonite.$sess.cmd12$Helper.k1$1(\u001b[32mcmd12.sc\u001b[39m:\u001b[32m24\u001b[39m)\n  ammonite.$sess.cmd12$Helper.$anonfun$fibonacci_k$2(\u001b[32mcmd12.sc\u001b[39m:\u001b[32m27\u001b[39m)\n  ammonite.$sess.cmd12$Helper.k2$1(\u001b[32mcmd12.sc\u001b[39m:\u001b[32m22\u001b[39m)\n  ammonite.$sess.cmd12$Helper.$anonfun$fibonacci_k$1(\u001b[32mcmd12.sc\u001b[39m:\u001b[32m24\u001b[39m)\n  ammonite.$sess.cmd12$Helper.k2$1(\u001b[32mcmd12.sc\u001b[39m:\u001b[32m22\u001b[39m)\n  ammonite.$sess.cmd12$Helper.$anonfun$fibonacci_k$1(\u001b[32mcmd12.sc\u001b[39m:\u001b[32m24\u001b[39m)\n  ammonite.$sess.cmd12$Helper.fibonacci_k(\u001b[32mcmd12.sc\u001b[39m:\u001b[32m12\u001b[39m)\n  ammonite.$sess.cmd12$Helper.k1$1(\u001b[32mcmd12.sc\u001b[39m:\u001b[32m24\u001b[39m)\n  ammonite.$sess.cmd12$Helper.$anonfun$fibonacci_k$2(\u001b[32mcmd12.sc\u001b[39m:\u001b[32m27\u001b[39m)\n  ammonite.$sess.cmd12$Helper.fibonacci_k(\u001b[32mcmd12.sc\u001b[39m:\u001b[32m12\u001b[39m)\n  ammonite.$sess.cmd12$Helper.k1$1(\u001b[32mcmd12.sc\u001b[39m:\u001b[32m24\u001b[39m)\n  ammonite.$sess.cmd12$Helper.$anonfun$fibonacci_k$2(\u001b[32mcmd12.sc\u001b[39m:\u001b[32m27\u001b[39m)\n  ammonite.$sess.cmd12$Helper.k2$1(\u001b[32mcmd12.sc\u001b[39m:\u001b[32m22\u001b[39m)\n  ammonite.$sess.cmd12$Helper.$anonfun$fibonacci_k$1(\u001b[32mcmd12.sc\u001b[39m:\u001b[32m24\u001b[39m)\n  ammonite.$sess.cmd12$Helper.fibonacci_k(\u001b[32mcmd12.sc\u001b[39m:\u001b[32m12\u001b[39m)\n  ammonite.$sess.cmd12$Helper.k1$1(\u001b[32mcmd12.sc\u001b[39m:\u001b[32m24\u001b[39m)\n  ammonite.$sess.cmd12$Helper.$anonfun$fibonacci_k$2(\u001b[32mcmd12.sc\u001b[39m:\u001b[32m27\u001b[39m)\n  ammonite.$sess.cmd12$Helper.k2$1(\u001b[32mcmd12.sc\u001b[39m:\u001b[32m22\u001b[39m)\n  ammonite.$sess.cmd12$Helper.$anonfun$fibonacci_k$1(\u001b[32mcmd12.sc\u001b[39m:\u001b[32m24\u001b[39m)\n  ammonite.$sess.cmd12$Helper.fibonacci_k(\u001b[32mcmd12.sc\u001b[39m:\u001b[32m12\u001b[39m)\n  ammonite.$sess.cmd12$Helper.k1$1(\u001b[32mcmd12.sc\u001b[39m:\u001b[32m24\u001b[39m)\n  ammonite.$sess.cmd12$Helper.$anonfun$fibonacci_k$2(\u001b[32mcmd12.sc\u001b[39m:\u001b[32m27\u001b[39m)\n  ammonite.$sess.cmd12$Helper.fibonacci_k(\u001b[32mcmd12.sc\u001b[39m:\u001b[32m12\u001b[39m)\n  ammonite.$sess.cmd12$Helper.k1$1(\u001b[32mcmd12.sc\u001b[39m:\u001b[32m24\u001b[39m)\n  ammonite.$sess.cmd12$Helper.$anonfun$fibonacci_k$2(\u001b[32mcmd12.sc\u001b[39m:\u001b[32m27\u001b[39m)\n  ammonite.$sess.cmd12$Helper.k2$1(\u001b[32mcmd12.sc\u001b[39m:\u001b[32m22\u001b[39m)\n  ammonite.$sess.cmd12$Helper.$anonfun$fibonacci_k$1(\u001b[32mcmd12.sc\u001b[39m:\u001b[32m24\u001b[39m)\n  ammonite.$sess.cmd12$Helper.k2$1(\u001b[32mcmd12.sc\u001b[39m:\u001b[32m22\u001b[39m)\n  ammonite.$sess.cmd12$Helper.$anonfun$fibonacci_k$1(\u001b[32mcmd12.sc\u001b[39m:\u001b[32m24\u001b[39m)\n  ammonite.$sess.cmd12$Helper.k2$1(\u001b[32mcmd12.sc\u001b[39m:\u001b[32m22\u001b[39m)\n  ammonite.$sess.cmd12$Helper.$anonfun$fibonacci_k$1(\u001b[32mcmd12.sc\u001b[39m:\u001b[32m24\u001b[39m)\n  ammonite.$sess.cmd12$Helper.fibonacci_k(\u001b[32mcmd12.sc\u001b[39m:\u001b[32m12\u001b[39m)\n  ammonite.$sess.cmd12$Helper.k1$1(\u001b[32mcmd12.sc\u001b[39m:\u001b[32m24\u001b[39m)\n  ammonite.$sess.cmd12$Helper.$anonfun$fibonacci_k$2(\u001b[32mcmd12.sc\u001b[39m:\u001b[32m27\u001b[39m)\n  ammonite.$sess.cmd12$Helper.k2$1(\u001b[32mcmd12.sc\u001b[39m:\u001b[32m22\u001b[39m)\n  ammonite.$sess.cmd12$Helper.$anonfun$fibonacci_k$1(\u001b[32mcmd12.sc\u001b[39m:\u001b[32m24\u001b[39m)\n  ammonite.$sess.cmd12$Helper.fibonacci_k(\u001b[32mcmd12.sc\u001b[39m:\u001b[32m12\u001b[39m)\n  ammonite.$sess.cmd12$Helper.k1$1(\u001b[32mcmd12.sc\u001b[39m:\u001b[32m24\u001b[39m)\n  ammonite.$sess.cmd12$Helper.$anonfun$fibonacci_k$2(\u001b[32mcmd12.sc\u001b[39m:\u001b[32m27\u001b[39m)\n  ammonite.$sess.cmd12$Helper.fibonacci_k(\u001b[32mcmd12.sc\u001b[39m:\u001b[32m12\u001b[39m)\n  ammonite.$sess.cmd12$Helper.k1$1(\u001b[32mcmd12.sc\u001b[39m:\u001b[32m24\u001b[39m)\n  ammonite.$sess.cmd12$Helper.$anonfun$fibonacci_k$2(\u001b[32mcmd12.sc\u001b[39m:\u001b[32m27\u001b[39m)\n  ammonite.$sess.cmd12$Helper.k2$1(\u001b[32mcmd12.sc\u001b[39m:\u001b[32m22\u001b[39m)\n  ammonite.$sess.cmd12$Helper.$anonfun$fibonacci_k$1(\u001b[32mcmd12.sc\u001b[39m:\u001b[32m24\u001b[39m)\n  ammonite.$sess.cmd12$Helper.k2$1(\u001b[32mcmd12.sc\u001b[39m:\u001b[32m22\u001b[39m)\n  ammonite.$sess.cmd12$Helper.$anonfun$fibonacci_k$1(\u001b[32mcmd12.sc\u001b[39m:\u001b[32m24\u001b[39m)\n  ammonite.$sess.cmd12$Helper.fibonacci_k(\u001b[32mcmd12.sc\u001b[39m:\u001b[32m12\u001b[39m)\n  ammonite.$sess.cmd12$Helper.k1$1(\u001b[32mcmd12.sc\u001b[39m:\u001b[32m24\u001b[39m)\n  ammonite.$sess.cmd12$Helper.$anonfun$fibonacci_k$2(\u001b[32mcmd12.sc\u001b[39m:\u001b[32m27\u001b[39m)\n  ammonite.$sess.cmd12$Helper.fibonacci_k(\u001b[32mcmd12.sc\u001b[39m:\u001b[32m12\u001b[39m)\n  ammonite.$sess.cmd12$Helper.k1$1(\u001b[32mcmd12.sc\u001b[39m:\u001b[32m24\u001b[39m)\n  ammonite.$sess.cmd12$Helper.$anonfun$fibonacci_k$2(\u001b[32mcmd12.sc\u001b[39m:\u001b[32m27\u001b[39m)\n  ammonite.$sess.cmd12$Helper.k2$1(\u001b[32mcmd12.sc\u001b[39m:\u001b[32m22\u001b[39m)\n  ammonite.$sess.cmd12$Helper.$anonfun$fibonacci_k$1(\u001b[32mcmd12.sc\u001b[39m:\u001b[32m24\u001b[39m)\n  ammonite.$sess.cmd12$Helper.fibonacci_k(\u001b[32mcmd12.sc\u001b[39m:\u001b[32m12\u001b[39m)\n  ammonite.$sess.cmd12$Helper.k1$1(\u001b[32mcmd12.sc\u001b[39m:\u001b[32m24\u001b[39m)\n  ammonite.$sess.cmd12$Helper.$anonfun$fibonacci_k$2(\u001b[32mcmd12.sc\u001b[39m:\u001b[32m27\u001b[39m)\n  ammonite.$sess.cmd12$Helper.k2$1(\u001b[32mcmd12.sc\u001b[39m:\u001b[32m22\u001b[39m)\n  ammonite.$sess.cmd12$Helper.$anonfun$fibonacci_k$1(\u001b[32mcmd12.sc\u001b[39m:\u001b[32m24\u001b[39m)\n  ammonite.$sess.cmd12$Helper.fibonacci_k(\u001b[32mcmd12.sc\u001b[39m:\u001b[32m12\u001b[39m)\n  ammonite.$sess.cmd12$Helper.k1$1(\u001b[32mcmd12.sc\u001b[39m:\u001b[32m24\u001b[39m)\n  ammonite.$sess.cmd12$Helper.$anonfun$fibonacci_k$2(\u001b[32mcmd12.sc\u001b[39m:\u001b[32m27\u001b[39m)\n  ammonite.$sess.cmd12$Helper.fibonacci_k(\u001b[32mcmd12.sc\u001b[39m:\u001b[32m12\u001b[39m)\n  ammonite.$sess.cmd12$Helper.k1$1(\u001b[32mcmd12.sc\u001b[39m:\u001b[32m24\u001b[39m)\n  ammonite.$sess.cmd12$Helper.$anonfun$fibonacci_k$2(\u001b[32mcmd12.sc\u001b[39m:\u001b[32m27\u001b[39m)\n  ammonite.$sess.cmd12$Helper.k2$1(\u001b[32mcmd12.sc\u001b[39m:\u001b[32m22\u001b[39m)\n  ammonite.$sess.cmd12$Helper.$anonfun$fibonacci_k$1(\u001b[32mcmd12.sc\u001b[39m:\u001b[32m24\u001b[39m)\n  ammonite.$sess.cmd12$Helper.k2$1(\u001b[32mcmd12.sc\u001b[39m:\u001b[32m22\u001b[39m)\n  ammonite.$sess.cmd12$Helper.$anonfun$fibonacci_k$1(\u001b[32mcmd12.sc\u001b[39m:\u001b[32m24\u001b[39m)\n  ammonite.$sess.cmd12$Helper.k2$1(\u001b[32mcmd12.sc\u001b[39m:\u001b[32m22\u001b[39m)\n  ammonite.$sess.cmd12$Helper.$anonfun$fibonacci_k$1(\u001b[32mcmd12.sc\u001b[39m:\u001b[32m24\u001b[39m)\n  ammonite.$sess.cmd12$Helper.fibonacci_k(\u001b[32mcmd12.sc\u001b[39m:\u001b[32m12\u001b[39m)\n  ammonite.$sess.cmd12$Helper.k1$1(\u001b[32mcmd12.sc\u001b[39m:\u001b[32m24\u001b[39m)\n  ammonite.$sess.cmd12$Helper.$anonfun$fibonacci_k$2(\u001b[32mcmd12.sc\u001b[39m:\u001b[32m27\u001b[39m)\n  ammonite.$sess.cmd12$Helper.fibonacci_k(\u001b[32mcmd12.sc\u001b[39m:\u001b[32m12\u001b[39m)\n  ammonite.$sess.cmd12$Helper.k1$1(\u001b[32mcmd12.sc\u001b[39m:\u001b[32m24\u001b[39m)\n  ammonite.$sess.cmd12$Helper.$anonfun$fibonacci_k$2(\u001b[32mcmd12.sc\u001b[39m:\u001b[32m27\u001b[39m)\n  ammonite.$sess.cmd12$Helper.k2$1(\u001b[32mcmd12.sc\u001b[39m:\u001b[32m22\u001b[39m)\n  ammonite.$sess.cmd12$Helper.$anonfun$fibonacci_k$1(\u001b[32mcmd12.sc\u001b[39m:\u001b[32m24\u001b[39m)\n  ammonite.$sess.cmd12$Helper.fibonacci_k(\u001b[32mcmd12.sc\u001b[39m:\u001b[32m12\u001b[39m)\n  ammonite.$sess.cmd12$Helper.k1$1(\u001b[32mcmd12.sc\u001b[39m:\u001b[32m24\u001b[39m)\n  ammonite.$sess.cmd12$Helper.$anonfun$fibonacci_k$2(\u001b[32mcmd12.sc\u001b[39m:\u001b[32m27\u001b[39m)\n  ammonite.$sess.cmd12$Helper.k2$1(\u001b[32mcmd12.sc\u001b[39m:\u001b[32m22\u001b[39m)\n  ammonite.$sess.cmd12$Helper.$anonfun$fibonacci_k$1(\u001b[32mcmd12.sc\u001b[39m:\u001b[32m24\u001b[39m)\n  ammonite.$sess.cmd12$Helper.fibonacci_k(\u001b[32mcmd12.sc\u001b[39m:\u001b[32m12\u001b[39m)\n  ammonite.$sess.cmd12$Helper.k1$1(\u001b[32mcmd12.sc\u001b[39m:\u001b[32m24\u001b[39m)\n  ammonite.$sess.cmd12$Helper.$anonfun$fibonacci_k$2(\u001b[32mcmd12.sc\u001b[39m:\u001b[32m27\u001b[39m)\n  ammonite.$sess.cmd12$Helper.fibonacci_k(\u001b[32mcmd12.sc\u001b[39m:\u001b[32m12\u001b[39m)\n  ammonite.$sess.cmd12$Helper.k1$1(\u001b[32mcmd12.sc\u001b[39m:\u001b[32m24\u001b[39m)\n  ammonite.$sess.cmd12$Helper.$anonfun$fibonacci_k$2(\u001b[32mcmd12.sc\u001b[39m:\u001b[32m27\u001b[39m)\n  ammonite.$sess.cmd12$Helper.k2$1(\u001b[32mcmd12.sc\u001b[39m:\u001b[32m22\u001b[39m)\n  ammonite.$sess.cmd12$Helper.$anonfun$fibonacci_k$1(\u001b[32mcmd12.sc\u001b[39m:\u001b[32m24\u001b[39m)\n  ammonite.$sess.cmd12$Helper.k2$1(\u001b[32mcmd12.sc\u001b[39m:\u001b[32m22\u001b[39m)\n  ammonite.$sess.cmd12$Helper.$anonfun$fibonacci_k$1(\u001b[32mcmd12.sc\u001b[39m:\u001b[32m24\u001b[39m)\n  ammonite.$sess.cmd12$Helper.fibonacci_k(\u001b[32mcmd12.sc\u001b[39m:\u001b[32m12\u001b[39m)\n  ammonite.$sess.cmd12$Helper.k1$1(\u001b[32mcmd12.sc\u001b[39m:\u001b[32m24\u001b[39m)\n  ammonite.$sess.cmd12$Helper.$anonfun$fibonacci_k$2(\u001b[32mcmd12.sc\u001b[39m:\u001b[32m27\u001b[39m)\n  ammonite.$sess.cmd12$Helper.k2$1(\u001b[32mcmd12.sc\u001b[39m:\u001b[32m22\u001b[39m)\n  ammonite.$sess.cmd12$Helper.$anonfun$fibonacci_k$1(\u001b[32mcmd12.sc\u001b[39m:\u001b[32m24\u001b[39m)\n  ammonite.$sess.cmd12$Helper.fibonacci_k(\u001b[32mcmd12.sc\u001b[39m:\u001b[32m12\u001b[39m)\n  ammonite.$sess.cmd12$Helper.k1$1(\u001b[32mcmd12.sc\u001b[39m:\u001b[32m24\u001b[39m)\n  ammonite.$sess.cmd12$Helper.$anonfun$fibonacci_k$2(\u001b[32mcmd12.sc\u001b[39m:\u001b[32m27\u001b[39m)\n  ammonite.$sess.cmd12$Helper.fibonacci_k(\u001b[32mcmd12.sc\u001b[39m:\u001b[32m12\u001b[39m)\n  ammonite.$sess.cmd12$Helper.k1$1(\u001b[32mcmd12.sc\u001b[39m:\u001b[32m24\u001b[39m)\n  ammonite.$sess.cmd12$Helper.$anonfun$fibonacci_k$2(\u001b[32mcmd12.sc\u001b[39m:\u001b[32m27\u001b[39m)\n  ammonite.$sess.cmd12$Helper.k2$1(\u001b[32mcmd12.sc\u001b[39m:\u001b[32m22\u001b[39m)\n  ammonite.$sess.cmd12$Helper.$anonfun$fibonacci_k$1(\u001b[32mcmd12.sc\u001b[39m:\u001b[32m24\u001b[39m)\n  ammonite.$sess.cmd12$Helper.k2$1(\u001b[32mcmd12.sc\u001b[39m:\u001b[32m22\u001b[39m)\n  ammonite.$sess.cmd12$Helper.$anonfun$fibonacci_k$1(\u001b[32mcmd12.sc\u001b[39m:\u001b[32m24\u001b[39m)\n  ammonite.$sess.cmd12$Helper.fibonacci_k(\u001b[32mcmd12.sc\u001b[39m:\u001b[32m12\u001b[39m)\n  ammonite.$sess.cmd12$Helper.k1$1(\u001b[32mcmd12.sc\u001b[39m:\u001b[32m24\u001b[39m)\n  ammonite.$sess.cmd12$Helper.$anonfun$fibonacci_k$2(\u001b[32mcmd12.sc\u001b[39m:\u001b[32m27\u001b[39m)\n  ammonite.$sess.cmd12$Helper.fibonacci_k(\u001b[32mcmd12.sc\u001b[39m:\u001b[32m12\u001b[39m)\n  ammonite.$sess.cmd12$Helper.k1$1(\u001b[32mcmd12.sc\u001b[39m:\u001b[32m24\u001b[39m)\n  ammonite.$sess.cmd12$Helper.$anonfun$fibonacci_k$2(\u001b[32mcmd12.sc\u001b[39m:\u001b[32m27\u001b[39m)\n  ammonite.$sess.cmd12$Helper.k2$1(\u001b[32mcmd12.sc\u001b[39m:\u001b[32m22\u001b[39m)\n  ammonite.$sess.cmd12$Helper.$anonfun$fibonacci_k$1(\u001b[32mcmd12.sc\u001b[39m:\u001b[32m24\u001b[39m)\n  ammonite.$sess.cmd12$Helper.fibonacci_k(\u001b[32mcmd12.sc\u001b[39m:\u001b[32m12\u001b[39m)\n  ammonite.$sess.cmd12$Helper.k1$1(\u001b[32mcmd12.sc\u001b[39m:\u001b[32m24\u001b[39m)\n  ammonite.$sess.cmd12$Helper.$anonfun$fibonacci_k$2(\u001b[32mcmd12.sc\u001b[39m:\u001b[32m27\u001b[39m)\n  ammonite.$sess.cmd12$Helper.k2$1(\u001b[32mcmd12.sc\u001b[39m:\u001b[32m22\u001b[39m)\n  ammonite.$sess.cmd12$Helper.$anonfun$fibonacci_k$1(\u001b[32mcmd12.sc\u001b[39m:\u001b[32m24\u001b[39m)\n  ammonite.$sess.cmd12$Helper.fibonacci_k(\u001b[32mcmd12.sc\u001b[39m:\u001b[32m12\u001b[39m)\n  ammonite.$sess.cmd12$Helper.k1$1(\u001b[32mcmd12.sc\u001b[39m:\u001b[32m24\u001b[39m)\n  ammonite.$sess.cmd12$Helper.$anonfun$fibonacci_k$2(\u001b[32mcmd12.sc\u001b[39m:\u001b[32m27\u001b[39m)\n  ammonite.$sess.cmd12$Helper.fibonacci_k(\u001b[32mcmd12.sc\u001b[39m:\u001b[32m12\u001b[39m)\n  ammonite.$sess.cmd12$Helper.k1$1(\u001b[32mcmd12.sc\u001b[39m:\u001b[32m24\u001b[39m)\n  ammonite.$sess.cmd12$Helper.$anonfun$fibonacci_k$2(\u001b[32mcmd12.sc\u001b[39m:\u001b[32m27\u001b[39m)\n  ammonite.$sess.cmd12$Helper.k2$1(\u001b[32mcmd12.sc\u001b[39m:\u001b[32m22\u001b[39m)\n  ammonite.$sess.cmd12$Helper.$anonfun$fibonacci_k$1(\u001b[32mcmd12.sc\u001b[39m:\u001b[32m24\u001b[39m)\n  ammonite.$sess.cmd12$Helper.k2$1(\u001b[32mcmd12.sc\u001b[39m:\u001b[32m22\u001b[39m)\n  ammonite.$sess.cmd12$Helper.$anonfun$fibonacci_k$1(\u001b[32mcmd12.sc\u001b[39m:\u001b[32m24\u001b[39m)\n  ammonite.$sess.cmd12$Helper.k2$1(\u001b[32mcmd12.sc\u001b[39m:\u001b[32m22\u001b[39m)\n  ammonite.$sess.cmd12$Helper.$anonfun$fibonacci_k$1(\u001b[32mcmd12.sc\u001b[39m:\u001b[32m24\u001b[39m)\n  ammonite.$sess.cmd12$Helper.k2$1(\u001b[32mcmd12.sc\u001b[39m:\u001b[32m22\u001b[39m)\n  ammonite.$sess.cmd12$Helper.$anonfun$fibonacci_k$1(\u001b[32mcmd12.sc\u001b[39m:\u001b[32m24\u001b[39m)\n  ammonite.$sess.cmd12$Helper.k2$1(\u001b[32mcmd12.sc\u001b[39m:\u001b[32m22\u001b[39m)\n  ammonite.$sess.cmd12$Helper.$anonfun$fibonacci_k$1(\u001b[32mcmd12.sc\u001b[39m:\u001b[32m24\u001b[39m)\n  ammonite.$sess.cmd12$Helper.k2$1(\u001b[32mcmd12.sc\u001b[39m:\u001b[32m22\u001b[39m)\n  ammonite.$sess.cmd12$Helper.$anonfun$fibonacci_k$1(\u001b[32mcmd12.sc\u001b[39m:\u001b[32m24\u001b[39m)\n  ammonite.$sess.cmd12$Helper.fibonacci_k(\u001b[32mcmd12.sc\u001b[39m:\u001b[32m12\u001b[39m)\n  ammonite.$sess.cmd12$Helper.k1$1(\u001b[32mcmd12.sc\u001b[39m:\u001b[32m24\u001b[39m)\n  ammonite.$sess.cmd12$Helper.$anonfun$fibonacci_k$2(\u001b[32mcmd12.sc\u001b[39m:\u001b[32m27\u001b[39m)\n  ammonite.$sess.cmd12$Helper.fibonacci_k(\u001b[32mcmd12.sc\u001b[39m:\u001b[32m12\u001b[39m)\n  ammonite.$sess.cmd12$Helper.k1$1(\u001b[32mcmd12.sc\u001b[39m:\u001b[32m24\u001b[39m)\n  ammonite.$sess.cmd12$Helper.$anonfun$fibonacci_k$2(\u001b[32mcmd12.sc\u001b[39m:\u001b[32m27\u001b[39m)\n  ammonite.$sess.cmd12$Helper.k2$1(\u001b[32mcmd12.sc\u001b[39m:\u001b[32m22\u001b[39m)\n  ammonite.$sess.cmd12$Helper.$anonfun$fibonacci_k$1(\u001b[32mcmd12.sc\u001b[39m:\u001b[32m24\u001b[39m)\n  ammonite.$sess.cmd12$Helper.fibonacci_k(\u001b[32mcmd12.sc\u001b[39m:\u001b[32m12\u001b[39m)\n  ammonite.$sess.cmd12$Helper.k1$1(\u001b[32mcmd12.sc\u001b[39m:\u001b[32m24\u001b[39m)\n  ammonite.$sess.cmd12$Helper.$anonfun$fibonacci_k$2(\u001b[32mcmd12.sc\u001b[39m:\u001b[32m27\u001b[39m)\n  ammonite.$sess.cmd12$Helper.k2$1(\u001b[32mcmd12.sc\u001b[39m:\u001b[32m22\u001b[39m)\n  ammonite.$sess.cmd12$Helper.$anonfun$fibonacci_k$1(\u001b[32mcmd12.sc\u001b[39m:\u001b[32m24\u001b[39m)\n  ammonite.$sess.cmd12$Helper.fibonacci_k(\u001b[32mcmd12.sc\u001b[39m:\u001b[32m12\u001b[39m)\n  ammonite.$sess.cmd12$Helper.k1$1(\u001b[32mcmd12.sc\u001b[39m:\u001b[32m24\u001b[39m)\n  ammonite.$sess.cmd12$Helper.$anonfun$fibonacci_k$2(\u001b[32mcmd12.sc\u001b[39m:\u001b[32m27\u001b[39m)\n  ammonite.$sess.cmd12$Helper.fibonacci_k(\u001b[32mcmd12.sc\u001b[39m:\u001b[32m12\u001b[39m)\n  ammonite.$sess.cmd12$Helper.k1$1(\u001b[32mcmd12.sc\u001b[39m:\u001b[32m24\u001b[39m)\n  ammonite.$sess.cmd12$Helper.$anonfun$fibonacci_k$2(\u001b[32mcmd12.sc\u001b[39m:\u001b[32m27\u001b[39m)\n  ammonite.$sess.cmd12$Helper.k2$1(\u001b[32mcmd12.sc\u001b[39m:\u001b[32m22\u001b[39m)\n  ammonite.$sess.cmd12$Helper.$anonfun$fibonacci_k$1(\u001b[32mcmd12.sc\u001b[39m:\u001b[32m24\u001b[39m)\n  ammonite.$sess.cmd12$Helper.k2$1(\u001b[32mcmd12.sc\u001b[39m:\u001b[32m22\u001b[39m)\n  ammonite.$sess.cmd12$Helper.$anonfun$fibonacci_k$1(\u001b[32mcmd12.sc\u001b[39m:\u001b[32m24\u001b[39m)\n  ammonite.$sess.cmd12$Helper.fibonacci_k(\u001b[32mcmd12.sc\u001b[39m:\u001b[32m12\u001b[39m)\n  ammonite.$sess.cmd12$Helper.k1$1(\u001b[32mcmd12.sc\u001b[39m:\u001b[32m24\u001b[39m)\n  ammonite.$sess.cmd12$Helper.$anonfun$fibonacci_k$2(\u001b[32mcmd12.sc\u001b[39m:\u001b[32m27\u001b[39m)\n  ammonite.$sess.cmd12$Helper.k2$1(\u001b[32mcmd12.sc\u001b[39m:\u001b[32m22\u001b[39m)\n  ammonite.$sess.cmd12$Helper.$anonfun$fibonacci_k$1(\u001b[32mcmd12.sc\u001b[39m:\u001b[32m24\u001b[39m)\n  ammonite.$sess.cmd12$Helper.fibonacci_k(\u001b[32mcmd12.sc\u001b[39m:\u001b[32m12\u001b[39m)\n  ammonite.$sess.cmd12$Helper.k1$1(\u001b[32mcmd12.sc\u001b[39m:\u001b[32m24\u001b[39m)\n  ammonite.$sess.cmd12$Helper.$anonfun$fibonacci_k$2(\u001b[32mcmd12.sc\u001b[39m:\u001b[32m27\u001b[39m)\n  ammonite.$sess.cmd12$Helper.fibonacci_k(\u001b[32mcmd12.sc\u001b[39m:\u001b[32m12\u001b[39m)\n  ammonite.$sess.cmd12$Helper.k1$1(\u001b[32mcmd12.sc\u001b[39m:\u001b[32m24\u001b[39m)\n  ammonite.$sess.cmd12$Helper.$anonfun$fibonacci_k$2(\u001b[32mcmd12.sc\u001b[39m:\u001b[32m27\u001b[39m)\n  ammonite.$sess.cmd12$Helper.k2$1(\u001b[32mcmd12.sc\u001b[39m:\u001b[32m22\u001b[39m)\n  ammonite.$sess.cmd12$Helper.$anonfun$fibonacci_k$1(\u001b[32mcmd12.sc\u001b[39m:\u001b[32m24\u001b[39m)\n  ammonite.$sess.cmd12$Helper.k2$1(\u001b[32mcmd12.sc\u001b[39m:\u001b[32m22\u001b[39m)\n  ammonite.$sess.cmd12$Helper.$anonfun$fibonacci_k$1(\u001b[32mcmd12.sc\u001b[39m:\u001b[32m24\u001b[39m)\n  ammonite.$sess.cmd12$Helper.fibonacci_k(\u001b[32mcmd12.sc\u001b[39m:\u001b[32m12\u001b[39m)\n  ammonite.$sess.cmd12$Helper.k1$1(\u001b[32mcmd12.sc\u001b[39m:\u001b[32m24\u001b[39m)\n  ammonite.$sess.cmd12$Helper.$anonfun$fibonacci_k$2(\u001b[32mcmd12.sc\u001b[39m:\u001b[32m27\u001b[39m)\n  ammonite.$sess.cmd12$Helper.fibonacci_k(\u001b[32mcmd12.sc\u001b[39m:\u001b[32m12\u001b[39m)\n  ammonite.$sess.cmd12$Helper.k1$1(\u001b[32mcmd12.sc\u001b[39m:\u001b[32m24\u001b[39m)\n  ammonite.$sess.cmd12$Helper.$anonfun$fibonacci_k$2(\u001b[32mcmd12.sc\u001b[39m:\u001b[32m27\u001b[39m)\n  ammonite.$sess.cmd12$Helper.k2$1(\u001b[32mcmd12.sc\u001b[39m:\u001b[32m22\u001b[39m)\n  ammonite.$sess.cmd12$Helper.$anonfun$fibonacci_k$1(\u001b[32mcmd12.sc\u001b[39m:\u001b[32m24\u001b[39m)\n  ammonite.$sess.cmd12$Helper.fibonacci_k(\u001b[32mcmd12.sc\u001b[39m:\u001b[32m12\u001b[39m)\n  ammonite.$sess.cmd12$Helper.k1$1(\u001b[32mcmd12.sc\u001b[39m:\u001b[32m24\u001b[39m)\n  ammonite.$sess.cmd12$Helper.$anonfun$fibonacci_k$2(\u001b[32mcmd12.sc\u001b[39m:\u001b[32m27\u001b[39m)\n  ammonite.$sess.cmd12$Helper.k2$1(\u001b[32mcmd12.sc\u001b[39m:\u001b[32m22\u001b[39m)\n  ammonite.$sess.cmd12$Helper.$anonfun$fibonacci_k$1(\u001b[32mcmd12.sc\u001b[39m:\u001b[32m24\u001b[39m)\n  ammonite.$sess.cmd12$Helper.fibonacci_k(\u001b[32mcmd12.sc\u001b[39m:\u001b[32m12\u001b[39m)\n  ammonite.$sess.cmd12$Helper.k1$1(\u001b[32mcmd12.sc\u001b[39m:\u001b[32m24\u001b[39m)\n  ammonite.$sess.cmd12$Helper.$anonfun$fibonacci_k$2(\u001b[32mcmd12.sc\u001b[39m:\u001b[32m27\u001b[39m)\n  ammonite.$sess.cmd12$Helper.fibonacci_k(\u001b[32mcmd12.sc\u001b[39m:\u001b[32m12\u001b[39m)\n  ammonite.$sess.cmd12$Helper.k1$1(\u001b[32mcmd12.sc\u001b[39m:\u001b[32m24\u001b[39m)\n  ammonite.$sess.cmd12$Helper.$anonfun$fibonacci_k$2(\u001b[32mcmd12.sc\u001b[39m:\u001b[32m27\u001b[39m)\n  ammonite.$sess.cmd12$Helper.k2$1(\u001b[32mcmd12.sc\u001b[39m:\u001b[32m22\u001b[39m)\n  ammonite.$sess.cmd12$Helper.$anonfun$fibonacci_k$1(\u001b[32mcmd12.sc\u001b[39m:\u001b[32m24\u001b[39m)\n  ammonite.$sess.cmd12$Helper.k2$1(\u001b[32mcmd12.sc\u001b[39m:\u001b[32m22\u001b[39m)\n  ammonite.$sess.cmd12$Helper.$anonfun$fibonacci_k$1(\u001b[32mcmd12.sc\u001b[39m:\u001b[32m24\u001b[39m)\n  ammonite.$sess.cmd12$Helper.k2$1(\u001b[32mcmd12.sc\u001b[39m:\u001b[32m22\u001b[39m)\n  ammonite.$sess.cmd12$Helper.$anonfun$fibonacci_k$1(\u001b[32mcmd12.sc\u001b[39m:\u001b[32m24\u001b[39m)\n  ammonite.$sess.cmd12$Helper.fibonacci_k(\u001b[32mcmd12.sc\u001b[39m:\u001b[32m12\u001b[39m)\n  ammonite.$sess.cmd12$Helper.k1$1(\u001b[32mcmd12.sc\u001b[39m:\u001b[32m24\u001b[39m)\n  ammonite.$sess.cmd12$Helper.$anonfun$fibonacci_k$2(\u001b[32mcmd12.sc\u001b[39m:\u001b[32m27\u001b[39m)\n  ammonite.$sess.cmd12$Helper.k2$1(\u001b[32mcmd12.sc\u001b[39m:\u001b[32m22\u001b[39m)\n  ammonite.$sess.cmd12$Helper.$anonfun$fibonacci_k$1(\u001b[32mcmd12.sc\u001b[39m:\u001b[32m24\u001b[39m)\n  ammonite.$sess.cmd12$Helper.fibonacci_k(\u001b[32mcmd12.sc\u001b[39m:\u001b[32m12\u001b[39m)\n  ammonite.$sess.cmd12$Helper.k1$1(\u001b[32mcmd12.sc\u001b[39m:\u001b[32m24\u001b[39m)\n  ammonite.$sess.cmd12$Helper.$anonfun$fibonacci_k$2(\u001b[32mcmd12.sc\u001b[39m:\u001b[32m27\u001b[39m)\n  ammonite.$sess.cmd12$Helper.fibonacci_k(\u001b[32mcmd12.sc\u001b[39m:\u001b[32m12\u001b[39m)\n  ammonite.$sess.cmd12$Helper.k1$1(\u001b[32mcmd12.sc\u001b[39m:\u001b[32m24\u001b[39m)\n  ammonite.$sess.cmd12$Helper.$anonfun$fibonacci_k$2(\u001b[32mcmd12.sc\u001b[39m:\u001b[32m27\u001b[39m)\n  ammonite.$sess.cmd12$Helper.k2$1(\u001b[32mcmd12.sc\u001b[39m:\u001b[32m22\u001b[39m)\n  ammonite.$sess.cmd12$Helper.$anonfun$fibonacci_k$1(\u001b[32mcmd12.sc\u001b[39m:\u001b[32m24\u001b[39m)\n  ammonite.$sess.cmd12$Helper.k2$1(\u001b[32mcmd12.sc\u001b[39m:\u001b[32m22\u001b[39m)\n  ammonite.$sess.cmd12$Helper.$anonfun$fibonacci_k$1(\u001b[32mcmd12.sc\u001b[39m:\u001b[32m24\u001b[39m)\n  ammonite.$sess.cmd12$Helper.fibonacci_k(\u001b[32mcmd12.sc\u001b[39m:\u001b[32m12\u001b[39m)\n  ammonite.$sess.cmd12$Helper.k1$1(\u001b[32mcmd12.sc\u001b[39m:\u001b[32m24\u001b[39m)\n  ammonite.$sess.cmd12$Helper.$anonfun$fibonacci_k$2(\u001b[32mcmd12.sc\u001b[39m:\u001b[32m27\u001b[39m)\n  ammonite.$sess.cmd12$Helper.fibonacci_k(\u001b[32mcmd12.sc\u001b[39m:\u001b[32m12\u001b[39m)\n  ammonite.$sess.cmd12$Helper.k1$1(\u001b[32mcmd12.sc\u001b[39m:\u001b[32m24\u001b[39m)\n  ammonite.$sess.cmd12$Helper.$anonfun$fibonacci_k$2(\u001b[32mcmd12.sc\u001b[39m:\u001b[32m27\u001b[39m)\n  ammonite.$sess.cmd12$Helper.k2$1(\u001b[32mcmd12.sc\u001b[39m:\u001b[32m22\u001b[39m)\n  ammonite.$sess.cmd12$Helper.$anonfun$fibonacci_k$1(\u001b[32mcmd12.sc\u001b[39m:\u001b[32m24\u001b[39m)\n  ammonite.$sess.cmd12$Helper.fibonacci_k(\u001b[32mcmd12.sc\u001b[39m:\u001b[32m12\u001b[39m)\n  ammonite.$sess.cmd12$Helper.k1$1(\u001b[32mcmd12.sc\u001b[39m:\u001b[32m24\u001b[39m)\n  ammonite.$sess.cmd12$Helper.$anonfun$fibonacci_k$2(\u001b[32mcmd12.sc\u001b[39m:\u001b[32m27\u001b[39m)\n  ammonite.$sess.cmd12$Helper.k2$1(\u001b[32mcmd12.sc\u001b[39m:\u001b[32m22\u001b[39m)\n  ammonite.$sess.cmd12$Helper.$anonfun$fibonacci_k$1(\u001b[32mcmd12.sc\u001b[39m:\u001b[32m24\u001b[39m)\n  ammonite.$sess.cmd12$Helper.fibonacci_k(\u001b[32mcmd12.sc\u001b[39m:\u001b[32m12\u001b[39m)\n  ammonite.$sess.cmd12$Helper.k1$1(\u001b[32mcmd12.sc\u001b[39m:\u001b[32m24\u001b[39m)\n  ammonite.$sess.cmd12$Helper.$anonfun$fibonacci_k$2(\u001b[32mcmd12.sc\u001b[39m:\u001b[32m27\u001b[39m)\n  ammonite.$sess.cmd12$Helper.fibonacci_k(\u001b[32mcmd12.sc\u001b[39m:\u001b[32m12\u001b[39m)\n  ammonite.$sess.cmd12$Helper.k1$1(\u001b[32mcmd12.sc\u001b[39m:\u001b[32m24\u001b[39m)\n  ammonite.$sess.cmd12$Helper.$anonfun$fibonacci_k$2(\u001b[32mcmd12.sc\u001b[39m:\u001b[32m27\u001b[39m)\n  ammonite.$sess.cmd12$Helper.k2$1(\u001b[32mcmd12.sc\u001b[39m:\u001b[32m22\u001b[39m)\n  ammonite.$sess.cmd12$Helper.$anonfun$fibonacci_k$1(\u001b[32mcmd12.sc\u001b[39m:\u001b[32m24\u001b[39m)\n  ammonite.$sess.cmd12$Helper.k2$1(\u001b[32mcmd12.sc\u001b[39m:\u001b[32m22\u001b[39m)\n  ammonite.$sess.cmd12$Helper.$anonfun$fibonacci_k$1(\u001b[32mcmd12.sc\u001b[39m:\u001b[32m24\u001b[39m)\n  ammonite.$sess.cmd12$Helper.k2$1(\u001b[32mcmd12.sc\u001b[39m:\u001b[32m22\u001b[39m)\n  ammonite.$sess.cmd12$Helper.$anonfun$fibonacci_k$1(\u001b[32mcmd12.sc\u001b[39m:\u001b[32m24\u001b[39m)\n  ammonite.$sess.cmd12$Helper.fibonacci_k(\u001b[32mcmd12.sc\u001b[39m:\u001b[32m12\u001b[39m)\n  ammonite.$sess.cmd12$Helper.k1$1(\u001b[32mcmd12.sc\u001b[39m:\u001b[32m24\u001b[39m)\n  ammonite.$sess.cmd12$Helper.$anonfun$fibonacci_k$2(\u001b[32mcmd12.sc\u001b[39m:\u001b[32m27\u001b[39m)\n  ammonite.$sess.cmd12$Helper.fibonacci_k(\u001b[32mcmd12.sc\u001b[39m:\u001b[32m12\u001b[39m)\n  ammonite.$sess.cmd12$Helper.k1$1(\u001b[32mcmd12.sc\u001b[39m:\u001b[32m24\u001b[39m)\n  ammonite.$sess.cmd12$Helper.$anonfun$fibonacci_k$2(\u001b[32mcmd12.sc\u001b[39m:\u001b[32m27\u001b[39m)\n  ammonite.$sess.cmd12$Helper.k2$1(\u001b[32mcmd12.sc\u001b[39m:\u001b[32m22\u001b[39m)\n  ammonite.$sess.cmd12$Helper.$anonfun$fibonacci_k$1(\u001b[32mcmd12.sc\u001b[39m:\u001b[32m24\u001b[39m)\n  ammonite.$sess.cmd12$Helper.fibonacci_k(\u001b[32mcmd12.sc\u001b[39m:\u001b[32m12\u001b[39m)\n  ammonite.$sess.cmd12$Helper.k1$1(\u001b[32mcmd12.sc\u001b[39m:\u001b[32m24\u001b[39m)\n  ammonite.$sess.cmd12$Helper.$anonfun$fibonacci_k$2(\u001b[32mcmd12.sc\u001b[39m:\u001b[32m27\u001b[39m)\n  ammonite.$sess.cmd12$Helper.k2$1(\u001b[32mcmd12.sc\u001b[39m:\u001b[32m22\u001b[39m)\n  ammonite.$sess.cmd12$Helper.$anonfun$fibonacci_k$1(\u001b[32mcmd12.sc\u001b[39m:\u001b[32m24\u001b[39m)\n  ammonite.$sess.cmd12$Helper.fibonacci_k(\u001b[32mcmd12.sc\u001b[39m:\u001b[32m12\u001b[39m)\n  ammonite.$sess.cmd12$Helper.k1$1(\u001b[32mcmd12.sc\u001b[39m:\u001b[32m24\u001b[39m)\n  ammonite.$sess.cmd12$Helper.$anonfun$fibonacci_k$2(\u001b[32mcmd12.sc\u001b[39m:\u001b[32m27\u001b[39m)\n  ammonite.$sess.cmd12$Helper.fibonacci_k(\u001b[32mcmd12.sc\u001b[39m:\u001b[32m12\u001b[39m)\n  ammonite.$sess.cmd12$Helper.k1$1(\u001b[32mcmd12.sc\u001b[39m:\u001b[32m24\u001b[39m)\n  ammonite.$sess.cmd12$Helper.$anonfun$fibonacci_k$2(\u001b[32mcmd12.sc\u001b[39m:\u001b[32m27\u001b[39m)\n  ammonite.$sess.cmd12$Helper.k2$1(\u001b[32mcmd12.sc\u001b[39m:\u001b[32m22\u001b[39m)\n  ammonite.$sess.cmd12$Helper.$anonfun$fibonacci_k$1(\u001b[32mcmd12.sc\u001b[39m:\u001b[32m24\u001b[39m)\n  ammonite.$sess.cmd12$Helper.k2$1(\u001b[32mcmd12.sc\u001b[39m:\u001b[32m22\u001b[39m)\n  ammonite.$sess.cmd12$Helper.$anonfun$fibonacci_k$1(\u001b[32mcmd12.sc\u001b[39m:\u001b[32m24\u001b[39m)\n  ammonite.$sess.cmd12$Helper.fibonacci_k(\u001b[32mcmd12.sc\u001b[39m:\u001b[32m12\u001b[39m)\n  ammonite.$sess.cmd12$Helper.k1$1(\u001b[32mcmd12.sc\u001b[39m:\u001b[32m24\u001b[39m)\n  ammonite.$sess.cmd12$Helper.$anonfun$fibonacci_k$2(\u001b[32mcmd12.sc\u001b[39m:\u001b[32m27\u001b[39m)\n  ammonite.$sess.cmd12$Helper.k2$1(\u001b[32mcmd12.sc\u001b[39m:\u001b[32m22\u001b[39m)\n  ammonite.$sess.cmd12$Helper.$anonfun$fibonacci_k$1(\u001b[32mcmd12.sc\u001b[39m:\u001b[32m24\u001b[39m)\n  ammonite.$sess.cmd12$Helper.fibonacci_k(\u001b[32mcmd12.sc\u001b[39m:\u001b[32m12\u001b[39m)\n  ammonite.$sess.cmd12$Helper.k1$1(\u001b[32mcmd12.sc\u001b[39m:\u001b[32m24\u001b[39m)\n  ammonite.$sess.cmd12$Helper.$anonfun$fibonacci_k$2(\u001b[32mcmd12.sc\u001b[39m:\u001b[32m27\u001b[39m)\n  ammonite.$sess.cmd12$Helper.fibonacci_k(\u001b[32mcmd12.sc\u001b[39m:\u001b[32m12\u001b[39m)\n  ammonite.$sess.cmd12$Helper.k1$1(\u001b[32mcmd12.sc\u001b[39m:\u001b[32m24\u001b[39m)\n  ammonite.$sess.cmd12$Helper.$anonfun$fibonacci_k$2(\u001b[32mcmd12.sc\u001b[39m:\u001b[32m27\u001b[39m)\n  ammonite.$sess.cmd12$Helper.k2$1(\u001b[32mcmd12.sc\u001b[39m:\u001b[32m22\u001b[39m)\n  ammonite.$sess.cmd12$Helper.$anonfun$fibonacci_k$1(\u001b[32mcmd12.sc\u001b[39m:\u001b[32m24\u001b[39m)\n  ammonite.$sess.cmd12$Helper.k2$1(\u001b[32mcmd12.sc\u001b[39m:\u001b[32m22\u001b[39m)\n  ammonite.$sess.cmd12$Helper.$anonfun$fibonacci_k$1(\u001b[32mcmd12.sc\u001b[39m:\u001b[32m24\u001b[39m)\n  ammonite.$sess.cmd12$Helper.fibonacci_k(\u001b[32mcmd12.sc\u001b[39m:\u001b[32m12\u001b[39m)\n  ammonite.$sess.cmd12$Helper.k1$1(\u001b[32mcmd12.sc\u001b[39m:\u001b[32m24\u001b[39m)\n  ammonite.$sess.cmd12$Helper.$anonfun$fibonacci_k$2(\u001b[32mcmd12.sc\u001b[39m:\u001b[32m27\u001b[39m)\n  ammonite.$sess.cmd12$Helper.fibonacci_k(\u001b[32mcmd12.sc\u001b[39m:\u001b[32m12\u001b[39m)\n  ammonite.$sess.cmd12$Helper.k1$1(\u001b[32mcmd12.sc\u001b[39m:\u001b[32m24\u001b[39m)\n  ammonite.$sess.cmd12$Helper.$anonfun$fibonacci_k$2(\u001b[32mcmd12.sc\u001b[39m:\u001b[32m27\u001b[39m)\n  ammonite.$sess.cmd12$Helper.k2$1(\u001b[32mcmd12.sc\u001b[39m:\u001b[32m22\u001b[39m)\n  ammonite.$sess.cmd12$Helper.$anonfun$fibonacci_k$1(\u001b[32mcmd12.sc\u001b[39m:\u001b[32m24\u001b[39m)\n  ammonite.$sess.cmd12$Helper.fibonacci_k(\u001b[32mcmd12.sc\u001b[39m:\u001b[32m12\u001b[39m)\n  ammonite.$sess.cmd12$Helper.k1$1(\u001b[32mcmd12.sc\u001b[39m:\u001b[32m24\u001b[39m)\n  ammonite.$sess.cmd12$Helper.$anonfun$fibonacci_k$2(\u001b[32mcmd12.sc\u001b[39m:\u001b[32m27\u001b[39m)\n  ammonite.$sess.cmd12$Helper.k2$1(\u001b[32mcmd12.sc\u001b[39m:\u001b[32m22\u001b[39m)\n  ammonite.$sess.cmd12$Helper.$anonfun$fibonacci_k$1(\u001b[32mcmd12.sc\u001b[39m:\u001b[32m24\u001b[39m)\n  ammonite.$sess.cmd12$Helper.fibonacci_k(\u001b[32mcmd12.sc\u001b[39m:\u001b[32m12\u001b[39m)\n  ammonite.$sess.cmd12$Helper.k1$1(\u001b[32mcmd12.sc\u001b[39m:\u001b[32m24\u001b[39m)\n  ammonite.$sess.cmd12$Helper.$anonfun$fibonacci_k$2(\u001b[32mcmd12.sc\u001b[39m:\u001b[32m27\u001b[39m)\n  ammonite.$sess.cmd12$Helper.fibonacci_k(\u001b[32mcmd12.sc\u001b[39m:\u001b[32m12\u001b[39m)\n  ammonite.$sess.cmd12$Helper.k1$1(\u001b[32mcmd12.sc\u001b[39m:\u001b[32m24\u001b[39m)\n  ammonite.$sess.cmd12$Helper.$anonfun$fibonacci_k$2(\u001b[32mcmd12.sc\u001b[39m:\u001b[32m27\u001b[39m)\n  ammonite.$sess.cmd12$Helper.k2$1(\u001b[32mcmd12.sc\u001b[39m:\u001b[32m22\u001b[39m)\n  ammonite.$sess.cmd12$Helper.$anonfun$fibonacci_k$1(\u001b[32mcmd12.sc\u001b[39m:\u001b[32m24\u001b[39m)\n  ammonite.$sess.cmd12$Helper.k2$1(\u001b[32mcmd12.sc\u001b[39m:\u001b[32m22\u001b[39m)\n  ammonite.$sess.cmd12$Helper.$anonfun$fibonacci_k$1(\u001b[32mcmd12.sc\u001b[39m:\u001b[32m24\u001b[39m)\n  ammonite.$sess.cmd12$Helper.k2$1(\u001b[32mcmd12.sc\u001b[39m:\u001b[32m22\u001b[39m)\n  ammonite.$sess.cmd12$Helper.$anonfun$fibonacci_k$1(\u001b[32mcmd12.sc\u001b[39m:\u001b[32m24\u001b[39m)\n  ammonite.$sess.cmd12$Helper.k2$1(\u001b[32mcmd12.sc\u001b[39m:\u001b[32m22\u001b[39m)\n  ammonite.$sess.cmd12$Helper.$anonfun$fibonacci_k$1(\u001b[32mcmd12.sc\u001b[39m:\u001b[32m24\u001b[39m)\n  ammonite.$sess.cmd12$Helper.fibonacci_k(\u001b[32mcmd12.sc\u001b[39m:\u001b[32m12\u001b[39m)\n  ammonite.$sess.cmd12$Helper.k1$1(\u001b[32mcmd12.sc\u001b[39m:\u001b[32m24\u001b[39m)\n  ammonite.$sess.cmd12$Helper.$anonfun$fibonacci_k$2(\u001b[32mcmd12.sc\u001b[39m:\u001b[32m27\u001b[39m)\n  ammonite.$sess.cmd12$Helper.k2$1(\u001b[32mcmd12.sc\u001b[39m:\u001b[32m22\u001b[39m)\n  ammonite.$sess.cmd12$Helper.$anonfun$fibonacci_k$1(\u001b[32mcmd12.sc\u001b[39m:\u001b[32m24\u001b[39m)\n  ammonite.$sess.cmd12$Helper.fibonacci_k(\u001b[32mcmd12.sc\u001b[39m:\u001b[32m12\u001b[39m)\n  ammonite.$sess.cmd12$Helper.k1$1(\u001b[32mcmd12.sc\u001b[39m:\u001b[32m24\u001b[39m)\n  ammonite.$sess.cmd12$Helper.$anonfun$fibonacci_k$2(\u001b[32mcmd12.sc\u001b[39m:\u001b[32m27\u001b[39m)\n  ammonite.$sess.cmd12$Helper.fibonacci_k(\u001b[32mcmd12.sc\u001b[39m:\u001b[32m12\u001b[39m)\n  ammonite.$sess.cmd12$Helper.k1$1(\u001b[32mcmd12.sc\u001b[39m:\u001b[32m24\u001b[39m)\n  ammonite.$sess.cmd12$Helper.$anonfun$fibonacci_k$2(\u001b[32mcmd12.sc\u001b[39m:\u001b[32m27\u001b[39m)\n  ammonite.$sess.cmd12$Helper.k2$1(\u001b[32mcmd12.sc\u001b[39m:\u001b[32m22\u001b[39m)\n  ammonite.$sess.cmd12$Helper.$anonfun$fibonacci_k$1(\u001b[32mcmd12.sc\u001b[39m:\u001b[32m24\u001b[39m)\n  ammonite.$sess.cmd12$Helper.k2$1(\u001b[32mcmd12.sc\u001b[39m:\u001b[32m22\u001b[39m)\n  ammonite.$sess.cmd12$Helper.$anonfun$fibonacci_k$1(\u001b[32mcmd12.sc\u001b[39m:\u001b[32m24\u001b[39m)\n  ammonite.$sess.cmd12$Helper.fibonacci_k(\u001b[32mcmd12.sc\u001b[39m:\u001b[32m12\u001b[39m)\n  ammonite.$sess.cmd12$Helper.k1$1(\u001b[32mcmd12.sc\u001b[39m:\u001b[32m24\u001b[39m)\n  ammonite.$sess.cmd12$Helper.$anonfun$fibonacci_k$2(\u001b[32mcmd12.sc\u001b[39m:\u001b[32m27\u001b[39m)\n  ammonite.$sess.cmd12$Helper.fibonacci_k(\u001b[32mcmd12.sc\u001b[39m:\u001b[32m12\u001b[39m)\n  ammonite.$sess.cmd12$Helper.k1$1(\u001b[32mcmd12.sc\u001b[39m:\u001b[32m24\u001b[39m)\n  ammonite.$sess.cmd12$Helper.$anonfun$fibonacci_k$2(\u001b[32mcmd12.sc\u001b[39m:\u001b[32m27\u001b[39m)\n  ammonite.$sess.cmd12$Helper.k2$1(\u001b[32mcmd12.sc\u001b[39m:\u001b[32m22\u001b[39m)\n  ammonite.$sess.cmd12$Helper.$anonfun$fibonacci_k$1(\u001b[32mcmd12.sc\u001b[39m:\u001b[32m24\u001b[39m)\n  ammonite.$sess.cmd12$Helper.fibonacci_k(\u001b[32mcmd12.sc\u001b[39m:\u001b[32m12\u001b[39m)\n  ammonite.$sess.cmd12$Helper.k1$1(\u001b[32mcmd12.sc\u001b[39m:\u001b[32m24\u001b[39m)\n  ammonite.$sess.cmd12$Helper.$anonfun$fibonacci_k$2(\u001b[32mcmd12.sc\u001b[39m:\u001b[32m27\u001b[39m)\n  ammonite.$sess.cmd12$Helper.k2$1(\u001b[32mcmd12.sc\u001b[39m:\u001b[32m22\u001b[39m)\n  ammonite.$sess.cmd12$Helper.$anonfun$fibonacci_k$1(\u001b[32mcmd12.sc\u001b[39m:\u001b[32m24\u001b[39m)\n  ammonite.$sess.cmd12$Helper.fibonacci_k(\u001b[32mcmd12.sc\u001b[39m:\u001b[32m12\u001b[39m)\n  ammonite.$sess.cmd12$Helper.k1$1(\u001b[32mcmd12.sc\u001b[39m:\u001b[32m24\u001b[39m)\n  ammonite.$sess.cmd12$Helper.$anonfun$fibonacci_k$2(\u001b[32mcmd12.sc\u001b[39m:\u001b[32m27\u001b[39m)\n  ammonite.$sess.cmd12$Helper.fibonacci_k(\u001b[32mcmd12.sc\u001b[39m:\u001b[32m12\u001b[39m)\n  ammonite.$sess.cmd12$Helper.k1$1(\u001b[32mcmd12.sc\u001b[39m:\u001b[32m24\u001b[39m)\n  ammonite.$sess.cmd12$Helper.$anonfun$fibonacci_k$2(\u001b[32mcmd12.sc\u001b[39m:\u001b[32m27\u001b[39m)\n  ammonite.$sess.cmd12$Helper.k2$1(\u001b[32mcmd12.sc\u001b[39m:\u001b[32m22\u001b[39m)\n  ammonite.$sess.cmd12$Helper.$anonfun$fibonacci_k$1(\u001b[32mcmd12.sc\u001b[39m:\u001b[32m24\u001b[39m)\n  ammonite.$sess.cmd12$Helper.k2$1(\u001b[32mcmd12.sc\u001b[39m:\u001b[32m22\u001b[39m)\n  ammonite.$sess.cmd12$Helper.$anonfun$fibonacci_k$1(\u001b[32mcmd12.sc\u001b[39m:\u001b[32m24\u001b[39m)\n  ammonite.$sess.cmd12$Helper.k2$1(\u001b[32mcmd12.sc\u001b[39m:\u001b[32m22\u001b[39m)\n  ammonite.$sess.cmd12$Helper.$anonfun$fibonacci_k$1(\u001b[32mcmd12.sc\u001b[39m:\u001b[32m24\u001b[39m)\n  ammonite.$sess.cmd12$Helper.fibonacci_k(\u001b[32mcmd12.sc\u001b[39m:\u001b[32m12\u001b[39m)\n  ammonite.$sess.cmd12$Helper.k1$1(\u001b[32mcmd12.sc\u001b[39m:\u001b[32m24\u001b[39m)\n  ammonite.$sess.cmd12$Helper.$anonfun$fibonacci_k$2(\u001b[32mcmd12.sc\u001b[39m:\u001b[32m27\u001b[39m)\n  ammonite.$sess.cmd12$Helper.fibonacci_k(\u001b[32mcmd12.sc\u001b[39m:\u001b[32m12\u001b[39m)\n  ammonite.$sess.cmd12$Helper.k1$1(\u001b[32mcmd12.sc\u001b[39m:\u001b[32m24\u001b[39m)\n  ammonite.$sess.cmd12$Helper.$anonfun$fibonacci_k$2(\u001b[32mcmd12.sc\u001b[39m:\u001b[32m27\u001b[39m)\n  ammonite.$sess.cmd12$Helper.k2$1(\u001b[32mcmd12.sc\u001b[39m:\u001b[32m22\u001b[39m)\n  ammonite.$sess.cmd12$Helper.$anonfun$fibonacci_k$1(\u001b[32mcmd12.sc\u001b[39m:\u001b[32m24\u001b[39m)\n  ammonite.$sess.cmd12$Helper.fibonacci_k(\u001b[32mcmd12.sc\u001b[39m:\u001b[32m12\u001b[39m)\n  ammonite.$sess.cmd12$Helper.k1$1(\u001b[32mcmd12.sc\u001b[39m:\u001b[32m24\u001b[39m)\n  ammonite.$sess.cmd12$Helper.$anonfun$fibonacci_k$2(\u001b[32mcmd12.sc\u001b[39m:\u001b[32m27\u001b[39m)\n  ammonite.$sess.cmd12$Helper.k2$1(\u001b[32mcmd12.sc\u001b[39m:\u001b[32m22\u001b[39m)\n  ammonite.$sess.cmd12$Helper.$anonfun$fibonacci_k$1(\u001b[32mcmd12.sc\u001b[39m:\u001b[32m24\u001b[39m)\n  ammonite.$sess.cmd12$Helper.fibonacci_k(\u001b[32mcmd12.sc\u001b[39m:\u001b[32m12\u001b[39m)\n  ammonite.$sess.cmd12$Helper.k1$1(\u001b[32mcmd12.sc\u001b[39m:\u001b[32m24\u001b[39m)\n  ammonite.$sess.cmd12$Helper.$anonfun$fibonacci_k$2(\u001b[32mcmd12.sc\u001b[39m:\u001b[32m27\u001b[39m)\n  ammonite.$sess.cmd12$Helper.fibonacci_k(\u001b[32mcmd12.sc\u001b[39m:\u001b[32m12\u001b[39m)\n  ammonite.$sess.cmd12$Helper.k1$1(\u001b[32mcmd12.sc\u001b[39m:\u001b[32m24\u001b[39m)\n  ammonite.$sess.cmd12$Helper.$anonfun$fibonacci_k$2(\u001b[32mcmd12.sc\u001b[39m:\u001b[32m27\u001b[39m)\n  ammonite.$sess.cmd12$Helper.k2$1(\u001b[32mcmd12.sc\u001b[39m:\u001b[32m22\u001b[39m)\n  ammonite.$sess.cmd12$Helper.$anonfun$fibonacci_k$1(\u001b[32mcmd12.sc\u001b[39m:\u001b[32m24\u001b[39m)\n  ammonite.$sess.cmd12$Helper.k2$1(\u001b[32mcmd12.sc\u001b[39m:\u001b[32m22\u001b[39m)\n  ammonite.$sess.cmd12$Helper.$anonfun$fibonacci_k$1(\u001b[32mcmd12.sc\u001b[39m:\u001b[32m24\u001b[39m)\n  ammonite.$sess.cmd12$Helper.fibonacci_k(\u001b[32mcmd12.sc\u001b[39m:\u001b[32m12\u001b[39m)\n  ammonite.$sess.cmd12$Helper.k1$1(\u001b[32mcmd12.sc\u001b[39m:\u001b[32m24\u001b[39m)\n  ammonite.$sess.cmd12$Helper.$anonfun$fibonacci_k$2(\u001b[32mcmd12.sc\u001b[39m:\u001b[32m27\u001b[39m)\n  ammonite.$sess.cmd12$Helper.k2$1(\u001b[32mcmd12.sc\u001b[39m:\u001b[32m22\u001b[39m)\n  ammonite.$sess.cmd12$Helper.$anonfun$fibonacci_k$1(\u001b[32mcmd12.sc\u001b[39m:\u001b[32m24\u001b[39m)\n  ammonite.$sess.cmd12$Helper.fibonacci_k(\u001b[32mcmd12.sc\u001b[39m:\u001b[32m12\u001b[39m)\n  ammonite.$sess.cmd12$Helper.k1$1(\u001b[32mcmd12.sc\u001b[39m:\u001b[32m24\u001b[39m)\n  ammonite.$sess.cmd12$Helper.$anonfun$fibonacci_k$2(\u001b[32mcmd12.sc\u001b[39m:\u001b[32m27\u001b[39m)\n  ammonite.$sess.cmd12$Helper.fibonacci_k(\u001b[32mcmd12.sc\u001b[39m:\u001b[32m12\u001b[39m)\n  ammonite.$sess.cmd12$Helper.k1$1(\u001b[32mcmd12.sc\u001b[39m:\u001b[32m24\u001b[39m)\n  ammonite.$sess.cmd12$Helper.$anonfun$fibonacci_k$2(\u001b[32mcmd12.sc\u001b[39m:\u001b[32m27\u001b[39m)\n  ammonite.$sess.cmd12$Helper.k2$1(\u001b[32mcmd12.sc\u001b[39m:\u001b[32m22\u001b[39m)\n  ammonite.$sess.cmd12$Helper.$anonfun$fibonacci_k$1(\u001b[32mcmd12.sc\u001b[39m:\u001b[32m24\u001b[39m)\n  ammonite.$sess.cmd12$Helper.k2$1(\u001b[32mcmd12.sc\u001b[39m:\u001b[32m22\u001b[39m)\n  ammonite.$sess.cmd12$Helper.$anonfun$fibonacci_k$1(\u001b[32mcmd12.sc\u001b[39m:\u001b[32m24\u001b[39m)\n  ammonite.$sess.cmd12$Helper.fibonacci_k(\u001b[32mcmd12.sc\u001b[39m:\u001b[32m12\u001b[39m)\n  ammonite.$sess.cmd12$Helper.k1$1(\u001b[32mcmd12.sc\u001b[39m:\u001b[32m24\u001b[39m)\n  ammonite.$sess.cmd12$Helper.$anonfun$fibonacci_k$2(\u001b[32mcmd12.sc\u001b[39m:\u001b[32m27\u001b[39m)\n  ammonite.$sess.cmd12$Helper.fibonacci_k(\u001b[32mcmd12.sc\u001b[39m:\u001b[32m12\u001b[39m)\n  ammonite.$sess.cmd12$Helper.k1$1(\u001b[32mcmd12.sc\u001b[39m:\u001b[32m24\u001b[39m)\n  ammonite.$sess.cmd12$Helper.$anonfun$fibonacci_k$2(\u001b[32mcmd12.sc\u001b[39m:\u001b[32m27\u001b[39m)\n  ammonite.$sess.cmd12$Helper.k2$1(\u001b[32mcmd12.sc\u001b[39m:\u001b[32m22\u001b[39m)\n  ammonite.$sess.cmd12$Helper.$anonfun$fibonacci_k$1(\u001b[32mcmd12.sc\u001b[39m:\u001b[32m24\u001b[39m)\n  ammonite.$sess.cmd12$Helper.fibonacci_k(\u001b[32mcmd12.sc\u001b[39m:\u001b[32m12\u001b[39m)\n  ammonite.$sess.cmd12$Helper.k1$1(\u001b[32mcmd12.sc\u001b[39m:\u001b[32m24\u001b[39m)\n  ammonite.$sess.cmd12$Helper.$anonfun$fibonacci_k$2(\u001b[32mcmd12.sc\u001b[39m:\u001b[32m27\u001b[39m)\n  ammonite.$sess.cmd12$Helper.k2$1(\u001b[32mcmd12.sc\u001b[39m:\u001b[32m22\u001b[39m)\n  ammonite.$sess.cmd12$Helper.$anonfun$fibonacci_k$1(\u001b[32mcmd12.sc\u001b[39m:\u001b[32m24\u001b[39m)\n  ammonite.$sess.cmd12$Helper.fibonacci_k(\u001b[32mcmd12.sc\u001b[39m:\u001b[32m12\u001b[39m)\n  ammonite.$sess.cmd12$Helper.k1$1(\u001b[32mcmd12.sc\u001b[39m:\u001b[32m24\u001b[39m)\n  ammonite.$sess.cmd12$Helper.$anonfun$fibonacci_k$2(\u001b[32mcmd12.sc\u001b[39m:\u001b[32m27\u001b[39m)\n  ammonite.$sess.cmd12$Helper.fibonacci_k(\u001b[32mcmd12.sc\u001b[39m:\u001b[32m12\u001b[39m)\n  ammonite.$sess.cmd12$Helper.k1$1(\u001b[32mcmd12.sc\u001b[39m:\u001b[32m24\u001b[39m)\n  ammonite.$sess.cmd12$Helper.$anonfun$fibonacci_k$2(\u001b[32mcmd12.sc\u001b[39m:\u001b[32m27\u001b[39m)\n  ammonite.$sess.cmd12$Helper.k2$1(\u001b[32mcmd12.sc\u001b[39m:\u001b[32m22\u001b[39m)\n  ammonite.$sess.cmd12$Helper.$anonfun$fibonacci_k$1(\u001b[32mcmd12.sc\u001b[39m:\u001b[32m24\u001b[39m)\n  ammonite.$sess.cmd12$Helper.k2$1(\u001b[32mcmd12.sc\u001b[39m:\u001b[32m22\u001b[39m)\n  ammonite.$sess.cmd12$Helper.$anonfun$fibonacci_k$1(\u001b[32mcmd12.sc\u001b[39m:\u001b[32m24\u001b[39m)\n  ammonite.$sess.cmd12$Helper.k2$1(\u001b[32mcmd12.sc\u001b[39m:\u001b[32m22\u001b[39m)\n  ammonite.$sess.cmd12$Helper.$anonfun$fibonacci_k$1(\u001b[32mcmd12.sc\u001b[39m:\u001b[32m24\u001b[39m)\n  ammonite.$sess.cmd12$Helper.k2$1(\u001b[32mcmd12.sc\u001b[39m:\u001b[32m22\u001b[39m)\n  ammonite.$sess.cmd12$Helper.$anonfun$fibonacci_k$1(\u001b[32mcmd12.sc\u001b[39m:\u001b[32m24\u001b[39m)\n  ammonite.$sess.cmd12$Helper.fibonacci_k(\u001b[32mcmd12.sc\u001b[39m:\u001b[32m12\u001b[39m)\n  ammonite.$sess.cmd12$Helper.k1$1(\u001b[32mcmd12.sc\u001b[39m:\u001b[32m24\u001b[39m)\n  ammonite.$sess.cmd12$Helper.$anonfun$fibonacci_k$2(\u001b[32mcmd12.sc\u001b[39m:\u001b[32m27\u001b[39m)\n  ammonite.$sess.cmd12$Helper.fibonacci_k(\u001b[32mcmd12.sc\u001b[39m:\u001b[32m12\u001b[39m)\n  ammonite.$sess.cmd12$Helper.k1$1(\u001b[32mcmd12.sc\u001b[39m:\u001b[32m24\u001b[39m)\n  ammonite.$sess.cmd12$Helper.$anonfun$fibonacci_k$2(\u001b[32mcmd12.sc\u001b[39m:\u001b[32m27\u001b[39m)\n  ammonite.$sess.cmd12$Helper.k2$1(\u001b[32mcmd12.sc\u001b[39m:\u001b[32m22\u001b[39m)\n  ammonite.$sess.cmd12$Helper.$anonfun$fibonacci_k$1(\u001b[32mcmd12.sc\u001b[39m:\u001b[32m24\u001b[39m)\n  ammonite.$sess.cmd12$Helper.fibonacci_k(\u001b[32mcmd12.sc\u001b[39m:\u001b[32m12\u001b[39m)\n  ammonite.$sess.cmd12$Helper.k1$1(\u001b[32mcmd12.sc\u001b[39m:\u001b[32m24\u001b[39m)\n  ammonite.$sess.cmd12$Helper.$anonfun$fibonacci_k$2(\u001b[32mcmd12.sc\u001b[39m:\u001b[32m27\u001b[39m)\n  ammonite.$sess.cmd12$Helper.k2$1(\u001b[32mcmd12.sc\u001b[39m:\u001b[32m22\u001b[39m)\n  ammonite.$sess.cmd12$Helper.$anonfun$fibonacci_k$1(\u001b[32mcmd12.sc\u001b[39m:\u001b[32m24\u001b[39m)\n  ammonite.$sess.cmd12$Helper.fibonacci_k(\u001b[32mcmd12.sc\u001b[39m:\u001b[32m12\u001b[39m)\n  ammonite.$sess.cmd12$Helper.k1$1(\u001b[32mcmd12.sc\u001b[39m:\u001b[32m24\u001b[39m)\n  ammonite.$sess.cmd12$Helper.$anonfun$fibonacci_k$2(\u001b[32mcmd12.sc\u001b[39m:\u001b[32m27\u001b[39m)\n  ammonite.$sess.cmd12$Helper.fibonacci_k(\u001b[32mcmd12.sc\u001b[39m:\u001b[32m12\u001b[39m)\n  ammonite.$sess.cmd12$Helper.k1$1(\u001b[32mcmd12.sc\u001b[39m:\u001b[32m24\u001b[39m)\n  ammonite.$sess.cmd12$Helper.$anonfun$fibonacci_k$2(\u001b[32mcmd12.sc\u001b[39m:\u001b[32m27\u001b[39m)\n  ammonite.$sess.cmd12$Helper.k2$1(\u001b[32mcmd12.sc\u001b[39m:\u001b[32m22\u001b[39m)\n  ammonite.$sess.cmd12$Helper.$anonfun$fibonacci_k$1(\u001b[32mcmd12.sc\u001b[39m:\u001b[32m24\u001b[39m)\n  ammonite.$sess.cmd12$Helper.k2$1(\u001b[32mcmd12.sc\u001b[39m:\u001b[32m22\u001b[39m)\n  ammonite.$sess.cmd12$Helper.$anonfun$fibonacci_k$1(\u001b[32mcmd12.sc\u001b[39m:\u001b[32m24\u001b[39m)\n  ammonite.$sess.cmd12$Helper.fibonacci_k(\u001b[32mcmd12.sc\u001b[39m:\u001b[32m12\u001b[39m)\n  ammonite.$sess.cmd12$Helper.k1$1(\u001b[32mcmd12.sc\u001b[39m:\u001b[32m24\u001b[39m)\n  ammonite.$sess.cmd12$Helper.$anonfun$fibonacci_k$2(\u001b[32mcmd12.sc\u001b[39m:\u001b[32m27\u001b[39m)\n  ammonite.$sess.cmd12$Helper.k2$1(\u001b[32mcmd12.sc\u001b[39m:\u001b[32m22\u001b[39m)\n  ammonite.$sess.cmd12$Helper.$anonfun$fibonacci_k$1(\u001b[32mcmd12.sc\u001b[39m:\u001b[32m24\u001b[39m)\n  ammonite.$sess.cmd12$Helper.fibonacci_k(\u001b[32mcmd12.sc\u001b[39m:\u001b[32m12\u001b[39m)\n  ammonite.$sess.cmd12$Helper.k1$1(\u001b[32mcmd12.sc\u001b[39m:\u001b[32m24\u001b[39m)\n  ammonite.$sess.cmd12$Helper.$anonfun$fibonacci_k$2(\u001b[32mcmd12.sc\u001b[39m:\u001b[32m27\u001b[39m)\n  ammonite.$sess.cmd12$Helper.fibonacci_k(\u001b[32mcmd12.sc\u001b[39m:\u001b[32m12\u001b[39m)\n  ammonite.$sess.cmd12$Helper.k1$1(\u001b[32mcmd12.sc\u001b[39m:\u001b[32m24\u001b[39m)\n  ammonite.$sess.cmd12$Helper.$anonfun$fibonacci_k$2(\u001b[32mcmd12.sc\u001b[39m:\u001b[32m27\u001b[39m)\n  ammonite.$sess.cmd12$Helper.k2$1(\u001b[32mcmd12.sc\u001b[39m:\u001b[32m22\u001b[39m)\n  ammonite.$sess.cmd12$Helper.$anonfun$fibonacci_k$1(\u001b[32mcmd12.sc\u001b[39m:\u001b[32m24\u001b[39m)\n  ammonite.$sess.cmd12$Helper.k2$1(\u001b[32mcmd12.sc\u001b[39m:\u001b[32m22\u001b[39m)\n  ammonite.$sess.cmd12$Helper.$anonfun$fibonacci_k$1(\u001b[32mcmd12.sc\u001b[39m:\u001b[32m24\u001b[39m)\n  ammonite.$sess.cmd12$Helper.fibonacci_k(\u001b[32mcmd12.sc\u001b[39m:\u001b[32m12\u001b[39m)\n  ammonite.$sess.cmd12$Helper.k1$1(\u001b[32mcmd12.sc\u001b[39m:\u001b[32m24\u001b[39m)\n  ammonite.$sess.cmd12$Helper.$anonfun$fibonacci_k$2(\u001b[32mcmd12.sc\u001b[39m:\u001b[32m27\u001b[39m)\n  ammonite.$sess.cmd12$Helper.fibonacci_k(\u001b[32mcmd12.sc\u001b[39m:\u001b[32m12\u001b[39m)\n  ammonite.$sess.cmd12$Helper.k1$1(\u001b[32mcmd12.sc\u001b[39m:\u001b[32m24\u001b[39m)\n  ammonite.$sess.cmd12$Helper.$anonfun$fibonacci_k$2(\u001b[32mcmd12.sc\u001b[39m:\u001b[32m27\u001b[39m)\n  ammonite.$sess.cmd12$Helper.k2$1(\u001b[32mcmd12.sc\u001b[39m:\u001b[32m22\u001b[39m)\n  ammonite.$sess.cmd12$Helper.$anonfun$fibonacci_k$1(\u001b[32mcmd12.sc\u001b[39m:\u001b[32m24\u001b[39m)\n  ammonite.$sess.cmd12$Helper.fibonacci_k(\u001b[32mcmd12.sc\u001b[39m:\u001b[32m12\u001b[39m)\n  ammonite.$sess.cmd12$Helper.k1$1(\u001b[32mcmd12.sc\u001b[39m:\u001b[32m24\u001b[39m)\n  ammonite.$sess.cmd12$Helper.$anonfun$fibonacci_k$2(\u001b[32mcmd12.sc\u001b[39m:\u001b[32m27\u001b[39m)\n  ammonite.$sess.cmd12$Helper.k2$1(\u001b[32mcmd12.sc\u001b[39m:\u001b[32m22\u001b[39m)\n  ammonite.$sess.cmd12$Helper.$anonfun$fibonacci_k$1(\u001b[32mcmd12.sc\u001b[39m:\u001b[32m24\u001b[39m)\n  ammonite.$sess.cmd12$Helper.fibonacci_k(\u001b[32mcmd12.sc\u001b[39m:\u001b[32m12\u001b[39m)\n  ammonite.$sess.cmd12$Helper.k1$1(\u001b[32mcmd12.sc\u001b[39m:\u001b[32m24\u001b[39m)\n  ammonite.$sess.cmd12$Helper.$anonfun$fibonacci_k$2(\u001b[32mcmd12.sc\u001b[39m:\u001b[32m27\u001b[39m)\n  ammonite.$sess.cmd12$Helper.fibonacci_k(\u001b[32mcmd12.sc\u001b[39m:\u001b[32m12\u001b[39m)\n  ammonite.$sess.cmd12$Helper.k1$1(\u001b[32mcmd12.sc\u001b[39m:\u001b[32m24\u001b[39m)\n  ammonite.$sess.cmd12$Helper.$anonfun$fibonacci_k$2(\u001b[32mcmd12.sc\u001b[39m:\u001b[32m27\u001b[39m)\n  ammonite.$sess.cmd12$Helper.k2$1(\u001b[32mcmd12.sc\u001b[39m:\u001b[32m22\u001b[39m)\n  ammonite.$sess.cmd12$Helper.$anonfun$fibonacci_k$1(\u001b[32mcmd12.sc\u001b[39m:\u001b[32m24\u001b[39m)\n  ammonite.$sess.cmd12$Helper.k2$1(\u001b[32mcmd12.sc\u001b[39m:\u001b[32m22\u001b[39m)\n  ammonite.$sess.cmd12$Helper.$anonfun$fibonacci_k$1(\u001b[32mcmd12.sc\u001b[39m:\u001b[32m24\u001b[39m)\n  ammonite.$sess.cmd12$Helper.k2$1(\u001b[32mcmd12.sc\u001b[39m:\u001b[32m22\u001b[39m)\n  ammonite.$sess.cmd12$Helper.$anonfun$fibonacci_k$1(\u001b[32mcmd12.sc\u001b[39m:\u001b[32m24\u001b[39m)\n  ammonite.$sess.cmd12$Helper.fibonacci_k(\u001b[32mcmd12.sc\u001b[39m:\u001b[32m12\u001b[39m)\n  ammonite.$sess.cmd12$Helper.k1$1(\u001b[32mcmd12.sc\u001b[39m:\u001b[32m24\u001b[39m)\n  ammonite.$sess.cmd12$Helper.$anonfun$fibonacci_k$2(\u001b[32mcmd12.sc\u001b[39m:\u001b[32m27\u001b[39m)\n  ammonite.$sess.cmd12$Helper.k2$1(\u001b[32mcmd12.sc\u001b[39m:\u001b[32m22\u001b[39m)\n  ammonite.$sess.cmd12$Helper.$anonfun$fibonacci_k$1(\u001b[32mcmd12.sc\u001b[39m:\u001b[32m24\u001b[39m)\n  ammonite.$sess.cmd12$Helper.fibonacci_k(\u001b[32mcmd12.sc\u001b[39m:\u001b[32m12\u001b[39m)\n  ammonite.$sess.cmd12$Helper.k1$1(\u001b[32mcmd12.sc\u001b[39m:\u001b[32m24\u001b[39m)\n  ammonite.$sess.cmd12$Helper.$anonfun$fibonacci_k$2(\u001b[32mcmd12.sc\u001b[39m:\u001b[32m27\u001b[39m)\n  ammonite.$sess.cmd12$Helper.fibonacci_k(\u001b[32mcmd12.sc\u001b[39m:\u001b[32m12\u001b[39m)\n  ammonite.$sess.cmd12$Helper.k1$1(\u001b[32mcmd12.sc\u001b[39m:\u001b[32m24\u001b[39m)\n  ammonite.$sess.cmd12$Helper.$anonfun$fibonacci_k$2(\u001b[32mcmd12.sc\u001b[39m:\u001b[32m27\u001b[39m)\n  ammonite.$sess.cmd12$Helper.k2$1(\u001b[32mcmd12.sc\u001b[39m:\u001b[32m22\u001b[39m)\n  ammonite.$sess.cmd12$Helper.$anonfun$fibonacci_k$1(\u001b[32mcmd12.sc\u001b[39m:\u001b[32m24\u001b[39m)\n  ammonite.$sess.cmd12$Helper.k2$1(\u001b[32mcmd12.sc\u001b[39m:\u001b[32m22\u001b[39m)\n  ammonite.$sess.cmd12$Helper.$anonfun$fibonacci_k$1(\u001b[32mcmd12.sc\u001b[39m:\u001b[32m24\u001b[39m)\n  ammonite.$sess.cmd12$Helper.fibonacci_k(\u001b[32mcmd12.sc\u001b[39m:\u001b[32m12\u001b[39m)\n  ammonite.$sess.cmd12$Helper.k1$1(\u001b[32mcmd12.sc\u001b[39m:\u001b[32m24\u001b[39m)\n  ammonite.$sess.cmd12$Helper.$anonfun$fibonacci_k$2(\u001b[32mcmd12.sc\u001b[39m:\u001b[32m27\u001b[39m)\n  ammonite.$sess.cmd12$Helper.fibonacci_k(\u001b[32mcmd12.sc\u001b[39m:\u001b[32m12\u001b[39m)\n  ammonite.$sess.cmd12$Helper.k1$1(\u001b[32mcmd12.sc\u001b[39m:\u001b[32m24\u001b[39m)\n  ammonite.$sess.cmd12$Helper.$anonfun$fibonacci_k$2(\u001b[32mcmd12.sc\u001b[39m:\u001b[32m27\u001b[39m)\n  ammonite.$sess.cmd12$Helper.k2$1(\u001b[32mcmd12.sc\u001b[39m:\u001b[32m22\u001b[39m)\n  ammonite.$sess.cmd12$Helper.$anonfun$fibonacci_k$1(\u001b[32mcmd12.sc\u001b[39m:\u001b[32m24\u001b[39m)\n  ammonite.$sess.cmd12$Helper.fibonacci_k(\u001b[32mcmd12.sc\u001b[39m:\u001b[32m12\u001b[39m)\n  ammonite.$sess.cmd12$Helper.k1$1(\u001b[32mcmd12.sc\u001b[39m:\u001b[32m24\u001b[39m)\n  ammonite.$sess.cmd12$Helper.$anonfun$fibonacci_k$2(\u001b[32mcmd12.sc\u001b[39m:\u001b[32m27\u001b[39m)\n  ammonite.$sess.cmd12$Helper.k2$1(\u001b[32mcmd12.sc\u001b[39m:\u001b[32m22\u001b[39m)\n  ammonite.$sess.cmd12$Helper.$anonfun$fibonacci_k$1(\u001b[32mcmd12.sc\u001b[39m:\u001b[32m24\u001b[39m)\n  ammonite.$sess.cmd12$Helper.fibonacci_k(\u001b[32mcmd12.sc\u001b[39m:\u001b[32m12\u001b[39m)\n  ammonite.$sess.cmd12$Helper.k1$1(\u001b[32mcmd12.sc\u001b[39m:\u001b[32m24\u001b[39m)\n  ammonite.$sess.cmd12$Helper.$anonfun$fibonacci_k$2(\u001b[32mcmd12.sc\u001b[39m:\u001b[32m27\u001b[39m)\n  ammonite.$sess.cmd12$Helper.fibonacci_k(\u001b[32mcmd12.sc\u001b[39m:\u001b[32m12\u001b[39m)\n  ammonite.$sess.cmd12$Helper.k1$1(\u001b[32mcmd12.sc\u001b[39m:\u001b[32m24\u001b[39m)\n  ammonite.$sess.cmd12$Helper.$anonfun$fibonacci_k$2(\u001b[32mcmd12.sc\u001b[39m:\u001b[32m27\u001b[39m)\n  ammonite.$sess.cmd12$Helper.k2$1(\u001b[32mcmd12.sc\u001b[39m:\u001b[32m22\u001b[39m)\n  ammonite.$sess.cmd12$Helper.$anonfun$fibonacci_k$1(\u001b[32mcmd12.sc\u001b[39m:\u001b[32m24\u001b[39m)\n  ammonite.$sess.cmd12$Helper.k2$1(\u001b[32mcmd12.sc\u001b[39m:\u001b[32m22\u001b[39m)\n  ammonite.$sess.cmd12$Helper.$anonfun$fibonacci_k$1(\u001b[32mcmd12.sc\u001b[39m:\u001b[32m24\u001b[39m)\n  ammonite.$sess.cmd12$Helper.k2$1(\u001b[32mcmd12.sc\u001b[39m:\u001b[32m22\u001b[39m)\n  ammonite.$sess.cmd12$Helper.$anonfun$fibonacci_k$1(\u001b[32mcmd12.sc\u001b[39m:\u001b[32m24\u001b[39m)\n  ammonite.$sess.cmd12$Helper.fibonacci_k(\u001b[32mcmd12.sc\u001b[39m:\u001b[32m12\u001b[39m)\n  ammonite.$sess.cmd12$Helper.k1$1(\u001b[32mcmd12.sc\u001b[39m:\u001b[32m24\u001b[39m)\n  ammonite.$sess.cmd12$Helper.$anonfun$fibonacci_k$2(\u001b[32mcmd12.sc\u001b[39m:\u001b[32m27\u001b[39m)\n  ammonite.$sess.cmd12$Helper.fibonacci_k(\u001b[32mcmd12.sc\u001b[39m:\u001b[32m12\u001b[39m)\n  ammonite.$sess.cmd12$Helper.k1$1(\u001b[32mcmd12.sc\u001b[39m:\u001b[32m24\u001b[39m)\n  ammonite.$sess.cmd12$Helper.$anonfun$fibonacci_k$2(\u001b[32mcmd12.sc\u001b[39m:\u001b[32m27\u001b[39m)\n  ammonite.$sess.cmd12$Helper.k2$1(\u001b[32mcmd12.sc\u001b[39m:\u001b[32m22\u001b[39m)\n  ammonite.$sess.cmd12$Helper.$anonfun$fibonacci_k$1(\u001b[32mcmd12.sc\u001b[39m:\u001b[32m24\u001b[39m)\n  ammonite.$sess.cmd12$Helper.fibonacci_k(\u001b[32mcmd12.sc\u001b[39m:\u001b[32m12\u001b[39m)\n  ammonite.$sess.cmd12$Helper.k1$1(\u001b[32mcmd12.sc\u001b[39m:\u001b[32m24\u001b[39m)\n  ammonite.$sess.cmd12$Helper.$anonfun$fibonacci_k$2(\u001b[32mcmd12.sc\u001b[39m:\u001b[32m27\u001b[39m)\n  ammonite.$sess.cmd12$Helper.k2$1(\u001b[32mcmd12.sc\u001b[39m:\u001b[32m22\u001b[39m)\n  ammonite.$sess.cmd12$Helper.$anonfun$fibonacci_k$1(\u001b[32mcmd12.sc\u001b[39m:\u001b[32m24\u001b[39m)\n  ammonite.$sess.cmd12$Helper.fibonacci_k(\u001b[32mcmd12.sc\u001b[39m:\u001b[32m12\u001b[39m)\n  ammonite.$sess.cmd12$Helper.k1$1(\u001b[32mcmd12.sc\u001b[39m:\u001b[32m24\u001b[39m)\n  ammonite.$sess.cmd12$Helper.$anonfun$fibonacci_k$2(\u001b[32mcmd12.sc\u001b[39m:\u001b[32m27\u001b[39m)\n  ammonite.$sess.cmd12$Helper.fibonacci_k(\u001b[32mcmd12.sc\u001b[39m:\u001b[32m12\u001b[39m)\n  ammonite.$sess.cmd12$Helper.k1$1(\u001b[32mcmd12.sc\u001b[39m:\u001b[32m24\u001b[39m)\n  ammonite.$sess.cmd12$Helper.$anonfun$fibonacci_k$2(\u001b[32mcmd12.sc\u001b[39m:\u001b[32m27\u001b[39m)\n  ammonite.$sess.cmd12$Helper.k2$1(\u001b[32mcmd12.sc\u001b[39m:\u001b[32m22\u001b[39m)\n  ammonite.$sess.cmd12$Helper.$anonfun$fibonacci_k$1(\u001b[32mcmd12.sc\u001b[39m:\u001b[32m24\u001b[39m)\n  ammonite.$sess.cmd12$Helper.k2$1(\u001b[32mcmd12.sc\u001b[39m:\u001b[32m22\u001b[39m)\n  ammonite.$sess.cmd12$Helper.$anonfun$fibonacci_k$1(\u001b[32mcmd12.sc\u001b[39m:\u001b[32m24\u001b[39m)\n  ammonite.$sess.cmd12$Helper.fibonacci_k(\u001b[32mcmd12.sc\u001b[39m:\u001b[32m12\u001b[39m)\n  ammonite.$sess.cmd12$Helper.k1$1(\u001b[32mcmd12.sc\u001b[39m:\u001b[32m24\u001b[39m)\n  ammonite.$sess.cmd12$Helper.$anonfun$fibonacci_k$2(\u001b[32mcmd12.sc\u001b[39m:\u001b[32m27\u001b[39m)\n  ammonite.$sess.cmd12$Helper.k2$1(\u001b[32mcmd12.sc\u001b[39m:\u001b[32m22\u001b[39m)\n  ammonite.$sess.cmd12$Helper.$anonfun$fibonacci_k$1(\u001b[32mcmd12.sc\u001b[39m:\u001b[32m24\u001b[39m)\n  ammonite.$sess.cmd12$Helper.fibonacci_k(\u001b[32mcmd12.sc\u001b[39m:\u001b[32m12\u001b[39m)\n  ammonite.$sess.cmd12$Helper.k1$1(\u001b[32mcmd12.sc\u001b[39m:\u001b[32m24\u001b[39m)\n  ammonite.$sess.cmd12$Helper.$anonfun$fibonacci_k$2(\u001b[32mcmd12.sc\u001b[39m:\u001b[32m27\u001b[39m)\n  ammonite.$sess.cmd12$Helper.fibonacci_k(\u001b[32mcmd12.sc\u001b[39m:\u001b[32m12\u001b[39m)\n  ammonite.$sess.cmd12$Helper.k1$1(\u001b[32mcmd12.sc\u001b[39m:\u001b[32m24\u001b[39m)\n  ammonite.$sess.cmd12$Helper.$anonfun$fibonacci_k$2(\u001b[32mcmd12.sc\u001b[39m:\u001b[32m27\u001b[39m)\n  ammonite.$sess.cmd12$Helper.k2$1(\u001b[32mcmd12.sc\u001b[39m:\u001b[32m22\u001b[39m)\n  ammonite.$sess.cmd12$Helper.$anonfun$fibonacci_k$1(\u001b[32mcmd12.sc\u001b[39m:\u001b[32m24\u001b[39m)\n  ammonite.$sess.cmd12$Helper.k2$1(\u001b[32mcmd12.sc\u001b[39m:\u001b[32m22\u001b[39m)\n  ammonite.$sess.cmd12$Helper.$anonfun$fibonacci_k$1(\u001b[32mcmd12.sc\u001b[39m:\u001b[32m24\u001b[39m)\n  ammonite.$sess.cmd12$Helper.fibonacci_k(\u001b[32mcmd12.sc\u001b[39m:\u001b[32m12\u001b[39m)\n  ammonite.$sess.cmd12$Helper.k1$1(\u001b[32mcmd12.sc\u001b[39m:\u001b[32m24\u001b[39m)\n  ammonite.$sess.cmd12$Helper.$anonfun$fibonacci_k$2(\u001b[32mcmd12.sc\u001b[39m:\u001b[32m27\u001b[39m)\n  ammonite.$sess.cmd12$Helper.fibonacci_k(\u001b[32mcmd12.sc\u001b[39m:\u001b[32m12\u001b[39m)\n  ammonite.$sess.cmd12$Helper.k1$1(\u001b[32mcmd12.sc\u001b[39m:\u001b[32m24\u001b[39m)\n  ammonite.$sess.cmd12$Helper.$anonfun$fibonacci_k$2(\u001b[32mcmd12.sc\u001b[39m:\u001b[32m27\u001b[39m)\n  ammonite.$sess.cmd12$Helper.k2$1(\u001b[32mcmd12.sc\u001b[39m:\u001b[32m22\u001b[39m)\n  ammonite.$sess.cmd12$Helper.$anonfun$fibonacci_k$1(\u001b[32mcmd12.sc\u001b[39m:\u001b[32m24\u001b[39m)\n  ammonite.$sess.cmd12$Helper.fibonacci_k(\u001b[32mcmd12.sc\u001b[39m:\u001b[32m12\u001b[39m)\n  ammonite.$sess.cmd12$Helper.k1$1(\u001b[32mcmd12.sc\u001b[39m:\u001b[32m24\u001b[39m)\n  ammonite.$sess.cmd12$Helper.$anonfun$fibonacci_k$2(\u001b[32mcmd12.sc\u001b[39m:\u001b[32m27\u001b[39m)\n  ammonite.$sess.cmd12$Helper.k2$1(\u001b[32mcmd12.sc\u001b[39m:\u001b[32m22\u001b[39m)\n  ammonite.$sess.cmd12$Helper.$anonfun$fibonacci_k$1(\u001b[32mcmd12.sc\u001b[39m:\u001b[32m24\u001b[39m)\n  ammonite.$sess.cmd12$Helper.fibonacci_k(\u001b[32mcmd12.sc\u001b[39m:\u001b[32m12\u001b[39m)\n  ammonite.$sess.cmd12$Helper.k1$1(\u001b[32mcmd12.sc\u001b[39m:\u001b[32m24\u001b[39m)\n  ammonite.$sess.cmd12$Helper.$anonfun$fibonacci_k$2(\u001b[32mcmd12.sc\u001b[39m:\u001b[32m27\u001b[39m)\n  ammonite.$sess.cmd12$Helper.fibonacci_k(\u001b[32mcmd12.sc\u001b[39m:\u001b[32m12\u001b[39m)\n  ammonite.$sess.cmd12$Helper.k1$1(\u001b[32mcmd12.sc\u001b[39m:\u001b[32m24\u001b[39m)\n  ammonite.$sess.cmd12$Helper.$anonfun$fibonacci_k$2(\u001b[32mcmd12.sc\u001b[39m:\u001b[32m27\u001b[39m)\n  ammonite.$sess.cmd12$Helper.k2$1(\u001b[32mcmd12.sc\u001b[39m:\u001b[32m22\u001b[39m)\n  ammonite.$sess.cmd12$Helper.$anonfun$fibonacci_k$1(\u001b[32mcmd12.sc\u001b[39m:\u001b[32m24\u001b[39m)\n  ammonite.$sess.cmd12$Helper.k2$1(\u001b[32mcmd12.sc\u001b[39m:\u001b[32m22\u001b[39m)\n  ammonite.$sess.cmd12$Helper.$anonfun$fibonacci_k$1(\u001b[32mcmd12.sc\u001b[39m:\u001b[32m24\u001b[39m)\n  ammonite.$sess.cmd12$Helper.k2$1(\u001b[32mcmd12.sc\u001b[39m:\u001b[32m22\u001b[39m)\n  ammonite.$sess.cmd12$Helper.$anonfun$fibonacci_k$1(\u001b[32mcmd12.sc\u001b[39m:\u001b[32m24\u001b[39m)\n  ammonite.$sess.cmd12$Helper.k2$1(\u001b[32mcmd12.sc\u001b[39m:\u001b[32m22\u001b[39m)\n  ammonite.$sess.cmd12$Helper.$anonfun$fibonacci_k$1(\u001b[32mcmd12.sc\u001b[39m:\u001b[32m24\u001b[39m)\n  ammonite.$sess.cmd12$Helper.k2$1(\u001b[32mcmd12.sc\u001b[39m:\u001b[32m22\u001b[39m)\n  ammonite.$sess.cmd12$Helper.$anonfun$fibonacci_k$1(\u001b[32mcmd12.sc\u001b[39m:\u001b[32m24\u001b[39m)\n  ammonite.$sess.cmd12$Helper.fibonacci_k(\u001b[32mcmd12.sc\u001b[39m:\u001b[32m12\u001b[39m)\n  ammonite.$sess.cmd12$Helper.k1$1(\u001b[32mcmd12.sc\u001b[39m:\u001b[32m24\u001b[39m)\n  ammonite.$sess.cmd12$Helper.$anonfun$fibonacci_k$2(\u001b[32mcmd12.sc\u001b[39m:\u001b[32m27\u001b[39m)\n  ammonite.$sess.cmd12$Helper.k2$1(\u001b[32mcmd12.sc\u001b[39m:\u001b[32m22\u001b[39m)\n  ammonite.$sess.cmd12$Helper.$anonfun$fibonacci_k$1(\u001b[32mcmd12.sc\u001b[39m:\u001b[32m24\u001b[39m)\n  ammonite.$sess.cmd12$Helper.fibonacci_k(\u001b[32mcmd12.sc\u001b[39m:\u001b[32m12\u001b[39m)\n  ammonite.$sess.cmd12$Helper.k1$1(\u001b[32mcmd12.sc\u001b[39m:\u001b[32m24\u001b[39m)\n  ammonite.$sess.cmd12$Helper.$anonfun$fibonacci_k$2(\u001b[32mcmd12.sc\u001b[39m:\u001b[32m27\u001b[39m)\n  ammonite.$sess.cmd12$Helper.fibonacci_k(\u001b[32mcmd12.sc\u001b[39m:\u001b[32m12\u001b[39m)\n  ammonite.$sess.cmd12$Helper.k1$1(\u001b[32mcmd12.sc\u001b[39m:\u001b[32m24\u001b[39m)\n  ammonite.$sess.cmd12$Helper.$anonfun$fibonacci_k$2(\u001b[32mcmd12.sc\u001b[39m:\u001b[32m27\u001b[39m)\n  ammonite.$sess.cmd12$Helper.k2$1(\u001b[32mcmd12.sc\u001b[39m:\u001b[32m22\u001b[39m)\n  ammonite.$sess.cmd12$Helper.$anonfun$fibonacci_k$1(\u001b[32mcmd12.sc\u001b[39m:\u001b[32m24\u001b[39m)\n  ammonite.$sess.cmd12$Helper.k2$1(\u001b[32mcmd12.sc\u001b[39m:\u001b[32m22\u001b[39m)\n  ammonite.$sess.cmd12$Helper.$anonfun$fibonacci_k$1(\u001b[32mcmd12.sc\u001b[39m:\u001b[32m24\u001b[39m)\n  ammonite.$sess.cmd12$Helper.fibonacci_k(\u001b[32mcmd12.sc\u001b[39m:\u001b[32m12\u001b[39m)\n  ammonite.$sess.cmd12$Helper.k1$1(\u001b[32mcmd12.sc\u001b[39m:\u001b[32m24\u001b[39m)\n  ammonite.$sess.cmd12$Helper.$anonfun$fibonacci_k$2(\u001b[32mcmd12.sc\u001b[39m:\u001b[32m27\u001b[39m)\n  ammonite.$sess.cmd12$Helper.fibonacci_k(\u001b[32mcmd12.sc\u001b[39m:\u001b[32m12\u001b[39m)\n  ammonite.$sess.cmd12$Helper.k1$1(\u001b[32mcmd12.sc\u001b[39m:\u001b[32m24\u001b[39m)\n  ammonite.$sess.cmd12$Helper.$anonfun$fibonacci_k$2(\u001b[32mcmd12.sc\u001b[39m:\u001b[32m27\u001b[39m)\n  ammonite.$sess.cmd12$Helper.k2$1(\u001b[32mcmd12.sc\u001b[39m:\u001b[32m22\u001b[39m)\n  ammonite.$sess.cmd12$Helper.$anonfun$fibonacci_k$1(\u001b[32mcmd12.sc\u001b[39m:\u001b[32m24\u001b[39m)\n  ammonite.$sess.cmd12$Helper.fibonacci_k(\u001b[32mcmd12.sc\u001b[39m:\u001b[32m12\u001b[39m)\n  ammonite.$sess.cmd12$Helper.k1$1(\u001b[32mcmd12.sc\u001b[39m:\u001b[32m24\u001b[39m)\n  ammonite.$sess.cmd12$Helper.$anonfun$fibonacci_k$2(\u001b[32mcmd12.sc\u001b[39m:\u001b[32m27\u001b[39m)\n  ammonite.$sess.cmd12$Helper.k2$1(\u001b[32mcmd12.sc\u001b[39m:\u001b[32m22\u001b[39m)\n  ammonite.$sess.cmd12$Helper.$anonfun$fibonacci_k$1(\u001b[32mcmd12.sc\u001b[39m:\u001b[32m24\u001b[39m)\n  ammonite.$sess.cmd12$Helper.fibonacci_k(\u001b[32mcmd12.sc\u001b[39m:\u001b[32m12\u001b[39m)\n  ammonite.$sess.cmd12$Helper.k1$1(\u001b[32mcmd12.sc\u001b[39m:\u001b[32m24\u001b[39m)\n  ammonite.$sess.cmd12$Helper.$anonfun$fibonacci_k$2(\u001b[32mcmd12.sc\u001b[39m:\u001b[32m27\u001b[39m)\n  ammonite.$sess.cmd12$Helper.fibonacci_k(\u001b[32mcmd12.sc\u001b[39m:\u001b[32m12\u001b[39m)\n  ammonite.$sess.cmd12$Helper.k1$1(\u001b[32mcmd12.sc\u001b[39m:\u001b[32m24\u001b[39m)\n  ammonite.$sess.cmd12$Helper.$anonfun$fibonacci_k$2(\u001b[32mcmd12.sc\u001b[39m:\u001b[32m27\u001b[39m)\n  ammonite.$sess.cmd12$Helper.k2$1(\u001b[32mcmd12.sc\u001b[39m:\u001b[32m22\u001b[39m)\n  ammonite.$sess.cmd12$Helper.$anonfun$fibonacci_k$1(\u001b[32mcmd12.sc\u001b[39m:\u001b[32m24\u001b[39m)\n  ammonite.$sess.cmd12$Helper.k2$1(\u001b[32mcmd12.sc\u001b[39m:\u001b[32m22\u001b[39m)\n  ammonite.$sess.cmd12$Helper.$anonfun$fibonacci_k$1(\u001b[32mcmd12.sc\u001b[39m:\u001b[32m24\u001b[39m)\n  ammonite.$sess.cmd12$Helper.k2$1(\u001b[32mcmd12.sc\u001b[39m:\u001b[32m22\u001b[39m)\n  ammonite.$sess.cmd12$Helper.$anonfun$fibonacci_k$1(\u001b[32mcmd12.sc\u001b[39m:\u001b[32m24\u001b[39m)\n  ammonite.$sess.cmd12$Helper.fibonacci_k(\u001b[32mcmd12.sc\u001b[39m:\u001b[32m12\u001b[39m)\n  ammonite.$sess.cmd12$Helper.k1$1(\u001b[32mcmd12.sc\u001b[39m:\u001b[32m24\u001b[39m)\n  ammonite.$sess.cmd12$Helper.$anonfun$fibonacci_k$2(\u001b[32mcmd12.sc\u001b[39m:\u001b[32m27\u001b[39m)\n  ammonite.$sess.cmd12$Helper.fibonacci_k(\u001b[32mcmd12.sc\u001b[39m:\u001b[32m12\u001b[39m)\n  ammonite.$sess.cmd12$Helper.k1$1(\u001b[32mcmd12.sc\u001b[39m:\u001b[32m24\u001b[39m)\n  ammonite.$sess.cmd12$Helper.$anonfun$fibonacci_k$2(\u001b[32mcmd12.sc\u001b[39m:\u001b[32m27\u001b[39m)\n  ammonite.$sess.cmd12$Helper.k2$1(\u001b[32mcmd12.sc\u001b[39m:\u001b[32m22\u001b[39m)\n  ammonite.$sess.cmd12$Helper.$anonfun$fibonacci_k$1(\u001b[32mcmd12.sc\u001b[39m:\u001b[32m24\u001b[39m)\n  ammonite.$sess.cmd12$Helper.fibonacci_k(\u001b[32mcmd12.sc\u001b[39m:\u001b[32m12\u001b[39m)\n  ammonite.$sess.cmd12$Helper.k1$1(\u001b[32mcmd12.sc\u001b[39m:\u001b[32m24\u001b[39m)\n  ammonite.$sess.cmd12$Helper.$anonfun$fibonacci_k$2(\u001b[32mcmd12.sc\u001b[39m:\u001b[32m27\u001b[39m)\n  ammonite.$sess.cmd12$Helper.k2$1(\u001b[32mcmd12.sc\u001b[39m:\u001b[32m22\u001b[39m)\n  ammonite.$sess.cmd12$Helper.$anonfun$fibonacci_k$1(\u001b[32mcmd12.sc\u001b[39m:\u001b[32m24\u001b[39m)\n  ammonite.$sess.cmd12$Helper.fibonacci_k(\u001b[32mcmd12.sc\u001b[39m:\u001b[32m12\u001b[39m)\n  ammonite.$sess.cmd12$Helper.k1$1(\u001b[32mcmd12.sc\u001b[39m:\u001b[32m24\u001b[39m)\n  ammonite.$sess.cmd12$Helper.$anonfun$fibonacci_k$2(\u001b[32mcmd12.sc\u001b[39m:\u001b[32m27\u001b[39m)\n  ammonite.$sess.cmd12$Helper.fibonacci_k(\u001b[32mcmd12.sc\u001b[39m:\u001b[32m12\u001b[39m)\n  ammonite.$sess.cmd12$Helper.k1$1(\u001b[32mcmd12.sc\u001b[39m:\u001b[32m24\u001b[39m)\n  ammonite.$sess.cmd12$Helper.$anonfun$fibonacci_k$2(\u001b[32mcmd12.sc\u001b[39m:\u001b[32m27\u001b[39m)\n  ammonite.$sess.cmd12$Helper.k2$1(\u001b[32mcmd12.sc\u001b[39m:\u001b[32m22\u001b[39m)\n  ammonite.$sess.cmd12$Helper.$anonfun$fibonacci_k$1(\u001b[32mcmd12.sc\u001b[39m:\u001b[32m24\u001b[39m)\n  ammonite.$sess.cmd12$Helper.k2$1(\u001b[32mcmd12.sc\u001b[39m:\u001b[32m22\u001b[39m)\n  ammonite.$sess.cmd12$Helper.$anonfun$fibonacci_k$1(\u001b[32mcmd12.sc\u001b[39m:\u001b[32m24\u001b[39m)\n  ammonite.$sess.cmd12$Helper.fibonacci_k(\u001b[32mcmd12.sc\u001b[39m:\u001b[32m12\u001b[39m)\n  ammonite.$sess.cmd12$Helper.k1$1(\u001b[32mcmd12.sc\u001b[39m:\u001b[32m24\u001b[39m)\n  ammonite.$sess.cmd12$Helper.$anonfun$fibonacci_k$2(\u001b[32mcmd12.sc\u001b[39m:\u001b[32m27\u001b[39m)\n  ammonite.$sess.cmd12$Helper.k2$1(\u001b[32mcmd12.sc\u001b[39m:\u001b[32m22\u001b[39m)\n  ammonite.$sess.cmd12$Helper.$anonfun$fibonacci_k$1(\u001b[32mcmd12.sc\u001b[39m:\u001b[32m24\u001b[39m)\n  ammonite.$sess.cmd12$Helper.fibonacci_k(\u001b[32mcmd12.sc\u001b[39m:\u001b[32m12\u001b[39m)\n  ammonite.$sess.cmd12$Helper.k1$1(\u001b[32mcmd12.sc\u001b[39m:\u001b[32m24\u001b[39m)\n  ammonite.$sess.cmd12$Helper.$anonfun$fibonacci_k$2(\u001b[32mcmd12.sc\u001b[39m:\u001b[32m27\u001b[39m)\n  ammonite.$sess.cmd12$Helper.fibonacci_k(\u001b[32mcmd12.sc\u001b[39m:\u001b[32m12\u001b[39m)\n  ammonite.$sess.cmd12$Helper.k1$1(\u001b[32mcmd12.sc\u001b[39m:\u001b[32m24\u001b[39m)\n  ammonite.$sess.cmd12$Helper.$anonfun$fibonacci_k$2(\u001b[32mcmd12.sc\u001b[39m:\u001b[32m27\u001b[39m)\n  ammonite.$sess.cmd12$Helper.k2$1(\u001b[32mcmd12.sc\u001b[39m:\u001b[32m22\u001b[39m)\n  ammonite.$sess.cmd12$Helper.$anonfun$fibonacci_k$1(\u001b[32mcmd12.sc\u001b[39m:\u001b[32m24\u001b[39m)\n  ammonite.$sess.cmd12$Helper.k2$1(\u001b[32mcmd12.sc\u001b[39m:\u001b[32m22\u001b[39m)\n  ammonite.$sess.cmd12$Helper.$anonfun$fibonacci_k$1(\u001b[32mcmd12.sc\u001b[39m:\u001b[32m24\u001b[39m)\n  ammonite.$sess.cmd12$Helper.fibonacci_k(\u001b[32mcmd12.sc\u001b[39m:\u001b[32m12\u001b[39m)\n  ammonite.$sess.cmd12$Helper.k1$1(\u001b[32mcmd12.sc\u001b[39m:\u001b[32m24\u001b[39m)\n  ammonite.$sess.cmd12$Helper.$anonfun$fibonacci_k$2(\u001b[32mcmd12.sc\u001b[39m:\u001b[32m27\u001b[39m)\n  ammonite.$sess.cmd12$Helper.fibonacci_k(\u001b[32mcmd12.sc\u001b[39m:\u001b[32m12\u001b[39m)\n  ammonite.$sess.cmd12$Helper.k1$1(\u001b[32mcmd12.sc\u001b[39m:\u001b[32m24\u001b[39m)\n  ammonite.$sess.cmd12$Helper.$anonfun$fibonacci_k$2(\u001b[32mcmd12.sc\u001b[39m:\u001b[32m27\u001b[39m)\n  ammonite.$sess.cmd12$Helper.k2$1(\u001b[32mcmd12.sc\u001b[39m:\u001b[32m22\u001b[39m)\n  ammonite.$sess.cmd12$Helper.$anonfun$fibonacci_k$1(\u001b[32mcmd12.sc\u001b[39m:\u001b[32m24\u001b[39m)\n  ammonite.$sess.cmd12$Helper.fibonacci_k(\u001b[32mcmd12.sc\u001b[39m:\u001b[32m12\u001b[39m)\n  ammonite.$sess.cmd12$Helper.k1$1(\u001b[32mcmd12.sc\u001b[39m:\u001b[32m24\u001b[39m)\n  ammonite.$sess.cmd12$Helper.$anonfun$fibonacci_k$2(\u001b[32mcmd12.sc\u001b[39m:\u001b[32m27\u001b[39m)\n  ammonite.$sess.cmd12$Helper.k2$1(\u001b[32mcmd12.sc\u001b[39m:\u001b[32m22\u001b[39m)\n  ammonite.$sess.cmd12$Helper.$anonfun$fibonacci_k$1(\u001b[32mcmd12.sc\u001b[39m:\u001b[32m24\u001b[39m)\n  ammonite.$sess.cmd12$Helper.fibonacci_k(\u001b[32mcmd12.sc\u001b[39m:\u001b[32m12\u001b[39m)\n  ammonite.$sess.cmd12$Helper.k1$1(\u001b[32mcmd12.sc\u001b[39m:\u001b[32m24\u001b[39m)\n  ammonite.$sess.cmd12$Helper.$anonfun$fibonacci_k$2(\u001b[32mcmd12.sc\u001b[39m:\u001b[32m27\u001b[39m)\n  ammonite.$sess.cmd12$Helper.fibonacci_k(\u001b[32mcmd12.sc\u001b[39m:\u001b[32m12\u001b[39m)\n  ammonite.$sess.cmd12$Helper.k1$1(\u001b[32mcmd12.sc\u001b[39m:\u001b[32m24\u001b[39m)\n  ammonite.$sess.cmd12$Helper.$anonfun$fibonacci_k$2(\u001b[32mcmd12.sc\u001b[39m:\u001b[32m27\u001b[39m)\n  ammonite.$sess.cmd12$Helper.k2$1(\u001b[32mcmd12.sc\u001b[39m:\u001b[32m22\u001b[39m)\n  ammonite.$sess.cmd12$Helper.$anonfun$fibonacci_k$1(\u001b[32mcmd12.sc\u001b[39m:\u001b[32m24\u001b[39m)\n  ammonite.$sess.cmd12$Helper.k2$1(\u001b[32mcmd12.sc\u001b[39m:\u001b[32m22\u001b[39m)\n  ammonite.$sess.cmd12$Helper.$anonfun$fibonacci_k$1(\u001b[32mcmd12.sc\u001b[39m:\u001b[32m24\u001b[39m)\n  ammonite.$sess.cmd12$Helper.k2$1(\u001b[32mcmd12.sc\u001b[39m:\u001b[32m22\u001b[39m)\n  ammonite.$sess.cmd12$Helper.$anonfun$fibonacci_k$1(\u001b[32mcmd12.sc\u001b[39m:\u001b[32m24\u001b[39m)\n  ammonite.$sess.cmd12$Helper.k2$1(\u001b[32mcmd12.sc\u001b[39m:\u001b[32m22\u001b[39m)\n  ammonite.$sess.cmd12$Helper.$anonfun$fibonacci_k$1(\u001b[32mcmd12.sc\u001b[39m:\u001b[32m24\u001b[39m)\n  ammonite.$sess.cmd12$Helper.fibonacci_k(\u001b[32mcmd12.sc\u001b[39m:\u001b[32m12\u001b[39m)\n  ammonite.$sess.cmd12$Helper.k1$1(\u001b[32mcmd12.sc\u001b[39m:\u001b[32m24\u001b[39m)\n  ammonite.$sess.cmd12$Helper.$anonfun$fibonacci_k$2(\u001b[32mcmd12.sc\u001b[39m:\u001b[32m27\u001b[39m)\n  ammonite.$sess.cmd12$Helper.fibonacci_k(\u001b[32mcmd12.sc\u001b[39m:\u001b[32m12\u001b[39m)\n  ammonite.$sess.cmd12$Helper.k1$1(\u001b[32mcmd12.sc\u001b[39m:\u001b[32m24\u001b[39m)\n  ammonite.$sess.cmd12$Helper.$anonfun$fibonacci_k$2(\u001b[32mcmd12.sc\u001b[39m:\u001b[32m27\u001b[39m)\n  ammonite.$sess.cmd12$Helper.k2$1(\u001b[32mcmd12.sc\u001b[39m:\u001b[32m22\u001b[39m)\n  ammonite.$sess.cmd12$Helper.$anonfun$fibonacci_k$1(\u001b[32mcmd12.sc\u001b[39m:\u001b[32m24\u001b[39m)\n  ammonite.$sess.cmd12$Helper.fibonacci_k(\u001b[32mcmd12.sc\u001b[39m:\u001b[32m12\u001b[39m)\n  ammonite.$sess.cmd12$Helper.k1$1(\u001b[32mcmd12.sc\u001b[39m:\u001b[32m24\u001b[39m)\n  ammonite.$sess.cmd12$Helper.$anonfun$fibonacci_k$2(\u001b[32mcmd12.sc\u001b[39m:\u001b[32m27\u001b[39m)\n  ammonite.$sess.cmd12$Helper.k2$1(\u001b[32mcmd12.sc\u001b[39m:\u001b[32m22\u001b[39m)\n  ammonite.$sess.cmd12$Helper.$anonfun$fibonacci_k$1(\u001b[32mcmd12.sc\u001b[39m:\u001b[32m24\u001b[39m)\n  ammonite.$sess.cmd12$Helper.fibonacci_k(\u001b[32mcmd12.sc\u001b[39m:\u001b[32m12\u001b[39m)\n  ammonite.$sess.cmd12$Helper.k1$1(\u001b[32mcmd12.sc\u001b[39m:\u001b[32m24\u001b[39m)\n  ammonite.$sess.cmd12$Helper.$anonfun$fibonacci_k$2(\u001b[32mcmd12.sc\u001b[39m:\u001b[32m27\u001b[39m)\n  ammonite.$sess.cmd12$Helper.fibonacci_k(\u001b[32mcmd12.sc\u001b[39m:\u001b[32m12\u001b[39m)\n  ammonite.$sess.cmd12$Helper.k1$1(\u001b[32mcmd12.sc\u001b[39m:\u001b[32m24\u001b[39m)\n  ammonite.$sess.cmd12$Helper.$anonfun$fibonacci_k$2(\u001b[32mcmd12.sc\u001b[39m:\u001b[32m27\u001b[39m)\n  ammonite.$sess.cmd12$Helper.k2$1(\u001b[32mcmd12.sc\u001b[39m:\u001b[32m22\u001b[39m)\n  ammonite.$sess.cmd12$Helper.$anonfun$fibonacci_k$1(\u001b[32mcmd12.sc\u001b[39m:\u001b[32m24\u001b[39m)\n  ammonite.$sess.cmd12$Helper.k2$1(\u001b[32mcmd12.sc\u001b[39m:\u001b[32m22\u001b[39m)\n  ammonite.$sess.cmd12$Helper.$anonfun$fibonacci_k$1(\u001b[32mcmd12.sc\u001b[39m:\u001b[32m24\u001b[39m)\n  ammonite.$sess.cmd12$Helper.fibonacci_k(\u001b[32mcmd12.sc\u001b[39m:\u001b[32m12\u001b[39m)\n  ammonite.$sess.cmd12$Helper.k1$1(\u001b[32mcmd12.sc\u001b[39m:\u001b[32m24\u001b[39m)\n  ammonite.$sess.cmd12$Helper.$anonfun$fibonacci_k$2(\u001b[32mcmd12.sc\u001b[39m:\u001b[32m27\u001b[39m)\n  ammonite.$sess.cmd12$Helper.k2$1(\u001b[32mcmd12.sc\u001b[39m:\u001b[32m22\u001b[39m)\n  ammonite.$sess.cmd12$Helper.$anonfun$fibonacci_k$1(\u001b[32mcmd12.sc\u001b[39m:\u001b[32m24\u001b[39m)\n  ammonite.$sess.cmd12$Helper.fibonacci_k(\u001b[32mcmd12.sc\u001b[39m:\u001b[32m12\u001b[39m)\n  ammonite.$sess.cmd12$Helper.k1$1(\u001b[32mcmd12.sc\u001b[39m:\u001b[32m24\u001b[39m)\n  ammonite.$sess.cmd12$Helper.$anonfun$fibonacci_k$2(\u001b[32mcmd12.sc\u001b[39m:\u001b[32m27\u001b[39m)\n  ammonite.$sess.cmd12$Helper.fibonacci_k(\u001b[32mcmd12.sc\u001b[39m:\u001b[32m12\u001b[39m)\n  ammonite.$sess.cmd12$Helper.k1$1(\u001b[32mcmd12.sc\u001b[39m:\u001b[32m24\u001b[39m)\n  ammonite.$sess.cmd12$Helper.$anonfun$fibonacci_k$2(\u001b[32mcmd12.sc\u001b[39m:\u001b[32m27\u001b[39m)\n  ammonite.$sess.cmd12$Helper.k2$1(\u001b[32mcmd12.sc\u001b[39m:\u001b[32m22\u001b[39m)\n  ammonite.$sess.cmd12$Helper.$anonfun$fibonacci_k$1(\u001b[32mcmd12.sc\u001b[39m:\u001b[32m24\u001b[39m)\n  ammonite.$sess.cmd12$Helper.k2$1(\u001b[32mcmd12.sc\u001b[39m:\u001b[32m22\u001b[39m)\n  ammonite.$sess.cmd12$Helper.$anonfun$fibonacci_k$1(\u001b[32mcmd12.sc\u001b[39m:\u001b[32m24\u001b[39m)\n  ammonite.$sess.cmd12$Helper.fibonacci_k(\u001b[32mcmd12.sc\u001b[39m:\u001b[32m12\u001b[39m)\n  ammonite.$sess.cmd12$Helper.k1$1(\u001b[32mcmd12.sc\u001b[39m:\u001b[32m24\u001b[39m)\n  ammonite.$sess.cmd12$Helper.$anonfun$fibonacci_k$2(\u001b[32mcmd12.sc\u001b[39m:\u001b[32m27\u001b[39m)\n  ammonite.$sess.cmd12$Helper.fibonacci_k(\u001b[32mcmd12.sc\u001b[39m:\u001b[32m12\u001b[39m)\n  ammonite.$sess.cmd12$Helper.k1$1(\u001b[32mcmd12.sc\u001b[39m:\u001b[32m24\u001b[39m)\n  ammonite.$sess.cmd12$Helper.$anonfun$fibonacci_k$2(\u001b[32mcmd12.sc\u001b[39m:\u001b[32m27\u001b[39m)\n  ammonite.$sess.cmd12$Helper.k2$1(\u001b[32mcmd12.sc\u001b[39m:\u001b[32m22\u001b[39m)\n  ammonite.$sess.cmd12$Helper.$anonfun$fibonacci_k$1(\u001b[32mcmd12.sc\u001b[39m:\u001b[32m24\u001b[39m)\n  ammonite.$sess.cmd12$Helper.fibonacci_k(\u001b[32mcmd12.sc\u001b[39m:\u001b[32m12\u001b[39m)\n  ammonite.$sess.cmd12$Helper.k1$1(\u001b[32mcmd12.sc\u001b[39m:\u001b[32m24\u001b[39m)\n  ammonite.$sess.cmd12$Helper.$anonfun$fibonacci_k$2(\u001b[32mcmd12.sc\u001b[39m:\u001b[32m27\u001b[39m)\n  ammonite.$sess.cmd12$Helper.k2$1(\u001b[32mcmd12.sc\u001b[39m:\u001b[32m22\u001b[39m)\n  ammonite.$sess.cmd12$Helper.$anonfun$fibonacci_k$1(\u001b[32mcmd12.sc\u001b[39m:\u001b[32m24\u001b[39m)\n  ammonite.$sess.cmd12$Helper.fibonacci_k(\u001b[32mcmd12.sc\u001b[39m:\u001b[32m12\u001b[39m)\n  ammonite.$sess.cmd12$Helper.k1$1(\u001b[32mcmd12.sc\u001b[39m:\u001b[32m24\u001b[39m)\n  ammonite.$sess.cmd12$Helper.$anonfun$fibonacci_k$2(\u001b[32mcmd12.sc\u001b[39m:\u001b[32m27\u001b[39m)\n  ammonite.$sess.cmd12$Helper.fibonacci_k(\u001b[32mcmd12.sc\u001b[39m:\u001b[32m12\u001b[39m)\n  ammonite.$sess.cmd12$Helper.k1$1(\u001b[32mcmd12.sc\u001b[39m:\u001b[32m24\u001b[39m)\n  ammonite.$sess.cmd12$Helper.$anonfun$fibonacci_k$2(\u001b[32mcmd12.sc\u001b[39m:\u001b[32m27\u001b[39m)\n  ammonite.$sess.cmd12$Helper.k2$1(\u001b[32mcmd12.sc\u001b[39m:\u001b[32m22\u001b[39m)\n  ammonite.$sess.cmd12$Helper.$anonfun$fibonacci_k$1(\u001b[32mcmd12.sc\u001b[39m:\u001b[32m24\u001b[39m)\n  ammonite.$sess.cmd12$Helper.k2$1(\u001b[32mcmd12.sc\u001b[39m:\u001b[32m22\u001b[39m)\n  ammonite.$sess.cmd12$Helper.$anonfun$fibonacci_k$1(\u001b[32mcmd12.sc\u001b[39m:\u001b[32m24\u001b[39m)\n  ammonite.$sess.cmd12$Helper.k2$1(\u001b[32mcmd12.sc\u001b[39m:\u001b[32m22\u001b[39m)\n  ammonite.$sess.cmd12$Helper.$anonfun$fibonacci_k$1(\u001b[32mcmd12.sc\u001b[39m:\u001b[32m24\u001b[39m)\n  ammonite.$sess.cmd12$Helper.fibonacci_k(\u001b[32mcmd12.sc\u001b[39m:\u001b[32m12\u001b[39m)\n  ammonite.$sess.cmd12$Helper.k1$1(\u001b[32mcmd12.sc\u001b[39m:\u001b[32m24\u001b[39m)\n  ammonite.$sess.cmd12$Helper.$anonfun$fibonacci_k$2(\u001b[32mcmd12.sc\u001b[39m:\u001b[32m27\u001b[39m)\n  ammonite.$sess.cmd12$Helper.k2$1(\u001b[32mcmd12.sc\u001b[39m:\u001b[32m22\u001b[39m)\n  ammonite.$sess.cmd12$Helper.$anonfun$fibonacci_k$1(\u001b[32mcmd12.sc\u001b[39m:\u001b[32m24\u001b[39m)\n  ammonite.$sess.cmd12$Helper.fibonacci_k(\u001b[32mcmd12.sc\u001b[39m:\u001b[32m12\u001b[39m)\n  ammonite.$sess.cmd12$Helper.k1$1(\u001b[32mcmd12.sc\u001b[39m:\u001b[32m24\u001b[39m)\n  ammonite.$sess.cmd12$Helper.$anonfun$fibonacci_k$2(\u001b[32mcmd12.sc\u001b[39m:\u001b[32m27\u001b[39m)\n  ammonite.$sess.cmd12$Helper.fibonacci_k(\u001b[32mcmd12.sc\u001b[39m:\u001b[32m12\u001b[39m)\n  ammonite.$sess.cmd12$Helper.k1$1(\u001b[32mcmd12.sc\u001b[39m:\u001b[32m24\u001b[39m)\n  ammonite.$sess.cmd12$Helper.$anonfun$fibonacci_k$2(\u001b[32mcmd12.sc\u001b[39m:\u001b[32m27\u001b[39m)\n  ammonite.$sess.cmd12$Helper.k2$1(\u001b[32mcmd12.sc\u001b[39m:\u001b[32m22\u001b[39m)\n  ammonite.$sess.cmd12$Helper.$anonfun$fibonacci_k$1(\u001b[32mcmd12.sc\u001b[39m:\u001b[32m24\u001b[39m)\n  ammonite.$sess.cmd12$Helper.k2$1(\u001b[32mcmd12.sc\u001b[39m:\u001b[32m22\u001b[39m)\n  ammonite.$sess.cmd12$Helper.$anonfun$fibonacci_k$1(\u001b[32mcmd12.sc\u001b[39m:\u001b[32m24\u001b[39m)\n  ammonite.$sess.cmd12$Helper.fibonacci_k(\u001b[32mcmd12.sc\u001b[39m:\u001b[32m12\u001b[39m)\n  ammonite.$sess.cmd12$Helper.k1$1(\u001b[32mcmd12.sc\u001b[39m:\u001b[32m24\u001b[39m)\n  ammonite.$sess.cmd12$Helper.$anonfun$fibonacci_k$2(\u001b[32mcmd12.sc\u001b[39m:\u001b[32m27\u001b[39m)\n  ammonite.$sess.cmd12$Helper.fibonacci_k(\u001b[32mcmd12.sc\u001b[39m:\u001b[32m12\u001b[39m)\n  ammonite.$sess.cmd12$Helper.k1$1(\u001b[32mcmd12.sc\u001b[39m:\u001b[32m24\u001b[39m)\n  ammonite.$sess.cmd12$Helper.$anonfun$fibonacci_k$2(\u001b[32mcmd12.sc\u001b[39m:\u001b[32m27\u001b[39m)\n  ammonite.$sess.cmd12$Helper.k2$1(\u001b[32mcmd12.sc\u001b[39m:\u001b[32m22\u001b[39m)\n  ammonite.$sess.cmd12$Helper.$anonfun$fibonacci_k$1(\u001b[32mcmd12.sc\u001b[39m:\u001b[32m24\u001b[39m)\n  ammonite.$sess.cmd12$Helper.fibonacci_k(\u001b[32mcmd12.sc\u001b[39m:\u001b[32m12\u001b[39m)\n  ammonite.$sess.cmd12$Helper.k1$1(\u001b[32mcmd12.sc\u001b[39m:\u001b[32m24\u001b[39m)\n  ammonite.$sess.cmd12$Helper.$anonfun$fibonacci_k$2(\u001b[32mcmd12.sc\u001b[39m:\u001b[32m27\u001b[39m)\n  ammonite.$sess.cmd12$Helper.k2$1(\u001b[32mcmd12.sc\u001b[39m:\u001b[32m22\u001b[39m)\n  ammonite.$sess.cmd12$Helper.$anonfun$fibonacci_k$1(\u001b[32mcmd12.sc\u001b[39m:\u001b[32m24\u001b[39m)\n  ammonite.$sess.cmd12$Helper.fibonacci_k(\u001b[32mcmd12.sc\u001b[39m:\u001b[32m12\u001b[39m)\n  ammonite.$sess.cmd12$Helper.k1$1(\u001b[32mcmd12.sc\u001b[39m:\u001b[32m24\u001b[39m)\n  ammonite.$sess.cmd12$Helper.$anonfun$fibonacci_k$2(\u001b[32mcmd12.sc\u001b[39m:\u001b[32m27\u001b[39m)\n  ammonite.$sess.cmd12$Helper.fibonacci_k(\u001b[32mcmd12.sc\u001b[39m:\u001b[32m12\u001b[39m)\n  ammonite.$sess.cmd12$Helper.k1$1(\u001b[32mcmd12.sc\u001b[39m:\u001b[32m24\u001b[39m)\n  ammonite.$sess.cmd12$Helper.$anonfun$fibonacci_k$2(\u001b[32mcmd12.sc\u001b[39m:\u001b[32m27\u001b[39m)\n  ammonite.$sess.cmd12$Helper.k2$1(\u001b[32mcmd12.sc\u001b[39m:\u001b[32m22\u001b[39m)\n  ammonite.$sess.cmd12$Helper.$anonfun$fibonacci_k$1(\u001b[32mcmd12.sc\u001b[39m:\u001b[32m24\u001b[39m)\n  ammonite.$sess.cmd12$Helper.k2$1(\u001b[32mcmd12.sc\u001b[39m:\u001b[32m22\u001b[39m)\n  ammonite.$sess.cmd12$Helper.$anonfun$fibonacci_k$1(\u001b[32mcmd12.sc\u001b[39m:\u001b[32m24\u001b[39m)\n  ammonite.$sess.cmd12$Helper.k2$1(\u001b[32mcmd12.sc\u001b[39m:\u001b[32m22\u001b[39m)\n  ammonite.$sess.cmd12$Helper.$anonfun$fibonacci_k$1(\u001b[32mcmd12.sc\u001b[39m:\u001b[32m24\u001b[39m)\n  ammonite.$sess.cmd12$Helper.fibonacci_k(\u001b[32mcmd12.sc\u001b[39m:\u001b[32m12\u001b[39m)\n  ammonite.$sess.cmd12$Helper.k1$1(\u001b[32mcmd12.sc\u001b[39m:\u001b[32m24\u001b[39m)\n  ammonite.$sess.cmd12$Helper.$anonfun$fibonacci_k$2(\u001b[32mcmd12.sc\u001b[39m:\u001b[32m27\u001b[39m)"
     ]
    }
   ],
   "source": [
    "println(fibonacci_k(18, x => x))"
   ]
  },
  {
   "cell_type": "code",
   "execution_count": 15,
   "metadata": {},
   "outputs": [
    {
     "name": "stderr",
     "output_type": "stream",
     "text": [
      "cmd15.sc:10: could not optimize @tailrec annotated method fibonacci_k: it contains a recursive call not in tail position\n",
      "            v1 => fibonacci_k(n-2, {\n",
      "                             ^Compilation Failed"
     ]
    },
    {
     "ename": "",
     "evalue": "",
     "output_type": "error",
     "traceback": [
      "Compilation Failed"
     ]
    }
   ],
   "source": [
    "import scala.annotation.tailrec\n",
    "\n",
    "    \n",
    "@tailrec\n",
    "def fibonacci_k(n: Int, k: Int => Int): Int = {\n",
    "    if (n < 2) {\n",
    "        k(1)\n",
    "    } else {\n",
    "        fibonacci_k(n-1, {\n",
    "            v1 => fibonacci_k(n-2, {\n",
    "                v2 => k(v1+v2)\n",
    "            })\n",
    "        })\n",
    "    }\n",
    "}\n"
   ]
  },
  {
   "cell_type": "markdown",
   "metadata": {},
   "source": [
    "# Recipe for transforming to CPS passing style. \n",
    "    * Add continuation parameter to all routines. What should the type of the parameter be? same as output\n",
    "    * now transform each function in the CPS style. \n",
    "    \n",
    "## Case 1\n",
    "If the function we are converting has no other function calls, then there is not much to do. Just remember to call the continuation parameter k on the return value. "
   ]
  },
  {
   "cell_type": "code",
   "execution_count": 16,
   "metadata": {},
   "outputs": [
    {
     "data": {
      "text/plain": [
       "defined \u001b[32mfunction\u001b[39m \u001b[36msimple_fun\u001b[39m\n",
       "defined \u001b[32mfunction\u001b[39m \u001b[36msimple_fun_k\u001b[39m"
      ]
     },
     "execution_count": 16,
     "metadata": {},
     "output_type": "execute_result"
    }
   ],
   "source": [
    "def simple_fun(x: Int): Int = {\n",
    "    val y = x * x\n",
    "    val z = y + y - 5 * x \n",
    "    if (z <= 0){\n",
    "        1\n",
    "    }else{\n",
    "        z\n",
    "    }\n",
    "}\n",
    "\n",
    "def simple_fun_k(x: Int, k: Int => Int): Int = {\n",
    "    val y = x * x\n",
    "    val z = y + y - 5 * x\n",
    "    if (z <= 0){\n",
    "        k(1) // remember to call k on the return value\n",
    "    }\n",
    "    else{\n",
    "        k(z)  // remember to call k on the return value\n",
    "    }\n",
    "}"
   ]
  },
  {
   "cell_type": "markdown",
   "metadata": {},
   "source": [
    "## Case 2\n",
    "\n",
    "If the function we are converting has just one function call in each branch and it is a tail call, then again, we simply convert the tail calls into their CPS version and remember to pass the continuation parameter to them. "
   ]
  },
  {
   "cell_type": "code",
   "execution_count": 17,
   "metadata": {},
   "outputs": [
    {
     "data": {
      "text/plain": [
       "defined \u001b[32mfunction\u001b[39m \u001b[36mtail_call_fun\u001b[39m\n",
       "defined \u001b[32mfunction\u001b[39m \u001b[36mtail_call_fun_k\u001b[39m"
      ]
     },
     "execution_count": 17,
     "metadata": {},
     "output_type": "execute_result"
    }
   ],
   "source": [
    "def tail_call_fun(x: Int): Int = {\n",
    "    if ( x >= 0){\n",
    "        simple_fun(x+y)\n",
    "    }else{\n",
    "        val y = x * x - 2\n",
    "        simple_fun(y)\n",
    "    }\n",
    "}\n",
    "\n",
    "def tail_call_fun_k(x: Int, k: Int => Int): Int = {\n",
    "    if ( x >= 0){\n",
    "        simple_fun_k(x + 1, k) // conver to CPS version and remember and remember to pass my own continuation in \n",
    "    }else{\n",
    "        val y = x * x - 2\n",
    "        simple_fun_k(y, k) \n",
    "    }\n",
    "}"
   ]
  },
  {
   "cell_type": "markdown",
   "metadata": {},
   "source": [
    "## Case 3\n",
    "where we have to continue processing the data "
   ]
  },
  {
   "cell_type": "code",
   "execution_count": 23,
   "metadata": {},
   "outputs": [
    {
     "data": {
      "text/plain": [
       "defined \u001b[32mfunction\u001b[39m \u001b[36mfancy_function\u001b[39m"
      ]
     },
     "execution_count": 23,
     "metadata": {},
     "output_type": "execute_result"
    }
   ],
   "source": [
    "def fancy_function(x: Int, y: Int): Int = {\n",
    "    if (x == 0)\n",
    "        return 0\n",
    "    else if (x > 0) {\n",
    "        val s1 = 25\n",
    "        val y1 = x * y + x - y\n",
    "        s1 + y1\n",
    "    } else {\n",
    "        val y1 = tail_call_fun(x)\n",
    "        y1 + y - 2 * x\n",
    "    }\n",
    "    \n",
    "}"
   ]
  },
  {
   "cell_type": "code",
   "execution_count": 24,
   "metadata": {},
   "outputs": [
    {
     "data": {
      "text/plain": [
       "defined \u001b[32mfunction\u001b[39m \u001b[36mfancy_function_k\u001b[39m"
      ]
     },
     "execution_count": 24,
     "metadata": {},
     "output_type": "execute_result"
    }
   ],
   "source": [
    "def fancy_function_k(x: Int, y: Int, k: Int => Int): Int = {\n",
    "    if (x == 0)\n",
    "        return k(0)\n",
    "    else if (x > 0) {\n",
    "        val s1 = 25\n",
    "        val y1 = x * y + x - y\n",
    "        k(s1 + y1)\n",
    "    } else {\n",
    "        // Transform code after call \n",
    "        //  y1 + y - 2 * x\n",
    "        def k1(y1: Int): Int = {\n",
    "            k(y1 + y - 2 * x)\n",
    "        }\n",
    "        tail_call_fun_k(x,  k1)\n",
    "    }\n",
    "    \n",
    "}"
   ]
  },
  {
   "cell_type": "code",
   "execution_count": 25,
   "metadata": {},
   "outputs": [
    {
     "data": {
      "text/plain": [
       "defined \u001b[32mfunction\u001b[39m \u001b[36meven_more_fancy\u001b[39m\n",
       "defined \u001b[32mfunction\u001b[39m \u001b[36meven_more_fancy_k\u001b[39m"
      ]
     },
     "execution_count": 25,
     "metadata": {},
     "output_type": "execute_result"
    }
   ],
   "source": [
    "def even_more_fancy(x: Int): Int = {\n",
    "    val v1 = fancy_function(x, x - 2)\n",
    "    val v2 = fancy_function(x-2, x)\n",
    "    val v3 = tail_call_fun(v1)\n",
    "    val v4 = v1 + v2 + v3\n",
    "    fancy_function(v4, v3)\n",
    "}\n",
    "\n",
    "\n",
    "def even_more_fancy_k(x: Int, k: Int => Int): Int = {\n",
    "    def k1 (v1: Int) : Int = {\n",
    "        /* CPS TRANSFORM OF \n",
    "        val v2 = fancy_function(x-2, x)\n",
    "        val v3 = tail_call_fun(v1)\n",
    "        val v4 = v1 + v2 + v3\n",
    "        fancy_function(v4, v3)\n",
    "        */\n",
    "        def k2(v2: Int): Int = {\n",
    "            /* CPS TRANSFORM \n",
    "             val v3 = tail_call_fun(v1)\n",
    "             val v4 = v1 + v2 + v3\n",
    "            fancy_function(v4, v3)\n",
    "            */\n",
    "            def k3(v3: Int): Int = {\n",
    "                /*\n",
    "                 val v4 = v1 + v2 + v3\n",
    "                fancy_function(v4, v3)\n",
    "                */\n",
    "                val v4 = v1 + v2 + v3\n",
    "                k(fancy_function(v4, v3))\n",
    "            }\n",
    "            tail_call_fun_k(v1, k3)\n",
    "            \n",
    "        }\n",
    "        fancy_function_k(x-2, x, k2)\n",
    "    }\n",
    "    \n",
    "    fancy_function_k(x, x-2, k1)  \n",
    "}"
   ]
  },
  {
   "cell_type": "code",
   "execution_count": 26,
   "metadata": {},
   "outputs": [
    {
     "data": {
      "text/plain": [
       "\u001b[36mres25_0\u001b[39m: \u001b[32mInt\u001b[39m = \u001b[32m-1498352559\u001b[39m\n",
       "\u001b[36mres25_1\u001b[39m: \u001b[32mInt\u001b[39m = \u001b[32m1124682442\u001b[39m"
      ]
     },
     "execution_count": 26,
     "metadata": {},
     "output_type": "execute_result"
    }
   ],
   "source": [
    "even_more_fancy(15)\n",
    "even_more_fancy_k(15, x=>x)"
   ]
  },
  {
   "cell_type": "markdown",
   "metadata": {},
   "source": [
    "# Polymorphic Continuations\n",
    "\n",
    "Thus far, we have lived in the happy and lucky world where all functions had integer arguments and returned integers. Reality knocks (you down) and htus, we have contended with functions having a lot of possible return types. However, unfortunately, this means CPS transformation will have to chage return type of each function we are transforming. Also, this type is not known in advance. We will motivate the need to perform polymorphic continuations. \n",
    "\n",
    "Consider the following example"
   ]
  },
  {
   "cell_type": "code",
   "execution_count": 27,
   "metadata": {},
   "outputs": [
    {
     "data": {
      "text/plain": [
       "defined \u001b[32mfunction\u001b[39m \u001b[36mutilityFunction\u001b[39m\n",
       "defined \u001b[32mfunction\u001b[39m \u001b[36mcall1\u001b[39m\n",
       "defined \u001b[32mfunction\u001b[39m \u001b[36mcall2\u001b[39m\n",
       "defined \u001b[32mfunction\u001b[39m \u001b[36mmainFunction\u001b[39m"
      ]
     },
     "execution_count": 27,
     "metadata": {},
     "output_type": "execute_result"
    }
   ],
   "source": [
    "def utilityFunction(x: Int): Int = x + 2\n",
    "\n",
    "def call1(x: String): String = (utilityFunction(x.toInt)).toString\n",
    "\n",
    "def call2(x: Int): Float = utilityFunction(x).toFloat\n",
    "\n",
    "def mainFunction(x: Int):String = {\n",
    "    val v1 = call1(x.toString)\n",
    "    val v2 = call2(x)\n",
    "    v1 + v2.toString\n",
    "}"
   ]
  },
  {
   "cell_type": "code",
   "execution_count": 27,
   "metadata": {},
   "outputs": [
    {
     "name": "stderr",
     "output_type": "stream",
     "text": [
      "cmd27.sc:4: type mismatch;\n",
      " found   : String\n",
      " required: Int\n",
      "    utilityFunction_k(x .toInt, { v => k(v.toString)})\n",
      "                                        ^cmd27.sc:8: type mismatch;\n",
      " found   : Float\n",
      " required: Int\n",
      "    utilityFunction_k(x, {f => k(f.toFloat)})\n",
      "                                ^Compilation Failed"
     ]
    },
    {
     "ename": "",
     "evalue": "",
     "output_type": "error",
     "traceback": [
      "Compilation Failed"
     ]
    }
   ],
   "source": [
    "def utilityFunction_k(x: Int, k: Int => Int): Int = k(x + 2)\n",
    "\n",
    "def call1_k(x: String, k: String=> String): String = {\n",
    "    utilityFunction_k(x .toInt, { v => k(v.toString)})\n",
    "}\n",
    "\n",
    "def call2_k(x: Int, k: Float => Float): Float = {\n",
    "    utilityFunction_k(x, {f => k(f.toFloat)})\n",
    "}\n"
   ]
  },
  {
   "cell_type": "markdown",
   "metadata": {},
   "source": [
    "The reason is that utilityFunciton_k is being called from two different call sites. Ufortunately, the continuations at these return sites return two different types. Therefore, we have to allow utilityFunction_k to be more general "
   ]
  },
  {
   "cell_type": "code",
   "execution_count": 28,
   "metadata": {},
   "outputs": [
    {
     "data": {
      "text/plain": [
       "defined \u001b[32mfunction\u001b[39m \u001b[36mutilityFunction_k\u001b[39m\n",
       "defined \u001b[32mfunction\u001b[39m \u001b[36mcall1_k\u001b[39m\n",
       "defined \u001b[32mfunction\u001b[39m \u001b[36mcall2_k\u001b[39m\n",
       "defined \u001b[32mfunction\u001b[39m \u001b[36mmainFunction_k\u001b[39m\n",
       "\u001b[36mres27_4\u001b[39m: \u001b[32mString\u001b[39m = \u001b[32m\"2727.0\"\u001b[39m"
      ]
     },
     "execution_count": 28,
     "metadata": {},
     "output_type": "execute_result"
    }
   ],
   "source": [
    "def utilityFunction_k[T1](x: Int, k: Int => T1): T1 = k(x + 2)\n",
    "\n",
    "def call1_k[T2](x: String, k: String=> T2): T2 = {\n",
    "    utilityFunction_k[T2]( x.toInt, { v => k(v.toString)})\n",
    "}\n",
    "\n",
    "def call2_k[T3](x: Int, k: Float => T3): T3 = {\n",
    "    utilityFunction_k[T3](x, {f => k(f.toFloat)})\n",
    "}\n",
    "\n",
    "def mainFunction_k(x: Int, k:String => String):String = {\n",
    "    call1_k[String](x.toString, v1 => {\n",
    "      call2_k[String](x, v2 => {\n",
    "          k(v1 + v2.toString)\n",
    "      })  \n",
    "    })\n",
    "}\n",
    "\n",
    "mainFunction_k(25, x => x)\n"
   ]
  },
  {
   "cell_type": "markdown",
   "metadata": {},
   "source": [
    "In general, it is always a good idea to build a CPS transformation assuming that the continuation can have any return type"
   ]
  },
  {
   "cell_type": "markdown",
   "metadata": {},
   "source": [
    "# Trampolines\n",
    "\n",
    "Trampolines go hand in hand with continuation passing style of writing programs. Let us quickly review the basic facts about CPS. \n",
    "\n",
    "    * we add an extra continuatoin arugment to every function call in the program \n",
    "    * we transform the program so that ll functoin calls happen at the tail position. \n",
    "    * Finally, we HOPE that the compiler / interpreter in all its goodness will optimatize the tail call away. \n",
    "    \n",
    "\n",
    "## Fibonacci\n",
    "We already saw the CPS version of Fibonacci"
   ]
  },
  {
   "cell_type": "code",
   "execution_count": 29,
   "metadata": {},
   "outputs": [
    {
     "data": {
      "text/plain": [
       "defined \u001b[32mfunction\u001b[39m \u001b[36mfibonacci_k\u001b[39m"
      ]
     },
     "execution_count": 29,
     "metadata": {},
     "output_type": "execute_result"
    }
   ],
   "source": [
    "def fibonacci_k[T] (n: Int, k: Int => T): T = {\n",
    "    if (n < 2)\n",
    "        k(1)\n",
    "    else \n",
    "        fibonacci_k(n-1, v1 => fibonacci_k(n-2, v2 => {k(v1 + v2)} ))\n",
    "}"
   ]
  },
  {
   "cell_type": "code",
   "execution_count": 30,
   "metadata": {},
   "outputs": [
    {
     "name": "stdout",
     "output_type": "stream",
     "text": [
      "89987"
     ]
    }
   ],
   "source": [
    "fibonacci_k(10,print)\n",
    "fibonacci_k(15,print)"
   ]
  },
  {
   "cell_type": "code",
   "execution_count": null,
   "metadata": {
    "collapsed": true
   },
   "outputs": [],
   "source": []
  }
 ],
 "metadata": {
  "kernelspec": {
   "display_name": "Scala",
   "language": "scala",
   "name": "scala"
  },
  "language_info": {
   "codemirror_mode": "text/x-scala",
   "file_extension": ".scala",
   "mimetype": "text/x-scala",
   "name": "scala",
   "nbconvert_exporter": "script",
   "version": "2.12.10"
  }
 },
 "nbformat": 4,
 "nbformat_minor": 2
}
