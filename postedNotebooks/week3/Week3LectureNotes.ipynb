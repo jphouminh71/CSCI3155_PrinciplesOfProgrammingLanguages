{
 "cells": [
  {
   "cell_type": "markdown",
   "metadata": {},
   "source": [
    "Nonterminal : List\n",
    "\n",
    "List => nil\n",
    "List => Cons(Number, List) \n",
    "Number => ... scala integers ..."
   ]
  },
  {
   "cell_type": "code",
   "execution_count": 15,
   "metadata": {},
   "outputs": [
    {
     "data": {
      "text/plain": [
       "defined \u001b[32mtrait\u001b[39m \u001b[36mList\u001b[39m\n",
       "defined \u001b[32mobject\u001b[39m \u001b[36mnil\u001b[39m\n",
       "defined \u001b[32mclass\u001b[39m \u001b[36mCons\u001b[39m\n",
       "\u001b[36mres14_3\u001b[39m: \u001b[32mCons\u001b[39m = \u001b[33mCons\u001b[39m(\u001b[32m1\u001b[39m, \u001b[33mCons\u001b[39m(\u001b[32m2\u001b[39m, \u001b[33mCons\u001b[39m(\u001b[32m3\u001b[39m, nil)))"
      ]
     },
     "execution_count": 15,
     "metadata": {},
     "output_type": "execute_result"
    }
   ],
   "source": [
    "sealed trait List\n",
    "\n",
    "case object nil extends List\n",
    "case class Cons(n: Int, lst: List) extends List\n",
    "\n",
    "// creating a list containg 1,2,3 \n",
    "\n",
    "Cons(1,Cons(2,Cons(3,nil)))\n"
   ]
  },
  {
   "cell_type": "markdown",
   "metadata": {},
   "source": [
    " ## Given the type of list above, can you calculate the length of the list\n",
    " \n",
    "\n",
    "    - Write a function inside of the class list\n",
    "        when you define a function in the sealed trait, you must define\n",
    "        them in the overloaded methods "
   ]
  },
  {
   "cell_type": "code",
   "execution_count": 2,
   "metadata": {},
   "outputs": [
    {
     "data": {
      "text/plain": [
       "defined \u001b[32mtrait\u001b[39m \u001b[36mList\u001b[39m\n",
       "defined \u001b[32mobject\u001b[39m \u001b[36mnil\u001b[39m\n",
       "defined \u001b[32mclass\u001b[39m \u001b[36mCons\u001b[39m\n",
       "\u001b[36mv1\u001b[39m: \u001b[32mCons\u001b[39m = \u001b[33mCons\u001b[39m(\u001b[32m1\u001b[39m, \u001b[33mCons\u001b[39m(\u001b[32m2\u001b[39m, \u001b[33mCons\u001b[39m(\u001b[32m3\u001b[39m, nil)))\n",
       "\u001b[36mn1\u001b[39m: \u001b[32mInt\u001b[39m = \u001b[32m3\u001b[39m"
      ]
     },
     "execution_count": 2,
     "metadata": {},
     "output_type": "execute_result"
    }
   ],
   "source": [
    "sealed trait List{\n",
    "    def length: Int  // defined the length function, no arguments, returns int\n",
    "}\n",
    "\n",
    "case object nil extends List{\n",
    "    def length(): Int = {0}\n",
    "}\n",
    "case class Cons(i: Int, l: List) extends List{\n",
    "    def length(): Int = {\n",
    "        // this is a recurisve definition\n",
    "        1 + l.length\n",
    "    }\n",
    "}\n",
    "\n",
    "val v1 = Cons(1,Cons(2,Cons(3,nil)))\n",
    "val n1 = v1.length"
   ]
  },
  {
   "cell_type": "markdown",
   "metadata": {},
   "source": [
    "we can now think about other functions that we can implement \n",
    "\n",
    "### define the function isEmpty , takes nothing and returns boolean"
   ]
  },
  {
   "cell_type": "code",
   "execution_count": 3,
   "metadata": {},
   "outputs": [
    {
     "data": {
      "text/plain": [
       "defined \u001b[32mtrait\u001b[39m \u001b[36mList\u001b[39m\n",
       "defined \u001b[32mobject\u001b[39m \u001b[36mnil\u001b[39m\n",
       "defined \u001b[32mclass\u001b[39m \u001b[36mCons\u001b[39m\n",
       "\u001b[36mv1\u001b[39m: \u001b[32mCons\u001b[39m = \u001b[33mCons\u001b[39m(\u001b[32m1\u001b[39m, \u001b[33mCons\u001b[39m(\u001b[32m2\u001b[39m, \u001b[33mCons\u001b[39m(\u001b[32m3\u001b[39m, nil)))\n",
       "\u001b[36mv2\u001b[39m: \u001b[32mNil\u001b[39m.type = \u001b[33mList\u001b[39m()\n",
       "\u001b[36mn1\u001b[39m: \u001b[32mInt\u001b[39m = \u001b[32m3\u001b[39m\n",
       "\u001b[36mn3\u001b[39m: \u001b[32mBoolean\u001b[39m = true\n",
       "\u001b[36mn2\u001b[39m: \u001b[32mBoolean\u001b[39m = false"
      ]
     },
     "execution_count": 3,
     "metadata": {},
     "output_type": "execute_result"
    }
   ],
   "source": [
    "sealed trait List{\n",
    "    def length: Int  // defined the length function, no arguments, returns int\n",
    "    def isEmpty: Boolean \n",
    "}\n",
    "\n",
    "case object nil extends List{\n",
    "    def length(): Int = {0}\n",
    "    def isEmpty(): Boolean = true \n",
    "}\n",
    "case class Cons(i: Int, l: List) extends List{\n",
    "    def length(): Int = {\n",
    "        // this is a recurisve definition\n",
    "        1 + l.length\n",
    "    }\n",
    "    \n",
    "    def isEmpty(): Boolean = {\n",
    "        false  // if you are in this pattern case then you automatically know its not empty\n",
    "        /* this is the naive answer \n",
    "        if (l.length == 0){\n",
    "            true\n",
    "        }\n",
    "        else{\n",
    "            false\n",
    "        }\n",
    "        */\n",
    "    }\n",
    "}\n",
    "\n",
    "val v1 = Cons(1,Cons(2,Cons(3,nil)))\n",
    "val v2 = Nil\n",
    "val n1 = v1.length\n",
    "\n",
    "val n3 = v2.isEmpty\n",
    "val n2 = v1.isEmpty"
   ]
  },
  {
   "cell_type": "markdown",
   "metadata": {},
   "source": [
    "## defining if a list is in ascending order\n",
    "\n",
    "    -  this will require a helper function because when you are\n",
    "    looking at an instance of cons you only have access to the \n",
    "    current i and then the rest of cons(...)"
   ]
  },
  {
   "cell_type": "code",
   "execution_count": 4,
   "metadata": {},
   "outputs": [
    {
     "name": "stdout",
     "output_type": "stream",
     "text": [
      "(1,<< current i)\n",
      "(8,<< current j)\n",
      "(8,<< current i)\n",
      "(3,<< current j)\n"
     ]
    },
    {
     "data": {
      "text/plain": [
       "defined \u001b[32mtrait\u001b[39m \u001b[36mList\u001b[39m\n",
       "defined \u001b[32mobject\u001b[39m \u001b[36mnil\u001b[39m\n",
       "defined \u001b[32mclass\u001b[39m \u001b[36mCons\u001b[39m\n",
       "\u001b[36mv1\u001b[39m: \u001b[32mCons\u001b[39m = \u001b[33mCons\u001b[39m(\u001b[32m1\u001b[39m, \u001b[33mCons\u001b[39m(\u001b[32m8\u001b[39m, \u001b[33mCons\u001b[39m(\u001b[32m3\u001b[39m, nil)))\n",
       "\u001b[36mv2\u001b[39m: \u001b[32mBoolean\u001b[39m = false"
      ]
     },
     "execution_count": 4,
     "metadata": {},
     "output_type": "execute_result"
    }
   ],
   "source": [
    "sealed trait List{\n",
    "    def length: Int  // defined the length function, no arguments, returns int\n",
    "    def isEmpty: Boolean \n",
    "    def retrieveFirstElement: Int\n",
    "    def isAscendingOrder: Boolean\n",
    "}\n",
    "\n",
    "case object nil extends List{\n",
    "    def length(): Int = {0}\n",
    "    def isEmpty(): Boolean = true \n",
    "    def retrieveFirstElement(): Int = { assert(false); return 0}\n",
    "    def isAscendingOrder(): Boolean =  true\n",
    "}\n",
    "case class Cons(i: Int, l: List) extends List{\n",
    "    def length(): Int = {\n",
    "        // this is a recurisve definition\n",
    "        1 + l.length\n",
    "    }\n",
    "    def isEmpty(): Boolean = {\n",
    "        false  // if you are in this pattern case then you automatically know its not empty\n",
    "    }\n",
    "    def retrieveFirstElement(): Int = {\n",
    "        i // this returns the current i in the instance of cons(i,cons..)\n",
    "    }\n",
    "    def isAscendingOrder(): Boolean = {\n",
    "        // right now all you have access to is current i \n",
    "        // and the current cons(...) remaining \n",
    "        // if the stuff beyond me is empty then return true \n",
    "        if (l.isEmpty){\n",
    "            true\n",
    "            }\n",
    "        else{\n",
    "            val j = l.retrieveFirstElement\n",
    "            println(i, \"<< current i\")\n",
    "            println(j, \"<< current j\")\n",
    "            if ( i <= j){\n",
    "                return l.isAscendingOrder\n",
    "            }else{\n",
    "                return false\n",
    "            }\n",
    "            \n",
    "        }\n",
    "    }\n",
    "    \n",
    "    \n",
    "}\n",
    "\n",
    "val v1 = Cons(1,Cons(8,Cons(3,nil)))\n",
    "val v2 = v1.isAscendingOrder"
   ]
  },
  {
   "cell_type": "markdown",
   "metadata": {},
   "source": [
    "## redefining all the above in a clearner manner\n",
    "## using case matching"
   ]
  },
  {
   "cell_type": "code",
   "execution_count": 5,
   "metadata": {},
   "outputs": [
    {
     "data": {
      "text/plain": [
       "defined \u001b[32mtrait\u001b[39m \u001b[36mList\u001b[39m\n",
       "defined \u001b[32mobject\u001b[39m \u001b[36mNil\u001b[39m\n",
       "defined \u001b[32mclass\u001b[39m \u001b[36mCons\u001b[39m"
      ]
     },
     "execution_count": 5,
     "metadata": {},
     "output_type": "execute_result"
    }
   ],
   "source": [
    "sealed trait List \n",
    "case object Nil extends List\n",
    "case class Cons(i: Int, l:List) extends List"
   ]
  },
  {
   "cell_type": "code",
   "execution_count": 6,
   "metadata": {},
   "outputs": [
    {
     "data": {
      "text/plain": [
       "defined \u001b[32mobject\u001b[39m \u001b[36mListUtils\u001b[39m\n",
       "\u001b[36mv1\u001b[39m: \u001b[32mCons\u001b[39m = \u001b[33mCons\u001b[39m(\u001b[32m1\u001b[39m, \u001b[33mCons\u001b[39m(\u001b[32m8\u001b[39m, \u001b[33mCons\u001b[39m(\u001b[32m3\u001b[39m, Nil)))\n",
       "\u001b[36mtools\u001b[39m: \u001b[32mListUtils\u001b[39m.type = ammonite.$sess.cmd5$Helper$ListUtils$@4b1d3659\n",
       "\u001b[36mv2\u001b[39m: \u001b[32mInt\u001b[39m = \u001b[32m3\u001b[39m"
      ]
     },
     "execution_count": 6,
     "metadata": {},
     "output_type": "execute_result"
    }
   ],
   "source": [
    "object ListUtils {\n",
    "    def lengthOfList(l: List): Int = l match {\n",
    "        // case pattern matching if the list is empty \n",
    "        case Nil => 0\n",
    "        case Cons(_,l1) => {1 + lengthOfList(l1) }\n",
    "    }\n",
    "}\n",
    "\n",
    "val v1 = Cons(1,Cons(8,Cons(3,Nil)))\n",
    "val tools = ListUtils\n",
    "val v2 = tools.lengthOfList(v1)"
   ]
  },
  {
   "cell_type": "code",
   "execution_count": 7,
   "metadata": {},
   "outputs": [
    {
     "data": {
      "text/plain": [
       "defined \u001b[32mfunction\u001b[39m \u001b[36mlistHasAtLeastTwoElements\u001b[39m\n",
       "\u001b[36mv1\u001b[39m: \u001b[32mCons\u001b[39m = \u001b[33mCons\u001b[39m(\u001b[32m1\u001b[39m, \u001b[33mCons\u001b[39m(\u001b[32m8\u001b[39m, \u001b[33mCons\u001b[39m(\u001b[32m3\u001b[39m, Nil)))\n",
       "\u001b[36mv2\u001b[39m: \u001b[32mBoolean\u001b[39m = true"
      ]
     },
     "execution_count": 7,
     "metadata": {},
     "output_type": "execute_result"
    }
   ],
   "source": [
    "// going to implement this without using the length function \n",
    "// so we are going to utilize case pattern matching \n",
    "def listHasAtLeastTwoElements(l: List): Boolean = l match {\n",
    "    case Nil => false\n",
    "    case  Cons(_,Nil) => false\n",
    "    case Cons(_, Cons(_,_)) => true\n",
    "    //case _ => true \n",
    "}\n",
    "\n",
    "val v1 = Cons(1,Cons(8,Cons(3,Nil)))\n",
    "val v2 = listHasAtLeastTwoElements(v1)"
   ]
  },
  {
   "cell_type": "markdown",
   "metadata": {},
   "source": [
    "## if you dont want to reallocate memory use tail@ to name paramaeters\n"
   ]
  },
  {
   "cell_type": "code",
   "execution_count": 8,
   "metadata": {},
   "outputs": [
    {
     "data": {
      "text/plain": [
       "defined \u001b[32mfunction\u001b[39m \u001b[36misAscendingOrderOfList\u001b[39m"
      ]
     },
     "execution_count": 8,
     "metadata": {},
     "output_type": "execute_result"
    }
   ],
   "source": [
    "def isAscendingOrderOfList(l: List): Boolean = l match{\n",
    "    case Nil => true\n",
    "    case Cons(_,Nil) => true\n",
    "    case Cons(i1,tail@ Cons(i2,remainingJunk)) => {\n",
    "        if (i1 > i2){\n",
    "            false\n",
    "        }\n",
    "        else{\n",
    "            // continue along with the rest of the list\n",
    "            //val tail = Cons(i2,remainingJunk) \n",
    "            isAscendingOrderOfList(tail)\n",
    "        }\n",
    "    }\n",
    "    case _ => {throw new IllegalArgumentException(\"How dare you!\")}\n",
    "}"
   ]
  },
  {
   "cell_type": "code",
   "execution_count": 9,
   "metadata": {},
   "outputs": [
    {
     "data": {
      "text/plain": [
       "\u001b[36mres8\u001b[39m: \u001b[32mBoolean\u001b[39m = false"
      ]
     },
     "execution_count": 9,
     "metadata": {},
     "output_type": "execute_result"
    }
   ],
   "source": [
    "isAscendingOrderOfList(v1)"
   ]
  },
  {
   "cell_type": "code",
   "execution_count": 10,
   "metadata": {},
   "outputs": [
    {
     "data": {
      "text/plain": [
       "\u001b[36mv2\u001b[39m: \u001b[32mBoolean\u001b[39m = true"
      ]
     },
     "execution_count": 10,
     "metadata": {},
     "output_type": "execute_result"
    }
   ],
   "source": [
    "val v2 = isAscendingOrderOfList(Cons(5,Nil))"
   ]
  },
  {
   "cell_type": "markdown",
   "metadata": {},
   "source": [
    "## making that code even cleaner"
   ]
  },
  {
   "cell_type": "code",
   "execution_count": 14,
   "metadata": {},
   "outputs": [
    {
     "data": {
      "text/plain": [
       "defined \u001b[32mfunction\u001b[39m \u001b[36misAscendingOrderOfList\u001b[39m"
      ]
     },
     "execution_count": 14,
     "metadata": {},
     "output_type": "execute_result"
    }
   ],
   "source": [
    "def isAscendingOrderOfList(l: List): Boolean = l match{\n",
    "    case Nil => true\n",
    "    case Cons(_,Nil) => true\n",
    "    case Cons(i1,Cons(i2,remainingJunk)) if (i1 > i2) => false\n",
    "    case Cons(i1,lst) => isAscendingOrderOfList(lst)\n",
    "}"
   ]
  },
  {
   "cell_type": "markdown",
   "metadata": {},
   "source": [
    "# Abstract Syntax\n",
    "- how programming languages are parsed in when sent to the computer\n",
    "\n",
    "Differences between python and c++\n",
    "    - python is interpretted, c++ is compiled \n",
    "    this means the python has a means of taking the code and is able to put it into a language that it can understand\n",
    "     This internal representation starts the process by building an abstract syntax tree. \n",
    "     \n",
    "     Parser - reading in human inputs that can a computer can read\n",
    "     \n",
    "Concrete syntax: Syntax that a HUMAN writes \n",
    "    \n",
    "    parsing.. parsing .. parsing\n",
    "\n",
    "Abstract syntax: syntax that the the computers can understand \n",
    "\n",
    "# we are going to build abstract syntax for an arithmetic expression language\n",
    "- a language for just writing an arithmetic language, starting from the abstract syntax\n",
    "\n",
    "- Abstract syntax is just a grammar and we will write the inductive data types in that grammar in scala\n",
    "\n",
    "\n",
    "we will now write the expression grammar, take an arithmetic expression that someone writes\n",
    "    ex concrete syntax:    (z + 2) - y * z + w \n",
    "    \n",
    "    GRAMMAR:\n",
    "        Expr => Plus(Expr,Expr)\n",
    "              | Minus(Expr,Expr)\n",
    "              | Star(Expr,Expr)\n",
    "              | Slash(Expr,Expr)\n",
    "              | Const(Double) \n",
    "              | Var(string)\n",
    "              \n",
    "              \n",
    "All this code is going to do is read the data in and put it on a data structure, we are not going to do anything with. Defining all the legal executions you can write\n",
    "\n",
    "\n",
    "\n",
    "=======\n",
    "Example\n",
    "-------\n",
    "\n",
    "    x + 5   =>  Plus(var(\"x\"),Const(5))\n",
    "\n",
    "    x + y * z  =>  Plus(var(\"x\"),Star(var(\"y\"),var(\"z\")))\n",
    "    \n",
    "    (x + y) * z => Star(Plus(var(\"x\"),var(\"y\")), var(\"z\"))"
   ]
  },
  {
   "cell_type": "code",
   "execution_count": 1,
   "metadata": {},
   "outputs": [
    {
     "data": {
      "text/plain": [
       "defined \u001b[32mtrait\u001b[39m \u001b[36mExpr\u001b[39m\n",
       "defined \u001b[32mclass\u001b[39m \u001b[36mPlus\u001b[39m\n",
       "defined \u001b[32mclass\u001b[39m \u001b[36mMinus\u001b[39m\n",
       "defined \u001b[32mclass\u001b[39m \u001b[36mStar\u001b[39m\n",
       "defined \u001b[32mclass\u001b[39m \u001b[36mDivide\u001b[39m\n",
       "defined \u001b[32mclass\u001b[39m \u001b[36mConst\u001b[39m\n",
       "defined \u001b[32mclass\u001b[39m \u001b[36mVar\u001b[39m"
      ]
     },
     "execution_count": 1,
     "metadata": {},
     "output_type": "execute_result"
    }
   ],
   "source": [
    "sealed trait Expr\n",
    "case class Plus(e1:Expr, e2:Expr) extends Expr\n",
    "case class Minus(e1: Expr, e2: Expr) extends Expr\n",
    "case class Star(e1: Expr, e2: Expr) extends Expr\n",
    "case class Divide(e1: Expr, e2: Expr) extends Expr\n",
    "case class Const(d :Double) extends Expr\n",
    "case class Var(s: String) extends Expr"
   ]
  },
  {
   "cell_type": "code",
   "execution_count": 13,
   "metadata": {},
   "outputs": [
    {
     "data": {
      "text/plain": [
       "\u001b[36mv1\u001b[39m: \u001b[32mStar\u001b[39m = \u001b[33mStar\u001b[39m(\u001b[33mPlus\u001b[39m(\u001b[33mVar\u001b[39m(\u001b[32m\"x\"\u001b[39m), \u001b[33mVar\u001b[39m(\u001b[32m\"y\"\u001b[39m)), \u001b[33mVar\u001b[39m(\u001b[32m\"z\"\u001b[39m))"
      ]
     },
     "execution_count": 13,
     "metadata": {},
     "output_type": "execute_result"
    }
   ],
   "source": [
    "val v1 = Star(Plus(Var(\"x\"),Var(\"y\")),Var(\"z\"))"
   ]
  },
  {
   "cell_type": "markdown",
   "metadata": {},
   "source": [
    "can we write a function that can collect all the variables? yeah, we are going to use case pattern matching to collect all the variables"
   ]
  },
  {
   "cell_type": "code",
   "execution_count": 3,
   "metadata": {},
   "outputs": [
    {
     "data": {
      "text/plain": [
       "defined \u001b[32mfunction\u001b[39m \u001b[36mcollectVarBinaryOp\u001b[39m\n",
       "defined \u001b[32mfunction\u001b[39m \u001b[36mcollectAllVars\u001b[39m\n",
       "\u001b[36mv\u001b[39m: \u001b[32mStar\u001b[39m = \u001b[33mStar\u001b[39m(\u001b[33mPlus\u001b[39m(\u001b[33mVar\u001b[39m(\u001b[32m\"x\"\u001b[39m), \u001b[33mVar\u001b[39m(\u001b[32m\"y\"\u001b[39m)), \u001b[33mVar\u001b[39m(\u001b[32m\"z\"\u001b[39m))\n",
       "\u001b[36mv1\u001b[39m: \u001b[32mList\u001b[39m[\u001b[32mString\u001b[39m] = \u001b[33mList\u001b[39m(\u001b[32m\"x\"\u001b[39m, \u001b[32m\"y\"\u001b[39m, \u001b[32m\"z\"\u001b[39m)"
      ]
     },
     "execution_count": 3,
     "metadata": {},
     "output_type": "execute_result"
    }
   ],
   "source": [
    "/*\n",
    "// function will take in an expression and return all Var's in a List.\n",
    "def collectAllVars(e: Expr): List[String] = e match {\n",
    "    // recursively collect from both e1 and e2 then return the list\n",
    "    case Plus(e1, e2) => {\n",
    "        val l1 = collectAllVars(e1); \n",
    "        val l2 = collectAllVars(e2); \n",
    "        l1++l2\n",
    "    }\n",
    "    case Minus(e1, e2) => {\n",
    "        val l1 = collectAllVars(e1); \n",
    "        val l2 = collectAllVars(e2); \n",
    "        l1++l2\n",
    "    }\n",
    "    case Star(e1, e2) => {\n",
    "        val l1 = collectAllVars(e1); \n",
    "        val l2 = collectAllVars(e2); \n",
    "        l1++l2\n",
    "    }\n",
    "    case Divide(e1, e2) => {\n",
    "        val l1 = collectAllVars(e1); \n",
    "        val l2 = collectAllVars(e2); \n",
    "        l1++l2\n",
    "    }\n",
    "    case Const(d) => List()\n",
    "    case Var(s) => {\n",
    "        List(s)\n",
    "    }\n",
    "    case _ => List(\"none\")\n",
    "}\n",
    "*/\n",
    "def collectVarBinaryOp(e1: Expr, e2: Expr): List[String] = {\n",
    "        val l1 = collectAllVars(e1); \n",
    "        val l2 = collectAllVars(e2); \n",
    "        l1++l2\n",
    "}\n",
    "\n",
    "\n",
    "def collectAllVars( e: Expr): List[String] = e match {\n",
    "    case Plus(e1,e2) => collectVarBinaryOp(e1,e2)\n",
    "    case Minus(e1,e2) => collectVarBinaryOp(e1,e2)\n",
    "    case Divide(e1,e2) => collectVarBinaryOp(e1,e2)\n",
    "    case Star(e1,e2) => collectVarBinaryOp(e1,e2)\n",
    "    case Const(e1) => List[String]()\n",
    "    case Var(s) => List[String](s)\n",
    "    case _ => throw new IllegalArgumentException(\"You hit a case that I have not handled.\")\n",
    "    \n",
    "}\n",
    "\n",
    "val v = Star(Plus(Var(\"x\"),Var(\"y\")),Var(\"z\"))\n",
    "val v1 = collectAllVars(v)\n",
    "\n",
    "\n",
    "// if you get a list error, just dont run the first few cells because\n",
    "// you redefined what a list is "
   ]
  },
  {
   "cell_type": "markdown",
   "metadata": {},
   "source": [
    "# Now we are going to write an interpretter!!!\n",
    "\n",
    "We will first write out our eval function \n",
    "    - eval functions are supposed to take in an expression and return a \n",
    "    double \n",
    "    \n",
    "    - this function must have two arguments, it must have the Expr and some way to have values for \"x, y, z\"\n",
    "        this is called the environment\n",
    "       - essentially a map that takes a string and returns a double"
   ]
  },
  {
   "cell_type": "code",
   "execution_count": 7,
   "metadata": {},
   "outputs": [
    {
     "data": {
      "text/plain": [
       "defined \u001b[32mfunction\u001b[39m \u001b[36mevalBinaryOp\u001b[39m\n",
       "defined \u001b[32mfunction\u001b[39m \u001b[36meval\u001b[39m\n",
       "\u001b[36mv\u001b[39m: \u001b[32mStar\u001b[39m = \u001b[33mStar\u001b[39m(\u001b[33mPlus\u001b[39m(\u001b[33mVar\u001b[39m(\u001b[32m\"x\"\u001b[39m), \u001b[33mVar\u001b[39m(\u001b[32m\"y\"\u001b[39m)), \u001b[33mVar\u001b[39m(\u001b[32m\"z\"\u001b[39m))\n",
       "\u001b[36mres6_3\u001b[39m: \u001b[32mDouble\u001b[39m = \u001b[32m14.0\u001b[39m"
      ]
     },
     "execution_count": 7,
     "metadata": {},
     "output_type": "execute_result"
    }
   ],
   "source": [
    "def evalBinaryOp(e1: Expr, e2:Expr, environment: Map[String,Double] ,fun:(Double , Double) => Double) = {\n",
    "    val f1 = eval(e1,environment)\n",
    "    val f2 = eval(e2, environment)\n",
    "    fun(f1,f2)\n",
    "}\n",
    "\n",
    "// this is called writing a visitor \n",
    "// the invironment is what give you the \"1\" + \"2\" to an actual 1 + 2\n",
    "def eval(e:Expr, environment: Map[String, Double]): Double = e match{\n",
    "    case Plus(e1,e2) => {\n",
    "         evalBinaryOp(e1,e2, environment, (_ + _ ))\n",
    "    }\n",
    "    case Minus(e1,e2) => {\n",
    "         evalBinaryOp(e1,e2, environment, (_ - _ ))\n",
    "    }\n",
    "    case Star(e1,e2) => {\n",
    "         evalBinaryOp(e1,e2, environment, (_ * _ ))\n",
    "    }\n",
    "    case Divide(e1,e2) => {\n",
    "         evalBinaryOp(e1,e2, environment, (_ / _ ))\n",
    "    }\n",
    "    case Const(d) => {\n",
    "        d\n",
    "    }\n",
    "    case Var(x) => {\n",
    "        if (environment contains x){\n",
    "            environment(x)\n",
    "        }else{\n",
    "            throw new IllegalArgumentException(\"How dare you ask me to evaluate an expression without defining the variable.\")\n",
    "        }\n",
    "        \n",
    "    }\n",
    "    \n",
    "}\n",
    "\n",
    "val v = Star(Plus(Var(\"x\"),Var(\"y\")),Var(\"z\"))\n",
    "eval(v, Map(\"x\" -> 4, \"y\" -> 3, \"z\" -> 2))"
   ]
  },
  {
   "cell_type": "markdown",
   "metadata": {},
   "source": [
    "# -----------------------------"
   ]
  },
  {
   "cell_type": "markdown",
   "metadata": {},
   "source": [
    "# Everything after this is from his posted notebook\n"
   ]
  },
  {
   "cell_type": "markdown",
   "metadata": {},
   "source": [
    "# ----------------------------"
   ]
  },
  {
   "cell_type": "markdown",
   "metadata": {},
   "source": [
    "# Operations on Inductively Defined Structures\n",
    "\n",
    "Previously we looked at inudctive definitons starting with numbers, lits, binary trees, arithmetic expressions and simple interpretive language. However, beyond defining the, we didn't look at much else\n",
    "\n",
    "This lecture will explore the variety of oeprations on inductively defineid structures we have defined so far. \n",
    "\n",
    "We will examine two mechanisms for deifning these operations: - using the 'visitor' pattern\n",
    "\n",
    "    - implement the operation as a member function as we will see \n",
    "    - using pattern matching; this is a special feautre of functional languages like scala, lisp, caml, and haskell. You can also find the same libraries in python. \n",
    "    \n",
    "    The first option is generally applicable in most langages. The second otpion is very special and very powerful. We will focus extensively on the second option of pattern matching, while mentioning what a 'visitor' pattern is. \n",
    "    \n",
    "    \n",
    "## Operation on Numbers\n",
    "Recall the grammar for the inductively defining numbers\n",
    "\n",
    "     NatNum => Z | Succ(NatNum) "
   ]
  },
  {
   "cell_type": "code",
   "execution_count": 8,
   "metadata": {},
   "outputs": [
    {
     "data": {
      "text/plain": [
       "defined \u001b[32mtrait\u001b[39m \u001b[36mNatNum\u001b[39m\n",
       "defined \u001b[32mobject\u001b[39m \u001b[36mZ\u001b[39m\n",
       "defined \u001b[32mclass\u001b[39m \u001b[36mSucc\u001b[39m"
      ]
     },
     "execution_count": 8,
     "metadata": {},
     "output_type": "execute_result"
    }
   ],
   "source": [
    "sealed trait NatNum \n",
    "case object Z extends NatNum \n",
    "case class Succ(n: NatNum) extends NatNum "
   ]
  },
  {
   "cell_type": "markdown",
   "metadata": {},
   "source": [
    "The simplest function we can image is to add one to a given NaturalNumber. This is easy to implement because this is exactly what Succ does"
   ]
  },
  {
   "cell_type": "code",
   "execution_count": 10,
   "metadata": {},
   "outputs": [
    {
     "data": {
      "text/plain": [
       "defined \u001b[32mfunction\u001b[39m \u001b[36maddOne\u001b[39m\n",
       "defined \u001b[32mfunction\u001b[39m \u001b[36mtwo\u001b[39m\n",
       "defined \u001b[32mfunction\u001b[39m \u001b[36mthree\u001b[39m"
      ]
     },
     "execution_count": 10,
     "metadata": {},
     "output_type": "execute_result"
    }
   ],
   "source": [
    "def addOne(n: NatNum) = Succ(n)\n",
    "def two = Succ(Succ(Z))\n",
    "def three = addOne(two)"
   ]
  },
  {
   "cell_type": "markdown",
   "metadata": {},
   "source": [
    "Now we can write a function minusOne that given a number subtracts one from it. Before we do so, we have to understand how to handle the zero case. We could raise an error/exception saying that it is undefined. This is the best way to do it sincei it the most honest\n",
    "\n",
    "Heres how it will be implemented minusOne(s) = if s is of the form Succ(t) then return t , else s must be Z and return error\n",
    "\n",
    "To do this we will need a construct that chekcs if a given input NaturalNumber is of the form Succ(t) and extracts the inner stuff t, but how? \n",
    "\n",
    "There are two solutions to this. First is to redefine things to have the minus one function implemented inside of each lcass. This solves the problem using the way object oriented programming works. "
   ]
  },
  {
   "cell_type": "code",
   "execution_count": 11,
   "metadata": {},
   "outputs": [
    {
     "data": {
      "text/plain": [
       "defined \u001b[32mtrait\u001b[39m \u001b[36mNatNum\u001b[39m\n",
       "defined \u001b[32mobject\u001b[39m \u001b[36mZ\u001b[39m\n",
       "defined \u001b[32mclass\u001b[39m \u001b[36mSucc\u001b[39m"
      ]
     },
     "execution_count": 11,
     "metadata": {},
     "output_type": "execute_result"
    }
   ],
   "source": [
    "sealed trait NatNum {\n",
    "    def minusOne(): NatNum\n",
    "}\n",
    "case object Z extends NatNum {\n",
    "    def minusOne(): NatNum = {\n",
    "        throw (new IllegalArgumentException(\"minusOne cannot be called on Zero\"))\n",
    "    }\n",
    "}\n",
    "case class Succ(n: NatNum) extends NatNum{\n",
    "    def minusOne(): NatNum = {\n",
    "        this.n \n",
    "    }\n",
    "}"
   ]
  },
  {
   "cell_type": "markdown",
   "metadata": {},
   "source": [
    "NatNum is the base case class (the constructor looking thing in the sealed trait method). What this means that any class that inherits from it must have all the members that are defined in it. We define a member minusOne() corresponding to the function we wish to implement. Thereore, when we acll the minusOne() function on an instance on NatNum, the instance can either be 'zero' or 'succ' class. In either case, the object system in scala ensure that the right function gets called. Thisi isan indirect but effective way of finding out the question if the given NatNum is of the form 'zero' or 'Succ'"
   ]
  },
  {
   "cell_type": "code",
   "execution_count": 13,
   "metadata": {},
   "outputs": [
    {
     "data": {
      "text/plain": [
       "\u001b[36mt1\u001b[39m: \u001b[32mZ\u001b[39m = Z\n",
       "\u001b[36mt2\u001b[39m: \u001b[32mSucc\u001b[39m = \u001b[33mSucc\u001b[39m(\u001b[33mSucc\u001b[39m(Z))\n",
       "\u001b[36mt3\u001b[39m: \u001b[32mNatNum\u001b[39m = \u001b[33mSucc\u001b[39m(Z)"
      ]
     },
     "execution_count": 13,
     "metadata": {},
     "output_type": "execute_result"
    }
   ],
   "source": [
    "val t1 = Z\n",
    "val t2 = Succ(Succ(t1))\n",
    "val t3 = t2.minusOne()"
   ]
  },
  {
   "cell_type": "markdown",
   "metadata": {},
   "source": [
    "Looking at the code above from a higher level. You have t2 = Succ(Succ(Succ(t1))) so in your head its equal to 3 but the machine just sees t2 as just Succ(whatever else is in here) \n",
    "\n",
    "so when you return this.n you are actually giving it (whatever else is in here) \n",
    "\n",
    "so when you say val t2 = succ(this stuff) its litterally equal to only val t2 = succ(...) <= the inside stuff doesn't matter t2 IS LITTERALLY JUST SUCC(), its just applying the class \n",
    "\n",
    "\n",
    "The second way to do it is using the idea of pattern matching: a very powerful feature that is avaialble in some functional programming languages including scala. Here is how it works. \n",
    "\n",
    "\n",
    "An instance object of type NatNum can be of the two forms Succ(t) or zero. Scala provides a construct similar to the case switch statement in C like languages, but much more powerful. "
   ]
  },
  {
   "cell_type": "code",
   "execution_count": 14,
   "metadata": {},
   "outputs": [
    {
     "data": {
      "text/plain": [
       "defined \u001b[32mfunction\u001b[39m \u001b[36maddNatNums\u001b[39m"
      ]
     },
     "execution_count": 14,
     "metadata": {},
     "output_type": "execute_result"
    }
   ],
   "source": [
    "def addNatNumsHelper(n1: NatNum, n2: NatNum): NatNum ={\n",
    "    n1 match {\n",
    "        case Z => n2 \n",
    "        case Succ(t) => addNatNums(t, Succ(n2))\n",
    "    }\n",
    "}"
   ]
  },
  {
   "cell_type": "code",
   "execution_count": 16,
   "metadata": {},
   "outputs": [
    {
     "data": {
      "text/plain": [
       "\u001b[36mtwo\u001b[39m: \u001b[32mSucc\u001b[39m = \u001b[33mSucc\u001b[39m(\u001b[33mSucc\u001b[39m(Z))\n",
       "\u001b[36mone\u001b[39m: \u001b[32mSucc\u001b[39m = \u001b[33mSucc\u001b[39m(Z)\n",
       "\u001b[36mthree\u001b[39m: \u001b[32mNatNum\u001b[39m = \u001b[33mSucc\u001b[39m(\u001b[33mSucc\u001b[39m(\u001b[33mSucc\u001b[39m(Z)))"
      ]
     },
     "execution_count": 16,
     "metadata": {},
     "output_type": "execute_result"
    }
   ],
   "source": [
    "val two = Succ(Succ(Z))\n",
    "val one = Succ(Z)\n",
    "val three = addNatNums(two,one)"
   ]
  },
  {
   "cell_type": "markdown",
   "metadata": {},
   "source": [
    "for curiosity, how would we implement it using the \"visitor\" pattern? Let usnow redefine NatNum1 to requrie a new member function addNatNums. You can see how istead of pattern matching we can simply write code for the zero case inside of the object Z and the code for the successor case insdie object Succ. The idea is the same as before but two cases get split into two different member functions of Z and Succ, respectively."
   ]
  },
  {
   "cell_type": "code",
   "execution_count": 21,
   "metadata": {},
   "outputs": [
    {
     "data": {
      "text/plain": [
       "defined \u001b[32mtrait\u001b[39m \u001b[36mNatNum1\u001b[39m\n",
       "defined \u001b[32mobject\u001b[39m \u001b[36mZ1\u001b[39m\n",
       "defined \u001b[32mclass\u001b[39m \u001b[36mSucc1\u001b[39m"
      ]
     },
     "execution_count": 21,
     "metadata": {},
     "output_type": "execute_result"
    }
   ],
   "source": [
    "sealed trait NatNum1 {\n",
    "    def minusOne(): NatNum1 \n",
    "    def addNatNums(n1: NatNum1): NatNum1\n",
    "}\n",
    "\n",
    "case object Z1 extends NatNum1{\n",
    "    def minusOne(): NatNum1 = {\n",
    "        throw (new IllegalArgumentException(\"minusOne cannot be called on Zero\"))\n",
    "    }\n",
    "    \n",
    "    def addNatNums(n1:NatNum1): NatNum1 = n1 \n",
    "}\n",
    "\n",
    "case class Succ1(n: NatNum1) extends NatNum1 {\n",
    "    def minusOne(): NatNum1 = {\n",
    "        this.n\n",
    "    }\n",
    "    def addNatNums(n1: NatNum1): NatNum1 = this.n.addNatNums(Succ1(n1))\n",
    "}"
   ]
  },
  {
   "cell_type": "code",
   "execution_count": 22,
   "metadata": {},
   "outputs": [
    {
     "data": {
      "text/plain": [
       "\u001b[36mtwo\u001b[39m: \u001b[32mSucc1\u001b[39m = \u001b[33mSucc1\u001b[39m(\u001b[33mSucc1\u001b[39m(Z1))\n",
       "\u001b[36mthree\u001b[39m: \u001b[32mSucc1\u001b[39m = \u001b[33mSucc1\u001b[39m(\u001b[33mSucc1\u001b[39m(\u001b[33mSucc1\u001b[39m(Z1)))\n",
       "\u001b[36mfive\u001b[39m: \u001b[32mNatNum1\u001b[39m = \u001b[33mSucc1\u001b[39m(\u001b[33mSucc1\u001b[39m(\u001b[33mSucc1\u001b[39m(\u001b[33mSucc1\u001b[39m(\u001b[33mSucc1\u001b[39m(Z1)))))\n",
       "\u001b[36mten\u001b[39m: \u001b[32mNatNum1\u001b[39m = \u001b[33mSucc1\u001b[39m(\n",
       "  \u001b[33mSucc1\u001b[39m(\u001b[33mSucc1\u001b[39m(\u001b[33mSucc1\u001b[39m(\u001b[33mSucc1\u001b[39m(\u001b[33mSucc1\u001b[39m(\u001b[33mSucc1\u001b[39m(\u001b[33mSucc1\u001b[39m(\u001b[33mSucc1\u001b[39m(\u001b[33mSucc1\u001b[39m(Z1)))))))))\n",
       ")"
      ]
     },
     "execution_count": 22,
     "metadata": {},
     "output_type": "execute_result"
    }
   ],
   "source": [
    "val two = Succ1(Succ1(Z1))\n",
    "val three = Succ1(two)\n",
    "val five = two.addNatNums(three)\n",
    "val ten = five.addNatNums(five)"
   ]
  },
  {
   "cell_type": "code",
   "execution_count": null,
   "metadata": {
    "collapsed": true
   },
   "outputs": [],
   "source": []
  }
 ],
 "metadata": {
  "kernelspec": {
   "display_name": "Scala",
   "language": "scala",
   "name": "scala"
  },
  "language_info": {
   "codemirror_mode": "text/x-scala",
   "file_extension": ".scala",
   "mimetype": "text/x-scala",
   "name": "scala",
   "nbconvert_exporter": "script",
   "version": "2.12.10"
  }
 },
 "nbformat": 4,
 "nbformat_minor": 2
}
