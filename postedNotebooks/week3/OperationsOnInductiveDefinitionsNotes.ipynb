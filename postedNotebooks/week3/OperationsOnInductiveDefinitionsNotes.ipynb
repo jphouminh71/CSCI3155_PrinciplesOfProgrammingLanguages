{
 "cells": [
  {
   "cell_type": "markdown",
   "metadata": {},
   "source": [
    "# Operations on Inductively Defined Structures\n",
    "\n",
    "\n",
    "Previously we looked at inductive definitions starting with numbers, lists, binary trees, artihmetic expressions and simple interpretive language. However , beyond defining them, we didn't look at much else. \n",
    "\n",
    "This lecture will explore the variety of operations on inductively defined defined structures we have defined so far. \n",
    "\n",
    "We will examine two mechanisms for defining these operations: \n",
    "    -Using a 'visitor' patter\n",
    "        - implement the operation as member function as we will see \n",
    "        \n",
    "    - Using pattern matching; this is a special feature of functional languages like scala, lisp, caml, and haskell. You can also find these libraries in python. \n",
    "    \n",
    "    \n",
    "The first option is generally applicable to most languages. The second option is very special and very powerful. We will focus extensively on the second option of pattern matching, while mentioning what a 'visitor' pattern is. "
   ]
  },
  {
   "cell_type": "markdown",
   "metadata": {},
   "source": [
    "## Operations on Numbers\n",
    "\n",
    "Recall the grammar for the inductively defining numbers \n",
    "\n",
    "    NatNum => Z | Succ(NatNum) "
   ]
  },
  {
   "cell_type": "code",
   "execution_count": 30,
   "metadata": {},
   "outputs": [
    {
     "data": {
      "text/plain": [
       "defined \u001b[32mtrait\u001b[39m \u001b[36mNatNum\u001b[39m\n",
       "defined \u001b[32mobject\u001b[39m \u001b[36mZ\u001b[39m\n",
       "defined \u001b[32mclass\u001b[39m \u001b[36mSucc\u001b[39m"
      ]
     },
     "execution_count": 30,
     "metadata": {},
     "output_type": "execute_result"
    }
   ],
   "source": [
    "sealed trait NatNum \n",
    "\n",
    "case object Z extends NatNum\n",
    "\n",
    "case class Succ(n: NatNum) extends NatNum "
   ]
  },
  {
   "cell_type": "markdown",
   "metadata": {},
   "source": [
    "The simplest function we can imagine is to add one to a given NaturalNumber. This is easy to implement since this is exactly what Succ does\n",
    "\n",
    "\n"
   ]
  },
  {
   "cell_type": "code",
   "execution_count": 31,
   "metadata": {},
   "outputs": [
    {
     "data": {
      "text/plain": [
       "defined \u001b[32mfunction\u001b[39m \u001b[36maddOne\u001b[39m"
      ]
     },
     "execution_count": 31,
     "metadata": {},
     "output_type": "execute_result"
    }
   ],
   "source": [
    "def addOne(n:NatNum) = Succ(n)"
   ]
  },
  {
   "cell_type": "code",
   "execution_count": 32,
   "metadata": {},
   "outputs": [
    {
     "data": {
      "text/plain": [
       "\u001b[36mtwo\u001b[39m: \u001b[32mSucc\u001b[39m = \u001b[33mSucc\u001b[39m(\u001b[33mSucc\u001b[39m(Z))\n",
       "\u001b[36mthree\u001b[39m: \u001b[32mSucc\u001b[39m = \u001b[33mSucc\u001b[39m(\u001b[33mSucc\u001b[39m(\u001b[33mSucc\u001b[39m(Z)))"
      ]
     },
     "execution_count": 32,
     "metadata": {},
     "output_type": "execute_result"
    }
   ],
   "source": [
    "val two = Succ(Succ(Z))\n",
    "val three = addOne(two)"
   ]
  },
  {
   "cell_type": "markdown",
   "metadata": {},
   "source": [
    "Now we can write a function minusOne that given a number subtracts one from it. Before we do so, we have to understand how to handle the zero case. We could raise an error/exception saying that it is undefined. This is the best way to do it since it is the most honest \n",
    "\n",
    "Heres how it will be implemented \n",
    "    minusOne(s) = if s is of the form Succ(t) then return t \n",
    "    else s must be Z and return Error \n",
    "   \n",
    "   \n",
    "To do this we will need a construct that checks if a given input NaturalNumber is of the form Succ(t) and extracts the inner stuff t, but how? \n",
    "\n",
    "\n",
    "There are two solutions to this. First is to redfine things to have the minusOne function implemented inide of each class. This solves the problem using the way object oriented programs work. "
   ]
  },
  {
   "cell_type": "code",
   "execution_count": 35,
   "metadata": {},
   "outputs": [
    {
     "data": {
      "text/plain": [
       "defined \u001b[32mtrait\u001b[39m \u001b[36mNatNum1\u001b[39m\n",
       "defined \u001b[32mobject\u001b[39m \u001b[36mZ1\u001b[39m\n",
       "defined \u001b[32mclass\u001b[39m \u001b[36mSucc1\u001b[39m"
      ]
     },
     "execution_count": 35,
     "metadata": {},
     "output_type": "execute_result"
    }
   ],
   "source": [
    "sealed trait NatNum1 {\n",
    "    // all those who inherit from NatNum1 \n",
    "    // minusOne function, or else ... \n",
    "    def minusOne(): NatNum1\n",
    "}\n",
    "\n",
    "case object Z1 extends NatNum1{\n",
    "    // subtracting from zero should throw an error\n",
    "    def minusOne(): NatNum1 = {\n",
    "        throw (new IllegalArgumentException(\"minusOne cannot be called on Zero\"))\n",
    "    }\n",
    "}\n",
    "\n",
    "case class Succ1(n: NatNum1) extends NatNum1{\n",
    "    def minusOne(): NatNum1 = {\n",
    "        return this.n // returns the inner stuff \n",
    "    }\n",
    "}"
   ]
  },
  {
   "cell_type": "markdown",
   "metadata": {},
   "source": [
    "NatNum is the base case class (the constructor looking thing in the sealed trait method). What this means that any class that inherits from it must have all the members that are defined in it. We define a member minusOne() corresponding to the function we wish to implement. Therfore, when we acll the minusOne() funciton on an instance on NatNum, the instance can iether be a 'zero' or 'succ' class. In either case, the object system in scala ensures that the right function gets called. This is an indirect but effective way of finding out the question if the given NatNum is of the form 'zero' or 'Succ' "
   ]
  },
  {
   "cell_type": "code",
   "execution_count": 37,
   "metadata": {},
   "outputs": [
    {
     "data": {
      "text/plain": [
       "\u001b[36mt1\u001b[39m: \u001b[32mZ1\u001b[39m = Z1\n",
       "\u001b[36mt2\u001b[39m: \u001b[32mSucc1\u001b[39m = \u001b[33mSucc1\u001b[39m(\u001b[33mSucc1\u001b[39m(\u001b[33mSucc1\u001b[39m(Z1)))\n",
       "\u001b[36mt3\u001b[39m: \u001b[32mNatNum1\u001b[39m = \u001b[33mSucc1\u001b[39m(\u001b[33mSucc1\u001b[39m(Z1))"
      ]
     },
     "execution_count": 37,
     "metadata": {},
     "output_type": "execute_result"
    }
   ],
   "source": [
    "val t1 = Z1 \n",
    "val t2 = Succ1(Succ1(Succ1(Z1)))\n",
    "val t3 = t2.minusOne()"
   ]
  },
  {
   "cell_type": "markdown",
   "metadata": {},
   "source": [
    "looking at the code above from a higher level. \n",
    "You have t2 = Succ(Succ(Succ(t1))) so in your head its equal to 3\n",
    "But the machine sees t2 as just \n",
    "    Succ(whatever else is in here)\n",
    "\n",
    "so when you return this.n you are actually giving it \n",
    "    (whatever else is in here) \n",
    "    \n",
    "so when you say val t2 = succ(this stuff) \n",
    "    its litterally equal to only \n",
    "        val t2 = succ( . . . ) <= the inside stuff doesnt matter\n",
    "            t2 IS LITTERALLY JUST SUCC(), its just applying the class "
   ]
  },
  {
   "cell_type": "code",
   "execution_count": 38,
   "metadata": {},
   "outputs": [
    {
     "ename": "",
     "evalue": "",
     "output_type": "error",
     "traceback": [
      "\u001b[31mjava.lang.IllegalArgumentException: minusOne cannot be called on Zero\u001b[39m\n  ammonite.$sess.cmd34$Helper$Z1$.minusOne(\u001b[32mcmd34.sc\u001b[39m:\u001b[32m10\u001b[39m)\n  ammonite.$sess.cmd37$Helper.<init>(\u001b[32mcmd37.sc\u001b[39m:\u001b[32m1\u001b[39m)\n  ammonite.$sess.cmd37$.<init>(\u001b[32mcmd37.sc\u001b[39m:\u001b[32m7\u001b[39m)\n  ammonite.$sess.cmd37$.<clinit>(\u001b[32mcmd37.sc\u001b[39m:\u001b[32m-1\u001b[39m)"
     ]
    }
   ],
   "source": [
    "val t4 = t1.minusOne() // this throws an exception which is what we expect "
   ]
  },
  {
   "cell_type": "markdown",
   "metadata": {},
   "source": [
    "The second way to do it is using the idea of pattern matching: a very powerful feature that is available in some functional programming languages including scala. Here is how it works. \n",
    "\n",
    "\n",
    "An instance object of type NatNum can be of two forms Succ(t) or zero. \n",
    "Scala provides a construct similar to the case switch statment in C like \n",
    "languages, but much more powerful. "
   ]
  },
  {
   "cell_type": "code",
   "execution_count": 39,
   "metadata": {},
   "outputs": [
    {
     "data": {
      "text/plain": [
       "defined \u001b[32mfunction\u001b[39m \u001b[36mminusOne\u001b[39m"
      ]
     },
     "execution_count": 39,
     "metadata": {},
     "output_type": "execute_result"
    }
   ],
   "source": [
    "def minusOne(num: NatNum): NatNum = {\n",
    "    num match {\n",
    "        case Succ(t) => t \n",
    "        case Z => throw new IllegalArgumentException(\"minusOne cannot be called on Zero\")\n",
    "    }\n",
    "}"
   ]
  },
  {
   "cell_type": "code",
   "execution_count": 40,
   "metadata": {},
   "outputs": [
    {
     "data": {
      "text/plain": [
       "\u001b[36mt5\u001b[39m: \u001b[32mNatNum\u001b[39m = \u001b[33mSucc\u001b[39m(\u001b[33mSucc\u001b[39m(Z))"
      ]
     },
     "execution_count": 40,
     "metadata": {},
     "output_type": "execute_result"
    }
   ],
   "source": [
    "val t5 = minusOne(Succ(Succ(Succ(Z))))"
   ]
  },
  {
   "cell_type": "code",
   "execution_count": 41,
   "metadata": {},
   "outputs": [
    {
     "ename": "",
     "evalue": "",
     "output_type": "error",
     "traceback": [
      "\u001b[31mjava.lang.IllegalArgumentException: minusOne cannot be called on Zero\u001b[39m\n  ammonite.$sess.cmd38$Helper.minusOne(\u001b[32mcmd38.sc\u001b[39m:\u001b[32m4\u001b[39m)\n  ammonite.$sess.cmd40$Helper.<init>(\u001b[32mcmd40.sc\u001b[39m:\u001b[32m1\u001b[39m)\n  ammonite.$sess.cmd40$.<init>(\u001b[32mcmd40.sc\u001b[39m:\u001b[32m7\u001b[39m)\n  ammonite.$sess.cmd40$.<clinit>(\u001b[32mcmd40.sc\u001b[39m:\u001b[32m-1\u001b[39m)"
     ]
    }
   ],
   "source": [
    "val t6 = minusOne(Z)"
   ]
  },
  {
   "cell_type": "markdown",
   "metadata": {},
   "source": [
    "Let us write code to add two NatNum. The basic idea is: \n",
    "    * if the first argument to the call of form zero, then the answer is the second argument since 0 + something = something \n",
    "    * if the first argument is of the form Succ(t) then simply make a recursive call to add t with Succ(second argument). We are simply saying\n",
    "        (1 + t) + n = t + ( 1 + n ) "
   ]
  },
  {
   "cell_type": "code",
   "execution_count": 43,
   "metadata": {},
   "outputs": [
    {
     "data": {
      "text/plain": [
       "defined \u001b[32mfunction\u001b[39m \u001b[36maddNatNums\u001b[39m"
      ]
     },
     "execution_count": 43,
     "metadata": {},
     "output_type": "execute_result"
    }
   ],
   "source": [
    "def addNatNums(n1: NatNum, n2:NatNum): NatNum = {\n",
    "    n1 match {\n",
    "        case Z => n2 \n",
    "        case Succ(t) => addNatNums(t, Succ(n2))\n",
    "    }\n",
    "}"
   ]
  },
  {
   "cell_type": "code",
   "execution_count": 48,
   "metadata": {},
   "outputs": [
    {
     "data": {
      "text/plain": [
       "\u001b[36mtwo\u001b[39m: \u001b[32mSucc\u001b[39m = \u001b[33mSucc\u001b[39m(\u001b[33mSucc\u001b[39m(Z))\n",
       "\u001b[36mthree\u001b[39m: \u001b[32mSucc\u001b[39m = \u001b[33mSucc\u001b[39m(\u001b[33mSucc\u001b[39m(\u001b[33mSucc\u001b[39m(Z)))\n",
       "\u001b[36mfive\u001b[39m: \u001b[32mNatNum\u001b[39m = \u001b[33mSucc\u001b[39m(\u001b[33mSucc\u001b[39m(\u001b[33mSucc\u001b[39m(\u001b[33mSucc\u001b[39m(\u001b[33mSucc\u001b[39m(Z)))))\n",
       "\u001b[36mten\u001b[39m: \u001b[32mNatNum\u001b[39m = \u001b[33mSucc\u001b[39m(\u001b[33mSucc\u001b[39m(\u001b[33mSucc\u001b[39m(\u001b[33mSucc\u001b[39m(\u001b[33mSucc\u001b[39m(\u001b[33mSucc\u001b[39m(\u001b[33mSucc\u001b[39m(\u001b[33mSucc\u001b[39m(\u001b[33mSucc\u001b[39m(\u001b[33mSucc\u001b[39m(Z))))))))))"
      ]
     },
     "execution_count": 48,
     "metadata": {},
     "output_type": "execute_result"
    }
   ],
   "source": [
    "val two = Succ(Succ(Z))\n",
    "val three = addOne(two)\n",
    "val five = addNatNums(two,three)\n",
    "val ten = addNatNums(five,five)"
   ]
  },
  {
   "cell_type": "markdown",
   "metadata": {},
   "source": [
    "for curiosity, how would we implement it using the 'visitor' pattern ? Let us now redefine NatNum1 to require a new member function addNatNums. You can see how instead of pattern matching we simply write the code for the zero case inside of object Z1 and the code for the successor case inside the object Succ1. The idea is the same as before but two cases get split into two different member functions of Z1 and Succ1, respectively. "
   ]
  },
  {
   "cell_type": "code",
   "execution_count": 49,
   "metadata": {},
   "outputs": [
    {
     "data": {
      "text/plain": [
       "defined \u001b[32mtrait\u001b[39m \u001b[36mNatNum1\u001b[39m\n",
       "defined \u001b[32mobject\u001b[39m \u001b[36mZ1\u001b[39m\n",
       "defined \u001b[32mclass\u001b[39m \u001b[36mSucc1\u001b[39m"
      ]
     },
     "execution_count": 49,
     "metadata": {},
     "output_type": "execute_result"
    }
   ],
   "source": [
    "sealed trait NatNum1 {\n",
    "    def minusOne(): NatNum1 \n",
    "    def addNatNums(n1: NatNum1): NatNum1\n",
    "}\n",
    "\n",
    "case object Z1 extends NatNum1{\n",
    "    def minusOne(): NatNum1 = {\n",
    "        throw (new IllegalArgumentException(\"minusOne cannot be called on Zero\"))\n",
    "    }\n",
    "    \n",
    "    def addNatNums(n1:NatNum1): NatNum1 = n1 \n",
    "}\n",
    "\n",
    "case class Succ1(n: NatNum1) extends NatNum1 {\n",
    "    def minusOne(): NatNum1 = {\n",
    "        this.n\n",
    "    }\n",
    "    def addNatNums(n1: NatNum1): NatNum1 = this.n.addNatNums(Succ1(n1))\n",
    "}"
   ]
  },
  {
   "cell_type": "code",
   "execution_count": 52,
   "metadata": {},
   "outputs": [
    {
     "data": {
      "text/plain": [
       "\u001b[36mtwo\u001b[39m: \u001b[32mSucc1\u001b[39m = \u001b[33mSucc1\u001b[39m(\u001b[33mSucc1\u001b[39m(Z1))\n",
       "\u001b[36mthree\u001b[39m: \u001b[32mSucc1\u001b[39m = \u001b[33mSucc1\u001b[39m(\u001b[33mSucc1\u001b[39m(\u001b[33mSucc1\u001b[39m(Z1)))\n",
       "\u001b[36mfive\u001b[39m: \u001b[32mNatNum1\u001b[39m = \u001b[33mSucc1\u001b[39m(\u001b[33mSucc1\u001b[39m(\u001b[33mSucc1\u001b[39m(\u001b[33mSucc1\u001b[39m(\u001b[33mSucc1\u001b[39m(Z1)))))\n",
       "\u001b[36mten\u001b[39m: \u001b[32mNatNum1\u001b[39m = \u001b[33mSucc1\u001b[39m(\n",
       "  \u001b[33mSucc1\u001b[39m(\u001b[33mSucc1\u001b[39m(\u001b[33mSucc1\u001b[39m(\u001b[33mSucc1\u001b[39m(\u001b[33mSucc1\u001b[39m(\u001b[33mSucc1\u001b[39m(\u001b[33mSucc1\u001b[39m(\u001b[33mSucc1\u001b[39m(\u001b[33mSucc1\u001b[39m(Z1)))))))))\n",
       ")"
      ]
     },
     "execution_count": 52,
     "metadata": {},
     "output_type": "execute_result"
    }
   ],
   "source": [
    "val two = Succ1(Succ1(Z1))\n",
    "val three = Succ1(two)\n",
    "val five = two.addNatNums(three)\n",
    "val ten = five.addNatNums(five)"
   ]
  },
  {
   "cell_type": "markdown",
   "metadata": {},
   "source": [
    "Once we have addition, multiplication can now be implemented using recursion, as below. "
   ]
  },
  {
   "cell_type": "code",
   "execution_count": 53,
   "metadata": {},
   "outputs": [
    {
     "data": {
      "text/plain": [
       "defined \u001b[32mfunction\u001b[39m \u001b[36mmultiplyNatNums\u001b[39m"
      ]
     },
     "execution_count": 53,
     "metadata": {},
     "output_type": "execute_result"
    }
   ],
   "source": [
    "def multiplyNatNums(n1: NatNum, n2: NatNum): NatNum = {\n",
    "    n1 match {\n",
    "        case Z => { return Z }\n",
    "        case Succ(t) => {\n",
    "            // (t + 1) * 2 = t * n2 + n2\n",
    "            val s1 = multiplyNatNums(t,n2) // t * t2 \n",
    "            addNatNums(n2,s1) \n",
    "        }\n",
    "    }\n",
    "}"
   ]
  },
  {
   "cell_type": "code",
   "execution_count": 56,
   "metadata": {},
   "outputs": [
    {
     "data": {
      "text/plain": [
       "\u001b[36mfour\u001b[39m: \u001b[32mSucc\u001b[39m = \u001b[33mSucc\u001b[39m(\u001b[33mSucc\u001b[39m(\u001b[33mSucc\u001b[39m(\u001b[33mSucc\u001b[39m(Z))))\n",
       "\u001b[36mfive\u001b[39m: \u001b[32mSucc\u001b[39m = \u001b[33mSucc\u001b[39m(\u001b[33mSucc\u001b[39m(\u001b[33mSucc\u001b[39m(\u001b[33mSucc\u001b[39m(\u001b[33mSucc\u001b[39m(Z)))))\n",
       "\u001b[36mtwenty\u001b[39m: \u001b[32mNatNum\u001b[39m = \u001b[33mSucc\u001b[39m(\n",
       "  \u001b[33mSucc\u001b[39m(\n",
       "    \u001b[33mSucc\u001b[39m(\n",
       "      \u001b[33mSucc\u001b[39m(\n",
       "        \u001b[33mSucc\u001b[39m(\n",
       "          \u001b[33mSucc\u001b[39m(\n",
       "            \u001b[33mSucc\u001b[39m(\n",
       "              \u001b[33mSucc\u001b[39m(\n",
       "                \u001b[33mSucc\u001b[39m(\n",
       "                  \u001b[33mSucc\u001b[39m(\n",
       "                    \u001b[33mSucc\u001b[39m(\n",
       "                      \u001b[33mSucc\u001b[39m(\u001b[33mSucc\u001b[39m(\u001b[33mSucc\u001b[39m(\u001b[33mSucc\u001b[39m(\u001b[33mSucc\u001b[39m(\u001b[33mSucc\u001b[39m(\u001b[33mSucc\u001b[39m(\u001b[33mSucc\u001b[39m(\u001b[33mSucc\u001b[39m(Z)))))))))\n",
       "                    )\n",
       "                  )\n",
       "                )\n",
       "              )\n",
       "            )\n",
       "          )\n",
       "        )\n",
       "      )\n",
       "    )\n",
       "  )\n",
       ")"
      ]
     },
     "execution_count": 56,
     "metadata": {},
     "output_type": "execute_result"
    }
   ],
   "source": [
    "val four = Succ(Succ(Succ(Succ(Z))))\n",
    "val five = addOne(four)\n",
    "val twenty = multiplyNatNums(five,four)"
   ]
  },
  {
   "cell_type": "markdown",
   "metadata": {},
   "source": [
    "## Operations on List on Number\n",
    "\n",
    "Recall that we previously defined a grammar for lists\n",
    "$$\\begin{array}{ccccc}\n",
    "\\textbf{NumList} & \\rightarrow & Nil &\\ |\\  & Cons(\\textbf{Num}, \\textbf{NumList}) \\\\\n",
    "\\textbf{Num} & \\rightarrow & 0 \\ |\\ 1\\ |\\ 2\\ |\\ 3\\ |\\ 4\\ |\\ \\cdots \\\\\n",
    "\\end{array}$$"
   ]
  },
  {
   "cell_type": "code",
   "execution_count": 57,
   "metadata": {},
   "outputs": [
    {
     "data": {
      "text/plain": [
       "defined \u001b[32mtrait\u001b[39m \u001b[36mNumList\u001b[39m\n",
       "defined \u001b[32mobject\u001b[39m \u001b[36mNil\u001b[39m\n",
       "defined \u001b[32mclass\u001b[39m \u001b[36mCons\u001b[39m"
      ]
     },
     "execution_count": 57,
     "metadata": {},
     "output_type": "execute_result"
    }
   ],
   "source": [
    "sealed trait NumList \n",
    "\n",
    "case object Nil extends NumList \n",
    "\n",
    "case class Cons(hd: Int, t1: NumList) extends NumList "
   ]
  },
  {
   "cell_type": "markdown",
   "metadata": {},
   "source": [
    "There are many exciting things we wish to do lists. The simplest one is to find the length of a list. How do we do that in principle? \n",
    "    * the length of the empty list Nil is zero \n",
    "    * the length of the list of the form Cons(something,tail) is 1 + length(tail) \n",
    "    \n",
    "\n",
    "Let us use pattern matching to implememt this. "
   ]
  },
  {
   "cell_type": "code",
   "execution_count": 58,
   "metadata": {},
   "outputs": [
    {
     "data": {
      "text/plain": [
       "defined \u001b[32mfunction\u001b[39m \u001b[36mlistLength\u001b[39m"
      ]
     },
     "execution_count": 58,
     "metadata": {},
     "output_type": "execute_result"
    }
   ],
   "source": [
    "def listLength(lst: NumList): Int = { \n",
    "    lst match{\n",
    "        case Nil => 0 \n",
    "        case Cons(_,t1) => 1 + listLength(t1) // _ means anything  \n",
    "    }\n",
    "}"
   ]
  },
  {
   "cell_type": "markdown",
   "metadata": {},
   "source": [
    "how would we do it using a visitor? Simple, the listLength function is going to become a member of the trait NumList and get implemented in all the classes that inherit from it. "
   ]
  },
  {
   "cell_type": "code",
   "execution_count": 59,
   "metadata": {},
   "outputs": [
    {
     "data": {
      "text/plain": [
       "defined \u001b[32mtrait\u001b[39m \u001b[36mAltNumList\u001b[39m\n",
       "defined \u001b[32mobject\u001b[39m \u001b[36mAltNil\u001b[39m\n",
       "defined \u001b[32mclass\u001b[39m \u001b[36mAltCons\u001b[39m"
      ]
     },
     "execution_count": 59,
     "metadata": {},
     "output_type": "execute_result"
    }
   ],
   "source": [
    "sealed trait AltNumList{\n",
    "    def listLength(): Int\n",
    "}\n",
    "\n",
    "case object AltNil extends AltNumList{\n",
    "    def listLength(): Int = {\n",
    "        0\n",
    "    }\n",
    "}\n",
    "\n",
    "case class AltCons(hd:Int, t1: AltNumList) extends AltNumList{\n",
    "    def listLength(): Int = {\n",
    "        1 + t1.listLength()\n",
    "    }\n",
    "}"
   ]
  },
  {
   "cell_type": "code",
   "execution_count": 60,
   "metadata": {},
   "outputs": [
    {
     "data": {
      "text/plain": [
       "\u001b[36ml1\u001b[39m: \u001b[32mAltCons\u001b[39m = \u001b[33mAltCons\u001b[39m(\u001b[32m1\u001b[39m, \u001b[33mAltCons\u001b[39m(\u001b[32m3\u001b[39m, \u001b[33mAltCons\u001b[39m(\u001b[32m7\u001b[39m, AltNil)))\n",
       "\u001b[36mj1\u001b[39m: \u001b[32mInt\u001b[39m = \u001b[32m3\u001b[39m"
      ]
     },
     "execution_count": 60,
     "metadata": {},
     "output_type": "execute_result"
    }
   ],
   "source": [
    "val l1 = AltCons(1, AltCons(3, AltCons(7, AltNil)))\n",
    "val j1 = l1.listLength()"
   ]
  },
  {
   "cell_type": "markdown",
   "metadata": {},
   "source": [
    "You may now be wondering why we are bothering describing both visitor functions and pattern matches. Aren't they just two different ways of achieveing the same effect? The answer to that is yes for about 90% of the cases, but not always. Pattern matching can make life infinetely more easier. \n",
    "\n",
    "I would like to write a function now that does following: \n",
    "    given a list, check if it is sorted in ascending order "
   ]
  },
  {
   "cell_type": "code",
   "execution_count": 61,
   "metadata": {},
   "outputs": [
    {
     "data": {
      "text/plain": [
       "defined \u001b[32mfunction\u001b[39m \u001b[36misAscendingOrder\u001b[39m"
      ]
     },
     "execution_count": 61,
     "metadata": {},
     "output_type": "execute_result"
    }
   ],
   "source": [
    "def isAscendingOrder(l: NumList): Boolean = \n",
    "    l match{\n",
    "        case Nil => true // an empty list is ascending sure!\n",
    "        \n",
    "        // A list with just one element is surely ascending ordered\n",
    "        case Cons(_, Nil) => true \n",
    "        \n",
    "        case Cons(j1, tl @ Cons(j2, _)) => (j1 <= j2) && isAscendingOrder(tl) \n",
    "        // We did something funky:\n",
    "        // We pattern matched the first two elements of the list to j1 and j2 respectively.\n",
    "        // Also, we told scala to call Cons(j2, _) by the name tl using the @ symbol. \n",
    "        // This is called pattern matching with names.\n",
    "        \n",
    "        case _ => {\n",
    "            assert(false);\n",
    "            false\n",
    "        }\n",
    "        \n",
    "    }"
   ]
  },
  {
   "cell_type": "code",
   "execution_count": 62,
   "metadata": {},
   "outputs": [
    {
     "ename": "",
     "evalue": "",
     "output_type": "error",
     "traceback": [
      "\u001b[31mscala.MatchError: Cons(1,Cons(3,Cons(3,Cons(5,Cons(10,Nil))))) (of class ammonite.$sess.cmd56$Helper$Cons)\u001b[39m\n  ammonite.$sess.cmd60$Helper.isAscendingOrder(\u001b[32mcmd60.sc\u001b[39m:\u001b[32m2\u001b[39m)\n  ammonite.$sess.cmd61$Helper.<init>(\u001b[32mcmd61.sc\u001b[39m:\u001b[32m1\u001b[39m)\n  ammonite.$sess.cmd61$.<init>(\u001b[32mcmd61.sc\u001b[39m:\u001b[32m7\u001b[39m)\n  ammonite.$sess.cmd61$.<clinit>(\u001b[32mcmd61.sc\u001b[39m:\u001b[32m-1\u001b[39m)"
     ]
    }
   ],
   "source": [
    "val b1 = isAscendingOrder( Cons(1, Cons(3, Cons(3, Cons(5, Cons(10, Nil ))))))\n",
    "val b2 = isAscendingOrder( Cons(5, Cons(3, Cons(3, Cons(5, Cons(10, Nil ))))))\n",
    "val b3 = isAscendingOrder( Cons(0, Cons(3, Cons(3, Cons(5, Cons(4, Nil ))))))"
   ]
  },
  {
   "cell_type": "code",
   "execution_count": null,
   "metadata": {
    "collapsed": true
   },
   "outputs": [],
   "source": []
  }
 ],
 "metadata": {
  "kernelspec": {
   "display_name": "Scala",
   "language": "scala",
   "name": "scala"
  },
  "language_info": {
   "codemirror_mode": "text/x-scala",
   "file_extension": ".scala",
   "mimetype": "text/x-scala",
   "name": "scala",
   "nbconvert_exporter": "script",
   "version": "2.12.10"
  }
 },
 "nbformat": 4,
 "nbformat_minor": 2
}
