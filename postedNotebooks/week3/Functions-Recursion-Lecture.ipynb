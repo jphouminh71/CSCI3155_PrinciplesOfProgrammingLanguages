{
 "cells": [
  {
   "cell_type": "code",
   "execution_count": 6,
   "metadata": {},
   "outputs": [
    {
     "data": {
      "text/plain": [
       "defined \u001b[32mfunction\u001b[39m \u001b[36mfib\u001b[39m\n",
       "\u001b[36mres5_1\u001b[39m: \u001b[32mInt\u001b[39m = \u001b[32m55\u001b[39m"
      ]
     },
     "execution_count": 6,
     "metadata": {},
     "output_type": "execute_result"
    }
   ],
   "source": [
    "/* write a fibonacci function */ \n",
    "// memoizing it \n",
    "def fib(n:Int): Int = {\n",
    "    if (n <= 2){\n",
    "        return 1; \n",
    "    }\n",
    "    val v1 = fib(n-1); \n",
    "    val v2 = fib(n-2); \n",
    "    val v3 = v1 + v2; \n",
    "    return v3;\n",
    "}\n",
    "\n",
    "fib(10); "
   ]
  },
  {
   "cell_type": "code",
   "execution_count": null,
   "metadata": {
    "collapsed": true
   },
   "outputs": [],
   "source": [
    "def foo(x: Int): Int = return (x + 1)\n",
    "\n",
    "\n",
    "/* Tail call means that the recursive call is at the end of the function, no further processing of the current variables \n",
    "required , no computation left after the function call, just returns the value to whoever you call it*/ \n",
    "\n",
    "def tailCallFunction(x: Int): Int = {\n",
    "    val y = x * x; \n",
    "    val z = y + y; \n",
    "    return foo(z); \n",
    "}\n",
    "\n",
    "def notATailCall(x: Int): Int = {\n",
    "    val y = x * x; \n",
    "    val z = foo(y); // <---\n",
    "    val w = z + y; \n",
    "    return w; \n",
    "}"
   ]
  },
  {
   "cell_type": "code",
   "execution_count": 7,
   "metadata": {},
   "outputs": [
    {
     "data": {
      "text/plain": [
       "defined \u001b[32mfunction\u001b[39m \u001b[36mfactorialNonTail\u001b[39m\n",
       "defined \u001b[32mfunction\u001b[39m \u001b[36mfactorialTailCall\u001b[39m"
      ]
     },
     "execution_count": 7,
     "metadata": {},
     "output_type": "execute_result"
    }
   ],
   "source": [
    "// Writing Recursive Tail Functions \n",
    "\n",
    "def factorialNonTail(n: Int): Int = {\n",
    "    if (n <= 1){\n",
    "        return 0; \n",
    "    }\n",
    "    else{\n",
    "        // SPILL\n",
    "        val v1 = factorialNonTail(n-1); \n",
    "        val v2 = n * v1; \n",
    "        return v2; \n",
    "    }\n",
    "}\n",
    "\n",
    "def factorialTailCall(acc:Int, n:Int): Int = {\n",
    "    if (n <= 1){\n",
    "        return acc; \n",
    "    }\n",
    "    else{\n",
    "        return factorialTailCall( acc *n, n-1); \n",
    "    }\n",
    "}"
   ]
  },
  {
   "cell_type": "code",
   "execution_count": 8,
   "metadata": {},
   "outputs": [
    {
     "data": {
      "text/plain": [
       "defined \u001b[32mfunction\u001b[39m \u001b[36msquareRoot\u001b[39m\n",
       "\u001b[36mres7_1\u001b[39m: \u001b[32mInt\u001b[39m = \u001b[32m5\u001b[39m"
      ]
     },
     "execution_count": 8,
     "metadata": {},
     "output_type": "execute_result"
    }
   ],
   "source": [
    "// writing a tail recursive squareRoot function \n",
    "\n",
    "def squareRoot(n: Int): Int = {\n",
    "    if (n <= 0 ) {\n",
    "        return 0; \n",
    "    }\n",
    "    var j = 1; \n",
    "    while( j*j < n){\n",
    "        j= j + 1\n",
    "    }\n",
    "    return j; \n",
    "}\n",
    "\n",
    "squareRoot(18); "
   ]
  },
  {
   "cell_type": "code",
   "execution_count": 10,
   "metadata": {},
   "outputs": [
    {
     "data": {
      "text/plain": [
       "defined \u001b[32mfunction\u001b[39m \u001b[36msquareRoot\u001b[39m\n",
       "defined \u001b[32mfunction\u001b[39m \u001b[36msquareRootWrapper\u001b[39m\n",
       "\u001b[36mres9_2\u001b[39m: \u001b[32mInt\u001b[39m = \u001b[32m5\u001b[39m"
      ]
     },
     "execution_count": 10,
     "metadata": {},
     "output_type": "execute_result"
    }
   ],
   "source": [
    "// writing the same square root function but doing it recursively, this is tail recursive \n",
    "def squareRoot(j: Int, n: Int): Int = {\n",
    "    if (n <= 0){\n",
    "        return 0;\n",
    "    }\n",
    "    if (j * j < n){\n",
    "        return squareRoot(j+1,n)\n",
    "    }\n",
    "    else{\n",
    "        return j;\n",
    "    }\n",
    "}\n",
    "\n",
    "def squareRootWrapper(n: Int): Int = {\n",
    "    return squareRoot(1,n);\n",
    "}\n",
    "\n",
    "squareRootWrapper(18);\n"
   ]
  },
  {
   "cell_type": "code",
   "execution_count": 16,
   "metadata": {},
   "outputs": [
    {
     "name": "stdout",
     "output_type": "stream",
     "text": [
      "55\n",
      "-980107325\n"
     ]
    },
    {
     "data": {
      "text/plain": [
       "defined \u001b[32mfunction\u001b[39m \u001b[36mfiboLoop\u001b[39m"
      ]
     },
     "execution_count": 16,
     "metadata": {},
     "output_type": "execute_result"
    }
   ],
   "source": [
    "def fiboLoop(n:Int): Int = {\n",
    "    var acc1 = 1; \n",
    "    var acc2 = 1; \n",
    "    var j = 1; \n",
    "    while(j<n-1){\n",
    "        val tmp = acc1 + acc2; \n",
    "        acc1 = acc2; \n",
    "        acc2 = tmp; \n",
    "        j = j + 1; \n",
    "        \n",
    "    }\n",
    "    return acc2; \n",
    "}\n",
    "println(fiboLoop(10));\n",
    "println(fiboLoop(100)); // Integer Overflow "
   ]
  },
  {
   "cell_type": "code",
   "execution_count": 17,
   "metadata": {},
   "outputs": [
    {
     "data": {
      "text/plain": [
       "defined \u001b[32mfunction\u001b[39m \u001b[36mfiboLoopCrazyRec\u001b[39m"
      ]
     },
     "execution_count": 17,
     "metadata": {},
     "output_type": "execute_result"
    }
   ],
   "source": [
    "// this ia a bad way to write recursion \n",
    "def fiboLoopCrazyRec(n: Int, j: Int = 1, acc1: Int =1, acc2: Int = 1){\n",
    "    if (n <= 2){\n",
    "        return 1; \n",
    "    }\n",
    "    if ( j < n){\n",
    "        return fiboLoopCrazyRec(n, j+1,acc2, acc1+acc2); \n",
    "    }\n",
    "    else{\n",
    "        return acc2; \n",
    "    }\n",
    "    \n",
    "}"
   ]
  },
  {
   "cell_type": "markdown",
   "metadata": {},
   "source": [
    "# Notes\n",
    "\n",
    "- The stack and heap\n",
    "    - the stack is memory that is used for function called, keeps an activation record, its everything that the system needs to know to make that function call \n",
    "    - the heap is memory that is used for when global variables are declared \n",
    "    \n",
    "    \n",
    "- maximum activation record in the stack. \n",
    "    - this is known as the stack depth / recursion depth \n",
    "      - the total number of activatio calls in fibonacci is n-1 ( not counting the intial call ) \n",
    "    - the maximum amount of activation calls is equal to the maximum depth of the function call, \"the height of the tree\"\n",
    "    \n",
    "    \n",
    "- whenever you are given a recursion, analyze the recursion so you dont waste memory \n",
    "\n",
    "\n",
    "\n",
    "# things you need to go over\n",
    " - look of tail call optimization \n",
    " - activation record \n",
    " - grammers "
   ]
  },
  {
   "cell_type": "markdown",
   "metadata": {},
   "source": [
    "# Inductive programming \n",
    "- This sounds like just bottom up programming \n",
    "\n",
    "\n",
    "- Natural Numbers\n",
    "    - 0 is a natural number \n",
    "    - if n is a natrual number\n",
    "        succ(n) is a natrual number \n",
    "       \n",
    "    N = { 0, succ(0), succ(scuc(0), ... succ... succ(0) .. } \n",
    "\n",
    "\n",
    "# Grammer \n",
    "- example of a grammer \n",
    "\n",
    "    n => 0 | succ(Nat)\n",
    "    \n",
    "- grammers have a bunch of rules \n",
    "    in the example above \n",
    "        Nat => 0 \n",
    "        Nat => succ(Nat)\n",
    "    'Nat' is a called a non-terminal \n",
    "    '0' and 'Nat' are terminal symbols \n",
    "\n",
    "\n",
    "- Another example of a grammer \n",
    "    - Non terminal    Symbol : S                 S is a non terminal, and b/f are nonterminals\n",
    "                S => b          <- R1 \n",
    "                S => f(S,S)     <- R2 \n",
    "               \n",
    "              r2        r1        r1\n",
    "             S => f(s,s) => f(b,s) -> f(b,b) \n",
    "\n",
    "\n",
    "\n",
    "\n",
    "# Scala"
   ]
  },
  {
   "cell_type": "code",
   "execution_count": null,
   "metadata": {
    "collapsed": true
   },
   "outputs": [],
   "source": []
  }
 ],
 "metadata": {
  "kernelspec": {
   "display_name": "Scala",
   "language": "scala",
   "name": "scala"
  },
  "language_info": {
   "codemirror_mode": "text/x-scala",
   "file_extension": ".scala",
   "mimetype": "text/x-scala",
   "name": "scala",
   "nbconvert_exporter": "script",
   "version": "2.12.10"
  }
 },
 "nbformat": 4,
 "nbformat_minor": 2
}
