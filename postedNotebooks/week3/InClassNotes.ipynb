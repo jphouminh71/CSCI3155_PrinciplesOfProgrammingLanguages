{
 "cells": [
  {
   "cell_type": "markdown",
   "metadata": {},
   "source": [
    "Nonterminal : List , Number\n",
    "\n",
    "List => nil\n",
    "List => Cons(Number,List)\n",
    "Number => . . . scala integers . . ."
   ]
  },
  {
   "cell_type": "code",
   "execution_count": 10,
   "metadata": {},
   "outputs": [
    {
     "data": {
      "text/plain": [
       "defined \u001b[32mtrait\u001b[39m \u001b[36mList\u001b[39m\n",
       "defined \u001b[32mobject\u001b[39m \u001b[36mNil\u001b[39m\n",
       "defined \u001b[32mclass\u001b[39m \u001b[36mCons\u001b[39m"
      ]
     },
     "execution_count": 10,
     "metadata": {},
     "output_type": "execute_result"
    }
   ],
   "source": [
    "sealed trait List{\n",
    "    // defining a function that will return the length of list as an integer \n",
    "    def length(): Int \n",
    "    def isEmpty(): Boolean\n",
    "    def retrieveFirstElement(): Int\n",
    "    def isAscendingOrder: Boolean\n",
    "}\n",
    "\n",
    "// cheated here by using int as scala integer\n",
    "case object Nil extends List{\n",
    "    // size of an empty list is size zero. \n",
    "    def length(): Int = {0}\n",
    "    def isEmpty(): Boolean = {true}\n",
    "    def retrieveFirstElement(): Int = { assert(false);return 0 }\n",
    "    def isAscendingOrder(): Boolean = {true}\n",
    "}\n",
    "case class Cons(Number: Int, li : List) extends List{\n",
    "    def length(): Int = {\n",
    "        1 + li.length()\n",
    "    }\n",
    "    def isEmpty(): Boolean = {\n",
    "        false\n",
    "    }\n",
    "    def retrieveFirstElement(): Int = Number\n",
    "    def isAscendingOrder(): Boolean = {\n",
    "        if (li.isEmpty){\n",
    "            true\n",
    "        }else{\n",
    "            val j = li.retrieveFirstElement()\n",
    "            if (Number <= j){\n",
    "                li.isAscendingOrder\n",
    "            }else{\n",
    "                return false\n",
    "            }\n",
    "        }\n",
    "    }\n",
    "}"
   ]
  },
  {
   "cell_type": "code",
   "execution_count": 9,
   "metadata": {},
   "outputs": [
    {
     "data": {
      "text/plain": [
       "\u001b[36mres8\u001b[39m: \u001b[32mCons\u001b[39m = \u001b[33mCons\u001b[39m(\u001b[32m3\u001b[39m, \u001b[33mCons\u001b[39m(\u001b[32m2\u001b[39m, \u001b[33mCons\u001b[39m(\u001b[32m1\u001b[39m, Nil)))"
      ]
     },
     "execution_count": 9,
     "metadata": {},
     "output_type": "execute_result"
    }
   ],
   "source": [
    "// write the following list with the given grammar [ 1,2,3 ]\n",
    "Cons(3,Cons(2,Cons(1,Nil)))"
   ]
  },
  {
   "cell_type": "code",
   "execution_count": 12,
   "metadata": {},
   "outputs": [
    {
     "data": {
      "text/plain": [
       "defined \u001b[32mobject\u001b[39m \u001b[36mListUtils\u001b[39m"
      ]
     },
     "execution_count": 12,
     "metadata": {},
     "output_type": "execute_result"
    }
   ],
   "source": [
    "object ListUtils {\n",
    "    def LengthOfList(l:List): Int = l match {\n",
    "        case Nil => 0\n",
    "        case Cons(i1,l1) => 1 + LengthOfList(l1)\n",
    "    }\n",
    "}\n"
   ]
  },
  {
   "cell_type": "code",
   "execution_count": 13,
   "metadata": {},
   "outputs": [
    {
     "data": {
      "text/plain": [
       "\u001b[36mv1\u001b[39m: \u001b[32mCons\u001b[39m = \u001b[33mCons\u001b[39m(\u001b[32m1\u001b[39m, \u001b[33mCons\u001b[39m(\u001b[32m2\u001b[39m, \u001b[33mCons\u001b[39m(\u001b[32m3\u001b[39m, Nil)))"
      ]
     },
     "execution_count": 13,
     "metadata": {},
     "output_type": "execute_result"
    }
   ],
   "source": [
    "val v1 = Cons(1,Cons(2,Cons(3,Nil)))"
   ]
  },
  {
   "cell_type": "code",
   "execution_count": 14,
   "metadata": {},
   "outputs": [
    {
     "data": {
      "text/plain": [
       "\u001b[36mn1\u001b[39m: \u001b[32mInt\u001b[39m = \u001b[32m3\u001b[39m"
      ]
     },
     "execution_count": 14,
     "metadata": {},
     "output_type": "execute_result"
    }
   ],
   "source": [
    "val n1 = ListUtils.LengthOfList(v1)"
   ]
  },
  {
   "cell_type": "code",
   "execution_count": 15,
   "metadata": {},
   "outputs": [
    {
     "data": {
      "text/plain": [
       "defined \u001b[32mfunction\u001b[39m \u001b[36mlistHasAtLeastTwoElements\u001b[39m"
      ]
     },
     "execution_count": 15,
     "metadata": {},
     "output_type": "execute_result"
    }
   ],
   "source": [
    "def listHasAtLeastTwoElements(lst:List): Boolean = lst match {\n",
    "    case Nil => false\n",
    "    case Cons(_,Nil) => false\n",
    "    // this means anything will match to this \n",
    "    case _ => true\n",
    "}"
   ]
  },
  {
   "cell_type": "code",
   "execution_count": 16,
   "metadata": {},
   "outputs": [
    {
     "data": {
      "text/plain": [
       "\u001b[36mres15\u001b[39m: \u001b[32mBoolean\u001b[39m = true"
      ]
     },
     "execution_count": 16,
     "metadata": {},
     "output_type": "execute_result"
    }
   ],
   "source": [
    "listHasAtLeastTwoElements(v1)"
   ]
  },
  {
   "cell_type": "code",
   "execution_count": 17,
   "metadata": {},
   "outputs": [
    {
     "data": {
      "text/plain": [
       "defined \u001b[32mfunction\u001b[39m \u001b[36misAscendingOrder\u001b[39m"
      ]
     },
     "execution_count": 17,
     "metadata": {},
     "output_type": "execute_result"
    }
   ],
   "source": [
    "def isAscendingOrder(lst: List): Boolean = lst match {\n",
    "    case Nil => true\n",
    "    case Cons(_,Nil) => true \n",
    "    case Cons(i1,Cons(i2,remainingJunk)) => {\n",
    "        if (i1 > i2) {false}\n",
    "        else{ \n",
    "            val tail = Cons(i2,remainingJunk)\n",
    "            isAscendingOrder(tail)\n",
    "        }\n",
    "    }\n",
    "    case _ =>{ throw new IllegalArgumentException(\"How dare you!\")}\n",
    "}"
   ]
  },
  {
   "cell_type": "code",
   "execution_count": 18,
   "metadata": {},
   "outputs": [
    {
     "data": {
      "text/plain": [
       "\u001b[36mres17\u001b[39m: \u001b[32mBoolean\u001b[39m = true"
      ]
     },
     "execution_count": 18,
     "metadata": {},
     "output_type": "execute_result"
    }
   ],
   "source": [
    "isAscendingOrder(v1)"
   ]
  },
  {
   "cell_type": "code",
   "execution_count": 19,
   "metadata": {},
   "outputs": [
    {
     "data": {
      "text/plain": [
       "\u001b[36mv2\u001b[39m: \u001b[32mCons\u001b[39m = \u001b[33mCons\u001b[39m(\u001b[32m5\u001b[39m, Nil)\n",
       "\u001b[36mres18_1\u001b[39m: \u001b[32mBoolean\u001b[39m = true"
      ]
     },
     "execution_count": 19,
     "metadata": {},
     "output_type": "execute_result"
    }
   ],
   "source": [
    "val v2 = Cons(5,Nil)\n",
    "isAscendingOrder(v2)"
   ]
  },
  {
   "cell_type": "code",
   "execution_count": 21,
   "metadata": {},
   "outputs": [
    {
     "data": {
      "text/plain": [
       "defined \u001b[32mtrait\u001b[39m \u001b[36mBinaryTree\u001b[39m\n",
       "defined \u001b[32mobject\u001b[39m \u001b[36mLeaf\u001b[39m\n",
       "defined \u001b[32mclass\u001b[39m \u001b[36mNode\u001b[39m"
      ]
     },
     "execution_count": 21,
     "metadata": {},
     "output_type": "execute_result"
    }
   ],
   "source": [
    "sealed trait BinaryTree \n",
    "case class Leaf(i: Int) extends BinaryTree\n",
    "case class Node( i: Int, leftSubTree: BinaryTree, \n",
    "                           rightSubTree: BinaryTree) extends BinaryTree"
   ]
  },
  {
   "cell_type": "code",
   "execution_count": null,
   "metadata": {
    "collapsed": true
   },
   "outputs": [],
   "source": []
  }
 ],
 "metadata": {
  "kernelspec": {
   "display_name": "Scala",
   "language": "scala",
   "name": "scala"
  },
  "language_info": {
   "codemirror_mode": "text/x-scala",
   "file_extension": ".scala",
   "mimetype": "text/x-scala",
   "name": "scala",
   "nbconvert_exporter": "script",
   "version": "2.12.10"
  }
 },
 "nbformat": 4,
 "nbformat_minor": 2
}
