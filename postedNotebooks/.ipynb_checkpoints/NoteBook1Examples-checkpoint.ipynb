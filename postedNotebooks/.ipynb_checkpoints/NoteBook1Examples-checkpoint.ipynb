{
 "cells": [
  {
   "cell_type": "code",
   "execution_count": 1,
   "metadata": {},
   "outputs": [
    {
     "data": {
      "text/plain": [
       "defined \u001b[32mobject\u001b[39m \u001b[36mSayHelloTo\u001b[39m"
      ]
     },
     "execution_count": 1,
     "metadata": {},
     "output_type": "execute_result"
    }
   ],
   "source": [
    "object SayHelloTo {\n",
    "   /* Here is the function sayHelloTo -- It is placed inside an \"object\" called SayHelloTo */\n",
    "   def sayHelloTo(who: String) = { \n",
    "    println(\"Hello, \"+ who)\n",
    "   }\n",
    "   /* This is the main function that is the entry point. \n",
    "      args is an array of command line arguments as strings.\n",
    "      */\n",
    "   def main(args: Array[String]) = {\n",
    "      // Iterate through the arguments one by one and call sayHelloTo on eacy\n",
    "      for (name <- args) { sayHelloTo(name) }\n",
    "   }\n",
    "}\n",
    "\n",
    "main(Sriram Albert Jane Mary Mortimer Lilibeth)"
   ]
  },
  {
   "cell_type": "code",
   "execution_count": null,
   "metadata": {
    "collapsed": true
   },
   "outputs": [],
   "source": []
  }
 ],
 "metadata": {
  "kernelspec": {
   "display_name": "Scala",
   "language": "scala",
   "name": "scala"
  },
  "language_info": {
   "codemirror_mode": "text/x-scala",
   "file_extension": ".scala",
   "mimetype": "text/x-scala",
   "name": "scala",
   "nbconvert_exporter": "script",
   "version": "2.12.10"
  }
 },
 "nbformat": 4,
 "nbformat_minor": 2
}
