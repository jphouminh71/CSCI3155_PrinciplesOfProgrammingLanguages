{
 "cells": [
  {
   "cell_type": "markdown",
   "metadata": {},
   "source": [
    "## Map Filter and Fold\n",
    "\n",
    "This recitation will focus on several useful ways to deal with collections.  Specifically, the methods `map` `filter` and `foldLeft`.  These methods are applied to a collection such as a `List` or `Set` to perform a computation over the elements.\n",
    "\n",
    "* `map` : Create a new collection of the same size where each element has been individually transformed.\n",
    "* `filter` : Create a new collection without certain elements.\n",
    "* `foldLeft` : Compute a single value from the combination of all the elements in a collection.\n",
    "\n",
    "For all three methods, an operation must be defined.\n",
    "* `map` : How should each element be transformed?\n",
    "* `filter` : How do we decide to keep or discard an element?\n",
    "* `foldLeft` : Given an accumulated value and an element of the collection, how do we update the accumulated value?\n",
    "\n",
    "All of these operations are specified with a function.  These functions are often used once so it is convenient to use Lambda Functions."
   ]
  },
  {
   "cell_type": "markdown",
   "metadata": {},
   "source": [
    "### Lambda Functions\n",
    "\n",
    "Lambda functions (sometimes referred to as \"anonymous functions\") are a convenient way to define a small operation.  For example, consider the following ways to define the same function."
   ]
  },
  {
   "cell_type": "code",
   "execution_count": 2,
   "metadata": {},
   "outputs": [
    {
     "data": {
      "text/plain": [
       "defined \u001b[32mfunction\u001b[39m \u001b[36madd1_v1\u001b[39m\n",
       "\u001b[36madd1_v2\u001b[39m: \u001b[32mInt\u001b[39m => \u001b[32mInt\u001b[39m = ammonite.$sess.cmd1$Helper$$Lambda$2110/1472771752@1dc6f767\n",
       "\u001b[36madd1_v3\u001b[39m: \u001b[32mInt\u001b[39m => \u001b[32mInt\u001b[39m = ammonite.$sess.cmd1$Helper$$Lambda$2111/1880090120@2e21fbdd\n",
       "\u001b[36madd1_v4\u001b[39m: \u001b[32mInt\u001b[39m => \u001b[32mInt\u001b[39m = ammonite.$sess.cmd1$Helper$$Lambda$2112/1309370596@397729a2\n",
       "\u001b[36mres1_4\u001b[39m: \u001b[32mInt\u001b[39m = \u001b[32m6\u001b[39m\n",
       "\u001b[36mres1_5\u001b[39m: \u001b[32mInt\u001b[39m = \u001b[32m6\u001b[39m\n",
       "\u001b[36mres1_6\u001b[39m: \u001b[32mInt\u001b[39m = \u001b[32m6\u001b[39m\n",
       "\u001b[36mres1_7\u001b[39m: \u001b[32mInt\u001b[39m = \u001b[32m6\u001b[39m"
      ]
     },
     "execution_count": 2,
     "metadata": {},
     "output_type": "execute_result"
    }
   ],
   "source": [
    "// Normal function definition\n",
    "def add1_v1(a:Int):Int = a + 1\n",
    "\n",
    "// Lambda functions\n",
    "val add1_v2: Int=>Int = a => a+1\n",
    "val add1_v3 = (a:Int) => a+1\n",
    "val add1_v4: Int=>Int = _+1\n",
    "add1_v1(5)\n",
    "add1_v2(5)\n",
    "add1_v3(5)\n",
    "add1_v4(5)"
   ]
  },
  {
   "cell_type": "markdown",
   "metadata": {},
   "source": [
    "Anywhere that the name of a function is used, the full definition of a lambda may be replaced.  The folowing code performs the same sequence of steps, creating a function and applying it to the number 5.  \n",
    "\n",
    "If a function is only used once and is short enough to understand at a quick glance, consider using a lambda."
   ]
  },
  {
   "cell_type": "code",
   "execution_count": null,
   "metadata": {
    "collapsed": true
   },
   "outputs": [],
   "source": [
    "((a:Int) => a+1)(5)"
   ]
  },
  {
   "cell_type": "markdown",
   "metadata": {},
   "source": [
    "Write a lambda that takes an integer and creates a string with \" meters\" appended."
   ]
  },
  {
   "cell_type": "code",
   "execution_count": null,
   "metadata": {
    "collapsed": true
   },
   "outputs": [],
   "source": [
    "val showMeters: Int => String = ???"
   ]
  },
  {
   "cell_type": "code",
   "execution_count": null,
   "metadata": {
    "collapsed": true
   },
   "outputs": [],
   "source": [
    "assert(showMeters(3) == \"3 meters\")\n",
    "assert(showMeters(8) == \"8 meters\")"
   ]
  },
  {
   "cell_type": "markdown",
   "metadata": {},
   "source": [
    "Lambdas can be used directly in method calls.  In the following code snippet we define a method \"convert\" that takes a String and a lambda.  Call this function with a lambda that gets the length of the string."
   ]
  },
  {
   "cell_type": "code",
   "execution_count": null,
   "metadata": {
    "collapsed": true
   },
   "outputs": [],
   "source": [
    "def convert(string: String, operation: String=>Int):Int = operation(string)\n",
    "\n",
    "val res1 = convert(\"Hello World!\", ???)"
   ]
  },
  {
   "cell_type": "code",
   "execution_count": null,
   "metadata": {
    "collapsed": true
   },
   "outputs": [],
   "source": [
    "assert(res1 == 12)"
   ]
  },
  {
   "cell_type": "markdown",
   "metadata": {},
   "source": [
    "### Map"
   ]
  },
  {
   "cell_type": "markdown",
   "metadata": {},
   "source": [
    "Map uses the syntax `[collection].map([operation])` where collection is a `List` or a `Set` of items.  `[operation]` is a function that takes elements of the `List` or `Set`.  The following example adds one to each element of a `List` of `Int`."
   ]
  },
  {
   "cell_type": "code",
   "execution_count": null,
   "metadata": {
    "collapsed": true
   },
   "outputs": [],
   "source": [
    "val myList = List(1,2,3)\n",
    "myList.map((a:Int) => a+1)"
   ]
  },
  {
   "cell_type": "markdown",
   "metadata": {},
   "source": [
    "Last recitation, we implemented our own map function. "
   ]
  },
  {
   "cell_type": "code",
   "execution_count": null,
   "metadata": {
    "collapsed": true
   },
   "outputs": [],
   "source": [
    "def map(list: List[Int], f: Int=>Int):List[Int] = list match{\n",
    "    case Nil => Nil\n",
    "    case h::t => f(h)::map(t,f)\n",
    "}\n",
    "map(List(1,2,3), (a:Int) => a+1)"
   ]
  },
  {
   "cell_type": "markdown",
   "metadata": {},
   "source": [
    "Use the built in `map` function on lists to convert each element in the list to a string."
   ]
  },
  {
   "cell_type": "code",
   "execution_count": null,
   "metadata": {
    "collapsed": true
   },
   "outputs": [],
   "source": [
    "val res1: List[String] = List(1,2,3).map(???)"
   ]
  },
  {
   "cell_type": "code",
   "execution_count": null,
   "metadata": {
    "collapsed": true
   },
   "outputs": [],
   "source": [
    "assert(res1 == List(\"1\",\"2\",\"3\"))"
   ]
  },
  {
   "cell_type": "markdown",
   "metadata": {},
   "source": [
    "### Filter\n",
    "\n",
    "Filter uses the syntax `[collection].filter([operation])` where the `[operation]` is a function that takes an element of the collection and returns a boolean (e.g. `Int => Bool`).  For example, the following takes a list of integers and removes all odd integers."
   ]
  },
  {
   "cell_type": "code",
   "execution_count": null,
   "metadata": {
    "collapsed": true
   },
   "outputs": [],
   "source": [
    "List(5,4,3,2,1).filter((a:Int) => a%2 == 0)"
   ]
  },
  {
   "cell_type": "markdown",
   "metadata": {},
   "source": [
    "For the following exercise, we would like to distinguish between reptiles and mammals.  Use pattern matching to implement the `isMammal` function."
   ]
  },
  {
   "cell_type": "code",
   "execution_count": null,
   "metadata": {
    "collapsed": true
   },
   "outputs": [],
   "source": [
    "sealed trait Animal\n",
    "sealed trait Mammal extends Animal\n",
    "sealed trait Reptile extends Animal\n",
    "case object Iguana extends Reptile\n",
    "case object Gecko extends Reptile\n",
    "case object Aardvark extends Mammal\n",
    "case object Mouse extends Mammal\n",
    "\n",
    "def isMammal(animal: Animal):Boolean = animal match{\n",
    "    case _ => ???\n",
    "}"
   ]
  },
  {
   "cell_type": "code",
   "execution_count": null,
   "metadata": {
    "collapsed": true
   },
   "outputs": [],
   "source": [
    "assert(isMammal(Aardvark))\n",
    "assert(isMammal(Mouse))\n",
    "assert(!isMammal(Gecko))"
   ]
  },
  {
   "cell_type": "markdown",
   "metadata": {},
   "source": [
    "Now use the `isMammal` function to filter a list for mammals."
   ]
  },
  {
   "cell_type": "code",
   "execution_count": null,
   "metadata": {
    "collapsed": true
   },
   "outputs": [],
   "source": [
    "def findMammals(animalList: List[Animal]): List[Animal] = {\n",
    "    ???\n",
    "}"
   ]
  },
  {
   "cell_type": "code",
   "execution_count": null,
   "metadata": {
    "collapsed": true
   },
   "outputs": [],
   "source": [
    "assert(findMammals(List(Gecko, Iguana,Aardvark,Mouse,Mouse)) == List(Aardvark,Mouse,Mouse))"
   ]
  },
  {
   "cell_type": "markdown",
   "metadata": {},
   "source": [
    "### FoldLeft\n",
    "\n",
    "Conceptually, we can think of `foldLeft` as accumulating some value over each element in a collection.  This could be a sum, a new collection, or more.\n",
    "\n",
    "The method `foldLeft` uses the syntax `[collection].foldLeft([base value])([operation])` where the base value is a starting value for the accumulator and the `[operation]` takes the accumulator and a value of the collection to create a new accumulator.  The example below shows how one may compute the sum of a list using `foldLeft`.  The starting value is 0 and the operation takes the sum so far and adds it to a value of the list."
   ]
  },
  {
   "cell_type": "code",
   "execution_count": 4,
   "metadata": {},
   "outputs": [
    {
     "data": {
      "text/plain": [
       "\u001b[36mres3\u001b[39m: \u001b[32mInt\u001b[39m = \u001b[32m14\u001b[39m"
      ]
     },
     "execution_count": 4,
     "metadata": {},
     "output_type": "execute_result"
    }
   ],
   "source": [
    "List(1,2,3).foldLeft(8)( (accumulator: Int, value:Int) => accumulator + value)"
   ]
  },
  {
   "cell_type": "markdown",
   "metadata": {},
   "source": [
    "Write a function that can act as `foldLeft` for `Int` values.. It should return the accumulator having applied the operation to each element of the list."
   ]
  },
  {
   "cell_type": "code",
   "execution_count": null,
   "metadata": {
    "collapsed": true
   },
   "outputs": [],
   "source": [
    "def myFold(acc : Int, list: List[Int], operation: (Int,Int) => Int):Int = list match {\n",
    "    ???\n",
    "}"
   ]
  },
  {
   "cell_type": "code",
   "execution_count": null,
   "metadata": {
    "collapsed": true
   },
   "outputs": [],
   "source": [
    "assert(myFold(0,List(1,2,3), (accumulator: Int, value:Int) => accumulator + value) == 6)"
   ]
  },
  {
   "cell_type": "markdown",
   "metadata": {},
   "source": [
    "Consider the following function from the last recitation that counts the even numbers in a list."
   ]
  },
  {
   "cell_type": "code",
   "execution_count": null,
   "metadata": {
    "collapsed": true
   },
   "outputs": [],
   "source": [
    "def countEven(list:List[Int]):Int = list match{\n",
    "    case Nil => 0\n",
    "    case h::t if(h%2 == 0) =>  1 + countEven(t)\n",
    "    case h::t =>  countEven(t)\n",
    "}\n",
    "countEven(List(1,2,2,3))"
   ]
  },
  {
   "cell_type": "markdown",
   "metadata": {},
   "source": [
    "Implement a function that counts the even elements of a list using `myFold`."
   ]
  },
  {
   "cell_type": "code",
   "execution_count": null,
   "metadata": {
    "collapsed": true
   },
   "outputs": [],
   "source": [
    "def addIfEven(acc: Int, value: Int): Int ={\n",
    "    if (value % 2 == 0) \n",
    "        acc + 1\n",
    "    else\n",
    "        acc\n",
    "}\n",
    "\n",
    "def countEvenMyFold(list:List[Int]): Int = {\n",
    "    ???\n",
    "}\n",
    "\n",
    "countEvenMyFold(List(1, 2, 3, 4, 4))"
   ]
  },
  {
   "cell_type": "code",
   "execution_count": null,
   "metadata": {
    "collapsed": true
   },
   "outputs": [],
   "source": [
    "assert(countEvenMyFold(List(1,2,2,3)) == 2)"
   ]
  },
  {
   "cell_type": "markdown",
   "metadata": {},
   "source": [
    "Implement a function that counts the even elements of a list using `foldLeft`."
   ]
  },
  {
   "cell_type": "code",
   "execution_count": null,
   "metadata": {
    "collapsed": true
   },
   "outputs": [],
   "source": [
    "def countEvenFold(list:List[Int]): Int = {\n",
    "    ???\n",
    "}\n",
    "countEvenFold(List(1, 2, 3))"
   ]
  },
  {
   "cell_type": "code",
   "execution_count": null,
   "metadata": {
    "collapsed": true
   },
   "outputs": [],
   "source": [
    "assert(countEvenFold(List(1,2,2,3)) == 2)"
   ]
  },
  {
   "cell_type": "markdown",
   "metadata": {},
   "source": [
    "Write an expression that uses `foldLeft` and evaluates to a string with the substitutions made. "
   ]
  },
  {
   "cell_type": "code",
   "execution_count": null,
   "metadata": {
    "collapsed": true
   },
   "outputs": [],
   "source": [
    "val substitutions = Map(('a','b'), ('b','c'), ('c','a'))\n",
    "\n",
    "def substitute(string:String):String = {\n",
    "    ???\n",
    "}"
   ]
  },
  {
   "cell_type": "code",
   "execution_count": null,
   "metadata": {
    "collapsed": true
   },
   "outputs": [],
   "source": [
    "assert(substitute(\"bbacq\") == \"ccba_\")"
   ]
  }
 ],
 "metadata": {
  "kernelspec": {
   "display_name": "Scala",
   "language": "scala",
   "name": "scala"
  },
  "language_info": {
   "codemirror_mode": "text/x-scala",
   "file_extension": ".scala",
   "mimetype": "text/x-scala",
   "name": "scala",
   "nbconvert_exporter": "script",
   "version": "2.12.10"
  }
 },
 "nbformat": 4,
 "nbformat_minor": 4
}
