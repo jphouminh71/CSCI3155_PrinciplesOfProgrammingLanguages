{
 "cells": [
  {
   "cell_type": "markdown",
   "metadata": {},
   "source": [
    "# This is an important topic, so pay attention"
   ]
  },
  {
   "cell_type": "markdown",
   "metadata": {},
   "source": [
    "# Lecture Examples"
   ]
  },
  {
   "cell_type": "code",
   "execution_count": 9,
   "metadata": {},
   "outputs": [
    {
     "data": {
      "text/plain": [
       "defined \u001b[32mclass\u001b[39m \u001b[36mA\u001b[39m"
      ]
     },
     "execution_count": 9,
     "metadata": {},
     "output_type": "execute_result"
    }
   ],
   "source": [
    "/*   IMPORTANT THINGS TO LOOK UP UP \n",
    "Design Patterns: The gang of four \n",
    "*/ \n",
    "class A (val t1: Int, val t2: Int){\n",
    "    \n",
    "    // members\n",
    "    var x = 0 \n",
    "    val t3 = t1 + 20 \n",
    "    \n",
    "    \n",
    "    // member functions\n",
    "    def modifyObject(newT1: Int): A = {\n",
    "        new A (newT1, t2)\n",
    "    }\n",
    "    \n",
    "    // when an instance is called toString, it will use this and not the default \n",
    "    override def toString: String = {\n",
    "        s\"A: t1 = $t1, t2 = $t2\"\n",
    "    }\n",
    "}"
   ]
  },
  {
   "cell_type": "code",
   "execution_count": 5,
   "metadata": {},
   "outputs": [
    {
     "data": {
      "text/plain": [
       "\u001b[36ma\u001b[39m: \u001b[32mA\u001b[39m = A: t1 = 10, t2 = 15\n",
       "\u001b[36ma2\u001b[39m: \u001b[32mA\u001b[39m = A: t1 = 25, t2 = 15"
      ]
     },
     "execution_count": 5,
     "metadata": {},
     "output_type": "execute_result"
    }
   ],
   "source": [
    "val a = new A (10,15)\n",
    "val a2 = a.modifyObject(25)"
   ]
  },
  {
   "cell_type": "code",
   "execution_count": 6,
   "metadata": {},
   "outputs": [
    {
     "data": {
      "text/plain": [
       "defined \u001b[32mobject\u001b[39m \u001b[36mAFactory\u001b[39m"
      ]
     },
     "execution_count": 6,
     "metadata": {},
     "output_type": "execute_result"
    }
   ],
   "source": [
    "/* \n",
    "    When you declare something as an object, there is only one instance of it that gets created\n",
    "    automatically. \n",
    "    \n",
    "    this is called the factory pattern \n",
    "*/\n",
    "object AFactory {   \n",
    "    var x = 0\n",
    "    val y = 100 \n",
    "    \n",
    "    // call a method from the outside, Factory method for A\n",
    "    def createA(t1: Int, t2: Int ): A = {\n",
    "        new A (t1, t2)   // creating an instance of A \n",
    "    }\n",
    "}"
   ]
  },
  {
   "cell_type": "code",
   "execution_count": 8,
   "metadata": {},
   "outputs": [
    {
     "data": {
      "text/plain": [
       "\u001b[36ma1\u001b[39m: \u001b[32mA\u001b[39m = A: t1 = 20, t2 = 30\n",
       "\u001b[36ma2\u001b[39m: \u001b[32mInt\u001b[39m = \u001b[32m0\u001b[39m"
      ]
     },
     "execution_count": 8,
     "metadata": {},
     "output_type": "execute_result"
    }
   ],
   "source": [
    "val a1 = AFactory.createA(20,30)\n",
    "val a2 = AFactory.x\n",
    "AFactory.x = AFactory.x + 1"
   ]
  },
  {
   "cell_type": "markdown",
   "metadata": {},
   "source": [
    "## 1. Classes and Objects and Traits"
   ]
  },
  {
   "cell_type": "code",
   "execution_count": 26,
   "metadata": {},
   "outputs": [
    {
     "data": {
      "text/plain": [
       "defined \u001b[32mclass\u001b[39m \u001b[36mEmployee\u001b[39m"
      ]
     },
     "execution_count": 26,
     "metadata": {},
     "output_type": "execute_result"
    }
   ],
   "source": [
    "class Employee(val employeeId: Int, \n",
    "             val name: String,  \n",
    "             val deptID: Int, \n",
    "             private val salary: Int, \n",
    "             val managerID:Int){\n",
    "    \n",
    "    def getID: Int = {employeeId}\n",
    "    def getName: String = {name}\n",
    "    \n",
    "    override def toString: String = {\n",
    "        s\"$name ($deptID --> $managerID)\"\n",
    "    }\n",
    "    \n",
    "}"
   ]
  },
  {
   "cell_type": "code",
   "execution_count": 17,
   "metadata": {},
   "outputs": [
    {
     "data": {
      "text/plain": [
       "defined \u001b[32mobject\u001b[39m \u001b[36mEmployee\u001b[39m"
      ]
     },
     "execution_count": 17,
     "metadata": {},
     "output_type": "execute_result"
    }
   ],
   "source": [
    "/* This is called the companion object */\n",
    "object EmployeeFactory{\n",
    "    def createEmployee(id: Int, name: String, deptID: Int): Employee = {\n",
    "        new Employee(id, name, deptID, 1000000, -1)\n",
    "    }\n",
    "}"
   ]
  },
  {
   "cell_type": "code",
   "execution_count": 27,
   "metadata": {},
   "outputs": [
    {
     "data": {
      "text/plain": [
       "\u001b[36memployee1\u001b[39m: \u001b[32mEmployee\u001b[39m = Jim the Programmer (10 --> 10)"
      ]
     },
     "execution_count": 27,
     "metadata": {},
     "output_type": "execute_result"
    }
   ],
   "source": [
    "/* directly construct the object through the class with the \"new\" method*/\n",
    "val employee1 = new Employee(10, \"Jim the Programmer\", 10, 100000, 10)\n"
   ]
  },
  {
   "cell_type": "code",
   "execution_count": 25,
   "metadata": {},
   "outputs": [
    {
     "data": {
      "text/plain": [
       "\u001b[36memployee2\u001b[39m: \u001b[32mcmd15\u001b[39m.\u001b[32minstance\u001b[39m.\u001b[32mEmployee\u001b[39m = name: Jane the Manager , id: 10"
      ]
     },
     "execution_count": 25,
     "metadata": {},
     "output_type": "execute_result"
    }
   ],
   "source": [
    "/* constructing the object through a factory method! */\n",
    "val employee2 = Employee.createEmployee(11, \"Jane the Manager\", 10)\n"
   ]
  },
  {
   "cell_type": "markdown",
   "metadata": {},
   "source": [
    "# Inheritance"
   ]
  },
  {
   "cell_type": "code",
   "execution_count": 28,
   "metadata": {},
   "outputs": [
    {
     "data": {
      "text/plain": [
       "defined \u001b[32mclass\u001b[39m \u001b[36mAnimal\u001b[39m"
      ]
     },
     "execution_count": 28,
     "metadata": {},
     "output_type": "execute_result"
    }
   ],
   "source": [
    "/* This is the base class , think of it as the the blueprint to all other classes that will inherit from it*/\n",
    "class Animal {\n",
    "    val genus: String = \"Generic Genus\"\n",
    "    val species: String = \"Unkown Species\"\n",
    "    val numberOfLegs: Int = -1\n",
    "    val sound: String = \"Silent\"\n",
    "}"
   ]
  },
  {
   "cell_type": "code",
   "execution_count": 33,
   "metadata": {},
   "outputs": [
    {
     "data": {
      "text/plain": [
       "defined \u001b[32mclass\u001b[39m \u001b[36mHuman\u001b[39m"
      ]
     },
     "execution_count": 33,
     "metadata": {},
     "output_type": "execute_result"
    }
   ],
   "source": [
    "// inheriting from Animal \n",
    "class Human extends Animal{\n",
    "    \n",
    "    // if we are going to override the inherited definition then we HAVE to override it, similar to swift \n",
    "    override val genus: String = \"Homo\"\n",
    "    override val species: String = \"Sapiens\"\n",
    "    override val numberOfLegs: Int = 2\n",
    "    override val sound: String = \"Speech\"\n",
    "    \n",
    "    /* creating new methods and attributes that are ONLY SPECIFIC to humans */ \n",
    "    def print() = {\n",
    "        println(s\"The genus of a human is $genus\")\n",
    "    }\n",
    "}"
   ]
  },
  {
   "cell_type": "code",
   "execution_count": 35,
   "metadata": {},
   "outputs": [
    {
     "name": "stdout",
     "output_type": "stream",
     "text": [
      "2\n",
      "The genus of a human is Homo\n",
      "()\n"
     ]
    },
    {
     "data": {
      "text/plain": [
       "\u001b[36mh1\u001b[39m: \u001b[32mHuman\u001b[39m = ammonite.$sess.cmd32$Helper$Human@600a4fed"
      ]
     },
     "execution_count": 35,
     "metadata": {},
     "output_type": "execute_result"
    }
   ],
   "source": [
    "val h1 = new Human()\n",
    "println(h1. numberOfLegs)\n",
    "println(h1.print())\n",
    "\n",
    "/* This is the very general idea behind inheritance */"
   ]
  },
  {
   "cell_type": "code",
   "execution_count": 45,
   "metadata": {},
   "outputs": [
    {
     "data": {
      "text/plain": [
       "defined \u001b[32mobject\u001b[39m \u001b[36mPeopleFactory\u001b[39m"
      ]
     },
     "execution_count": 45,
     "metadata": {},
     "output_type": "execute_result"
    }
   ],
   "source": [
    "/* create a factory method of the manager as an excercise below \n",
    "    this does not allow the user to directly call the method in a client api \n",
    "    \n",
    "    function that gets \n",
    "*/ \n",
    "object PeopleFactory{\n",
    "    def makeNewManager(id: Int, name: String, listOfSub: List[Int]) = \n",
    "        new Manager(id, name, listOfSub)\n",
    "    \n",
    "    \n",
    "}"
   ]
  },
  {
   "cell_type": "code",
   "execution_count": 33,
   "metadata": {},
   "outputs": [
    {
     "data": {
      "text/plain": [
       "defined \u001b[32mclass\u001b[39m \u001b[36mEmployee\u001b[39m"
      ]
     },
     "execution_count": 33,
     "metadata": {},
     "output_type": "execute_result"
    }
   ],
   "source": [
    "class Employee(val employeeID: Int,\n",
    "               val name: String,\n",
    "               val employeeType: Int){\n",
    "    def getDetails: String = {\n",
    "        s\"Employee $employeeID named: $name, and type of employee is $employeeType\"\n",
    "    }\n",
    "}"
   ]
  },
  {
   "cell_type": "code",
   "execution_count": 35,
   "metadata": {},
   "outputs": [
    {
     "data": {
      "text/plain": [
       "defined \u001b[32mclass\u001b[39m \u001b[36mManager\u001b[39m"
      ]
     },
     "execution_count": 35,
     "metadata": {},
     "output_type": "execute_result"
    }
   ],
   "source": [
    "/* In scala if we want to inherit and we have any parameters we have to override the previous ones we did*/\n",
    "class Manager(override val employeeID: Int,\n",
    "              override val name: String, \n",
    "              val listOfSubs: List[Int]) \n",
    "                extends Employee(employeeID, name, 2){\n",
    "                    \n",
    "                // overriding the getDetails menu \n",
    "                    override def getDetails:String = {\n",
    "                        s\"Manager $employeeID name $name  listOfSubs $listOfSubs\"\n",
    "                    }\n",
    "}"
   ]
  },
  {
   "cell_type": "code",
   "execution_count": 42,
   "metadata": {},
   "outputs": [
    {
     "data": {
      "text/plain": [
       "defined \u001b[32mclass\u001b[39m \u001b[36mProgrammer\u001b[39m"
      ]
     },
     "execution_count": 42,
     "metadata": {},
     "output_type": "execute_result"
    }
   ],
   "source": [
    "/* creating a new class that will derive from A */\n",
    "class Programmer(override val employeeID: Int, \n",
    "                 override val name: String, \n",
    "                 val listOfSkills: List[String]) extends Employee(employeeID, name, 3)"
   ]
  },
  {
   "cell_type": "code",
   "execution_count": null,
   "metadata": {
    "collapsed": true
   },
   "outputs": [],
   "source": [
    "/*  Here is the hierarchy so far \n",
    "\n",
    "                    Employee\n",
    "            /                   \\\n",
    "        manager                programmer \n",
    "\n",
    "*/"
   ]
  },
  {
   "cell_type": "code",
   "execution_count": 54,
   "metadata": {},
   "outputs": [
    {
     "data": {
      "text/plain": [
       "defined \u001b[32mfunction\u001b[39m \u001b[36mgetEmployeeDetails\u001b[39m"
      ]
     },
     "execution_count": 54,
     "metadata": {},
     "output_type": "execute_result"
    }
   ],
   "source": [
    "/* just a helper mmethod to call the getdetails for all of them */ \n",
    "/* notice how we can just pass everything as type 'Employee' but they actually do different things!! \n",
    "This is awesome */ \n",
    "def getEmployeeDetails(e: Employee) = println(e.getDetails)"
   ]
  },
  {
   "cell_type": "code",
   "execution_count": 52,
   "metadata": {},
   "outputs": [
    {
     "data": {
      "text/plain": [
       "\u001b[36me1\u001b[39m: \u001b[32mEmployee\u001b[39m = ammonite.$sess.cmd40$Helper$Employee@6ae3908\n",
       "\u001b[36mm1\u001b[39m: \u001b[32mManager\u001b[39m = ammonite.$sess.cmd46$Helper$Manager@602033a6\n",
       "\u001b[36mp1\u001b[39m: \u001b[32mProgrammer\u001b[39m = ammonite.$sess.cmd41$Helper$Programmer@23b6883"
      ]
     },
     "execution_count": 52,
     "metadata": {},
     "output_type": "execute_result"
    }
   ],
   "source": [
    "// now do some testing \n",
    "val e1 = new Employee(1, \"Jim James\", 5)\n",
    "val m1 = new Manager(2, \"jane manager\", List(1,2,3,4,5))\n",
    "val p1 = new Programmer(7, \"Lilibeth Programmer\", List(\"Scala\", \"Python\", \"Sehll Script\", \"Emacs\", \"VIM\"))"
   ]
  },
  {
   "cell_type": "code",
   "execution_count": 55,
   "metadata": {},
   "outputs": [
    {
     "name": "stdout",
     "output_type": "stream",
     "text": [
      "Employee 1 named: Jim James, and type of employee is 5\n",
      "Manager 2 name jane manager  listOfSubs List(1, 2, 3, 4, 5)\n",
      "Employee 7 named: Lilibeth Programmer, and type of employee is 3\n"
     ]
    }
   ],
   "source": [
    "getEmployeeDetails(e1)\n",
    "getEmployeeDetails(m1)\n",
    "getEmployeeDetails(p1)"
   ]
  },
  {
   "cell_type": "markdown",
   "metadata": {},
   "source": [
    "# trait section"
   ]
  },
  {
   "cell_type": "markdown",
   "metadata": {},
   "source": [
    "Just like an object, a trait can also be inherited from, but the difference is that you cannot instanstiate a traite, everything will be pre-defined"
   ]
  },
  {
   "cell_type": "code",
   "execution_count": 58,
   "metadata": {},
   "outputs": [
    {
     "data": {
      "text/plain": [
       "defined \u001b[32mtrait\u001b[39m \u001b[36mPerson\u001b[39m"
      ]
     },
     "execution_count": 58,
     "metadata": {},
     "output_type": "execute_result"
    }
   ],
   "source": [
    "/* this is the same in other langauges as an 'abstract class' */\n",
    "trait Person {\n",
    "    val personID: Int  // some member fields\n",
    "    val name: String = \"John Doe\"\n",
    "    val ssn: String = \"xxx-xx-xxxx\"\n",
    "    def getPersonID: Int = {personID}   // method with definition \n",
    "    def isValidPerson: Boolean   // Method without any definitions , must be defined if used \n",
    "}"
   ]
  },
  {
   "cell_type": "code",
   "execution_count": 57,
   "metadata": {},
   "outputs": [
    {
     "data": {
      "text/plain": [
       "defined \u001b[32mclass\u001b[39m \u001b[36mPhilosopher\u001b[39m"
      ]
     },
     "execution_count": 57,
     "metadata": {},
     "output_type": "execute_result"
    }
   ],
   "source": [
    "/* remember you have to override because name and person ID were predefined in the trait */\n",
    "class Philosopher(override val personID: Int, \n",
    "                  override val name: String, \n",
    "                  val schoolOfPhilosophy: String) extends Person {\n",
    "    \n",
    "    def isValidPerson: Boolean = {\n",
    "        schoolOfPhilosophy != \"Nihilist\"\n",
    "    }\n",
    "}"
   ]
  },
  {
   "cell_type": "markdown",
   "metadata": {},
   "source": [
    "# Mixin Inheritance"
   ]
  },
  {
   "cell_type": "code",
   "execution_count": 58,
   "metadata": {},
   "outputs": [
    {
     "name": "stderr",
     "output_type": "stream",
     "text": [
      "cmd58.sc:5: not enough arguments for constructor Philosopher: (personID: Int, name: String, schoolOfPhilosophy: String)cmd58.this.cmd56.Philosopher.\n",
      "Unspecified value parameters personID, name, schoolOfPhilosophy.\n",
      "class Pyschologist extends Philosopher with  Scientist\n",
      "                           ^Compilation Failed"
     ]
    },
    {
     "ename": "",
     "evalue": "",
     "output_type": "error",
     "traceback": [
      "Compilation Failed"
     ]
    }
   ],
   "source": [
    "trait Scientist {\n",
    "    // .. define some scientist stuff \n",
    "}\n",
    "\n",
    "// this is called Mixin composition, it is not the same as multiple inheritance \n",
    "class Pyschologist extends Philosopher with Scientist"
   ]
  },
  {
   "cell_type": "markdown",
   "metadata": {
    "collapsed": true
   },
   "source": [
    "# Lecture Notes pt 2"
   ]
  },
  {
   "cell_type": "markdown",
   "metadata": {},
   "source": [
    "# Trait vs Abstract Class \n",
    "\n",
    "Traits are not by themseleves, objects. The only way you can instantiate a trait is through a derived class or object. When you inherit from a trait is is known as a \"mixin\". Think of traits as a bare bones skeleton and you have to go through and define everything \n",
    "\n",
    "\n",
    "Traits are useful to add on the side inside of existing class hierachies. Traits cannot inherit from a class. \n",
    "\n",
    "\n",
    "You cannot use multiple inheritance with an abstract class "
   ]
  },
  {
   "cell_type": "code",
   "execution_count": 37,
   "metadata": {},
   "outputs": [
    {
     "data": {
      "text/plain": [
       "defined \u001b[32mclass\u001b[39m \u001b[36mEmployee\u001b[39m\n",
       "defined \u001b[32mtrait\u001b[39m \u001b[36mPerks\u001b[39m"
      ]
     },
     "execution_count": 37,
     "metadata": {},
     "output_type": "execute_result"
    }
   ],
   "source": [
    "// Generics\n",
    "abstract class Employee {\n",
    "    val name: String = \"Jane/Joe Employee\" // undefined attribute\n",
    "    val id: Int = -1 // undefined \n",
    "    override def toString = {s\"name $name   id $id\"}\n",
    "}\n",
    "\n",
    "/* You dont want this to be part of the class hierarchy, you want it on the side */\n",
    "trait Perks{\n",
    "    val freeLunch: Boolean\n",
    "    val valetParking: Boolean\n",
    "    val reservedParking: Boolean\n",
    "    val foozBallAccess: Boolean\n",
    "    \n",
    "    def whatAreMyPerks: String = {\n",
    "        s\"My Perks are,  freeLunch: ${freeLunch}  valetParking: ${valetParking}  reservedParking: ${reservedParking}  foozBallAccess: ${foozBallAccess}\"\n",
    "            \n",
    "    }\n",
    "}"
   ]
  },
  {
   "cell_type": "code",
   "execution_count": 38,
   "metadata": {},
   "outputs": [
    {
     "data": {
      "text/plain": [
       "defined \u001b[32mclass\u001b[39m \u001b[36mManager2\u001b[39m"
      ]
     },
     "execution_count": 38,
     "metadata": {},
     "output_type": "execute_result"
    }
   ],
   "source": [
    "/* you have said that manager extends the Employee, with perks as a another place to derive from */\n",
    "abstract class Manager2 extends Employee with Perks{\n",
    "    val listOfManagees: List[Int] // undefined\n",
    "    val freeLunch: Boolean = true \n",
    "    val foozBallAccess: Boolean = false\n",
    "}"
   ]
  },
  {
   "cell_type": "code",
   "execution_count": 39,
   "metadata": {},
   "outputs": [
    {
     "data": {
      "text/plain": [
       "defined \u001b[32mclass\u001b[39m \u001b[36mMidLevelManager\u001b[39m"
      ]
     },
     "execution_count": 39,
     "metadata": {},
     "output_type": "execute_result"
    }
   ],
   "source": [
    "/* You only need to override if things are already defined */\n",
    "class MidLevelManager (override val name: String, \n",
    "                       override val id: Int, \n",
    "                       val listOfManagees: List[Int]) extends Manager2{\n",
    "    \n",
    "    /* have to define the rest of the Perk traits*/\n",
    "    val reservedParking = true\n",
    "    val valetParking = true\n",
    "}"
   ]
  },
  {
   "cell_type": "code",
   "execution_count": 40,
   "metadata": {},
   "outputs": [
    {
     "data": {
      "text/plain": [
       "defined \u001b[32mclass\u001b[39m \u001b[36mEngineer\u001b[39m"
      ]
     },
     "execution_count": 40,
     "metadata": {},
     "output_type": "execute_result"
    }
   ],
   "source": [
    "class Engineer(override val name: String, override val id: Int, val qualifications: String) extends Employee with Perks{\n",
    "    val freeLunch: Boolean = false\n",
    "    val valetParking: Boolean = false\n",
    "    val reservedParking: Boolean = false\n",
    "    val foozBallAccess: Boolean = true\n",
    "}"
   ]
  },
  {
   "cell_type": "code",
   "execution_count": 40,
   "metadata": {},
   "outputs": [
    {
     "name": "stderr",
     "output_type": "stream",
     "text": [
      "cmd40.sc:1: not enough arguments for constructor Engineer: (name: String, id: Int, qualifications: String)cmd40.this.cmd39.Engineer.\n",
      "Unspecified value parameters id, qualifications.\n",
      "class Programmer(override val name: String, override val id: Int) extends Engineer(\"knows how to hack\")\n",
      "                                                                          ^Compilation Failed"
     ]
    },
    {
     "ename": "",
     "evalue": "",
     "output_type": "error",
     "traceback": [
      "Compilation Failed"
     ]
    }
   ],
   "source": [
    "class Programmer(override val name: String, override val id: Int) extends Engineer(\"knows how to hack\")"
   ]
  },
  {
   "cell_type": "code",
   "execution_count": 41,
   "metadata": {},
   "outputs": [
    {
     "data": {
      "text/plain": [
       "defined \u001b[32mclass\u001b[39m \u001b[36mHardwareWorker\u001b[39m"
      ]
     },
     "execution_count": 41,
     "metadata": {},
     "output_type": "execute_result"
    }
   ],
   "source": [
    "class HardwareWorker(override val name: String, override val id: Int) extends Engineer(name, id, \"hackerman\")"
   ]
  },
  {
   "cell_type": "code",
   "execution_count": 51,
   "metadata": {},
   "outputs": [
    {
     "name": "stdout",
     "output_type": "stream",
     "text": [
      "My Perks are,  freeLunch: false  valetParking: false  reservedParking: false  foozBallAccess: true\n"
     ]
    },
    {
     "data": {
      "text/plain": [
       "\u001b[36mh1\u001b[39m: \u001b[32mHardwareWorker\u001b[39m = name Jane Solder   id 25"
      ]
     },
     "execution_count": 51,
     "metadata": {},
     "output_type": "execute_result"
    }
   ],
   "source": [
    "val h1 = new HardwareWorker(\"Jane Solder\", 25)\n",
    "println(h1.whatAreMyPerks)"
   ]
  },
  {
   "cell_type": "markdown",
   "metadata": {},
   "source": [
    "# Shifting the topic to Generics fo Classes and Traits"
   ]
  },
  {
   "cell_type": "code",
   "execution_count": 42,
   "metadata": {},
   "outputs": [
    {
     "data": {
      "text/plain": [
       "defined \u001b[32mfunction\u001b[39m \u001b[36mprettyPrintObject\u001b[39m"
      ]
     },
     "execution_count": 42,
     "metadata": {},
     "output_type": "execute_result"
    }
   ],
   "source": [
    "// Generics\n",
    "\n",
    "def prettyPrintObject[T](t: T): String = {\n",
    "    t.toString\n",
    "}"
   ]
  },
  {
   "cell_type": "code",
   "execution_count": 43,
   "metadata": {},
   "outputs": [
    {
     "data": {
      "text/plain": [
       "\u001b[36mv1\u001b[39m: \u001b[32mString\u001b[39m = \u001b[32m\"List(1, 2, 3, 4)\"\u001b[39m\n",
       "\u001b[36mv2\u001b[39m: \u001b[32mString\u001b[39m = \u001b[32m\"name Jane Solder   id 25\"\u001b[39m"
      ]
     },
     "execution_count": 43,
     "metadata": {},
     "output_type": "execute_result"
    }
   ],
   "source": [
    "val v1 = prettyPrintObject(List(1,2,3,4)) // T == List[Int]\n",
    "//val v1 = prettyPrintObject[List[Int]](List(1,2,3,4)) // T == List[Int], if you don't trust the type inference\n",
    "val v2 = prettyPrintObject(h1) // T == HardwareWorker"
   ]
  },
  {
   "cell_type": "code",
   "execution_count": 44,
   "metadata": {},
   "outputs": [
    {
     "data": {
      "text/plain": [
       "defined \u001b[32mfunction\u001b[39m \u001b[36mprettyPrintObject\u001b[39m"
      ]
     },
     "execution_count": 44,
     "metadata": {},
     "output_type": "execute_result"
    }
   ],
   "source": [
    "def prettyPrintObject[T](t: T): String = {\n",
    "    if (t.isInstanceOf[Manager2]){ // checking if type works\n",
    "        val m: Manager2 = t.asInstanceOf[Manager2]  // Dynamic Type Casting ==> can fail \n",
    "        m.whatAreMyPerks\n",
    "        \n",
    "    }\n",
    "    else{\n",
    "        \"hi\"\n",
    "    }\n",
    "}"
   ]
  },
  {
   "cell_type": "code",
   "execution_count": 45,
   "metadata": {},
   "outputs": [
    {
     "data": {
      "text/plain": [
       "\u001b[36mm1\u001b[39m: \u001b[32mMidLevelManager\u001b[39m = name Joe Manager   id 10"
      ]
     },
     "execution_count": 45,
     "metadata": {},
     "output_type": "execute_result"
    }
   ],
   "source": [
    "val m1 = new MidLevelManager(\"Joe Manager\", 10, List(10,2,25))"
   ]
  },
  {
   "cell_type": "code",
   "execution_count": 47,
   "metadata": {},
   "outputs": [
    {
     "data": {
      "text/plain": [
       "defined \u001b[32mclass\u001b[39m \u001b[36mPrettyPrinter\u001b[39m"
      ]
     },
     "execution_count": 47,
     "metadata": {},
     "output_type": "execute_result"
    }
   ],
   "source": [
    "class PrettyPrinter[T] (val t: T) {   // T is called a type parameter\n",
    "    \n",
    "    override def toString: String = \" Pretty Printer --> \" + t.toString\n",
    "    \n",
    "    def logMessage(msg: String) = \"Log --> \" + msg + \": \" + t.toString \n",
    "}"
   ]
  },
  {
   "cell_type": "code",
   "execution_count": 52,
   "metadata": {},
   "outputs": [
    {
     "data": {
      "text/plain": [
       "\u001b[36mp1\u001b[39m: \u001b[32mPrettyPrinter\u001b[39m[\u001b[32mInt\u001b[39m] =  Pretty Printer --> 10\n",
       "\u001b[36mp2\u001b[39m: \u001b[32mPrettyPrinter\u001b[39m[\u001b[32mHardwareWorker\u001b[39m] =  Pretty Printer --> name Jane Solder   id 25"
      ]
     },
     "execution_count": 52,
     "metadata": {},
     "output_type": "execute_result"
    }
   ],
   "source": [
    "val p1 = new PrettyPrinter[Int](10)\n",
    "val p2 = new PrettyPrinter[HardwareWorker](h1)"
   ]
  },
  {
   "cell_type": "code",
   "execution_count": 53,
   "metadata": {},
   "outputs": [
    {
     "data": {
      "text/plain": [
       "\u001b[36mres52_0\u001b[39m: \u001b[32mString\u001b[39m = \u001b[32m\"Log --> message: 10\"\u001b[39m\n",
       "\u001b[36mres52_1\u001b[39m: \u001b[32mString\u001b[39m = \u001b[32m\"Log --> Employee Violation: name Jane Solder   id 25\"\u001b[39m"
      ]
     },
     "execution_count": 53,
     "metadata": {},
     "output_type": "execute_result"
    }
   ],
   "source": [
    "p1.logMessage(\"message\")\n",
    "p2.logMessage(\"Employee Violation\")"
   ]
  },
  {
   "cell_type": "code",
   "execution_count": 54,
   "metadata": {},
   "outputs": [
    {
     "data": {
      "text/plain": [
       "\u001b[36ml1\u001b[39m: \u001b[32mList\u001b[39m[\u001b[32mInt\u001b[39m] = \u001b[33mList\u001b[39m(\u001b[32m1\u001b[39m, \u001b[32m2\u001b[39m, \u001b[32m3\u001b[39m, \u001b[32m4\u001b[39m, \u001b[32m5\u001b[39m, \u001b[32m6\u001b[39m)\n",
       "\u001b[36ml2\u001b[39m: \u001b[32mList\u001b[39m[\u001b[32mString\u001b[39m] = \u001b[33mList\u001b[39m(\u001b[32m\"1\"\u001b[39m, \u001b[32m\"2\"\u001b[39m, \u001b[32m\"45\"\u001b[39m)"
      ]
     },
     "execution_count": 54,
     "metadata": {},
     "output_type": "execute_result"
    }
   ],
   "source": [
    "val l1 = List(1,2,3,4,5,6) // List[Int]\n",
    "val l2 = List(\"1\", \"2\", \"45\") // List[String]"
   ]
  },
  {
   "cell_type": "code",
   "execution_count": 55,
   "metadata": {},
   "outputs": [
    {
     "data": {
      "text/plain": [
       "\u001b[36ml3\u001b[39m: \u001b[32mList\u001b[39m[\u001b[32mAny\u001b[39m] = \u001b[33mList\u001b[39m(\n",
       "  \u001b[32m\"1\"\u001b[39m,\n",
       "  \u001b[32m2\u001b[39m,\n",
       "  \u001b[32m\"3\"\u001b[39m,\n",
       "  name Jane Solder   id 25,\n",
       "  name Joe Manager   id 10\n",
       ")"
      ]
     },
     "execution_count": 55,
     "metadata": {},
     "output_type": "execute_result"
    }
   ],
   "source": [
    "val l3 = List(\"1\", 2, \"3\", h1, m1) // List[Any]"
   ]
  },
  {
   "cell_type": "code",
   "execution_count": null,
   "metadata": {
    "collapsed": true
   },
   "outputs": [],
   "source": []
  },
  {
   "cell_type": "code",
   "execution_count": null,
   "metadata": {
    "collapsed": true
   },
   "outputs": [],
   "source": []
  }
 ],
 "metadata": {
  "kernelspec": {
   "display_name": "Scala",
   "language": "scala",
   "name": "scala"
  },
  "language_info": {
   "codemirror_mode": "text/x-scala",
   "file_extension": ".scala",
   "mimetype": "text/x-scala",
   "name": "scala",
   "nbconvert_exporter": "script",
   "version": "2.12.10"
  }
 },
 "nbformat": 4,
 "nbformat_minor": 2
}
