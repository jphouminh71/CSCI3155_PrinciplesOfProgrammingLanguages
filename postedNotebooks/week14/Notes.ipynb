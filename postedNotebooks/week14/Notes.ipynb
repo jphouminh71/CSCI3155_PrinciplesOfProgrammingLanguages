{
 "cells": [
  {
   "cell_type": "markdown",
   "metadata": {},
   "source": [
    "# This is an important topic, so pay attention"
   ]
  },
  {
   "cell_type": "markdown",
   "metadata": {},
   "source": [
    "# Lecture Examples"
   ]
  },
  {
   "cell_type": "code",
   "execution_count": 9,
   "metadata": {},
   "outputs": [
    {
     "data": {
      "text/plain": [
       "defined \u001b[32mclass\u001b[39m \u001b[36mA\u001b[39m"
      ]
     },
     "execution_count": 9,
     "metadata": {},
     "output_type": "execute_result"
    }
   ],
   "source": [
    "/*   IMPORTANT THINGS TO LOOK UP UP \n",
    "Design Patterns: The gang of four \n",
    "*/ \n",
    "class A (val t1: Int, val t2: Int){\n",
    "    \n",
    "    // members\n",
    "    var x = 0 \n",
    "    val t3 = t1 + 20 \n",
    "    \n",
    "    \n",
    "    // member functions\n",
    "    def modifyObject(newT1: Int): A = {\n",
    "        new A (newT1, t2)\n",
    "    }\n",
    "    \n",
    "    // when an instance is called toString, it will use this and not the default \n",
    "    override def toString: String = {\n",
    "        s\"A: t1 = $t1, t2 = $t2\"\n",
    "    }\n",
    "}"
   ]
  },
  {
   "cell_type": "code",
   "execution_count": 5,
   "metadata": {},
   "outputs": [
    {
     "data": {
      "text/plain": [
       "\u001b[36ma\u001b[39m: \u001b[32mA\u001b[39m = A: t1 = 10, t2 = 15\n",
       "\u001b[36ma2\u001b[39m: \u001b[32mA\u001b[39m = A: t1 = 25, t2 = 15"
      ]
     },
     "execution_count": 5,
     "metadata": {},
     "output_type": "execute_result"
    }
   ],
   "source": [
    "val a = new A (10,15)\n",
    "val a2 = a.modifyObject(25)"
   ]
  },
  {
   "cell_type": "code",
   "execution_count": 6,
   "metadata": {},
   "outputs": [
    {
     "data": {
      "text/plain": [
       "defined \u001b[32mobject\u001b[39m \u001b[36mAFactory\u001b[39m"
      ]
     },
     "execution_count": 6,
     "metadata": {},
     "output_type": "execute_result"
    }
   ],
   "source": [
    "/* \n",
    "    When you declare something as an object, there is only one instance of it that gets created\n",
    "    automatically. \n",
    "    \n",
    "    this is called the factory pattern \n",
    "*/\n",
    "object AFactory {   \n",
    "    var x = 0\n",
    "    val y = 100 \n",
    "    \n",
    "    // call a method from the outside, Factory method for A\n",
    "    def createA(t1: Int, t2: Int ): A = {\n",
    "        new A (t1, t2)   // creating an instance of A \n",
    "    }\n",
    "}"
   ]
  },
  {
   "cell_type": "code",
   "execution_count": 8,
   "metadata": {},
   "outputs": [
    {
     "data": {
      "text/plain": [
       "\u001b[36ma1\u001b[39m: \u001b[32mA\u001b[39m = A: t1 = 20, t2 = 30\n",
       "\u001b[36ma2\u001b[39m: \u001b[32mInt\u001b[39m = \u001b[32m0\u001b[39m"
      ]
     },
     "execution_count": 8,
     "metadata": {},
     "output_type": "execute_result"
    }
   ],
   "source": [
    "val a1 = AFactory.createA(20,30)\n",
    "val a2 = AFactory.x\n",
    "AFactory.x = AFactory.x + 1"
   ]
  },
  {
   "cell_type": "markdown",
   "metadata": {},
   "source": [
    "## 1. Classes and Objects and Traits"
   ]
  },
  {
   "cell_type": "code",
   "execution_count": 26,
   "metadata": {},
   "outputs": [
    {
     "data": {
      "text/plain": [
       "defined \u001b[32mclass\u001b[39m \u001b[36mEmployee\u001b[39m"
      ]
     },
     "execution_count": 26,
     "metadata": {},
     "output_type": "execute_result"
    }
   ],
   "source": [
    "class Employee(val employeeId: Int, \n",
    "             val name: String,  \n",
    "             val deptID: Int, \n",
    "             private val salary: Int, \n",
    "             val managerID:Int){\n",
    "    \n",
    "    def getID: Int = {employeeId}\n",
    "    def getName: String = {name}\n",
    "    \n",
    "    override def toString: String = {\n",
    "        s\"$name ($deptID --> $managerID)\"\n",
    "    }\n",
    "    \n",
    "}"
   ]
  },
  {
   "cell_type": "code",
   "execution_count": 17,
   "metadata": {},
   "outputs": [
    {
     "data": {
      "text/plain": [
       "defined \u001b[32mobject\u001b[39m \u001b[36mEmployee\u001b[39m"
      ]
     },
     "execution_count": 17,
     "metadata": {},
     "output_type": "execute_result"
    }
   ],
   "source": [
    "/* This is called the companion object */\n",
    "object EmployeeFactory{\n",
    "    def createEmployee(id: Int, name: String, deptID: Int): Employee = {\n",
    "        new Employee(id, name, deptID, 1000000, -1)\n",
    "    }\n",
    "}"
   ]
  },
  {
   "cell_type": "code",
   "execution_count": 27,
   "metadata": {},
   "outputs": [
    {
     "data": {
      "text/plain": [
       "\u001b[36memployee1\u001b[39m: \u001b[32mEmployee\u001b[39m = Jim the Programmer (10 --> 10)"
      ]
     },
     "execution_count": 27,
     "metadata": {},
     "output_type": "execute_result"
    }
   ],
   "source": [
    "/* directly construct the object through the class with the \"new\" method*/\n",
    "val employee1 = new Employee(10, \"Jim the Programmer\", 10, 100000, 10)\n"
   ]
  },
  {
   "cell_type": "code",
   "execution_count": 25,
   "metadata": {},
   "outputs": [
    {
     "data": {
      "text/plain": [
       "\u001b[36memployee2\u001b[39m: \u001b[32mcmd15\u001b[39m.\u001b[32minstance\u001b[39m.\u001b[32mEmployee\u001b[39m = name: Jane the Manager , id: 10"
      ]
     },
     "execution_count": 25,
     "metadata": {},
     "output_type": "execute_result"
    }
   ],
   "source": [
    "/* constructing the object through a factory method! */\n",
    "val employee2 = Employee.createEmployee(11, \"Jane the Manager\", 10)\n"
   ]
  },
  {
   "cell_type": "markdown",
   "metadata": {},
   "source": [
    "# Inheritance"
   ]
  },
  {
   "cell_type": "code",
   "execution_count": 28,
   "metadata": {},
   "outputs": [
    {
     "data": {
      "text/plain": [
       "defined \u001b[32mclass\u001b[39m \u001b[36mAnimal\u001b[39m"
      ]
     },
     "execution_count": 28,
     "metadata": {},
     "output_type": "execute_result"
    }
   ],
   "source": [
    "/* This is the base class , think of it as the the blueprint to all other classes that will inherit from it*/\n",
    "class Animal {\n",
    "    val genus: String = \"Generic Genus\"\n",
    "    val species: String = \"Unkown Species\"\n",
    "    val numberOfLegs: Int = -1\n",
    "    val sound: String = \"Silent\"\n",
    "}"
   ]
  },
  {
   "cell_type": "code",
   "execution_count": 33,
   "metadata": {},
   "outputs": [
    {
     "data": {
      "text/plain": [
       "defined \u001b[32mclass\u001b[39m \u001b[36mHuman\u001b[39m"
      ]
     },
     "execution_count": 33,
     "metadata": {},
     "output_type": "execute_result"
    }
   ],
   "source": [
    "// inheriting from Animal \n",
    "class Human extends Animal{\n",
    "    \n",
    "    // if we are going to override the inherited definition then we HAVE to override it, similar to swift \n",
    "    override val genus: String = \"Homo\"\n",
    "    override val species: String = \"Sapiens\"\n",
    "    override val numberOfLegs: Int = 2\n",
    "    override val sound: String = \"Speech\"\n",
    "    \n",
    "    /* creating new methods and attributes that are ONLY SPECIFIC to humans */ \n",
    "    def print() = {\n",
    "        println(s\"The genus of a human is $genus\")\n",
    "    }\n",
    "}"
   ]
  },
  {
   "cell_type": "code",
   "execution_count": 35,
   "metadata": {},
   "outputs": [
    {
     "name": "stdout",
     "output_type": "stream",
     "text": [
      "2\n",
      "The genus of a human is Homo\n",
      "()\n"
     ]
    },
    {
     "data": {
      "text/plain": [
       "\u001b[36mh1\u001b[39m: \u001b[32mHuman\u001b[39m = ammonite.$sess.cmd32$Helper$Human@600a4fed"
      ]
     },
     "execution_count": 35,
     "metadata": {},
     "output_type": "execute_result"
    }
   ],
   "source": [
    "val h1 = new Human()\n",
    "println(h1. numberOfLegs)\n",
    "println(h1.print())\n",
    "\n",
    "/* This is the very general idea behind inheritance */"
   ]
  },
  {
   "cell_type": "code",
   "execution_count": 45,
   "metadata": {},
   "outputs": [
    {
     "data": {
      "text/plain": [
       "defined \u001b[32mobject\u001b[39m \u001b[36mPeopleFactory\u001b[39m"
      ]
     },
     "execution_count": 45,
     "metadata": {},
     "output_type": "execute_result"
    }
   ],
   "source": [
    "/* create a factory method of the manager as an excercise below \n",
    "    this does not allow the user to directly call the method in a client api \n",
    "    \n",
    "    function that gets \n",
    "*/ \n",
    "object PeopleFactory{\n",
    "    def makeNewManager(id: Int, name: String, listOfSub: List[Int]) = \n",
    "        new Manager(id, name, listOfSub)\n",
    "    \n",
    "    \n",
    "}"
   ]
  },
  {
   "cell_type": "code",
   "execution_count": 33,
   "metadata": {},
   "outputs": [
    {
     "data": {
      "text/plain": [
       "defined \u001b[32mclass\u001b[39m \u001b[36mEmployee\u001b[39m"
      ]
     },
     "execution_count": 33,
     "metadata": {},
     "output_type": "execute_result"
    }
   ],
   "source": [
    "class Employee(val employeeID: Int,\n",
    "               val name: String,\n",
    "               val employeeType: Int){\n",
    "    def getDetails: String = {\n",
    "        s\"Employee $employeeID named: $name, and type of employee is $employeeType\"\n",
    "    }\n",
    "}"
   ]
  },
  {
   "cell_type": "code",
   "execution_count": 35,
   "metadata": {},
   "outputs": [
    {
     "data": {
      "text/plain": [
       "defined \u001b[32mclass\u001b[39m \u001b[36mManager\u001b[39m"
      ]
     },
     "execution_count": 35,
     "metadata": {},
     "output_type": "execute_result"
    }
   ],
   "source": [
    "/* In scala if we want to inherit and we have any parameters we have to override the previous ones we did*/\n",
    "class Manager(override val employeeID: Int,\n",
    "              override val name: String, \n",
    "              val listOfSubs: List[Int]) \n",
    "                extends Employee(employeeID, name, 2){\n",
    "                    \n",
    "                // overriding the getDetails menu \n",
    "                    override def getDetails:String = {\n",
    "                        s\"Manager $employeeID name $name  listOfSubs $listOfSubs\"\n",
    "                    }\n",
    "}"
   ]
  },
  {
   "cell_type": "code",
   "execution_count": 42,
   "metadata": {},
   "outputs": [
    {
     "data": {
      "text/plain": [
       "defined \u001b[32mclass\u001b[39m \u001b[36mProgrammer\u001b[39m"
      ]
     },
     "execution_count": 42,
     "metadata": {},
     "output_type": "execute_result"
    }
   ],
   "source": [
    "/* creating a new class that will derive from A */\n",
    "class Programmer(override val employeeID: Int, \n",
    "                 override val name: String, \n",
    "                 val listOfSkills: List[String]) extends Employee(employeeID, name, 3)"
   ]
  },
  {
   "cell_type": "code",
   "execution_count": null,
   "metadata": {
    "collapsed": true
   },
   "outputs": [],
   "source": [
    "/*  Here is the hierarchy so far \n",
    "\n",
    "                    Employee\n",
    "            /                   \\\n",
    "        manager                programmer \n",
    "\n",
    "*/"
   ]
  },
  {
   "cell_type": "code",
   "execution_count": 54,
   "metadata": {},
   "outputs": [
    {
     "data": {
      "text/plain": [
       "defined \u001b[32mfunction\u001b[39m \u001b[36mgetEmployeeDetails\u001b[39m"
      ]
     },
     "execution_count": 54,
     "metadata": {},
     "output_type": "execute_result"
    }
   ],
   "source": [
    "/* just a helper mmethod to call the getdetails for all of them */ \n",
    "/* notice how we can just pass everything as type 'Employee' but they actually do different things!! \n",
    "This is awesome */ \n",
    "def getEmployeeDetails(e: Employee) = println(e.getDetails)"
   ]
  },
  {
   "cell_type": "code",
   "execution_count": 52,
   "metadata": {},
   "outputs": [
    {
     "data": {
      "text/plain": [
       "\u001b[36me1\u001b[39m: \u001b[32mEmployee\u001b[39m = ammonite.$sess.cmd40$Helper$Employee@6ae3908\n",
       "\u001b[36mm1\u001b[39m: \u001b[32mManager\u001b[39m = ammonite.$sess.cmd46$Helper$Manager@602033a6\n",
       "\u001b[36mp1\u001b[39m: \u001b[32mProgrammer\u001b[39m = ammonite.$sess.cmd41$Helper$Programmer@23b6883"
      ]
     },
     "execution_count": 52,
     "metadata": {},
     "output_type": "execute_result"
    }
   ],
   "source": [
    "// now do some testing \n",
    "val e1 = new Employee(1, \"Jim James\", 5)\n",
    "val m1 = new Manager(2, \"jane manager\", List(1,2,3,4,5))\n",
    "val p1 = new Programmer(7, \"Lilibeth Programmer\", List(\"Scala\", \"Python\", \"Sehll Script\", \"Emacs\", \"VIM\"))"
   ]
  },
  {
   "cell_type": "code",
   "execution_count": 55,
   "metadata": {},
   "outputs": [
    {
     "name": "stdout",
     "output_type": "stream",
     "text": [
      "Employee 1 named: Jim James, and type of employee is 5\n",
      "Manager 2 name jane manager  listOfSubs List(1, 2, 3, 4, 5)\n",
      "Employee 7 named: Lilibeth Programmer, and type of employee is 3\n"
     ]
    }
   ],
   "source": [
    "getEmployeeDetails(e1)\n",
    "getEmployeeDetails(m1)\n",
    "getEmployeeDetails(p1)"
   ]
  },
  {
   "cell_type": "markdown",
   "metadata": {},
   "source": [
    "# trait section"
   ]
  },
  {
   "cell_type": "markdown",
   "metadata": {},
   "source": [
    "Just like an object, a trait can also be inherited from, but the difference is that you cannot instanstiate a traite, everything will be pre-defined"
   ]
  },
  {
   "cell_type": "code",
   "execution_count": 58,
   "metadata": {},
   "outputs": [
    {
     "data": {
      "text/plain": [
       "defined \u001b[32mtrait\u001b[39m \u001b[36mPerson\u001b[39m"
      ]
     },
     "execution_count": 58,
     "metadata": {},
     "output_type": "execute_result"
    }
   ],
   "source": [
    "/* this is the same in other langauges as an 'abstract class' */\n",
    "trait Person {\n",
    "    val personID: Int  // some member fields\n",
    "    val name: String = \"John Doe\"\n",
    "    val ssn: String = \"xxx-xx-xxxx\"\n",
    "    def getPersonID: Int = {personID}   // method with definition \n",
    "    def isValidPerson: Boolean   // Method without any definitions , must be defined if used \n",
    "}"
   ]
  },
  {
   "cell_type": "code",
   "execution_count": 57,
   "metadata": {},
   "outputs": [
    {
     "data": {
      "text/plain": [
       "defined \u001b[32mclass\u001b[39m \u001b[36mPhilosopher\u001b[39m"
      ]
     },
     "execution_count": 57,
     "metadata": {},
     "output_type": "execute_result"
    }
   ],
   "source": [
    "/* remember you have to override because name and person ID were predefined in the trait */\n",
    "class Philosopher(override val personID: Int, \n",
    "                  override val name: String, \n",
    "                  val schoolOfPhilosophy: String) extends Person {\n",
    "    \n",
    "    def isValidPerson: Boolean = {\n",
    "        schoolOfPhilosophy != \"Nihilist\"\n",
    "    }\n",
    "}"
   ]
  },
  {
   "cell_type": "markdown",
   "metadata": {},
   "source": [
    "# Mixin Inheritance"
   ]
  },
  {
   "cell_type": "code",
   "execution_count": 58,
   "metadata": {},
   "outputs": [
    {
     "name": "stderr",
     "output_type": "stream",
     "text": [
      "cmd58.sc:5: not enough arguments for constructor Philosopher: (personID: Int, name: String, schoolOfPhilosophy: String)cmd58.this.cmd56.Philosopher.\n",
      "Unspecified value parameters personID, name, schoolOfPhilosophy.\n",
      "class Pyschologist extends Philosopher with  Scientist\n",
      "                           ^Compilation Failed"
     ]
    },
    {
     "ename": "",
     "evalue": "",
     "output_type": "error",
     "traceback": [
      "Compilation Failed"
     ]
    }
   ],
   "source": [
    "trait Scientist {\n",
    "    // .. define some scientist stuff \n",
    "}\n",
    "\n",
    "// this is called Mixin composition, it is not the same as multiple inheritance \n",
    "class Pyschologist extends Philosopher with Scientist"
   ]
  },
  {
   "cell_type": "markdown",
   "metadata": {
    "collapsed": true
   },
   "source": [
    "# Lecture Notes pt 2"
   ]
  },
  {
   "cell_type": "markdown",
   "metadata": {},
   "source": [
    "# Trait vs Abstract Class \n",
    "\n",
    "Traits are not by themseleves, objects. The only way you can instantiate a trait is through a derived class or object. When you inherit from a trait is is known as a \"mixin\". Think of traits as a bare bones skeleton and you have to go through and define everything \n",
    "\n",
    "\n",
    "Traits are useful to add on the side inside of existing class hierachies. Traits cannot inherit from a class. \n",
    "\n",
    "\n",
    "You cannot use multiple inheritance with an abstract class "
   ]
  },
  {
   "cell_type": "code",
   "execution_count": 37,
   "metadata": {},
   "outputs": [
    {
     "data": {
      "text/plain": [
       "defined \u001b[32mclass\u001b[39m \u001b[36mEmployee\u001b[39m\n",
       "defined \u001b[32mtrait\u001b[39m \u001b[36mPerks\u001b[39m"
      ]
     },
     "execution_count": 37,
     "metadata": {},
     "output_type": "execute_result"
    }
   ],
   "source": [
    "// Generics\n",
    "abstract class Employee {\n",
    "    val name: String = \"Jane/Joe Employee\" // undefined attribute\n",
    "    val id: Int = -1 // undefined \n",
    "    override def toString = {s\"name $name   id $id\"}\n",
    "}\n",
    "\n",
    "/* You dont want this to be part of the class hierarchy, you want it on the side */\n",
    "trait Perks{\n",
    "    val freeLunch: Boolean\n",
    "    val valetParking: Boolean\n",
    "    val reservedParking: Boolean\n",
    "    val foozBallAccess: Boolean\n",
    "    \n",
    "    def whatAreMyPerks: String = {\n",
    "        s\"My Perks are,  freeLunch: ${freeLunch}  valetParking: ${valetParking}  reservedParking: ${reservedParking}  foozBallAccess: ${foozBallAccess}\"\n",
    "            \n",
    "    }\n",
    "}"
   ]
  },
  {
   "cell_type": "code",
   "execution_count": 38,
   "metadata": {},
   "outputs": [
    {
     "data": {
      "text/plain": [
       "defined \u001b[32mclass\u001b[39m \u001b[36mManager2\u001b[39m"
      ]
     },
     "execution_count": 38,
     "metadata": {},
     "output_type": "execute_result"
    }
   ],
   "source": [
    "/* you have said that manager extends the Employee, with perks as a another place to derive from */\n",
    "abstract class Manager2 extends Employee with Perks{\n",
    "    val listOfManagees: List[Int] // undefined\n",
    "    val freeLunch: Boolean = true \n",
    "    val foozBallAccess: Boolean = false\n",
    "}"
   ]
  },
  {
   "cell_type": "code",
   "execution_count": 39,
   "metadata": {},
   "outputs": [
    {
     "data": {
      "text/plain": [
       "defined \u001b[32mclass\u001b[39m \u001b[36mMidLevelManager\u001b[39m"
      ]
     },
     "execution_count": 39,
     "metadata": {},
     "output_type": "execute_result"
    }
   ],
   "source": [
    "/* You only need to override if things are already defined */\n",
    "class MidLevelManager (override val name: String, \n",
    "                       override val id: Int, \n",
    "                       val listOfManagees: List[Int]) extends Manager2{\n",
    "    \n",
    "    /* have to define the rest of the Perk traits*/\n",
    "    val reservedParking = true\n",
    "    val valetParking = true\n",
    "}"
   ]
  },
  {
   "cell_type": "code",
   "execution_count": 40,
   "metadata": {},
   "outputs": [
    {
     "data": {
      "text/plain": [
       "defined \u001b[32mclass\u001b[39m \u001b[36mEngineer\u001b[39m"
      ]
     },
     "execution_count": 40,
     "metadata": {},
     "output_type": "execute_result"
    }
   ],
   "source": [
    "class Engineer(override val name: String, override val id: Int, val qualifications: String) extends Employee with Perks{\n",
    "    val freeLunch: Boolean = false\n",
    "    val valetParking: Boolean = false\n",
    "    val reservedParking: Boolean = false\n",
    "    val foozBallAccess: Boolean = true\n",
    "}"
   ]
  },
  {
   "cell_type": "code",
   "execution_count": 40,
   "metadata": {},
   "outputs": [
    {
     "name": "stderr",
     "output_type": "stream",
     "text": [
      "cmd40.sc:1: not enough arguments for constructor Engineer: (name: String, id: Int, qualifications: String)cmd40.this.cmd39.Engineer.\n",
      "Unspecified value parameters id, qualifications.\n",
      "class Programmer(override val name: String, override val id: Int) extends Engineer(\"knows how to hack\")\n",
      "                                                                          ^Compilation Failed"
     ]
    },
    {
     "ename": "",
     "evalue": "",
     "output_type": "error",
     "traceback": [
      "Compilation Failed"
     ]
    }
   ],
   "source": [
    "class Programmer(override val name: String, override val id: Int) extends Engineer(\"knows how to hack\")"
   ]
  },
  {
   "cell_type": "code",
   "execution_count": 41,
   "metadata": {},
   "outputs": [
    {
     "data": {
      "text/plain": [
       "defined \u001b[32mclass\u001b[39m \u001b[36mHardwareWorker\u001b[39m"
      ]
     },
     "execution_count": 41,
     "metadata": {},
     "output_type": "execute_result"
    }
   ],
   "source": [
    "class HardwareWorker(override val name: String, override val id: Int) extends Engineer(name, id, \"hackerman\")"
   ]
  },
  {
   "cell_type": "code",
   "execution_count": 51,
   "metadata": {},
   "outputs": [
    {
     "name": "stdout",
     "output_type": "stream",
     "text": [
      "My Perks are,  freeLunch: false  valetParking: false  reservedParking: false  foozBallAccess: true\n"
     ]
    },
    {
     "data": {
      "text/plain": [
       "\u001b[36mh1\u001b[39m: \u001b[32mHardwareWorker\u001b[39m = name Jane Solder   id 25"
      ]
     },
     "execution_count": 51,
     "metadata": {},
     "output_type": "execute_result"
    }
   ],
   "source": [
    "val h1 = new HardwareWorker(\"Jane Solder\", 25)\n",
    "println(h1.whatAreMyPerks)"
   ]
  },
  {
   "cell_type": "markdown",
   "metadata": {},
   "source": [
    "# Shifting the topic to Generics fo Classes and Traits"
   ]
  },
  {
   "cell_type": "code",
   "execution_count": 42,
   "metadata": {},
   "outputs": [
    {
     "data": {
      "text/plain": [
       "defined \u001b[32mfunction\u001b[39m \u001b[36mprettyPrintObject\u001b[39m"
      ]
     },
     "execution_count": 42,
     "metadata": {},
     "output_type": "execute_result"
    }
   ],
   "source": [
    "// Generics\n",
    "\n",
    "def prettyPrintObject[T](t: T): String = {\n",
    "    t.toString\n",
    "}"
   ]
  },
  {
   "cell_type": "code",
   "execution_count": 43,
   "metadata": {},
   "outputs": [
    {
     "data": {
      "text/plain": [
       "\u001b[36mv1\u001b[39m: \u001b[32mString\u001b[39m = \u001b[32m\"List(1, 2, 3, 4)\"\u001b[39m\n",
       "\u001b[36mv2\u001b[39m: \u001b[32mString\u001b[39m = \u001b[32m\"name Jane Solder   id 25\"\u001b[39m"
      ]
     },
     "execution_count": 43,
     "metadata": {},
     "output_type": "execute_result"
    }
   ],
   "source": [
    "val v1 = prettyPrintObject(List(1,2,3,4)) // T == List[Int]\n",
    "//val v1 = prettyPrintObject[List[Int]](List(1,2,3,4)) // T == List[Int], if you don't trust the type inference\n",
    "val v2 = prettyPrintObject(h1) // T == HardwareWorker"
   ]
  },
  {
   "cell_type": "code",
   "execution_count": 44,
   "metadata": {},
   "outputs": [
    {
     "data": {
      "text/plain": [
       "defined \u001b[32mfunction\u001b[39m \u001b[36mprettyPrintObject\u001b[39m"
      ]
     },
     "execution_count": 44,
     "metadata": {},
     "output_type": "execute_result"
    }
   ],
   "source": [
    "def prettyPrintObject[T](t: T): String = {\n",
    "    if (t.isInstanceOf[Manager2]){ // checking if type works\n",
    "        val m: Manager2 = t.asInstanceOf[Manager2]  // Dynamic Type Casting ==> can fail \n",
    "        m.whatAreMyPerks\n",
    "        \n",
    "    }\n",
    "    else{\n",
    "        \"hi\"\n",
    "    }\n",
    "}"
   ]
  },
  {
   "cell_type": "code",
   "execution_count": 45,
   "metadata": {},
   "outputs": [
    {
     "data": {
      "text/plain": [
       "\u001b[36mm1\u001b[39m: \u001b[32mMidLevelManager\u001b[39m = name Joe Manager   id 10"
      ]
     },
     "execution_count": 45,
     "metadata": {},
     "output_type": "execute_result"
    }
   ],
   "source": [
    "val m1 = new MidLevelManager(\"Joe Manager\", 10, List(10,2,25))"
   ]
  },
  {
   "cell_type": "code",
   "execution_count": 47,
   "metadata": {},
   "outputs": [
    {
     "data": {
      "text/plain": [
       "defined \u001b[32mclass\u001b[39m \u001b[36mPrettyPrinter\u001b[39m"
      ]
     },
     "execution_count": 47,
     "metadata": {},
     "output_type": "execute_result"
    }
   ],
   "source": [
    "class PrettyPrinter[T] (val t: T) {   // T is called a type parameter\n",
    "    \n",
    "    override def toString: String = \" Pretty Printer --> \" + t.toString\n",
    "    \n",
    "    def logMessage(msg: String) = \"Log --> \" + msg + \": \" + t.toString \n",
    "}"
   ]
  },
  {
   "cell_type": "code",
   "execution_count": 52,
   "metadata": {},
   "outputs": [
    {
     "data": {
      "text/plain": [
       "\u001b[36mp1\u001b[39m: \u001b[32mPrettyPrinter\u001b[39m[\u001b[32mInt\u001b[39m] =  Pretty Printer --> 10\n",
       "\u001b[36mp2\u001b[39m: \u001b[32mPrettyPrinter\u001b[39m[\u001b[32mHardwareWorker\u001b[39m] =  Pretty Printer --> name Jane Solder   id 25"
      ]
     },
     "execution_count": 52,
     "metadata": {},
     "output_type": "execute_result"
    }
   ],
   "source": [
    "val p1 = new PrettyPrinter[Int](10)\n",
    "val p2 = new PrettyPrinter[HardwareWorker](h1)"
   ]
  },
  {
   "cell_type": "code",
   "execution_count": 53,
   "metadata": {},
   "outputs": [
    {
     "data": {
      "text/plain": [
       "\u001b[36mres52_0\u001b[39m: \u001b[32mString\u001b[39m = \u001b[32m\"Log --> message: 10\"\u001b[39m\n",
       "\u001b[36mres52_1\u001b[39m: \u001b[32mString\u001b[39m = \u001b[32m\"Log --> Employee Violation: name Jane Solder   id 25\"\u001b[39m"
      ]
     },
     "execution_count": 53,
     "metadata": {},
     "output_type": "execute_result"
    }
   ],
   "source": [
    "p1.logMessage(\"message\")\n",
    "p2.logMessage(\"Employee Violation\")"
   ]
  },
  {
   "cell_type": "code",
   "execution_count": 54,
   "metadata": {},
   "outputs": [
    {
     "data": {
      "text/plain": [
       "\u001b[36ml1\u001b[39m: \u001b[32mList\u001b[39m[\u001b[32mInt\u001b[39m] = \u001b[33mList\u001b[39m(\u001b[32m1\u001b[39m, \u001b[32m2\u001b[39m, \u001b[32m3\u001b[39m, \u001b[32m4\u001b[39m, \u001b[32m5\u001b[39m, \u001b[32m6\u001b[39m)\n",
       "\u001b[36ml2\u001b[39m: \u001b[32mList\u001b[39m[\u001b[32mString\u001b[39m] = \u001b[33mList\u001b[39m(\u001b[32m\"1\"\u001b[39m, \u001b[32m\"2\"\u001b[39m, \u001b[32m\"45\"\u001b[39m)"
      ]
     },
     "execution_count": 54,
     "metadata": {},
     "output_type": "execute_result"
    }
   ],
   "source": [
    "val l1 = List(1,2,3,4,5,6) // List[Int]\n",
    "val l2 = List(\"1\", \"2\", \"45\") // List[String]"
   ]
  },
  {
   "cell_type": "code",
   "execution_count": 55,
   "metadata": {},
   "outputs": [
    {
     "data": {
      "text/plain": [
       "\u001b[36ml3\u001b[39m: \u001b[32mList\u001b[39m[\u001b[32mAny\u001b[39m] = \u001b[33mList\u001b[39m(\n",
       "  \u001b[32m\"1\"\u001b[39m,\n",
       "  \u001b[32m2\u001b[39m,\n",
       "  \u001b[32m\"3\"\u001b[39m,\n",
       "  name Jane Solder   id 25,\n",
       "  name Joe Manager   id 10\n",
       ")"
      ]
     },
     "execution_count": 55,
     "metadata": {},
     "output_type": "execute_result"
    }
   ],
   "source": [
    "val l3 = List(\"1\", 2, \"3\", h1, m1) // List[Any]"
   ]
  },
  {
   "cell_type": "code",
   "execution_count": 58,
   "metadata": {},
   "outputs": [
    {
     "data": {
      "text/plain": [
       "defined \u001b[32mtrait\u001b[39m \u001b[36mFooable\u001b[39m\n",
       "defined \u001b[32mclass\u001b[39m \u001b[36mGenericClass\u001b[39m\n",
       "defined \u001b[32mclass\u001b[39m \u001b[36mGenericSort\u001b[39m"
      ]
     },
     "execution_count": 58,
     "metadata": {},
     "output_type": "execute_result"
    }
   ],
   "source": [
    "/* type constraint */ \n",
    "trait Fooable{\n",
    "    def foo(): Int\n",
    "}\n",
    "\n",
    "\n",
    "/* This means that T is a generic type that must mixin/inherit from Fooable, so it is inheriting from it.\n",
    "    anything that is passed in here has a function named foo.\n",
    "*/\n",
    "class GenericClass[T <: Fooable]{\n",
    "    // Places a constraint on T\n",
    "    def processAnInstance(t: T): Int = {\n",
    "        val x: Int = t.foo()  // Requirement that T has a function in it called foo. \n",
    "        x + 15\n",
    "    }\n",
    "}\n",
    "\n",
    "class GenericSort[T <: Ordering[T]]"
   ]
  },
  {
   "cell_type": "markdown",
   "metadata": {},
   "source": [
    "# Notebook notes"
   ]
  },
  {
   "cell_type": "markdown",
   "metadata": {
    "collapsed": true
   },
   "source": [
    "## Classes and Inheritance\n",
    "\n",
    "In this lecture, we will cover Classes and Inheritance, keeping scala as the focus of our study, Our goal is to understand object systems and inheritance concepts. \n",
    "\n",
    "    * What are classes? \n",
    "    * What is inheritance and why is it useful? \n",
    "    * Multiple inheritance and the dreaded diamond issue \n",
    "    * Upcasting / Downcasting\n",
    "    * Liscov's Substituion Principle \n",
    "    \n",
    "## Object Oriented Programming\n",
    "\n",
    "Object oriented programming is a style of programming that involves creating and manipulating objects / classes. We have already seen objects and used them. Let us summarize their main features. \n",
    "\n",
    "    1. Objects have a bunch of members which can be fields or methods. Some langauges allow us to classify these fields as public / private \n",
    "    2. The fields encapsulate a bunch of related data items and the methods encapsualte a bunch of operations that can apply to these data items \n",
    "    \n",
    "\n",
    "### What are objects (and how do they differ from classes)?\n",
    "\n",
    "    A class is a type and an object is an instance of that type. \n",
    "    \n",
    "Here is an example of a class A. It has member fields t1, t2 and t3. It also has methods getT1, get T2, setT1    "
   ]
  },
  {
   "cell_type": "code",
   "execution_count": 1,
   "metadata": {},
   "outputs": [
    {
     "data": {
      "text/plain": [
       "\u001b[32mimport \u001b[39m\u001b[36mscala.util.matching.Regex\n",
       "\n",
       "// Note that t1 has a default value of 0 here.\n",
       "\u001b[39m\n",
       "defined \u001b[32mclass\u001b[39m \u001b[36mA\u001b[39m\n",
       "defined \u001b[32mobject\u001b[39m \u001b[36mAFactory\u001b[39m"
      ]
     },
     "execution_count": 1,
     "metadata": {},
     "output_type": "execute_result"
    }
   ],
   "source": [
    "import scala.util.matching.Regex\n",
    "\n",
    "// Note that t1 has a default value of 0 here.\n",
    "class A ( val t1: Int = 0, val t2: String) {\n",
    "    // Note that any code outside of a method definition or field definition will \n",
    "    // be executed as part of the default constructor\n",
    "    if (t1 == 0){\n",
    "        println(\"You set the field t1 to its default value 0\")\n",
    "    }\n",
    "    \n",
    "    private val t3: Int = t1\n",
    "    def getT1: Int = t1\n",
    "    def getT2: String = t2\n",
    "    def getT3: Int = t3\n",
    "    def setT1(new_t1: Int): A = { \n",
    "        new A (new_t1, t2)\n",
    "    }\n",
    "    \n",
    "    println(\"I am printed whenever a new  object A is created.\")\n",
    "    \n",
    "}\n",
    "\n",
    "object AFactory {\n",
    "    // We may create a standalone object that is a \"factory\" for objects of type A\n",
    "    // instead of having a constructor\n",
    "    def createA(t1: Int, t2: String): A = {\n",
    "        new A (t1, t2)\n",
    "    }\n",
    "    \n",
    "    def createA(t: String): A = {\n",
    "        new A (t2=t)\n",
    "    }\n",
    "    def createAFromFormattedString(fString: String): A = {\n",
    "        // Regular expression\n",
    "        val regex = raw\"(\\d+)\\s*,\\s*([a-zA-Z_ ]*)\".r\n",
    "        fString match {\n",
    "            case regex(numField, strField) => { println(s\"Parsed formatted string: $numField, $strField\")\n",
    "                                               createA(numField.toInt, strField)}\n",
    "            case _ => throw new IllegalArgumentException(s\"You must supply a formatted input: integer, string\")\n",
    "        }\n",
    "    }\n",
    "}"
   ]
  },
  {
   "cell_type": "code",
   "execution_count": 2,
   "metadata": {},
   "outputs": [
    {
     "name": "stdout",
     "output_type": "stream",
     "text": [
      "I am printed whenever a new  object A is created.\n",
      "You set the field t1 to its default value 0\n",
      "I am printed whenever a new  object A is created.\n",
      "I am printed whenever a new  object A is created.\n",
      "Parsed formatted string: 251, hello world\n",
      "I am printed whenever a new  object A is created.\n"
     ]
    },
    {
     "ename": "",
     "evalue": "",
     "output_type": "error",
     "traceback": [
      "\u001b[31mjava.lang.IllegalArgumentException: You must supply a formatted input: integer, string\u001b[39m\n  ammonite.$sess.cmd0$Helper$AFactory$.createAFromFormattedString(\u001b[32mcmd0.sc\u001b[39m:\u001b[32m39\u001b[39m)\n  ammonite.$sess.cmd1$Helper.<init>(\u001b[32mcmd1.sc\u001b[39m:\u001b[32m6\u001b[39m)\n  ammonite.$sess.cmd1$.<init>(\u001b[32mcmd1.sc\u001b[39m:\u001b[32m7\u001b[39m)\n  ammonite.$sess.cmd1$.<clinit>(\u001b[32mcmd1.sc\u001b[39m:\u001b[32m-1\u001b[39m)"
     ]
    }
   ],
   "source": [
    "val a1: A = new A( 10, \"15\")\n",
    "a1.getT3\n",
    "AFactory.createA(\"hello\")\n",
    "AFactory.createA(10, \"15\")\n",
    "AFactory.createAFromFormattedString(\"251, hello world\")\n",
    "AFactory.createAFromFormattedString(\"whatever, 345\")"
   ]
  },
  {
   "cell_type": "markdown",
   "metadata": {},
   "source": [
    "We can interact with objects in many ways: (a) by accessing public field, and (b) by calling public methods in the objects. Calling a method in an object is also termed as 'sending' a message to the object in the technical literature. \n",
    "\n",
    "Accessing private fields in an object outside will result in a error. "
   ]
  },
  {
   "cell_type": "code",
   "execution_count": 2,
   "metadata": {},
   "outputs": [
    {
     "name": "stderr",
     "output_type": "stream",
     "text": [
      "cmd2.sc:5: value t3 in class A cannot be accessed in cmd2.this.cmd0.A\n",
      "val res2_3 = println(s\"t3 = ${a2.t3}\")\n",
      "                                 ^Compilation Failed"
     ]
    },
    {
     "ename": "",
     "evalue": "",
     "output_type": "error",
     "traceback": [
      "Compilation Failed"
     ]
    }
   ],
   "source": [
    "val a2: A = new A(250, \"hello\")\n",
    "println(s\"t1= ${a2.t1}\")\n",
    "println(s\"t2 = ${a2.t2}\")\n",
    "// This will fail why?\n",
    "println(s\"t3 = ${a2.t3}\")\n"
   ]
  },
  {
   "cell_type": "markdown",
   "metadata": {},
   "source": [
    "# Information Hiding Through Encapsulation\n",
    "\n",
    "Encapsulation is an important reason why we use classes. Classes are wrappers around data that allow us to access their internals either through public fields or well defined methods. As a result, they provide a clean interface that the outside world (e.e, other classes) can use to manipulate the data or compute information. \n",
    "\n",
    "Here is a simple example of encapsulation of an employee's salary. We are not allowed to directly maniputlate the salary. Instead we can use the defined interface methods setSalary.giveARase and getSalary to change or find out what the employee's salary is. "
   ]
  },
  {
   "cell_type": "code",
   "execution_count": 3,
   "metadata": {},
   "outputs": [
    {
     "data": {
      "text/plain": [
       "defined \u001b[32mclass\u001b[39m \u001b[36mEmployee\u001b[39m"
      ]
     },
     "execution_count": 3,
     "metadata": {},
     "output_type": "execute_result"
    }
   ],
   "source": [
    "class Employee(val n: String, val id: Int){\n",
    "    private var salary: Double = 0 \n",
    "    \n",
    "    def setSalary(s: Double) = {\n",
    "        assert (s > 0, \"setting salary to a negative value is not allowed\")\n",
    "        salary = s\n",
    "    }\n",
    "    \n",
    "    def giveARaise(percent: Double) = {\n",
    "        assert(percent >= 0 && percent < 100.0)\n",
    "        salary = salary * (1 + percent / 100.0)\n",
    "    }\n",
    "    def getSalary: Double = salary\n",
    "}"
   ]
  },
  {
   "cell_type": "markdown",
   "metadata": {},
   "source": [
    "Encapsulation is super important in many situations where we wish to maintain important \"invariants\" that must be preserved even if the underlying data changes. A classic example ocnsists of tracking quanitties as we are making changes. For instane, let us maintain an array of tasks for which we would like to maintian the total time taken so far. As we add tasks or change task times, we would like to maintain the invariant of the field totalTimesSoFar is the sum of all task times "
   ]
  },
  {
   "cell_type": "code",
   "execution_count": 6,
   "metadata": {},
   "outputs": [
    {
     "data": {
      "text/plain": [
       "defined \u001b[32mclass\u001b[39m \u001b[36mArrayOfTaskTimes\u001b[39m"
      ]
     },
     "execution_count": 6,
     "metadata": {},
     "output_type": "execute_result"
    }
   ],
   "source": [
    "class ArrayOfTaskTimes{\n",
    "    private var taskTimes: List[Double] = List()\n",
    "    private var totalTimeSoFar: Double = 0.0\n",
    "    private var maxTaskTime: Double = \"-inf\".toDouble\n",
    "    \n",
    "    // Getters\n",
    "    def getNumTasks: Int = taskTimes.length\n",
    "    def getTotalTimeSoFar: Double = totalTimeSoFar\n",
    "    \n",
    "    def addTask(t: Double) = {\n",
    "        t :: taskTimes\n",
    "        totalTimeSoFar = totalTimeSoFar + t\n",
    "        maxTaskTime = math.max(maxTaskTime, t)\n",
    "    }\n",
    "    \n",
    "    def changeTaskTimes(delta: Double) = {\n",
    "        taskTimes = taskTimes.map(v => {math.max(0.0, v + delta)})\n",
    "        totalTimeSoFar = taskTimes.sum\n",
    "        maxTaskTime = taskTimes.max\n",
    "    }\n",
    "}"
   ]
  },
  {
   "cell_type": "markdown",
   "metadata": {},
   "source": [
    "# Composition\n",
    "\n",
    "Objects are very useful in composition that allow us to build bigger structures from smaller ones. In composition, one object contains a reference to others. \n",
    "\n",
    "For instance, let us think of representing what we need for a webpage in a browser. We have a class HtmlContents to store the contents of a page and a Url that holds a url and its contents as a HtmlContents object.\n",
    "\n",
    "When it requires a function to remove the tags from a given url, ti delegates the HtmlContents object that has a removeTags object. "
   ]
  },
  {
   "cell_type": "code",
   "execution_count": 7,
   "metadata": {},
   "outputs": [
    {
     "data": {
      "text/plain": [
       "defined \u001b[32mclass\u001b[39m \u001b[36mHtmlContents\u001b[39m\n",
       "defined \u001b[32mclass\u001b[39m \u001b[36mUrl\u001b[39m"
      ]
     },
     "execution_count": 7,
     "metadata": {},
     "output_type": "execute_result"
    }
   ],
   "source": [
    "class HtmlContents(cont: String){\n",
    "    def removeTags: String = {\n",
    "        val dummy = \"\" \n",
    "        // CODE that rqill remove tags from a HTML\n",
    "        return dummy\n",
    "    }\n",
    "}\n",
    "\n",
    "class Url(url: String, html: HtmlContents){\n",
    "    //... varisou classes\n",
    "    \n",
    "    def fetchAndRemoveTags() = {\n",
    "        // function that will fetch the URL\n",
    "        html.removeTags\n",
    "    }\n",
    "}"
   ]
  },
  {
   "cell_type": "markdown",
   "metadata": {},
   "source": [
    "# Inheritance\n",
    "\n",
    "Inheritance is a powerful mechanism in many object oriented langauges. It allows us to define something common to numerous classes and refactor it out. Inheritance has many positive properties: (a) it allows us to reuse code by implementing functionality that is common to many objects; (b) it makes the code much more readable by keeping it better organized and documents how various concpets created in our design are inter-related\n",
    "\n",
    "As an example of how inheritance may be used, let us try to recreate a class feature that we see in drawing editors such as Powerpoint. They allow us to define basic shapes, place them at various points in the screen and create groupings off these shapes. "
   ]
  },
  {
   "cell_type": "code",
   "execution_count": 11,
   "metadata": {},
   "outputs": [
    {
     "data": {
      "text/plain": [
       "defined \u001b[32mclass\u001b[39m \u001b[36mCanvasBox\u001b[39m\n",
       "defined \u001b[32mclass\u001b[39m \u001b[36mShape\u001b[39m\n",
       "defined \u001b[32mclass\u001b[39m \u001b[36mRectangle\u001b[39m\n",
       "defined \u001b[32mclass\u001b[39m \u001b[36mColoredRectangle\u001b[39m\n",
       "defined \u001b[32mclass\u001b[39m \u001b[36mSquare\u001b[39m"
      ]
     },
     "execution_count": 11,
     "metadata": {},
     "output_type": "execute_result"
    }
   ],
   "source": [
    "class CanvasBox(val xc: Double, val yc: Double, val width: Double, val height: Double){\n",
    "    // overrides existing function 'toString' when used in this context \n",
    "    override def toString = \n",
    "        s\"CanvasBox: center at ($xc, $yc) with width= $width, height= $height\"\n",
    "}\n",
    "\n",
    "\n",
    "/* This is abstract because nothing is defined \n",
    "  we will define everything later when we inherit from this class \n",
    "*/\n",
    "abstract class Shape{\n",
    "    def boundingBox: CanvasBox\n",
    "    def repOK: Boolean\n",
    "    def toString: String\n",
    "}\n",
    "\n",
    "/* \n",
    "NOTE: It is important that you specify val here.\n",
    " not doing so makes these fields x1, y1, x2, y2 implicitly private\n",
    "*/\n",
    "class Rectangle(val x1: Double, val y1: Double, val x2: Double, val y2: Double) extends Shape{\n",
    "    // Overriding is important to specify because we are overrding the definition from a base class\n",
    "    override def repOK: Boolean = {\n",
    "        (x1 < x2) && (y1 < y2)\n",
    "    }\n",
    "    def centerX: Double = 0.5 * (x1+ x2)\n",
    "    def centerY: Double = 0.5 * (y1 + y2)\n",
    "    def width: Double = x2 - x1\n",
    "    def height: Double = y2 - y1\n",
    "    \n",
    "    //Override is important because we are overriding definition from a base class.\n",
    "    override def boundingBox: CanvasBox = {\n",
    "        new CanvasBox( this.centerX, this.centerY, (x2 - x1), (y2 - y1))\n",
    "    }\n",
    "    \n",
    "    override def toString: String = {\n",
    "        s\"Rectangle ($x1, $y1) to ($x2, $y2)\"\n",
    "    }\n",
    "}\n",
    "// Note that each subclass has an implicit call to the super class constructor as below\n",
    "class ColoredRectangle(x1: Double, y1: Double, x2: Double, y2: Double, color: String) extends Rectangle (x1, y1, x2, y2) \n",
    "\n",
    "\n",
    "// Note that each subclass has an implicit call to the super class constructor as below\n",
    "// Here, a square just needs a center point and a side length. But it extends a rectangle as specified below.\n",
    "class Square(x: Double, y: Double, sideLength: Double) extends Rectangle(x - 0.5*sideLength, y - 0.5 * sideLength, x + 0.5*sideLength, y + 0.5 * sideLength ) {\n",
    "    override def toString: String = {\n",
    "        s\"Square centered at ($x, $y) with side $sideLength\"\n",
    "    }\n",
    "}"
   ]
  },
  {
   "cell_type": "code",
   "execution_count": 12,
   "metadata": {},
   "outputs": [
    {
     "name": "stdout",
     "output_type": "stream",
     "text": [
      "10.0\n",
      "17.5\n"
     ]
    },
    {
     "data": {
      "text/plain": [
       "\u001b[36ms1\u001b[39m: \u001b[32mSquare\u001b[39m = Square centered at (10.0, 12.0) with side 15.0"
      ]
     },
     "execution_count": 12,
     "metadata": {},
     "output_type": "execute_result"
    }
   ],
   "source": [
    "// Square inherits all the methods and fields of Rectangle \n",
    "\n",
    "val s1 = new Square(10,12,15)\n",
    "// method centerX is defined in rectangle but inherited by square \n",
    "println(s1.centerX)\n",
    "println(s1.x2)"
   ]
  },
  {
   "cell_type": "markdown",
   "metadata": {},
   "source": [
    "# Single vs. Multiple Inheritance\n",
    "\n",
    "Scala allwos single inheritance. Each class may inherit from exactly one parent class. Many langauges such as C++ allow multiple inheritance. \n",
    "\n",
    "We discussed in detail during class. Heris is a nice reference about the \"dreaded diamond\" problem https://medium.freecodecamp.org/multiple-inheritance-in-c-and-the-diamond-problem-7c12a9ddbbec https://www.geeksforgeeks.org/multiple-inheritance-in-c/"
   ]
  },
  {
   "cell_type": "markdown",
   "metadata": {},
   "source": [
    "# Type Casting from Inherited to Base Class\n",
    "\n",
    "It is always possible to take an object from a derieved class and type cast it to an object of the base class. In our example above. We can always take a __Square__ object and use it in whatever context that a __Shape__ is used. This kind of type casting is called 'upcasting' which goes from a derived class toa. base class. \n",
    "\n",
    "Let us define a function printSahpe that takes in an object of type Shape and prints it. Note that printing an objects calls the toString method to method to first ocnvert it into a string and then prints it\n",
    "\n",
    "However, Shape does not have a toString method with code in it. It is an abstract class whose members were not defined. What happens if we call printShape on a __Square__ object? Are we evel allowed to do that? "
   ]
  },
  {
   "cell_type": "code",
   "execution_count": 13,
   "metadata": {},
   "outputs": [
    {
     "data": {
      "text/plain": [
       "defined \u001b[32mfunction\u001b[39m \u001b[36mprintShape\u001b[39m"
      ]
     },
     "execution_count": 13,
     "metadata": {},
     "output_type": "execute_result"
    }
   ],
   "source": [
    "def printShape(s: Shape) = {\n",
    "    println(s\"We here have a shape $s\")\n",
    "}"
   ]
  },
  {
   "cell_type": "code",
   "execution_count": 16,
   "metadata": {},
   "outputs": [
    {
     "name": "stdout",
     "output_type": "stream",
     "text": [
      "We here have a shape Square centered at (10.0, 24.0) with side 44.0\n",
      "We here have a shape Rectangle (10.0, 12.0) to (15.0, 18.0)\n"
     ]
    },
    {
     "data": {
      "text/plain": [
       "\u001b[36ms2\u001b[39m: \u001b[32mSquare\u001b[39m = Square centered at (10.0, 24.0) with side 44.0\n",
       "\u001b[36mr2\u001b[39m: \u001b[32mRectangle\u001b[39m = Rectangle (10.0, 12.0) to (15.0, 18.0)"
      ]
     },
     "execution_count": 16,
     "metadata": {},
     "output_type": "execute_result"
    }
   ],
   "source": [
    "val s2 = new Square(10,24,44.0)\n",
    "printShape(s2)\n",
    "\n",
    "val r2 = new Rectangle(10, 12, 15, 18)\n",
    "printShape(r2)"
   ]
  },
  {
   "cell_type": "markdown",
   "metadata": {},
   "source": [
    "For both examples above, s2 and r2 are passed onto the printShape function. However, they are upcast to a Shape object. Nevertheless, the internal representation of objets remembers what the original type of the created object was. Therefore, when the method toString is called, the call is dispatched to the toString method of the appropriate derived class. \n",
    "\n",
    "For instance, Square has its own toString method which owuld be called from printShape method if the parameters happend to be a square. "
   ]
  },
  {
   "cell_type": "markdown",
   "metadata": {},
   "source": [
    "## Liskov's Substitution Principle\n",
    "\n",
    "\"Functions that use pointers or references to base classes must be able to use objects of derived classes without knowing it.\" \n",
    "\n",
    "In other words, we must always be able to up cast from a derived class to a base class and use it without any problems. \n",
    "\n",
    "As a result of this, derived classes must have all the fields that base class will have and withthe same type. Furthermore, whenever we override from a abse class it must be of the same type. (why?)\n",
    "\n",
    "\n",
    "__Bad Example 1__"
   ]
  },
  {
   "cell_type": "code",
   "execution_count": 17,
   "metadata": {},
   "outputs": [
    {
     "name": "stderr",
     "output_type": "stream",
     "text": [
      "cmd17.sc:7: overriding value x in class Base of type Int;\n",
      " value x has incompatible type\n",
      "    override val x: String = \"Hello\" // BAD! Why? \n",
      "                 ^Compilation Failed"
     ]
    },
    {
     "ename": "",
     "evalue": "",
     "output_type": "error",
     "traceback": [
      "Compilation Failed"
     ]
    }
   ],
   "source": [
    "class Base {\n",
    "    val x: Int = 10\n",
    "    def foo(i: Int): String = { i.toString }\n",
    "}\n",
    "\n",
    "class Derived extends Base {\n",
    "    override val x: String = \"Hello\" // BAD! Why? \n",
    "    def foo(i: Double): Int = {i.toInt}\n",
    "}"
   ]
  },
  {
   "cell_type": "markdown",
   "metadata": {},
   "source": [
    "__Bad Example 2__ \n",
    "The type of the overridden function must be the same as in base class"
   ]
  },
  {
   "cell_type": "code",
   "execution_count": 18,
   "metadata": {},
   "outputs": [
    {
     "name": "stderr",
     "output_type": "stream",
     "text": [
      "cmd18.sc:7: method foo overrides nothing.\n",
      "Note: the super classes of class Derived contain the following, non final members named foo:\n",
      "def foo(i: Int): String\n",
      "    override def foo(i: Double): Int = {i.toInt}\n",
      "                 ^Compilation Failed"
     ]
    },
    {
     "ename": "",
     "evalue": "",
     "output_type": "error",
     "traceback": [
      "Compilation Failed"
     ]
    }
   ],
   "source": [
    "class Base {\n",
    "    def foo(i: Int): String = i.toString\n",
    "}\n",
    "\n",
    "class Derived extends Base{\n",
    "    // This will yield an error\n",
    "    override def foo(i: Double): Int = {i.toInt}\n",
    "}"
   ]
  },
  {
   "cell_type": "markdown",
   "metadata": {},
   "source": [
    "# Downcasting\n"
   ]
  },
  {
   "cell_type": "markdown",
   "metadata": {},
   "source": [
    "Downcasting tries to cast an object who type is of basetype to an object of derived type. This should only be possible in one situation: \n",
    "\n",
    "    * An object O of the derived type is created\n",
    "    * The object O is upcast into base type \n",
    "    * Then in a different place, we try to downcast it back to an object of type B. Otherwise, downcast risks srious trouble sine in general a base type object may be missing several fields and methods that are needed in the derived type. Calling these non existant methods or reffering to non existant fields can lead to serious issues. \n",
    "    "
   ]
  },
  {
   "cell_type": "markdown",
   "metadata": {},
   "source": [
    "# Traits, Type Parameters, Generics and Type Constraints\n",
    "\n",
    "In this lecture, we will cover the concepts of traits, type parameters, generics, and constaints on type parameters in Scala. \n",
    "\n",
    "__Outline__\n",
    "    * Inheritance: super calls \n",
    "    * Final keyword in scala (read on your own)\n",
    "    * Traits: What are traits?\n",
    "    * Examples with traits. \n",
    "    * Things we can and cannot do with a trait\n",
    "        * Cannot take in class parameters \n",
    "        * If we add members to a trait, the calss that extends a trait has to implement those members\n",
    "        * Traits can inherit from a base class but that limits the kind of classes that can make use of traits. \n",
    "        \n",
    "    * Talk about type parameters in functions"
   ]
  },
  {
   "cell_type": "markdown",
   "metadata": {},
   "source": [
    "# Inheritance: Super Calls\n",
    "\n",
    "Note that thus far, we have talked about how inheritance works. We also noted the concept of dynamic dispatch. Suppose we defined a function foo inside the base class A and override that function foo inside the derived class B. "
   ]
  },
  {
   "cell_type": "code",
   "execution_count": 19,
   "metadata": {
    "scrolled": true
   },
   "outputs": [
    {
     "data": {
      "text/plain": [
       "defined \u001b[32mclass\u001b[39m \u001b[36mA\u001b[39m\n",
       "defined \u001b[32mclass\u001b[39m \u001b[36mB\u001b[39m"
      ]
     },
     "execution_count": 19,
     "metadata": {},
     "output_type": "execute_result"
    }
   ],
   "source": [
    "class A {\n",
    "    def foo() = println(\"From A: Base Class\")\n",
    "}\n",
    "\n",
    "class B extends A {\n",
    "    override def foo() = {println(\"From B: Derived Class\")}\n",
    "}"
   ]
  },
  {
   "cell_type": "markdown",
   "metadata": {},
   "source": [
    "Suppose we crated an object b of type B and upcast it to an object of type A. What happens if we call a.foo()? Clearly, dynamic dispatch means that in runtime scala recognizes that object a was orignally created as a B and upcast. It therefore calls the foo method defined in B. The following code illustrates this clearly. "
   ]
  },
  {
   "cell_type": "code",
   "execution_count": 21,
   "metadata": {},
   "outputs": [
    {
     "name": "stdout",
     "output_type": "stream",
     "text": [
      "From B: Derived Class\n"
     ]
    },
    {
     "data": {
      "text/plain": [
       "defined \u001b[32mfunction\u001b[39m \u001b[36mcallFoo\u001b[39m\n",
       "\u001b[36mb\u001b[39m: \u001b[32mB\u001b[39m = ammonite.$sess.cmd18$Helper$B@5b5478b6"
      ]
     },
     "execution_count": 21,
     "metadata": {},
     "output_type": "execute_result"
    }
   ],
   "source": [
    "def callFoo(a: A) = a.foo()\n",
    "\n",
    "val b = new B()\n",
    "callFoo(b)"
   ]
  },
  {
   "cell_type": "markdown",
   "metadata": {},
   "source": [
    "Suppose our goal is to call the super class method from the B, we can use a super call. This simply sues super as a reference to the immediate super class of a given class. For instance, inside of instance object B, saying super referes to an object type A. "
   ]
  },
  {
   "cell_type": "code",
   "execution_count": 22,
   "metadata": {},
   "outputs": [
    {
     "name": "stdout",
     "output_type": "stream",
     "text": [
      "From A: whatever\n",
      "From B: nonsense\n"
     ]
    },
    {
     "data": {
      "text/plain": [
       "defined \u001b[32mclass\u001b[39m \u001b[36mA\u001b[39m\n",
       "defined \u001b[32mclass\u001b[39m \u001b[36mB\u001b[39m\n",
       "\u001b[36mb\u001b[39m: \u001b[32mB\u001b[39m = ammonite.$sess.cmd21$Helper$B@56b7152a"
      ]
     },
     "execution_count": 22,
     "metadata": {},
     "output_type": "execute_result"
    }
   ],
   "source": [
    "class A { \n",
    "    def foo() =  println(\"From A: whatever\")\n",
    "}\n",
    "\n",
    "class B extends A {\n",
    "    override def foo() = { super.foo(); println(\"From B: nonsense\") }\n",
    "    \n",
    "    def bar() = {super.foo()}\n",
    "}\n",
    "\n",
    "val b = new B()\n",
    "b.foo()"
   ]
  },
  {
   "cell_type": "markdown",
   "metadata": {},
   "source": [
    "# Traits\n",
    "\n",
    "Traits are an important mechanism for code reuse in scala. They allow su to define functionality that can be exported across mulitpel objecs in the overall hierarchy. A trait is almost like an abstract class or an interface. It can define its own members and methods. "
   ]
  },
  {
   "cell_type": "code",
   "execution_count": 24,
   "metadata": {},
   "outputs": [
    {
     "data": {
      "text/plain": [
       "defined \u001b[32mtrait\u001b[39m \u001b[36mPhilosophical\u001b[39m\n",
       "defined \u001b[32mtrait\u001b[39m \u001b[36mGreen\u001b[39m"
      ]
     },
     "execution_count": 24,
     "metadata": {},
     "output_type": "execute_result"
    }
   ],
   "source": [
    "trait Philosophical {\n",
    "   def philosophize: Unit = println(s\"I take up space, therefore I am!\")\n",
    "}\n",
    "\n",
    "trait Green{\n",
    "    def color: String = \"green\"\n",
    "}"
   ]
  },
  {
   "cell_type": "markdown",
   "metadata": {},
   "source": [
    "Traits can be applied or mixed in to class so that the methods of the trait and them embers are part of the object itself"
   ]
  },
  {
   "cell_type": "code",
   "execution_count": 25,
   "metadata": {},
   "outputs": [
    {
     "data": {
      "text/plain": [
       "defined \u001b[32mclass\u001b[39m \u001b[36mFrog\u001b[39m"
      ]
     },
     "execution_count": 25,
     "metadata": {},
     "output_type": "execute_result"
    }
   ],
   "source": [
    "class Frog(val name: String) extends Philosophical{\n",
    "    def getName: String =  name\n",
    "    override def toString: String = \"Frog \" + name\n",
    "}"
   ]
  },
  {
   "cell_type": "code",
   "execution_count": 26,
   "metadata": {},
   "outputs": [
    {
     "name": "stdout",
     "output_type": "stream",
     "text": [
      "I take up space, therefore I am!\n",
      "I take up space, therefore I am!\n"
     ]
    },
    {
     "data": {
      "text/plain": [
       "\u001b[36mf\u001b[39m: \u001b[32mFrog\u001b[39m = Frog Freddie\n",
       "\u001b[36mk\u001b[39m: \u001b[32mFrog\u001b[39m = Frog Kermit"
      ]
     },
     "execution_count": 26,
     "metadata": {},
     "output_type": "execute_result"
    }
   ],
   "source": [
    "val f = new Frog(\"Freddie\")\n",
    "val k = new Frog(\"Kermit\")\n",
    "f.philosophize\n",
    "k.philosophize"
   ]
  },
  {
   "cell_type": "markdown",
   "metadata": {},
   "source": [
    "You cannot directly create a trait since traits are considered abstract. Well, to be honest there is a way to do this (if you are interested)."
   ]
  },
  {
   "cell_type": "code",
   "execution_count": 26,
   "metadata": {},
   "outputs": [
    {
     "name": "stderr",
     "output_type": "stream",
     "text": [
      "cmd26.sc:1: trait Philosophical is abstract; cannot be instantiated\n",
      "val t = new Philosophical()\n",
      "        ^Compilation Failed"
     ]
    },
    {
     "ename": "",
     "evalue": "",
     "output_type": "error",
     "traceback": [
      "Compilation Failed"
     ]
    }
   ],
   "source": [
    "val t = new Philosophical()"
   ]
  },
  {
   "cell_type": "markdown",
   "metadata": {},
   "source": [
    "Traits are useful as modifications that we can apply and stack on top of eachother"
   ]
  },
  {
   "cell_type": "markdown",
   "metadata": {},
   "source": [
    "## Pattern 1: Create useful functionality that can be applied to many classes. \n",
    "\n",
    "Here is a slightly contrived example. Suppose I have a good pretty printer that can be used to print debug messages but can be turned off if we ever needed to. We could build a trait that can be applied to objects which need debug messages. The flag debug can be set to false and debug will stop printing to the standard output. "
   ]
  },
  {
   "cell_type": "code",
   "execution_count": 28,
   "metadata": {},
   "outputs": [
    {
     "data": {
      "text/plain": [
       "defined \u001b[32mtrait\u001b[39m \u001b[36mDebugPrinter\u001b[39m\n",
       "defined \u001b[32mclass\u001b[39m \u001b[36mA\u001b[39m"
      ]
     },
     "execution_count": 28,
     "metadata": {},
     "output_type": "execute_result"
    }
   ],
   "source": [
    "trait DebugPrinter {\n",
    "    val debug: Boolean\n",
    "    def debugPrint(s: String) = if (debug) println(\"Debug: \" + s)\n",
    "}\n",
    "\n",
    "class A extends DebugPrinter{\n",
    "    val debug = true // turn off if you do not want debugging\n",
    "    def foo() = {\n",
    "        debugPrint(\"Called Foo\")\n",
    "        // Code goes here.\n",
    "        debugPrint(\"Done with Foo\")\n",
    "    }\n",
    "}"
   ]
  },
  {
   "cell_type": "markdown",
   "metadata": {},
   "source": [
    "Notice how the trait has field debug in it. It is important therefore that any object that seeks to mixin trait will need to define debug and set it appropriately during construction. \n",
    "\n",
    "\n",
    "## Pattern 2: Define an interface that can be implemented by various objects. \n",
    "\n",
    "Here is an example. We define an comparision relation over objects of type T. The name of the trait is Ordering[T]. The object that extends this trait implements the compare operator. Once that is done: the trait itself implements a bunch of useful operators like <,>, ==, <= that can all be inherited"
   ]
  },
  {
   "cell_type": "code",
   "execution_count": 29,
   "metadata": {},
   "outputs": [
    {
     "data": {
      "text/plain": [
       "defined \u001b[32mtrait\u001b[39m \u001b[36mOrdering\u001b[39m"
      ]
     },
     "execution_count": 29,
     "metadata": {},
     "output_type": "execute_result"
    }
   ],
   "source": [
    "trait Ordering[T] {\n",
    "    //The user defines a compare operator that \n",
    "    // returns == 0 if two objects are equal\n",
    "    //  > 0 if this > t\n",
    "    //  < 0 if this < t\n",
    "    def compare(t: T): Int \n",
    "    \n",
    "    // The trait can automatically define operators for us to use\n",
    "    def < (t:T): Boolean = this.compare(t) < 0\n",
    "    \n",
    "    def > (t:T): Boolean = this.compare(t) > 0\n",
    "    \n",
    "    def <= (t: T): Boolean = this.compare(t) <= 0\n",
    "    \n",
    "    def >= (t :T): Boolean = this.compare(t) >= 0\n",
    "    \n",
    "    //def ==(t:T): Boolean = this.compare(t) == 0\n",
    "    \n",
    "    /* def sortList(l: List[T]): List[T] = { // Implement a generic sort algorithm using < operator\n",
    "        \n",
    "    }*/\n",
    "}"
   ]
  },
  {
   "cell_type": "code",
   "execution_count": 31,
   "metadata": {},
   "outputs": [
    {
     "name": "stdout",
     "output_type": "stream",
     "text": [
      "true\n",
      "false\n",
      "true\n",
      "true\n"
     ]
    },
    {
     "data": {
      "text/plain": [
       "defined \u001b[32mclass\u001b[39m \u001b[36mA\u001b[39m\n",
       "\u001b[36ma\u001b[39m: \u001b[32mA\u001b[39m = ammonite.$sess.cmd30$Helper$A@4aee7859\n",
       "\u001b[36mb\u001b[39m: \u001b[32mA\u001b[39m = ammonite.$sess.cmd30$Helper$A@26b64339\n",
       "\u001b[36mc\u001b[39m: \u001b[32mA\u001b[39m = ammonite.$sess.cmd30$Helper$A@20a4f207"
      ]
     },
     "execution_count": 31,
     "metadata": {},
     "output_type": "execute_result"
    }
   ],
   "source": [
    "class A (val x: Int, val y: Int) extends Ordering[A] {\n",
    "    def compare(a: A) = {\n",
    "        if (this.x - a.x != 0) \n",
    "            this.x - a.x \n",
    "        else  // the x values are equal, just compare y values\n",
    "            this.y - a.y\n",
    "    }\n",
    "}\n",
    "\n",
    "val a = new A(10, 15)\n",
    "val b = new A(12, 18)\n",
    "val c = new A(9, 19)\n",
    "\n",
    "println(a < b)\n",
    "println(a < c)\n",
    "println(a >= c)\n",
    "println(a <= a)"
   ]
  },
  {
   "cell_type": "markdown",
   "metadata": {},
   "source": [
    "note that traits cannot take parameters in their definition"
   ]
  },
  {
   "cell_type": "code",
   "execution_count": 31,
   "metadata": {},
   "outputs": [
    {
     "name": "stderr",
     "output_type": "stream",
     "text": [
      "(console):1:12 expected (Semis | &\"}\" | end-of-input)\n",
      "trait Color(val color: String){\n",
      "           ^"
     ]
    },
    {
     "ename": "",
     "evalue": "",
     "output_type": "error",
     "traceback": [
      "(console):1:12 expected (Semis | &\"}\" | end-of-input)\ntrait Color(val color: String){\n           ^"
     ]
    }
   ],
   "source": [
    "trait Color(val color: String){\n",
    "    def getColor: String = color\n",
    "}"
   ]
  },
  {
   "cell_type": "markdown",
   "metadata": {},
   "source": [
    "The correct way to define this is to add a field called color to the trait."
   ]
  },
  {
   "cell_type": "code",
   "execution_count": 32,
   "metadata": {},
   "outputs": [
    {
     "data": {
      "text/plain": [
       "defined \u001b[32mtrait\u001b[39m \u001b[36mColor\u001b[39m"
      ]
     },
     "execution_count": 32,
     "metadata": {},
     "output_type": "execute_result"
    }
   ],
   "source": [
    "trait Color{\n",
    "    val color: String\n",
    "    def getColor: String = color\n",
    "}"
   ]
  },
  {
   "cell_type": "markdown",
   "metadata": {},
   "source": [
    "# Multiple Traits Applied to an Object\n",
    "\n",
    "Whereas a class in scala cannot extend from multiple base classes, it can extend from a single base calss and a numch of traits that can be mixed in. Note that we use extends keyword for the first class / trait that we inherit from / mixin then a bunch of other traits can be mixed in useing the 'with' keyword. "
   ]
  },
  {
   "cell_type": "code",
   "execution_count": 39,
   "metadata": {},
   "outputs": [
    {
     "data": {
      "text/plain": [
       "defined \u001b[32mclass\u001b[39m \u001b[36mAnimal\u001b[39m\n",
       "defined \u001b[32mclass\u001b[39m \u001b[36mGreenFrog\u001b[39m"
      ]
     },
     "execution_count": 39,
     "metadata": {},
     "output_type": "execute_result"
    }
   ],
   "source": [
    "abstract class Animal\n",
    "\n",
    "class GreenFrog(n: String) extends Animal with Philosophical with Color{\n",
    "    override val color = \"green\"\n",
    "    override def philosophize: Unit = println(s\"It ain't easy being $color\")\n",
    "    \n",
    "}"
   ]
  },
  {
   "cell_type": "code",
   "execution_count": 40,
   "metadata": {},
   "outputs": [
    {
     "name": "stdout",
     "output_type": "stream",
     "text": [
      "It ain't easy being green\n"
     ]
    },
    {
     "data": {
      "text/plain": [
       "\u001b[36mf\u001b[39m: \u001b[32mGreenFrog\u001b[39m = ammonite.$sess.cmd38$Helper$GreenFrog@659d5ac7"
      ]
     },
     "execution_count": 40,
     "metadata": {},
     "output_type": "execute_result"
    }
   ],
   "source": [
    "val f = new GreenFrog(\"froyo\")\n",
    "f.philosophize"
   ]
  },
  {
   "cell_type": "code",
   "execution_count": 41,
   "metadata": {},
   "outputs": [
    {
     "data": {
      "text/plain": [
       "defined \u001b[32mclass\u001b[39m \u001b[36mMultiColorFrog\u001b[39m"
      ]
     },
     "execution_count": 41,
     "metadata": {},
     "output_type": "execute_result"
    }
   ],
   "source": [
    "class MultiColorFrog(n: String, val color: String) extends Animal with Philosophical with Color "
   ]
  },
  {
   "cell_type": "markdown",
   "metadata": {},
   "source": [
    "Traits themselves can inherit from a class or another trait. If a trait inherits forma. class A, it poses a restriction that the trait can only be mixed into classes that themselves inherit from A. "
   ]
  },
  {
   "cell_type": "code",
   "execution_count": 42,
   "metadata": {},
   "outputs": [
    {
     "data": {
      "text/plain": [
       "defined \u001b[32mclass\u001b[39m \u001b[36mA\u001b[39m\n",
       "defined \u001b[32mclass\u001b[39m \u001b[36mC\u001b[39m\n",
       "defined \u001b[32mtrait\u001b[39m \u001b[36mFriendly\u001b[39m\n",
       "defined \u001b[32mclass\u001b[39m \u001b[36mD\u001b[39m\n",
       "defined \u001b[32mclass\u001b[39m \u001b[36mE\u001b[39m\n",
       "defined \u001b[32mclass\u001b[39m \u001b[36mF\u001b[39m"
      ]
     },
     "execution_count": 42,
     "metadata": {},
     "output_type": "execute_result"
    }
   ],
   "source": [
    "abstract class A \n",
    "\n",
    "abstract class C \n",
    "\n",
    "trait Friendly extends A \n",
    "\n",
    "class D extends A with Friendly // OK\n",
    "\n",
    "class E extends D // OK\n",
    "\n",
    "class F extends E with Friendly // OK since F inherits from E, which inherits from D and in turn inherits from A.\n"
   ]
  },
  {
   "cell_type": "code",
   "execution_count": 42,
   "metadata": {},
   "outputs": [
    {
     "name": "stderr",
     "output_type": "stream",
     "text": [
      "cmd42.sc:1: illegal inheritance; superclass C\n",
      " is not a subclass of the superclass A\n",
      " of the mixin trait Friendly\n",
      "class B extends C with Friendly  // NOT OK C does not inherit from A\n",
      "                       ^Compilation Failed"
     ]
    },
    {
     "ename": "",
     "evalue": "",
     "output_type": "error",
     "traceback": [
      "Compilation Failed"
     ]
    }
   ],
   "source": [
    "class B extends C with Friendly  // NOT OK C does not inherit from A"
   ]
  },
  {
   "cell_type": "markdown",
   "metadata": {},
   "source": [
    "# Type Parameters\n",
    "\n",
    "We have thus far seen definitions like Ordering[T] that have a type parameter[T] attached to it. What is the meaning of the [T] parameter? \n",
    "\n",
    "Here is an example of a class C that has a parameter[T]"
   ]
  },
  {
   "cell_type": "code",
   "execution_count": 43,
   "metadata": {},
   "outputs": [
    {
     "data": {
      "text/plain": [
       "defined \u001b[32mclass\u001b[39m \u001b[36mC\u001b[39m"
      ]
     },
     "execution_count": 43,
     "metadata": {},
     "output_type": "execute_result"
    }
   ],
   "source": [
    "abstract class C[T]{\n",
    "    val t: T\n",
    "    def transform(arg: T): String = arg.toString\n",
    "}"
   ]
  },
  {
   "cell_type": "markdown",
   "metadata": {},
   "source": [
    "T stands for a type that can be any type: an object defined by us or a predefined object such as Int, STring, List[String], and so on. \n",
    "We can instantiate T in many ways"
   ]
  },
  {
   "cell_type": "code",
   "execution_count": 44,
   "metadata": {},
   "outputs": [
    {
     "data": {
      "text/plain": [
       "defined \u001b[32mclass\u001b[39m \u001b[36mD\u001b[39m\n",
       "defined \u001b[32mclass\u001b[39m \u001b[36mE\u001b[39m\n",
       "\u001b[36me\u001b[39m: \u001b[32mE\u001b[39m[\u001b[32mString\u001b[39m] = ammonite.$sess.cmd43$Helper$E@879033e\n",
       "\u001b[36mf\u001b[39m: \u001b[32mE\u001b[39m[\u001b[32mList\u001b[39m[\u001b[32mString\u001b[39m]] = ammonite.$sess.cmd43$Helper$E@2d2aae41\n",
       "defined \u001b[32mclass\u001b[39m \u001b[36mF\u001b[39m\n",
       "\u001b[36mg\u001b[39m: \u001b[32mE\u001b[39m[\u001b[32mF\u001b[39m] = ammonite.$sess.cmd43$Helper$E@27242eac"
      ]
     },
     "execution_count": 44,
     "metadata": {},
     "output_type": "execute_result"
    }
   ],
   "source": [
    "class D extends C[Int] {\n",
    "    val t = 42\n",
    "    override def transform(arg: Int): String = {s\"Transform to $arg\"}\n",
    "}\n",
    "\n",
    "class E[T](val t: T) extends C[T] {\n",
    "    override def transform(arg: T): String = s\"Better way to transform ${arg.toString}\"\n",
    "}\n",
    "\n",
    "val e = new E(\"hello\") //No need to say E[String] Why?\n",
    "\n",
    "val f = new E(List(\"Hello\", \"World\", \"Whatever\")) // Scala type infers that f has type E[List[String]]\n",
    "\n",
    "\n",
    "class F (val x: String) \n",
    "\n",
    "val g: E[F] = new E(new F(\"Hello\"))"
   ]
  },
  {
   "cell_type": "markdown",
   "metadata": {},
   "source": [
    "# Constraints on Type Parameters\n",
    "\n",
    "We often want to assume that we have a type parameter T, that T has a certain function foo defined it so that when we call foo method of any of type t. In general, it is not enoughto pass any type parameter but ot have some things that we would like to assume about the type parameter. How do we achieve that?"
   ]
  },
  {
   "cell_type": "code",
   "execution_count": 44,
   "metadata": {},
   "outputs": [
    {
     "name": "stderr",
     "output_type": "stream",
     "text": [
      "cmd44.sc:1: value foo is not a member of type parameter T\n",
      "def callFoo[T](arg: T): Unit = arg.foo(25)\n",
      "                                   ^Compilation Failed"
     ]
    },
    {
     "ename": "",
     "evalue": "",
     "output_type": "error",
     "traceback": [
      "Compilation Failed"
     ]
    }
   ],
   "source": [
    "def callFoo[T](arg: T): Unit = arg.foo(25)"
   ]
  },
  {
   "cell_type": "markdown",
   "metadata": {},
   "source": [
    "The attempt above failed. Scala being strongly typed wants an assurance that T has a method called foo that takes in an `Int` and returns `Unit`. How do we say this?\n",
    "- Define an abstract class or a trait called A.\n",
    "- Say that T must be a derived class of A. To do so we say `T <: A` the `<:` means `is a subtype of` (or is a derived class of)."
   ]
  },
  {
   "cell_type": "code",
   "execution_count": 45,
   "metadata": {},
   "outputs": [
    {
     "data": {
      "text/plain": [
       "defined \u001b[32mtrait\u001b[39m \u001b[36mA\u001b[39m\n",
       "defined \u001b[32mfunction\u001b[39m \u001b[36mcallFoo\u001b[39m"
      ]
     },
     "execution_count": 45,
     "metadata": {},
     "output_type": "execute_result"
    }
   ],
   "source": [
    "trait A {\n",
    "    def foo(i: Int): Unit\n",
    "}\n",
    "\n",
    "def callFoo[T <: A ](arg: T ): Unit = {\n",
    "    arg.foo(42)\n",
    "}"
   ]
  },
  {
   "cell_type": "code",
   "execution_count": 46,
   "metadata": {},
   "outputs": [
    {
     "name": "stdout",
     "output_type": "stream",
     "text": [
      "phoo - 42\n"
     ]
    },
    {
     "data": {
      "text/plain": [
       "defined \u001b[32mclass\u001b[39m \u001b[36mC\u001b[39m\n",
       "\u001b[36mc\u001b[39m: \u001b[32mC\u001b[39m = ammonite.$sess.cmd45$Helper$C@7d8ca34d"
      ]
     },
     "execution_count": 46,
     "metadata": {},
     "output_type": "execute_result"
    }
   ],
   "source": [
    "class C extends A {\n",
    "    override def foo(i: Int): Unit = println(s\"phoo - $i\")\n",
    "}\n",
    "\n",
    "val c = new C()\n",
    "callFoo(c)"
   ]
  },
  {
   "cell_type": "code",
   "execution_count": 48,
   "metadata": {},
   "outputs": [
    {
     "data": {
      "text/plain": [
       "defined \u001b[32mclass\u001b[39m \u001b[36mA\u001b[39m\n",
       "defined \u001b[32mclass\u001b[39m \u001b[36mB\u001b[39m\n",
       "defined \u001b[32mfunction\u001b[39m \u001b[36mcallFoo\u001b[39m\n",
       "defined \u001b[32mclass\u001b[39m \u001b[36mC\u001b[39m\n",
       "\u001b[36mres47_4\u001b[39m: \u001b[32mInt\u001b[39m = \u001b[32m42\u001b[39m"
      ]
     },
     "execution_count": 48,
     "metadata": {},
     "output_type": "execute_result"
    }
   ],
   "source": [
    "class A  {\n",
    "    val t = 25\n",
    "}\n",
    "\n",
    "abstract class B extends A {\n",
    "    def foo(): Int\n",
    "}\n",
    "\n",
    "def callFoo[T <: B] (t: T) = t.foo() // Scala infers return type is Int\n",
    "\n",
    "class C extends B {\n",
    "    override def foo() = 42\n",
    "}\n",
    "\n",
    "callFoo(new C())"
   ]
  },
  {
   "cell_type": "markdown",
   "metadata": {},
   "source": [
    "Notice that callFoo has the constraint that `T` can only be a subclass of `B`. For instance, we cannot try to use a class of type A."
   ]
  },
  {
   "cell_type": "code",
   "execution_count": 47,
   "metadata": {},
   "outputs": [
    {
     "name": "stderr",
     "output_type": "stream",
     "text": [
      "cmd47.sc:1: inferred type arguments [cmd47.this.cmd46.A] do not conform to method callFoo's type parameter bounds [T <: cmd47.this.cmd46.B]\n",
      "def wrapper(a: A) = callFoo(a)\n",
      "                    ^cmd47.sc:1: type mismatch;\n",
      " found   : cmd47.this.cmd46.A\n",
      " required: T\n",
      "def wrapper(a: A) = callFoo(a)\n",
      "                            ^Compilation Failed"
     ]
    },
    {
     "ename": "",
     "evalue": "",
     "output_type": "error",
     "traceback": [
      "Compilation Failed"
     ]
    }
   ],
   "source": [
    "def wrapper(a: A) = callFoo(a)"
   ]
  },
  {
   "cell_type": "markdown",
   "metadata": {},
   "source": [
    "Sometimes we may imagine an opposite situation where we do not want foo to be called on objects that are greater than some object in the type hierarchy.\n",
    "\n",
    "The following exposition is inspired from this wonderful blog post: https://apiumhub.com/tech-blog-barcelona/scala-type-bounds/"
   ]
  },
  {
   "cell_type": "code",
   "execution_count": null,
   "metadata": {
    "collapsed": true
   },
   "outputs": [],
   "source": []
  }
 ],
 "metadata": {
  "kernelspec": {
   "display_name": "Scala",
   "language": "scala",
   "name": "scala"
  },
  "language_info": {
   "codemirror_mode": "text/x-scala",
   "file_extension": ".scala",
   "mimetype": "text/x-scala",
   "name": "scala",
   "nbconvert_exporter": "script",
   "version": "2.12.10"
  }
 },
 "nbformat": 4,
 "nbformat_minor": 2
}
