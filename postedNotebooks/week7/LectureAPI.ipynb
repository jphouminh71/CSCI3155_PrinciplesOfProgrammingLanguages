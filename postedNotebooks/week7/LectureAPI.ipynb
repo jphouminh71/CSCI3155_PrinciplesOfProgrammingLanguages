{
 "cells": [
  {
   "cell_type": "code",
   "execution_count": 8,
   "metadata": {},
   "outputs": [
    {
     "data": {
      "text/plain": [
       "defined \u001b[32mtrait\u001b[39m \u001b[36mExpr\u001b[39m\n",
       "defined \u001b[32mtrait\u001b[39m \u001b[36mValue\u001b[39m\n",
       "defined \u001b[32mclass\u001b[39m \u001b[36mNumValue\u001b[39m\n",
       "defined \u001b[32mclass\u001b[39m \u001b[36mClosure\u001b[39m\n",
       "defined \u001b[32mtrait\u001b[39m \u001b[36mEnvironment\u001b[39m\n",
       "defined \u001b[32mobject\u001b[39m \u001b[36mEmptyEnvironment\u001b[39m\n",
       "defined \u001b[32mclass\u001b[39m \u001b[36mExtend\u001b[39m\n",
       "defined \u001b[32mclass\u001b[39m \u001b[36mExtendRec\u001b[39m"
      ]
     },
     "execution_count": 8,
     "metadata": {},
     "output_type": "execute_result"
    }
   ],
   "source": [
    "sealed trait Expr\n",
    "sealed trait Value\n",
    "\n",
    "case class NumValue(d: Double) extends Value\n",
    "case class Closure(param: String, body: Expr, rest: Environment)\n",
    "\n",
    "sealed trait Environment \n",
    "case object EmptyEnvironment extends Environment\n",
    "case class Extend(x: String, v: Value, rest: Environment) extends Environment\n",
    "\n",
    "// we use this to avoid a circular definition \n",
    "case class ExtendRec(nameOfFunction: String, param: String, bodyOfFunction: Expr, restEnv: Environment) extends Environment"
   ]
  },
  {
   "cell_type": "code",
   "execution_count": 7,
   "metadata": {},
   "outputs": [
    {
     "data": {
      "text/plain": [
       "\u001b[36mres6\u001b[39m: \u001b[32mExtend\u001b[39m = \u001b[33mExtend\u001b[39m(\n",
       "  \u001b[32m\"x\"\u001b[39m,\n",
       "  \u001b[33mNumValue\u001b[39m(\u001b[32m15.0\u001b[39m),\n",
       "  \u001b[33mExtend\u001b[39m(\u001b[32m\"y\"\u001b[39m, \u001b[33mNumValue\u001b[39m(\u001b[32m15.0\u001b[39m), \u001b[33mExtend\u001b[39m(\u001b[32m\"x\"\u001b[39m, \u001b[33mNumValue\u001b[39m(\u001b[32m10.0\u001b[39m), EmptyEnvironment))\n",
       ")"
      ]
     },
     "execution_count": 7,
     "metadata": {},
     "output_type": "execute_result"
    }
   ],
   "source": [
    "// (x: 15) -> (y: 15) -> (x: 10) -> Nil \n",
    "Extend(\"x\", NumValue(15), Extend(\"y\", NumValue(15), Extend(\"x\", NumValue(10), EmptyEnvironment)))"
   ]
  },
  {
   "cell_type": "code",
   "execution_count": 7,
   "metadata": {},
   "outputs": [
    {
     "name": "stderr",
     "output_type": "stream",
     "text": [
      "(console):2:40 expected \")\"\n",
      "ExtendRec(\"factorial\", \"x\", IfThenElse(....), EmptyEnvironment) // <-- the rest of the environment\n",
      "                                       ^"
     ]
    },
    {
     "ename": "",
     "evalue": "",
     "output_type": "error",
     "traceback": [
      "(console):2:40 expected \")\"\nExtendRec(\"factorial\", \"x\", IfThenElse(....), EmptyEnvironment) // <-- the rest of the environment\n                                       ^"
     ]
    }
   ],
   "source": [
    "// how do we handle recursive environments, this is example for factorial\n",
    "ExtendRec(\"factorial\", \"x\", IfThenElse(....), EmptyEnvironment) // <-- the rest of the environment"
   ]
  },
  {
   "cell_type": "code",
   "execution_count": 8,
   "metadata": {},
   "outputs": [
    {
     "name": "stderr",
     "output_type": "stream",
     "text": [
      "cmd8.sc:18: type mismatch;\n",
      " found   : cmd8.this.cmd7.Closure\n",
      " required: cmd8.this.cmd7.Value\n",
      "            Closure(param, body, env)\n",
      "                   ^Compilation Failed"
     ]
    },
    {
     "ename": "",
     "evalue": "",
     "output_type": "error",
     "traceback": [
      "Compilation Failed"
     ]
    }
   ],
   "source": [
    "def lookup(x: String, env: Environment): Value = env match{\n",
    "    case EmptyEnvironment => throw new IllegalArgumentException(s\"How dare you\")\n",
    "    case Extend(id, v, rest) =>{\n",
    "        if (id == x){\n",
    "            v\n",
    "        }\n",
    "        else{\n",
    "            lookup(x, rest)\n",
    "        }\n",
    "    }\n",
    "    case ExtendRec(y, param, body, rest) => {\n",
    "        if (x != y){\n",
    "            lookup(x, rest)\n",
    "        }\n",
    "        // otherwise create the closure of the recursive function so we can use it!\n",
    "        else{\n",
    "            // notice how we gave the environment back as env\n",
    "            Closure(param, body, env)\n",
    "        }\n",
    "    }\n",
    "}"
   ]
  },
  {
   "cell_type": "code",
   "execution_count": null,
   "metadata": {
    "collapsed": true
   },
   "outputs": [],
   "source": []
  }
 ],
 "metadata": {
  "kernelspec": {
   "display_name": "Scala",
   "language": "scala",
   "name": "scala"
  },
  "language_info": {
   "codemirror_mode": "text/x-scala",
   "file_extension": ".scala",
   "mimetype": "text/x-scala",
   "name": "scala",
   "nbconvert_exporter": "script",
   "version": "2.12.10"
  }
 },
 "nbformat": 4,
 "nbformat_minor": 2
}
