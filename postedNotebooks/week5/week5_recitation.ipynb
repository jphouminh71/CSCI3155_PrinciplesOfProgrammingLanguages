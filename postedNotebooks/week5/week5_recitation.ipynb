{
 "cells": [
  {
   "cell_type": "markdown",
   "metadata": {},
   "source": [
    "# More on map/filter/fold\n",
    "Here you will find more examples of map filter and fold.  Please use these for personal practice as we may not go over all of them in recitation.\n",
    "\n",
    "\n",
    "\n",
    "## personal notes\n",
    "we do fold because we want to solve the issue of immutability"
   ]
  },
  {
   "cell_type": "markdown",
   "metadata": {},
   "source": [
    "# Examples to help understand fold"
   ]
  },
  {
   "cell_type": "code",
   "execution_count": 5,
   "metadata": {},
   "outputs": [
    {
     "data": {
      "text/plain": [
       "defined \u001b[32mfunction\u001b[39m \u001b[36mlen\u001b[39m\n",
       "defined \u001b[32mfunction\u001b[39m \u001b[36mlen_tail\u001b[39m\n",
       "defined \u001b[32mfunction\u001b[39m \u001b[36mfold\u001b[39m\n",
       "\u001b[36ml\u001b[39m: \u001b[32mList\u001b[39m[\u001b[32mInt\u001b[39m] = \u001b[33mList\u001b[39m(\u001b[32m1\u001b[39m, \u001b[32m2\u001b[39m, \u001b[32m3\u001b[39m)\n",
       "\u001b[36mres4_4\u001b[39m: \u001b[32mInt\u001b[39m = \u001b[32m6\u001b[39m\n",
       "\u001b[36mres4_5\u001b[39m: \u001b[32mInt\u001b[39m = \u001b[32m3\u001b[39m"
      ]
     },
     "execution_count": 5,
     "metadata": {},
     "output_type": "execute_result"
    }
   ],
   "source": [
    "// function that just calculates the length of a list \n",
    "def len(l: List[Int]): Int = l match {\n",
    "    case Nil => 0\n",
    "    case v::t => 1 + len(t)\n",
    "}\n",
    "\n",
    "// making the function above, tail recursive\n",
    "def len_tail(l:List[Int], acc: Int = 0): Int =  l match{\n",
    "    case Nil => acc\n",
    "    case v::t => len_tail(t, acc + v)\n",
    "}\n",
    "\n",
    "\n",
    "// you give me a function and i will pass in the acc and the current item \n",
    "// in the list and apply them to the function that you pass in \n",
    "def fold(l:List[Int], acc: Int, f:(Int, Int) => Int): Int = l match{\n",
    "    case Nil => acc\n",
    "    case v::t => fold(t, f(v,acc), f)\n",
    "}\n",
    "\n",
    "val l = List(1,2,3)\n",
    "// the requirement of the function, the acc type must be the same as the \n",
    "// return type of the function \n",
    "fold(l,0,(a,b) => a+b)\n",
    "fold(l,0,(a,b) => 1 + b)"
   ]
  },
  {
   "cell_type": "markdown",
   "metadata": {},
   "source": [
    "#### Higher Order Function Practice\n",
    "\n",
    "#### 1\n",
    "Filter out all points not within a circle of radius 2 centered at (0.75, -0.125)"
   ]
  },
  {
   "cell_type": "code",
   "execution_count": 1,
   "metadata": {},
   "outputs": [
    {
     "ename": "",
     "evalue": "",
     "output_type": "error",
     "traceback": [
      "\u001b[31mscala.NotImplementedError: an implementation is missing\u001b[39m\n  scala.Predef$.$qmark$qmark$qmark(\u001b[32mPredef.scala\u001b[39m:\u001b[32m288\u001b[39m)\n  ammonite.$sess.cmd0$Helper.<init>(\u001b[32mcmd0.sc\u001b[39m:\u001b[32m18\u001b[39m)\n  ammonite.$sess.cmd0$.<init>(\u001b[32mcmd0.sc\u001b[39m:\u001b[32m7\u001b[39m)\n  ammonite.$sess.cmd0$.<clinit>(\u001b[32mcmd0.sc\u001b[39m:\u001b[32m-1\u001b[39m)"
     ]
    }
   ],
   "source": [
    "import scala.math.sqrt\n",
    "import scala.math.pow\n",
    "\n",
    "class Point(val x:Double, val y:Double) {\n",
    "    def getDistance(p:Point):Double = sqrt(pow((x - p.x),2) + pow((y - p.y),2))\n",
    "}\n",
    "\n",
    "val p1 = new Point(0,0)\n",
    "val p2 = new Point(1,0)\n",
    "val p3 = new Point(2,1.5)\n",
    "val p4 = new Point(1.5,1)\n",
    "val p5 = new Point(2,-2)\n",
    "val p6 = new Point(1,3)\n",
    "val p7 = new Point(3,1)\n",
    "\n",
    "val pList = List(p1,p2,p3,p4,p5,p6,p7)\n",
    "\n",
    "val points = pList.filter(???)\n",
    "assert(points.length == 3)"
   ]
  },
  {
   "cell_type": "markdown",
   "metadata": {},
   "source": [
    "#### 2\n",
    "Find the centroid of the points in pList above."
   ]
  },
  {
   "cell_type": "code",
   "execution_count": null,
   "metadata": {
    "collapsed": true
   },
   "outputs": [],
   "source": [
    "val psum = pList.foldLeft(0.0,0.0) (???)\n",
    "val centroid = (psum._1/pList.length, psum._2/pList.length)\n",
    "assert(centroid == (1.5, 0.6428571428571429))"
   ]
  },
  {
   "cell_type": "markdown",
   "metadata": {},
   "source": [
    "#### 3\n",
    "Find the max value using a fold. Assume all values positive."
   ]
  },
  {
   "cell_type": "code",
   "execution_count": null,
   "metadata": {
    "collapsed": true
   },
   "outputs": [],
   "source": [
    "val mList = List(345,234,5,76,354,2415,7645,974)\n",
    "\n",
    "val max  = mList.foldLeft(0) (???)\n",
    "assert(max == 7645)"
   ]
  },
  {
   "cell_type": "markdown",
   "metadata": {},
   "source": [
    "#### 4\n",
    "Find the max prefix sum of the list. Assume the max will be non-negative."
   ]
  },
  {
   "cell_type": "code",
   "execution_count": null,
   "metadata": {
    "collapsed": true
   },
   "outputs": [],
   "source": [
    "val mpList = List(-213,82,97,765,-728,528,-3,18,-21,552,-45,32)\n",
    "\n",
    "class Acc(val max:Int, val sum:Int)\n",
    "\n",
    "val maxprefix = mpList.foldLeft(new Acc(0,0)) (\n",
    "    ???).max\n",
    "assert(maxprefix == 1077)"
   ]
  },
  {
   "cell_type": "markdown",
   "metadata": {},
   "source": [
    "#### 5\n",
    "Reverse the list using a fold."
   ]
  },
  {
   "cell_type": "code",
   "execution_count": null,
   "metadata": {
    "collapsed": true
   },
   "outputs": [],
   "source": [
    "val rList = List(1,2,3,4,5)\n",
    "\n",
    "val reverse = rList.foldLeft(List[Int]()) (???)\n",
    "assert(reverse == List(5, 4, 3, 2, 1))"
   ]
  },
  {
   "cell_type": "markdown",
   "metadata": {},
   "source": [
    "#### 6\n",
    "Sum all even numbers in the list."
   ]
  },
  {
   "cell_type": "code",
   "execution_count": 8,
   "metadata": {},
   "outputs": [
    {
     "name": "stdout",
     "output_type": "stream",
     "text": [
      "(should be: ,1312)\n",
      "(SUM: ,1312)\n"
     ]
    },
    {
     "data": {
      "text/plain": [
       "\u001b[36meList\u001b[39m: \u001b[32mList\u001b[39m[\u001b[32mInt\u001b[39m] = \u001b[33mList\u001b[39m(\u001b[32m108\u001b[39m, \u001b[32m342\u001b[39m, \u001b[32m6543\u001b[39m, \u001b[32m648\u001b[39m, \u001b[32m217\u001b[39m, \u001b[32m214\u001b[39m)\n",
       "\u001b[36msum\u001b[39m: \u001b[32mInt\u001b[39m = \u001b[32m1312\u001b[39m"
      ]
     },
     "execution_count": 8,
     "metadata": {},
     "output_type": "execute_result"
    }
   ],
   "source": [
    "val eList = List(108,342,6543,648,217,214)\n",
    "val sum = eList.filter( x => x % 2 == 0 ).foldLeft(0) ((acc,x) => acc + x)\n",
    "assert(sum == 1312)"
   ]
  },
  {
   "cell_type": "markdown",
   "metadata": {},
   "source": [
    "#### 7\n",
    "\n",
    "A chicken less than 18 weeks old is considered a chick.\n",
    "Using filter and fold, find the average weight of chicks in chickenList below."
   ]
  },
  {
   "cell_type": "code",
   "execution_count": null,
   "metadata": {
    "collapsed": true
   },
   "outputs": [],
   "source": [
    "// A chicken less than 18 weeks old is considered a chick.\n",
    "// Using filter and fold, find the average weight of chicks in chickenList below.\n",
    "class Chicken(val weeksOld: Int, val weightLb: Double)\n",
    "class Average(val sum: Double, val count: Int) {\n",
    "    def getAverage():Double = sum/count\n",
    "}\n",
    "val c1 = new Chicken(2,0.5)\n",
    "val c2 = new Chicken(43,2.1)\n",
    "val c3 = new Chicken(16,1.2)\n",
    "val c4 = new Chicken(21,1.1)\n",
    "val c5 = new Chicken(5,0.67)\n",
    "val c6 = new Chicken(10,0.82)\n",
    "val chickenList = List(c1,c2,c3,c4,c5,c6)\n",
    "chickenList.filter(???)\n",
    "    .foldLeft(new Average(0.0, 0)) (\n",
    "    ???\n",
    "    )\n",
    "    .getAverage"
   ]
  },
  {
   "cell_type": "markdown",
   "metadata": {},
   "source": [
    "#### 8\n",
    "\n",
    "Use a fold to compute the largest number in a list."
   ]
  },
  {
   "cell_type": "code",
   "execution_count": null,
   "metadata": {
    "collapsed": true
   },
   "outputs": [],
   "source": [
    "def maxList(list:List[Int]):Int = {\n",
    "    list.foldLeft(0){???}\n",
    "}"
   ]
  },
  {
   "cell_type": "code",
   "execution_count": null,
   "metadata": {
    "collapsed": true
   },
   "outputs": [],
   "source": [
    "assert(maxList(List(5,2,3,8,7,0)) == 8)"
   ]
  },
  {
   "cell_type": "markdown",
   "metadata": {},
   "source": [
    "# Fantastic error messages and how to read them\n",
    "\n",
    "1. **Assertion errors**\n",
    "```\n",
    "java.lang.AssertionError: assertion failed\n",
    "    scala.Predef$.assert(Predef.scala:208)\n",
    "    ammonite.$sess.cmd44$Helper.<init>(cmd44.sc:2)\n",
    "    ammonite.$sess.cmd44$.<init>(cmd44.sc:7)\n",
    "    ammonite.$sess.cmd44$.<clinit>(cmd44.sc:-1)\n",
    "```\n"
   ]
  },
  {
   "cell_type": "code",
   "execution_count": null,
   "metadata": {
    "collapsed": true
   },
   "outputs": [],
   "source": [
    "def addOne(x:Int): Int = x + 2"
   ]
  },
  {
   "cell_type": "code",
   "execution_count": null,
   "metadata": {
    "collapsed": true
   },
   "outputs": [],
   "source": [
    "assert(addOne(3) == 4)"
   ]
  },
  {
   "cell_type": "markdown",
   "metadata": {},
   "source": [
    "2. **Errors your code throws**\n",
    "```\n",
    "if (env.contains(v)) {\n",
    "    env(v)\n",
    "} else {\n",
    "    throw new IllegalArgumentException(s\"$v not defined\")\n",
    "}\n",
    "```\n",
    "**later... \"I'm getting a strange \"x not defined\" error**\n",
    "```\n",
    "java.lang.IllegalArgumentException: x not defined\n",
    "    ammonite.$sess.cmd42$Helper.evalExpr<init>(cmd42.sc:16)\n",
    "    ammonite.$sess.cmd42$Helper.binFun$1(cmd42.sc:3)\n",
    "```"
   ]
  },
  {
   "cell_type": "code",
   "execution_count": null,
   "metadata": {
    "collapsed": true
   },
   "outputs": [],
   "source": [
    "def getEnv(env:Map[String,Int], v:String):Int = {\n",
    "    if(env.contains(v)){\n",
    "        env(v)\n",
    "    } else{\n",
    "        throw new IllegalArgumentException(s\"$v not defined\")\n",
    "    }\n",
    "}\n",
    "getEnv(Map(),\"x\")"
   ]
  },
  {
   "cell_type": "markdown",
   "metadata": {},
   "source": [
    "3. **Type Mismatch**\n",
    "    - found: Unit\n",
    "    - required: Boolean"
   ]
  },
  {
   "cell_type": "code",
   "execution_count": null,
   "metadata": {
    "collapsed": true
   },
   "outputs": [],
   "source": [
    "def maybeYes(x: Int): Boolean = {\n",
    "    if (x > 5) true\n",
    "}"
   ]
  },
  {
   "cell_type": "markdown",
   "metadata": {},
   "source": [
    "4. **Syntax**\n",
    "    - ':' expected but ')' found"
   ]
  },
  {
   "cell_type": "code",
   "execution_count": null,
   "metadata": {
    "collapsed": true
   },
   "outputs": [],
   "source": [
    "def maybeYes(x): Boolean = {\n",
    "    if (x > 5) true else false\n",
    "}"
   ]
  },
  {
   "cell_type": "markdown",
   "metadata": {},
   "source": [
    "# Toy Inference Rules"
   ]
  },
  {
   "cell_type": "markdown",
   "metadata": {},
   "source": [
    "Our grammar defines several types of chicken expressions, Chickens, Chicks, and Eggs.  We define the actions Hatch, Grow, and LayEgg.  These actions require a farm with the right conditions to occur.\n",
    "\n",
    "$$\\begin{array}{rcll}\n",
    "\\textbf{Chexpr} & \\rightarrow & 🐔 \\\\\n",
    "& | & 🐤 \\\\\n",
    "& | & 🥚 \\\\\n",
    "\\textbf{Action} & \\rightarrow & Hatch(\\textbf{Chexpr}) \\\\\n",
    "& | & Grow(\\textbf{Chexpr}) \\\\\n",
    "& | & LayEgg(\\textbf{Chexpr}) \\\\\n",
    "\\textbf{Other} & \\rightarrow & 🌅  \\\\\n",
    "& | & 🌾\\\\\n",
    "\\textbf{Farm} & \\rightarrow & \\textbf{Chexpr}::\\textbf{Farm} \\\\\n",
    "& | & \\textbf{Other}::\\textbf{Farm}\\\\\n",
    "& | & Nil \\\\\n",
    "\\end{array}$$"
   ]
  },
  {
   "cell_type": "markdown",
   "metadata": {},
   "source": [
    "***Inferrence Rules***\n",
    "\n",
    "Our inferrence rules say that some action is possible on a farm given a set of conditions.\n",
    "\n",
    "$$\n",
    "\\boxed{\\textbf{Farm},\\textbf{Action} \\Downarrow \\textbf{Chexpr}}\n",
    "$$\n",
    "\n",
    "***Grow a Chick***\n",
    "\n",
    "It is possible to grow a chick if our farm has food.\n",
    "$$ \n",
    "\\begin{array}{c}\n",
    "\\texttt{🌾} \\in \\textbf{Farm}, \\texttt{🐤} \\in \\textbf{Farm}\\\\\n",
    "\\hline\n",
    "\\textbf{Farm}, Grow(\\textbf{🐤}) \\Downarrow \\textbf{🐔} \\\\\n",
    "\\end{array}\\ \\text{(Grow)} \n",
    "$$\n",
    "\n",
    "\n",
    "***Hatch an Egg***\n",
    "\n",
    "It is possible to hatch an egg if our farm has a chicken.\n",
    "$$\n",
    "\\begin{array}{c}\n",
    "\\texttt{🐔} \\in \\textbf{Farm}, \\texttt{🥚} \\in \\textbf{Farm} \\\\\n",
    "\\hline\n",
    "\\textbf{Farm}, Hatch(\\textbf{🥚}) \\Downarrow \\textbf{🐤} \\\\\n",
    "\\end{array}\\ \\text{(Hatch)} \n",
    "$$\n",
    "\n",
    "***Lay an Egg***\n",
    "\n",
    "A hen can lay an egg if it is morning.\n",
    "\n",
    "$$\n",
    "\\begin{array}{c}\n",
    "\\texttt{🌅} \\in \\textbf{Farm}, \\texttt{🐔} \\in \\textbf{Farm} \\\\\n",
    "\\hline\n",
    "\\textbf{Farm}, LayEgg(\\textbf{🐔}) \\Downarrow \\textbf{🥚} \\\\\n",
    "\\end{array}\\ \\text{(LayEgg)} \n",
    "$$\n",
    "\n",
    "### What happens to the farm?\n",
    "\n",
    "The previous rules just show the result of a single action, the following rules explain how a farm can evolve.  Given a farm, what farm can result?\n",
    "\n",
    "$$\n",
    "\\boxed{\\textbf{Farm} \\Rightarrow \\textbf{Farm}}\n",
    "$$\n",
    "\n",
    "Given some kind of Chexpr, if an Action can be evaluated on the Chexpr on that farm, then we add the result to our farm.\n",
    "\n",
    "$$\n",
    "\\begin{array}{c}\n",
    "\\textbf{Farm}_1,\\textbf{Action} \\Downarrow \\textbf{Chexpr}_2,\\ \\ \\ \\textbf{Farm}_2 = \\textbf{Chexpr}_2::\\textbf{Farm}_1 \\\\\n",
    "\\hline\n",
    "\\textbf{Farm}_1 \\Rightarrow \\textbf{Farm}_2\n",
    "\\end{array}\n",
    "$$\n",
    "\n",
    "***A deep philosophical question***\n",
    "\n",
    "An axiom is a rule that does not require any pre conditions.  Our farm has to start some how.\n",
    "Which came first? The chicken or the egg?  One of these rules claims the chicken, the other claims the egg.\n",
    "\n",
    "***Chicken Came First***\n",
    "$$\n",
    "\\begin{array}{c}\n",
    "\\\\\n",
    "\\hline\n",
    "\\textbf{Nil} \\Rightarrow \\textbf{🐔::Nil}\\\\\n",
    "\\end{array}\n",
    "$$\n",
    "\n",
    "***Egg Came First***\n",
    "$$\n",
    "\\begin{array}{c}\n",
    "\\\\\n",
    "\\hline\n",
    "\\textbf{Nil} \\Rightarrow \\textbf{🥚::Nil}\\\\\n",
    "\\end{array}\n",
    "$$"
   ]
  },
  {
   "cell_type": "code",
   "execution_count": null,
   "metadata": {
    "collapsed": true
   },
   "outputs": [],
   "source": []
  }
 ],
 "metadata": {
  "kernelspec": {
   "display_name": "Scala",
   "language": "scala",
   "name": "scala"
  },
  "language_info": {
   "codemirror_mode": "text/x-scala",
   "file_extension": ".scala",
   "mimetype": "text/x-scala",
   "name": "scala",
   "nbconvert_exporter": "script",
   "version": "2.12.10"
  }
 },
 "nbformat": 4,
 "nbformat_minor": 4
}
