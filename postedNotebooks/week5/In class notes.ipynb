{
 "cells": [
  {
   "cell_type": "markdown",
   "metadata": {},
   "source": [
    "## Lettuce Notes \n",
    "\n",
    "let add2num = function(x) {\n",
    "                function(y) {\n",
    "                    x + y\n",
    "                }\n",
    "             }\n",
    "             \n",
    "    in add2num(10)   \n",
    "    \n",
    "- Currently x = bound to 10 and then it reutrns a function of y => (10 + y) \n",
    "- You pass the argument in sequential order \n",
    "\n",
    "\n",
    "- Int => (Int => Int) , give me an int and I will return a function that returns and Int\n",
    "\n",
    "- (Int => Int) => Int , my function takes an int that returns an int, then the function will return another integer. \n",
    "\n",
    "\n",
    "## Why is currying important\n",
    "\n",
    "It allows you to do binding"
   ]
  },
  {
   "cell_type": "code",
   "execution_count": 2,
   "metadata": {},
   "outputs": [
    {
     "data": {
      "text/plain": [
       "defined \u001b[32mfunction\u001b[39m \u001b[36madd2num\u001b[39m\n",
       "\u001b[36mx\u001b[39m: \u001b[32mInt\u001b[39m = \u001b[32m10\u001b[39m\n",
       "\u001b[36mf\u001b[39m: \u001b[32mInt\u001b[39m => \u001b[32mInt\u001b[39m = ammonite.$sess.cmd1$Helper$$Lambda$2217/190302806@6c641043\n",
       "\u001b[36mres1_3\u001b[39m: \u001b[32mInt\u001b[39m = \u001b[32m30\u001b[39m"
      ]
     },
     "execution_count": 2,
     "metadata": {},
     "output_type": "execute_result"
    }
   ],
   "source": [
    "def add2num(x: Int)(y: Int) = { // Int => (Int => Int) \n",
    "    x + y\n",
    "}  \n",
    "\n",
    "\n",
    "/* Scoping example */ \n",
    "val x = 10 \n",
    "val f = (y: Int) => y + x \n",
    "{\n",
    "    val x = 15 \n",
    "    f(20)\n",
    "}"
   ]
  },
  {
   "cell_type": "markdown",
   "metadata": {},
   "source": [
    "LETTUCE                  \n",
    "\n",
    "let x = 10 in                       \n",
    "    let f = function(y)             \n",
    "        y + x                       \n",
    "    in                                \n",
    "        let x = 15 in              \n",
    "            f(20)                    \n",
    "            \n",
    "            \n",
    "SCALA             \n",
    "\n",
    "val x = 10 \n",
    "\n",
    "val f = (y: Int) => y + x\n",
    "\n",
    "{\n",
    "\n",
    "val x = 15 \n",
    "f(20)\n",
    "}"
   ]
  },
  {
   "cell_type": "markdown",
   "metadata": {},
   "source": [
    "## Static / Lexical Scoping  \n",
    "    - defined by \n",
    "\n",
    "\n",
    "## Dynamic scoping: \n",
    "    - implementing dynamic scoping\n",
    "        - Inline: Substitute the body of the function into the function body where it is being called\n",
    "            f(20) => f(20 + x)  \n",
    "            \n",
    "            \n",
    "            \n",
    "# Implementing a static scoping function \n",
    "\n",
    "Expr => Const(Double)\n",
    "    |  Ident(String) \n",
    "    |  Plus(Expr, Expr) \n",
    "    |  Let(String, Expr, Expr) \n",
    "    |  FUNDEF( String, Expr ) \n",
    "    |  FUNCALL( Expr, Expr )   // first part is the function , the second part is the argument \n",
    "    \n",
    "    \n",
    "    \n",
    "What are the parameters of a function definition FUNDEF \n",
    "\n",
    "    function(x)  <-- parameter it is a string \n",
    "        Expr \n",
    "        \n",
    "        \n",
    "LETTUCE FUNCTION  \n",
    "\n",
    "let f = function(x) \n",
    "\n",
    "        x + 20 \n",
    "        \n",
    "    in \n",
    "    \n",
    "        f(3) \n",
    "        \n",
    "        \n",
    "HOW IT LOOKS IN ABSTRACT SYNTAX\n",
    "\n",
    "Let(\"f\", Fundef(\"x\", Plus(Ident(x), Const(20)), \n",
    "\n",
    "Funcall(ident(\"f\"), Const(30))"
   ]
  },
  {
   "cell_type": "markdown",
   "metadata": {},
   "source": [
    "### Wierd function that takes x + x\n",
    "let f = function (g)  // takes in a function g\n",
    "\n",
    "        g(10) \n",
    "        \n",
    "    in \n",
    "    \n",
    "    f( function(x) x + x) \n",
    "    \n",
    "    \n",
    "program returns something complicated , returns 20     "
   ]
  },
  {
   "cell_type": "markdown",
   "metadata": {},
   "source": [
    "### another crazy function, returns 35\n",
    "let f = function(g)\n",
    "\n",
    "        function(x)\n",
    "        \n",
    "            g(g(x))\n",
    "            \n",
    "            \n",
    "   in \n",
    "   \n",
    "       f(function(x) (x + 10) (15)\n",
    "       \n",
    "       \n",
    "## if we take out the second argument, we get a return of an anonymous function\n",
    "## where if you give it something it will return the output of the anonymous function\n",
    "let f = function(g)\n",
    "\n",
    "        function(x)\n",
    "        \n",
    "            g(g(x))\n",
    "            \n",
    "            \n",
    "   in \n",
    "   \n",
    "       f(function(x) (x + 10)       "
   ]
  },
  {
   "cell_type": "markdown",
   "metadata": {},
   "source": [
    "### closure shit\n",
    "\n",
    "\n",
    "\n",
    "let y = 10 in \n",
    "        \n",
    "    let f = fundef(x)        \n",
    "     \n",
    "        x + y\n",
    "        \n",
    "    in \n",
    "    \n",
    "        ...\n",
    "        \n",
    "        \n",
    "env = {}\n",
    "\n",
    "env: { y => 10 } \n",
    "\n",
    "Closure (\"x\", x + y, {y -> 10}) \n",
    "\n",
    "\n",
    "final env\n",
    "\n",
    "env { y->10, f -> Closure(\"x\", x + y, {y -> 10}) "
   ]
  },
  {
   "cell_type": "markdown",
   "metadata": {},
   "source": [
    "1. formal parameter,  the stuff you are waiting for \n",
    "2. expression, the stuff that i will evalaute\n",
    "3. what the formal parameter directly relates to. \n",
    "\n",
    "\n",
    "think of closure of a computation that is waiting for x. Everything else that you may need is also cached away. "
   ]
  },
  {
   "cell_type": "code",
   "execution_count": null,
   "metadata": {
    "collapsed": true
   },
   "outputs": [],
   "source": []
  }
 ],
 "metadata": {
  "kernelspec": {
   "display_name": "Scala",
   "language": "scala",
   "name": "scala"
  },
  "language_info": {
   "codemirror_mode": "text/x-scala",
   "file_extension": ".scala",
   "mimetype": "text/x-scala",
   "name": "scala",
   "nbconvert_exporter": "script",
   "version": "2.12.10"
  }
 },
 "nbformat": 4,
 "nbformat_minor": 2
}
