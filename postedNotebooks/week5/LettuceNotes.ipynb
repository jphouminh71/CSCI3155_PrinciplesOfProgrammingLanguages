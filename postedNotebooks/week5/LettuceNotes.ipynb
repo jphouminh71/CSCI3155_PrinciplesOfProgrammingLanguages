{
 "cells": [
  {
   "cell_type": "markdown",
   "metadata": {},
   "source": [
    "# Lettuce : Salad for CSCI 3155\n",
    "\n",
    "We will now introduce our first langauge called lettuce, a language with let bindings. This language is inspired by an existing family of langauges called ML(Meta Language), which has been implemented in general purpose languages such as SML, OCAML, ELM and so on. \n",
    "\n",
    "The Lettuce language will illustrate the following important concepts: \n",
    "    * Immutable data: Environemnts\n",
    "    * Function calls, closures and recursive functions\n",
    "    * Mutable data through references \n",
    "    \n",
    "We are going to build example programs to understand the central concept in our let language\n",
    "    - the let binding. \n",
    "    \n",
    " \n",
    " \n",
    "## Let Bindings\n",
    "\n",
    "Let bindings allow us to bind an identifier to a value and use it inside a body expression, using the syntax of the following form. \n",
    "\n",
    "    let (symbolName) = (defining expression) in (body expression) \n",
    "\n",
    "Let's practice writing some programs in Lettuce ( no pun intended )\n",
    "\n",
    "### Example 1\n",
    "    let x = 3.5 in x + x\n",
    "\n",
    "First of all, it defines a symbol named x. The defining expression here is 3.5, and thus evaluates to 3.5. The body expression is x + X. \n",
    "\n",
    "With x bound to 3.5 the answer will evaluate to 7.0 \n",
    "\n",
    "Therefore the whole expression can be successfully rewritten as follows:\n",
    "    \n",
    "__eval__ ( \"let x = 3.5 in x + x\") -->  __eval__( 3.5 + 3.5 ) --> __eval__ (7.0) -->  7.0\n",
    "    \n",
    "### Example 2\n",
    "\n",
    "    We can now nest let binding as follows:\n",
    "        let x = 3.0 in \n",
    "            let y = 4.5 - x in \n",
    "                x + 2.0 * y \n",
    "\n",
    "This has two let bindings: \n",
    "Outer binding: \n",
    "    let x = 3.0 in ((body expression #1))\n",
    "\n",
    "The outer binding defines symbol x to the defining expression 3.0 and the body expression # 1 is given by \n",
    "    let y = 4.5 in x + 2.0 * y\n",
    " \n",
    "defines the symbol y to the defining expression 4.5 - x and the in the body expression # 2 is given by x + 2.0 * y \n",
    "\n",
    "Now that we have picked that apart, let us evaluate this expression ourselves. \n",
    "\n",
    "__eval__(\"let x = 3.0 in let y = 4.5 - x in x + 2.0 * y\") --> __eval__ (\" let y = 4.5 - 3.0 in 3.0 + 2.0 * y \" ) \n",
    " -->  __eval__(\"let y = 1.5 in 3.0 + 2.0 * y\") --> __eval__ (3.0 + 2.0 * 1.5) --> __eval__(6.0) --> 6.0 \n",
    "\n",
    "### Example 3\n",
    "Let us do one more with different nesting of let bindings. \n",
    "\n",
    "    let x = ( let y = 5 in y * y ) in \n",
    "           let z = 15 * x in \n",
    "                   x - z \n",
    "\n",
    "Thus far we saw body expressions having let bindings. Now we can allow let bindings for the defining expressions as well. \n",
    "    let x = (defining expression $ 1) in (body expression #1) \n",
    "\n",
    "Defining epxression # 1 itself is \n",
    "    \n",
    "        let y = 5 in y * y \n",
    "\n",
    "The body expression # 1 is \n",
    "    \n",
    "        let z = 15 * x in x - z\n",
    "        \n",
    "How do we eavluate it? Now is a good time to break up the evaluation of a let binding\n",
    "    \n",
    "     let sym = (defining expression) in body expression \n",
    "\n",
    "as follows: \n",
    "    1. Evaluate the defining expression: Eval(defining expression)\n",
    "    2. Associate the symbol sym with result from step 1\n",
    "    3. evaluate the body expression but now remember the association from step 1. \n"
   ]
  },
  {
   "cell_type": "markdown",
   "metadata": {},
   "source": [
    "# Let Bindings in Scala \n",
    "\n",
    "Scala does not have let bindings with the same syntax but it has let bindings through the val declaration. \n",
    "    \n",
    "    val x = 10\n",
    "    val y = x + 10 \n",
    "    val z = y + 10 \n",
    "    (x + y + z)\n",
    "    \n",
    "Here we have assigned x to 10 and y to x+10 and then z to y + 10 with x+y+z beings the overall value of our code fragment above. \n",
    "\n",
    "Compare with how we could write something similar in Lettuce\n",
    "\n",
    "    let x = 10 in \n",
    "        let y = x + 10 in \n",
    "            let z = y + 10 in \n",
    "                x + y + z \n",
    "\n",
    "Here is another example in __Scala__: \n",
    "\n",
    "    val z = {\n",
    "        val x = 10 \n",
    "        val y = 15 \n",
    "        x + y\n",
    "    }\n",
    "    return z + 10 \n",
    "In Lettuce, we would write \n",
    "\n",
    "    let z = { \n",
    "        let x = 10 in \n",
    "            let y = 15 in \n",
    "                x + y\n",
    "        }\n",
    "        in \n",
    "            z + 10 \n",
    "            \n",
    "Now you appreciate how let bindings in also arise in Scala without the let id = defining-expr in body-expr syntax.       "
   ]
  },
  {
   "cell_type": "markdown",
   "metadata": {},
   "source": [
    "# Scoping in Lettuce \n",
    "\n",
    "It is now important to understand scoping rules. Scoping rules allow us to understand which let binding applies to a given identifier x. \n",
    "\n",
    "Consider the following program. \n",
    "    let y = 15 in \n",
    "        let x = 10 in x + y\n",
    "\n",
    "Consider the expression x + y. You can understand which let binding has defined x an which let binding has defined y. \n",
    "\n",
    "However, consider the more complicated case: \n",
    "    \n",
    "    let x = 10 in \n",
    "    let x = x + 10 in \n",
    "    let x = x + 10 in \n",
    "        x + 10 \n",
    "        \n",
    "Here we are repeatedly redefining x however the right hand side referes back to the left hand side. Is this allowed? The equivalent code in __scala__ raises an error since a statment like val x = x + 10 in scala is forbidden. "
   ]
  },
  {
   "cell_type": "code",
   "execution_count": 0,
   "metadata": {},
   "outputs": [
    {
     "name": "stderr",
     "output_type": "stream",
     "text": [
      "cmd0.sc:2: x is already defined as value x\n",
      "val x = x + 10 \n",
      "          ^cmd0.sc:3: x is already defined as value x\n",
      "val x = x + 10 \n",
      "          ^Compilation Failed"
     ]
    },
    {
     "ename": "",
     "evalue": "",
     "output_type": "error",
     "traceback": [
      "Compilation Failed"
     ]
    }
   ],
   "source": [
    "val x = 10 \n",
    "val x = x + 10 \n",
    "val x = x + 10 \n",
    "x + 10"
   ]
  },
  {
   "cell_type": "markdown",
   "metadata": {},
   "source": [
    "However, this is a matter of definition. In Lettuce, we could pretend that the scopig rules allow the defining expression in a let binding to be evaluate first under previously defined let bindings. \n",
    "\n",
    "Therefore, the code fragment \n",
    "    let x = 10 in \n",
    "        let x + 10 in \n",
    "            let x = x + 10 in \n",
    "                x + 10 \n",
    "                \n",
    "is entirely equivalent to \n",
    "    let x0 = 10 in \n",
    "        let x1 = x0 + 10 in \n",
    "            let x2 = x1 + 10 in \n",
    "                let x3 = x2 + 10 in \n",
    "                    x3 + 10 \n",
    "                    \n",
    "\n",
    "How about this one? \n",
    "    \n",
    "    let y = 15 in \n",
    "        let x = ( let y = 10 in y + y ) in \n",
    "            y + x \n",
    "            \n",
    "There are two places where y is being defined. So which binding of y matters for y + x? \n",
    "\n",
    "__Answer is that this is entirely equal to__\n",
    "    let y1 = 15 in \n",
    "        let x1 = ( let y2 = 10 in y2 + y2 ) in \n",
    "            y1 + x1 \n",
    "            \n",
    "Thus the value of y is 15 when evaluating y + x but equals 10 when evaluating y2 + y2. \n",
    "\n",
    "__ just remember that if you are redefining in a different scope that its legit just another variable __ \n",
    "\n",
    "The same holds in __scala__ \n",
    "\n",
    "    val y = 15 \n",
    "    val x = {\n",
    "        val y = 10 \n",
    "        y + y \n",
    "    }\n",
    "    x + y         "
   ]
  },
  {
   "cell_type": "code",
   "execution_count": 3,
   "metadata": {},
   "outputs": [
    {
     "name": "stdout",
     "output_type": "stream",
     "text": [
      "(Y is being redefined in this scope as: ,10)\n",
      "(But Y out here is still defined out here as: ,15)\n"
     ]
    },
    {
     "data": {
      "text/plain": [
       "\u001b[36my\u001b[39m: \u001b[32mInt\u001b[39m = \u001b[32m15\u001b[39m\n",
       "\u001b[36mx\u001b[39m: \u001b[32mInt\u001b[39m = \u001b[32m20\u001b[39m"
      ]
     },
     "execution_count": 3,
     "metadata": {},
     "output_type": "execute_result"
    }
   ],
   "source": [
    "val y = 15 \n",
    "val x = {\n",
    "    val y = 10 \n",
    "    println(\"Y is being redefined in this scope as: \", y)\n",
    "    y + y\n",
    "}\n",
    "println(\"But Y out here is still defined out here as: \", y)"
   ]
  },
  {
   "cell_type": "markdown",
   "metadata": {},
   "source": [
    "# Basic Types in Lettuce\n",
    "To begin with, we will allow variables in Lettuce to be double precision numbers and Booleans. Later, of course, we will add more types to the language. This means we will allow the entire grammar of expressions and conditional expressions we have previously defined into Lettuce. \n",
    "\n",
    "    let x = 25 in \n",
    "        let y = exp(x) in \n",
    "            let z = ( x >= y ) in \n",
    "                if (z) \n",
    "                    then y \n",
    "                    else x \n",
    "                    \n",
    "Here x is defined as a double precision value 25 and y computes the exponential of x. Finally, z is a Boolean that computes true if x >= y and false otherwise. Finally, the entire expression evaluates to y if z is true otherwise to x.\n",
    "\n",
    "\n",
    "# Function Calls in Lettuce\n",
    "We will allow defintions of functions and calls to them in Lettuce. __All functions in Lettuce can have just one argument to them.__\n",
    "\n",
    "    let w = 3.1415 in \n",
    "    let f = function(x) \n",
    "            let y = 2 * x - 5 in \n",
    "            let z = 2 * w * x in \n",
    "                y * sin(z) \n",
    "           in \n",
    "           w * w + f(1) \n",
    "           \n",
    "Here we have defined .a function f using let bindings. \n",
    "    \n",
    "    let <function name> = function(<formal parameter name>) \n",
    "                                <body expression for function> \n",
    "                             in \n",
    "                                <body expression> \n",
    "                                \n",
    "For the example above, the <function name> is f, the <formal parameter name> is x, the <body expression for function> is \n",
    "\n",
    "    let y = 2 * x - 5 in \n",
    "        let z = 2 * w * x in\n",
    "            y * sin(z)\n",
    "\n",
    "the other <body expression> is w * w + f(1) \n",
    "\n",
    "It is important to understand scoping rules for a function call. First, the variable x inside the body of f referes to its formal parameter. What about the variable w inside the body of f? It must refer to the let binding w = 3.1415 in that immediately preceds it. If we made the this choice then it is called  STATIC SCOPING ( Where variables insdie a function are resolved at the time of defintion of the function. Adifferent choice can be made called DYNAMIC SCOPING where variables are resolved not at the time when f is resolved but for when f is actually called. \n",
    "\n",
    "For instance, consider\n",
    "\n",
    "    let w = 3.1415 in \n",
    "    let f = function(x)\n",
    "               x * sin(2 * w * x)\n",
    "          in \n",
    "    let w = 3.1415/2.0 in \n",
    "          w * w + f(1) \n",
    "          \n",
    "          \n",
    "Under staic scoping, the w inside the body function f resolves to 3.1415, whereas the w at the call to f => w * w + f(1) resolves to 3.1415/2.0 since that is what w is when we call f(1). If you think of dynamic scoping as \"counter intuitve\", just think again. It is the scoping that python uses. \n",
    "\n",
    "\n",
    "# Here is a python program \n",
    "\n",
    "~~~\n",
    "# Here is a python program\n",
    "w = 25\n",
    "def f(x):\n",
    "   return x + w\n",
    "w = 50\n",
    "print(f(30)) # Does it print 55 or 80?\n",
    "~~~\n",
    "\n",
    "\n",
    "this will print 80 since w is 50 at function call. Python is dynamic scoping"
   ]
  },
  {
   "cell_type": "markdown",
   "metadata": {
    "collapsed": true
   },
   "source": [
    "__STATIC SCOPING:__Variables inside of a function are resovled at the time of defintion. SO, this essentially means that any variable that is declared before a function is declared is what the function will be resolved to. \"It resolves to what has already been seen\" \n",
    "\n",
    "__DYNAMIC SCOPING:__Variables are bound to essentially the most recent defintion for when the function is called."
   ]
  },
  {
   "cell_type": "markdown",
   "metadata": {},
   "source": [
    "What kind of scoping does scala have? Can we try? First of all, scala does not permit redefining val inside of the same scope. The program below will raise a syntax error (try it). \n",
    "\n",
    "val w = 25\n",
    "val f(x: Int): Int = x + w\n",
    "val w = 50\n",
    "val z = f(30)\n",
    "\n",
    "But we can run a program like this and conclude that scala does static scoping as well. "
   ]
  },
  {
   "cell_type": "code",
   "execution_count": 1,
   "metadata": {},
   "outputs": [
    {
     "name": "stdout",
     "output_type": "stream",
     "text": [
      "From inside: w = 10"
     ]
    },
    {
     "data": {
      "text/plain": [
       "\u001b[36mw\u001b[39m: \u001b[32mInt\u001b[39m = \u001b[32m10\u001b[39m\n",
       "defined \u001b[32mfunction\u001b[39m \u001b[36mf\u001b[39m\n",
       "\u001b[36mz\u001b[39m: \u001b[32mInt\u001b[39m = \u001b[32m30\u001b[39m"
      ]
     },
     "execution_count": 1,
     "metadata": {},
     "output_type": "execute_result"
    }
   ],
   "source": [
    "val w = 10\n",
    "def f(x:Int): Int = {print(s\"From inside: w = $w\"); x + w}\n",
    "val z = {\n",
    "    val w = 20\n",
    "    f(20)\n",
    "}"
   ]
  },
  {
   "cell_type": "markdown",
   "metadata": {},
   "source": [
    "# Currying Functions\n",
    "\n",
    "Lettuce has just one argument functions. How do we do multiple argument functions in Lettuce? Simple, we can always use currying to define a function with multiple arguemnts. \n",
    "\n",
    "    let f = function (x) function(y) x + y in \n",
    "        f (10) (20)\n",
    "\n",
    "This defines a function of two arguments f as first a function that takes in x and returns a function that takes in y and adds x + y\n",
    "\n",
    "An equivalent way of writing would be \n",
    "    \n",
    "\n",
    "~~~\n",
    "let f = function (x) \n",
    "        let g = function (y) x + y in \n",
    "            g\n",
    "        in \n",
    "   let y1 = f(10)  in \n",
    "         y1(20)\n",
    "~~~\n",
    "\n",
    "      \n",
    "Currying is also supported in Scala. Let us take an example. "
   ]
  },
  {
   "cell_type": "code",
   "execution_count": 17,
   "metadata": {},
   "outputs": [
    {
     "name": "stdout",
     "output_type": "stream",
     "text": [
      "10 + 20\n"
     ]
    },
    {
     "data": {
      "text/plain": [
       "defined \u001b[32mfunction\u001b[39m \u001b[36mf\u001b[39m\n",
       "\u001b[36mv1\u001b[39m: \u001b[32mInt\u001b[39m => \u001b[32mInt\u001b[39m = ammonite.$sess.cmd16$Helper$$Lambda$2778/1540332367@108ac09b\n",
       "\u001b[36mv2\u001b[39m: \u001b[32mInt\u001b[39m = \u001b[32m30\u001b[39m"
      ]
     },
     "execution_count": 17,
     "metadata": {},
     "output_type": "execute_result"
    }
   ],
   "source": [
    "def f(x: Int) (y: Int) = {\n",
    "    println(s\"$x + $y\")\n",
    "    x + y\n",
    "}\n",
    "\n",
    "val v1: Int => Int = f(10)\n",
    "\n",
    "val v2 = v1(20)"
   ]
  },
  {
   "cell_type": "markdown",
   "metadata": {},
   "source": [
    "Currying is very usefule in the following situation: \n",
    "    * Apply some operations to your inputs\n",
    "    * Call a user defined function on the result"
   ]
  },
  {
   "cell_type": "code",
   "execution_count": 4,
   "metadata": {},
   "outputs": [
    {
     "data": {
      "text/plain": [
       "defined \u001b[32mfunction\u001b[39m \u001b[36mmultiplyAndProcess\u001b[39m\n",
       "\u001b[36mv1\u001b[39m: \u001b[32mInt\u001b[39m = \u001b[32m400\u001b[39m\n",
       "defined \u001b[32mfunction\u001b[39m \u001b[36mmultiplyAndProcess2\u001b[39m\n",
       "\u001b[36mv2\u001b[39m: \u001b[32mInt\u001b[39m = \u001b[32m400\u001b[39m"
      ]
     },
     "execution_count": 4,
     "metadata": {},
     "output_type": "execute_result"
    }
   ],
   "source": [
    "def multiplyAndProcess(x: Int, y: Int) (f: Int => Int) = {\n",
    "    f ( x* y)\n",
    "}\n",
    "val v1 = multiplyAndProcess(20,10) { x => 2 * x }\n",
    "\n",
    "def multiplyAndProcess2(x:Int)(y:Int)(f: Int=>Int) ={\n",
    "    f(x*y)\n",
    "}\n",
    "\n",
    "val v2 = multiplyAndProcess2(20)(10)(x => 2 *x)"
   ]
  },
  {
   "cell_type": "markdown",
   "metadata": {},
   "source": [
    "## Grammar for Lettuce\n",
    "\n",
    "We are now ready to define a grammar for Lettuce.\n",
    "\n",
    "$$\\begin{array}{rcll}\n",
    "\\mathbf{Program} & \\rightarrow & TopLevel(\\mathbf{Expr}) \\\\[5pt]\n",
    "\\mathbf{Expr} & \\rightarrow & Const(\\mathbf{Number}) \\\\\n",
    " & | & True \\\\\n",
    " & | & False \\\\\n",
    " & | & Ident(\\mathbf{Identifier}) \\\\\n",
    " & | & Plus(\\mathbf{Expr}, \\mathbf{Expr}) \\\\\n",
    " & | & Minus(\\mathbf{Expr}, \\mathbf{Expr}) \\\\\n",
    " & | & Mult (\\mathbf{Expr}, \\mathbf{Expr}) \\\\\n",
    " & | & Div (\\mathbf{Expr}, \\mathbf{Expr}) \\\\\n",
    " & | & Log (\\mathbf{Expr}) \\\\\n",
    " & | & Exp (\\mathbf{Expr}) \\\\\n",
    " & | & Sine (\\mathbf{Expr}) \\\\\n",
    " & | & Cosine (\\mathbf{Expr}) \\\\\n",
    " & | & Geq (\\mathbf{Expr}, \\mathbf{Expr}) \\\\\n",
    " & | & Eq (\\mathbf{Expr}, \\mathbf{Expr}) \\\\\n",
    " & | & And ( \\mathbf{Expr}, \\mathbf{Expr} ) \\\\\n",
    " & | & Or ( \\mathbf{Expr}, \\mathbf{Expr} ) \\\\\n",
    " & | & Not ( \\mathbf{Expr}) \\\\\n",
    " & | & IfThenElse(\\mathbf{Expr}, \\mathbf{Expr}, \\mathbf{Expr}) & \\text{if (expr) then expr else expr} \\\\\n",
    " & | & Let( \\mathbf{Identifier}, \\mathbf{Expr}, \\mathbf{Expr}) & \\text{let identifier = expr in expr} \\\\\n",
    " & | & FunDef( \\mathbf{Identifier}, \\mathbf{Expr}) & \\text{function (identifier) expr } \\\\ \n",
    " & | & FunCall(\\mathbf{Expr}, \\mathbf{Expr}) & \\text{function call - identifier(expr)} \\\\[5pt]\n",
    "\\end{array}$$\n",
    "\n"
   ]
  },
  {
   "cell_type": "markdown",
   "metadata": {},
   "source": [
    "It helps to know how programs written in the concrete syntax translate into abstract syntax using the grammar.. \n",
    "\n",
    "## Example 1\n",
    "\n",
    "    let x = 10 + 15 in \n",
    "        let y = x >= 25 in \n",
    "            if (y)\n",
    "                then x\n",
    "                    else x - 35\n",
    "                    \n",
    "will translate to\n",
    "\n",
    "    Let(\"x\", Plus(Const(10), Const(15)),\n",
    "            Let(\"y\", Geq(Ident(\"y\"),\n",
    "                Ident(\"x\"),\n",
    "                    Minus(Ident(\"x\"), Const(35))\n",
    "                \n",
    "                )\n",
    "         )\n",
    "    )\n",
    "    \n",
    "    \n",
    "    \n",
    "## Example 2\n",
    "\n",
    "    let square = function (w) w * w in \n",
    "        25 + square(25)\n",
    "     \n",
    "will translate to\n",
    "\n",
    "    Let(\"Square\", FunDef(\"w\",Mult(Ident(\"w\"), Ident(\"w\")) ),\n",
    "               Plus(Const(25),FunCall(Ident(\"square\"),Const(25)))"
   ]
  },
  {
   "cell_type": "code",
   "execution_count": 3,
   "metadata": {
    "scrolled": true
   },
   "outputs": [
    {
     "data": {
      "text/plain": [
       "defined \u001b[32mtrait\u001b[39m \u001b[36mProgram\u001b[39m\n",
       "defined \u001b[32mtrait\u001b[39m \u001b[36mExpr\u001b[39m\n",
       "defined \u001b[32mclass\u001b[39m \u001b[36mTopLevel\u001b[39m\n",
       "defined \u001b[32mclass\u001b[39m \u001b[36mConst\u001b[39m\n",
       "defined \u001b[32mobject\u001b[39m \u001b[36mTrue\u001b[39m\n",
       "defined \u001b[32mobject\u001b[39m \u001b[36mFalse\u001b[39m\n",
       "defined \u001b[32mclass\u001b[39m \u001b[36mIdent\u001b[39m\n",
       "defined \u001b[32mclass\u001b[39m \u001b[36mPlus\u001b[39m\n",
       "defined \u001b[32mclass\u001b[39m \u001b[36mMinus\u001b[39m\n",
       "defined \u001b[32mclass\u001b[39m \u001b[36mMult\u001b[39m\n",
       "defined \u001b[32mclass\u001b[39m \u001b[36mDiv\u001b[39m\n",
       "defined \u001b[32mclass\u001b[39m \u001b[36mLog\u001b[39m\n",
       "defined \u001b[32mclass\u001b[39m \u001b[36mExp\u001b[39m\n",
       "defined \u001b[32mclass\u001b[39m \u001b[36mSine\u001b[39m\n",
       "defined \u001b[32mclass\u001b[39m \u001b[36mCosine\u001b[39m\n",
       "defined \u001b[32mclass\u001b[39m \u001b[36mGeq\u001b[39m\n",
       "defined \u001b[32mclass\u001b[39m \u001b[36mEq\u001b[39m\n",
       "defined \u001b[32mclass\u001b[39m \u001b[36mAnd\u001b[39m\n",
       "defined \u001b[32mclass\u001b[39m \u001b[36mOr\u001b[39m\n",
       "defined \u001b[32mclass\u001b[39m \u001b[36mNot\u001b[39m\n",
       "defined \u001b[32mclass\u001b[39m \u001b[36mIfThenElse\u001b[39m\n",
       "defined \u001b[32mclass\u001b[39m \u001b[36mLet\u001b[39m\n",
       "defined \u001b[32mclass\u001b[39m \u001b[36mFunDef\u001b[39m\n",
       "defined \u001b[32mclass\u001b[39m \u001b[36mFunCall\u001b[39m"
      ]
     },
     "execution_count": 3,
     "metadata": {},
     "output_type": "execute_result"
    }
   ],
   "source": [
    "sealed trait Program\n",
    "sealed trait Expr\n",
    "\n",
    "case class TopLevel(e: Expr) extends Program\n",
    "\n",
    "case class Const(v: Double) extends Expr // Expr -> Const(v)\n",
    "case object True extends Expr // Expr -> True\n",
    "case object False extends Expr // Expr -> False\n",
    "case class Ident(s: String) extends Expr // Expr -> Ident(s)\n",
    "\n",
    "// Arithmetic Expressions\n",
    "case class Plus(e1: Expr, e2: Expr) extends Expr // Expr -> Plus(Expr, Expr)\n",
    "case class Minus(e1: Expr, e2: Expr) extends Expr // Expr -> Minus(Expr, Expr)\n",
    "case class Mult(e1: Expr, e2: Expr) extends Expr // Expr -> Mult (Expr, Expr)\n",
    "case class Div(e1: Expr, e2: Expr) extends Expr // Expr -> Mult(Expr, Expr)\n",
    "case class Log(e: Expr) extends Expr \n",
    "case class Exp(e: Expr) extends Expr\n",
    "case class Sine(e: Expr) extends Expr\n",
    "case class Cosine(e: Expr) extends Expr\n",
    "\n",
    "// Boolean Expressions\n",
    "case class Geq(e1: Expr, e2:Expr) extends Expr\n",
    "case class Eq(e1: Expr, e2: Expr) extends Expr\n",
    "case class And(e1: Expr, e2: Expr) extends Expr\n",
    "case class Or(e1: Expr, e2: Expr) extends Expr\n",
    "case class Not(e: Expr) extends Expr\n",
    "\n",
    "//If then else\n",
    "case class IfThenElse(e: Expr, eIf: Expr, eElse: Expr) extends Expr\n",
    "\n",
    "//Let bindings\n",
    "case class Let(s: String, defExpr: Expr, bodyExpr: Expr) extends Expr\n",
    "\n",
    "//Function definition\n",
    "case class FunDef(param: String, bodyExpr: Expr) extends Expr\n",
    "\n",
    "// Function call\n",
    "case class FunCall(funCalled: Expr, argExpr: Expr) extends Expr\n"
   ]
  },
  {
   "cell_type": "code",
   "execution_count": 11,
   "metadata": {},
   "outputs": [
    {
     "data": {
      "text/plain": [
       "\u001b[36mp1\u001b[39m: \u001b[32mTopLevel\u001b[39m = \u001b[33mTopLevel\u001b[39m(\n",
       "  \u001b[33mLet\u001b[39m(\n",
       "    \u001b[32m\"x\"\u001b[39m,\n",
       "    \u001b[33mPlus\u001b[39m(\u001b[33mConst\u001b[39m(\u001b[32m10.0\u001b[39m), \u001b[33mConst\u001b[39m(\u001b[32m15.0\u001b[39m)),\n",
       "    \u001b[33mLet\u001b[39m(\n",
       "      \u001b[32m\"y\"\u001b[39m,\n",
       "      \u001b[33mGeq\u001b[39m(\u001b[33mIdent\u001b[39m(\u001b[32m\"x\"\u001b[39m), \u001b[33mConst\u001b[39m(\u001b[32m25.0\u001b[39m)),\n",
       "      \u001b[33mIfThenElse\u001b[39m(\u001b[33mIdent\u001b[39m(\u001b[32m\"y\"\u001b[39m), \u001b[33mIdent\u001b[39m(\u001b[32m\"x\"\u001b[39m), \u001b[33mMinus\u001b[39m(\u001b[33mIdent\u001b[39m(\u001b[32m\"x\"\u001b[39m), \u001b[33mConst\u001b[39m(\u001b[32m35.0\u001b[39m)))\n",
       "    )\n",
       "  )\n",
       ")"
      ]
     },
     "execution_count": 11,
     "metadata": {},
     "output_type": "execute_result"
    }
   ],
   "source": [
    "val p1 = TopLevel(Let(\"x\", Plus(Const(10), Const(15)), \n",
    "         Let(\"y\", Geq(Ident(\"x\"), Const(25)), \n",
    "                IfThenElse( Ident(\"y\"), \n",
    "                               Ident(\"x\"), \n",
    "                               Minus(Ident(\"x\"), Const(35))\n",
    "                           )\n",
    "             )\n",
    "    ))"
   ]
  },
  {
   "cell_type": "code",
   "execution_count": 12,
   "metadata": {},
   "outputs": [
    {
     "data": {
      "text/plain": [
       "\u001b[36mp2\u001b[39m: \u001b[32mTopLevel\u001b[39m = \u001b[33mTopLevel\u001b[39m(\n",
       "  \u001b[33mLet\u001b[39m(\n",
       "    \u001b[32m\"square\"\u001b[39m,\n",
       "    \u001b[33mFunDef\u001b[39m(\u001b[32m\"w\"\u001b[39m, \u001b[33mMult\u001b[39m(\u001b[33mIdent\u001b[39m(\u001b[32m\"w\"\u001b[39m), \u001b[33mIdent\u001b[39m(\u001b[32m\"w\"\u001b[39m))),\n",
       "    \u001b[33mPlus\u001b[39m(\u001b[33mConst\u001b[39m(\u001b[32m25.0\u001b[39m), \u001b[33mFunCall\u001b[39m(\u001b[33mIdent\u001b[39m(\u001b[32m\"square\"\u001b[39m), \u001b[33mConst\u001b[39m(\u001b[32m25.0\u001b[39m)))\n",
       "  )\n",
       ")"
      ]
     },
     "execution_count": 12,
     "metadata": {},
     "output_type": "execute_result"
    }
   ],
   "source": [
    "val p2 = TopLevel(Let(\"square\", FunDef(\"w\", Mult(Ident(\"w\"), Ident(\"w\")) ), Plus(Const(25), FunCall(Ident(\"square\"), Const(25)))))"
   ]
  },
  {
   "cell_type": "markdown",
   "metadata": {
    "collapsed": true
   },
   "source": [
    "# Well Formed vs. Ill Formed Programs\n",
    "\n",
    "You may already note that the abstract syntax allows us to write all kinds of programs that should be clearly illegal. Here are some examples: \n",
    "\n",
    "    let x = y + z in y * z \n",
    "    \n",
    "y and z are undelcared at the time and binding y+z to x, same problem when evaluating y * z \n",
    "\n",
    "    let y = 10 in \n",
    "    let z = 15 in \n",
    "    let x = y + (z >= 25) in \n",
    "        false\n",
    "        \n",
    "\n",
    "Here we are trying to add a number y and aboolean expression z > 25 what is the meaning? \n",
    "\n",
    "    let y = 15 in \n",
    "    let z = 25 + function (w) w*w in \n",
    "        y(31) \n",
    "        \n",
    "\n",
    "Wow, where do you even begin? First of all, we are adding 25 to a function defintion function (w) w* w and calling y(31) which is not even a function \n",
    "\n",
    "\n",
    "Programs like this are really confusing. Do we even allow them? Why can't we just forbid them in the abstract syntax tree? \n",
    "\n",
    "__Fact:__ Abstract syntax trees are built from context free grammars. Unfortunately, due to limitations arising from context freedom (ie LHS of each rlue is just a single nonterminal), we cannot really enforce rules like \n",
    "    \n",
    "    * Variables should be declared before use\n",
    "    * Boolean expressions cannot be added to integer expressions\n",
    "    * Function calls can only be made over proper functions\n",
    "    \n",
    "Programming langauges generally have different enforcement mechanisms: \n",
    "\n",
    "    * Check if a program is well-formed while prasing the program \n",
    "    * Check types of expressions while parsing the program (static type checking) \n",
    "    * Checking types of expressions while interpreting/evaluating the program (runtime typechecking). \n",
    "    * A combination of the above\n",
    "    \n",
    "Let us use scala as an example. Certain issues are cuaght at compile time."
   ]
  },
  {
   "cell_type": "code",
   "execution_count": 0,
   "metadata": {},
   "outputs": [
    {
     "name": "stderr",
     "output_type": "stream",
     "text": [
      "cmd0.sc:2: overloaded method value + with alternatives:\n",
      "  (x: Int)Int <and>\n",
      "  (x: Char)Int <and>\n",
      "  (x: Short)Int <and>\n",
      "  (x: Byte)Int\n",
      " cannot be applied to (Boolean)\n",
      "    x + (x >= 233)\n",
      "      ^Compilation Failed"
     ]
    },
    {
     "ename": "",
     "evalue": "",
     "output_type": "error",
     "traceback": [
      "Compilation Failed"
     ]
    }
   ],
   "source": [
    "// Adding a number to a boolean, scala will catch it right away\n",
    "def f(x: Int): Int = {\n",
    "    x + (x >= 233)\n",
    "}"
   ]
  },
  {
   "cell_type": "code",
   "execution_count": 0,
   "metadata": {},
   "outputs": [
    {
     "name": "stderr",
     "output_type": "stream",
     "text": [
      "cmd0.sc:1: not found: type Booelan\n",
      "def comp(x: String): Booelan = {\n",
      "                     ^cmd0.sc:2: type mismatch;\n",
      " found   : Int(233)\n",
      " required: String\n",
      "    x >= 233;\n",
      "         ^Compilation Failed"
     ]
    },
    {
     "ename": "",
     "evalue": "",
     "output_type": "error",
     "traceback": [
      "Compilation Failed"
     ]
    }
   ],
   "source": [
    "// COmparing a string to a number? \n",
    "def comp(x: String): Booelan = {\n",
    "    x >= 233;\n",
    "}"
   ]
  },
  {
   "cell_type": "code",
   "execution_count": 0,
   "metadata": {},
   "outputs": [
    {
     "name": "stderr",
     "output_type": "stream",
     "text": [
      "cmd0.sc:1: Int does not take parameters\n",
      "def nonsense(x: Int): Int = x(233)\n",
      "                             ^Compilation Failed"
     ]
    },
    {
     "ename": "",
     "evalue": "",
     "output_type": "error",
     "traceback": [
      "Compilation Failed"
     ]
    }
   ],
   "source": [
    "// Trying to a call a number? \n",
    "def nonsense(x: Int): Int = x(233)"
   ]
  },
  {
   "cell_type": "code",
   "execution_count": 4,
   "metadata": {},
   "outputs": [
    {
     "data": {
      "text/plain": [
       "defined \u001b[32mfunction\u001b[39m \u001b[36mincompleteCase\u001b[39m"
      ]
     },
     "execution_count": 4,
     "metadata": {},
     "output_type": "execute_result"
    }
   ],
   "source": [
    "// This is an example of runtime checking because the match \n",
    "// can fall through, but scala wont catch it until runtime. \n",
    "def incompleteCase(x: (Int, Int, Int)): Int = x match {\n",
    "    case (i, j, k) if i == 0 => j - k\n",
    "    case (i, j, k) if j > 0 => i - k\n",
    "    case (i, j, k) if k > 0 => j - i\n",
    "    // Clearly more cases are needed here. \n",
    "    // Will scala complain when compiling this?\n",
    "}"
   ]
  },
  {
   "cell_type": "code",
   "execution_count": 2,
   "metadata": {},
   "outputs": [
    {
     "name": "stdout",
     "output_type": "stream",
     "text": [
      "7\n"
     ]
    },
    {
     "ename": "",
     "evalue": "",
     "output_type": "error",
     "traceback": [
      "\u001b[31mscala.MatchError: (2,-3,-5) (of class scala.Tuple3)\u001b[39m\n  ammonite.$sess.cmd0$Helper.incompleteCase(\u001b[32mcmd0.sc\u001b[39m:\u001b[32m1\u001b[39m)\n  ammonite.$sess.cmd1$Helper.<init>(\u001b[32mcmd1.sc\u001b[39m:\u001b[32m2\u001b[39m)\n  ammonite.$sess.cmd1$.<init>(\u001b[32mcmd1.sc\u001b[39m:\u001b[32m7\u001b[39m)\n  ammonite.$sess.cmd1$.<clinit>(\u001b[32mcmd1.sc\u001b[39m:\u001b[32m-1\u001b[39m)"
     ]
    }
   ],
   "source": [
    "// RUNTIME CHECKING: Scala will complain when running\n",
    "println(incompleteCase((0,2,-5) ))\n",
    "incompleteCase( (2,-3,-5) )"
   ]
  },
  {
   "cell_type": "markdown",
   "metadata": {},
   "source": [
    "In the same vein, we can catch errors in Lettuce programs at __compile time.__\n",
    "    * Variables should be declared before use ( we can catch this using special declare before use check) \n",
    "    \n",
    "    * Boolean expressions cannot be added to integer expressions ( we will catch this when we do type checking) \n",
    "    \n",
    "    * FUnction call can only be made over proper functions ( we will catch this during type checking )\n",
    "    \n",
    " "
   ]
  },
  {
   "cell_type": "markdown",
   "metadata": {},
   "source": [
    "## Example: Checking Whether Variables Are Declared Before Usage. \n",
    "\n",
    "Let us define inference rules that will help us chekc if an expression is checked before use. To do so, we will define a set of currently declared variables that are in scope called S. \n",
    "\n",
    "We will define inference rules for judgements of the form: WellFormed(e,S) that says that expression e is WellFormed under the set declared in scope variables S\n",
    "\n",
    "Constants are well formed under any set S \n",
    "\n",
    "$$ \\begin{array}{c}\n",
    "\\\\\n",
    "\\hline\n",
    "WellFormed(\\texttt{Const(f)}, S) \\\\\n",
    "\\end{array} \\text{(const-rule)} $$\n",
    "\n",
    "The rules for True and False are similar. Identifiers are well formed only if they belong to S: \n",
    "\n",
    "$$\\begin{array}{c}\n",
    "x \\in S \\\\\n",
    "\\hline\n",
    "WellFormed(\\texttt{Ident(x)}, S) \\\\\n",
    "\\end{array} \\text{(ident-rule)} $$\n",
    "\n",
    "\n",
    "The rules for binary operator Plus, Minus, Mult, Div, Geq, Eq, And, Or are all very similar. \n",
    "\n",
    "$$ \\begin{array}{c}\n",
    "WellFormed(\\texttt{e1}, S) \\;\\;\\; WellFormed(\\texttt{e2}, S)\\;\\;\\; T \\in \\{ \\texttt{Plus}, \\texttt{Minus}, \\texttt{Mult}, \\texttt{Div}, \\texttt{Geq}, \\texttt{Eq}, \\texttt{And}, \\texttt{Or} \\} \\\\\n",
    "\\hline\n",
    "WellFormed(\\texttt{T(e1, e2)}, S) \\\\\n",
    "\\end{array} \\text{(well-formed-binary-op)} $$\n",
    "\n",
    "Likewise, for unary operators\n",
    "\n",
    "$$ \\begin{array}{c}\n",
    "WellFormed(\\texttt{e1}, S) \\;\\;\\; T \\in \\{ \\texttt{Log}, \\texttt{Exp}, \\texttt{Sine}, \\texttt{Cosine}, \\texttt{Not}, \\texttt{Eq} \\} \\\\\n",
    "\\hline\n",
    "WellFormed(\\texttt{T(e1)}, S) \\\\\n",
    "\\end{array} \\text{(well-formed-unary-op)} $$\n",
    "\n",
    "The main rule is for let bindings \n",
    "\n",
    "$$\\begin{array}{c}\n",
    "WellFormed(\\texttt{e1}, S) \\;\\;\\; WellFormed(\\texttt{e2}, S \\cup \\{ x\\} ) \\\\\n",
    "\\hline\n",
    "WellFormed(\\texttt{Let(x, e1, e2)}, S) \\\\\n",
    "\\end{array} \\text{(let-rule)} $$\n"
   ]
  },
  {
   "cell_type": "markdown",
   "metadata": {},
   "source": [
    "Suppose e1 is well formed Under S and e2 is well formed unders S with the identifer x added, then let x = e1 in e2 is well formed under S, as well. \n",
    "\n",
    "The name of the function f better be defined in the scope S and thegument better be OK. Then we can say that the function call is. \n",
    "\n",
    "With these rules, we can bravely write our first static check for Lettuce to catch programs that declare variables before use. "
   ]
  },
  {
   "cell_type": "code",
   "execution_count": 10,
   "metadata": {},
   "outputs": [
    {
     "data": {
      "text/plain": [
       "defined \u001b[32mfunction\u001b[39m \u001b[36misWellFormedExpression\u001b[39m\n",
       "defined \u001b[32mfunction\u001b[39m \u001b[36misWellFormedProgram\u001b[39m"
      ]
     },
     "execution_count": 10,
     "metadata": {},
     "output_type": "execute_result"
    }
   ],
   "source": [
    "// This function will just serve as to tell us if an \n",
    "// expression is well formed or not.\n",
    "def isWellFormedExpression(e: Expr, S: Set[String]): Boolean = e match {\n",
    "    // if the expressions is in the form of a constant\n",
    "    // than by definition it is well formed \n",
    "    case Const(_) | True | False => true\n",
    "    \n",
    "    // If we are in the form of an identifier, if the set S\n",
    "    // contains our variable inside the identifer than Ident(_) \n",
    "    // is well formed \n",
    "    case Ident(x) => {\n",
    "        if (S.contains(x)){\n",
    "            true\n",
    "        }else{\n",
    "            println(s\"Error: undeclared identifier $x \")\n",
    "            false\n",
    "        }\n",
    "    }\n",
    "    \n",
    "    // essentially verifying if any unary operator is well formed is just a \n",
    "    // matter of checking if its expressions are well formed, or if their\n",
    "    // variables have been defined.\n",
    "    case Plus(e1, e2) => isWellFormedExpression(e1, S) && isWellFormedExpression(e2, S)\n",
    "    case Minus(e1, e2) => isWellFormedExpression(e1, S) && isWellFormedExpression(e2, S)\n",
    "    case Mult(e1, e2) => isWellFormedExpression(e1, S) && isWellFormedExpression(e2, S)\n",
    "    case Div(e1, e2) => isWellFormedExpression(e1, S) && isWellFormedExpression(e2, S)\n",
    "    case Geq(e1, e2) => isWellFormedExpression(e1, S) && isWellFormedExpression(e2, S)\n",
    "    case Eq(e1, e2) => isWellFormedExpression(e1, S) && isWellFormedExpression(e2, S)\n",
    "    case And(e1, e2) => isWellFormedExpression(e1, S) && isWellFormedExpression(e2, S)\n",
    "    case Or(e1, e2) => isWellFormedExpression(e1, S) && isWellFormedExpression(e2, S)\n",
    "    case Log(e) => isWellFormedExpression(e, S) \n",
    "    case Exp(e) => isWellFormedExpression(e, S) \n",
    "    case Sine(e) => isWellFormedExpression(e, S) \n",
    "    case Cosine(e) => isWellFormedExpression(e, S) \n",
    "    case Not(e) => isWellFormedExpression(e, S) \n",
    "    \n",
    "    \n",
    "    // similarly with IfThenElse, just make sure its inner expressions\n",
    "    // are also well formed \n",
    "    case IfThenElse(e1,e2,e3) => isWellFormedExpression(e1,S) && isWellFormedExpression(e2,S) && isWellFormedExpression(e3,S)\n",
    "    \n",
    "    // we do the extra step for let because we know that e2 will \n",
    "    // contain the identifier 'x' when it is going to be evaluted.\n",
    "    case Let(x, e1, e2) => isWellFormedExpression(e1,S) && {\n",
    "        val S1 = S + x\n",
    "        isWellFormedExpression(e2, S1)\n",
    "    }\n",
    "    \n",
    "    // similar thing happens here. \n",
    "    case FunDef(x, e) => isWellFormedExpression(e, S+x)\n",
    "    \n",
    "    case FunCall(f, e) => isWellFormedExpression(f, S) && isWellFormedExpression(e, S)\n",
    "    \n",
    "    \n",
    "}\n",
    "\n",
    "def isWellFormedProgram(p: Program) = p match{\n",
    "    case TopLevel(e) => isWellFormedExpression(e, Set())\n",
    "}"
   ]
  },
  {
   "cell_type": "code",
   "execution_count": 14,
   "metadata": {},
   "outputs": [
    {
     "data": {
      "text/plain": [
       "\u001b[36mres13_0\u001b[39m: \u001b[32mBoolean\u001b[39m = true\n",
       "\u001b[36mres13_1\u001b[39m: \u001b[32mBoolean\u001b[39m = true"
      ]
     },
     "execution_count": 14,
     "metadata": {},
     "output_type": "execute_result"
    }
   ],
   "source": [
    "isWellFormedProgram(p1)\n",
    "isWellFormedProgram(p2)"
   ]
  },
  {
   "cell_type": "code",
   "execution_count": 15,
   "metadata": {},
   "outputs": [
    {
     "data": {
      "text/plain": [
       "\u001b[36mp3\u001b[39m: \u001b[32mLet\u001b[39m = \u001b[33mLet\u001b[39m(\u001b[32m\"x\"\u001b[39m, \u001b[33mPlus\u001b[39m(\u001b[33mIdent\u001b[39m(\u001b[32m\"y\"\u001b[39m), \u001b[33mIdent\u001b[39m(\u001b[32m\"z\"\u001b[39m)), \u001b[33mMult\u001b[39m(\u001b[33mIdent\u001b[39m(\u001b[32m\"x\"\u001b[39m), \u001b[33mIdent\u001b[39m(\u001b[32m\"y\"\u001b[39m)))"
      ]
     },
     "execution_count": 15,
     "metadata": {},
     "output_type": "execute_result"
    }
   ],
   "source": [
    "val p3 = Let(\"x\", Plus(Ident(\"y\"), Ident(\"z\")),\n",
    "             Mult(Ident(\"x\"), Ident(\"y\"))) \n",
    "\n",
    "/* \n",
    " let x = y + z in \n",
    "         x * z \n",
    "\n",
    "*/"
   ]
  },
  {
   "cell_type": "code",
   "execution_count": 16,
   "metadata": {},
   "outputs": [
    {
     "name": "stdout",
     "output_type": "stream",
     "text": [
      "Error: undeclared identifier y \n"
     ]
    },
    {
     "data": {
      "text/plain": [
       "\u001b[36mres15\u001b[39m: \u001b[32mBoolean\u001b[39m = false"
      ]
     },
     "execution_count": 16,
     "metadata": {},
     "output_type": "execute_result"
    }
   ],
   "source": [
    "isWellFormedProgram(TopLevel(p3))"
   ]
  },
  {
   "cell_type": "markdown",
   "metadata": {},
   "source": [
    "__Q.__ Why does the above program print one error message about \"y\" being undeclared, and not three error messages that compain about \"y twice and \"z\" once?\n",
    "\n",
    "Lets try the program \n",
    "\n",
    "    Let x = x in x * y"
   ]
  },
  {
   "cell_type": "code",
   "execution_count": 18,
   "metadata": {},
   "outputs": [
    {
     "data": {
      "text/plain": [
       "\u001b[36mp4\u001b[39m: \u001b[32mLet\u001b[39m = \u001b[33mLet\u001b[39m(\u001b[32m\"x\"\u001b[39m, \u001b[33mIdent\u001b[39m(\u001b[32m\"x\"\u001b[39m), \u001b[33mMult\u001b[39m(\u001b[33mIdent\u001b[39m(\u001b[32m\"x\"\u001b[39m), \u001b[33mIdent\u001b[39m(\u001b[32m\"y\"\u001b[39m)))"
      ]
     },
     "execution_count": 18,
     "metadata": {},
     "output_type": "execute_result"
    }
   ],
   "source": [
    "val p4 = Let(\"x\", Ident(\"x\"), Mult(Ident(\"x\"), Ident(\"y\")))"
   ]
  },
  {
   "cell_type": "code",
   "execution_count": 19,
   "metadata": {},
   "outputs": [
    {
     "name": "stdout",
     "output_type": "stream",
     "text": [
      "Error: undeclared identifier x \n"
     ]
    },
    {
     "data": {
      "text/plain": [
       "\u001b[36mres18\u001b[39m: \u001b[32mBoolean\u001b[39m = false"
      ]
     },
     "execution_count": 19,
     "metadata": {},
     "output_type": "execute_result"
    }
   ],
   "source": [
    "isWellFormedProgram(TopLevel(p4))"
   ]
  },
  {
   "cell_type": "markdown",
   "metadata": {},
   "source": [
    "# Writing an Eval for Lettuce (Without Functions)\n",
    "\n",
    "Let us write an __eval__ function for Lettuce. We can work with the existing __eval__ function that we already defined for expressions, right? \n",
    "\n",
    "To avoid tackling too much in one woop, let us ignore function definitions and function calls for now. \n",
    "\n",
    "Recall what $\\sigma \\models \\texttt{e} \\Downarrow v$ meant? \n",
    "        \"Under model e, sigma evaluates to v\n",
    "        \n",
    "Well, let's use less fancy notation and convey exactly the same sentiment using the notation \n",
    " \n",
    "$$eval(\\texttt{e}, \\sigma) = v $$ \n",
    "                 \n",
    " * Sigma refers to an environment that maps names of identifiers to their values\n",
    " * domain(Sigma) refers to the domain of Sigma\n",
    " * PHI will refer to the empty environment in which no identifier is defined\n",
    " * If Sigma is an environment, then Sigma[x => v] is a new environment in which identifier x is mapped to a value v. \n",
    " \n",
    " \n",
    "What are the values we need to have: \n",
    "    * Real values belonging to the set R ( or Double precision numbers in scala). We discussed in class what the differences would be \n",
    "    * Boolean values true, false to the set B\n",
    "    * The special value 'error' to the set ERR\n",
    "    \n",
    "The rules are mostly the same, save a change in notation from $\\sigma \\models \\texttt{e} \\Downarrow v$ to \n",
    "$eval(\\texttt{e}, \\sigma) = v$.    \n",
    "    \n",
    "    \n",
    "    \n",
    "$$\\begin{array}{c}\n",
    "\\\\\n",
    "\\hline\n",
    "eval(\\texttt{Const(v)}, \\sigma) = v \\\\\n",
    "\\end{array} \\text{(const-rule)} $$\n",
    "\n",
    "$$\\begin{array}{c}\n",
    "x \\in \\text{domain}(\\sigma) \\\\\n",
    "\\hline\n",
    "eval(\\texttt{Ident(x)}, \\sigma) = \\sigma(\\texttt{x}) \\\\\n",
    "\\end{array} \\text{(ident-ok-rule)}\\ \\;\\;\\; \\begin{array}{c}\n",
    "x \\not\\in \\text{domain}(\\sigma) \\\\\n",
    "\\hline\n",
    "eval(\\texttt{Ident(x)}, \\sigma) = \\mathbf{error} \\\\\n",
    "\\end{array} \\text{(ident-nok-rule)} $$"
   ]
  },
  {
   "cell_type": "markdown",
   "metadata": {},
   "source": [
    "Let us read the (ident-ok-rule) aloud. It says that if a _variable x belongs to the domain of $\\sigma$_ then\n",
    "_the expression `Ident(x)` evaluates to $\\sigma(x)$_. Makes sense?\n",
    "<font color=\"red\"> Exercise: read the (ident-nok-rule) aloud in your own words. </font> \n",
    "\n",
    "<font color=\"red\"> Q: </font> If we checked that the expression is well-formed, then will we need (ident-nok-rule)?\n",
    "\n",
    "Rules for 'Plus, Minus, Mult'."
   ]
  },
  {
   "cell_type": "markdown",
   "metadata": {},
   "source": [
    "$$\\begin{array}{c}\n",
    "eval(\\texttt{e1}, \\sigma) = v_1,\\; \\; eval(\\texttt{e2}, \\sigma) = v_2,\\ \\ v_1 \\in \\mathbb{R},\\ \\ v_2 \\in \\mathbb{R}, \\; \\; \\texttt{T} \\in \\{ \\texttt{Plus, Minus, Mult} \\}  \\\\\n",
    "\\hline\n",
    "eval(\\texttt{T(e1, e2)}, \\sigma) = f_T(v_1, v_2) \\\\\n",
    "\\end{array} \\text{(arith-binop-ok-rule)}$$\n",
    "\n",
    "Note that the rule refers to $f_T$ for the operator $T$. \n",
    "Define these as $f_{Plus}(x,y) = x + y$, $f_{Mult} = x * y$ and $f_{Minus} (x, y) = x - y$."
   ]
  },
  {
   "cell_type": "markdown",
   "metadata": {},
   "source": [
    "The `Div` operator needs special handling in exactly the same way we showed in our previous lectures.\n",
    "<font color=\"red\"> Write down the rules for `Div` as an exercise </font>"
   ]
  },
  {
   "cell_type": "markdown",
   "metadata": {},
   "source": [
    "We can now handle the case when subexpressoins of arithmetic expressions yield a non real value ( these can be Booleans or even error )\n",
    "\n",
    "$$\\begin{array}{c}\n",
    "eval(\\texttt{e1}, \\sigma) = v_1,\\; \\ v_1 \\not\\in \\mathbb{R},\\ ; \\; \\texttt{T} \\in \\{ \\texttt{Plus, Minus, Mult, Div} \\}  \\\\\n",
    "\\hline\n",
    "eval(\\texttt{T(e1, e2)}, \\sigma) = \\mathbf{error} \\\\\n",
    "\\end{array} \\text{(arith-binop-type-mismatch-rule-1)}\\;\\;\n",
    "\\begin{array}{c}\n",
    "eval(\\texttt{e1}, \\sigma) = v_1,\\; eval(\\texttt{e2}, \\sigma) = v_2,\\; \\ v_1 \\in \\mathbb{R},\\; \\; v_2 \\not\\in \\mathbb{R},\\ ; \\; \\texttt{T} \\in \\{ \\texttt{Plus, Minus, Mult, Div} \\}  \\\\\n",
    "\\hline\n",
    "eval(\\texttt{T(e1, e2)}, \\sigma) = \\mathbf{error} \\\\\n",
    "\\end{array} \\text{(arith-binop-type-mismatch-rule-2)}\n",
    "$$\n",
    "\n",
    "\n",
    "\n",
    "Unary arithmetic operators are also handled in the same way as in the previous lectures.\n",
    "$$\\begin{array}{c}\n",
    "eval(\\texttt{e}, \\sigma) = v,\\;\\; v \\in \\mathbb{R} \\; \\; \\texttt{T} \\in \\{ \\texttt{Exp, Sine, Cosine} \\}  \\\\\n",
    "\\hline\n",
    "eval(\\texttt{T(e)}, \\sigma) = f_T(v) \\\\\n",
    "\\end{array} \\text{(arith-unop-ok-rule)}$$\n",
    "\n",
    "Wherein $f_{Exp}(x) = e^x,\\ f_{Sine}(x) = \\sin(x), f_{Cosine}(x) = \\cos(x)$.\n",
    "Log needs special rule to deal with argument being positive vs. non-positive.\n",
    "\n",
    "$$\\begin{array}{c}\n",
    "eval(\\texttt{e}, \\sigma) = v,\\;\\; v \\in \\mathbb{R},\\ v > 0  \\\\\n",
    "\\hline\n",
    "eval(\\texttt{Log(e)}, \\sigma) = \\log(v) \\\\\n",
    "\\end{array} \\text{(log-ok-rule)}\\;\\;\\;\n",
    "\\begin{array}{c}\n",
    "eval(\\texttt{e}, \\sigma) = v,\\;\\; v \\in \\mathbb{R},\\ v \\leq 0  \\\\\n",
    "\\hline\n",
    "eval(\\texttt{Log(e)}, \\sigma) = \\mathbf{error} \\\\\n",
    "\\end{array} \\text{(log-nok-rule)}$$\n",
    "\n",
    "$$\\begin{array}{c}\n",
    "eval(\\texttt{e}, \\sigma) = v,\\; \\ v \\not\\in \\mathbb{R},\\ ; \\; \\texttt{T} \\in \\{ \\texttt{Log, Sine, Cosine, Exp} \\}  \\\\\n",
    "\\hline\n",
    "eval(\\texttt{T(e)}, \\sigma) = \\mathbf{error} \\\\\n",
    "\\end{array} \\text{(arith-unop-type-mismatch-rule)}$$"
   ]
  },
  {
   "cell_type": "markdown",
   "metadata": {},
   "source": [
    "#### Rules for Boolean Operators\n",
    "\n",
    "$$\\begin{array}{c} \n",
    "\\\\\n",
    "\\hline\n",
    "eval(\\texttt{True}, \\sigma) = true \\\\\n",
    "\\end{array} \\text{(true rule)} \\;\\;\\;\\;\n",
    "\\begin{array}{c} \n",
    "\\\\\n",
    "\\hline\n",
    "eval(\\texttt{False}, \\sigma) = false \\\\\n",
    "\\end{array}\\text{(false rule)}\n",
    "$$\n",
    "\n",
    "`And` and `Or` can be short circuited. We will write the rules for `And` and note that\n",
    "the rules of `Or` and `Not` are similar.\n",
    "\n",
    "$$\\begin{array}{c} \n",
    "eval(\\texttt{e1}, \\sigma) = false\\\\\n",
    "\\hline\n",
    "eval(\\texttt{And}(e1, e2), \\sigma) = false\\\\\n",
    "\\end{array} \\text{(and-arg-1-ok-rule)} \\;\\;\\;\\;\n",
    "\\begin{array}{c} \n",
    "eval(\\texttt{e1}, \\sigma) = v_1,\\ v_1 \\not\\in \\mathbb{B} \\\\\n",
    "\\hline\n",
    "eval(\\texttt{And}(e1, e2), \\sigma) = \\mathbf{error}\\\\\n",
    "\\end{array}\\text{(and-arg-1-nok-rule)}\n",
    "$$\n",
    "\n",
    "$$\\begin{array}{c} \n",
    "eval(\\texttt{e1}, \\sigma) = true\\;\\; eval(\\texttt{e2}, \\sigma) = v_2,\\ \\;\\; v_2 \\in \\mathbb{B}\\\\\n",
    "\\hline\n",
    "eval(\\texttt{And}(e1, e2), \\sigma) = v_2\\\\\n",
    "\\end{array} \\text{(and-arg-2-ok-rule)} \\;\\;\\;\\;\n",
    "\\begin{array}{c} \n",
    "eval(\\texttt{e1}, \\sigma) = true,\\ eval(\\texttt{e2}, \\sigma) = v_2,\\  \\;\\; v_2 \\not\\in \\mathbb{B} \\\\\n",
    "\\hline\n",
    "eval(\\texttt{And}(e1, e2), \\sigma) = \\mathbf{error}\\\\\n",
    "\\end{array}\\text{(and-arg-2-nok-rule)}\n",
    "$$\n",
    "\n",
    "<font color=\"red\"> As an exercise write rules for  `Geq, Eq` </font> . They are going to be very similar to those written thus far but without short circuit semantics for regular case and with short circuit for errors."
   ]
  },
  {
   "cell_type": "markdown",
   "metadata": {},
   "source": [
    "#### Rule for Let Binding\n",
    "\n",
    "$$\\begin{array}{c} \n",
    "eval(\\texttt{e1}, \\sigma) = v_1,\\ v_1 \\not= \\mathbf{error}\\;\\; eval(\\texttt{e2},   \\color{red}{\\sigma[x \\mapsto v_1]}) = v_2,\\ \\;\\; v_2 \\not= \\mathbf{error}\\\\\n",
    "\\hline\n",
    "eval(\\texttt{Let(x,e1, e2)}, \\sigma) = v_2\\\\\n",
    "\\end{array} \\text{(let-binding-ok)} $$\n",
    "\n",
    "The most important part of the rule above is notice that $\\texttt{e2}$ is being evaluated under\n",
    "$\\color{red}{\\sigma[ x \\mapsto v_1]}$, which is the environment $\\sigma$ extended with $x$ bound to $v_1$.\n",
    "\n",
    "$$\\begin{array}{c} \n",
    "eval(\\texttt{e1}, \\sigma) =  \\mathbf{error}\\\\\n",
    "\\hline\n",
    "eval(\\texttt{Let(x,e1, e2)}, \\sigma) = \\mathbf{error}\\\\\n",
    "\\end{array} \\text{(let-binding-nok-1)}\n",
    "\\begin{array}{c} \n",
    "eval(\\texttt{e1}, \\sigma) =  v_1,\\; v_1 \\not= \\mathbf{error}\\; eval(\\texttt{e2}, \\sigma[x \\mapsto v_1]) =  \\mathbf{error}\\\\\n",
    "\\hline\n",
    "eval(\\texttt{Let(x,e1, e2)}, \\sigma) = \\mathbf{error}\\\\\n",
    "\\end{array} \\text{(let-binding-nok-2)}$$\n",
    "\n",
    "\n",
    "Given these rules, the final rule is for `TopLevel`. We recall that $\\phi$ denotes the empty environment.\n",
    "\n",
    "$$\\begin{array}{c}\n",
    "eval(\\texttt{e}, \\phi) = v \\\\\n",
    "\\hline\n",
    "eval(\\texttt{TopLevel(e)}, \\phi) = v \\\\\n",
    "\\end{array} \\text{(toplevel-eval)} $$"
   ]
  },
  {
   "cell_type": "markdown",
   "metadata": {},
   "source": [
    "# Implementing the Interpreter\n",
    "First let us implement what we will need as part of the value class"
   ]
  },
  {
   "cell_type": "code",
   "execution_count": 20,
   "metadata": {},
   "outputs": [
    {
     "data": {
      "text/plain": [
       "defined \u001b[32mtrait\u001b[39m \u001b[36mValue\u001b[39m\n",
       "defined \u001b[32mclass\u001b[39m \u001b[36mNumValue\u001b[39m\n",
       "defined \u001b[32mclass\u001b[39m \u001b[36mBoolValue\u001b[39m\n",
       "defined \u001b[32mobject\u001b[39m \u001b[36mErrorValue\u001b[39m\n",
       "defined \u001b[32mfunction\u001b[39m \u001b[36mvalueToNumber\u001b[39m"
      ]
     },
     "execution_count": 20,
     "metadata": {},
     "output_type": "execute_result"
    }
   ],
   "source": [
    "/* 1. Define the values */\n",
    "sealed trait Value\n",
    "case class NumValue(d: Double) extends Value\n",
    "case class BoolValue(b: Boolean) extends Value\n",
    "case object ErrorValue extends Value\n",
    "\n",
    "/* 2. operators on values */ \n",
    "def valueToNumber(v: Value): Double = v match {\n",
    "    case NumValue(d) => d\n",
    "    case _ => throw new IllegalArgumentException(s\"Error: Asking me to convert Value: $v to a boolean\")\n",
    "}"
   ]
  },
  {
   "cell_type": "code",
   "execution_count": 33,
   "metadata": {},
   "outputs": [
    {
     "data": {
      "text/plain": [
       "defined \u001b[32mfunction\u001b[39m \u001b[36mevalExpr\u001b[39m\n",
       "defined \u001b[32mfunction\u001b[39m \u001b[36mevalProgram\u001b[39m"
      ]
     },
     "execution_count": 33,
     "metadata": {},
     "output_type": "execute_result"
    }
   ],
   "source": [
    "def evalExpr(e: Expr, env: Map[String, Value]): Value = {\n",
    "    \n",
    "    /* Method to deal with binary arithmetic operations */ \n",
    "    def applyArith2 (e1: Expr, e2: Expr) (fun: (Double, Double) => Double) = {\n",
    "        val v1 = valueToNumber(evalExpr(e1, env))\n",
    "        val v2 = valueToNumber(evalExpr(e2, env))\n",
    "        val v3 = fun(v1, v2)\n",
    "        NumValue(v3)\n",
    "    }\n",
    "    \n",
    "    /* Helper method to deal with unary arithmetic */ \n",
    "    def applyArith1(e: Expr) (fun: Double => Double) = {\n",
    "        val v = valueToNumber(evalExpr(e,env))\n",
    "        val v1 = fun(v)\n",
    "        NumValue(v1)\n",
    "    }\n",
    "    \n",
    "    /* Helper method to deal with comparison operators */ \n",
    "    def applyComp(e1: Expr, e2: Expr) (fun: (Double,Double) => Boolean) = {\n",
    "        val v1 = valueToNumber(evalExpr(e1,env))\n",
    "        val v2 = valueToNumber(evalExpr(e2,env))\n",
    "        val v3 = fun(v1, v2)\n",
    "        BoolValue(v3)\n",
    "    }\n",
    "    \n",
    "    e match{\n",
    "        case Const(f) => NumValue(f)\n",
    "        \n",
    "        case Ident(x) => {\n",
    "            if (env.contains(x)){\n",
    "                env(x)\n",
    "            }else{\n",
    "                throw new IllegalArgumentException(s\"Undefined identifier $x\")\n",
    "            }\n",
    "        }\n",
    "        \n",
    "        case True => BoolValue(true)\n",
    "        \n",
    "        case False => BoolValue(false)\n",
    "        \n",
    "        case Plus(e1, e2) => applyArith2 (e1,e2) (_ + _)\n",
    "        \n",
    "        case Minus(e1, e2) => applyArith2 (e1,e2) (_ - _)\n",
    "        \n",
    "        case Mult(e1,e2) => applyArith2(e1,e2) (_ * _)\n",
    "        \n",
    "        case Div(e1, e2) => applyArith2(e1,e2){\n",
    "            case (_, 0.0) => throw new IllegalArgumentException(s\"Divide by zero error in divisor ${e2}\")\n",
    "            case (v1, v2) => v1 / v2\n",
    "        }\n",
    "        \n",
    "        case Log(e1) => applyArith1(e1){\n",
    "            case v if v > 0.0 => math.log(v)\n",
    "            case v => throw new IllegalArgumentException(s\"Log of a negative number ${e} evaluates to ${v}!\")\n",
    "        }\n",
    "        \n",
    "        case Exp(e1) => applyArith1(e1)(math.exp)\n",
    "    \n",
    "        case Sine(e1) => applyArith1(e1)(math.sin)\n",
    "    \n",
    "        case Cosine(e1) => applyArith1(e1)(math.cos)\n",
    "    \n",
    "        case Geq(e1, e2) => applyComp(e1, e2)(_ >= _)\n",
    "    \n",
    "        case Eq(e1, e2) => applyComp(e1, e2)(_ == _)\n",
    "        \n",
    "        case And(e1, e2) => { // short circuit version of AND\n",
    "            val v1 = evalExpr(e1, env)\n",
    "            v1 match{\n",
    "                case BoolValue(false) => BoolValue(false)\n",
    "                case BoolValue(true) => {\n",
    "                    val v2 = evalExpr(e2, env)\n",
    "                    v2 match {\n",
    "                        case BoolValue(_) => v2 // this is ultimately what the answer ends up being\n",
    "                        case _ => throw new IllegalArgumentException(\n",
    "                            s\"And of boolean and non-boolean expt: ${e2} which evaluated to ${v2}\")\n",
    "                    }\n",
    "                }\n",
    "                case _ =>  throw new IllegalArgumentException(\n",
    "                            s\"And of boolean and non-boolean expt: ${e2} which evaluated to ${v2}\")\n",
    "            }\n",
    "            \n",
    "        }\n",
    "        \n",
    "        case Or(e1, e2) => {   /* Short circuit eval of OR */\n",
    "            val v1 = evalExpr(e1, env)\n",
    "            v1 match{\n",
    "                case BoolValue(true) => BoolValue(true) // this is the short circuit\n",
    "                case BoolValue(false) => {\n",
    "                    val v2 = evalExpr(e2, env)\n",
    "                    v2 match {\n",
    "                        case BoolValue(_) => v2 // this is ultiamtely the return value\n",
    "                        case _ => throw new IllegalArgumentException(\n",
    "                            s\"Or of a boolean and non-boolean expr: ${e2} which evaluated to ${v2}\")      \n",
    "                    }\n",
    "                }\n",
    "                case _ => throw new IllegalArgumentException(s\"Or of a non-boolean expr: ${e1} which evaluted to ${v1}\")\n",
    "            }\n",
    "        }\n",
    "        \n",
    "        case Not(e1) => { // operation must be performed on a boolean expression only in this langauge\n",
    "            val v = evalExpr(e1, env)\n",
    "            v match {\n",
    "                case BoolValue(b) => BoolValue(!b)\n",
    "                case _ => throw new IllegalArgumentException(s\"Not of a non-boolean expr: ${e} which evaluated to ${v}\")\n",
    "            }\n",
    "        }\n",
    "        \n",
    "        case IfThenElse(e1,e2,e3) => {\n",
    "            val v = evalExpr(e1, env)\n",
    "            v match{\n",
    "                case BoolValue(true) => evalExpr(e2, env)\n",
    "                case BoolValue(false) => evalExpr(e3, env)\n",
    "                case _ => throw new IllegalArgumentException(s\"If-then-else condition expr: ${e1} is non-boolean -- evaluates to ${v}\")\n",
    "            }\n",
    "        }\n",
    "        \n",
    "        case Let(x, e1, e2) => {\n",
    "            val v1 = evalExpr (e1, env) // eval e1\n",
    "            val env2 = env + (x -> v1) // create a new extended env, think lambda calculus sutt about how it must\n",
    "                                    // the expression will be used inside of another expression under environemnt env + variable type\n",
    "            evalExpr(e2, env2)\n",
    "        }\n",
    "        \n",
    "        case _:FunDef => throw new IllegalArgumentException(\"Function definitions not yet handled in this interpreter.\")\n",
    "    \n",
    "        case _:FunCall => throw new IllegalArgumentException(\"Function calls not yet handled in this interpreter.\")\n",
    "    }\n",
    "}\n",
    "\n",
    "def evalProgram(p: Program) = {\n",
    "    val m: Map[String, Value] = Map[String,Value]()\n",
    "    p match{\n",
    "        case TopLevel(e) => evalExpr(e,m)\n",
    "    }\n",
    "}"
   ]
  },
  {
   "cell_type": "code",
   "execution_count": 34,
   "metadata": {},
   "outputs": [
    {
     "name": "stdout",
     "output_type": "stream",
     "text": [
      "TopLevel(Let(x,Plus(Const(10.0),Const(15.0)),Let(y,Geq(Ident(x),Const(25.0)),IfThenElse(Ident(y),Ident(x),Minus(Ident(x),Const(35.0))))))\n"
     ]
    },
    {
     "data": {
      "text/plain": [
       "\u001b[36mres33_1\u001b[39m: \u001b[32mValue\u001b[39m = \u001b[33mNumValue\u001b[39m(\u001b[32m25.0\u001b[39m)"
      ]
     },
     "execution_count": 34,
     "metadata": {},
     "output_type": "execute_result"
    }
   ],
   "source": [
    "println(p1)\n",
    "evalProgram(p1)"
   ]
  },
  {
   "cell_type": "code",
   "execution_count": 35,
   "metadata": {},
   "outputs": [
    {
     "name": "stdout",
     "output_type": "stream",
     "text": [
      "Let(x,Ident(x),Mult(Ident(x),Ident(y)))"
     ]
    },
    {
     "ename": "",
     "evalue": "",
     "output_type": "error",
     "traceback": [
      "\u001b[31mjava.lang.IllegalArgumentException: Undefined identifier x\u001b[39m\n  ammonite.$sess.cmd32$Helper.evalExpr(\u001b[32mcmd32.sc\u001b[39m:\u001b[32m33\u001b[39m)\n  ammonite.$sess.cmd32$Helper.evalExpr(\u001b[32mcmd32.sc\u001b[39m:\u001b[32m119\u001b[39m)\n  ammonite.$sess.cmd32$Helper.evalProgram(\u001b[32mcmd32.sc\u001b[39m:\u001b[32m134\u001b[39m)\n  ammonite.$sess.cmd34$Helper.<init>(\u001b[32mcmd34.sc\u001b[39m:\u001b[32m2\u001b[39m)\n  ammonite.$sess.cmd34$.<init>(\u001b[32mcmd34.sc\u001b[39m:\u001b[32m7\u001b[39m)\n  ammonite.$sess.cmd34$.<clinit>(\u001b[32mcmd34.sc\u001b[39m:\u001b[32m-1\u001b[39m)"
     ]
    }
   ],
   "source": [
    "print(p4)\n",
    "evalProgram(TopLevel(p4))"
   ]
  },
  {
   "cell_type": "code",
   "execution_count": 36,
   "metadata": {},
   "outputs": [
    {
     "data": {
      "text/plain": [
       "\u001b[36mp5\u001b[39m: \u001b[32mTopLevel\u001b[39m = \u001b[33mTopLevel\u001b[39m(\u001b[33mLet\u001b[39m(\u001b[32m\"x\"\u001b[39m, \u001b[33mConst\u001b[39m(\u001b[32m3.0\u001b[39m), \u001b[33mMult\u001b[39m(\u001b[33mIdent\u001b[39m(\u001b[32m\"x\"\u001b[39m), \u001b[33mIdent\u001b[39m(\u001b[32m\"x\"\u001b[39m))))"
      ]
     },
     "execution_count": 36,
     "metadata": {},
     "output_type": "execute_result"
    }
   ],
   "source": [
    "val p5 = TopLevel(Let(\"x\", Const(3.0), Mult(Ident(\"x\"), Ident(\"x\"))))"
   ]
  },
  {
   "cell_type": "code",
   "execution_count": 37,
   "metadata": {},
   "outputs": [
    {
     "data": {
      "text/plain": [
       "\u001b[36mres36\u001b[39m: \u001b[32mValue\u001b[39m = \u001b[33mNumValue\u001b[39m(\u001b[32m9.0\u001b[39m)"
      ]
     },
     "execution_count": 37,
     "metadata": {},
     "output_type": "execute_result"
    }
   ],
   "source": [
    "evalProgram(p5)"
   ]
  },
  {
   "cell_type": "code",
   "execution_count": 38,
   "metadata": {},
   "outputs": [
    {
     "data": {
      "text/plain": [
       "\u001b[36mp6\u001b[39m: \u001b[32mTopLevel\u001b[39m = \u001b[33mTopLevel\u001b[39m(\n",
       "  \u001b[33mLet\u001b[39m(\u001b[32m\"x\"\u001b[39m, \u001b[33mConst\u001b[39m(\u001b[32m3.0\u001b[39m), \u001b[33mGeq\u001b[39m(\u001b[33mMult\u001b[39m(\u001b[33mIdent\u001b[39m(\u001b[32m\"x\"\u001b[39m), \u001b[33mIdent\u001b[39m(\u001b[32m\"x\"\u001b[39m)), \u001b[33mIdent\u001b[39m(\u001b[32m\"x\"\u001b[39m)))\n",
       ")"
      ]
     },
     "execution_count": 38,
     "metadata": {},
     "output_type": "execute_result"
    }
   ],
   "source": [
    "val p6 = TopLevel(Let(\"x\", Const(3.0), Geq(Mult(Ident(\"x\"), Ident(\"x\")), Ident(\"x\"))))"
   ]
  },
  {
   "cell_type": "code",
   "execution_count": 39,
   "metadata": {},
   "outputs": [
    {
     "data": {
      "text/plain": [
       "\u001b[36mres38\u001b[39m: \u001b[32mValue\u001b[39m = \u001b[33mBoolValue\u001b[39m(true)"
      ]
     },
     "execution_count": 39,
     "metadata": {},
     "output_type": "execute_result"
    }
   ],
   "source": [
    "evalProgram(p6)"
   ]
  },
  {
   "cell_type": "code",
   "execution_count": null,
   "metadata": {
    "collapsed": true
   },
   "outputs": [],
   "source": []
  }
 ],
 "metadata": {
  "kernelspec": {
   "display_name": "Scala",
   "language": "scala",
   "name": "scala"
  },
  "language_info": {
   "codemirror_mode": "text/x-scala",
   "file_extension": ".scala",
   "mimetype": "text/x-scala",
   "name": "scala",
   "nbconvert_exporter": "script",
   "version": "2.12.10"
  }
 },
 "nbformat": 4,
 "nbformat_minor": 2
}
