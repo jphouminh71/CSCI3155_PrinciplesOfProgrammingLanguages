{
 "cells": [
  {
   "cell_type": "markdown",
   "metadata": {},
   "source": [
    "# Continuations\n",
    "__RECAP of Tail Recursion__\n",
    "Converting non-tail recursion into tail\n",
    "    * value of writing tail recursion functions keeps the stack from growing. \n",
    "    * result of the call is is called back to the callee without the need for further processesing \n",
    "    \n",
    "    \n",
    "// Non tail recursive function    \n",
    "```\n",
    "def factorial(x: Int): Int = {\n",
    "    if ( x<= 1 ) \n",
    "        1\n",
    "    else{\n",
    "        x * factorial(x-1)}\n",
    "```        \n",
    "        \n",
    "// Tail version using accumulator \n",
    "```\n",
    "def factorailTail(x: Int, acc: Int): Int = {\n",
    "    if x <= 1{\n",
    "        acc}\n",
    "    else{\n",
    "        factorialTail(x-1, acc * x)    // * is a commutative operator \n",
    "}\n",
    "```\n"
   ]
  },
  {
   "cell_type": "markdown",
   "metadata": {},
   "source": [
    "Doing that type of conversion doesn't always work, consider the eval function\n",
    "\n",
    "```\n",
    "    def eval(e: Expr, env: ...): Value = {\n",
    "        eval(...) // eval on newExpr\n",
    "    } // tail rec\n",
    "```\n",
    "This is a complicated to convert into tail recursion. We will make any function recursive by rewriting these types of functions through __continuation passing style__"
   ]
  },
  {
   "cell_type": "markdown",
   "metadata": {},
   "source": [
    "__Every function we write now will be like this. __"
   ]
  },
  {
   "cell_type": "markdown",
   "metadata": {},
   "source": [
    "```\n",
    "    Every function should be written this way from now on. \n",
    "    What is a continauation? It is just an extra function that will be called next on the result of the current function\n",
    "    \n",
    "1. force an extra parameter  called the continuation , it will be a function\n",
    "    def foo(x: Int): Int = {                def foo_k(x: Int, k: Int => Int): Int = {\n",
    "    \n",
    "                        \n",
    "    }                                       }\n",
    "    \n",
    "    def bar(y: String = {                   def bar_k(y: String, k: String => String): String = {\n",
    "    \n",
    "   \n",
    "    }                                       }\n",
    "```"
   ]
  },
  {
   "cell_type": "markdown",
   "metadata": {},
   "source": [
    "### Concrete Example (factorial) \n",
    "\n",
    "__Non Tail Recrusive Version__                       __CPS Version (tail-Rec version) \n",
    "```\n",
    "def fact(x: Int): Int = {                               def fact_k(x: Int, k: Int => Int): Int = {\n",
    "    if (x <= 1){                                              if (x <= 1){\n",
    "        1                                                         k(1)\n",
    "    else{                                                     else{\n",
    "        val v = fact(x - 1)                                       fact(x-1, v => {k(v*x)} }\n",
    "        v * x\n",
    "    }\n",
    "}    \n",
    "```\n",
    "\n",
    "What is the main idea here? Originally factorial took in __X__ and gave you a result. \n",
    "The new factorial will have the following shape\n",
    "```\n",
    "        Takes in some x ,  and some value k\n",
    "            fact_k will never return directly to the user. IT WILL ALWAYS pass it to the continuation function (k)\n",
    "          Whatevert eh continuation returns is what is given back to the user. \n",
    "        \n",
    "        Always , pass the result to the continuation function\n",
    "```\n",
    "\n",
    "\n",
    "Continuation is specifing what is left to do in the next call then return it. So at heart is still recursion, but we are just packaging up leftover work for the subsequent calls to handle. __The important part is that we return a function call to k once we come back from a return __\n",
    "\n",
    "## Recipe for continuations\n",
    "```\n",
    "    1. Add a extra parameter that takes in the result type and returns another function \n",
    "           def fn_cps(..., k: Tn => Tn) : Tn             , Tn is some generic return type\n",
    "         It is just important to note that the input of the coninuation must be the same as what the function returns\n",
    "         \n",
    "      This is how you want continuations to look \n",
    "      \n",
    "    def foo_cps(....,k) = {\n",
    "        ... do what foo did before this continuation...\n",
    "        return k(originalRetValue) <-- pass the return through a continuation (normally a identity function x=>x)   \n",
    "    }    \n",
    "```\n",
    "\n",
    "__Ex:1 simple example where the continuation function is just, K: X => X__\n",
    "\n",
    "```                                                  \n",
    "                                                        input type for k should be same as output. \n",
    "    def foo(x: String): Int = {                def foo_cps(x: String, k: Int => Int): Int = {\n",
    "        if (x.length >= 10){                              if x.length >= 10\n",
    "            x.length-10                                       k(x.length-10)\n",
    "        }   \n",
    "        else{                                             else\n",
    "            25                                                k(25)\n",
    "        }\n",
    "    }\n",
    "    \n",
    "   \n",
    "```\n",
    "\n",
    "__Ex: 2 , a little more complicated __ \n",
    "```\n",
    "    def bar(x: String): String = {                  def bar_cps(x: String, k: String => String{\n",
    "         if (x.length <= 0){                              if x.length <= 10\n",
    "             \"hello\"                                          k(\"hello\")\n",
    "         }                                                else\n",
    "         else{                                                substring_cps(x, 0, x.length-2, k)\n",
    "             substring(x, 0, x.length-2) \n",
    "         }\n",
    "    }\n",
    "```\n",
    "\n",
    "Example 2 explained. \n",
    "```\n",
    "   __The goal of CPS__: The call of every function call must be a tail call. \n",
    "           def complicated(f1: t1, p2: t2 .. xn: tn): Tn = {\n",
    "                  ....\n",
    "                  otherComp(...)   <-- these calls are non tails\n",
    "                  ....\n",
    "                  otherComp(...)   <-- there is still more things to do \n",
    "                  ...\n",
    "           }\n",
    "                   if k has output type t then the whole code has output type t\n",
    "           def complicated_CPS(f1: t1, p2: t2 .. xn: tn, k: Tr => T): T = {\n",
    "                  ....\n",
    "                  otherComp_CPS(..., (newContinuation)\n",
    "           }\n",
    "\n",
    "What is the new continuation? \n",
    "    1. It is THE REST of the code / computations that happen after the 'OtherComp' returns in the old version of the function. \n",
    "    2. Pass the orginal return through k: Continuation\n",
    "```             \n",
    "\n",
    "\n",
    "__Ex 3: the fibonacci example__ \n",
    "```\n",
    "    def fibonacci(i: Int): Int = {\n",
    "        if (i <= 2)\n",
    "            1\n",
    "        else\n",
    "            fibonacci(i-1) + fibonacci(i-2)\n",
    "    }\n",
    "    \n",
    "    // T is called a generic and for each version of T then it will create a version for that input type. \n",
    "    def fibonacci_cps[T](i: Int, k: Int => T): T = {\n",
    "        if (i <= 2)\n",
    "            k(1)\n",
    "        else\n",
    "            fibonacci_cps(i-1, v1 = { fibonacci_cps(i-2, v2 => { k(v1+v2) } }\n",
    "    }\n",
    "    \n",
    "    // we have essentially packed up the remaining computation as an anonymous function and created a new continuation\n",
    "```\n",
    "\n",
    "# Coded Examples"
   ]
  },
  {
   "cell_type": "markdown",
   "metadata": {},
   "source": [
    "## Factorial Function"
   ]
  },
  {
   "cell_type": "code",
   "execution_count": 6,
   "metadata": {},
   "outputs": [
    {
     "data": {
      "text/plain": [
       "defined \u001b[32mfunction\u001b[39m \u001b[36mfactorial\u001b[39m\n",
       "defined \u001b[32mfunction\u001b[39m \u001b[36mfactorial_k\u001b[39m\n",
       "defined \u001b[32mfunction\u001b[39m \u001b[36mfactorial_g\u001b[39m\n",
       "\u001b[36mres5_3\u001b[39m: \u001b[32mInt\u001b[39m = \u001b[32m6\u001b[39m"
      ]
     },
     "execution_count": 6,
     "metadata": {},
     "output_type": "execute_result"
    }
   ],
   "source": [
    "/* Our goal is to convert this function into a CPS function so that it is tail recursive */\n",
    "def factorial(x: Int): Int = {\n",
    "    if (x <= 1){\n",
    "        1\n",
    "    }\n",
    "    else{\n",
    "        // x * factorial(x - 1),  spill the function \n",
    "        val v1 = factorial(x-1)\n",
    "        return x * v1\n",
    "    }\n",
    "}\n",
    "/* function keeps the initial parameter then adds a function that takes an int and returns an int */\n",
    "def factorial_k(x: Int, k: Int => Int): Int = {\n",
    "    /* the base case essentially stays the same throughout */ \n",
    "    if (x <= 1){\n",
    "        k(1)    // all you have to do is call k(<base>) \n",
    "    }\n",
    "    else{ \n",
    "        /* get interesting here because we essentially complete one step then pass the rest of the work along */\n",
    "        /* The new continuation function will further along what needs to be completed and will return \n",
    "            a function call back to this functions k\n",
    "        */\n",
    "        factorial_k( x-1, v => {k(x*v)})\n",
    "    }\n",
    "}\n",
    "\n",
    "/* now we will create that same function but we will use generic functions to define k return type */ \n",
    "// [T] , this is just a temporary placeholder the type we will be using \n",
    "/* \n",
    "TYPE Variables\n",
    "factorial_g is a generic function that has a type variable T\n",
    "*/\n",
    "def factorial_g[T](x: Int, k: Int => T): T = {\n",
    "    if (x<=1){\n",
    "        k(1)\n",
    "    }\n",
    "    else{\n",
    "        /* \"I want you to take wheveter v1 is in the next function call is and then call my K function and return\n",
    "            another function call to K for the function before me, but with the processed value\"\n",
    "        */\n",
    "        factorial_g( x-1, v => {k(x*v)})\n",
    "    }\n",
    "}\n"
   ]
  },
  {
   "cell_type": "code",
   "execution_count": 8,
   "metadata": {},
   "outputs": [
    {
     "name": "stdout",
     "output_type": "stream",
     "text": [
      "3628800\n"
     ]
    },
    {
     "data": {
      "text/plain": [
       "\u001b[36mv1\u001b[39m: \u001b[32mInt\u001b[39m = \u001b[32m3628800\u001b[39m"
      ]
     },
     "execution_count": 8,
     "metadata": {},
     "output_type": "execute_result"
    }
   ],
   "source": [
    "val v1 = factorial_g(10, v=>v) // identity continuation, just return the computation, nothing else\n",
    "factorial_g(10, v => println(v))  // make the continuous function print it"
   ]
  },
  {
   "cell_type": "markdown",
   "metadata": {},
   "source": [
    "# The Fibonacci Problem \n",
    "## This is where it gets interesting because we have to decompose the function "
   ]
  },
  {
   "cell_type": "code",
   "execution_count": 16,
   "metadata": {},
   "outputs": [
    {
     "data": {
      "text/plain": [
       "\u001b[32mimport \u001b[39m\u001b[36mscala.annotation.tailrec\n",
       "\u001b[39m\n",
       "defined \u001b[32mfunction\u001b[39m \u001b[36mfibonacci\u001b[39m\n",
       "defined \u001b[32mfunction\u001b[39m \u001b[36mfibonacci_k\u001b[39m\n",
       "\u001b[36mres15_3\u001b[39m: \u001b[32mInt\u001b[39m = \u001b[32m610\u001b[39m"
      ]
     },
     "execution_count": 16,
     "metadata": {},
     "output_type": "execute_result"
    }
   ],
   "source": [
    "import scala.annotation.tailrec\n",
    "def fibonacci(n: Int): Int = {\n",
    "    if (n <= 2){\n",
    "        1\n",
    "    }else{\n",
    "        // fibonacci(n-1) + fibonacci(n-2)\n",
    "        // spill it always\n",
    "        val v1 = fibonacci(n-1)  // going to complete this only\n",
    "        val v2 = fibonacci(n-2)  // everything below here are the computations that still need to be performed\n",
    "        v1 + v2\n",
    "    }\n",
    "}\n",
    "\n",
    "def fibonacci_k[T](n: Int, k: Int => T): T = {\n",
    "    if (n <= 2){\n",
    "        k(1)\n",
    "    }\n",
    "    /* This is where it gets interesting because we need to make sure this is tail recursive */\n",
    "    else{\n",
    "        // scala doesn't actually accept this as a tail call, and refuses to do tail transformation\n",
    "        fibonacci_k(n-1, {(v1: Int) => fibonacci_k(n-2, (v2: Int) => { k(v1 + v2)})} )\n",
    "        \n",
    "        /*  THIS IS THE DIRTY WAY\n",
    "        // Remaining Computation to be performed for fibonacci (n-1)\n",
    "        def remainingComputationToBePerformed(v1:Int) = {\n",
    "            // Remaining computation for fibonacci(n-2)\n",
    "            def remainingRemainingComp(v2: Int) = {\n",
    "                k(v1+v2)\n",
    "            }\n",
    "            fibonacci_k(n-2, remainingRemainingComp)\n",
    "        }\n",
    "        fibonacci_k(n-1, remainingComputationToBePerformed )\n",
    "        */\n",
    "    }\n",
    "    \n",
    "}\n",
    "\n",
    "fibonacci_k(15, x=>x)"
   ]
  },
  {
   "cell_type": "markdown",
   "metadata": {},
   "source": [
    "# Lecture Notes\n"
   ]
  },
  {
   "cell_type": "markdown",
   "metadata": {},
   "source": [
    "# Continuation Passing Style\n"
   ]
  },
  {
   "cell_type": "code",
   "execution_count": 18,
   "metadata": {},
   "outputs": [
    {
     "data": {
      "text/plain": [
       "defined \u001b[32mfunction\u001b[39m \u001b[36mfactorial\u001b[39m\n",
       "defined \u001b[32mfunction\u001b[39m \u001b[36mfactorialTail\u001b[39m"
      ]
     },
     "execution_count": 18,
     "metadata": {},
     "output_type": "execute_result"
    }
   ],
   "source": [
    "// CPS: removing non-tail function calls and converting it into tail calls\n",
    "// Why? Stack efficiency, no overflows \n",
    "\n",
    "def factorial(x: Int): Int = {\n",
    "    if (x <= 1){\n",
    "        1\n",
    "    }\n",
    "    else{\n",
    "        x * factorial(x-1)\n",
    "    }\n",
    "}\n",
    "\n",
    "def factorialTail(x: Int, acc:Int){\n",
    "    if (x <= 1){\n",
    "        acc\n",
    "    }\n",
    "    else{\n",
    "        factorialTail(x-1, acc * x)\n",
    "    }\n",
    "}"
   ]
  },
  {
   "cell_type": "code",
   "execution_count": null,
   "metadata": {
    "collapsed": true
   },
   "outputs": [],
   "source": [
    "//def eval(e: Expr, env: Map[String, Value]): Value = {\n",
    "    // .. has a lot of non tail recursive calls back to eval. \n",
    "    // this is a problem\n",
    "    // we want to do eval with just tail recursive calls \n",
    "//}"
   ]
  },
  {
   "cell_type": "code",
   "execution_count": 22,
   "metadata": {},
   "outputs": [
    {
     "name": "stdout",
     "output_type": "stream",
     "text": [
      "Hello: You called factorial_cps on 3\n",
      "Hello: You called factorial_cps on 2\n",
      "Hello: You called factorial_cps on 1\n",
      "Hello: I am continuation that multiplies by 2\n",
      "Hello: I am continuation that multiplies by 3\n"
     ]
    },
    {
     "data": {
      "text/plain": [
       "defined \u001b[32mfunction\u001b[39m \u001b[36mfactorial_cps\u001b[39m\n",
       "\u001b[36mres21_1\u001b[39m: \u001b[32mInt\u001b[39m = \u001b[32m6\u001b[39m"
      ]
     },
     "execution_count": 22,
     "metadata": {},
     "output_type": "execute_result"
    }
   ],
   "source": [
    "// Continuation passing style (CPS) \n",
    "// CPS transformation\n",
    "\n",
    "/* factorial cannot return a value it will pass its return value through k\n",
    "    Any return value must be passed through the continuation and\n",
    "     whatever the continuation returns must be the final return value in that function frame. \n",
    "*/\n",
    "def factorial_cps(x: Int, k: Int => Int): Int = {\n",
    "    println(s\"Hello: You called factorial_cps on $x\")\n",
    "    if (x <= 1){\n",
    "        k(1)  // TAIL CALL\n",
    "    }\n",
    "    else{\n",
    "        //x* factorial(x-1), spill the statements so computations are clear. \n",
    "        // val v = factorial(x-1)\n",
    "        // v*x \n",
    "        // let me package up all the computation that needs to be done \n",
    "        def allComputationThatHappensOnTheReturnValue(v: Int) = {\n",
    "            println(s\"Hello: I am continuation that multiplies by $x\")\n",
    "            k(v * x)  // packaging up the computatoin that is left and I am passing it along. \n",
    "        }\n",
    "        \n",
    "        /* now given all the work that needs to be done to the next item */\n",
    "        // My left over work is to \n",
    "        // 1. calculate v * x\n",
    "        // 2. pass it to to \"the left over work\" of my caller\n",
    "        // the whole thing after 2 returns is my return value. \n",
    "        factorial_cps(x-1,allComputationThatHappensOnTheReturnValue)  // TAIL CALL\n",
    "    }\n",
    "}\n",
    "\n",
    "factorial_cps(3, x => x)\n"
   ]
  },
  {
   "cell_type": "code",
   "execution_count": 24,
   "metadata": {},
   "outputs": [
    {
     "data": {
      "text/plain": [
       "defined \u001b[32mfunction\u001b[39m \u001b[36mfibonacci\u001b[39m"
      ]
     },
     "execution_count": 24,
     "metadata": {},
     "output_type": "execute_result"
    }
   ],
   "source": [
    "def fibonacci(x: Int): Int = {\n",
    "    if ( x <= 2){\n",
    "        1\n",
    "    }\n",
    "    else{\n",
    "        //fibonacci(x-1) + fibonacci(x-2),  spill it\n",
    "        val v1 = fibonacci(x-1)\n",
    "        val v2 = fibonacci(x-2)\n",
    "        v1 + v2\n",
    "    }\n",
    "}"
   ]
  },
  {
   "cell_type": "code",
   "execution_count": 25,
   "metadata": {},
   "outputs": [
    {
     "data": {
      "text/plain": [
       "defined \u001b[32mfunction\u001b[39m \u001b[36mfibonacci_cps\u001b[39m"
      ]
     },
     "execution_count": 25,
     "metadata": {},
     "output_type": "execute_result"
    }
   ],
   "source": [
    "/* This is one way to do it */ \n",
    "def fibonacci_cps(x:Int, k: Int => Int): Int = {    // 1. get the signature for fibonacci_cps\n",
    "    if ( x <= 2){\n",
    "        k(1)\n",
    "    }\n",
    "    else{\n",
    "        def leftOverWorkForFibbyXMinusOne(v1: Int) = {  // result for fibonacci(x-1), so do the rest inside that remains\n",
    "            //val v2 = fibonacci(x-2),  yes this is the remaining work, but you need to also make it a tail call. \n",
    "            // write a continuation for it\n",
    "            def leftOverWorkForFibbyXMinusTwo(v2: Int) = {\n",
    "                k(v1 + v2)\n",
    "            }\n",
    "            fibonacci_cps(x-2, leftOverWorkForFibbyXMinusTwo)  // actually making the function execute the leftover work\n",
    "        }\n",
    "        fibonacci_cps(x-1, leftOverWorkForFibbyXMinusOne)\n",
    "    }\n",
    "}"
   ]
  },
  {
   "cell_type": "code",
   "execution_count": 26,
   "metadata": {},
   "outputs": [
    {
     "data": {
      "text/plain": [
       "defined \u001b[32mfunction\u001b[39m \u001b[36mfibonacci_cps\u001b[39m"
      ]
     },
     "execution_count": 26,
     "metadata": {},
     "output_type": "execute_result"
    }
   ],
   "source": [
    "/* this is a better cleaner way to do it */ \n",
    "def fibonacci_cps_g[T](x:Int, k: Int => T): T = {    // 1. get the signature for fibonacci_cps\n",
    "    if ( x <= 2){\n",
    "        k(1)\n",
    "    }\n",
    "    else{\n",
    "        fibonacci_cps(x-1, (v1) => {\n",
    "            fibonacci_cps(x-2, (v2) => {k(v1 + v2)})\n",
    "        })\n",
    "    }\n",
    "}"
   ]
  },
  {
   "cell_type": "code",
   "execution_count": 28,
   "metadata": {},
   "outputs": [
    {
     "data": {
      "text/plain": [
       "defined \u001b[32mfunction\u001b[39m \u001b[36mfoo_cps\u001b[39m\n",
       "defined \u001b[32mfunction\u001b[39m \u001b[36mbar_cps\u001b[39m"
      ]
     },
     "execution_count": 28,
     "metadata": {},
     "output_type": "execute_result"
    }
   ],
   "source": [
    "def foo_cps[T](x: String, k:Int => T): T = {\n",
    "    k(x.toInt)\n",
    "}\n",
    "\n",
    "def bar_cps[T](x: Int, k: Int => T): T = {\n",
    "    foo_cps((x+1).toString, k)\n",
    "}"
   ]
  },
  {
   "cell_type": "code",
   "execution_count": 30,
   "metadata": {},
   "outputs": [
    {
     "name": "stdout",
     "output_type": "stream",
     "text": [
      "Hello: You called factorial_cps on 8\n",
      "Hello: You called factorial_cps on 7\n",
      "Hello: You called factorial_cps on 6\n",
      "Hello: You called factorial_cps on 5\n",
      "Hello: You called factorial_cps on 4\n",
      "Hello: You called factorial_cps on 3\n",
      "Hello: You called factorial_cps on 2\n",
      "Hello: You called factorial_cps on 1\n",
      "Hello: I am continuation that multiplies by 2\n",
      "Hello: I am continuation that multiplies by 3\n",
      "Hello: I am continuation that multiplies by 4\n",
      "Hello: I am continuation that multiplies by 5\n",
      "Hello: I am continuation that multiplies by 6\n",
      "Hello: I am continuation that multiplies by 7\n",
      "Hello: I am continuation that multiplies by 8\n"
     ]
    },
    {
     "data": {
      "text/plain": [
       "defined \u001b[32mfunction\u001b[39m \u001b[36mfactorial_cpsG\u001b[39m\n",
       "defined \u001b[32mfunction\u001b[39m \u001b[36mterminal_continuation\u001b[39m\n",
       "\u001b[36mres29_2\u001b[39m: \u001b[32mString\u001b[39m = \u001b[32m\"40320\"\u001b[39m"
      ]
     },
     "execution_count": 30,
     "metadata": {},
     "output_type": "execute_result"
    }
   ],
   "source": [
    "def factorial_cpsG[T](x: Int, k: Int => T): T = {\n",
    "     println(s\"Hello: You called factorial_cps on $x\")\n",
    "    if (x <= 1){\n",
    "        k(1)  // TAIL CALL\n",
    "    }\n",
    "    else{\n",
    "        //x* factorial(x-1), spill the statements so computations are clear. \n",
    "        // val v = factorial(x-1)\n",
    "        // v*x \n",
    "        // let me package up all the computation that needs to be done \n",
    "        def allComputationThatHappensOnTheReturnValue(v: Int) = {\n",
    "            println(s\"Hello: I am continuation that multiplies by $x\")\n",
    "            k(v * x)  // packaging up the computatoin that is left and I am passing it along. \n",
    "        }\n",
    "        \n",
    "        /* now given all the work that needs to be done to the next item */\n",
    "        // My left over work is to \n",
    "        // 1. calculate v * x\n",
    "        // 2. pass it to to \"the left over work\" of my caller\n",
    "        // the whole thing after 2 returns is my return value. \n",
    "        factorial_cps(x-1,allComputationThatHappensOnTheReturnValue)  // TAIL CALL\n",
    "    }\n",
    "}\n",
    "def terminal_continuation(v: Int): String = v.toString\n",
    "factorial_cpsG(8,terminal_continuation)"
   ]
  },
  {
   "cell_type": "code",
   "execution_count": 32,
   "metadata": {},
   "outputs": [
    {
     "data": {
      "text/plain": [
       "defined \u001b[32mfunction\u001b[39m \u001b[36mfoo\u001b[39m\n",
       "defined \u001b[32mfunction\u001b[39m \u001b[36mfoo_cps\u001b[39m\n",
       "\u001b[36mres31_2\u001b[39m: \u001b[32mInt\u001b[39m = \u001b[32m3\u001b[39m\n",
       "\u001b[36mres31_3\u001b[39m: \u001b[32mInt\u001b[39m = \u001b[32m3\u001b[39m"
      ]
     },
     "execution_count": 32,
     "metadata": {},
     "output_type": "execute_result"
    }
   ],
   "source": [
    "// convert this into a cps function \n",
    "def foo(x: Int): Int = {\n",
    "    if ( x <= 5){\n",
    "        3\n",
    "    }\n",
    "    else{\n",
    "        //foo( foo(x-1) - 3)\n",
    "        val v1 = foo(x-1)  // we only attack this line, we bundle up the rest\n",
    "        val v2 = foo(v1 - 3) // bundle this up \n",
    "        v2\n",
    "    }\n",
    "}\n",
    "def foo_cps[T](x: Int, k:Int => T): T = {\n",
    "    if ( x <= 5){\n",
    "        k(3)\n",
    "    }\n",
    "    /* now we bundle up remaining work and pass it on to the continuation function */ \n",
    "    else{\n",
    "        foo_cps(x-1, v1 => {\n",
    "            foo_cps(v1 - 3, (v2) => {\n",
    "                k(v2)\n",
    "            })\n",
    "        })\n",
    "    }\n",
    "}\n",
    "foo(10)\n",
    "foo_cps(10, x => x)"
   ]
  },
  {
   "cell_type": "code",
   "execution_count": null,
   "metadata": {
    "collapsed": true
   },
   "outputs": [],
   "source": []
  }
 ],
 "metadata": {
  "kernelspec": {
   "display_name": "Scala",
   "language": "scala",
   "name": "scala"
  },
  "language_info": {
   "codemirror_mode": "text/x-scala",
   "file_extension": ".scala",
   "mimetype": "text/x-scala",
   "name": "scala",
   "nbconvert_exporter": "script",
   "version": "2.12.10"
  }
 },
 "nbformat": 4,
 "nbformat_minor": 2
}
