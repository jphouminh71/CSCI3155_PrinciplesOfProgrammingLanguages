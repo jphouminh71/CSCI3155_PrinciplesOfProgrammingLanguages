{
 "cells": [
  {
   "cell_type": "markdown",
   "metadata": {},
   "source": [
    "# Continuations and Continuation Passing Style\n",
    "\n",
    "    * Every function will have an extra argument called the 'continuation' \n",
    "    * its a function that is passed in and specifies what the caller wishers to do with the result that the current frame computes.\n",
    "  \n",
    "```\n",
    "Take for instance, a function func that takes in an intenger and returns an integer\n",
    "\n",
    "    def func(x:Int): Int = {\n",
    "        // .. do  some work to compute the result ..\n",
    "    }\n",
    "    \n",
    "    In the CPS, it written as \n",
    "    \n",
    "    def func-k(x:Int, k:Int => Int): Int = {\n",
    "        // ..do some work to compute the result ..\n",
    "        k(result)  // pass the result onto the continuation\n",
    "```"
   ]
  },
  {
   "cell_type": "code",
   "execution_count": 1,
   "metadata": {},
   "outputs": [
    {
     "name": "stdout",
     "output_type": "stream",
     "text": [
      "7\n"
     ]
    },
    {
     "data": {
      "text/plain": [
       "defined \u001b[32mfunction\u001b[39m \u001b[36maddUp\u001b[39m\n",
       "defined \u001b[32mfunction\u001b[39m \u001b[36mmultiply\u001b[39m\n",
       "defined \u001b[32mfunction\u001b[39m \u001b[36mmadd\u001b[39m"
      ]
     },
     "execution_count": 1,
     "metadata": {},
     "output_type": "execute_result"
    }
   ],
   "source": [
    "def addUp(x: Int, y: Int, z: Int): Int = {\n",
    "    x + y + z \n",
    "}\n",
    "\n",
    "def multiply(x: Int, y: Int): Int = {\n",
    "    x * y\n",
    "}\n",
    "\n",
    "def madd(x: Int, y: Int, z: Int): Int = {\n",
    "    val v1 = multiply(x,y)\n",
    "    val v2 = addUp(v1,y,z)\n",
    "    return v2\n",
    "}\n",
    "\n",
    "println(madd(1,2,3))"
   ]
  },
  {
   "cell_type": "markdown",
   "metadata": {},
   "source": [
    "__Now we are going to create the CPS version of these functions__"
   ]
  },
  {
   "cell_type": "code",
   "execution_count": 3,
   "metadata": {},
   "outputs": [
    {
     "name": "stdout",
     "output_type": "stream",
     "text": [
      "7\n"
     ]
    },
    {
     "data": {
      "text/plain": [
       "defined \u001b[32mfunction\u001b[39m \u001b[36madd_k\u001b[39m\n",
       "defined \u001b[32mfunction\u001b[39m \u001b[36mmultiply_k\u001b[39m\n",
       "defined \u001b[32mfunction\u001b[39m \u001b[36mmadd_k\u001b[39m"
      ]
     },
     "execution_count": 3,
     "metadata": {},
     "output_type": "execute_result"
    }
   ],
   "source": [
    "def add_k(x:Int, y:Int, z:Int, k: Int => Int):Int = {\n",
    "    val v1 = x + y + z  // compute the result for the frame\n",
    "    k(v1)   // pass it onto the continuation \n",
    "}\n",
    "def multiply_k(x:Int, y:Int, k:Int => Int):Int ={\n",
    "    val result = x*y // compute the result of the frame\n",
    "    k(result)  // pass it onto the continuation\n",
    "}\n",
    "\n",
    "/* function gets interesting here because it isn't a one step\n",
    "    function like the previous two.\n",
    "    \n",
    "   original order of work done in the function \n",
    "       multiply(x,y)\n",
    "       addUp(v1,y,z)\n",
    "       \n",
    "    remember that the generally, you complete one thing at a time\n",
    "    and you just pass on the rest of the work so that any stack\n",
    "    frame at any given time ISNT waiting and thus not being tail\n",
    "    recursive.\n",
    "*/\n",
    "def madd_k(x:Int, y:Int, z:Int, k:Int => Int): Int = {\n",
    "    /* what you are going to do is form the contination\n",
    "    for the next function call that needs to happen after\n",
    "    'multiply_k' */\n",
    "    \n",
    "    def remainingWork(result:Int):Int = {\n",
    "        add_k(result,y,z,k)\n",
    "    }\n",
    "    \n",
    "    /*now that you created the next step for the next fram\n",
    "        do the first step in the process\n",
    "    */\n",
    "    multiply_k(x,y,remainingWork)\n",
    "}\n",
    "\n",
    "println(madd_k(1,2,3,x=>x))\n"
   ]
  },
  {
   "cell_type": "markdown",
   "metadata": {},
   "source": [
    "__Thing to notice for what we just did__\n",
    "\n",
    "    * The translation for addUp, multipl were straightfoward. These functions just got a new argument, k, for the contination. They simply compute what they did originally and instead of retunring the result, they simply call k on it. \n",
    "    \n",
    "```    \n",
    "    * The tricky function was madd_k, what did madd it do? \n",
    "        * called addUp on  on x,y\n",
    "        * took the result and called the mult function\n",
    "      * Thus we can write down what madd_k should do. \n",
    "          \n",
    "             call multiply_k, on x,y, and pass a continuation k to multiply+k. What must this continuaton do? \n",
    "             \n",
    "             the continaution, k, should do what madd originally idd. Take the result of multiply_k and call add_k.\n",
    "             \n",
    "     * The continuationm k, should do the arrears work madd would have done after the call to multiply returned. \n",
    "         1. call addUp_k\n",
    "         2. pass the result on to k.\n",
    "```\n",
    "     \n",
    "__another example__     "
   ]
  },
  {
   "cell_type": "code",
   "execution_count": 18,
   "metadata": {},
   "outputs": [
    {
     "name": "stdout",
     "output_type": "stream",
     "text": [
      "7\n",
      "7\n"
     ]
    },
    {
     "data": {
      "text/plain": [
       "defined \u001b[32mfunction\u001b[39m \u001b[36mf1\u001b[39m\n",
       "defined \u001b[32mfunction\u001b[39m \u001b[36mf1_k\u001b[39m"
      ]
     },
     "execution_count": 18,
     "metadata": {},
     "output_type": "execute_result"
    }
   ],
   "source": [
    "def f1(x: Int): Int = {\n",
    "    if (x <= 0){\n",
    "        1\n",
    "    }else{\n",
    "        3 + f1(x-10)\n",
    "    }\n",
    "    /*\n",
    "        > x - 10 \n",
    "        > f(result1)\n",
    "        > result1 + 3\n",
    "    */\n",
    "}\n",
    "println(f1(14))\n",
    "\n",
    "def f1_k(x:Int, k:Int => Int): Int = {\n",
    "    if (x <= 0){\n",
    "        k(1)\n",
    "    }else{\n",
    "        val resultOfthisFrame = x-10 \n",
    "        /* create the continuation so the next function call\n",
    "        knows what to do */ \n",
    "        def k1(resultofNextFrame:Int): Int = {\n",
    "            k(resultofNextFrame + 3)\n",
    "        }\n",
    "        f1_k(resultOfthisFrame, k1)\n",
    "    }\n",
    "}\n",
    "println(f1_k(14,x=>x))"
   ]
  },
  {
   "cell_type": "markdown",
   "metadata": {
    "collapsed": true
   },
   "source": [
    "# Start the from the ground, write the very basic forms of CPS"
   ]
  },
  {
   "cell_type": "code",
   "execution_count": 6,
   "metadata": {},
   "outputs": [
    {
     "name": "stdout",
     "output_type": "stream",
     "text": [
      "-61\n",
      "-61\n"
     ]
    },
    {
     "data": {
      "text/plain": [
       "defined \u001b[32mfunction\u001b[39m \u001b[36maddNums\u001b[39m\n",
       "defined \u001b[32mfunction\u001b[39m \u001b[36msubNums\u001b[39m\n",
       "defined \u001b[32mfunction\u001b[39m \u001b[36maddNums_k\u001b[39m\n",
       "defined \u001b[32mfunction\u001b[39m \u001b[36msubNums_k\u001b[39m\n",
       "defined \u001b[32mfunction\u001b[39m \u001b[36maddSub\u001b[39m\n",
       "defined \u001b[32mfunction\u001b[39m \u001b[36maddSub_k\u001b[39m"
      ]
     },
     "execution_count": 6,
     "metadata": {},
     "output_type": "execute_result"
    }
   ],
   "source": [
    "def addNums(x: Int, y: Int): Int = {\n",
    "    x + y\n",
    "}\n",
    "\n",
    "def subNums(x: Int, y: Int): Int = {\n",
    "    val result = x - y\n",
    "    result\n",
    "}\n",
    "\n",
    "//cps version\n",
    "def addNums_k(x:Int, y: Int, k: Int => Int):Int ={\n",
    "    val result = x + y\n",
    "    k(result) \n",
    "}\n",
    "//cps version\n",
    "def subNums_k(x: Int, y:Int, k: Int => Int): Int= {\n",
    "    val result = x - y \n",
    "    k(result) // give the result for the function to handle\n",
    "}\n",
    "\n",
    "\n",
    "// println(subNums(10,4))\n",
    "// println(subNums_k(10,4,x=>x))\n",
    "// println(addNums(2,-30))\n",
    "// println(addNums_k(2,-30,x=>x))\n",
    "\n",
    "\n",
    "\n",
    "/* now we will make it interesting by making a function that \n",
    "does two things */ \n",
    "\n",
    "/* function adds x,y then subtracts that result from z */\n",
    "def addSub(x:Int, y:Int, z:Int):Int = {\n",
    "    val sum = addNums(x,y) \n",
    "    val diff = subNums(sum,z)\n",
    "    diff\n",
    "}\n",
    "\n",
    "/* calculate the result of the frame, then just pass \n",
    "along the work to a continuation you design \n",
    "    addNums_k first\n",
    "    then subNums_k\n",
    "*/ \n",
    "def addSub_k(x:Int, y: Int, z:Int, k: Int => Int): Int ={\n",
    "    /* creating the continuation */\n",
    "                        // z and k are known in the closure\n",
    "    \n",
    "    // \"k is a function that is just waiting for result of next function\n",
    "    def k1(v1:Int): Int = subNums_k(v1, z, k)\n",
    "    addNums_k(x,y,k1) // i will return whatever this returns\n",
    "}\n",
    "\n",
    "\n",
    "println(addSub(1,22,84))\n",
    "println(addSub_k(1,22,84,x => x))"
   ]
  },
  {
   "cell_type": "markdown",
   "metadata": {},
   "source": [
    "# three step continuation"
   ]
  },
  {
   "cell_type": "code",
   "execution_count": 9,
   "metadata": {},
   "outputs": [
    {
     "name": "stdout",
     "output_type": "stream",
     "text": [
      "-20\n",
      "-20\n"
     ]
    },
    {
     "data": {
      "text/plain": [
       "defined \u001b[32mfunction\u001b[39m \u001b[36maddNums\u001b[39m\n",
       "defined \u001b[32mfunction\u001b[39m \u001b[36msubNums\u001b[39m\n",
       "defined \u001b[32mfunction\u001b[39m \u001b[36mmultNums\u001b[39m\n",
       "defined \u001b[32mfunction\u001b[39m \u001b[36maddSubMult\u001b[39m\n",
       "defined \u001b[32mfunction\u001b[39m \u001b[36maddNums_k\u001b[39m\n",
       "defined \u001b[32mfunction\u001b[39m \u001b[36msubNums_k\u001b[39m\n",
       "defined \u001b[32mfunction\u001b[39m \u001b[36mmultNums_k\u001b[39m\n",
       "defined \u001b[32mfunction\u001b[39m \u001b[36maddSubMult_k\u001b[39m"
      ]
     },
     "execution_count": 9,
     "metadata": {},
     "output_type": "execute_result"
    }
   ],
   "source": [
    "def addNums(x: Int, y: Int): Int = {\n",
    "    x + y\n",
    "}\n",
    "\n",
    "def subNums(x: Int, y: Int): Int = {\n",
    "    val result = x - y\n",
    "    result\n",
    "}\n",
    "\n",
    "def multNums(x: Int, p: Int): Int = {\n",
    "    val result = x * p \n",
    "    result\n",
    "}\n",
    "\n",
    "def addSubMult(x:Int, y:Int, z:Int, p: Int):Int = {\n",
    "    val sum = addNums(x,y) \n",
    "    val diff = subNums(sum,z)\n",
    "    val prod = multNums(diff, p)\n",
    "    prod\n",
    "}\n",
    "\n",
    "\n",
    "println(addSubMult(-1,3,4,10))\n",
    "\n",
    "\n",
    "\n",
    "\n",
    "\n",
    "\n",
    "//cps version\n",
    "def addNums_k(x:Int, y: Int, k: Int => Int):Int ={\n",
    "    val result = x + y\n",
    "    k(result) \n",
    "}\n",
    "//cps version\n",
    "def subNums_k(x: Int, y:Int, k: Int => Int): Int= {\n",
    "    val result = x - y \n",
    "    k(result) // give the result for the function to handle\n",
    "}\n",
    "// cps version, \"k is a function that is waiting for the result \n",
    "def multNums_k(x:Int, p:Int, k: Int => Int): Int = {\n",
    "    val result = x * p \n",
    "    k(result) \n",
    "}\n",
    "\n",
    "/* in this case you just build up the process in this call, then \n",
    "it all will execute */\n",
    "def addSubMult_k(x:Int, y: Int, z:Int, p:Int, k: Int => Int): Int ={\n",
    "    /* creating the continuation */\n",
    "    /* the inner continuation holds what needs to be done next */\n",
    "    def knext(v1:Int): Int = multNums_k(v1,p,k)\n",
    "    def k1(v1:Int): Int = subNums_k(v1, z, knext)\n",
    "    addNums_k(x,y,k1) // i will return whatever this returns\n",
    "}\n",
    "\n",
    "println(addSubMult_k(-1,3,4,10, x=>x))"
   ]
  },
  {
   "cell_type": "markdown",
   "metadata": {},
   "source": [
    "# now you are going to try to write cps of a recursive function on itself"
   ]
  },
  {
   "cell_type": "code",
   "execution_count": 2,
   "metadata": {},
   "outputs": [
    {
     "name": "stdout",
     "output_type": "stream",
     "text": [
      "0\n",
      "1\n",
      "2\n",
      "3\n",
      "4\n",
      "5\n",
      "6\n",
      "7\n",
      "8\n",
      "9\n",
      "10\n",
      "10\n"
     ]
    },
    {
     "data": {
      "text/plain": [
       "defined \u001b[32mfunction\u001b[39m \u001b[36mincrement\u001b[39m"
      ]
     },
     "execution_count": 2,
     "metadata": {},
     "output_type": "execute_result"
    }
   ],
   "source": [
    "def increment(x:Int, max:Int):Int = {\n",
    "    if (x == max){\n",
    "        println(x)\n",
    "        max\n",
    "    }else{\n",
    "        println(x)\n",
    "        increment(x+1, max)\n",
    "    }\n",
    "}\n",
    "\n",
    "println(increment(0,10))"
   ]
  },
  {
   "cell_type": "code",
   "execution_count": 13,
   "metadata": {},
   "outputs": [
    {
     "name": "stdout",
     "output_type": "stream",
     "text": [
      "1\n",
      "2\n",
      "3\n",
      "4\n",
      "5\n",
      "6\n",
      "7\n",
      "8\n",
      "9\n",
      "10\n",
      "10\n"
     ]
    },
    {
     "data": {
      "text/plain": [
       "defined \u001b[32mfunction\u001b[39m \u001b[36mincrement_k\u001b[39m"
      ]
     },
     "execution_count": 13,
     "metadata": {},
     "output_type": "execute_result"
    }
   ],
   "source": [
    "/* Stack isn't growing because each frame isn't waiting on \n",
    "something else to do */\n",
    "\n",
    "/* essentially, the basis of this function is to build up the \n",
    "    continuation function so that when you hit the base case\n",
    "     you just give it the intial value \n",
    "*/\n",
    "def increment_k(x:Int, max:Int, k:Int => Int): Int = {\n",
    "    if (x == max){\n",
    "        // zero because k incrementer is in the form\n",
    "        // (0+1)+1)+1)+1\n",
    "        k(0) \n",
    "    }else{\n",
    "        println(x+1)\n",
    "        def k1(v1:Int):Int = k(v1+1) // building up the continuation \n",
    "        increment_k(x+1,max, k1)\n",
    "        \n",
    "    }\n",
    "}\n",
    "\n",
    "println(increment_k(0,10,x => x))"
   ]
  },
  {
   "cell_type": "markdown",
   "metadata": {},
   "source": [
    "# Working through the examples provided in notes"
   ]
  },
  {
   "cell_type": "code",
   "execution_count": 11,
   "metadata": {},
   "outputs": [
    {
     "name": "stdout",
     "output_type": "stream",
     "text": [
      "10\n",
      "10\n"
     ]
    },
    {
     "data": {
      "text/plain": [
       "defined \u001b[32mfunction\u001b[39m \u001b[36mf1\u001b[39m\n",
       "defined \u001b[32mfunction\u001b[39m \u001b[36mf1_k\u001b[39m"
      ]
     },
     "execution_count": 11,
     "metadata": {},
     "output_type": "execute_result"
    }
   ],
   "source": [
    "// Convert this into cps \n",
    "def f1(x:Int): Int = {\n",
    "    if (x <= 0){\n",
    "        1\n",
    "    }else{\n",
    "        3 + f1(x - 10)\n",
    "    }\n",
    "}\n",
    "println(f1(25))\n",
    "\n",
    "\n",
    "// cps version \n",
    "def f1_k(x:Int, k:Int => Int): Int ={\n",
    "    if (x <= 0){\n",
    "        k(1)\n",
    "    }else{\n",
    "        /* create the continaution for the next call */ \n",
    "        def k1(v1:Int):Int = k(v1 + 3) // THIS IS AN ACCUMULATOR\n",
    "        f1_k(x-10,k1)\n",
    "        \n",
    "    }\n",
    "}\n",
    "println(f1_k(25, x=>x))"
   ]
  },
  {
   "cell_type": "markdown",
   "metadata": {},
   "source": [
    "# Try converting the factorial function "
   ]
  },
  {
   "cell_type": "code",
   "execution_count": 21,
   "metadata": {},
   "outputs": [
    {
     "name": "stdout",
     "output_type": "stream",
     "text": [
      "8\n",
      "7\n",
      "6\n",
      "5\n",
      "4\n",
      "3\n",
      "2\n",
      "(CPS: ,40320)\n",
      "(NON CPS:,40320)\n"
     ]
    },
    {
     "data": {
      "text/plain": [
       "defined \u001b[32mfunction\u001b[39m \u001b[36mfactorial\u001b[39m\n",
       "defined \u001b[32mfunction\u001b[39m \u001b[36mfactorial_k\u001b[39m"
      ]
     },
     "execution_count": 21,
     "metadata": {},
     "output_type": "execute_result"
    }
   ],
   "source": [
    "def factorial(x: Int): Int = {\n",
    "    if (x <= 1){\n",
    "        1\n",
    "    }else{\n",
    "        x * factorial(x-1)\n",
    "    }\n",
    "}\n",
    "\n",
    "// cps version\n",
    "// this is another case of building up the contination with \n",
    "// (1*2)*3)*..)*..n)\n",
    "def factorial_k(x: Int, k: Int => Int): Int ={\n",
    "    if (x <= 1){\n",
    "        k(1)\n",
    "    }else{\n",
    "        println(x)\n",
    "        def k1(v1:Int): Int = k(v1 * x) // building up the continuation\n",
    "        factorial_k(x-1, k1)\n",
    "    }\n",
    "}\n",
    "println(\"CPS: \", factorial_k(8, x=>x))\n",
    "println(\"NON CPS:\", factorial(8))"
   ]
  },
  {
   "cell_type": "markdown",
   "metadata": {},
   "source": [
    "# KEY ASPECT\n",
    "\n",
    "create an accumulator by just building up the contination!!!!"
   ]
  },
  {
   "cell_type": "markdown",
   "metadata": {},
   "source": [
    "# Harder continuation, fibonacci.\n",
    "## This will go over handling multiple function calls in a function"
   ]
  },
  {
   "cell_type": "code",
   "execution_count": 30,
   "metadata": {},
   "outputs": [
    {
     "name": "stdout",
     "output_type": "stream",
     "text": [
      "5\n",
      "5\n"
     ]
    },
    {
     "data": {
      "text/plain": [
       "defined \u001b[32mfunction\u001b[39m \u001b[36mfibonacci\u001b[39m\n",
       "defined \u001b[32mfunction\u001b[39m \u001b[36mfibonacci_k\u001b[39m"
      ]
     },
     "execution_count": 30,
     "metadata": {},
     "output_type": "execute_result"
    }
   ],
   "source": [
    "def fibonacci(x: Int): Int  = {\n",
    "    if (x <= 1){\n",
    "        1\n",
    "    }\n",
    "    else{\n",
    "        fibonacci(x-1) + fibonacci(x-2)\n",
    "    }\n",
    "}\n",
    "\n",
    "//cps version, this is going to be a accumulated sum \n",
    "def fibonacci_k(x: Int,k: Int => Int): Int = {\n",
    "    if (x <= 1){\n",
    "    /*this will always be the intial value that \n",
    "    fits the built up continuation function when \n",
    "    it gets here*/\n",
    "        k(1)\n",
    "    }\n",
    "    else{\n",
    "        /* create the continuation \n",
    "            have to handle two returning results without\n",
    "             making it non tail recursive...\n",
    "        */ \n",
    "        \n",
    "        /* this is what i do with the result of this function call */\n",
    "        def k1(v1:Int):Int = { \n",
    "         /* this is what i do with the with the second result i calculate */   \n",
    "            def k2(v2:Int): Int = {\n",
    "                k(v1 + v2)  // always wrap up with k when accunulating?\n",
    "            }\n",
    "         /* with the result i just got, calculate the n-2 for it */\n",
    "            fibonacci_k(x-2, k2)\n",
    "        }\n",
    "        \n",
    "        fibonacci_k(x-1, k1)\n",
    "    }\n",
    "}\n",
    "// does only the inner most get wrapped up in k()?\n",
    "\n",
    "\n",
    "println(fibonacci_k(4,x=>x))\n",
    "println(fibonacci(4))\n",
    "\n",
    "// this shit is still hard as fuck to trace"
   ]
  },
  {
   "cell_type": "markdown",
   "metadata": {},
   "source": [
    "# easier functions to convert"
   ]
  },
  {
   "cell_type": "code",
   "execution_count": 31,
   "metadata": {},
   "outputs": [
    {
     "name": "stdout",
     "output_type": "stream",
     "text": [
      "150\n",
      "150\n"
     ]
    },
    {
     "data": {
      "text/plain": [
       "defined \u001b[32mfunction\u001b[39m \u001b[36msimple_fun\u001b[39m\n",
       "defined \u001b[32mfunction\u001b[39m \u001b[36msimple_fun_k\u001b[39m"
      ]
     },
     "execution_count": 31,
     "metadata": {},
     "output_type": "execute_result"
    }
   ],
   "source": [
    "def simple_fun(x: Int): Int = {\n",
    "    val y = x * x\n",
    "    val z = y + y - 5 * x\n",
    "    if(z <= 0){\n",
    "        1\n",
    "    }\n",
    "    else{\n",
    "        z\n",
    "    }\n",
    "}\n",
    "\n",
    "// cps version \n",
    "/* nothing much changes here because\n",
    "    there is nothing for the function to do \n",
    "     after it handles its calculations other than return\n",
    "*/ \n",
    "def simple_fun_k(x: Int, k: Int => Int): Int = {\n",
    "    val y = x * x\n",
    "    val z = y + y - 5 * x\n",
    "    if(z <= 0){\n",
    "        k(1)\n",
    "    }\n",
    "    else{\n",
    "        k(z)\n",
    "    }\n",
    "}\n",
    "\n",
    "println(simple_fun(10))\n",
    "println(simple_fun_k(10,x=>x))"
   ]
  },
  {
   "cell_type": "markdown",
   "metadata": {},
   "source": [
    "# when theres a function call in each branch"
   ]
  },
  {
   "cell_type": "code",
   "execution_count": null,
   "metadata": {
    "collapsed": true
   },
   "outputs": [],
   "source": [
    "// this is tail recursive but we want it to be in CPS\n",
    "def tail_call_fun(x: Int): Int = {\n",
    "    if ( x >= 0){\n",
    "        simple_fun(x + 1)\n",
    "    }else{\n",
    "        val y = x * x - 2\n",
    "        simple_fun(y)\n",
    "    }\n",
    "}\n",
    "\n",
    "// this thing has no base case.\n",
    "def tail_call_fun_k(x: Int, k: Int => Int): Int = {\n",
    "    if ( x >= 0){\n",
    "        simple_fun_k(x + 1, k)\n",
    "    }else{\n",
    "        val y = x * x - 2\n",
    "        simple_fun_k(y, k)\n",
    "    }\n",
    "}"
   ]
  },
  {
   "cell_type": "markdown",
   "metadata": {},
   "source": [
    "# more complicated "
   ]
  },
  {
   "cell_type": "code",
   "execution_count": 31,
   "metadata": {},
   "outputs": [
    {
     "name": "stderr",
     "output_type": "stream",
     "text": [
      "cmd31.sc:9: not found: value tail_call_fun\n",
      "        val y1 = tail_call_fun(x)\n",
      "                 ^cmd31.sc:27: not found: value tail_call_fun_k\n",
      "        tail_call_fun_k(x,  k1)\n",
      "        ^cmd31.sc:27: missing argument list for method k1\n",
      "Unapplied methods are only converted to functions when a function type is expected.\n",
      "You can make this conversion explicit by writing `k1 _` or `k1(_)` instead of `k1`.\n",
      "        tail_call_fun_k(x,  k1)\n",
      "                            ^Compilation Failed"
     ]
    },
    {
     "ename": "",
     "evalue": "",
     "output_type": "error",
     "traceback": [
      "Compilation Failed"
     ]
    }
   ],
   "source": [
    "def fancy_function(x: Int, y: Int): Int = {\n",
    "    if (x == 0)\n",
    "        return 0\n",
    "    else if (x > 0) {\n",
    "        val s1 = 25\n",
    "        val y1 = x * y + x - y\n",
    "        s1 + y1\n",
    "    } else {\n",
    "        val y1 = tail_call_fun(x)\n",
    "        y1 + y - 2 * x\n",
    "    }\n",
    "    \n",
    "}\n",
    "def fancy_function_k(x: Int, y: Int, k: Int => Int): Int = {\n",
    "    if (x == 0)\n",
    "        return k(0)\n",
    "    else if (x > 0) {\n",
    "        val s1 = 25\n",
    "        val y1 = x * y + x - y\n",
    "        k(s1 + y1)\n",
    "    } else {\n",
    "        // Transform code after call \n",
    "        //  y1 + y - 2 * x\n",
    "        def k1(y1: Int): Int = {\n",
    "            k(y1 + y - 2 * x)\n",
    "        }\n",
    "        tail_call_fun_k(x,  k1)\n",
    "    }\n",
    "    \n",
    "}"
   ]
  },
  {
   "cell_type": "code",
   "execution_count": null,
   "metadata": {
    "collapsed": true
   },
   "outputs": [],
   "source": []
  }
 ],
 "metadata": {
  "kernelspec": {
   "display_name": "Scala",
   "language": "scala",
   "name": "scala"
  },
  "language_info": {
   "codemirror_mode": "text/x-scala",
   "file_extension": ".scala",
   "mimetype": "text/x-scala",
   "name": "scala",
   "nbconvert_exporter": "script",
   "version": "2.12.10"
  }
 },
 "nbformat": 4,
 "nbformat_minor": 2
}
