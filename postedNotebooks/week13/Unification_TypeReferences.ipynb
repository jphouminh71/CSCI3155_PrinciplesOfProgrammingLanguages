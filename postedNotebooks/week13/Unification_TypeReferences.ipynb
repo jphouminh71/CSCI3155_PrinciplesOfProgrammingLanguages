{
 "cells": [
  {
   "cell_type": "markdown",
   "metadata": {},
   "source": [
    "# Type Inference Using Unification\n",
    "\n",
    "We will continue where we left off from the type inference lecture, talking about systematic type inference engine for Lettuce, in this lecture, we will achieve the following: \n",
    "   \n",
    "   * Implement the informatl algorithm from last time into a more formal procedure \n",
    "   * Weave in constraint generation and constraint solving carefully to create a single type inference procedure that is cappable of giving us better error messages. \n",
    "   \n",
    "   \n",
    "# The Grammar\n",
    "\n",
    "We will use the following grammar that includes recurision. Note that we do not allow type annotations in our version. All type annotations will need to be inferred. \n",
    "\n",
    "$$\\begin{array}{rcll}\n",
    "\\mathbf{Program} & \\rightarrow & TopLevel(\\mathbf{Expr}) \\\\[5pt]\n",
    "\\mathbf{Expr} & \\rightarrow & Const(\\mathbf{Number}) \\\\\n",
    " & | & Ident(\\mathbf{Identifier}) \\\\\n",
    " & | & Plus(\\mathbf{Expr}, \\mathbf{Expr}) \\\\\n",
    " & | & Mult(\\mathbf{Expr}, \\mathbf{Expr}) \\\\\n",
    " & | & Eq(\\mathbf{Expr}, \\mathbf{Expr}) \\\\\n",
    " & | & Geq (\\mathbf{Expr}, \\mathbf{Expr}) \\\\\n",
    " & | & IfThenElse(\\mathbf{Expr}, \\mathbf{Expr}, \\mathbf{Expr}) & \\text{if (expr) then expr else expr} \\\\\n",
    " & | & Let( \\mathbf{Identifier}, \\mathbf{Expr}, \\mathbf{Expr}) & \\text{let identifier = expr in expr} \\\\\n",
    " & | & FunDef( \\mathbf{Identifier}, \\mathbf{Expr}) & \\text{function (identifier-formal-parameter) expr } \\\\ \n",
    " & | & FunCall(\\mathbf{Expr}, \\mathbf{Expr}) & \\text{function call - expr(expr)} \\\\\n",
    " & | & {LetRec(\\mathbf{Identifier}, \\mathbf{Identifier}, \\mathbf{Expr}, \\mathbf{Expr}) } & \\text{argument 1 - function name, argument 2 - parameter}\\\\\n",
    " &&& \\text{argument 3 - function definition expression, argument 4 - body expr} \\\\[5pt]\n",
    "\\end{array}$$\n"
   ]
  },
  {
   "cell_type": "code",
   "execution_count": 1,
   "metadata": {},
   "outputs": [
    {
     "data": {
      "text/plain": [
       "defined \u001b[32mtrait\u001b[39m \u001b[36mProgram\u001b[39m\n",
       "defined \u001b[32mtrait\u001b[39m \u001b[36mExpr\u001b[39m\n",
       "defined \u001b[32mclass\u001b[39m \u001b[36mConst\u001b[39m\n",
       "defined \u001b[32mclass\u001b[39m \u001b[36mIdent\u001b[39m\n",
       "defined \u001b[32mclass\u001b[39m \u001b[36mMinus\u001b[39m\n",
       "defined \u001b[32mclass\u001b[39m \u001b[36mPlus\u001b[39m\n",
       "defined \u001b[32mclass\u001b[39m \u001b[36mMult\u001b[39m\n",
       "defined \u001b[32mclass\u001b[39m \u001b[36mEq\u001b[39m\n",
       "defined \u001b[32mclass\u001b[39m \u001b[36mGeq\u001b[39m\n",
       "defined \u001b[32mclass\u001b[39m \u001b[36mIfThenElse\u001b[39m\n",
       "defined \u001b[32mclass\u001b[39m \u001b[36mLet\u001b[39m\n",
       "defined \u001b[32mclass\u001b[39m \u001b[36mFunDef\u001b[39m\n",
       "defined \u001b[32mclass\u001b[39m \u001b[36mFunCall\u001b[39m\n",
       "defined \u001b[32mclass\u001b[39m \u001b[36mLetRec\u001b[39m\n",
       "defined \u001b[32mclass\u001b[39m \u001b[36mTopLevel\u001b[39m"
      ]
     },
     "execution_count": 1,
     "metadata": {},
     "output_type": "execute_result"
    }
   ],
   "source": [
    "sealed trait Program\n",
    "sealed trait Expr\n",
    "case class Const(f: Double) extends Expr\n",
    "case class Ident(s: String) extends Expr\n",
    "case class Minus(e1: Expr, e2: Expr) extends Expr\n",
    "case class Plus(e1: Expr, e2: Expr) extends Expr\n",
    "case class Mult(e1: Expr, e2: Expr) extends Expr\n",
    "case class Eq(e1: Expr, e2: Expr) extends Expr\n",
    "case class Geq(e1: Expr, e2: Expr) extends Expr\n",
    "case class IfThenElse(e1: Expr, e2: Expr, e3: Expr) extends Expr\n",
    "case class Let(x: String, e1: Expr, e2: Expr) extends Expr\n",
    "case class FunDef(id: String, e: Expr) extends Expr\n",
    "case class FunCall(calledFun: Expr, argExpr: Expr) extends Expr\n",
    "case class LetRec(funName: String, param: String, funExpr: Expr, bodyExpr: Expr) extends Expr\n",
    "\n",
    "case class TopLevel(e: Expr) extends Program"
   ]
  },
  {
   "cell_type": "markdown",
   "metadata": {},
   "source": [
    "Our goal is to infer types. Previously we worked as follows: \n",
    "\n",
    "    1. Generate a system of constraints first, and haivng all the constraints in place\n",
    "    2. Solve the system of contrains using substitution/unification approach we described. \n",
    "    \n",
    "Let us define an AST for our types along with some utilities. The AST is going to allow types to be a type variable. For convineience, we will override the toString method to have a pretty printer for our types    "
   ]
  },
  {
   "cell_type": "code",
   "execution_count": 2,
   "metadata": {},
   "outputs": [
    {
     "data": {
      "text/plain": [
       "defined \u001b[32mtrait\u001b[39m \u001b[36mType\u001b[39m\n",
       "defined \u001b[32mobject\u001b[39m \u001b[36mNumType\u001b[39m\n",
       "defined \u001b[32mobject\u001b[39m \u001b[36mBoolType\u001b[39m\n",
       "defined \u001b[32mclass\u001b[39m \u001b[36mFunType\u001b[39m\n",
       "defined \u001b[32mclass\u001b[39m \u001b[36mTypeVar\u001b[39m\n",
       "defined \u001b[32mclass\u001b[39m \u001b[36mTypeEquation\u001b[39m\n",
       "defined \u001b[32mclass\u001b[39m \u001b[36mTypeConstraints\u001b[39m"
      ]
     },
     "execution_count": 2,
     "metadata": {},
     "output_type": "execute_result"
    }
   ],
   "source": [
    "sealed trait Type \n",
    "\n",
    "case object NumType extends Type {\n",
    "    override def toString: String = \"num\"\n",
    "}\n",
    "case object BoolType extends Type {\n",
    "    override def toString: String = \"bool\"\n",
    "}\n",
    "case class FunType(t1: Type, t2: Type) extends Type {\n",
    "    override def toString: String = s\"($t1 => $t2)\"\n",
    "}\n",
    "\n",
    "// A type variable is now allowed since we are inferring types.\n",
    "// The type variable has a number that identifies the variable uniquely.\n",
    "\n",
    "case class TypeVar(j: Int) extends Type {\n",
    "    override def toString: String = s\"t$j\"\n",
    "}\n",
    "\n",
    "/* --\n",
    "TypeEquation: \n",
    "\n",
    "A type equation models an equation of the form t1 == t2\n",
    "--*/\n",
    "\n",
    "case class TypeEquation(t1: Type, t2: Type)\n",
    "\n",
    "/*-- \n",
    "TypeConstraints: \n",
    "A class that contains mutables : \n",
    "\n",
    "   nTypeVars -- number of type variables so far\n",
    "   l -- list of type equations added thus far.\n",
    "--*/\n",
    "case class TypeConstraints() {\n",
    "    \n",
    "    var nTypeVars: Int = 0\n",
    "    \n",
    "    var l: List[TypeEquation] = List()\n",
    "    \n",
    "    /* createFreshVar is a method that creates a fresh type variable. */\n",
    "    def createFreshVar(): TypeVar = {\n",
    "        val t = TypeVar(this.nTypeVars)\n",
    "        nTypeVars = nTypeVars + 1\n",
    "        return t\n",
    "    }\n",
    "    \n",
    "    /* addTypeEquation is a method that adds a new type equation to our system */\n",
    "    def addTypeEquation(t1: Type, t2: Type): Unit = {\n",
    "        if (t1 == t2){\n",
    "            // For convenience, we will suppress trivial equations\n",
    "            println(s\"Debug: trivial type equation $t1 == $t2 suppressed.\")\n",
    "        } else {\n",
    "           l = TypeEquation(t1, t2)::l\n",
    "        }\n",
    "    }\n",
    "    \n",
    "    /* printAllTypeEquations pretty prints all the type equations thus far */\n",
    "    def printAllTypeEquations(): Unit = {\n",
    "        for (te <- l) {\n",
    "            te match {\n",
    "                case TypeEquation(t1, t2) => {println(s\"$t1 == $t2\")}\n",
    "            }\n",
    "        }\n",
    "    }\n",
    "}"
   ]
  },
  {
   "cell_type": "markdown",
   "metadata": {},
   "source": [
    "# 1. Generating Type Variables and Constraints from a Program\n",
    "\n",
    "Let us focus on how to generate constraints from a program. As mentioned previously, we will walk the program recursively and generate new type variables and constraints as needed. \n",
    "\n",
    "Function fnerateTypeVarsAndConstraints has the following inputs. \n",
    "\n",
    "    * e is an expression that we are currently processing \n",
    "    * alpha is a type environment. A map from Strings (identifier names) to their current types. Not that the type can involve type variables. \n",
    "    * tCons a TypeConstraints has the current list of equations and new variables. \n",
    "    \n",
    "The output of the generateTypeVarsAndConstraints is a Type, which is the type of the expression e being input.     "
   ]
  },
  {
   "cell_type": "code",
   "execution_count": 3,
   "metadata": {
    "scrolled": true
   },
   "outputs": [
    {
     "data": {
      "text/plain": [
       "defined \u001b[32mfunction\u001b[39m \u001b[36mgenerateTypeVarsAndConstraints\u001b[39m\n",
       "defined \u001b[32mfunction\u001b[39m \u001b[36mgenerateAllEquations\u001b[39m"
      ]
     },
     "execution_count": 3,
     "metadata": {},
     "output_type": "execute_result"
    }
   ],
   "source": [
    "def generateTypeVarsAndConstraints(e: Expr, alpha: Map[String, Type], tCons: TypeConstraints): Type = {\n",
    "\n",
    "    /* handleSubExprs is a utility method\n",
    "     It recursively calls generateTypeVarsAndConstraints on e1 and e2 \n",
    "     Each operand must equal operandType\n",
    "     result equal to the resultType\n",
    "     */\n",
    "    def handleSubExprs(e1: Expr, e2: Expr, operandType: Type, resultType: Type): Type = {\n",
    "        val t1 = generateTypeVarsAndConstraints(e1, alpha, tCons)\n",
    "        /* ADD EQUATION t1 == desiredType */\n",
    "        tCons.addTypeEquation(t1, operandType)\n",
    "        val t2 = generateTypeVarsAndConstraints(e2, alpha, tCons)\n",
    "        /* ADD EQUATION t2 == desiredType */\n",
    "        tCons.addTypeEquation(t2, operandType)\n",
    "        resultType\n",
    "    }\n",
    "    /* Now we walk the expression */\n",
    "    e match {\n",
    "        case Const(_) => NumType /* Numeric constants always have NumType */\n",
    "        \n",
    "        case Ident(s) => if (alpha contains s) \n",
    "                            alpha(s) /* Identifier types are just looked up from the environment, as usual */\n",
    "                         else \n",
    "                            throw new IllegalArgumentException(s\"Unknown identifier: $s\")\n",
    "        \n",
    "        /* Let us use handleSubExprs to handle arithmtic and comparisons. \n",
    "        Note that the desired type is NumType */\n",
    "        \n",
    "        case Minus(e1, e2) => handleSubExprs(e1, e2, NumType, NumType)\n",
    "        \n",
    "        case Plus(e1, e2) => handleSubExprs(e1, e2, NumType, NumType)\n",
    "        \n",
    "        case Mult(e1, e2) => handleSubExprs(e1, e2, NumType, NumType)\n",
    "        \n",
    "        /* Note: Desired type of Geq is BoolType */\n",
    "        \n",
    "        case Geq(e1, e2) => handleSubExprs(e1, e2, NumType, BoolType)\n",
    "        \n",
    "        /* e1 == e2 is handled as follows: \n",
    "           generate type variables and constraints for e1\n",
    "           generate type variables and constraints for e2 \n",
    "           Add type equation: type(e1) == type(e2)\n",
    "           */\n",
    "        case Eq(e1, e2) => {\n",
    "            val t1 = generateTypeVarsAndConstraints(e1, alpha, tCons)\n",
    "            val t2 = generateTypeVarsAndConstraints(e2, alpha, tCons)\n",
    "            /* EQUATION: t1 == t2 */\n",
    "            tCons.addTypeEquation(t1, t2)\n",
    "            /* Return type of Equality is Boolean */\n",
    "            BoolType\n",
    "        }\n",
    "        \n",
    "        case IfThenElse(e, e1, e2) => {\n",
    "            /* First process the conditional expression e*/\n",
    "            val t = generateTypeVarsAndConstraints(e, alpha, tCons)\n",
    "            /* t must be boolean */\n",
    "            tCons.addTypeEquation(t, BoolType)\n",
    "            /* Next process the subexpressions e1, e2 */\n",
    "            val t1 = generateTypeVarsAndConstraints(e1, alpha, tCons)\n",
    "            val t2 = generateTypeVarsAndConstraints(e2, alpha, tCons)\n",
    "            /* Equation: t1 == t2 */\n",
    "            tCons.addTypeEquation(t1, t2)\n",
    "            t1 /* May as well have been t2, but it does not matter for now */\n",
    "        }\n",
    "        \n",
    "        case Let(x, e1, e2) => {\n",
    "            /* For a let binding, first process e1 */\n",
    "            val t1 = generateTypeVarsAndConstraints(e1, alpha, tCons)\n",
    "            /* update the type environment to handle (x -> t1) */\n",
    "            val newEnv = alpha + (x -> t1)\n",
    "            /* process e2 */\n",
    "            generateTypeVarsAndConstraints(e2, newEnv, tCons)\n",
    "        }\n",
    "        \n",
    "        case FunCall(e1, e2) => {\n",
    "            /* First process the function call expression t */\n",
    "            val t = generateTypeVarsAndConstraints(e1, alpha, tCons)\n",
    "            t match {\n",
    "                /* t is explicitly a function type. \n",
    "                   Add equation that the type of the function call argument e2 must be the same as \n",
    "                   the type t takes for its input */\n",
    "                case FunType(t1Hat , t2Hat) => {\n",
    "                    val t1 = generateTypeVarsAndConstraints(e2, alpha, tCons)\n",
    "                    /* Equation: t1Hat == t1 */\n",
    "                    tCons.addTypeEquation(t1, t1Hat)\n",
    "                    /* Type of call must be t2Hat */\n",
    "                    t2Hat\n",
    "                }\n",
    "                case TypeVar(j) => {\n",
    "                    /* t is a type variable. \n",
    "                       Generate a new type variable for the result of the call */\n",
    "                    val nVar = tCons.createFreshVar() // Create a placeholder for the result type\n",
    "                    println(s\"Type Var: $e has type variable $nVar\")\n",
    "                    /* Generate the type of the argument of the call */\n",
    "                    val t1 = generateTypeVarsAndConstraints(e2, alpha, tCons)\n",
    "                    /* Now we note that the type of the function called: t must equal t1 => nVar */\n",
    "                    val t3 = FunType(t1, nVar)\n",
    "                    /* Equation: t == t1 => nVar */\n",
    "                    tCons.addTypeEquation(t, t3)\n",
    "                    /* return type is nVar */\n",
    "                    nVar\n",
    "                }\n",
    "                case _ => throw new IllegalArgumentException(s\"Type inference error: function call on non function type $t\")\n",
    "            }\n",
    "        }\n",
    "        \n",
    "        case FunDef(x, e1) => {\n",
    "            //1. Create a new variable for the formal argument x\n",
    "            val tx = tCons.createFreshVar()\n",
    "            println(s\"Type Var: $x has type variable $tx\")\n",
    "            //2. Add it to the type environment\n",
    "            val newEnv = alpha + (x -> tx)\n",
    "            /* 3. Process the body of the function */\n",
    "            val t2 = generateTypeVarsAndConstraints(e1, newEnv, tCons)\n",
    "            //4. Type of this whole thing is tx => t2\n",
    "            FunType(tx, t2)\n",
    "        }\n",
    "        \n",
    "        case LetRec(funName, param, funExpr, bodyExpr) => {\n",
    "            //1. Create a new variable for the formal argument x\n",
    "            val tx = tCons.createFreshVar()\n",
    "            println(s\"Type Var: $param has type variable $tx\")\n",
    "            //2. Create a new variable for the function \n",
    "            val tfun = tCons.createFreshVar()\n",
    "            println(s\"Type Var: $funName has type variable $tfun\")\n",
    "            //3. Update the type environment.\n",
    "            val newEnv = alpha ++ List(param -> tx, funName -> tfun)\n",
    "            //4. Process the body of the function having updated the type environment\n",
    "            val t2 = generateTypeVarsAndConstraints(funExpr, newEnv, tCons)\n",
    "            //5. The type of the function better be tx => t2, tx being argument type and t2 being\n",
    "            // what we computed as the type of its body\n",
    "            tCons.addTypeEquation(FunType(tx, t2), tfun)\n",
    "            // return the type of the function\n",
    "            tfun\n",
    "        }\n",
    "    }\n",
    "}\n",
    "\n",
    "def generateAllEquations(p: Program ) = p match {\n",
    "    case TopLevel(e) => {\n",
    "        val tCons = new TypeConstraints()\n",
    "        val emptyEnv: Map[String, Type] = Map()\n",
    "        val t = generateTypeVarsAndConstraints(e, emptyEnv, tCons)\n",
    "        println(\"Equations: \")\n",
    "        tCons.printAllTypeEquations()\n",
    "        println(\"------------- \")\n",
    "        println(s\"If equations are solved then the program will have type : $t\")\n",
    "        tCons\n",
    "    }\n",
    "}\n",
    "\n",
    "\n"
   ]
  },
  {
   "cell_type": "markdown",
   "metadata": {},
   "source": [
    "// let x = 15 in x + 35\n",
    "val x = Ident(\"x\")\n",
    "val e1 = Let(\"x\", Const(15), Plus(x, Const(35)))\n",
    "val tCons1 = generateAllEquations(TopLevel(e1))"
   ]
  },
  {
   "cell_type": "code",
   "execution_count": 4,
   "metadata": {},
   "outputs": [
    {
     "name": "stdout",
     "output_type": "stream",
     "text": [
      "Debug: trivial type equation num == num suppressed.\n",
      "Debug: trivial type equation num == num suppressed.\n",
      "Equations: \n",
      "------------- \n",
      "If equations are solved then the program will have type : num\n"
     ]
    },
    {
     "data": {
      "text/plain": [
       "\u001b[36mx\u001b[39m: \u001b[32mIdent\u001b[39m = \u001b[33mIdent\u001b[39m(\u001b[32m\"x\"\u001b[39m)\n",
       "\u001b[36me1\u001b[39m: \u001b[32mLet\u001b[39m = \u001b[33mLet\u001b[39m(\u001b[32m\"x\"\u001b[39m, \u001b[33mConst\u001b[39m(\u001b[32m15.0\u001b[39m), \u001b[33mPlus\u001b[39m(\u001b[33mIdent\u001b[39m(\u001b[32m\"x\"\u001b[39m), \u001b[33mConst\u001b[39m(\u001b[32m35.0\u001b[39m)))\n",
       "\u001b[36mtCons1\u001b[39m: \u001b[32mTypeConstraints\u001b[39m = TypeConstraints()"
      ]
     },
     "execution_count": 4,
     "metadata": {},
     "output_type": "execute_result"
    }
   ],
   "source": [
    "// let x = 15 in x + 35\n",
    "val x = Ident(\"x\")\n",
    "val e1 = Let(\"x\", Const(15), Plus(x, Const(35)))\n",
    "val tCons1 = generateAllEquations(TopLevel(e1))"
   ]
  },
  {
   "cell_type": "code",
   "execution_count": 5,
   "metadata": {},
   "outputs": [
    {
     "name": "stdout",
     "output_type": "stream",
     "text": [
      "Type Var: x has type variable t0\n",
      "Debug: trivial type equation num == num suppressed.\n",
      "Debug: trivial type equation num == num suppressed.\n",
      "Equations: \n",
      "bool == num\n",
      "num == t0\n",
      "t0 == num\n",
      "------------- \n",
      "If equations are solved then the program will have type : num\n"
     ]
    },
    {
     "data": {
      "text/plain": [
       "\u001b[36mf\u001b[39m: \u001b[32mIdent\u001b[39m = \u001b[33mIdent\u001b[39m(\u001b[32m\"f\"\u001b[39m)\n",
       "\u001b[36mx\u001b[39m: \u001b[32mIdent\u001b[39m = \u001b[33mIdent\u001b[39m(\u001b[32m\"x\"\u001b[39m)\n",
       "\u001b[36mfdef\u001b[39m: \u001b[32mFunDef\u001b[39m = \u001b[33mFunDef\u001b[39m(\u001b[32m\"x\"\u001b[39m, \u001b[33mGeq\u001b[39m(\u001b[33mIdent\u001b[39m(\u001b[32m\"x\"\u001b[39m), \u001b[33mConst\u001b[39m(\u001b[32m35.0\u001b[39m)))\n",
       "\u001b[36me2\u001b[39m: \u001b[32mLet\u001b[39m = \u001b[33mLet\u001b[39m(\n",
       "  \u001b[32m\"f\"\u001b[39m,\n",
       "  \u001b[33mFunDef\u001b[39m(\u001b[32m\"x\"\u001b[39m, \u001b[33mGeq\u001b[39m(\u001b[33mIdent\u001b[39m(\u001b[32m\"x\"\u001b[39m), \u001b[33mConst\u001b[39m(\u001b[32m35.0\u001b[39m))),\n",
       "  \u001b[33mPlus\u001b[39m(\u001b[33mFunCall\u001b[39m(\u001b[33mIdent\u001b[39m(\u001b[32m\"f\"\u001b[39m), \u001b[33mConst\u001b[39m(\u001b[32m20.0\u001b[39m)), \u001b[33mConst\u001b[39m(\u001b[32m35.0\u001b[39m))\n",
       ")\n",
       "\u001b[36mtCons2\u001b[39m: \u001b[32mTypeConstraints\u001b[39m = TypeConstraints()"
      ]
     },
     "execution_count": 5,
     "metadata": {},
     "output_type": "execute_result"
    }
   ],
   "source": [
    "// let f = function (x)  x >= 35 in \n",
    "//   f(20) + 35\n",
    "\n",
    "val f = Ident(\"f\")\n",
    "val x = Ident(\"x\")\n",
    "val fdef = FunDef(\"x\", Geq(x, Const(35)))\n",
    "val e2 = Let(\"f\", fdef, Plus(FunCall(f, Const(20)), Const(35)))\n",
    "val tCons2 = generateAllEquations(TopLevel(e2))"
   ]
  },
  {
   "cell_type": "code",
   "execution_count": 6,
   "metadata": {},
   "outputs": [
    {
     "name": "stdout",
     "output_type": "stream",
     "text": [
      "Type Var: x has type variable t0\n",
      "Equations: \n",
      "(t0 => num) == t0\n",
      "t0 == num\n",
      "t0 == num\n",
      "------------- \n",
      "If equations are solved then the program will have type : num\n"
     ]
    },
    {
     "data": {
      "text/plain": [
       "\u001b[36mf\u001b[39m: \u001b[32mIdent\u001b[39m = \u001b[33mIdent\u001b[39m(\u001b[32m\"f\"\u001b[39m)\n",
       "\u001b[36mx\u001b[39m: \u001b[32mIdent\u001b[39m = \u001b[33mIdent\u001b[39m(\u001b[32m\"x\"\u001b[39m)\n",
       "\u001b[36mfdef\u001b[39m: \u001b[32mFunDef\u001b[39m = \u001b[33mFunDef\u001b[39m(\u001b[32m\"x\"\u001b[39m, \u001b[33mPlus\u001b[39m(\u001b[33mIdent\u001b[39m(\u001b[32m\"x\"\u001b[39m), \u001b[33mIdent\u001b[39m(\u001b[32m\"x\"\u001b[39m)))\n",
       "\u001b[36me3\u001b[39m: \u001b[32mLet\u001b[39m = \u001b[33mLet\u001b[39m(\n",
       "  \u001b[32m\"f\"\u001b[39m,\n",
       "  \u001b[33mFunDef\u001b[39m(\u001b[32m\"x\"\u001b[39m, \u001b[33mPlus\u001b[39m(\u001b[33mIdent\u001b[39m(\u001b[32m\"x\"\u001b[39m), \u001b[33mIdent\u001b[39m(\u001b[32m\"x\"\u001b[39m))),\n",
       "  \u001b[33mFunCall\u001b[39m(\u001b[33mIdent\u001b[39m(\u001b[32m\"f\"\u001b[39m), \u001b[33mIdent\u001b[39m(\u001b[32m\"f\"\u001b[39m))\n",
       ")\n",
       "\u001b[36mtCons3\u001b[39m: \u001b[32mTypeConstraints\u001b[39m = TypeConstraints()"
      ]
     },
     "execution_count": 6,
     "metadata": {},
     "output_type": "execute_result"
    }
   ],
   "source": [
    "/* let f = function (x) x + x in \n",
    "  f (f)\n",
    "*/\n",
    "val f = Ident(\"f\")\n",
    "val x = Ident(\"x\")\n",
    "val fdef = FunDef(\"x\", Plus(x, x))\n",
    "val e3 = Let(\"f\", fdef, FunCall(f, f))\n",
    "val tCons3 = generateAllEquations(TopLevel(e3))"
   ]
  },
  {
   "cell_type": "code",
   "execution_count": 7,
   "metadata": {},
   "outputs": [
    {
     "name": "stdout",
     "output_type": "stream",
     "text": [
      "Type Var: g has type variable t0\n",
      "Type Var: x has type variable t1\n",
      "Type Var: FunCall(Ident(g),FunCall(Ident(g),Ident(x))) has type variable t2\n",
      "Type Var: FunCall(Ident(g),Ident(x)) has type variable t3\n",
      "Type Var: y has type variable t4\n",
      "Equations: \n",
      "(t4 => num) == t0\n",
      "t4 == num\n",
      "t4 == num\n",
      "t0 == (t3 => t2)\n",
      "t0 == (t1 => t3)\n",
      "------------- \n",
      "If equations are solved then the program will have type : (t1 => t2)\n"
     ]
    },
    {
     "data": {
      "text/plain": [
       "\u001b[36md\u001b[39m: \u001b[32mIdent\u001b[39m = \u001b[33mIdent\u001b[39m(\u001b[32m\"d\"\u001b[39m)\n",
       "\u001b[36my\u001b[39m: \u001b[32mIdent\u001b[39m = \u001b[33mIdent\u001b[39m(\u001b[32m\"y\"\u001b[39m)\n",
       "\u001b[36mg\u001b[39m: \u001b[32mIdent\u001b[39m = \u001b[33mIdent\u001b[39m(\u001b[32m\"g\"\u001b[39m)\n",
       "\u001b[36mx\u001b[39m: \u001b[32mIdent\u001b[39m = \u001b[33mIdent\u001b[39m(\u001b[32m\"x\"\u001b[39m)\n",
       "\u001b[36mf\u001b[39m: \u001b[32mIdent\u001b[39m = \u001b[33mIdent\u001b[39m(\u001b[32m\"f\"\u001b[39m)\n",
       "\u001b[36mfdef1\u001b[39m: \u001b[32mFunDef\u001b[39m = \u001b[33mFunDef\u001b[39m(\u001b[32m\"y\"\u001b[39m, \u001b[33mPlus\u001b[39m(\u001b[33mIdent\u001b[39m(\u001b[32m\"y\"\u001b[39m), \u001b[33mIdent\u001b[39m(\u001b[32m\"y\"\u001b[39m)))\n",
       "\u001b[36me1\u001b[39m: \u001b[32mLet\u001b[39m = \u001b[33mLet\u001b[39m(\n",
       "  \u001b[32m\"d\"\u001b[39m,\n",
       "  \u001b[33mFunDef\u001b[39m(\u001b[32m\"y\"\u001b[39m, \u001b[33mPlus\u001b[39m(\u001b[33mIdent\u001b[39m(\u001b[32m\"y\"\u001b[39m), \u001b[33mIdent\u001b[39m(\u001b[32m\"y\"\u001b[39m))),\n",
       "  \u001b[33mFunCall\u001b[39m(\u001b[33mIdent\u001b[39m(\u001b[32m\"f\"\u001b[39m), \u001b[33mIdent\u001b[39m(\u001b[32m\"d\"\u001b[39m))\n",
       ")\n",
       "\u001b[36mfdef3\u001b[39m: \u001b[32mFunDef\u001b[39m = \u001b[33mFunDef\u001b[39m(\n",
       "  \u001b[32m\"x\"\u001b[39m,\n",
       "  \u001b[33mFunCall\u001b[39m(\u001b[33mIdent\u001b[39m(\u001b[32m\"g\"\u001b[39m), \u001b[33mFunCall\u001b[39m(\u001b[33mIdent\u001b[39m(\u001b[32m\"g\"\u001b[39m), \u001b[33mIdent\u001b[39m(\u001b[32m\"x\"\u001b[39m)))\n",
       ")\n",
       "\u001b[36mfdef2\u001b[39m: \u001b[32mFunDef\u001b[39m = \u001b[33mFunDef\u001b[39m(\n",
       "  \u001b[32m\"g\"\u001b[39m,\n",
       "  \u001b[33mFunDef\u001b[39m(\u001b[32m\"x\"\u001b[39m, \u001b[33mFunCall\u001b[39m(\u001b[33mIdent\u001b[39m(\u001b[32m\"g\"\u001b[39m), \u001b[33mFunCall\u001b[39m(\u001b[33mIdent\u001b[39m(\u001b[32m\"g\"\u001b[39m), \u001b[33mIdent\u001b[39m(\u001b[32m\"x\"\u001b[39m))))\n",
       ")\n",
       "\u001b[36me4\u001b[39m: \u001b[32mLet\u001b[39m = \u001b[33mLet\u001b[39m(\n",
       "  \u001b[32m\"f\"\u001b[39m,\n",
       "  \u001b[33mFunDef\u001b[39m(\u001b[32m\"g\"\u001b[39m, \u001b[33mFunDef\u001b[39m(\u001b[32m\"x\"\u001b[39m, \u001b[33mFunCall\u001b[39m(\u001b[33mIdent\u001b[39m(\u001b[32m\"g\"\u001b[39m), \u001b[33mFunCall\u001b[39m(\u001b[33mIdent\u001b[39m(\u001b[32m\"g\"\u001b[39m), \u001b[33mIdent\u001b[39m(\u001b[32m\"x\"\u001b[39m))))),\n",
       "  \u001b[33mLet\u001b[39m(\n",
       "    \u001b[32m\"d\"\u001b[39m,\n",
       "    \u001b[33mFunDef\u001b[39m(\u001b[32m\"y\"\u001b[39m, \u001b[33mPlus\u001b[39m(\u001b[33mIdent\u001b[39m(\u001b[32m\"y\"\u001b[39m), \u001b[33mIdent\u001b[39m(\u001b[32m\"y\"\u001b[39m))),\n",
       "    \u001b[33mFunCall\u001b[39m(\u001b[33mIdent\u001b[39m(\u001b[32m\"f\"\u001b[39m), \u001b[33mIdent\u001b[39m(\u001b[32m\"d\"\u001b[39m))\n",
       "  )\n",
       ")\n",
       "\u001b[36mtCons4\u001b[39m: \u001b[32mTypeConstraints\u001b[39m = TypeConstraints()"
      ]
     },
     "execution_count": 7,
     "metadata": {},
     "output_type": "execute_result"
    }
   ],
   "source": [
    "/* let f = function (g) \n",
    "             function (x) \n",
    "                 g( g( x ) )\n",
    "         in \n",
    "      let d = function (y) y + y in \n",
    "          f (d) */\n",
    "\n",
    "val d = Ident(\"d\")\n",
    "val y = Ident(\"y\")\n",
    "val g = Ident(\"g\")\n",
    "val x = Ident(\"x\")\n",
    "val f = Ident(\"f\")\n",
    "val fdef1 = FunDef(\"y\", Plus(y, y))\n",
    "\n",
    "val e1 = Let(\"d\", fdef1, FunCall(f, d))\n",
    "val fdef3 = FunDef(\"x\", FunCall(g, FunCall(g, x)))\n",
    "val fdef2 = FunDef(\"g\", fdef3)\n",
    "val e4  = Let(\"f\", fdef2, e1)\n",
    "\n",
    "val tCons4 = generateAllEquations(TopLevel(e4))"
   ]
  },
  {
   "cell_type": "code",
   "execution_count": 8,
   "metadata": {},
   "outputs": [
    {
     "name": "stdout",
     "output_type": "stream",
     "text": [
      "Type Var: z has type variable t0\n",
      "Type Var: f has type variable t1\n",
      "Debug: trivial type equation num == num suppressed.\n",
      "Debug: trivial type equation bool == bool suppressed.\n",
      "Debug: trivial type equation num == num suppressed.\n",
      "Type Var: FunCall(Ident(f),Minus(Ident(z),Const(1.0))) has type variable t2\n",
      "Debug: trivial type equation num == num suppressed.\n",
      "Debug: trivial type equation num == num suppressed.\n",
      "Equations: \n",
      "(t0 => num) == t1\n",
      "t2 == num\n",
      "t1 == (num => t2)\n",
      "t0 == num\n",
      "t0 == num\n",
      "------------- \n",
      "If equations are solved then the program will have type : t1\n"
     ]
    },
    {
     "data": {
      "text/plain": [
       "\u001b[36mp5\u001b[39m: \u001b[32mTopLevel\u001b[39m = \u001b[33mTopLevel\u001b[39m(\n",
       "  \u001b[33mLetRec\u001b[39m(\n",
       "    \u001b[32m\"f\"\u001b[39m,\n",
       "    \u001b[32m\"z\"\u001b[39m,\n",
       "    \u001b[33mIfThenElse\u001b[39m(\n",
       "      \u001b[33mGeq\u001b[39m(\u001b[33mConst\u001b[39m(\u001b[32m0.0\u001b[39m), \u001b[33mIdent\u001b[39m(\u001b[32m\"z\"\u001b[39m)),\n",
       "      \u001b[33mConst\u001b[39m(\u001b[32m1.0\u001b[39m),\n",
       "      \u001b[33mPlus\u001b[39m(\u001b[33mConst\u001b[39m(\u001b[32m1.0\u001b[39m), \u001b[33mFunCall\u001b[39m(\u001b[33mIdent\u001b[39m(\u001b[32m\"f\"\u001b[39m), \u001b[33mMinus\u001b[39m(\u001b[33mIdent\u001b[39m(\u001b[32m\"z\"\u001b[39m), \u001b[33mConst\u001b[39m(\u001b[32m1.0\u001b[39m))))\n",
       "    ),\n",
       "    \u001b[33mFunCall\u001b[39m(\u001b[33mIdent\u001b[39m(\u001b[32m\"f\"\u001b[39m), \u001b[33mConst\u001b[39m(\u001b[32m10.0\u001b[39m))\n",
       "  )\n",
       ")\n",
       "\u001b[36mtCons5\u001b[39m: \u001b[32mTypeConstraints\u001b[39m = TypeConstraints()"
      ]
     },
     "execution_count": 8,
     "metadata": {},
     "output_type": "execute_result"
    }
   ],
   "source": [
    "/* let rec f = function (z) if (z == 0) then 1 else f(z -1) in f(10) */\n",
    " val p5 = TopLevel(LetRec(\"f\", \"z\", IfThenElse( \n",
    "                         Geq(Const(0), Ident(\"z\")),\n",
    "                         Const(1),\n",
    "                         Plus(Const(1), FunCall(Ident(\"f\"), Minus(Ident(\"z\"), Const(1))))\n",
    "                         ), \n",
    "                  FunCall(Ident(\"f\"), Const(10))\n",
    "         ))\n",
    "val tCons5 = generateAllEquations(p5)"
   ]
  },
  {
   "cell_type": "markdown",
   "metadata": {},
   "source": [
    "# 2. Solving Constaints\n",
    "\n",
    "We saw how to systematically generate constraints. The question is how do we solve them. The algorithm thus far is to keep two parts. (a) substitions and (b) remaining constraints\n",
    "\n",
    "The key data structure is that of a substitution. We will implement a subsition is simply a map from the type variable to a RHS constrait. Let us start by writing some utility functions below "
   ]
  },
  {
   "cell_type": "code",
   "execution_count": 9,
   "metadata": {},
   "outputs": [
    {
     "data": {
      "text/plain": [
       "defined \u001b[32mclass\u001b[39m \u001b[36mSolverError\u001b[39m\n",
       "defined \u001b[32mfunction\u001b[39m \u001b[36mtypeExprContainsVariable\u001b[39m\n",
       "defined \u001b[32mfunction\u001b[39m \u001b[36msubstituteExpr\u001b[39m"
      ]
     },
     "execution_count": 9,
     "metadata": {},
     "output_type": "execute_result"
    }
   ],
   "source": [
    "/* Define a special exception for us to throw */\n",
    "case class SolverError(msg: String) extends Exception\n",
    "\n",
    "/* Write a function that returns true if a type contains a typevariable and false otherwise */\n",
    "def typeExprContainsVariable(tExpr: Type, tVar: TypeVar): Boolean = tExpr match {\n",
    "    case TypeVar(_) => tExpr == tVar // If we have a type variable, check if it is equal to what we are searching.\n",
    "    //For function types, recursively search both parts\n",
    "    case FunType(t1, t2) => (typeExprContainsVariable(t1, tVar) || typeExprContainsVariable(t2, tVar))\n",
    "    // If we encounter anything else, just return false \n",
    "    case _ => false\n",
    "}\n",
    "\n",
    "/* Write a function to apply a substitution to a type tExpr.\n",
    "tExpr is a type eg., (t1 => t2) => num \n",
    "subst is a subsitution eg., t2 |---> (num => num)\n",
    "result will be (t1 => (num => num)) => num \n",
    "\n",
    "Note subst can have multiple type variables on the LHS at the same time.\n",
    "*/\n",
    "\n",
    "def substituteExpr(tExpr: Type, subst: Map[TypeVar, Type]): Type = tExpr match {\n",
    "    /* -- If the type expression tExpr is just a variable, then we simply substitute it as in subst -- */\n",
    "    case TypeVar(j) => if (subst contains (TypeVar(j))) \n",
    "                        subst(TypeVar(j))\n",
    "                       else \n",
    "                        tExpr\n",
    "    /*-- If the type expression is a function t1 => t2, recurse on t1, t2 --*/\n",
    "    case FunType(t1, t2) => FunType( (substituteExpr(t1, subst)), (substituteExpr(t2, subst)) )\n",
    "    /* If not, return tExpr unchanged */\n",
    "    case _ => tExpr\n",
    "}\n"
   ]
  },
  {
   "cell_type": "markdown",
   "metadata": {},
   "source": [
    "Now we come to a basic function that will update an existing substition 'subst' with a new substitution rule that maps tVar to tExpr\n",
    "\n",
    "However, not that tVar may occur in the RHS of expressions in 'subst'. For instance, 'subst' may be\n",
    "```\n",
    "            t1 => (t2 => t3)\n",
    "            t4 => (num => num)\n",
    "```\n",
    "\n",
    "and we wish to add the rule t2 => (num => t3)\n",
    "\n",
    "However, note that t1's rule invovles t2 in it. Therefore, we first substitute in our existing right hand sides to convert the substitution into \n",
    "\n",
    "```\n",
    "            t1 => (num => t3) => t3\n",
    "            t4 => (num => num)            \n",
    "```\n",
    "\n",
    "The final substitution is \n",
    "\n",
    "```\n",
    "            t1 => (num => t3) => t3\n",
    "            t4 => (num => num)\n",
    "            t2 => (num => t3)\n",
    "```\n",
    "\n",
    "The code is simple: we use a foldLeft operator that starts with empty map and runs through each rule in the substitution map. \n",
    "    * it substitutes the RHS 'te' so that the new type variable tVar never appears in the RHS\n",
    "    * it adds the modified substitution rule to the new map being built\n",
    "    * Finally, at the very end, the new substitution rule tVar -> tExpr is also added\n"
   ]
  },
  {
   "cell_type": "code",
   "execution_count": 10,
   "metadata": {},
   "outputs": [
    {
     "data": {
      "text/plain": [
       "defined \u001b[32mfunction\u001b[39m \u001b[36mupdateSubstitutionWithNewRule\u001b[39m"
      ]
     },
     "execution_count": 10,
     "metadata": {},
     "output_type": "execute_result"
    }
   ],
   "source": [
    "def updateSubstitutionWithNewRule(tVar: TypeVar, tExpr: Type, subst: Map[TypeVar, Type] ): Map[TypeVar, Type] = {\n",
    "    assert(! subst.contains(tVar), \"Substitution already contains type variable. This cannot happen - your algorithm may be buggy\")\n",
    "    assert(! typeExprContainsVariable(tExpr, tVar), \"Substitution RHS cannot contain LHS variable\")\n",
    "    val newSubst = subst.foldLeft[Map[TypeVar,Type]] (Map[TypeVar,Type]()) {\n",
    "                          case (m, (t, te)) => { m + (t -> substituteExpr(te, Map(tVar -> tExpr)  )) }\n",
    "                        }\n",
    "    newSubst + (tVar -> tExpr)\n",
    "}\n"
   ]
  },
  {
   "cell_type": "markdown",
   "metadata": {},
   "source": [
    "Now, we describe the main algorithm for processing an equation t1 = t2. It boils down to many cases. \n",
    "\n",
    "The function processEquation processes a single equation t1^ == t2^ witht he current substitution 'subst'. The return value is a new substitution. \n",
    "\n",
    "    1. Substitute t1^, t2^ avvording to the current substitution 'subst'\n",
    "    2. if the resulting types t1 and t2 are the same, then we have nothing more to do\n",
    "    3. Otherwise, we split on many cases, as you will see in the code below\n",
    "        * if they are incompatible types, throw a SolverError exception\n",
    "        If not, if one of the expressions is a type variable , make it into a new substitution rule. \n",
    "        Otherwise, recurisvely unify. \n",
    "        \n",
    "With this, the code should hopefully make more sense now.        "
   ]
  },
  {
   "cell_type": "code",
   "execution_count": 11,
   "metadata": {},
   "outputs": [
    {
     "data": {
      "text/plain": [
       "defined \u001b[32mfunction\u001b[39m \u001b[36misFunctionType\u001b[39m\n",
       "defined \u001b[32mfunction\u001b[39m \u001b[36mprocessEquation\u001b[39m\n",
       "defined \u001b[32mfunction\u001b[39m \u001b[36mprocessAllEquations\u001b[39m"
      ]
     },
     "execution_count": 11,
     "metadata": {},
     "output_type": "execute_result"
    }
   ],
   "source": [
    "\n",
    "def isFunctionType(t: Type) = t match {\n",
    "    case FunType(_,_) => true\n",
    "    case _ => false\n",
    "}\n",
    "\n",
    "/*-- processEquation has as inputs\n",
    " - teq:  an equation\n",
    " - subst: the current set of substitutions\n",
    " Returns\n",
    " new substitution\n",
    " --*/\n",
    "\n",
    "def processEquation(teq: TypeEquation, subst: Map[TypeVar, Type], provenance: String = \"\"): Map[TypeVar, Type] =  {\n",
    "    /* 1. Take the current equation and apply all possible substitutions to the LHS and RHS */\n",
    "    val (t1, t2) = teq match {\n",
    "        case TypeEquation(t1Hat, t2Hat) => ( substituteExpr(t1Hat, subst), substituteExpr(t2Hat, subst))\n",
    "    }\n",
    "    if (t1 == t2) {\n",
    "        subst /* If result are same for LHS and RHS, nothing more to be done. */\n",
    "    } else {\n",
    "       (t1, t2) match {\n",
    "           /* The unification of t1 and t2 begins here */\n",
    "          \n",
    "            case (NumType, BoolType) => {  /* t1, t2 cannot be unified */\n",
    "                throw new SolverError(s\"@ $provenance: Numerical and Boolean types used interchangably\")\n",
    "            }\n",
    "           \n",
    "            \n",
    "            case (BoolType, NumType) => { /* t1, t2 cannot be unified */\n",
    "                throw new SolverError(s\"@ $provenance: Numerical and Boolean types used interchangably\")\n",
    "            }\n",
    "           \n",
    "            \n",
    "            case (NumType, tf) if isFunctionType(tf) => {/* t1, t2 cannot be unified */\n",
    "                 throw new SolverError( s\"@ $provenance: Numerical and Function types used interchangably\")\n",
    "            }\n",
    "           \n",
    "           \n",
    "            case (tf, NumType) if isFunctionType(tf) => { /* t1, t2 cannot be unified */\n",
    "                 throw new SolverError(s\"@ $provenance: Numerical and Function types used interchangably\")\n",
    "            }\n",
    "            case (BoolType, tf) if isFunctionType(tf) => { /* t1, t2 cannot be unified */\n",
    "                 throw new SolverError(s\"@ $provenance: Numerical and Function types used interchangably\")\n",
    "            }\n",
    "            case (tf, BoolType) if isFunctionType(tf) => { /* t1, t2 cannot be unified */\n",
    "                 throw new SolverError(s\"@ $provenance: Numerical and Function types used interchangably\")\n",
    "            }\n",
    "           /*t1 is a type variable */\n",
    "            case (TypeVar(j), _ ) =>{ /* t1 and t2 can be unified, if t2 does not contain the type variable t1 */\n",
    "                if (typeExprContainsVariable(t2, TypeVar(j))){\n",
    "                    throw new SolverError(s\"@ $provenance: Type variable also appears in the RHS of an equation: no solution can exist.\")\n",
    "                }\n",
    "                /* Add a new substitution rule */\n",
    "                updateSubstitutionWithNewRule(TypeVar(j), t2, subst)\n",
    "            } \n",
    "            /* Same as previous case except order reversed */\n",
    "           case (_, TypeVar(j)) => {\n",
    "               assert(t1 != TypeVar(j))\n",
    "               if (typeExprContainsVariable(t1, TypeVar(j))){\n",
    "                    throw new SolverError(s\"@ $provenance: Type variable also appears in the RHS of an equation: no solution can exist.\")\n",
    "                }\n",
    "               updateSubstitutionWithNewRule(TypeVar(j), t1, subst)\n",
    "           }\n",
    "           /* t1 and t2 are both function types */\n",
    "           case (FunType(t1Hat, t2Hat), FunType(t3Hat, t4Hat)) => {\n",
    "               /* Unify the two parts of the function type recursively */\n",
    "               val subst1 = processEquation(TypeEquation(t1Hat, t3Hat), subst, provenance)\n",
    "               val subst2 = processEquation(TypeEquation(t2Hat, t4Hat), subst1, provenance)\n",
    "               subst2\n",
    "           }\n",
    "           \n",
    "           case _ => {\n",
    "               throw new SolverError(s\"@ $provenance:Cannot unify disparate types $t1, $t2\")\n",
    "           }\n",
    "       }\n",
    "    }\n",
    "}\n",
    "\n",
    "\n",
    "def processAllEquations(tCons: TypeConstraints) = {\n",
    "    println(\"Equations: \")\n",
    "    tCons.printAllTypeEquations()\n",
    "    println(\"Solving:\")\n",
    "    val finalSubst = tCons.l.foldLeft[Map[TypeVar, Type]] (Map()) {\n",
    "        case (subst, te1) => processEquation(te1, subst)\n",
    "    }\n",
    "    println(s\"Solution: $finalSubst\")\n",
    "}"
   ]
  },
  {
   "cell_type": "code",
   "execution_count": 12,
   "metadata": {},
   "outputs": [
    {
     "name": "stdout",
     "output_type": "stream",
     "text": [
      "Equations: \n",
      "Solving:\n",
      "Solution: Map()\n"
     ]
    }
   ],
   "source": [
    "processAllEquations(tCons1)"
   ]
  },
  {
   "cell_type": "code",
   "execution_count": 13,
   "metadata": {},
   "outputs": [
    {
     "name": "stdout",
     "output_type": "stream",
     "text": [
      "Equations: \n",
      "bool == num\n",
      "num == t0\n",
      "t0 == num\n",
      "Solving:\n",
      "ERROR: @ : Numerical and Boolean types used interchangably\n"
     ]
    }
   ],
   "source": [
    "try { processAllEquations(tCons2) } catch {case SolverError(msg) => println(s\"ERROR: $msg\")}"
   ]
  },
  {
   "cell_type": "code",
   "execution_count": 14,
   "metadata": {},
   "outputs": [
    {
     "name": "stdout",
     "output_type": "stream",
     "text": [
      "Equations: \n",
      "(t0 => num) == t0\n",
      "t0 == num\n",
      "t0 == num\n",
      "Solving:\n",
      "ERROR: @ : Type variable also appears in the RHS of an equation: no solution can exist.\n"
     ]
    }
   ],
   "source": [
    "try {processAllEquations(tCons3)} catch { case SolverError(msg) => println(s\"ERROR: $msg\")}"
   ]
  },
  {
   "cell_type": "code",
   "execution_count": 15,
   "metadata": {},
   "outputs": [
    {
     "name": "stdout",
     "output_type": "stream",
     "text": [
      "Equations: \n",
      "(t4 => num) == t0\n",
      "t4 == num\n",
      "t4 == num\n",
      "t0 == (t3 => t2)\n",
      "t0 == (t1 => t3)\n",
      "Solving:\n",
      "Solution: Map(t0 -> (num => num), t4 -> num, t1 -> num, t3 -> num, t2 -> num)\n"
     ]
    }
   ],
   "source": [
    "try processAllEquations(tCons4) catch { case e => print(e)}"
   ]
  },
  {
   "cell_type": "markdown",
   "metadata": {},
   "source": [
    "# Type Inference in One Shot\n",
    "\n",
    "Instead of generating and then solving type constraints, why not try to do thins in __one shot__? \n",
    "\n",
    "We can achive this and it is not all that complicated\n",
    "    * Instead of collecting constraints, every time we create an equality, process it using the Simply carry around the ucrrenty substitution as we are solving constraints. "
   ]
  },
  {
   "cell_type": "code",
   "execution_count": 16,
   "metadata": {},
   "outputs": [
    {
     "data": {
      "text/plain": [
       "defined \u001b[32mobject\u001b[39m \u001b[36mTypeVars\u001b[39m\n",
       "defined \u001b[32mfunction\u001b[39m \u001b[36mtypeInferExpression\u001b[39m\n",
       "defined \u001b[32mfunction\u001b[39m \u001b[36mtypeInferProgram\u001b[39m"
      ]
     },
     "execution_count": 16,
     "metadata": {},
     "output_type": "execute_result"
    }
   ],
   "source": [
    "/* -- We need something global in scope for managing fresh type variables. \n",
    "    There are other ways to achieve this but let us suck it up and use the most \n",
    "    convenient way for now.\n",
    "    --*/\n",
    "\n",
    "object TypeVars { \n",
    "    var numTypeVars = 0\n",
    "    def createFreshVar(): TypeVar = {\n",
    "        val t = TypeVar(numTypeVars)\n",
    "        numTypeVars = numTypeVars + 1\n",
    "        return t\n",
    "    }\n",
    "}\n",
    "\n",
    "\n",
    "def typeInferExpression(e: Expr, alpha: Map[String, Type], subst: Map[TypeVar, Type]): (Type, Map[TypeVar, Type]) = {\n",
    "    /* \n",
    "      e is the expression we are processing.\n",
    "      alpha is the current type environment\n",
    "      tCons (MUTABLE) stores the type constraints thus far\n",
    "      \n",
    "      Returns\n",
    "        Nothing (since tCons is mutable)\n",
    "   */\n",
    "    def handleSubExprs(e1: Expr, e2: Expr, operandType: Type, resultType: Type, pWhere: String): (Type, Map[TypeVar, Type]) = {\n",
    "            val (t1, subst1) = typeInferExpression(e1, alpha, subst) \n",
    "            val subst2 = processEquation( TypeEquation(t1, operandType), subst1, pWhere + \"(first argument)\")\n",
    "            val (t2, subst3) = typeInferExpression(e2, alpha, subst2)\n",
    "            val subst4 = processEquation( TypeEquation(t2, operandType), subst3, pWhere + \"(second argument)\")\n",
    "            (resultType, subst4)\n",
    "    }\n",
    "    \n",
    "    \n",
    "    e match {\n",
    "        case Const(_) => (NumType, subst)\n",
    "        case Ident(s) => if (alpha contains s) \n",
    "                            (alpha(s), subst)\n",
    "                         else \n",
    "                            throw new SolverError(s\"Unknown identifier: $s\")\n",
    "        case Minus(e1, e2) => handleSubExprs(e1, e2, NumType, NumType,  \"- must operate on numbers\")\n",
    "         \n",
    "        case Plus(e1, e2) => handleSubExprs(e1, e2, NumType, NumType, \"+ must operate on numbers\")\n",
    "        \n",
    "        case Mult(e1, e2) => handleSubExprs(e1, e2, NumType, NumType, \"* must operate on numbers\")\n",
    "        \n",
    "        case Geq(e1, e2) => handleSubExprs(e1, e2, NumType,  BoolType,  \">= must operate on numbers\")\n",
    "        \n",
    "        case Eq(e1, e2) => {\n",
    "                val (t1, s1) = typeInferExpression(e1, alpha, subst)\n",
    "                val (t2, s2) = typeInferExpression(e2, alpha, s1)\n",
    "                val s3 = processEquation( TypeEquation(t1, t2), s2, \"== arguments must have same type\")\n",
    "                (BoolType, s3)   \n",
    "            }\n",
    "        \n",
    "        \n",
    "        case IfThenElse(e, e1, e2) => { \n",
    "                val (t, s1) = typeInferExpression(e, alpha, subst)    \n",
    "                val s2 =  processEquation( TypeEquation(t, BoolType), s1, \"If Then Else condition must be boolean\") \n",
    "                val (t1, s3) = typeInferExpression(e1, alpha, s2)\n",
    "                val (t2, s4) = typeInferExpression(e2, alpha, s3)\n",
    "                val s5 = processEquation( TypeEquation(t1, t2), s4, \"If Then Else both branches must be the same type\")\n",
    "                (t1, s5)\n",
    "        }\n",
    "        \n",
    "        case Let(x, e1, e2) => {\n",
    "            val (t1, s1) = typeInferExpression(e1, alpha, subst)\n",
    "            val newEnv = alpha + (x -> t1)\n",
    "            typeInferExpression(e2, newEnv, s1)\n",
    "        }\n",
    "        \n",
    "        case FunCall(e1, e2) => {\n",
    "            val (t, s1) = typeInferExpression(e1, alpha, subst)\n",
    "            t match {\n",
    "                case FunType(t1Hat , t2Hat) => {\n",
    "                    val (t1, s2) = typeInferExpression(e2, alpha, s1)\n",
    "                    val s3 = processEquation( TypeEquation(t1, t1Hat), s2, \"Function call argument type mismatch\")\n",
    "                    (t2Hat, s3)\n",
    "                }\n",
    "                case TypeVar(j) => {\n",
    "                    val nVar = TypeVars.createFreshVar() // Create a placeholder for the result type\n",
    "                    println(s\"Type Var: $e has type variable $nVar\")\n",
    "                    val (t1, s1) = typeInferExpression(e2, alpha, subst)\n",
    "                    val t3 = FunType(t1, nVar)\n",
    "                    val s2 = processEquation( TypeEquation(t, t3), s1, \"Function call type mismatch \")\n",
    "                    (nVar, s2)\n",
    "                }\n",
    "                case _ => throw new SolverError(s\"Type inference error: function call on non function type $t\")\n",
    "            }\n",
    "           \n",
    "        }\n",
    "        \n",
    "        case FunDef(x, e1) => {\n",
    "            //1. Create a new variable for the formal argument x\n",
    "            val tx = TypeVars.createFreshVar()\n",
    "            println(s\"Type Var: $x has type variable $tx\")\n",
    "            //2. Add it to the type environment\n",
    "            val newEnv = alpha + (x -> tx)\n",
    "            val (t2, s2) = typeInferExpression(e1, newEnv, subst)\n",
    "            //3. Type of this whole thing is tx => t2\n",
    "            (FunType(tx, t2), s2)\n",
    "        }\n",
    "        \n",
    "        case LetRec(funName, param, funExpr, bodyExpr) => {\n",
    "            //1. Create a new variable for the formal argument x\n",
    "            val tx = TypeVars.createFreshVar()\n",
    "            println(s\"Type Var: $param has type variable $tx\")\n",
    "            val tfun = TypeVars.createFreshVar()\n",
    "            println(s\"Type Var: $funName has type variable $tfun\")\n",
    "            val newEnv = alpha ++ List(param -> tx, funName -> tfun)\n",
    "            val (t2, s2) = typeInferExpression(funExpr, newEnv, subst)\n",
    "            val s3 = processEquation(TypeEquation(FunType(tx, t2), tfun), s2, \"Recursive function is not well typed\")\n",
    "            (tfun, s3)\n",
    "        }\n",
    "    }\n",
    "}\n",
    "\n",
    "def typeInferProgram(p: Program ) = p match {\n",
    "    case TopLevel(e) => {\n",
    "        val subst: Map[TypeVar, Type] = Map()\n",
    "        val emptyEnv: Map[String, Type] = Map()\n",
    "        try {\n",
    "            val (t, sFinal) = typeInferExpression(e, emptyEnv, subst)\n",
    "            println(s\"Type Checked: Program will have type : ${substituteExpr(t, sFinal)}\")\n",
    "        } catch {\n",
    "            case SolverError(msg) => {println(s\"FAILED: $msg\")}\n",
    "        }\n",
    "    }\n",
    "}\n",
    "\n"
   ]
  },
  {
   "cell_type": "code",
   "execution_count": 17,
   "metadata": {},
   "outputs": [
    {
     "name": "stdout",
     "output_type": "stream",
     "text": [
      "Type Checked: Program will have type : num\n"
     ]
    },
    {
     "data": {
      "text/plain": [
       "\u001b[36mx\u001b[39m: \u001b[32mIdent\u001b[39m = \u001b[33mIdent\u001b[39m(\u001b[32m\"x\"\u001b[39m)\n",
       "\u001b[36me1\u001b[39m: \u001b[32mLet\u001b[39m = \u001b[33mLet\u001b[39m(\u001b[32m\"x\"\u001b[39m, \u001b[33mConst\u001b[39m(\u001b[32m15.0\u001b[39m), \u001b[33mPlus\u001b[39m(\u001b[33mIdent\u001b[39m(\u001b[32m\"x\"\u001b[39m), \u001b[33mConst\u001b[39m(\u001b[32m35.0\u001b[39m)))"
      ]
     },
     "execution_count": 17,
     "metadata": {},
     "output_type": "execute_result"
    }
   ],
   "source": [
    "val x = Ident(\"x\")\n",
    "val e1 = Let(\"x\", Const(15), Plus(x, Const(35)))\n",
    "typeInferProgram(TopLevel(e1))"
   ]
  },
  {
   "cell_type": "code",
   "execution_count": 18,
   "metadata": {},
   "outputs": [
    {
     "name": "stdout",
     "output_type": "stream",
     "text": [
      "Type Var: x has type variable t0\n",
      "FAILED: @ + must operate on numbers(first argument): Numerical and Boolean types used interchangably\n"
     ]
    },
    {
     "data": {
      "text/plain": [
       "\u001b[36mf\u001b[39m: \u001b[32mIdent\u001b[39m = \u001b[33mIdent\u001b[39m(\u001b[32m\"f\"\u001b[39m)\n",
       "\u001b[36mx\u001b[39m: \u001b[32mIdent\u001b[39m = \u001b[33mIdent\u001b[39m(\u001b[32m\"x\"\u001b[39m)\n",
       "\u001b[36mfdef\u001b[39m: \u001b[32mFunDef\u001b[39m = \u001b[33mFunDef\u001b[39m(\u001b[32m\"x\"\u001b[39m, \u001b[33mGeq\u001b[39m(\u001b[33mIdent\u001b[39m(\u001b[32m\"x\"\u001b[39m), \u001b[33mConst\u001b[39m(\u001b[32m35.0\u001b[39m)))\n",
       "\u001b[36me2\u001b[39m: \u001b[32mLet\u001b[39m = \u001b[33mLet\u001b[39m(\n",
       "  \u001b[32m\"f\"\u001b[39m,\n",
       "  \u001b[33mFunDef\u001b[39m(\u001b[32m\"x\"\u001b[39m, \u001b[33mGeq\u001b[39m(\u001b[33mIdent\u001b[39m(\u001b[32m\"x\"\u001b[39m), \u001b[33mConst\u001b[39m(\u001b[32m35.0\u001b[39m))),\n",
       "  \u001b[33mPlus\u001b[39m(\u001b[33mFunCall\u001b[39m(\u001b[33mIdent\u001b[39m(\u001b[32m\"f\"\u001b[39m), \u001b[33mConst\u001b[39m(\u001b[32m20.0\u001b[39m)), \u001b[33mConst\u001b[39m(\u001b[32m35.0\u001b[39m))\n",
       ")"
      ]
     },
     "execution_count": 18,
     "metadata": {},
     "output_type": "execute_result"
    }
   ],
   "source": [
    "// let f = function(x) x >= 35 in \n",
    "// .   f(20 ) + 35\n",
    "\n",
    "val f = Ident(\"f\")\n",
    "val x = Ident(\"x\")\n",
    "val fdef = FunDef(\"x\", Geq(x, Const(35)))\n",
    "val e2 = Let(\"f\", fdef, Plus(FunCall(f, Const(20)), Const(35)))\n",
    "typeInferProgram(TopLevel(e2))"
   ]
  },
  {
   "cell_type": "code",
   "execution_count": 19,
   "metadata": {},
   "outputs": [
    {
     "name": "stdout",
     "output_type": "stream",
     "text": [
      "Type Var: x has type variable t1\n",
      "FAILED: @ Function call argument type mismatch: Numerical and Function types used interchangably\n"
     ]
    },
    {
     "data": {
      "text/plain": [
       "\u001b[36mf\u001b[39m: \u001b[32mIdent\u001b[39m = \u001b[33mIdent\u001b[39m(\u001b[32m\"f\"\u001b[39m)\n",
       "\u001b[36mx\u001b[39m: \u001b[32mIdent\u001b[39m = \u001b[33mIdent\u001b[39m(\u001b[32m\"x\"\u001b[39m)\n",
       "\u001b[36mfdef\u001b[39m: \u001b[32mFunDef\u001b[39m = \u001b[33mFunDef\u001b[39m(\u001b[32m\"x\"\u001b[39m, \u001b[33mPlus\u001b[39m(\u001b[33mIdent\u001b[39m(\u001b[32m\"x\"\u001b[39m), \u001b[33mIdent\u001b[39m(\u001b[32m\"x\"\u001b[39m)))\n",
       "\u001b[36me3\u001b[39m: \u001b[32mLet\u001b[39m = \u001b[33mLet\u001b[39m(\n",
       "  \u001b[32m\"f\"\u001b[39m,\n",
       "  \u001b[33mFunDef\u001b[39m(\u001b[32m\"x\"\u001b[39m, \u001b[33mPlus\u001b[39m(\u001b[33mIdent\u001b[39m(\u001b[32m\"x\"\u001b[39m), \u001b[33mIdent\u001b[39m(\u001b[32m\"x\"\u001b[39m))),\n",
       "  \u001b[33mFunCall\u001b[39m(\u001b[33mIdent\u001b[39m(\u001b[32m\"f\"\u001b[39m), \u001b[33mIdent\u001b[39m(\u001b[32m\"f\"\u001b[39m))\n",
       ")"
      ]
     },
     "execution_count": 19,
     "metadata": {},
     "output_type": "execute_result"
    }
   ],
   "source": [
    "/* let f = function (x) x + x in \n",
    "  f (f)\n",
    "*/\n",
    "val f = Ident(\"f\")\n",
    "val x = Ident(\"x\")\n",
    "val fdef = FunDef(\"x\", Plus(x, x))\n",
    "val e3 = Let(\"f\", fdef, FunCall(f, f))\n",
    "typeInferProgram(TopLevel(e3))"
   ]
  },
  {
   "cell_type": "code",
   "execution_count": 20,
   "metadata": {},
   "outputs": [
    {
     "name": "stdout",
     "output_type": "stream",
     "text": [
      "Type Var: g has type variable t2\n",
      "Type Var: x has type variable t3\n",
      "Type Var: FunCall(Ident(g),FunCall(Ident(g),Ident(x))) has type variable t4\n",
      "Type Var: FunCall(Ident(g),Ident(x)) has type variable t5\n",
      "Type Var: y has type variable t6\n",
      "Type Checked: Program will have type : (num => num)\n"
     ]
    },
    {
     "data": {
      "text/plain": [
       "\u001b[36md\u001b[39m: \u001b[32mIdent\u001b[39m = \u001b[33mIdent\u001b[39m(\u001b[32m\"d\"\u001b[39m)\n",
       "\u001b[36my\u001b[39m: \u001b[32mIdent\u001b[39m = \u001b[33mIdent\u001b[39m(\u001b[32m\"y\"\u001b[39m)\n",
       "\u001b[36mg\u001b[39m: \u001b[32mIdent\u001b[39m = \u001b[33mIdent\u001b[39m(\u001b[32m\"g\"\u001b[39m)\n",
       "\u001b[36mx\u001b[39m: \u001b[32mIdent\u001b[39m = \u001b[33mIdent\u001b[39m(\u001b[32m\"x\"\u001b[39m)\n",
       "\u001b[36mf\u001b[39m: \u001b[32mIdent\u001b[39m = \u001b[33mIdent\u001b[39m(\u001b[32m\"f\"\u001b[39m)\n",
       "\u001b[36mfdef1\u001b[39m: \u001b[32mFunDef\u001b[39m = \u001b[33mFunDef\u001b[39m(\u001b[32m\"y\"\u001b[39m, \u001b[33mPlus\u001b[39m(\u001b[33mIdent\u001b[39m(\u001b[32m\"y\"\u001b[39m), \u001b[33mIdent\u001b[39m(\u001b[32m\"y\"\u001b[39m)))\n",
       "\u001b[36me1\u001b[39m: \u001b[32mLet\u001b[39m = \u001b[33mLet\u001b[39m(\n",
       "  \u001b[32m\"d\"\u001b[39m,\n",
       "  \u001b[33mFunDef\u001b[39m(\u001b[32m\"y\"\u001b[39m, \u001b[33mPlus\u001b[39m(\u001b[33mIdent\u001b[39m(\u001b[32m\"y\"\u001b[39m), \u001b[33mIdent\u001b[39m(\u001b[32m\"y\"\u001b[39m))),\n",
       "  \u001b[33mFunCall\u001b[39m(\u001b[33mIdent\u001b[39m(\u001b[32m\"f\"\u001b[39m), \u001b[33mIdent\u001b[39m(\u001b[32m\"d\"\u001b[39m))\n",
       ")\n",
       "\u001b[36mfdef3\u001b[39m: \u001b[32mFunDef\u001b[39m = \u001b[33mFunDef\u001b[39m(\n",
       "  \u001b[32m\"x\"\u001b[39m,\n",
       "  \u001b[33mFunCall\u001b[39m(\u001b[33mIdent\u001b[39m(\u001b[32m\"g\"\u001b[39m), \u001b[33mFunCall\u001b[39m(\u001b[33mIdent\u001b[39m(\u001b[32m\"g\"\u001b[39m), \u001b[33mIdent\u001b[39m(\u001b[32m\"x\"\u001b[39m)))\n",
       ")\n",
       "\u001b[36mfdef2\u001b[39m: \u001b[32mFunDef\u001b[39m = \u001b[33mFunDef\u001b[39m(\n",
       "  \u001b[32m\"g\"\u001b[39m,\n",
       "  \u001b[33mFunDef\u001b[39m(\u001b[32m\"x\"\u001b[39m, \u001b[33mFunCall\u001b[39m(\u001b[33mIdent\u001b[39m(\u001b[32m\"g\"\u001b[39m), \u001b[33mFunCall\u001b[39m(\u001b[33mIdent\u001b[39m(\u001b[32m\"g\"\u001b[39m), \u001b[33mIdent\u001b[39m(\u001b[32m\"x\"\u001b[39m))))\n",
       ")\n",
       "\u001b[36me4\u001b[39m: \u001b[32mLet\u001b[39m = \u001b[33mLet\u001b[39m(\n",
       "  \u001b[32m\"f\"\u001b[39m,\n",
       "  \u001b[33mFunDef\u001b[39m(\u001b[32m\"g\"\u001b[39m, \u001b[33mFunDef\u001b[39m(\u001b[32m\"x\"\u001b[39m, \u001b[33mFunCall\u001b[39m(\u001b[33mIdent\u001b[39m(\u001b[32m\"g\"\u001b[39m), \u001b[33mFunCall\u001b[39m(\u001b[33mIdent\u001b[39m(\u001b[32m\"g\"\u001b[39m), \u001b[33mIdent\u001b[39m(\u001b[32m\"x\"\u001b[39m))))),\n",
       "  \u001b[33mLet\u001b[39m(\n",
       "    \u001b[32m\"d\"\u001b[39m,\n",
       "    \u001b[33mFunDef\u001b[39m(\u001b[32m\"y\"\u001b[39m, \u001b[33mPlus\u001b[39m(\u001b[33mIdent\u001b[39m(\u001b[32m\"y\"\u001b[39m), \u001b[33mIdent\u001b[39m(\u001b[32m\"y\"\u001b[39m))),\n",
       "    \u001b[33mFunCall\u001b[39m(\u001b[33mIdent\u001b[39m(\u001b[32m\"f\"\u001b[39m), \u001b[33mIdent\u001b[39m(\u001b[32m\"d\"\u001b[39m))\n",
       "  )\n",
       ")"
      ]
     },
     "execution_count": 20,
     "metadata": {},
     "output_type": "execute_result"
    }
   ],
   "source": [
    "/* let f = function (g) \n",
    "             function (x) \n",
    "                 g( g( x ) )\n",
    "         in \n",
    "      let d = function (y) y + y in \n",
    "          f (d) */\n",
    "\n",
    "val d = Ident(\"d\")\n",
    "val y = Ident(\"y\")\n",
    "val g = Ident(\"g\")\n",
    "val x = Ident(\"x\")\n",
    "val f = Ident(\"f\")\n",
    "val fdef1 = FunDef(\"y\", Plus(y, y))\n",
    "\n",
    "val e1 = Let(\"d\", fdef1, FunCall(f, d))\n",
    "val fdef3 = FunDef(\"x\", FunCall(g, FunCall(g, x)))\n",
    "val fdef2 = FunDef(\"g\", fdef3)\n",
    "val e4  = Let(\"f\", fdef2, e1)\n",
    "typeInferProgram(TopLevel(e4))"
   ]
  },
  {
   "cell_type": "code",
   "execution_count": 21,
   "metadata": {},
   "outputs": [
    {
     "name": "stdout",
     "output_type": "stream",
     "text": [
      "Type Var: z has type variable t7\n",
      "Type Var: f has type variable t8\n",
      "Type Var: FunCall(Ident(f),Minus(Ident(z),Const(1.0))) has type variable t9\n",
      "Type Checked: Program will have type : (num => num)\n"
     ]
    },
    {
     "data": {
      "text/plain": [
       "\u001b[36mp5\u001b[39m: \u001b[32mTopLevel\u001b[39m = \u001b[33mTopLevel\u001b[39m(\n",
       "  \u001b[33mLetRec\u001b[39m(\n",
       "    \u001b[32m\"f\"\u001b[39m,\n",
       "    \u001b[32m\"z\"\u001b[39m,\n",
       "    \u001b[33mIfThenElse\u001b[39m(\n",
       "      \u001b[33mGeq\u001b[39m(\u001b[33mConst\u001b[39m(\u001b[32m0.0\u001b[39m), \u001b[33mIdent\u001b[39m(\u001b[32m\"z\"\u001b[39m)),\n",
       "      \u001b[33mConst\u001b[39m(\u001b[32m1.0\u001b[39m),\n",
       "      \u001b[33mPlus\u001b[39m(\u001b[33mConst\u001b[39m(\u001b[32m1.0\u001b[39m), \u001b[33mFunCall\u001b[39m(\u001b[33mIdent\u001b[39m(\u001b[32m\"f\"\u001b[39m), \u001b[33mMinus\u001b[39m(\u001b[33mIdent\u001b[39m(\u001b[32m\"z\"\u001b[39m), \u001b[33mConst\u001b[39m(\u001b[32m1.0\u001b[39m))))\n",
       "    ),\n",
       "    \u001b[33mFunCall\u001b[39m(\u001b[33mIdent\u001b[39m(\u001b[32m\"f\"\u001b[39m), \u001b[33mConst\u001b[39m(\u001b[32m10.0\u001b[39m))\n",
       "  )\n",
       ")"
      ]
     },
     "execution_count": 21,
     "metadata": {},
     "output_type": "execute_result"
    }
   ],
   "source": [
    "/* let rec f = function (z) if (z <= 0) then 1 else f(z -1) in f(10) */\n",
    " val p5 = TopLevel(LetRec(\"f\", \"z\", IfThenElse( \n",
    "                         Geq(Const(0), Ident(\"z\")),\n",
    "                         Const(1),\n",
    "                         Plus(Const(1), FunCall(Ident(\"f\"), Minus(Ident(\"z\"), Const(1))))\n",
    "                         ), \n",
    "                  FunCall(Ident(\"f\"), Const(10))\n",
    "         ))\n",
    "typeInferProgram(p5)"
   ]
  },
  {
   "cell_type": "code",
   "execution_count": null,
   "metadata": {
    "collapsed": true
   },
   "outputs": [],
   "source": []
  }
 ],
 "metadata": {
  "kernelspec": {
   "display_name": "Scala",
   "language": "scala",
   "name": "scala"
  },
  "language_info": {
   "codemirror_mode": "text/x-scala",
   "file_extension": ".scala",
   "mimetype": "text/x-scala",
   "name": "scala",
   "nbconvert_exporter": "script",
   "version": "2.12.10"
  }
 },
 "nbformat": 4,
 "nbformat_minor": 2
}
