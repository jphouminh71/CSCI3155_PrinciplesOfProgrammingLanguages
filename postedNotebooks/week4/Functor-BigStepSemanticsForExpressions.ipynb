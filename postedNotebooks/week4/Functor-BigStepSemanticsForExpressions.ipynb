{
 "cells": [
  {
   "cell_type": "markdown",
   "metadata": {},
   "source": [
    "## Map Reductions and Functors\n",
    "1. Map \n",
    "2. Filter \n",
    "3. Fold or Reduce\n",
    "\n",
    "Functional programming style get rid of looks and replaces it with tail recursive functions taht express the logic in a simple fashion, without carrying extra state. \n",
    "\n",
    "Another mechanism that we will study now is that 'functors' such as 'map', 'filter', 'fold'. These functors allow us to manipulate Lists of objects. But they also apply to other data structures in scala such as Maps. \n",
    "\n",
    "Before we being with functors we first study different ways to write functions in scala, including a convenient notation for anonymous functions. \n",
    "\n",
    "we start by creating a function to multiply every element of a list by two. "
   ]
  },
  {
   "cell_type": "code",
   "execution_count": 8,
   "metadata": {},
   "outputs": [
    {
     "data": {
      "text/plain": [
       "defined \u001b[32mfunction\u001b[39m \u001b[36mmultiplyEachEltByTwo\u001b[39m"
      ]
     },
     "execution_count": 8,
     "metadata": {},
     "output_type": "execute_result"
    }
   ],
   "source": [
    "def multiplyEachEltByTwo(lst: List[Int], accList: List[Int] = Nil): List[Int] = lst match{\n",
    "    case Nil => accList\n",
    "    case hd::tail =>{\n",
    "        val newAccList = accList ++ List(2 * hd)\n",
    "        multiplyEachEltByTwo(tail, newAccList)\n",
    "    }\n",
    "}"
   ]
  },
  {
   "cell_type": "markdown",
   "metadata": {},
   "source": [
    "Next, we would like to remove all of the even elements from a list, returning a new list with just the odd elements "
   ]
  },
  {
   "cell_type": "code",
   "execution_count": 9,
   "metadata": {},
   "outputs": [
    {
     "data": {
      "text/plain": [
       "defined \u001b[32mfunction\u001b[39m \u001b[36mremoveEvenNumbers\u001b[39m"
      ]
     },
     "execution_count": 9,
     "metadata": {},
     "output_type": "execute_result"
    }
   ],
   "source": [
    "def removeEvenNumbers(lst:List[Int], accList: List[Int] = Nil): List[Int] = lst match{\n",
    "    case Nil => accList\n",
    "    case hd::tail =>{\n",
    "        val newAccList = {\n",
    "            // if the number is even then don't append\n",
    "            if (hd %2 == 0) { \n",
    "                    accList \n",
    "            } \n",
    "            // otherwise, the number is odd and append it \n",
    "            else { \n",
    "                accList ++ List(hd) \n",
    "            }\n",
    "        }\n",
    "        removeEvenNumbers(tail, newAccList)\n",
    "    }\n",
    "}"
   ]
  },
  {
   "cell_type": "markdown",
   "metadata": {},
   "source": [
    "Finally, we wish to sum all the elements in the list together"
   ]
  },
  {
   "cell_type": "code",
   "execution_count": 10,
   "metadata": {},
   "outputs": [
    {
     "data": {
      "text/plain": [
       "defined \u001b[32mfunction\u001b[39m \u001b[36msumElements\u001b[39m"
      ]
     },
     "execution_count": 10,
     "metadata": {},
     "output_type": "execute_result"
    }
   ],
   "source": [
    "def sumElements(lst: List[Int], acc: Int = 0): Int = lst match{\n",
    "    case Nil => {acc}\n",
    "    case hd::tail => {\n",
    "        sumElements(tail, acc + hd)\n",
    "    }\n",
    "}"
   ]
  },
  {
   "cell_type": "markdown",
   "metadata": {},
   "source": [
    "Finally we write out main function"
   ]
  },
  {
   "cell_type": "code",
   "execution_count": 11,
   "metadata": {},
   "outputs": [
    {
     "data": {
      "text/plain": [
       "defined \u001b[32mfunction\u001b[39m \u001b[36mprocessList\u001b[39m"
      ]
     },
     "execution_count": 11,
     "metadata": {},
     "output_type": "execute_result"
    }
   ],
   "source": [
    "def processList(lst: List[Int]): Int = {\n",
    "    // Multiply by two \n",
    "    val lst1 = removeEvenNumbers(lst)\n",
    "    val lst2 = multiplyEachEltByTwo(lst1)\n",
    "    val lst3 = sumElements(lst2)\n",
    "    lst3\n",
    "}"
   ]
  },
  {
   "cell_type": "code",
   "execution_count": 12,
   "metadata": {},
   "outputs": [
    {
     "data": {
      "text/plain": [
       "\u001b[36mres11_0\u001b[39m: \u001b[32mList\u001b[39m[\u001b[32mInt\u001b[39m] = \u001b[33mList\u001b[39m(\u001b[32m1\u001b[39m, \u001b[32m3\u001b[39m, \u001b[32m5\u001b[39m, \u001b[32m7\u001b[39m)\n",
       "\u001b[36mres11_1\u001b[39m: \u001b[32mList\u001b[39m[\u001b[32mInt\u001b[39m] = \u001b[33mList\u001b[39m(\u001b[32m2\u001b[39m, \u001b[32m4\u001b[39m, \u001b[32m6\u001b[39m, \u001b[32m8\u001b[39m)\n",
       "\u001b[36mres11_2\u001b[39m: \u001b[32mInt\u001b[39m = \u001b[32m5050\u001b[39m\n",
       "\u001b[36mres11_3\u001b[39m: \u001b[32mInt\u001b[39m = \u001b[32m200\u001b[39m"
      ]
     },
     "execution_count": 12,
     "metadata": {},
     "output_type": "execute_result"
    }
   ],
   "source": [
    "removeEvenNumbers(List(1,3,4,5,6,7,8))\n",
    "multiplyEachEltByTwo(List(1,2,3,4))\n",
    "sumElements ((1 to 100).toList)\n",
    "processList((1 to 20).toList)"
   ]
  },
  {
   "cell_type": "markdown",
   "metadata": {},
   "source": [
    "This is somewhat paintful since we need to write three separate functions to do the job. We can use three patterns of operations that would do these operations for us \n",
    "\n",
    "    *Map: apply a function f to every element of the list \n",
    "    *Filter: keep just those elements of the list that satisfy a \"predicate\n",
    "    *Fold (or reduce): perform an accumulaiteve operation at every element of the list. \n",
    "    \n",
    "    \n",
    "Before we actually look closer at these operations, we need to first familiarize ourselves with anonymous functions in scala. Often it is cumbersome to defnie functions by name where we would like to pass a function. Therefore, we will use \"anonymous\" functions. "
   ]
  },
  {
   "cell_type": "code",
   "execution_count": 13,
   "metadata": {},
   "outputs": [
    {
     "data": {
      "text/plain": [
       "defined \u001b[32mfunction\u001b[39m \u001b[36mmultiplyByTwo\u001b[39m\n",
       "\u001b[36mf\u001b[39m: \u001b[32mInt\u001b[39m => \u001b[32mInt\u001b[39m = ammonite.$sess.cmd12$Helper$$Lambda$2677/638834505@71238739"
      ]
     },
     "execution_count": 13,
     "metadata": {},
     "output_type": "execute_result"
    }
   ],
   "source": [
    "// the usual way to write a function \n",
    "def multiplyByTwo(x:Int): Int = { x * 2 }\n",
    "\n",
    "// writing this same function using anonymous \n",
    "val f: Int => Int = (x) => x * 2"
   ]
  },
  {
   "cell_type": "markdown",
   "metadata": {},
   "source": [
    "f is bound to a function that takes an argument 'x' and returns 'x*2'. You can pass the expression (x) => x * 2 in any context you wish without giving it a name as we will see. Here is another version of it "
   ]
  },
  {
   "cell_type": "code",
   "execution_count": 14,
   "metadata": {},
   "outputs": [
    {
     "data": {
      "text/plain": [
       "\u001b[36mf2\u001b[39m: \u001b[32mInt\u001b[39m => \u001b[32mInt\u001b[39m = ammonite.$sess.cmd13$Helper$$Lambda$2687/1219635613@1c0fa102"
      ]
     },
     "execution_count": 14,
     "metadata": {},
     "output_type": "execute_result"
    }
   ],
   "source": [
    "// the difference in this function is that you didn't name \n",
    "// the data, it becomes difficult to understand when you have\n",
    "// many variables \n",
    "val f2: Int => Int = _ * 2"
   ]
  },
  {
   "cell_type": "code",
   "execution_count": 15,
   "metadata": {},
   "outputs": [
    {
     "data": {
      "text/plain": [
       "\u001b[36mg\u001b[39m: \u001b[32mString\u001b[39m => \u001b[32mString\u001b[39m = ammonite.$sess.cmd14$Helper$$Lambda$2694/199568182@1344b9d1"
      ]
     },
     "execution_count": 15,
     "metadata": {},
     "output_type": "execute_result"
    }
   ],
   "source": [
    "val g = (x: String) => x + x // scala uses inference here"
   ]
  },
  {
   "cell_type": "code",
   "execution_count": 16,
   "metadata": {},
   "outputs": [
    {
     "data": {
      "text/plain": [
       "\u001b[36mg\u001b[39m: \u001b[32mString\u001b[39m => \u001b[32mString\u001b[39m = ammonite.$sess.cmd15$Helper$$Lambda$2701/210322207@4974075a\n",
       "\u001b[36ms\u001b[39m: \u001b[32mString\u001b[39m = \u001b[32m\"hello\"\u001b[39m\n",
       "\u001b[36mres15_2\u001b[39m: \u001b[32mString\u001b[39m = \u001b[32m\"hellohello\"\u001b[39m"
      ]
     },
     "execution_count": 16,
     "metadata": {},
     "output_type": "execute_result"
    }
   ],
   "source": [
    "val g: String => String = (x) => x + x\n",
    "val s = \"hello\"\n",
    "g(s)"
   ]
  },
  {
   "cell_type": "code",
   "execution_count": 16,
   "metadata": {},
   "outputs": [
    {
     "name": "stderr",
     "output_type": "stream",
     "text": [
      "cmd16.sc:1: missing parameter type\n",
      "val badAnon = x => x + x\n",
      "              ^Compilation Failed"
     ]
    },
    {
     "ename": "",
     "evalue": "",
     "output_type": "error",
     "traceback": [
      "Compilation Failed"
     ]
    }
   ],
   "source": [
    "// THIS IS HOW YOU DONT WRITE AN ANONYMOUS FUNCTION \n",
    "val badAnon = x => x + x"
   ]
  },
  {
   "cell_type": "markdown",
   "metadata": {},
   "source": [
    "    Anonymous functions can take multiple parameters\n",
    "    "
   ]
  },
  {
   "cell_type": "code",
   "execution_count": null,
   "metadata": {
    "collapsed": true
   },
   "outputs": [],
   "source": [
    "val addFun = (x:Int, y:Int) => x + y"
   ]
  },
  {
   "cell_type": "code",
   "execution_count": null,
   "metadata": {
    "collapsed": true
   },
   "outputs": [],
   "source": [
    "// unpacking a tuple \n",
    "val addTuple = (x:(Int,Int)) => x._1 + x._2"
   ]
  },
  {
   "cell_type": "markdown",
   "metadata": {},
   "source": [
    "Last but not least is case pattern matching setup, you can define an anonymous function without the match statement. "
   ]
  },
  {
   "cell_type": "code",
   "execution_count": null,
   "metadata": {
    "collapsed": true
   },
   "outputs": [],
   "source": [
    "sealed trait MyList\n",
    "case object MyNil extends MyList\n",
    "case class MyCons(x:Int, l: MyList) extends MyList"
   ]
  },
  {
   "cell_type": "code",
   "execution_count": null,
   "metadata": {
    "collapsed": true
   },
   "outputs": [],
   "source": [
    "val anonIsEmptyFun = (x:MyList) => {\n",
    "    x match {\n",
    "        case MyNil => true\n",
    "        case MyCons(_,_) => false\n",
    "    }\n",
    "}\n",
    "\n",
    "// this is probably the way you are going to write this, \n",
    "// notice how the scala infers the return type. \n",
    "\n",
    "val anonIsEmptyFunc: MyList => Boolean = {\n",
    "    case MyNil => true\n",
    "    case MyCons(_,_) => false\n",
    "}"
   ]
  },
  {
   "cell_type": "markdown",
   "metadata": {},
   "source": [
    "## Map, Filter and Fold (Reduce) Operations\n",
    "\n",
    "In many langauges, the use of the for-loops / while loops to iterate is repalced by operations on data structures such as map, filter, fold. In this lecture, we provide a breif overview with some examples. We show how many varieties of loops or equivalent revursion. can be systematically replaced by these operations\n",
    "\n",
    "## Map Operation\n",
    "\n",
    "The idea of a map operation is to apply a fcuntion f to every member of a container (eg,. List, Array, Map ) and return a new contianer\n",
    "\n",
    "### Example 1\n",
    "We have a list List(1,3,4,5,6,110,12,2). We wish to compute the sqaure of each element in the list and make a new list with the result"
   ]
  },
  {
   "cell_type": "code",
   "execution_count": null,
   "metadata": {
    "collapsed": true
   },
   "outputs": [],
   "source": [
    "def squareEachElt(lst: List[Int]): List[Int] = lst.map((x:Int) => x*x)"
   ]
  },
  {
   "cell_type": "markdown",
   "metadata": {},
   "source": [
    "lst.map(f) says that apply the function f on each element of the list f. \n",
    "First of all, the elements of the lists must be of the same type A. Next, the function f must be of the same type A => B\n",
    "\n",
    "Last but not least, lst.map(f) applies f to EVERY eleemnt int eh list and retunrs a new list of type B. \n",
    "Here is the recurisve defintion of this function. Can you make it tail recurisve? "
   ]
  },
  {
   "cell_type": "code",
   "execution_count": null,
   "metadata": {
    "collapsed": true,
    "scrolled": true
   },
   "outputs": [],
   "source": [
    "import scala.annotation.tailrec\n",
    "\n",
    "def listMap[A,B](lst: List[A], fun: A => B): List[B] = lst match {\n",
    "    case Nil => Nil\n",
    "    case hd :: tail => fun(hd) :: listMap(tail, fun)  // :: is the Cons operator in scala.\n",
    "}\n",
    "\n",
    "@tailrec\n",
    "def listMapTail[A,B](lst: List[A], fun: A=>B, acc:List[B] = Nil): List[B]= lst match{\n",
    "    case Nil => {acc}\n",
    "    case hd::tail => {\n",
    "        val item = fun(hd)\n",
    "        val next = item :: acc\n",
    "        listMapTail(tail,fun,next)\n",
    "    }\n",
    "}"
   ]
  },
  {
   "cell_type": "code",
   "execution_count": null,
   "metadata": {
    "collapsed": true
   },
   "outputs": [],
   "source": [
    "def sayHelloTo(lst: List[String]):List[String] = {\n",
    "    lst.map(x => \"hello \" + x)\n",
    "}\n",
    "sayHelloTo(List(\"Cat\", \"Dog\", \"World\"))"
   ]
  },
  {
   "cell_type": "markdown",
   "metadata": {},
   "source": [
    "# Filter Operation\n",
    "\n",
    "just like we haved used map to apply a function to each element and make a new container, we use 'filter' to remove all elements that do not satisy a predicate\n",
    "\n",
    "Predicate: a preducate is a function that takes in a vlaue and returns true or false \n",
    "\n",
    "lst.filter(c) filters all those elements that do not satisfy the condition c from the list lst"
   ]
  },
  {
   "cell_type": "code",
   "execution_count": null,
   "metadata": {
    "collapsed": true
   },
   "outputs": [],
   "source": [
    "// it doesn't neccessarily remove the elements that dont belong\n",
    "// but it takes all the elements that DO belong and puts them in the return list\n",
    "def retainAllMultiplesOfThree(lst: List[Int], acc: List[Int] = Nil): List[Int] = lst match{\n",
    "    case Nil => acc \n",
    "    case hd :: tail => {\n",
    "        val newAcc = {\n",
    "            if ( hd % 3 == 0 ){\n",
    "                acc ++ List(hd)\n",
    "            }else{\n",
    "                acc\n",
    "            }\n",
    "        }\n",
    "        retainAllMultiplesOfThree(tail, acc)\n",
    "    }\n",
    "}\n",
    "\n",
    "// doing the same function but just writing it with a filter\n",
    "\n",
    "def retainAllMultiplesofThree(l:List[Int]): List[Int] = {\n",
    "    // returns a new list that satisy the condition\n",
    "    l.filter(x = > x % 3 == 0)\n",
    "}"
   ]
  },
  {
   "cell_type": "markdown",
   "metadata": {},
   "source": [
    "# Fold Operations\n",
    "Fold / Reduce operations are usfeul to gather all data thus far during computations. Take a list \n",
    "\n",
    "  l1, l2, ... ln \n",
    " \n",
    "We wish to sum up the numbers in the list. This is achieved in a loop with accumulator. \n",
    "\n",
    "  acc = 0 \n",
    "  for each item in lst\n",
    "      acc = acc + item \n",
    "  return acc \n",
    "  \n",
    "we can also do this same operation via fold left operator\n",
    "As an example consider the sum of the elements of the list above"
   ]
  },
  {
   "cell_type": "code",
   "execution_count": null,
   "metadata": {
    "collapsed": true
   },
   "outputs": [],
   "source": [
    "def recSumOfList(lst: List[Int], acc: Int = 0 ): Int = lst match{\n",
    "    case Nil => acc\n",
    "    case hd :: tail => {\n",
    "        val newAcc = acc + hd\n",
    "        recSumOfList(tail, newAcc)\n",
    "    } \n",
    "}"
   ]
  },
  {
   "cell_type": "markdown",
   "metadata": {},
   "source": [
    "fold is a tricky operation to wrap one's head around. A list data structure gives us two versions of fold\n",
    "\n",
    "\n",
    "## list.foldLeft (startVal)(function) \n",
    "For list (l1,l2,l3 .., ln) the function call computes the following unrolled function: \n",
    "\n",
    "fun(...fun(fun(fun(startVal,l1), l2), l3) ...., ln) \n",
    "\n",
    "This is equivalent to the following scala code: \n",
    "\n",
    "var acc = startVal\n",
    "for (lj <- list)  \n",
    "    acc = fun(acc, lj) // very important: acc is the first argument f\n",
    "                          or left\n",
    "                          \n",
    "## list.foldRight (startVal) (function)       \n",
    "This iterates the list from right to left. To wit, \n",
    "\n",
    "list[l1, l2, l3, ... , ln] the function call will compute the folling unrolled function\n",
    "    \n",
    "    fun(l1, fun(....,fun(ln -2, fun(ln -1, fun(ln, startVal)))\n",
    "    \n",
    "This is equivalent to the following scala code: \n",
    "\n",
    "var acc = startVal \n",
    "for (lj <- list.reverse) // note that it is traversing the list in reverse\n",
    "\n",
    "    acc = fun(lj, acc)   // very important:  acc is the second argument f or right fold\n",
    "    \n",
    "    \n",
    "This fold function has two arguments: startVal and fun. Why don't we write: \n",
    "list.foldLeft(startVal, fun)? This is a special syntax for writing functions with multiple arguments called __curried syntax__\n"
   ]
  },
  {
   "cell_type": "code",
   "execution_count": null,
   "metadata": {
    "collapsed": true
   },
   "outputs": [],
   "source": [
    "// FOLD LEFT\n",
    "def sumList(lst: List[Int]): Int = lst.foldLeft(0)((acc,x) => acc + x)\n",
    "// fold left with the intial value of the acc = 0 \n",
    "// Every time we have a new list element x and accumulator value acc\n",
    "// update acc by x\n",
    "sumList(List(1, 2, 3,4, 5, 6, 7, 8, 9, 10))"
   ]
  },
  {
   "cell_type": "code",
   "execution_count": null,
   "metadata": {
    "collapsed": true
   },
   "outputs": [],
   "source": [
    "// FOLD RIGHT\n",
    "def sumList2(lst: List[Int]): Int = lst.foldRight(0)((acc,x) => acc + x)\n",
    "sumList2(List(1, 2, 3,4, 5, 6, 7, 8, 9, 10))"
   ]
  },
  {
   "cell_type": "markdown",
   "metadata": {},
   "source": [
    "Now we are going to right a function reverseList"
   ]
  },
  {
   "cell_type": "code",
   "execution_count": null,
   "metadata": {
    "collapsed": true
   },
   "outputs": [],
   "source": [
    "def reverseList(l: List[Int]): List[Int] = \n",
    "l.foldLeft (Nil)  ( (listSoFar: List[Int], elt: Int) => {\n",
    "    elt::listSoFar\n",
    "} )"
   ]
  },
  {
   "cell_type": "markdown",
   "metadata": {},
   "source": [
    "What just happend? Scala's type checker bailed on us. \n",
    "\n",
    "    * Nil is the empty list type: List[String], List[Int], List[Double] etc\n",
    "    * The type checker is simply not sophiscated enough to figure out that the type of the\n",
    "    accumulator in foldLeft here must be a list of Int\n",
    "    \n",
    "there are two fixes"
   ]
  },
  {
   "cell_type": "code",
   "execution_count": null,
   "metadata": {
    "collapsed": true
   },
   "outputs": [],
   "source": [
    "// instead of having first instance of Nil, we make it an empty list? \n",
    "def reverseListA(l: List[Int]): List[Int] = \n",
    "   l.foldLeft  ( List[Int]() ) ( (listSoFar: List[Int], elt: Int) => {\n",
    "    elt::listSoFar\n",
    "} )"
   ]
  },
  {
   "cell_type": "code",
   "execution_count": null,
   "metadata": {
    "collapsed": true
   },
   "outputs": [],
   "source": [
    "// defining the return type explicity?\n",
    "def reverseListB(l: List[Int]): List[Int] = \n",
    " l.foldLeft[List[Int]]  ( Nil ) ( (listSoFar: List[Int], elt: Int) => {\n",
    "    elt::listSoFar\n",
    "} )"
   ]
  },
  {
   "cell_type": "markdown",
   "metadata": {},
   "source": [
    "In general it is always nice to have the type of the accumulator specified in fold left. Last but not least, not the anonmous function in fold can be written in case pattern form "
   ]
  },
  {
   "cell_type": "code",
   "execution_count": null,
   "metadata": {
    "collapsed": true
   },
   "outputs": [],
   "source": [
    "def reverseListC(l: List[Int]): List[Int] = l.foldLeft[List[Int]] (Nil){\n",
    "    case (listSoFar: List[Int], elt: Int) => elt::listSoFar\n",
    "}"
   ]
  },
  {
   "cell_type": "code",
   "execution_count": null,
   "metadata": {
    "collapsed": true
   },
   "outputs": [],
   "source": [
    "reverseListA(List(1,2,3,4))"
   ]
  },
  {
   "cell_type": "markdown",
   "metadata": {},
   "source": [
    "# Big Step Semantics For Expressions\n",
    "We have so far looked at the first eval functino for Expr that denote arithmetic expressions. \n",
    "\n",
    "Recall their grammar from the previous lectures. We have simplfied the grammer slightly: plus, minus and multipaltion operate over just two expressions at a time. \n",
    "\n",
    "$$\\begin{array}{rcll}\n",
    "\\textbf{Expr} & \\rightarrow & Const(\\textbf{Double}) \\\\\n",
    "& |  & Ident(\\textbf{Identifier}) \\\\\n",
    "& | & Plus( \\textbf{Expr}, \\textbf{Expr})  \\\\\n",
    "& | & Minus( \\textbf{Expr}, \\textbf{Expr}) \\\\\n",
    "& | & Mult(\\textbf{Expr}, \\textbf{Expr}) \\\\\n",
    "& | & Div(\\textbf{Expr}, \\textbf{Expr}) \\\\\n",
    "& | & Log(\\textbf{Expr}) \\\\\n",
    "& | & Exp(\\textbf{Expr}) \\\\\n",
    "& | & Sine(\\textbf{Expr}) \\\\\n",
    "& | & Cosine(\\textbf{Expr}) \\\\\\\\\n",
    "\\textbf{Double} & \\rightarrow & \\text{all double precision numbers in Scala}\\\\\n",
    "\\textbf{Identifier} & \\rightarrow & [a-zA-Z][a-z\\ A-Z\\ 0-9\\ \\_]* & \\text{Note: All strings that begin with letters}\\\\\n",
    "&&& \\text{a-z or A-Z and subsequently can contain a-z, A-Z, 0-9 or _ chars}\n",
    "\\end{array}$$\n",
    "\n",
    "Next we provided a translation of the very same grammar into abstract syntax definitons"
   ]
  },
  {
   "cell_type": "code",
   "execution_count": 17,
   "metadata": {},
   "outputs": [
    {
     "data": {
      "text/plain": [
       "defined \u001b[32mtrait\u001b[39m \u001b[36mExpr\u001b[39m\n",
       "defined \u001b[32mclass\u001b[39m \u001b[36mConst\u001b[39m\n",
       "defined \u001b[32mclass\u001b[39m \u001b[36mIdent\u001b[39m\n",
       "defined \u001b[32mclass\u001b[39m \u001b[36mPlus\u001b[39m\n",
       "defined \u001b[32mclass\u001b[39m \u001b[36mMinus\u001b[39m\n",
       "defined \u001b[32mclass\u001b[39m \u001b[36mMult\u001b[39m\n",
       "defined \u001b[32mclass\u001b[39m \u001b[36mDiv\u001b[39m\n",
       "defined \u001b[32mclass\u001b[39m \u001b[36mLog\u001b[39m\n",
       "defined \u001b[32mclass\u001b[39m \u001b[36mExp\u001b[39m\n",
       "defined \u001b[32mclass\u001b[39m \u001b[36mSine\u001b[39m\n",
       "defined \u001b[32mclass\u001b[39m \u001b[36mCosine\u001b[39m"
      ]
     },
     "execution_count": 17,
     "metadata": {},
     "output_type": "execute_result"
    }
   ],
   "source": [
    "sealed trait Expr\n",
    "case class Const(f: Double) extends Expr \n",
    "case class Ident(s: String) extends Expr\n",
    "case class Plus( e1: Expr, e2: Expr ) extends Expr\n",
    "case class Minus(e1: Expr, e2: Expr) extends Expr\n",
    "case class Mult(e1: Expr, e2: Expr ) extends Expr\n",
    "case class Div(e1: Expr, e2: Expr) extends Expr\n",
    "case class Log(e: Expr) extends Expr\n",
    "case class Exp(e: Expr) extends Expr\n",
    "case class Sine(e: Expr) extends Expr\n",
    "case class Cosine(e: Expr) extends Expr"
   ]
  },
  {
   "cell_type": "markdown",
   "metadata": {},
   "source": [
    "we wrote a simple intuitive function evalExpr but how do we talk about what it does? A simple answer is that the code acna be read by anyone who knows Scala and therefore can serve to document the meaning of expressions in terms of what they do. This is surely a path to disaster for more complicated languages. It is important therefore to use some kind of notation to explain how to understand the behavior of the evalExpr function at a high level and in a language independent fashion. \n",
    "\n",
    "We will use 'Big Step' semantics to notate this process and see how the code we have written so far is simply a translation of the big step semantics into code \n",
    "\n",
    "\n",
    "## Big Step Semantics\n",
    "\n",
    "Let us explain at a high level how expression log(1.0 + 2.0 * y) \n",
    "Log(Plus(Cons(1.0), Mult(Cons(2.0), Ident(\"y\"))))\n",
    "\n",
    "under an environement that assignes y to 1.2 gets evaluate to a value\n",
    "1.222.....so on \n",
    "\n",
    "Without worrying about the order in which things happen, let us act as if we ourselves are working this out. \n",
    "\n",
    "    * Ident(\"y\") gets evaluated to 1.2\n",
    "    * Cons(2.0) gets evaluated to 2.0\n",
    "    * Mult(Cons(2.0), Ident(\"y\")) can now be evaulated to get 2.0 * 1.2 = 2.4 since each of its children have been evaulated \n",
    "    * Cons(1.0) gets evaluated to 1.0\n",
    "    * Plus(Const(1.0, Mult(Cons(2.0), Ident(\"y\"))) can be evaulated to 1.0 + 25. thus 3.4\n",
    "    * Log(...) evaulates to log(3.4) = 1.22....etc\n",
    "What are some of the things taht we notice in this process? \n",
    "    * Every rule takes an expression and tells us what it evaluates to\n",
    "    * The environemnt mapping variables to values is an input to this process and remains unchanged throughout. \n",
    "    * The result of every evaulation is a double precision number\n",
    "    * Simple leaf expressions like Cons(f) and Identifier(y) are evaulated directly to the double precision numbers either as the number f or whatever value the identifier y is mapped to in the given environment\n",
    "    * For any other expression using constructors Plus, Minus, Div, ... if the children \n",
    "    evaulate to a double precision number, then the expressoin itself is ready to be evaluated by applying the appropriate arithmetic operator on the values of its children\n",
    "    \n",
    "These observations are tedious to write down in english. We can provide a more succinct way to write down using a notation: $\\mathbf{eval}(\\texttt{e}, \\sigma) = d$. It is a way of succinctly saying the \"under the environment SIGMA, the expression 'e' evaulate to the value 'd'\n",
    "\n",
    "\n",
    "### Examples\n",
    "    - $ \\eval(\\texttt{Ident(\"y\")}, \\{y \\mapsto 1.0 \\})\\ = 1.0 $\n",
    "    - $ \\eval(\\texttt{Mult(Const(1.2), Const(1.2))}, \\{ y \\mapsto 1.0 \\} ) = 1.44 $.\n",
    "    - $ \\eval(\\texttt{Plus(Const(1.0) , Mult(Const(2.0), Ident(\"y\")))}, \\{y \\mapsto 1.0         \\})= 3.4 $\n"
   ]
  },
  {
   "cell_type": "markdown",
   "metadata": {},
   "source": [
    "## Inference Rules\n",
    "\n",
    "The value in this entire process is not realizing individual instacnes such as \n",
    "\n",
    "$$ \\eval\\left(\\texttt{Log(Plus(Const(1.0) , Mult(Const(2.0), Ident(\"y\")))}, \\{y \\mapsto 1.0 \\} \\right) = 1.223775.. $$\n",
    "\n",
    "__But in specifying how one systematically arrives at the result. If that is understood, then writing an interpretter is a cinch. Also, the rules will specify for exactly how we will go about this process.__\n",
    "\n",
    "Inference rules are always written like this \n",
    "\n",
    "$$\\begin{array}{c}\n",
    "\\text{premises that must hold} \\\\\n",
    "\\hline\n",
    "\\text{conclusions that can be drawn} \\\\\n",
    "\\end{array}$$\n",
    "\n",
    "It must be read __assuming that premises must hold, then the conlusions must hold__\n",
    "\n",
    "As an example, let us see a rule for log: \n",
    "\n",
    "$$\\begin{array}{c}\n",
    "\\eval(\\texttt{e},\\sigma) = c \\\\\n",
    "\\hline \n",
    "\\eval(\\texttt{Log(e)}, \\sigma) = \\log(c) \\\\\n",
    "\\end{array}\\ \\text{(Log)}$$\n",
    "\n",
    "## Basic Inference Rules\n",
    "Let us actually dive into some basic inference rules: \n",
    "\n",
    "$$ \\begin{array}{c}\n",
    "\\\\\n",
    "\\hline\n",
    "\\eval\\left(\\texttt{Const(f)}, \\sigma\\right) = f \\\\\n",
    "\\end{array}\\ \\text{(Const)} $$\n",
    "\n",
    "First note that the premises are empty, so no assumptions are needed for the conclusion. The inference rule above simply says the following: \n",
    "    - Under any environment SIGNMA, the expression Const(f) evaluates to f\n",
    "    \n",
    "Another basic inference rule is \n",
    "\n",
    "$$ \\begin{array}{c}\n",
    "\\\\\n",
    "\\hline\n",
    "\\eval(\\texttt{Ident(s)}, \\sigma) = \\sigma(s)\\\\\n",
    "\\end{array}\\ \\text{(Variable)} $$\n",
    "\n",
    "under any environment SIGMA, the expression Ident(s) evalutes to SIGNMA(s). __but the reader may object__. What is SIGMA, what is SIGMA(s) and what do we do if SIGMA does not have an identifer for 's'. These are great questions to resolve them, we must say what an environment is. \n",
    "\n",
    "\n",
    "\n",
    "## Environments\n",
    "\n",
    "An environment is a partial function from names of identifers to their values. \n",
    "\n",
    "    * Let Domain(SIGMA) be the set of all variables defined in an environment\n",
    "    * Let SIGMA(s) be the value mapped by the identifier s if in Domain(SIGMA) \n",
    "    \n",
    "    \n",
    "\n",
    "## Basic Inferences (Continued) \n",
    "Resuming where we left off , we will provide now provide a refined rule\n",
    "\n",
    "\n",
    "$$\\begin{array}{c}\n",
    "s \\in \\text{Domain}(\\sigma)\\\\\n",
    "\\hline\n",
    "\\eval(\\texttt{Ident(s)},\\sigma) = \\sigma(s) \\\\\n",
    "\\end{array}\\ (\\text{Ident})$$\n",
    "\n",
    "\n",
    "Can you read this rule aloud for us? \n",
    "    * Premise: the identifier s belongs to Domain(SIGMA) \n",
    "    * Conclusion: eval(Ident(s), SIGMA) = SIGMA(s) \n",
    "    \n",
    "What about a rule of rs NOT IN Domain(SIGMA)? Let us take a raincheck on it in a short while. \n",
    "\n",
    "## Compound Inference\n",
    "Now that we have the basic rules for constraints and identifiers, how do we proceed for the rest? \n",
    "\n",
    "\n",
    "#### Plus\n",
    "\n",
    "$$\\begin{array}{c}\n",
    "\\eval(\\texttt{e1}, \\sigma) = c_1,\\ \\eval(\\texttt{e2}, \\sigma) =  c_2\\\\\n",
    "\\hline\n",
    "\\eval\\left( \\texttt{Plus(e1,e2)}, \\sigma\\right)  =  (c_1 + c_2) \\\\\n",
    "\\end{array} (\\text{Plus}) $$\n",
    "\n",
    "\n",
    "#### Minus\n",
    "\n",
    "$$\\begin{array}{c}\n",
    "\\eval(\\texttt{e1}, \\sigma) = c_1,\\ \\eval(\\texttt{e2}, \\sigma) =  c_2 \\\\\n",
    "\\hline\n",
    "\\eval\\left(\\texttt{Minus(e1, e2)}, \\sigma\\right) = (c_1 - c_2 ) \\\\\n",
    "\\end{array} (\\text{Minus}) $$\n",
    "\n",
    "#### Multiplication\n",
    "\n",
    "$$\\begin{array}{c}\n",
    "\\eval(\\texttt{e1}, \\sigma) = c_1,\\ \\eval(\\texttt{e2}, \\sigma) =  c_2 \\\\\n",
    "\\hline\n",
    "\\eval\\left(\\texttt{Mult(e1, e2)}, \\sigma\\right) = (c_1 \\times c_2) \\\\\n",
    "\\end{array} (\\text{Mult}) $$\n",
    "\n",
    "#### Division\n",
    "\n",
    "$$\\begin{array}{c}\n",
    "\\eval(\\texttt{e1}, \\sigma) = c_1,\\ \\eval(\\texttt{e2}, \\sigma) =  c_2,\\ \\color{red}{c_2 \\not= 0}\\\\\n",
    "\\hline\n",
    "\\eval\\left( \\texttt{Div(e1, e2)}, \\sigma \\right) = (\\frac{c_1}{c_2} ) \\\\\n",
    "\\end{array} (\\text{Div}) $$\n",
    "\n",
    "\n",
    "\n",
    "Note that premise $c_2 \\not= 0$. What happens if $c_2 = 0$?. We will need to specify that under error handling. \n",
    "\n",
    "\n",
    "\n",
    "### Other Rules\n",
    "We already saw example for `Log`. Lets refine it by adding a condtion that the arguemnt of `log` must always be positive. \n",
    "\n",
    "$$\\begin{array}{c}\n",
    "\\eval\\left( \\texttt{e}, \\sigma\\right) = c,\\ \\color{red}{c > 0} \\\\\n",
    "\\hline \n",
    "\\eval(\\texttt{Log(e)}, \\sigma) = \\log(c) \\\\\n",
    "\\end{array}\\ \\text{(Log)}$$\n",
    "\n",
    "\n",
    "Rather than a rule for each Exp, Sine, Cosine: we can provdie a single \"rule templante\" -- a sort of macro that can be used for each of these rules? \n",
    "\n",
    "Before we do that let us define an association of each of these constructors with the functions they represent. Though it is obvious to us from the naming, it is not so to a computer. Therefore we must pretend ignorance and specify the same \n",
    "\n",
    "$$ f_{\\texttt{Exp}}(x) = e^x,\\ f_{\\texttt{Sine}}(x) = \\sin(x),\\ f_{\\texttt{Cosine}}(x) = \\cos(x) $$. \n",
    "\n",
    "\n",
    "\n",
    "$$\\begin{array}{c}\n",
    "\\eval(\\texttt{e}, \\sigma) = c,\\ T \\in \\{ \\texttt{Exp}, \\texttt{Sine}, \\texttt{Cosine} \\} \\\\\n",
    "\\hline\n",
    "\\eval\\left( \\texttt{T(e)}, \\sigma \\right) =  f_{\\texttt{T}}(c)\n",
    "\\end{array} (\\text{InBuilt-Function-Application})$$\n",
    "\n",
    "\n",
    "\n",
    "## Handling Error\n",
    "\n",
    "Semantics is necessary not just to define the correct cases, but also to inform us what do if there is an error. Often, we can distinguish between the types of errors that we owuld like to handle such as DivideByZero, UndefinedVariable, and IllegalArgument. Here, we will keep things simple and define just on error value called __error__.\n",
    "\n",
    "So far, expressions could just take a value that was a double precision. We now augment it to take either a double precision value or a special value called __error__. \n",
    "\n",
    "The rules for producing double precision values have already been seen and recalled below once more. We will augmaent these rules to say thtat there is no error involved. The changes to the prmeises are underlined. They mostly involve saying thisngs like \" c IS IN REALS\" \n",
    "\n",
    "$$\\begin{array}{c}\n",
    "\\eval(\\texttt{e1}, \\sigma) = c_1,\\ \\eval(\\texttt{e2}, \\sigma) =  c_2,\\ \\color{red}{c_1\\in \\mathbb{R}, c_2 \\in \\mathbb{R}}\\\\\n",
    "\\hline\n",
    "\\eval\\left( \\texttt{Plus(e1, e2)}, \\sigma\\right)  =  (c_1 + c_2 ) \\\\\n",
    "\\end{array} (\\text{Plus}) $$\n",
    "\n",
    "$$\\begin{array}{c}\n",
    "\\eval(\\texttt{e1}, \\sigma) = c_1,\\ \\eval(\\texttt{e2}, \\sigma) =  c_2,\\ \\color{red}{c_1\\in \\mathbb{R}, c_2 \\in \\mathbb{R}} \\\\\n",
    "\\hline\n",
    "\\eval\\left(\\texttt{Minus(e1,e2)}, \\sigma\\right) = (c_1 - c_2) \\\\\n",
    "\\end{array} (\\text{Minus}) $$\n",
    "\n",
    "$$\\begin{array}{c}\n",
    "\\eval(\\texttt{e}, \\sigma) = c,\\ T \\in \\{ \\texttt{Exp}, \\texttt{Sine}, \\texttt{Cosine} \\}, \\color{red}{c \\in \\mathbb{R}}\\\\\n",
    "\\hline\n",
    "\\eval\\left( \\texttt{T(e)}, \\sigma \\right) =  f_{\\texttt{T}}(c)\n",
    "\\end{array} (\\text{InBuilt-Function-Application})$$\n",
    "\n",
    "\n",
    "\n",
    "\n",
    "How about __error__? First we will summarize all situtations that can produce a value __error__\n",
    "\n",
    "$$ \\begin{array}{c}\n",
    " s \\not\\in \\text{Domain}(\\sigma) \\\\\n",
    " \\hline\n",
    " \\eval(\\texttt{Ident(s)}, \\sigma) = \\mathbf{error} \\\\\n",
    " \\end{array} (\\text{Ident-ERROR}) $$\n",
    "\n",
    "\n",
    "Other situations are also easy to see: \n",
    "\n",
    "\n",
    "$$\\begin{array}{c}\n",
    "\\eval(\\texttt{e1}, \\sigma) =  c_1,\\ \\eval(\\texttt{e2}, \\sigma) = c_2,\\ {c_1 \\in \\mathbb{R}, c_2 \\in \\mathbb{R}},\\ c_2 = 0\\\\\n",
    "\\hline\n",
    "\\eval\\left(\\texttt{Div(e1, e2)}, \\sigma\\right) = \\mathbf{error} \\\\\n",
    "\\end{array} (\\text{Div-ERROR}) $$\n",
    "\n",
    "\n",
    "Another situation that comes to mind is `Log`\n",
    "\n",
    "$$\\begin{array}{c}\n",
    "\\eval(\\texttt{e}, \\sigma) = c,\\ {c \\in \\mathbb{R}},\\ {c \\leq 0} \\\\\n",
    "\\hline \n",
    "\\eval(\\texttt{Log(e)}, \\sigma) =  \\mathbf{error} \\\\\n",
    "\\end{array}\\ \\text{(Log-ERROR)}$$\n",
    "\n",
    "\n",
    "\n",
    "Now we need to write rules that say that once any child of an expression evaulates to an __error__ the expression itself evaluates to an error. This is very cumbersome to do in its fullest exquisite detail. Therefore, we will say so using appropriate notation to help us. \n",
    "\n",
    "Let us define a set of __subterms__ of a given term inductively. \n",
    "\n",
    "- For expressions $e$ of the form `Plus(e1, e2)`, `Minus(e1, e2)`, and\n",
    "`Mult(e1, e2)` and `Div(e1, e2)`: \n",
    "   $$ \\text{subterm(e)} = \\{ \\texttt{e1}, \\texttt{e2} \\} \\cup  \\text{subterm}(\\texttt{e1}) \\cup \\text{subterm}(\\texttt{e2})$$.\n",
    "- For expressions $e$ of the form `T(e1)` where `T` can be `Log, Sine, Cosine, Exp`:\n",
    "$$\\text{subterm}(e) = \\{ \\texttt{e1} \\} \\cup \\text{subterm}(\\texttt{e1})$$\n",
    "\n",
    "__Example__: Using the definition, we can show that \n",
    "    - subterm(`Plus(Const(1.0) , Mult(Const(2.0), Ident(\"y\"))`) is the set { `Const(1.0)`, `Mult(Const(2.0), Ident(\"y\"))`, `Const(2.0)`, `Ident(\"y\")` }\n",
    "    \n",
    " \n",
    "Now we can write a single rule to deal with __error__: \n",
    "\n",
    "Now we can write a single rule to deal with __error__:\n",
    "\n",
    "$$\\begin{array}{c}\n",
    "\\eval(\\texttt{e1}, \\sigma) = \\mathbf{error},\\ \\texttt{e1} \\in \\text{subterm}(e) \\\\\n",
    "\\hline\n",
    "\\eval( \\texttt{e}, \\sigma) =  \\mathbf{error} \\end{array} (\\text{Subterm-ERROR})  $$\n",
    "\n",
    "Let's interpret this rule:\n",
    "- Premise: under environment $\\sigma$ the expression `e1` evaluates to __error__ and `e1` is a subterm of `e`.\n",
    "- Conclusion: under environment $\\sigma$ the expression `e` evalutes to __error__.\n",
    "\n",
    "The bigstep semantics now clarify how some ambiguous function situations are to be handled.  \n",
    "\n",
    "\n",
    "### Example \n",
    "\n",
    "- Consider the expression `Mult(  Const(0.0), Div(Const(1.0), Const(0.0)))`. We are tempted to  perform a `short circuit rule` as follows:\n",
    "\n",
    "$$\\begin{array}{c}\n",
    "\\eval(\\texttt{e1}, \\sigma) =  0.0,\\\\\n",
    "\\hline\n",
    "\\eval(\\texttt{Mult(e1, e2)}, \\sigma) = 0.0 \\end{array} (\\text{Shortciruit-Mult})$$\n",
    "\n",
    "\n",
    "This says that whenever the first argument of multiplication is a zero, let us short circuit the entire computation to zero without even examining them. As you can see this leads to a big problem. What if one of the unexamined terms\n",
    "causes an error? One can easily slip in such a statement in code for `evalExpr` and no one is any the wiser. The contradiction is only evident when\n",
    "we take the effort to write the big step semantics.\n",
    "\n",
    "\n",
    "- What about short circuiting error?\n",
    "\n",
    "$$ \\begin{array}{c}\n",
    "\\eval(\\texttt{e1}, \\sigma) =  \\mathbf{error},\\\\\n",
    "\\hline\n",
    "\\eval\\left(\\texttt{Mult(e1, e2)}, \\sigma\\right) = \\mathbf{error} \\end{array} (\\text{Shortciruit-Mult-ERROR})$$\n",
    "\n",
    "This is subsumed by the Subterm-ERROR rule already stated. In fact, throwing an exception upon encountering an error seems consistent with the semantics written here especially if we map that exception to the value __error__. This will be entirely consistent with the Subterm-ERROR rule that states that if any subterm evaluates to __error__ the expression as a whole also evaluates to an error.\n",
    "\n",
    "\n",
    "\n"
   ]
  },
  {
   "cell_type": "markdown",
   "metadata": {
    "collapsed": true
   },
   "source": [
    "## From Big-Step Semantics To Code\n",
    "\n",
    "Note that while big-step semantics are very good at expressing how expressions evaluate to their inteded values at a high level, it is not good at expressing issues such as \n",
    "     * What is the order of evaulation? For instance we would like to say that if we have an expression `Plus(e1,e2)` we evaluate this from left to right, starting with e1 and ending at e2. \n",
    "     * How do we deal with side effects? (currently there are no side effects) and so this aspect of our discussion needs to await a future lecture. \n",
    "     \n",
    "To nail down such issues, we may have to give something called small step semantics. However we will skip small step semantics for now and await such a time when our language has some side ffects and mutation, which are both non-issues at present. \n",
    "\n",
    "For now, let us see how the semantics we have expressed thus far can be translated faithfully into code. Let us make this methodical. We first systematcially capture the possible values that an expression can produce. These include the value `Error` or a Number"
   ]
  },
  {
   "cell_type": "code",
   "execution_count": null,
   "metadata": {
    "collapsed": true
   },
   "outputs": [],
   "source": [
    "sealed trait Value\n",
    "case object Error extends Value \n",
    "case class Number(c: Double) extends Value"
   ]
  },
  {
   "cell_type": "code",
   "execution_count": null,
   "metadata": {
    "collapsed": true
   },
   "outputs": [],
   "source": [
    "sealed trait Expr\n",
    "case class Const(f: Double) extends Expr \n",
    "case class Ident(s: String) extends Expr\n",
    "case class Plus( e1: Expr, e2: Expr ) extends Expr\n",
    "case class Minus(e1: Expr, e2: Expr) extends Expr\n",
    "case class Mult(e1: Expr, e2: Expr ) extends Expr\n",
    "case class Div(e1: Expr, e2: Expr) extends Expr\n",
    "case class Log(e: Expr) extends Expr\n",
    "case class Exp(e: Expr) extends Expr\n",
    "case class Sine(e: Expr) extends Expr\n",
    "case class Cosine(e: Expr) extends Expr"
   ]
  },
  {
   "cell_type": "markdown",
   "metadata": {},
   "source": [
    "First we define some conveniant functiosn to compute expected operations over the newly defined values"
   ]
  },
  {
   "cell_type": "code",
   "execution_count": 23,
   "metadata": {},
   "outputs": [
    {
     "data": {
      "text/plain": [
       "defined \u001b[32mobject\u001b[39m \u001b[36mEvalExprObject\u001b[39m"
      ]
     },
     "execution_count": 23,
     "metadata": {},
     "output_type": "execute_result"
    }
   ],
   "source": [
    "/* For convenience, we will package everything into an object. \n",
    "This object has the main function evalExpr as well as the helper functions\n",
    "\n",
    "Note: object in scala is different from a class. when you declare something as an \n",
    "object then there can be exactly one instance of this in the memory and it will be called\n",
    "the same name EvalExprObject. \n",
    "\n",
    "Therefore, a function foo in EvalExprObjected will be called as EvalExprObject.foo(...)\n",
    "*/\n",
    "\n",
    "object EvalExprObject {\n",
    "    // Function binaryOperation will take in two sub-expressions\n",
    "    // evaulate the subexpressions 'e1' and 'e2' \n",
    "    // check if they are error\n",
    "    // if not, apply function 'resFun' provided by the user to the values from \n",
    "    // evaulating 'e1' and 'e2' \n",
    "    def binaryOperation(e1:Expr, e2: Expr, resFun: (Double,Double) => Value, env: Map[String,Double]) = {\n",
    "        val v1 = this.evalExpr(e1, env) // Evaluate e1 into a type VALUE\n",
    "        val v2 = this.evalExpr(e2, env) // Evaluate e2 into a type VALUE\n",
    "        \n",
    "        // this match case will check if either are errors, otherwise evalute\n",
    "        (v1, v2) match{\n",
    "            // short circuit the problem\n",
    "            case(_, Error) => Error // If either is an error return Error\n",
    "            case(Error,_) => Error\n",
    "            \n",
    "            // takes the VALUE and turns it into a NUMBER\n",
    "            case(Number(f1),Number(f2)) => resFun(f1,f2)\n",
    "        }\n",
    "    }\n",
    "    \n",
    "    // compute Log if value is not error\n",
    "    def logValue(val0: Value): Value = val0 match{\n",
    "        case Error => Error\n",
    "        // why do we need to call Number() after the expression is evaluated if it was\n",
    "        // already ocnverted to a number? \n",
    "        case Number(c1) if c1 > 0.0 => Number(math.log(c1))\n",
    "        // if the number is less than 0 then it has to be an error\n",
    "        case _ => Error\n",
    "    }\n",
    "    // compute exp if the value is not an Error\n",
    "    def expValue(val0: Value): Value = val0 match{\n",
    "        case Error => Error\n",
    "        case Number(c1) => Number( math.exp(c1) )\n",
    "    }\n",
    "    // compute sine if the value is not Error\n",
    "    def sineValue(val0: Value): Value = val0 match{\n",
    "        case Error => Error\n",
    "        case Number(c1) => Number( math.sin(c1) )\n",
    "    }\n",
    "    // compute cosine if the value is not Error\n",
    "    def cosineValue(val0: Value): Value = val0 match{\n",
    "        case Error => Error\n",
    "        case Number(c1) => Number ( math.cos(c1) )\n",
    "    } \n",
    "    // The evaulation function after we get it back from either of the above if not an error\n",
    "    def evalExpr (e: Expr, env: Map[String, Double]): Value = e match{\n",
    "        // split cases on what 'e' can be\n",
    "        case Const(f) => Number(f) // 'e' is a constant\n",
    "        // 'e' is an identifier \n",
    "        case Ident(str) => {\n",
    "            if (env.contains(str)){\n",
    "                // we need to change it to a type number because its how \n",
    "                // our trait VALUE actually defines a number. It just lets the \n",
    "                // computer understand why its a Number\n",
    "                Number( env(str) )\n",
    "            }else{\n",
    "                Error\n",
    "            }\n",
    "        }\n",
    "        // e is of the form Plus of two subexpressions\n",
    "        case Plus(e1,e2) => {\n",
    "            // define the operation of adding two numbers\n",
    "            def add2(x: Double, y: Double): Value = Number(x + y)\n",
    "            // Use our helper function of adding two numbers\n",
    "            this.binaryOperation(e1,e2, add2, env)\n",
    "        }\n",
    "        \n",
    "        // 'e' is of the form of two subexpressions\n",
    "        case Minus(e1,e2) => {\n",
    "            def sub2(x: Double, y: Double): Value = Number( x - y )\n",
    "            this.binaryOperation(e1,e2,sub2,env)\n",
    "        }\n",
    "        \n",
    "        // 'e' is of the form multiply two subexpressions\n",
    "        case Mult(e1,e2) => {\n",
    "            def mul2(x: Double, y: Double): Value = Number( x * y)\n",
    "            this.binaryOperation(e1,e2,mul2, env)\n",
    "        }\n",
    "        \n",
    "        case Div(e1, e2) => {\n",
    "            // Carefully define division to handle divide by zero case as well.\n",
    "            def div2(x: Double, y: Double): Value  = \n",
    "                    { if (y != 0.0 ) Number(x/y) else Error }\n",
    "            //Use the function already defined\n",
    "            this.binaryOperation(e1, e2, div2, env)\n",
    "        }   \n",
    "        case Log(e) => this.logValue(evalExpr(e,env))\n",
    "        case Exp(e) => this.expValue(evalExpr(e,env))\n",
    "        case Sine(e)=> this.sineValue( evalExpr(e,env))\n",
    "        case Cosine(e) => this.cosineValue(evalExpr(e,env))\n",
    "    }\n",
    "}"
   ]
  },
  {
   "cell_type": "markdown",
   "metadata": {},
   "source": [
    "let us create an environment that maps some variables name x, y, z, w, l to some values\n"
   ]
  },
  {
   "cell_type": "code",
   "execution_count": 24,
   "metadata": {},
   "outputs": [
    {
     "data": {
      "text/plain": [
       "\u001b[36mmyEnvironment\u001b[39m: \u001b[32mMap\u001b[39m[\u001b[32mString\u001b[39m, \u001b[32mDouble\u001b[39m] = \u001b[33mMap\u001b[39m(\n",
       "  \u001b[32m\"x\"\u001b[39m -> \u001b[32m2.0\u001b[39m,\n",
       "  \u001b[32m\"y\"\u001b[39m -> \u001b[32m1.5\u001b[39m,\n",
       "  \u001b[32m\"Zzz\"\u001b[39m -> \u001b[32m2.8\u001b[39m,\n",
       "  \u001b[32m\"l\"\u001b[39m -> \u001b[32m129.3\u001b[39m,\n",
       "  \u001b[32m\"w\"\u001b[39m -> \u001b[32m15.2\u001b[39m\n",
       ")"
      ]
     },
     "execution_count": 24,
     "metadata": {},
     "output_type": "execute_result"
    }
   ],
   "source": [
    "val myEnvironment: Map[String, Double] = Map(\"x\" -> 2.0, \n",
    "                                             \"y\" -> 1.5, \n",
    "                                             \"Zzz\" -> 2.8, \n",
    "                                             \"w\" -> 15.2, \n",
    "                                             \"l\" -> 129.3)"
   ]
  },
  {
   "cell_type": "code",
   "execution_count": 25,
   "metadata": {},
   "outputs": [
    {
     "data": {
      "text/plain": [
       "\u001b[36mx\u001b[39m: \u001b[32mIdent\u001b[39m = \u001b[33mIdent\u001b[39m(\u001b[32m\"x\"\u001b[39m)\n",
       "\u001b[36my\u001b[39m: \u001b[32mIdent\u001b[39m = \u001b[33mIdent\u001b[39m(\u001b[32m\"y\"\u001b[39m)\n",
       "\u001b[36mz\u001b[39m: \u001b[32mIdent\u001b[39m = \u001b[33mIdent\u001b[39m(\u001b[32m\"Zzz\"\u001b[39m)\n",
       "\u001b[36mexpr1\u001b[39m: \u001b[32mPlus\u001b[39m = \u001b[33mPlus\u001b[39m(\n",
       "  \u001b[33mCosine\u001b[39m(\u001b[33mIdent\u001b[39m(\u001b[32m\"x\"\u001b[39m)),\n",
       "  \u001b[33mPlus\u001b[39m(\u001b[33mSine\u001b[39m(\u001b[33mIdent\u001b[39m(\u001b[32m\"y\"\u001b[39m)), \u001b[33mExp\u001b[39m(\u001b[33mMinus\u001b[39m(\u001b[33mIdent\u001b[39m(\u001b[32m\"x\"\u001b[39m), \u001b[33mPlus\u001b[39m(\u001b[33mIdent\u001b[39m(\u001b[32m\"y\"\u001b[39m), \u001b[33mIdent\u001b[39m(\u001b[32m\"Zzz\"\u001b[39m)))))\n",
       ")"
      ]
     },
     "execution_count": 25,
     "metadata": {},
     "output_type": "execute_result"
    }
   ],
   "source": [
    "val x = Ident(\"x\")\n",
    "val y = Ident(\"y\")\n",
    "val z = Ident(\"Zzz\")\n",
    "// cos(x) + sin(y) + exp(x - (y+z))\n",
    "val expr1 = Plus(Cosine(x), Plus(Sine(y), Exp(Minus(x, Plus(y,z)))))"
   ]
  },
  {
   "cell_type": "code",
   "execution_count": 26,
   "metadata": {},
   "outputs": [
    {
     "data": {
      "text/plain": [
       "\u001b[36mw\u001b[39m: \u001b[32mIdent\u001b[39m = \u001b[33mIdent\u001b[39m(\u001b[32m\"w\"\u001b[39m)\n",
       "\u001b[36mexpr2\u001b[39m: \u001b[32mPlus\u001b[39m = \u001b[33mPlus\u001b[39m(\n",
       "  \u001b[33mExp\u001b[39m(\u001b[33mConst\u001b[39m(\u001b[32m1.5\u001b[39m)),\n",
       "  \u001b[33mPlus\u001b[39m(\u001b[33mSine\u001b[39m(\u001b[33mConst\u001b[39m(\u001b[32m2.0\u001b[39m)), \u001b[33mCosine\u001b[39m(\u001b[33mMult\u001b[39m(\u001b[33mConst\u001b[39m(\u001b[32m1.2\u001b[39m), \u001b[33mConst\u001b[39m(\u001b[32m2.4\u001b[39m))))\n",
       ")\n",
       "\u001b[36mexpr3\u001b[39m: \u001b[32mDiv\u001b[39m = \u001b[33mDiv\u001b[39m(\n",
       "  \u001b[33mDiv\u001b[39m(\n",
       "    \u001b[33mMinus\u001b[39m(\n",
       "      \u001b[33mPlus\u001b[39m(\u001b[33mIdent\u001b[39m(\u001b[32m\"w\"\u001b[39m), \u001b[33mMult\u001b[39m(\u001b[33mIdent\u001b[39m(\u001b[32m\"x\"\u001b[39m), \u001b[33mIdent\u001b[39m(\u001b[32m\"y\"\u001b[39m))),\n",
       "      \u001b[33mPlus\u001b[39m(\u001b[33mConst\u001b[39m(\u001b[32m1.2\u001b[39m), \u001b[33mIdent\u001b[39m(\u001b[32m\"w\"\u001b[39m))\n",
       "    ),\n",
       "    \u001b[33mPlus\u001b[39m(\u001b[33mConst\u001b[39m(\u001b[32m1.5\u001b[39m), \u001b[33mPlus\u001b[39m(\u001b[33mIdent\u001b[39m(\u001b[32m\"w\"\u001b[39m), \u001b[33mIdent\u001b[39m(\u001b[32m\"x\"\u001b[39m)))\n",
       "  ),\n",
       "  \u001b[33mConst\u001b[39m(\u001b[32m2.3\u001b[39m)\n",
       ")"
      ]
     },
     "execution_count": 26,
     "metadata": {},
     "output_type": "execute_result"
    }
   ],
   "source": [
    "val w = Ident(\"w\")\n",
    "// exp(1.5) + sin(2.0) + cos(1.2*2.4)\n",
    "val expr2 = Plus( \n",
    "               Exp(Const(1.5)), \n",
    "               Plus( Sine(Const(2.0)), \n",
    "                     Cosine( Mult( \n",
    "                                  Const(1.2), \n",
    "                                  Const(2.4))\n",
    "                           )\n",
    "                   )\n",
    "             )\n",
    "//(((w+x*y) - (1.2+w))/(1.5+(w+x)))/2.3\n",
    "val expr3 = Div(Div(Minus( Plus(w, Mult(x, y)), Plus(Const(1.2), w)) , \n",
    "                    Plus(Const(1.5), Plus(w, x) )), Const(2.3))"
   ]
  },
  {
   "cell_type": "code",
   "execution_count": 27,
   "metadata": {},
   "outputs": [
    {
     "data": {
      "text/plain": [
       "\u001b[36mres26\u001b[39m: \u001b[32mValue\u001b[39m = \u001b[33mNumber\u001b[39m(\u001b[32m4.4250071847657715\u001b[39m)"
      ]
     },
     "execution_count": 27,
     "metadata": {},
     "output_type": "execute_result"
    }
   ],
   "source": [
    "EvalExprObject.evalExpr(expr2, myEnvironment)"
   ]
  },
  {
   "cell_type": "code",
   "execution_count": 28,
   "metadata": {},
   "outputs": [
    {
     "data": {
      "text/plain": [
       "\u001b[36mres27\u001b[39m: \u001b[32mValue\u001b[39m = \u001b[33mNumber\u001b[39m(\u001b[32m0.04185073238781681\u001b[39m)"
      ]
     },
     "execution_count": 28,
     "metadata": {},
     "output_type": "execute_result"
    }
   ],
   "source": [
    "EvalExprObject.evalExpr(expr3, myEnvironment)"
   ]
  },
  {
   "cell_type": "code",
   "execution_count": 29,
   "metadata": {},
   "outputs": [
    {
     "data": {
      "text/plain": [
       "\u001b[36mexpr4\u001b[39m: \u001b[32mLog\u001b[39m = \u001b[33mLog\u001b[39m(\n",
       "  \u001b[33mPlus\u001b[39m(\u001b[33mPlus\u001b[39m(\u001b[33mIdent\u001b[39m(\u001b[32m\"x\"\u001b[39m), \u001b[33mIdent\u001b[39m(\u001b[32m\"y\"\u001b[39m)), \u001b[33mPlus\u001b[39m(\u001b[33mIdent\u001b[39m(\u001b[32m\"w\"\u001b[39m), \u001b[33mConst\u001b[39m(\u001b[32m-18.7\u001b[39m)))\n",
       ")\n",
       "\u001b[36mres28_1\u001b[39m: \u001b[32mValue\u001b[39m = Error\n",
       "\u001b[36mexpr5\u001b[39m: \u001b[32mDiv\u001b[39m = \u001b[33mDiv\u001b[39m(\n",
       "  \u001b[33mConst\u001b[39m(\u001b[32m1.0\u001b[39m),\n",
       "  \u001b[33mPlus\u001b[39m(\u001b[33mPlus\u001b[39m(\u001b[33mIdent\u001b[39m(\u001b[32m\"x\"\u001b[39m), \u001b[33mIdent\u001b[39m(\u001b[32m\"y\"\u001b[39m)), \u001b[33mPlus\u001b[39m(\u001b[33mIdent\u001b[39m(\u001b[32m\"w\"\u001b[39m), \u001b[33mConst\u001b[39m(\u001b[32m-18.7\u001b[39m)))\n",
       ")\n",
       "\u001b[36mres28_3\u001b[39m: \u001b[32mValue\u001b[39m = Error"
      ]
     },
     "execution_count": 29,
     "metadata": {},
     "output_type": "execute_result"
    }
   ],
   "source": [
    "val expr4 = Log(Plus(Plus(x, y), Plus(w, Const(-18.7))))\n",
    "EvalExprObject.evalExpr(expr4, myEnvironment)\n",
    "\n",
    "val expr5 = Div(Const(1.0), Plus(Plus(x, y), Plus(w, Const(-18.7))))\n",
    "EvalExprObject.evalExpr(expr5, myEnvironment)"
   ]
  }
 ],
 "metadata": {
  "kernelspec": {
   "display_name": "Scala",
   "language": "scala",
   "name": "scala"
  },
  "language_info": {
   "codemirror_mode": "text/x-scala",
   "file_extension": ".scala",
   "mimetype": "text/x-scala",
   "name": "scala",
   "nbconvert_exporter": "script",
   "version": "2.12.10"
  }
 },
 "nbformat": 4,
 "nbformat_minor": 2
}
