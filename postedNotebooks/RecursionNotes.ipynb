{
 "cells": [
  {
   "cell_type": "markdown",
   "metadata": {},
   "source": [
    "# Recursion\n",
    "- Termination, Recursion Depth, Number of Recursive Calls\n",
    "- Tail Recursion\n",
    "- Making functions tail recursive \n",
    "- Fun(?) with recursion? \n",
    "\n"
   ]
  },
  {
   "cell_type": "code",
   "execution_count": 3,
   "metadata": {},
   "outputs": [
    {
     "name": "stdout",
     "output_type": "stream",
     "text": [
      "24\n"
     ]
    },
    {
     "data": {
      "text/plain": [
       "defined \u001b[32mfunction\u001b[39m \u001b[36mfactorial\u001b[39m"
      ]
     },
     "execution_count": 3,
     "metadata": {},
     "output_type": "execute_result"
    }
   ],
   "source": [
    "// As a warmup code a recursive function that calculates factorial \n",
    "// ex, 4! = 4*3*2*1 , assume never given < 1\n",
    "def factorial(x:Int): Int={\n",
    "    // base case\n",
    "    if (x==1){\n",
    "        return 1;\n",
    "    }\n",
    "    return x * factorial(x-1);\n",
    "}\n",
    "\n",
    "println(factorial(4));"
   ]
  },
  {
   "cell_type": "markdown",
   "metadata": {},
   "source": [
    "Factorial is recursive since in its body we are refering back to the function tiself. This seems like a circular definition, and certainly prone to a lot of abuse. For example, take a look at the function below. \n",
    "\n",
    "What is wrong with the function? \n",
    "Its never going to reach its base case because it is passed the same \n",
    "numbers over and over, stack overflow"
   ]
  },
  {
   "cell_type": "code",
   "execution_count": 4,
   "metadata": {},
   "outputs": [
    {
     "data": {
      "text/plain": [
       "defined \u001b[32mfunction\u001b[39m \u001b[36mmyCrazyMeaninglessVeryBadFunction\u001b[39m"
      ]
     },
     "execution_count": 4,
     "metadata": {},
     "output_type": "execute_result"
    }
   ],
   "source": [
    "def myCrazyMeaninglessVeryBadFunction(x: Int): Int = {\n",
    "    if (x == 0 ){\n",
    "        1 // The base case\n",
    "    } else { \n",
    "        x * myCrazyMeaninglessVeryBadFunction(x) // The recursion\n",
    "    }\n",
    "}"
   ]
  },
  {
   "cell_type": "markdown",
   "metadata": {},
   "source": [
    "For any recursive definition we want the sequence of recursive calls\n",
    "for any value of x to hit the base case of recursion. \n",
    "\n",
    "## Preconditions \n",
    "- A precondition is a constraint that restricts what inputs can be used to call a function \n",
    "    - for instance, the factorial function has the precondition that its input must be non negative. In scala we can use the 'require' keyword to specify a precondition "
   ]
  },
  {
   "cell_type": "code",
   "execution_count": 7,
   "metadata": {},
   "outputs": [
    {
     "data": {
      "text/plain": [
       "defined \u001b[32mfunction\u001b[39m \u001b[36mfactorialWithPreconditions\u001b[39m\n",
       "\u001b[36mres6_1\u001b[39m: \u001b[32mInt\u001b[39m = \u001b[32m24\u001b[39m"
      ]
     },
     "execution_count": 7,
     "metadata": {},
     "output_type": "execute_result"
    }
   ],
   "source": [
    "def factorialWithPreconditions(x:Int): Int = {\n",
    "    require( x>= 0)   // this is a precondition \n",
    "    if ( x == 0 ){\n",
    "        return 1;\n",
    "    }else{\n",
    "        return x * factorialWithPreconditions(x-1);\n",
    "    }\n",
    "}\n",
    "\n",
    "\n",
    "//factorialWithPreconditions(-1);  // this throws a requirement failed error\n",
    "factorialWithPreconditions(4);  // this works fine"
   ]
  },
  {
   "cell_type": "markdown",
   "metadata": {},
   "source": [
    "## Preconditions versus Default Values\n",
    "- Preconditions are very useful in software engineering practice. They expose the designer's expectations on what th einputs toa function should look like so that the execution can proceed without bugs. It is an important habit to try and write a preconditions whenever appropriate\n",
    "\n",
    "- Another approach is sto simply return a defaul value (like -1 or 0) when a evaluating a functino. The advantage is that it allows any input toexecute without throwing an exception. However, the key disadvantage is that it imposes a requirement that the result of the function always be checked by the caller and the default values handled appropiately. \n",
    "\n",
    "- Fauling such a check often leads to silent failers or failures that are too hard to trace. \n",
    "\n",
    "\n",
    "## Terminationa and Ranking Functions \n",
    "- The question of whether a recurisve definition terminates is very important and at the same time a very hard problme. \n",
    "        -The main tool here is to show that the sequence of recursive calls from an input x makes progress towards the base condition\n",
    "        \n",
    "\n",
    "- Consider the function factorialWithPrecond(x: Int) with input x that satisfies the precondition x >= 0 \n",
    "    -this is a function that terminates because its recursive calls are making progress towards its base case\n",
    "    \n",
    "    \n",
    "- Lets look at a slightly more complex definition "
   ]
  },
  {
   "cell_type": "code",
   "execution_count": 8,
   "metadata": {},
   "outputs": [
    {
     "data": {
      "text/plain": [
       "defined \u001b[32mfunction\u001b[39m \u001b[36mfibo\u001b[39m"
      ]
     },
     "execution_count": 8,
     "metadata": {},
     "output_type": "execute_result"
    }
   ],
   "source": [
    "def fibo(n: Int): Int = {\n",
    "    require (n >= 0)\n",
    "    // base case of fibonacci\n",
    "    if (n <= 1){\n",
    "        return 1;\n",
    "    }\n",
    "    else{\n",
    "        return fibo(n-1) + fibo(n-2);\n",
    "    }\n",
    "}"
   ]
  },
  {
   "cell_type": "markdown",
   "metadata": {},
   "source": [
    "The big difference here is that fibo has two separate function calls to itself as opposed to having just one\n",
    "\n",
    "Is it terminating? Yes, its getting closer to its base case. \n",
    "\n",
    "here are a few more recursive problems. Try to make sense of them "
   ]
  },
  {
   "cell_type": "code",
   "execution_count": 10,
   "metadata": {},
   "outputs": [
    {
     "name": "stdout",
     "output_type": "stream",
     "text": [
      "64\n"
     ]
    },
    {
     "data": {
      "text/plain": [
       "defined \u001b[32mfunction\u001b[39m \u001b[36misPowerOfTwo\u001b[39m\n",
       "defined \u001b[32mfunction\u001b[39m \u001b[36mrecToPowerOfTwo\u001b[39m\n",
       "\u001b[36mx\u001b[39m: \u001b[32mInt\u001b[39m = \u001b[32m64\u001b[39m"
      ]
     },
     "execution_count": 10,
     "metadata": {},
     "output_type": "execute_result"
    }
   ],
   "source": [
    "def isPowerOfTwo(x: Int): Boolean = {\n",
    "    // checks if x is a power of two, anything that can be divided by two evenly is a power of two \n",
    "    require ( x >= 0); \n",
    "    // trivial base case\n",
    "    if (x == 0){\n",
    "        return false;\n",
    "    }\n",
    "    // the real base case we want to hit when 2/2 = 1, this is the last calculation\n",
    "    if ( x == 1){\n",
    "        return true;\n",
    "    }\n",
    "    // failing condition\n",
    "    else if ( x % 2 == 1){\n",
    "        return false;\n",
    "    }\n",
    "    else{\n",
    "        // if x % 2 == 0, then it is a power of two, cut that number in half?\n",
    "        return isPowerOfTwo(x/2); \n",
    "    }\n",
    "}\n",
    "\n",
    "// this builds you up to a number that is a power of two \n",
    "def recToPowerOfTwo(x: Int): Int = {\n",
    "    require(x >= 0);\n",
    "    if(isPowerOfTwo(x)){\n",
    "        return x; \n",
    "    }\n",
    "    else{\n",
    "        recToPowerOfTwo(x+1)\n",
    "    }\n",
    "}\n",
    "\n",
    "\n",
    "val x = recToPowerOfTwo(35);\n",
    "println(x);\n"
   ]
  },
  {
   "cell_type": "markdown",
   "metadata": {},
   "source": [
    "# Recursion Tree, (Stack) Depth and Number of Recursive Calls\n",
    "\n",
    "- You must be familiar from computer systems as how function calls are executed on a computer \n",
    "    - The system maintains a call stack with an 'activation' record for each function call. \n",
    "    - When a function is called, a new activation record is created for the called function that includes the return address ( where in the program to return to when the call returns ) , the values of function call paramaters and local variables to the function \n",
    "    - When a function returns, the control passes back to its caller at the return address stored on the stack \n",
    "    \n",
    "\n",
    "Example. \n",
    "Consider the following code snippet "
   ]
  },
  {
   "cell_type": "code",
   "execution_count": 11,
   "metadata": {},
   "outputs": [
    {
     "data": {
      "text/plain": [
       "defined \u001b[32mfunction\u001b[39m \u001b[36mf\u001b[39m\n",
       "defined \u001b[32mfunction\u001b[39m \u001b[36mg\u001b[39m\n",
       "defined \u001b[32mfunction\u001b[39m \u001b[36mh\u001b[39m\n",
       "\u001b[36mres10_3\u001b[39m: \u001b[32mInt\u001b[39m = \u001b[32m755\u001b[39m"
      ]
     },
     "execution_count": 11,
     "metadata": {},
     "output_type": "execute_result"
    }
   ],
   "source": [
    "def f(x: Int): Int = {\n",
    "    x * 5; \n",
    "}\n",
    "def g(y: Int): Int = {\n",
    "    val tmp = f(y)\n",
    "    tmp * 10 \n",
    "}\n",
    "def h(z: Int): Int = {\n",
    "    val tmp2 = g(z); \n",
    "    tmp2 + 5\n",
    "}\n",
    "\n",
    "h(15);"
   ]
  },
  {
   "cell_type": "markdown",
   "metadata": {},
   "source": [
    "The call to h(15) causes an activation record for h to be created. We will not really go into the details of how JVM does activation record\n",
    "\n",
    "The activation record for the to h looks like a table with the following information \n",
    "\n",
    "*************\n",
    "CURRENT STACK\n",
    "*************\n",
    "    Activation Record for 'h'\n",
    "    Return Address:Line 16. \n",
    "    z = 15\n",
    "    tmp2 = .... ( its a call to another function ) \n",
    "    \n",
    "\n",
    "After creating the activation record THEN 'h' will execute as a function \n",
    "with z = 15 and it issues a call to 'g' with 'z' as the argument. \n",
    "When it issues a new call an activation record will be made on the stack.\n",
    "\n",
    "* remember that the stack grows upwards *\n",
    "\n",
    "*************\n",
    "CURRENT STACK\n",
    "*************\n",
    "    \n",
    "    Activation record for 'g'\n",
    "    Return Address: line 12\n",
    "    y: 15    <-- it was passed as an argument from function call 'h'\n",
    "    tmp: .... ( its a call to another function ) \n",
    "    \n",
    "    \n",
    "    \n",
    "    Activation Record for 'h'\n",
    "    Return Address:Line 16. \n",
    "    z: 15\n",
    "    tmp2: .... ( its a call to another function ) \n",
    "    \n",
    "    \n",
    "'g' then executes then FINALLY 'f' is called and a new activation record is created and placed on the top of the stack. \n",
    "\n",
    "\n",
    "*************\n",
    "CURRENT STACK\n",
    "*************\n",
    "\n",
    "    Activation record for 'f'\n",
    "    Return address: Line 8 \n",
    "    x: 15\n",
    "\n",
    "\n",
    "    Activation record for 'g'\n",
    "    Return Address: line 12\n",
    "    y: 15    <-- it was passed as an argument from function call 'h'\n",
    "    tmp: .... ( its a call to another function ) \n",
    "    \n",
    "    \n",
    "    \n",
    "    Activation Record for 'h'\n",
    "    Return Address:Line 16. \n",
    "    z: 15\n",
    "    tmp2: .... ( its a call to another function ) \n",
    "    \n",
    "  end of building the stack...\n",
    "  \n",
    "When 'f' is finished executing, it returns 75 that gets placed in the val 'tmp' in function g. The activation record for f is then taken out of the stack and the modifed record for g looks like this \n",
    "\n",
    "\n",
    "*************************************\n",
    "STACK AFTER EXECUTION OF FUNCTION 'F'\n",
    "*************************************\n",
    "\n",
    "    Activation record for 'g'\n",
    "    Return Address: line 12\n",
    "    y: 15    <-- it was passed as an argument from function call 'h'\n",
    "    tmp: 75 ( function 'g' return y*15 ) \n",
    "    \n",
    "    \n",
    "    \n",
    "    Activation Record for 'h'\n",
    "    Return Address:Line 16. \n",
    "    z: 15\n",
    "    tmp2: .... ( its a call to another function ) \n",
    "    \n",
    "\n",
    "similarly , g finishes its execution and returns 750 back to its original caller \n",
    "\n",
    "\n",
    "*************************************\n",
    "STACK AFTER EXECUTION OF FUNCTION 'g'\n",
    "*************************************\n",
    "\n",
    "     Activation Record for 'h'\n",
    "     Return Address:Line 16. \n",
    "     z: 15\n",
    "     tmp2: 750  (75 returned by h * 10) \n",
    "    \n",
    "As you can see, the stack grows with a function call when a new activation record is added and shrinks when a function returns"
   ]
  },
  {
   "cell_type": "markdown",
   "metadata": {},
   "source": [
    "## Recursive Calls\n",
    "\n",
    "- Thus, recursive calls are implemented much like any other function call. However, becase these functions call themselves, the stack grows as recurisve calls are made. We are interested in two aspects of resource consumption: \n",
    "    *__Depth of Recursion__: how many activation record can reside in the stack at any point during the exectuion of the recursive functino, in the worst case? \n",
    "    *__Number of Recursive Calls:__: How many calls are made to the recursive function in total? \n",
    "    \n",
    "To facilitate this analysis, we can view the exection of a recursion as a tree where in the root of the tree is the very first recurisve call. For each node, the children are just the recursive calls made by that node. Leaves of the tree correspond tocall that fall into the base cases. \n",
    "\n",
    "__ The depth of the tree is therefore the depth of the recursion__ . The number of recursive calls is the number of nodes in the tree. \n",
    "\n",
    "## Factorial Function\n",
    "- Let us draw the tree for factorial(5), having fixed the issue for factoral by adding require(x >= 0)"
   ]
  },
  {
   "cell_type": "code",
   "execution_count": 12,
   "metadata": {},
   "outputs": [
    {
     "data": {
      "text/plain": [
       "defined \u001b[32mfunction\u001b[39m \u001b[36mfactorial\u001b[39m"
      ]
     },
     "execution_count": 12,
     "metadata": {},
     "output_type": "execute_result"
    }
   ],
   "source": [
    "def factorial(x : Int): Int = {\n",
    "    require(x >= 0)\n",
    "    if (x == 0){\n",
    "        return 1;\n",
    "    }\n",
    "    return x * factorial(x-1);\n",
    "}"
   ]
  },
  {
   "cell_type": "markdown",
   "metadata": {},
   "source": [
    "if you call factorial of 5, the depth of the tree is 6\n",
    "\n",
    "For general n, factorial(n) has a stack depth of n+1 and the number\n",
    "of call is the same as the stack depth\n",
    "\n",
    "now lets look at the fibonacci \n",
    "\n",
    "## Fibonacci Function \n",
    "\n",
    "fibo(4)\n",
    "\n",
    "when we draw out the tree we see that\n",
    "    - the depth of the tree is 4 \n",
    "    - the number of function calls is equal to 9\n",
    "    \n",
    "- In general the depth of fibonacci is order(n) but the number of function calls grows fast.\n",
    "\n",
    "- Unfortunately, the growth of the number of recursive calls is exponential in n. Thus, to compute fibo(40) requires us to make more than a billion calls \n",
    "\n",
    "# Tail Calls\n",
    "- There is a very special case where the activation records do not have to grow upon successive function calls. These are called tail calls. Let us illustrate with an example\n",
    "\n",
    "\n",
    "__Example1__: We already saw this example and above traced out how the stack grows when the successive calls are made"
   ]
  },
  {
   "cell_type": "code",
   "execution_count": 13,
   "metadata": {},
   "outputs": [
    {
     "data": {
      "text/plain": [
       "defined \u001b[32mfunction\u001b[39m \u001b[36mf\u001b[39m\n",
       "defined \u001b[32mfunction\u001b[39m \u001b[36mg\u001b[39m\n",
       "defined \u001b[32mfunction\u001b[39m \u001b[36mh\u001b[39m\n",
       "\u001b[36mres12_3\u001b[39m: \u001b[32mInt\u001b[39m = \u001b[32m755\u001b[39m"
      ]
     },
     "execution_count": 13,
     "metadata": {},
     "output_type": "execute_result"
    }
   ],
   "source": [
    "def f(x: Int): Int = {\n",
    "    x * 5\n",
    "}\n",
    "\n",
    "def g(y: Int): Int = {\n",
    "     val tmp = f(y)\n",
    "     tmp * 10\n",
    "}\n",
    "\n",
    "def h(z: Int): Int = {\n",
    "    val tmp2 = g(z)\n",
    "    tmp2 + 5\n",
    "}\n",
    "\n",
    "h(15)\n",
    "// stuff that follows h(15)"
   ]
  },
  {
   "cell_type": "markdown",
   "metadata": {},
   "source": [
    "__Example2__: Consider a different example below and carefully compare this code to that above"
   ]
  },
  {
   "cell_type": "code",
   "execution_count": 14,
   "metadata": {},
   "outputs": [
    {
     "data": {
      "text/plain": [
       "defined \u001b[32mfunction\u001b[39m \u001b[36mf1\u001b[39m\n",
       "defined \u001b[32mfunction\u001b[39m \u001b[36mg1\u001b[39m\n",
       "defined \u001b[32mfunction\u001b[39m \u001b[36mh1\u001b[39m\n",
       "\u001b[36mres13_3\u001b[39m: \u001b[32mInt\u001b[39m = \u001b[32m2784\u001b[39m"
      ]
     },
     "execution_count": 14,
     "metadata": {},
     "output_type": "execute_result"
    }
   ],
   "source": [
    "def f1(x: Int): Int = {\n",
    "    return x * 8; \n",
    "}\n",
    "def g1(y: Int): Int = {\n",
    "    val temp = 12*y; \n",
    "    f1(temp);\n",
    "}\n",
    "def h1(z: Int): Int = {\n",
    "    val tmp2 = 14 + z; \n",
    "    g1(tmp2);\n",
    "}\n",
    "\n",
    "h1(15);"
   ]
  },
  {
   "cell_type": "markdown",
   "metadata": {},
   "source": [
    "obviously the functions are doing something totally different. \n",
    "But let us point out an important difference between the functinon call \n",
    "g(tmp2) at line 12 of example 2 and the corresponding val tmp2(g(z) from \n",
    "example 1. \n",
    "\n",
    "A key difference is that the result of the call g(tmp2) in example 2\n",
    "is returned to the callee without ANY further computations, whereas\n",
    "in example 1, the result is actually processed further by adding 5\n",
    "THEN being returned\n",
    "\n",
    "__Defintion (Tail Call)__ A function call f(...) is said to be a tail call \n",
    "if \n",
    "    (a) no further computation is performed \n",
    "    (b) the result is passed back to the caller (without ANY modifications)\n",
    "    \n",
    "For example all function call in example 2 are tail calls whereas the calls in example 1 are not tail calls\n",
    "\n",
    "Tail calls are important because they allow the system to perform an important tail optimizatoin called 'tail call optimization'\n",
    "\n",
    "\n",
    "# Tail Call Optimization\n",
    "Let us see how this works in example 2. Consider the activation stack when g1 is called inside function h1\n",
    "\n",
    "        Activation Record for h1\n",
    "        Return Address: line 16\n",
    "        z: 15\n",
    "        tmp2:29\n",
    "        \n",
    "Normally, we will now call g1(29) and therefore a new activation call record is added\n",
    "   \n",
    "        Activation Record for g1\n",
    "        Return Address: line 13\n",
    "        y: 29\n",
    "        tmp2: ...\n",
    "        \n",
    "        Activation Record for h1\n",
    "        Return Address: line 16\n",
    "        z: 15\n",
    "        tmp2:29\n",
    "\n",
    "The key question is whether we need this extra activation call. What happens when g1 returns? Because it was called as a tail call, the value returned back to h1 is just sent back to the caller (of h1). Tail call optimization is a very simple trick. Rather than keepping the activation record for h1 around, it simply __replaces__ the activation record for h1 as follows:\n",
    "\n",
    "        Activation Record for g1 (TAIL CALL OPTIMIZED) \n",
    "        Return address 16     <-- this is the same return address as h1\n",
    "        y:29\n",
    "        tmp:...\n",
    "        \n",
    "        \n",
    "There is a very key change in terms of the return address. Rather than return back from g1 to h1 and h1 to its caller, we will bypass that 'middle man' and directly send our result to whosever was waiting for h1\n",
    "\n",
    "\n",
    "As a result of tail call optimization, we conclude that __tail calls need not cause the stack to increase in size__. \n",
    "\n",
    "## Tail Recursion\n",
    "\n",
    "- We will now look closer into tail recursion codes\n",
    "\n",
    "__REMEMBER RULES TO BE A TAIL RECURSION__\n",
    "      -  __No further computations are made after__\n",
    "      -  __The result is passed back to the callee without an mods__"
   ]
  },
  {
   "cell_type": "code",
   "execution_count": 16,
   "metadata": {},
   "outputs": [
    {
     "data": {
      "text/plain": [
       "defined \u001b[32mfunction\u001b[39m \u001b[36mrecA\u001b[39m\n",
       "defined \u001b[32mfunction\u001b[39m \u001b[36mrecB\u001b[39m"
      ]
     },
     "execution_count": 16,
     "metadata": {},
     "output_type": "execute_result"
    }
   ],
   "source": [
    "/* \n",
    "    This function is not tail recurisve because further computations\n",
    "    are made after the return of its recursive call\n",
    "*/\n",
    "def recA(n:Int): Int = {\n",
    "    if (n <= 0){\n",
    "        return 1;\n",
    "    }\n",
    "    else{\n",
    "        return 10 * recA(n-1);\n",
    "    }\n",
    "}\n",
    "/* \n",
    "    This function is tail recurive because it returned back \n",
    "    to its callee without having any further modifications\n",
    "    and no further computations were made after its return\n",
    "*/\n",
    "def recB(n:Int, m: Int): Int = {\n",
    "    if ( n<=0){\n",
    "        return m;\n",
    "    }\n",
    "    else{\n",
    "        return recB(n-1,10*m);\n",
    "    }\n",
    "}"
   ]
  },
  {
   "cell_type": "markdown",
   "metadata": {},
   "source": [
    "The main takeaway is that tail recursive calls can effectively be turned into a while loop by the compiler, and the stack depth is compressed \n",
    "to 1!\n",
    "\n",
    "We can convert non-tail recursive recurrences to tail recurisve ones. \n",
    "Here is how we do it for factorial. Note that we added an accumulator\n",
    "argument 'acc' that carries around the product so far\n",
    "    this accumulator is a way around having to do \n",
    "        return acc + foo(x-1) \n",
    "            clever fuck"
   ]
  },
  {
   "cell_type": "code",
   "execution_count": 23,
   "metadata": {},
   "outputs": [
    {
     "data": {
      "text/plain": [
       "defined \u001b[32mfunction\u001b[39m \u001b[36mfactorial\u001b[39m\n",
       "defined \u001b[32mfunction\u001b[39m \u001b[36mtailFactorial\u001b[39m\n",
       "\u001b[36mx\u001b[39m: \u001b[32mInt\u001b[39m = \u001b[32m24\u001b[39m\n",
       "\u001b[36my\u001b[39m: \u001b[32mInt\u001b[39m = \u001b[32m24\u001b[39m"
      ]
     },
     "execution_count": 23,
     "metadata": {},
     "output_type": "execute_result"
    }
   ],
   "source": [
    "// this is the orginal factorial function \n",
    "\n",
    "def factorial(x: Int): Int = {\n",
    "    if (x < 1){\n",
    "        return 1; \n",
    "    }\n",
    "    else{\n",
    "        return x * factorial(x-1)\n",
    "    }\n",
    "}\n",
    "\n",
    "// try to make this tail recursion\n",
    "// this is very clever\n",
    "def tailFactorial(x: Int, acc: Int): Int = {\n",
    "    if (x < 1){\n",
    "        return acc;\n",
    "    }\n",
    "    else{\n",
    "        return tailFactorial(x-1, acc*x);\n",
    "    }\n",
    "    \n",
    "}\n",
    "val x = factorial(4)\n",
    "val y = tailFactorial(4,1)"
   ]
  },
  {
   "cell_type": "markdown",
   "metadata": {},
   "source": [
    "# Mutually Recursive Functions\n",
    "\n",
    "- Just like how we have functions that call themselves, it is possible to have mutually recursive functions that are defined in terms of each other. In the example below, m1 calls m2 and m2 calls m1. This is an example of a mutal recursive function. Is it tail recursive?"
   ]
  },
  {
   "cell_type": "code",
   "execution_count": 24,
   "metadata": {},
   "outputs": [
    {
     "data": {
      "text/plain": [
       "defined \u001b[32mfunction\u001b[39m \u001b[36mm1\u001b[39m\n",
       "defined \u001b[32mfunction\u001b[39m \u001b[36mm2\u001b[39m\n",
       "\u001b[36ms1\u001b[39m: \u001b[32mInt\u001b[39m = \u001b[32m7\u001b[39m\n",
       "\u001b[36ms2\u001b[39m: \u001b[32mInt\u001b[39m = \u001b[32m3\u001b[39m\n",
       "\u001b[36ms3\u001b[39m: \u001b[32mInt\u001b[39m = \u001b[32m2\u001b[39m\n",
       "\u001b[36ms4\u001b[39m: \u001b[32mInt\u001b[39m = \u001b[32m2\u001b[39m"
      ]
     },
     "execution_count": 24,
     "metadata": {},
     "output_type": "execute_result"
    }
   ],
   "source": [
    "def m1 (x: Int): Int = {\n",
    "    if (x <= 2){\n",
    "        return x;\n",
    "    }\n",
    "    else{\n",
    "        return (m2((x/2+1).toString)).toInt\n",
    "    }\n",
    "}\n",
    "\n",
    "def m2(s: String): String = {\n",
    "    if (s.length() <= 1) { s }\n",
    "    else {\n",
    "        val t = s.substring(0, s.length() -1 )\n",
    "        m1(t.toInt).toString\n",
    "    }\n",
    "}\n",
    "\n",
    "val s1 = m1(250)\n",
    "val s2 = m1(90)\n",
    "val s3 = m1(1001)\n",
    "val s4 = m1(30091)"
   ]
  },
  {
   "cell_type": "code",
   "execution_count": null,
   "metadata": {
    "collapsed": true
   },
   "outputs": [],
   "source": []
  }
 ],
 "metadata": {
  "kernelspec": {
   "display_name": "Scala",
   "language": "scala",
   "name": "scala"
  },
  "language_info": {
   "codemirror_mode": "text/x-scala",
   "file_extension": ".scala",
   "mimetype": "text/x-scala",
   "name": "scala",
   "nbconvert_exporter": "script",
   "version": "2.12.10"
  }
 },
 "nbformat": 4,
 "nbformat_minor": 2
}
