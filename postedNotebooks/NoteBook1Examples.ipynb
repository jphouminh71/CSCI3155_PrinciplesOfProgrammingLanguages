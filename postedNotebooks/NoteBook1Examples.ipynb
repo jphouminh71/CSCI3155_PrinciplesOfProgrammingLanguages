{
 "cells": [
  {
   "cell_type": "code",
   "execution_count": 34,
   "metadata": {},
   "outputs": [
    {
     "data": {
      "text/plain": [
       "defined \u001b[32mobject\u001b[39m \u001b[36mSayHelloTo\u001b[39m"
      ]
     },
     "execution_count": 34,
     "metadata": {},
     "output_type": "execute_result"
    }
   ],
   "source": [
    "object SayHelloTo {\n",
    "   /* Here is the function sayHelloTo -- It is placed inside an \"object\" called SayHelloTo */\n",
    "   def sayHelloTo(who: String) = { \n",
    "    println(\"Hello, \"+ who)\n",
    "   }\n",
    "   /* This is the main function that is the entry point. \n",
    "      args is an array of command line arguments as strings.\n",
    "      */\n",
    "   def main(args: Array[String]) = {\n",
    "      // Iterate through the arguments one by one and call sayHelloTo on eacy\n",
    "      for (name <- args) { sayHelloTo(name) }\n",
    "   }\n",
    "}\n"
   ]
  },
  {
   "cell_type": "code",
   "execution_count": 35,
   "metadata": {},
   "outputs": [
    {
     "name": "stdout",
     "output_type": "stream",
     "text": [
      "The dogs name is buddy and its of the type retriever and is age 24\n",
      "The dogs name is buddy and its of the type retriever and is age 24\n"
     ]
    },
    {
     "data": {
      "text/plain": [
       "defined \u001b[32mclass\u001b[39m \u001b[36mDog\u001b[39m\n",
       "\u001b[36mnewDog\u001b[39m: \u001b[32mDog\u001b[39m = ammonite.$sess.cmd34$Helper$Dog@d1367a9\n",
       "\u001b[36mname\u001b[39m: \u001b[32mString\u001b[39m = \u001b[32m\"buddy\"\u001b[39m\n",
       "\u001b[36mbreed\u001b[39m: \u001b[32mString\u001b[39m = \u001b[32m\"retriever\"\u001b[39m\n",
       "\u001b[36mage\u001b[39m: \u001b[32mInt\u001b[39m = \u001b[32m24\u001b[39m"
      ]
     },
     "execution_count": 35,
     "metadata": {},
     "output_type": "execute_result"
    }
   ],
   "source": [
    "class Dog(val name:String, val breed: String, val age: Int);\n",
    "\n",
    "val newDog = new Dog(\"buddy\", \"retriever\", 24);\n",
    "\n",
    "val name = newDog.name;\n",
    "val breed = newDog.breed;\n",
    "val age = newDog.age; \n",
    "\n",
    "println(\"The dogs name is %s and its of the type %s and is age %d\" format(newDog.name,newDog.breed,newDog.age));\n",
    "println(\"The dogs name is %s and its of the type %s and is age %d\" format(name,breed,age));\n"
   ]
  },
  {
   "cell_type": "code",
   "execution_count": 36,
   "metadata": {},
   "outputs": [
    {
     "name": "stdout",
     "output_type": "stream",
     "text": [
      "Creating a tuple.\n",
      "10\n",
      "Sup foo\n",
      "true\n"
     ]
    },
    {
     "data": {
      "text/plain": [
       "\u001b[36mmyTuple\u001b[39m: (\u001b[32mInt\u001b[39m, \u001b[32mString\u001b[39m, \u001b[32mBoolean\u001b[39m) = (\u001b[32m10\u001b[39m, \u001b[32m\"Sup foo\"\u001b[39m, true)"
      ]
     },
     "execution_count": 36,
     "metadata": {},
     "output_type": "execute_result"
    }
   ],
   "source": [
    "println(\"Creating a tuple.\")\n",
    "val myTuple: (Int, String, Boolean) = (10, \"Sup foo\", true)\n",
    "\n",
    "for (i <- myTuple.productIterator){\n",
    "    println(i);\n",
    "}"
   ]
  },
  {
   "cell_type": "code",
   "execution_count": 37,
   "metadata": {},
   "outputs": [
    {
     "name": "stdout",
     "output_type": "stream",
     "text": [
      "HelloWorld HelloWorld HelloWorld \n"
     ]
    },
    {
     "data": {
      "text/plain": [
       "defined \u001b[32mfunction\u001b[39m \u001b[36mrepeatString\u001b[39m\n",
       "\u001b[36mexampleString\u001b[39m: \u001b[32mString\u001b[39m = \u001b[32m\"HelloWorld \"\u001b[39m\n",
       "\u001b[36mrepeatCount\u001b[39m: \u001b[32mInt\u001b[39m = \u001b[32m3\u001b[39m\n",
       "\u001b[36mretVal\u001b[39m: \u001b[32mString\u001b[39m = \u001b[32m\"HelloWorld HelloWorld HelloWorld \"\u001b[39m"
      ]
     },
     "execution_count": 37,
     "metadata": {},
     "output_type": "execute_result"
    }
   ],
   "source": [
    "/* Coding the repeat string function and testing it */ \n",
    "\n",
    "def repeatString(x: String, y: Int): String = {\n",
    "    var retString = \"\"; \n",
    "    for (i <- 1 to y){  // in scala for loops are inclusive. \n",
    "        retString = retString + x; \n",
    "    }\n",
    "    \n",
    "    return retString; \n",
    "}\n",
    "\n",
    "val exampleString = \"HelloWorld \"; \n",
    "val repeatCount = 3; \n",
    "val retVal = repeatString(exampleString,repeatCount); \n",
    "println(retVal);"
   ]
  },
  {
   "cell_type": "code",
   "execution_count": 38,
   "metadata": {},
   "outputs": [
    {
     "data": {
      "text/plain": [
       "defined \u001b[32mfunction\u001b[39m \u001b[36mfib\u001b[39m"
      ]
     },
     "execution_count": 38,
     "metadata": {},
     "output_type": "execute_result"
    }
   ],
   "source": [
    "def fib(num:Int): Int = {\n",
    "    if (num == 1 || num == 0){\n",
    "        return 1;\n",
    "    }\n",
    "    else{\n",
    "        return fib(num-1) + fib(num-2); \n",
    "    }\n",
    "}\n"
   ]
  },
  {
   "cell_type": "code",
   "execution_count": 39,
   "metadata": {},
   "outputs": [
    {
     "name": "stdout",
     "output_type": "stream",
     "text": [
      "(Printing the fibbonacci of 4: ,5)"
     ]
    },
    {
     "data": {
      "text/plain": [
       "\u001b[36mfibnum\u001b[39m: \u001b[32mInt\u001b[39m = \u001b[32m4\u001b[39m\n",
       "\u001b[36mfibo\u001b[39m: \u001b[32mInt\u001b[39m = \u001b[32m5\u001b[39m"
      ]
     },
     "execution_count": 39,
     "metadata": {},
     "output_type": "execute_result"
    }
   ],
   "source": [
    "// fib (3)  1,1,2 . = 4, expect return value of 4\n",
    "\n",
    "val fibnum = 4;\n",
    "val fibo = fib(fibnum); \n",
    "print(s\"Printing the fibbonacci of ${fibnum}: \", fibo);"
   ]
  },
  {
   "cell_type": "code",
   "execution_count": 39,
   "metadata": {},
   "outputs": [
    {
     "name": "stderr",
     "output_type": "stream",
     "text": [
      "(console):1: ':' expected but ')' found.\n",
      "def applyFibFunction(fibFunction )\n",
      "                                 ^\n",
      "(console):1: identifier expected but eof found.\n",
      "def applyFibFunction(fibFunction )\n",
      "                                  ^"
     ]
    },
    {
     "ename": "",
     "evalue": "",
     "output_type": "error",
     "traceback": [
      "(console):1: ':' expected but ')' found.\ndef applyFibFunction(fibFunction )\n                                 ^\n(console):1: identifier expected but eof found.\ndef applyFibFunction(fibFunction )\n                                  ^"
     ]
    }
   ],
   "source": [
    "// playing around with applying functions to other functions, via parameters \n",
    "\n",
    "def applyFibFunction(fibFunction )"
   ]
  },
  {
   "cell_type": "markdown",
   "metadata": {},
   "source": [
    "# THE FOLLOWING IS NOTES FROM THE PYTHON NOTEBOOK READING\n"
   ]
  },
  {
   "cell_type": "markdown",
   "metadata": {},
   "source": [
    "- Syntax\n",
    "    The first difference between programming languages is syntax\n",
    "        -reserved keywords -identifiers -keybinds -etc \n",
    "        \n",
    "     \n",
    "    The primary motivation of this course is to understand our own langauges and bring them to life \n",
    "    \n",
    "    All programs in this class will be implemented in scala \n",
    "    We will design various languages in this course\n",
    "        - artihtmetic expression \n",
    "        - music specificaiton \n",
    "        - graphics langauge\n",
    "        - physical modeling \n",
    "        \n",
    "- Axioms of the class\n",
    "    NO MYSTERIES, If you can learn the basics you will be just fine\n",
    "    Look online for help \n",
    "    knowing is doing, do the problems \n",
    "    \n",
    "    \n",
    "# The Scala Programming Language\n",
    "\n",
    "- Scala is built on top of the JVM \n",
    "    - Scala can be ran on an interpretter or also on its own standalone application which requires a compiler \n",
    "    - In interpetter languages you can write code line by line and have them executed \n",
    "    \n",
    "                        println(\"hello world\")  \n",
    "                        \n",
    "                        ...example of a function... \n",
    "                        \n",
    "                        def sayHello(who: String): Unit = {\n",
    "                            println(\"Hello \" + who ); \n",
    "                        }\n",
    "                        \n",
    "                        sayHello(\"Jon\"); \n",
    "                        \n",
    "                        \n",
    "- Writing a standalone program\n",
    "    - if we desire a compiled file, scala requires us to place methods inside of classes , and the entry point must be a function named 'main'. \n",
    "        ... example ... \n",
    "                \n",
    "                object sayHello{\n",
    "                    def sayHello(s:String): Unit = {\n",
    "                        println(\"hello\"); \n",
    "                    }\n",
    "                    \n",
    "                    def main(args: Array[String]): Int = {\n",
    "                        for(name <- args){\n",
    "                            sayhello(name); \n",
    "                        }\n",
    "                    }\n",
    "                    \n",
    "- Variable Declaration (Val and Var) \n",
    "    - Val (immutable): Essentially an variable defined with val is like a 'const' in c++\n",
    "        ... Example ...\n",
    "            val x= 10; \n",
    "            val name = \"jon\"; \n",
    "            x = 20;   <-- this will throw a compilation error because you tried to change a 'val' variable. \n",
    "            \n",
    "            \n",
    "    - Var (mutable): If you wish to reassign variables you have to use the 'var' variable type. In scala you want to use as few 'var' variables as possible so you can take advatage of resource sharing. \n",
    "        ... Example ... \n",
    "            var  xx = 20; \n",
    "            var yy = 22;   /* these are all re-assignable */ \n",
    "            \n",
    "            val me1 = \"Jon\"; \n",
    "            val list1 = List(me1,me1,me1, ... );   // good programming \n",
    "                var list2 = List(me1,me1,me1, ... ); // bad programming \n",
    "\n",
    "\n",
    "- Printing Statements in Scala\n",
    "\n",
    "            println(\"x = \" + x);  // normal string concatonation \n",
    "            println(\"y = %s) format(y) \n",
    "            println(s\"z = $z\")\n",
    "            \n",
    "\n",
    " \n",
    "- Data Types in Scala\n",
    "    int, 32 bits \n",
    "    long, 64 bits \n",
    "    string \n",
    "    float \n",
    "    \n",
    "    Booleans (&&,||, !) :\n",
    "        - val b1: Boolean = true; \n",
    "        - val b2: = !b1   // negation operator\n",
    "        - val b3 = b1 && b2 // AND operator \n",
    "        - val b4 = b1 || b2;  // OR (not logical) \n",
    "        - val b5: Boolean = if(b4) b1 else b3   // if then else block \n",
    "            \n",
    "          "
   ]
  },
  {
   "cell_type": "markdown",
   "metadata": {},
   "source": [
    "# For loops in Scala\n",
    "-  'to' means to be inclusive , replace with 'UNTIL' to be exclusive "
   ]
  },
  {
   "cell_type": "code",
   "execution_count": null,
   "metadata": {
    "collapsed": true
   },
   "outputs": [],
   "source": [
    "for(i <- 1 until 5){\n",
    "    print(i); \n",
    "}\n",
    "println(\"\"); \n",
    "for(i <- 1 to 5){\n",
    "    print(i);\n",
    "}"
   ]
  },
  {
   "cell_type": "markdown",
   "metadata": {},
   "source": [
    "            \n",
    "# Objects and Classes in Scala"
   ]
  },
  {
   "cell_type": "code",
   "execution_count": null,
   "metadata": {
    "collapsed": true
   },
   "outputs": [],
   "source": [
    "class Dog(val name:String, val breed:String, val age:Int)\n",
    "    // notice how in the parameters we defined the attributes as val, therefore they can never be updated\n",
    "    // we have to do that wierd thing where we create a new object entirely when we want to update or change it to var\n",
    "\n",
    "val doggy = new Dog(\"buddy\",\"retriever\",25); \n",
    "val name = doggy.name; \n",
    "val breed = doggy.breed; \n",
    "val age = doggy.age; \n",
    "\n",
    "println(\"%s is a doggy of the type %s and he is %d years old!\" format(name,breed,age)); "
   ]
  },
  {
   "cell_type": "code",
   "execution_count": null,
   "metadata": {
    "collapsed": true
   },
   "outputs": [],
   "source": [
    "// example of having methods inside of classes \n",
    "class BarkingDog(val name:String, val breed:String, val age:Int){\n",
    "    val shouts = List(\"Wuff Wuff\", \"Bark Bark\", \"Arf Arf\"); \n",
    "    private var index = 0; // make sure this doesn't change outside of the object class \n",
    "    \n",
    "    def bark() = {\n",
    "        println(\"%s, a proud %s, says %s.\" format(name,breed,shouts(index))); \n",
    "        this.index = (this.index+1)%shouts.length;\n",
    "    }\n",
    "}\n",
    "\n",
    "val doggo = new BarkingDog(\"buddy\",\"retriever\",25); \n",
    "doggo.bark(); "
   ]
  },
  {
   "cell_type": "markdown",
   "metadata": {},
   "source": [
    "# TUPLES IN SCALA"
   ]
  },
  {
   "cell_type": "code",
   "execution_count": null,
   "metadata": {
    "collapsed": true
   },
   "outputs": [],
   "source": [
    "val v:(Int, Boolean) = (10,true);   // integer and boolean tuple\n",
    "\n",
    "// Accessing compenents of tuples\n",
    "val firstElement = v._1; \n",
    "val secondElement = v._2; \n",
    "\n",
    "val vn = v.productArity;  // getting the size of the tuple\n",
    "val vswap = v.swap;    // swapping elements\n",
    "\n",
    "\n",
    "/* UNPACKING A TUPLE */ \n",
    "println(\"unpacking\");\n",
    "for (i <- v.productIterator){\n",
    "    println(i);\n",
    "}"
   ]
  },
  {
   "cell_type": "markdown",
   "metadata": {},
   "source": [
    "# Lists (Immutable Arrays)\n"
   ]
  },
  {
   "cell_type": "code",
   "execution_count": null,
   "metadata": {
    "collapsed": true
   },
   "outputs": [],
   "source": [
    "val x = List(1,2,3);\n",
    "val x_size = x.size; // returns the size of the list \n",
    "val item_one = List(0)   // this is how you index lists \n",
    "val last_item = List(x.size);  // getting the last element\n",
    "\n",
    "\n",
    "val listy = List(1,2,\"Hello\",\"World\",5.0,true)   // this is a list of the type 'ANY'"
   ]
  },
  {
   "cell_type": "code",
   "execution_count": 2,
   "metadata": {},
   "outputs": [
    {
     "data": {
      "text/plain": [
       "\u001b[36mx\u001b[39m: \u001b[32mList\u001b[39m[\u001b[32mInt\u001b[39m] = \u001b[33mList\u001b[39m(\u001b[32m1\u001b[39m, \u001b[32m2\u001b[39m, \u001b[32m3\u001b[39m)\n",
       "\u001b[36my\u001b[39m: \u001b[32mList\u001b[39m[\u001b[32mInt\u001b[39m] = \u001b[33mList\u001b[39m(\u001b[32m1\u001b[39m, \u001b[32m100\u001b[39m, \u001b[32m3\u001b[39m)\n",
       "\u001b[36mz\u001b[39m: \u001b[32mList\u001b[39m[\u001b[32mInt\u001b[39m] = \u001b[33mList\u001b[39m(\u001b[32m1\u001b[39m, \u001b[32m2\u001b[39m, \u001b[32m3\u001b[39m, \u001b[32m100\u001b[39m)\n",
       "\u001b[36mappend\u001b[39m: \u001b[32mString\u001b[39m = \u001b[32m\"List(1, 2, 3)10\"\u001b[39m\n",
       "\u001b[36mf\u001b[39m: \u001b[32mList\u001b[39m[\u001b[32mInt\u001b[39m] = \u001b[33mList\u001b[39m(\u001b[32m1\u001b[39m, \u001b[32m100\u001b[39m, \u001b[32m3\u001b[39m, \u001b[32m1\u001b[39m, \u001b[32m2\u001b[39m, \u001b[32m3\u001b[39m)"
      ]
     },
     "execution_count": 2,
     "metadata": {},
     "output_type": "execute_result"
    }
   ],
   "source": [
    "/* Updating values in a list */ \n",
    "val x = List(1,2,3); \n",
    "val y = x.updated(1,100);   // remember that we have to do this because Lists are immutable \n",
    "\n",
    "\n",
    "// Appending to the front of the list  (::) \n",
    "val z = x :+ 100;\n",
    "\n",
    "// appending to a list \n",
    "val append = x + \"10\"; \n",
    "\n",
    "// merging two lists\n",
    "val f = y:::x;"
   ]
  },
  {
   "cell_type": "code",
   "execution_count": null,
   "metadata": {
    "collapsed": true
   },
   "outputs": [],
   "source": [
    "/* filtering out from lists */ \n",
    "\n",
    "val listA = List(1,2,3); \n",
    "val listB = List(3,4,5); \n",
    "\n",
    "// remove everything from listA that is also in listB\n",
    "val zz1 = listA.diff(listB);\n",
    "println(zz1.contains(1));   // boolean method\n",
    "\n",
    "\n",
    "// same thing as above but in a function \n",
    "def removeAll(a:List[Any], b:List[Any]):List[Any] = {\n",
    "    a.filterNot(v=>(b.contains(v)));\n",
    "}"
   ]
  },
  {
   "cell_type": "markdown",
   "metadata": {},
   "source": [
    "# Arrays (Mutable) \n"
   ]
  },
  {
   "cell_type": "code",
   "execution_count": null,
   "metadata": {
    "collapsed": true
   },
   "outputs": [],
   "source": [
    "val a1 = Array(1,2,3,4,5); \n",
    "\n",
    "a1(2) = 100; \n",
    "a1(3) = 6;      // setting variables\n",
    "\n",
    "//traversing through an array\n",
    "for(i <- 0 until a1.size){\n",
    "    println(\"%d --> %d\" format(i,a1(i)));\n",
    "}"
   ]
  },
  {
   "cell_type": "markdown",
   "metadata": {},
   "source": [
    "# Maps "
   ]
  },
  {
   "cell_type": "markdown",
   "metadata": {},
   "source": [
    "- These are essentially python dictionaries, in this course we will focus on immutable maps whenever possible"
   ]
  },
  {
   "cell_type": "code",
   "execution_count": null,
   "metadata": {
    "collapsed": true
   },
   "outputs": [],
   "source": [
    "val map0:Map[Int,String] = Map(1->\"Hello\",2->\"World\");\n",
    "\n",
    "// boolean operations to check for if a key exists \n",
    "val isIn = map0.contains(3); \n",
    "\n",
    "// appending to a map \n",
    "val m1=map0 + (3->\"Martin\"); \n",
    "val m2=map0 ++ List((4->\"Jon\"),(5->\"Rachel\"));"
   ]
  },
  {
   "cell_type": "markdown",
   "metadata": {},
   "source": [
    "# Practice Excercise"
   ]
  },
  {
   "cell_type": "code",
   "execution_count": null,
   "metadata": {
    "collapsed": true
   },
   "outputs": [],
   "source": [
    "/* Write a fcuntion when given a string x and integer y, make the string x repeat y times */ \n",
    "\n",
    "def repeatX(x:String,y:Int): String ={\n",
    "    x + (x*y);\n",
    "}\n",
    "\n",
    "val stringy = \"abc\"; \n",
    "val retstring = repeatX(\"abc\",3);\n",
    "println(retstring);"
   ]
  },
  {
   "cell_type": "code",
   "execution_count": null,
   "metadata": {
    "collapsed": true
   },
   "outputs": [],
   "source": []
  }
 ],
 "metadata": {
  "kernelspec": {
   "display_name": "Scala",
   "language": "scala",
   "name": "scala"
  },
  "language_info": {
   "codemirror_mode": "text/x-scala",
   "file_extension": ".scala",
   "mimetype": "text/x-scala",
   "name": "scala",
   "nbconvert_exporter": "script",
   "version": "2.12.10"
  }
 },
 "nbformat": 4,
 "nbformat_minor": 2
}
