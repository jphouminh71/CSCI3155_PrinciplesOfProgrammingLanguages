{
 "cells": [
  {
   "cell_type": "markdown",
   "metadata": {},
   "source": [
    "# Lambda calculus\n",
    "Lambda calculus (or λ-calculus) is a model that encompasses all computable functions. Any computation that can be done on any computer, with any language, can be also done by lambda calculus. By studying and understanding lambda calculus we can develop understanding for the behavior of all computation.\n",
    "\n",
    "The notion of computable functions was captured by three models created in the 1930s. All three can be proven to be equivilant.\n",
    " - [General recursive functions](https://en.wikipedia.org/wiki/%CE%9C-recursive_function)\n",
    " - [Lambda calculus](https://en.wikipedia.org/wiki/Lambda_calculus)\n",
    " - [Turing machines](https://en.wikipedia.org/wiki/Turing_machine)\n",
    " \n",
    "\n",
    "Some functions are not computeable.  We can show that it is impossible to write a function `def halts(program: P):Boolean = ...` that takes an arbitrary program and determines whether it will eventually stop.  This program can be written in most modern programming languages or one of the 3 computable function models listed above.  (For more information take theory of computation 😀)\n",
    " \n",
    "### Why Study Lambda Calculus?\n",
    "\n",
    " - Lambda calculus is incredibly simple, only 3 terms (3 abstract syntax tree nodes).\n",
    " - The evaluation rules for lambda calculus are similarly simple.\n",
    " - Functional programming languages were developed as a consequence of lambda calculus.\n",
    "\n",
    "### History\n",
    "\n",
    "In 1933, [Kurt Gödel](https://en.wikipedia.org/wiki/Kurt_G%C3%B6del) defined the class of general recursive functions. The class of general recursive functions is the smallest class of functions that:\n",
    " - includes all constant functions, projections, and the successor function \n",
    " - is closed under composition, recursion, and minimization\n",
    "\n",
    "In 1936, Alonzo Church created a notation for defining functions called the [λ-calculus](https://en.wikipedia.org/wiki/Lambda_calculus), as well as a way to define natural numbers in a purely functional setting: [Church numerals](https://en.wikipedia.org/wiki/Church_encoding). A function on the natural numbers is called λ-computable if the corresponding function on the Church numerals can be defined in the λ-calculus.\n",
    "\n",
    "In 1936, [Alan Turing](https://en.wikipedia.org/wiki/Alan_Turing) defined a model for a machine that could perform calculations by reading from and writing to tape: the [Turing Machine](https://en.wikipedia.org/wiki/Turing_machine). A function on the natural numbers is Turing computable if a Turing machine can be created that computes the same function.\n",
    "\n",
    "In 1936 and 1937, Church and Turing proved that these three classes describe the same set of functions. The idea that they also fit the informal definition of \"effectively calculable\" is called the [Church-Turing Thesis](https://en.wikipedia.org/wiki/Church%E2%80%93Turing_thesis).\n",
    "\n",
    "\n",
    "### Further Reading\n",
    "1. https://plato.stanford.edu/entries/lambda-calculus\n",
    "2. https://www.youtube.com/watch?v=SphBW9ILVPU\n",
    "3. https://www.ics.uci.edu/~lopes/teaching/inf212W12/readings/church.pdf\n",
    "4. https://www.cs.virginia.edu/~robins/Turing_Paper_1936.pdf"
   ]
  },
  {
   "cell_type": "markdown",
   "metadata": {},
   "source": [
    "## Syntax of Lambda Calculus\n",
    "\n",
    "Lambda calculus only has three abstract syntax tree nodes, lambda functions, variables, and function calls.\n",
    "\n",
    "$$\\begin{array}{rcll      r}\n",
    "\\textbf{E} & \\rightarrow & x & variables\\\\\n",
    "& | & (\\lambda x.\\textbf{E}) & lambdas (anonymous functions) \\\\\n",
    "& | & (\\textbf{E}_1 \\textbf{E}_2) & application (calling a function) \\\\\n",
    "\\end{array}$$\n",
    "\n",
    "Traditionally, we would encode all data types as \"ground\" functions (e.g. [Church numerals](https://en.wikipedia.org/wiki/Church_encoding)), however we have added constant numbers and plus to make the language more understandable.  "
   ]
  },
  {
   "cell_type": "markdown",
   "metadata": {},
   "source": [
    "## Interpreter and Abstract Syntax Tree"
   ]
  },
  {
   "cell_type": "code",
   "execution_count": 1,
   "metadata": {},
   "outputs": [
    {
     "data": {
      "text/plain": [
       "defined \u001b[32mtrait\u001b[39m \u001b[36mFExpr\u001b[39m\n",
       "defined \u001b[32mclass\u001b[39m \u001b[36mFun\u001b[39m\n",
       "defined \u001b[32mclass\u001b[39m \u001b[36mCall\u001b[39m\n",
       "defined \u001b[32mclass\u001b[39m \u001b[36mIdent\u001b[39m\n",
       "defined \u001b[32mclass\u001b[39m \u001b[36mPlus\u001b[39m\n",
       "defined \u001b[32mclass\u001b[39m \u001b[36mConst\u001b[39m"
      ]
     },
     "execution_count": 1,
     "metadata": {},
     "output_type": "execute_result"
    }
   ],
   "source": [
    "trait FExpr\n",
    "case class Fun(x:String, e:FExpr) extends FExpr\n",
    "case class Call(e1:FExpr,e2:FExpr) extends FExpr\n",
    "case class Ident(x:String) extends FExpr\n",
    "case class Plus(e1:FExpr, e2: FExpr) extends FExpr\n",
    "case class Const(x:Int) extends FExpr"
   ]
  },
  {
   "cell_type": "code",
   "execution_count": 4,
   "metadata": {},
   "outputs": [
    {
     "data": {
      "text/plain": [
       "\u001b[32mimport \u001b[39m\u001b[36mjava.lang.Thread\n",
       "\u001b[39m\n",
       "defined \u001b[32mfunction\u001b[39m \u001b[36msubstitute\u001b[39m\n",
       "defined \u001b[32mfunction\u001b[39m \u001b[36meval\u001b[39m"
      ]
     },
     "execution_count": 4,
     "metadata": {},
     "output_type": "execute_result"
    }
   ],
   "source": [
    "import java.lang.Thread\n",
    "def substitute(x:String, e:FExpr, e_new:FExpr):FExpr = e match{\n",
    "    case Ident(x2) => if(x == x2) e_new else Ident(x2)\n",
    "    case f@Fun(x2,eb) => if(x2 != x) Fun(x2, substitute(x,eb,e_new)) else f\n",
    "    case Call(e1,e2) => Call(substitute(x,e1,e_new),substitute(x,e2,e_new))\n",
    "    case Plus(e1,e2) => Plus(substitute(x,e1,e_new), substitute(x,e2,e_new))\n",
    "    case Const(n) => Const(n)\n",
    "}\n",
    "def eval(e:FExpr):FExpr = {\n",
    "    Thread.sleep(10) //Ignore this line\n",
    "    e match{\n",
    "        case Ident(x) => throw new IllegalStateException(s\"Unbound variable ${x}\")\n",
    "        case f@Fun(x,eb) => f\n",
    "        case Call(e1,e2) => {\n",
    "            eval(e1) match{\n",
    "                case Fun(x2,eb) => eval(substitute(x2,eb,e2))\n",
    "                case x => throw new IllegalStateException(s\"Cannot call non function ${x}\")\n",
    "            }\n",
    "        }\n",
    "        case Plus(e1,e2) => {\n",
    "            (eval(e1),eval(e2)) match{\n",
    "                case (Const(n1),Const(n2)) => Const(n1+n2)\n",
    "                case (x1,x2) => throw new IllegalStateException(s\"Cannot add non number types ${x1} and ${x2}\")\n",
    "            }\n",
    "\n",
    "        }\n",
    "        case Const(n) => Const(n)\n",
    "    }\n",
    "}"
   ]
  },
  {
   "cell_type": "markdown",
   "metadata": {},
   "source": [
    "## Semantics of the Lambda Calculus\n",
    "\n",
    "In class exercise."
   ]
  },
  {
   "cell_type": "markdown",
   "metadata": {},
   "source": [
    "## Examples of Lambda Calculus Programs"
   ]
  },
  {
   "cell_type": "markdown",
   "metadata": {},
   "source": [
    "#### Program 1\n",
    "Lambda calculus:\n",
    "\n",
    ">10\n",
    "\n",
    "Lettuce:\n",
    "```\n",
    "10\n",
    "```"
   ]
  },
  {
   "cell_type": "code",
   "execution_count": 1,
   "metadata": {},
   "outputs": [
    {
     "data": {
      "text/plain": [
       "\u001b[36mres0\u001b[39m: \u001b[32mInt\u001b[39m = \u001b[32m10\u001b[39m"
      ]
     },
     "execution_count": 1,
     "metadata": {},
     "output_type": "execute_result"
    }
   ],
   "source": [
    "10"
   ]
  },
  {
   "cell_type": "markdown",
   "metadata": {},
   "source": [
    "#### Program 2\n",
    "Lambda calculus:\n",
    "\n",
    ">$\\lambda$ x . x\n",
    "\n",
    "Lettuce :\n",
    "```\n",
    "function(x)\n",
    "    x\n",
    "```"
   ]
  },
  {
   "cell_type": "code",
   "execution_count": null,
   "metadata": {
    "collapsed": true
   },
   "outputs": [],
   "source": [
    "// Lambda calculus\n",
    "Fun(\"x\", Ident(\"x\"))\n",
    "\n",
    "// Scala, note values must have types\n",
    "(x => x ) : (Int => Int)"
   ]
  },
  {
   "cell_type": "markdown",
   "metadata": {},
   "source": [
    "#### Program 3\n",
    "Lambda calculus:\n",
    "\n",
    ">$\\lambda$ x . $\\lambda$ y . x + y\n",
    "\n",
    "Lettuce :\n",
    "```\n",
    "function(x)\n",
    "    function(y)\n",
    "        x + y\n",
    "```"
   ]
  },
  {
   "cell_type": "code",
   "execution_count": null,
   "metadata": {
    "collapsed": true
   },
   "outputs": [],
   "source": [
    "// Lambda calculus\n",
    "Fun(\"x\", Fun(\"y\", Plus(Ident(\"x\"), Ident(\"y\"))))\n",
    "\n",
    "// Scala\n",
    "(x => y => x + y ) : (Int => Int => Int)"
   ]
  },
  {
   "cell_type": "markdown",
   "metadata": {},
   "source": [
    "#### Program 4\n",
    "Lambda calculus:\n",
    "\n",
    ">($\\lambda$ x . $\\lambda$ y . x + y)  1  2\n",
    "\n",
    "\n",
    "Lettuce v1 :\n",
    "```\n",
    "( function(x)\n",
    "    function(y)\n",
    "        x + y\n",
    ") (1) (2)\n",
    "```\n",
    "\n",
    "Lettuce v2 :\n",
    "```\n",
    "let x = 1 in\n",
    "  let y = 2 in\n",
    "    x + y\n",
    "```\n"
   ]
  },
  {
   "cell_type": "code",
   "execution_count": 6,
   "metadata": {},
   "outputs": [
    {
     "data": {
      "text/plain": [
       "\u001b[36mres5_0\u001b[39m: \u001b[32mCall\u001b[39m = \u001b[33mCall\u001b[39m(\n",
       "  \u001b[33mCall\u001b[39m(\u001b[33mFun\u001b[39m(\u001b[32m\"x\"\u001b[39m, \u001b[33mFun\u001b[39m(\u001b[32m\"y\"\u001b[39m, \u001b[33mPlus\u001b[39m(\u001b[33mIdent\u001b[39m(\u001b[32m\"x\"\u001b[39m), \u001b[33mIdent\u001b[39m(\u001b[32m\"y\"\u001b[39m)))), \u001b[33mConst\u001b[39m(\u001b[32m1\u001b[39m)),\n",
       "  \u001b[33mConst\u001b[39m(\u001b[32m2\u001b[39m)\n",
       ")\n",
       "\u001b[36mres5_1\u001b[39m: \u001b[32mInt\u001b[39m = \u001b[32m3\u001b[39m\n",
       "\u001b[36mres5_2\u001b[39m: \u001b[32mInt\u001b[39m = \u001b[32m3\u001b[39m"
      ]
     },
     "execution_count": 6,
     "metadata": {},
     "output_type": "execute_result"
    }
   ],
   "source": [
    "// Lambda calculus\n",
    "Call( \n",
    "  Call(\n",
    "    Fun(\"x\", Fun(\"y\", Plus(Ident(\"x\"), Ident(\"y\")))), \n",
    "    Const(1)), \n",
    "  Const(2))\n",
    "\n",
    "// Scala v1\n",
    "((x => y => x + y ) : (Int => Int => Int)) (1) (2)\n",
    "\n",
    ";\n",
    "// Scala v2\n",
    "{\n",
    "    val x = 1;\n",
    "    {\n",
    "        val y = 2\n",
    "        x+y\n",
    "    }\n",
    "}"
   ]
  },
  {
   "cell_type": "markdown",
   "metadata": {},
   "source": [
    "#### Program 5\n",
    "Lambda calculus:\n",
    "\n",
    ">$\\lambda$ f . $\\lambda$ x . f x\n",
    "\n",
    "Lettuce :\n",
    "```\n",
    "function(f)\n",
    "    function(x)\n",
    "         f(x)\n",
    "```"
   ]
  },
  {
   "cell_type": "code",
   "execution_count": null,
   "metadata": {
    "collapsed": true
   },
   "outputs": [],
   "source": [
    "// Lambda calculus\n",
    "Fun(\"f\", Fun(\"x\", Call(Ident(\"f\"), Ident(\"x\"))))\n",
    "\n",
    "// Scala\n",
    "(f => x => f(x) ) : ((Int => Int) => Int => Int)"
   ]
  },
  {
   "cell_type": "markdown",
   "metadata": {},
   "source": [
    "#### Program 6\n",
    "Lambda calculus:\n",
    "\n",
    ">($\\lambda$ f . $\\lambda$ x . f x) ($\\lambda$ x . x + 1) 1\n",
    "\n",
    "Lettuce :\n",
    "```\n",
    "( function(f)\n",
    "    function(x)\n",
    "        f(x)\n",
    ")\n",
    "( function(x) x + 1 )\n",
    "1\n",
    "```"
   ]
  },
  {
   "cell_type": "code",
   "execution_count": null,
   "metadata": {
    "collapsed": true
   },
   "outputs": [],
   "source": [
    "// Lambda calculus\n",
    "Call(\n",
    "  Call(\n",
    "    Fun(\"f\", Fun(\"x\", Call(Ident(\"f\"), Ident(\"x\")))),\n",
    "      Fun(\"x\", Plus( Ident(\"x\"), Const(1)))),\n",
    "    Const(1)\n",
    " )\n",
    "\n",
    "// Scala\n",
    "((f => x => f(x) ) : ((Int => Int) => Int => Int)) ((x : Int) => x + 1) (1)"
   ]
  },
  {
   "cell_type": "markdown",
   "metadata": {},
   "source": [
    "#### Program 7\n",
    "Lambda calculus:\n",
    "\n",
    ">($\\lambda$ x . x x) ($\\lambda$ x . x x)\n",
    "\n",
    "Lettuce :\n",
    "```\n",
    "( function(x)\n",
    "     x(x) \n",
    ") ( function(x)\n",
    "     x(x)\n",
    "  )\n",
    "```"
   ]
  },
  {
   "cell_type": "code",
   "execution_count": null,
   "metadata": {
    "collapsed": true
   },
   "outputs": [],
   "source": [
    "// Lambda calculus\n",
    "val fp = Call(\n",
    "    Fun(\"x\", Call(Ident(\"x\"), Ident(\"x\"))),\n",
    "    Fun(\"x\", Call(Ident(\"x\"), Ident(\"x\")))\n",
    ")"
   ]
  },
  {
   "cell_type": "code",
   "execution_count": null,
   "metadata": {
    "collapsed": true
   },
   "outputs": [],
   "source": [
    "// Scala\n",
    "( x => x(x) ) ( x => x(x) ) \n",
    "// What is the type??"
   ]
  },
  {
   "cell_type": "code",
   "execution_count": null,
   "metadata": {
    "collapsed": true
   },
   "outputs": [],
   "source": [
    "// What happens when we evaluate fp?\n",
    "eval(fp)\n",
    "//(A cell may be stopped with the square button on the top of the page)\n",
    "// What is going on here?"
   ]
  },
  {
   "cell_type": "code",
   "execution_count": null,
   "metadata": {
    "collapsed": true
   },
   "outputs": [],
   "source": []
  }
 ],
 "metadata": {
  "kernelspec": {
   "display_name": "Scala",
   "language": "scala",
   "name": "scala"
  },
  "language_info": {
   "codemirror_mode": "text/x-scala",
   "file_extension": ".scala",
   "mimetype": "text/x-scala",
   "name": "scala",
   "nbconvert_exporter": "script",
   "version": "2.12.10"
  }
 },
 "nbformat": 4,
 "nbformat_minor": 4
}
