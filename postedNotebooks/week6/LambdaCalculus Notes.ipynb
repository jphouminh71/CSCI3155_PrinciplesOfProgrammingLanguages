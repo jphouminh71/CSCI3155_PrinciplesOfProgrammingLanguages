{
 "cells": [
  {
   "cell_type": "markdown",
   "metadata": {},
   "source": [
    "# Lambda Calculus\n",
    "\n",
    "Lambda calculus is amodel that emcompasses all computable functinos. Any computation that can be done on any computer, with any langauge, can also be done by lambda calculus. By studying and understanding lambda calculus we can develop an understanding for the bheavior of all computation. \n",
    "\n",
    "The notion of computable functions was captured by three models created in 1930s. All three can be proven to be equivenlent \n",
    "\n",
    "    General recursive functions\n",
    "    Lambda Calculus\n",
    "    Turing machines\n",
    "    \n",
    "    \n",
    "Some functions are not computable. We can show that it is impossible to write a function def halts(program: P)  = Boolean = ... this function takes an abritrary program and determines whether it will eventually stop. This program can be written in most modern programming langeus or on e of the 3 computable functions models listed above. \n",
    "\n",
    "\n",
    "## Why study lambda calculus? \n",
    "\n",
    "    * lambda calculus is incredibly simple, only 3 terms ( 3 abstract syntax tree nodes ) \n",
    "    * the evaluation rules for lambda calculus are similary simple. \n",
    "    * Functional programming languages were developed as a consequence of lambda calculus. \n",
    "    \n",
    "    \n",
    "   \n"
   ]
  },
  {
   "cell_type": "markdown",
   "metadata": {},
   "source": [
    "# interpreter and Abstract Syntax Tree"
   ]
  },
  {
   "cell_type": "code",
   "execution_count": 1,
   "metadata": {},
   "outputs": [
    {
     "data": {
      "text/plain": [
       "defined \u001b[32mtrait\u001b[39m \u001b[36mFExpr\u001b[39m\n",
       "defined \u001b[32mclass\u001b[39m \u001b[36mFun\u001b[39m\n",
       "defined \u001b[32mclass\u001b[39m \u001b[36mCall\u001b[39m\n",
       "defined \u001b[32mclass\u001b[39m \u001b[36mIdent\u001b[39m\n",
       "defined \u001b[32mclass\u001b[39m \u001b[36mPlus\u001b[39m\n",
       "defined \u001b[32mclass\u001b[39m \u001b[36mConst\u001b[39m"
      ]
     },
     "execution_count": 1,
     "metadata": {},
     "output_type": "execute_result"
    }
   ],
   "source": [
    "trait FExpr \n",
    "case class Fun(x: String, e:FExpr) extends FExpr\n",
    "case class Call(e1:FExpr, e2:FExpr) extends FExpr\n",
    "case class Ident(x: String) extends FExpr\n",
    "case class Plus(e1:FExpr, e2: FExpr) extends FExpr\n",
    "case class Const(x:Int) extends FExpr"
   ]
  },
  {
   "cell_type": "code",
   "execution_count": 2,
   "metadata": {},
   "outputs": [
    {
     "data": {
      "text/plain": [
       "\u001b[32mimport \u001b[39m\u001b[36mjava.lang.Thread\n",
       "\u001b[39m\n",
       "defined \u001b[32mfunction\u001b[39m \u001b[36msubstitute\u001b[39m\n",
       "defined \u001b[32mfunction\u001b[39m \u001b[36meval\u001b[39m"
      ]
     },
     "execution_count": 2,
     "metadata": {},
     "output_type": "execute_result"
    }
   ],
   "source": [
    "import java.lang.Thread\n",
    "def substitute(x:String, e:FExpr, e_new:FExpr):FExpr = e match{\n",
    "    case Ident(x2) => if(x == x2) e_new else Ident(x2)\n",
    "    case f@Fun(x2,eb) => if(x2 != x) Fun(x2, substitute(x,eb,e_new)) else f\n",
    "    case Call(e1,e2) => Call(substitute(x,e1,e_new),substitute(x,e2,e_new))\n",
    "    case Plus(e1,e2) => Plus(substitute(x,e1,e_new), substitute(x,e2,e_new))\n",
    "    case Const(n) => Const(n)\n",
    "}\n",
    "def eval(e:FExpr):FExpr = {\n",
    "    Thread.sleep(10) //Ignore this line\n",
    "    e match{\n",
    "        case Ident(x) => throw new IllegalStateException(s\"Unbound variable ${x}\")\n",
    "        case f@Fun(x,eb) => f\n",
    "        case Call(e1,e2) => {\n",
    "            eval(e1) match{\n",
    "                case Fun(x2,eb) => eval(substitute(x2,eb,e2))\n",
    "                case x => throw new IllegalStateException(s\"Cannot call non function ${x}\")\n",
    "            }\n",
    "        }\n",
    "        case Plus(e1,e2) => {\n",
    "            (eval(e1),eval(e2)) match{\n",
    "                case (Const(n1),Const(n2)) => Const(n1+n2)\n",
    "                case (x1,x2) => throw new IllegalStateException(s\"Cannot add non number types ${x1} and ${x2}\")\n",
    "            }\n",
    "\n",
    "        }\n",
    "        case Const(n) => Const(n)\n",
    "    }\n",
    "}"
   ]
  },
  {
   "cell_type": "markdown",
   "metadata": {},
   "source": [
    "# Semeantics of Lambda Calculus \n",
    "In class excerise. \n",
    "\n",
    "## Examples of Lambda Calculus Programs\n",
    "\n",
    "### Program 1\n",
    "\n",
    "Lambda Calclus : 10 \n",
    "\n",
    "Letteuce : 10 \n",
    "\n",
    "Scala : 10 \n",
    "\n",
    "\n",
    "### Program 2: \n",
    "\n",
    "Lambda Calculus: \n",
    ">$\\lambda$ x . x\n",
    "    \n",
    "Lettuce: \n",
    "```\n",
    "function(x)\n",
    "    x\n",
    "```"
   ]
  },
  {
   "cell_type": "code",
   "execution_count": 3,
   "metadata": {},
   "outputs": [
    {
     "data": {
      "text/plain": [
       "\u001b[36mres2_0\u001b[39m: \u001b[32mFun\u001b[39m = \u001b[33mFun\u001b[39m(\u001b[32m\"x\"\u001b[39m, \u001b[33mIdent\u001b[39m(\u001b[32m\"x\"\u001b[39m))\n",
       "\u001b[36mres2_1\u001b[39m: \u001b[32mInt\u001b[39m => \u001b[32mInt\u001b[39m = ammonite.$sess.cmd2$Helper$$Lambda$2409/925318415@147cdb6"
      ]
     },
     "execution_count": 3,
     "metadata": {},
     "output_type": "execute_result"
    }
   ],
   "source": [
    "// Scala\n",
    "\n",
    "Fun(\"x\", Ident(\"x\"))\n",
    "\n",
    "// scala, note values must have types \n",
    "(x => x) : ( Int => Int ) "
   ]
  },
  {
   "cell_type": "markdown",
   "metadata": {},
   "source": [
    "#### Program 3\n",
    "Lambda calculus:\n",
    "\n",
    ">$\\lambda$ x . $\\lambda$ y . x + y\n",
    "\n",
    "Lettuce :\n",
    "```\n",
    "function(x)\n",
    "    function(y)\n",
    "        x + y\n",
    "```"
   ]
  },
  {
   "cell_type": "code",
   "execution_count": 4,
   "metadata": {},
   "outputs": [
    {
     "data": {
      "text/plain": [
       "\u001b[36mres3_0\u001b[39m: \u001b[32mFun\u001b[39m = \u001b[33mFun\u001b[39m(\u001b[32m\"x\"\u001b[39m, \u001b[33mFun\u001b[39m(\u001b[32m\"y\"\u001b[39m, \u001b[33mPlus\u001b[39m(\u001b[33mIdent\u001b[39m(\u001b[32m\"x\"\u001b[39m), \u001b[33mIdent\u001b[39m(\u001b[32m\"y\"\u001b[39m))))\n",
       "\u001b[36mres3_1\u001b[39m: \u001b[32mInt\u001b[39m => \u001b[32mInt\u001b[39m => \u001b[32mInt\u001b[39m = ammonite.$sess.cmd3$Helper$$Lambda$2468/1005422575@44119830"
      ]
     },
     "execution_count": 4,
     "metadata": {},
     "output_type": "execute_result"
    }
   ],
   "source": [
    "// Lambda Calculus \n",
    "Fun(\"x\", Fun(\"y\", Plus(Ident(\"x\"), Ident(\"y\"))))\n",
    "\n",
    "// scala\n",
    "(x => y => x + y) : (Int => Int => Int) "
   ]
  },
  {
   "cell_type": "markdown",
   "metadata": {},
   "source": [
    "#### Program 4\n",
    "Lambda calculus:\n",
    "\n",
    ">($\\lambda$ x . $\\lambda$ y . x + y)  1  2\n",
    "\n",
    "\n",
    "Lettuce v1 :\n",
    "```\n",
    "( function(x)\n",
    "    function(y)\n",
    "        x + y\n",
    ") (1) (2)\n",
    "```\n",
    "\n",
    "Lettuce v2 :\n",
    "```\n",
    "let x = 1 in\n",
    "  let y = 2 in\n",
    "    x + y\n",
    "```\n"
   ]
  },
  {
   "cell_type": "code",
   "execution_count": 5,
   "metadata": {},
   "outputs": [
    {
     "data": {
      "text/plain": [
       "\u001b[36mres4\u001b[39m: \u001b[32mCall\u001b[39m = \u001b[33mCall\u001b[39m(\n",
       "  \u001b[33mCall\u001b[39m(\u001b[33mFun\u001b[39m(\u001b[32m\"x\"\u001b[39m, \u001b[33mFun\u001b[39m(\u001b[32m\"y\"\u001b[39m, \u001b[33mPlus\u001b[39m(\u001b[33mIdent\u001b[39m(\u001b[32m\"x\"\u001b[39m), \u001b[33mIdent\u001b[39m(\u001b[32m\"y\"\u001b[39m)))), \u001b[33mConst\u001b[39m(\u001b[32m1\u001b[39m)),\n",
       "  \u001b[33mConst\u001b[39m(\u001b[32m2\u001b[39m)\n",
       ")"
      ]
     },
     "execution_count": 5,
     "metadata": {},
     "output_type": "execute_result"
    }
   ],
   "source": [
    "// Lmabda Calculus \n",
    "Call(\n",
    "    Call( \n",
    "        Fun(\"x\", Fun(\"y\", Plus(Ident(\"x\"), Ident(\"y\")))),\n",
    "        Const(1)), Const(2))\n",
    "\n",
    "\n",
    "// Scala v1,  this is the basics of calling a curried function \n",
    "((x => y => x + y) : (Int => Int => Int))(1)(2)\n",
    "\n",
    "// Scala v2 , this plays with scoping \n",
    "\n",
    "{\n",
    "    val x = 1; \n",
    "    {\n",
    "        val y = 2 \n",
    "        x + y \n",
    "    }\n",
    "}"
   ]
  },
  {
   "cell_type": "markdown",
   "metadata": {},
   "source": [
    "#### Program 5\n",
    "Lambda calculus:\n",
    "\n",
    ">$\\lambda$ f . $\\lambda$ x . f x\n",
    "\n",
    "Lettuce :\n",
    "```\n",
    "function(f)\n",
    "    function(x)\n",
    "         f(x)\n",
    "```"
   ]
  },
  {
   "cell_type": "code",
   "execution_count": 7,
   "metadata": {},
   "outputs": [
    {
     "data": {
      "text/plain": [
       "\u001b[36mres6_0\u001b[39m: \u001b[32mFun\u001b[39m = \u001b[33mFun\u001b[39m(\u001b[32m\"f\"\u001b[39m, \u001b[33mFun\u001b[39m(\u001b[32m\"x\"\u001b[39m, \u001b[33mCall\u001b[39m(\u001b[33mIdent\u001b[39m(\u001b[32m\"f\"\u001b[39m), \u001b[33mIdent\u001b[39m(\u001b[32m\"x\"\u001b[39m))))\n",
       "\u001b[36mres6_1\u001b[39m: \u001b[32mInt\u001b[39m => \u001b[32mInt\u001b[39m => \u001b[32mInt\u001b[39m => \u001b[32mInt\u001b[39m = ammonite.$sess.cmd6$Helper$$Lambda$2699/1043028952@576209c9"
      ]
     },
     "execution_count": 7,
     "metadata": {},
     "output_type": "execute_result"
    }
   ],
   "source": [
    "// Lambda Calclus ( just the abstract syntax tree ) \n",
    "Fun(\"f\", Fun(\"x\", Call(Ident(\"f\"), Ident(\"x\"))))\n",
    "\n",
    "// scala \n",
    "(f => x => f(x)) : ((Int => Int) => Int => Int)"
   ]
  },
  {
   "cell_type": "markdown",
   "metadata": {},
   "source": [
    "#### Program 6\n",
    "Lambda calculus:\n",
    "\n",
    ">($\\lambda$ f . $\\lambda$ x . f x) ($\\lambda$ x . x + 1) 1\n",
    "\n",
    "Lettuce :\n",
    "```\n",
    "( function(f)\n",
    "    function(x)\n",
    "        f(x)\n",
    ")\n",
    "( function(x) x + 1 )\n",
    "1\n",
    "```"
   ]
  },
  {
   "cell_type": "code",
   "execution_count": 8,
   "metadata": {},
   "outputs": [
    {
     "data": {
      "text/plain": [
       "\u001b[36mres7_0\u001b[39m: \u001b[32mCall\u001b[39m = \u001b[33mCall\u001b[39m(\n",
       "  \u001b[33mCall\u001b[39m(\n",
       "    \u001b[33mFun\u001b[39m(\u001b[32m\"f\"\u001b[39m, \u001b[33mFun\u001b[39m(\u001b[32m\"x\"\u001b[39m, \u001b[33mCall\u001b[39m(\u001b[33mIdent\u001b[39m(\u001b[32m\"f\"\u001b[39m), \u001b[33mIdent\u001b[39m(\u001b[32m\"x\"\u001b[39m)))),\n",
       "    \u001b[33mFun\u001b[39m(\u001b[32m\"x\"\u001b[39m, \u001b[33mPlus\u001b[39m(\u001b[33mIdent\u001b[39m(\u001b[32m\"x\"\u001b[39m), \u001b[33mConst\u001b[39m(\u001b[32m1\u001b[39m)))\n",
       "  ),\n",
       "  \u001b[33mConst\u001b[39m(\u001b[32m1\u001b[39m)\n",
       ")\n",
       "\u001b[36mres7_1\u001b[39m: \u001b[32mInt\u001b[39m = \u001b[32m2\u001b[39m"
      ]
     },
     "execution_count": 8,
     "metadata": {},
     "output_type": "execute_result"
    }
   ],
   "source": [
    "// Lambda Calclus \n",
    "// Lambda calculus\n",
    "Call(\n",
    "  Call(\n",
    "    Fun(\"f\", Fun(\"x\", Call(Ident(\"f\"), Ident(\"x\")))),\n",
    "      Fun(\"x\", Plus( Ident(\"x\"), Const(1)))),\n",
    "    Const(1)\n",
    " )\n",
    "\n",
    "// Scala\n",
    "((f => x => f(x) ) : ((Int => Int) => Int => Int)) ((x : Int) => x + 1) (1)"
   ]
  },
  {
   "cell_type": "code",
   "execution_count": null,
   "metadata": {
    "collapsed": true
   },
   "outputs": [],
   "source": []
  }
 ],
 "metadata": {
  "kernelspec": {
   "display_name": "Scala",
   "language": "scala",
   "name": "scala"
  },
  "language_info": {
   "codemirror_mode": "text/x-scala",
   "file_extension": ".scala",
   "mimetype": "text/x-scala",
   "name": "scala",
   "nbconvert_exporter": "script",
   "version": "2.12.10"
  }
 },
 "nbformat": 4,
 "nbformat_minor": 2
}
